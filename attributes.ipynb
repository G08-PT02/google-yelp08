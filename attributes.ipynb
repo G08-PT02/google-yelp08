{
 "cells": [
  {
   "cell_type": "code",
   "execution_count": 19,
   "metadata": {},
   "outputs": [],
   "source": [
    "import pandas as pd\n",
    "import ast"
   ]
  },
  {
   "cell_type": "code",
   "execution_count": 33,
   "metadata": {},
   "outputs": [],
   "source": [
    "df = pd.read_csv('Restaurantes_Yelp.csv')"
   ]
  },
  {
   "cell_type": "code",
   "execution_count": 34,
   "metadata": {},
   "outputs": [
    {
     "data": {
      "text/plain": [
       "Index(['business_id', 'name', 'address', 'city', 'state', 'postal_code',\n",
       "       'latitude', 'longitude', 'stars', 'review_count', 'is_open',\n",
       "       'attributes', 'categories', 'hours'],\n",
       "      dtype='object')"
      ]
     },
     "execution_count": 34,
     "metadata": {},
     "output_type": "execute_result"
    }
   ],
   "source": [
    "df.columns"
   ]
  },
  {
   "cell_type": "code",
   "execution_count": 37,
   "metadata": {},
   "outputs": [
    {
     "data": {
      "text/plain": [
       "{'RestaurantsGoodForGroups': 'True',\n",
       " 'RestaurantsTakeOut': 'True',\n",
       " 'RestaurantsAttire': \"'casual'\",\n",
       " 'NoiseLevel': \"u'average'\",\n",
       " 'OutdoorSeating': 'True',\n",
       " 'BikeParking': 'True',\n",
       " 'BusinessParking': \"{'garage': False, 'street': False, 'validated': False, 'lot': True, 'valet': False}\",\n",
       " 'RestaurantsPriceRange2': '2',\n",
       " 'Caters': 'True',\n",
       " 'GoodForKids': 'True',\n",
       " 'RestaurantsReservations': 'True',\n",
       " 'BusinessAcceptsCreditCards': 'True',\n",
       " 'Alcohol': \"'full_bar'\",\n",
       " 'GoodForMeal': \"{'dessert': None, 'latenight': False, 'lunch': True, 'dinner': True, 'brunch': None, 'breakfast': False}\",\n",
       " 'RestaurantsTableService': 'True',\n",
       " 'HappyHour': 'True',\n",
       " 'WiFi': \"u'free'\",\n",
       " 'DogsAllowed': 'False',\n",
       " 'Ambience': \"{u'divey': False, u'hipster': False, u'casual': True, u'touristy': False, u'trendy': False, u'intimate': False, u'romantic': None, u'classy': None, u'upscale': False}\",\n",
       " 'RestaurantsDelivery': 'True',\n",
       " 'HasTV': 'True'}"
      ]
     },
     "execution_count": 37,
     "metadata": {},
     "output_type": "execute_result"
    }
   ],
   "source": [
    "df['attributes'][1]"
   ]
  },
  {
   "cell_type": "code",
   "execution_count": 36,
   "metadata": {},
   "outputs": [],
   "source": [
    "df['attributes'] = df['attributes'].fillna('{}').apply(ast.literal_eval) #Completamos los valores faltantes en esta columna con '{}'\n",
    "\n",
    "\n",
    "def convert_to_dict(val):\n",
    "    # Transformamos en diccionarios reales los strings que parecen diccionarios\n",
    "    if isinstance(val, str) and val.startswith(\"{\") and val.endswith(\"}\"):\n",
    "        return ast.literal_eval(val)\n",
    "    return val\n",
    "\n",
    "df['attributes'] = df['attributes'].apply(convert_to_dict)"
   ]
  },
  {
   "cell_type": "code",
   "execution_count": 38,
   "metadata": {},
   "outputs": [],
   "source": [
    "df_expanded = pd.json_normalize(df['attributes'].tolist()) #Combierte la columna en una lista de diccionarios y json_normalize pasa los valores a columnas\n",
    "result_df = pd.concat([df.drop('attributes', axis=1), df_expanded], axis=1) #Combinamos el df original con el nuevo que tiene las columnas separadas"
   ]
  },
  {
   "cell_type": "code",
   "execution_count": 42,
   "metadata": {},
   "outputs": [
    {
     "data": {
      "text/plain": [
       "Index(['business_id', 'RestaurantsDelivery', 'OutdoorSeating',\n",
       "       'BusinessAcceptsCreditCards', 'BusinessParking', 'BikeParking',\n",
       "       'RestaurantsPriceRange2', 'RestaurantsTakeOut', 'ByAppointmentOnly',\n",
       "       'WiFi', 'Alcohol', 'Caters', 'RestaurantsGoodForGroups',\n",
       "       'RestaurantsAttire', 'NoiseLevel', 'GoodForKids',\n",
       "       'RestaurantsReservations', 'GoodForMeal', 'RestaurantsTableService',\n",
       "       'HappyHour', 'DogsAllowed', 'Ambience', 'HasTV',\n",
       "       'BusinessAcceptsBitcoin', 'WheelchairAccessible', 'BYOB', 'DriveThru',\n",
       "       'GoodForDancing', 'Music', 'CoatCheck', 'BestNights', 'Smoking',\n",
       "       'BYOBCorkage', 'Corkage', 'Open24Hours', 'DietaryRestrictions',\n",
       "       'AgesAllowed', 'RestaurantsCounterService', 'AcceptsInsurance'],\n",
       "      dtype='object')"
      ]
     },
     "execution_count": 42,
     "metadata": {},
     "output_type": "execute_result"
    }
   ],
   "source": [
    "columns_to_drop = ['name', 'address', 'city', 'state', 'postal_code', 'latitude', 'longitude', 'stars', 'review_count', 'is_open', 'categories', 'hours'] #Eliminamos las columnas que no nos interesan\n",
    "result_df = result_df.drop(columns=columns_to_drop)\n",
    "result_df.columns"
   ]
  },
  {
   "cell_type": "code",
   "execution_count": 44,
   "metadata": {},
   "outputs": [
    {
     "name": "stdout",
     "output_type": "stream",
     "text": [
      "<class 'pandas.core.frame.DataFrame'>\n",
      "RangeIndex: 15290 entries, 0 to 15289\n",
      "Data columns (total 39 columns):\n",
      " #   Column                      Non-Null Count  Dtype \n",
      "---  ------                      --------------  ----- \n",
      " 0   business_id                 15290 non-null  object\n",
      " 1   RestaurantsDelivery         13928 non-null  object\n",
      " 2   OutdoorSeating              12767 non-null  object\n",
      " 3   BusinessAcceptsCreditCards  13156 non-null  object\n",
      " 4   BusinessParking             13134 non-null  object\n",
      " 5   BikeParking                 9726 non-null   object\n",
      " 6   RestaurantsPriceRange2      13046 non-null  object\n",
      " 7   RestaurantsTakeOut          14254 non-null  object\n",
      " 8   ByAppointmentOnly           709 non-null    object\n",
      " 9   WiFi                        10573 non-null  object\n",
      " 10  Alcohol                     11596 non-null  object\n",
      " 11  Caters                      9590 non-null   object\n",
      " 12  RestaurantsGoodForGroups    12437 non-null  object\n",
      " 13  RestaurantsAttire           11743 non-null  object\n",
      " 14  NoiseLevel                  10174 non-null  object\n",
      " 15  GoodForKids                 12311 non-null  object\n",
      " 16  RestaurantsReservations     12742 non-null  object\n",
      " 17  GoodForMeal                 8146 non-null   object\n",
      " 18  RestaurantsTableService     5286 non-null   object\n",
      " 19  HappyHour                   3132 non-null   object\n",
      " 20  DogsAllowed                 2779 non-null   object\n",
      " 21  Ambience                    12191 non-null  object\n",
      " 22  HasTV                       12211 non-null  object\n",
      " 23  BusinessAcceptsBitcoin      1494 non-null   object\n",
      " 24  WheelchairAccessible        3208 non-null   object\n",
      " 25  BYOB                        1029 non-null   object\n",
      " 26  DriveThru                   1685 non-null   object\n",
      " 27  GoodForDancing              574 non-null    object\n",
      " 28  Music                       934 non-null    object\n",
      " 29  CoatCheck                   767 non-null    object\n",
      " 30  BestNights                  750 non-null    object\n",
      " 31  Smoking                     570 non-null    object\n",
      " 32  BYOBCorkage                 428 non-null    object\n",
      " 33  Corkage                     871 non-null    object\n",
      " 34  Open24Hours                 4 non-null      object\n",
      " 35  DietaryRestrictions         4 non-null      object\n",
      " 36  AgesAllowed                 15 non-null     object\n",
      " 37  RestaurantsCounterService   6 non-null      object\n",
      " 38  AcceptsInsurance            1 non-null      object\n",
      "dtypes: object(39)\n",
      "memory usage: 4.5+ MB\n"
     ]
    }
   ],
   "source": [
    "result_df.info()"
   ]
  },
  {
   "cell_type": "code",
   "execution_count": 45,
   "metadata": {},
   "outputs": [],
   "source": [
    "result_df.to_csv('attributes.csv')"
   ]
  }
 ],
 "metadata": {
  "kernelspec": {
   "display_name": "Python 3",
   "language": "python",
   "name": "python3"
  },
  "language_info": {
   "codemirror_mode": {
    "name": "ipython",
    "version": 3
   },
   "file_extension": ".py",
   "mimetype": "text/x-python",
   "name": "python",
   "nbconvert_exporter": "python",
   "pygments_lexer": "ipython3",
   "version": "3.11.1"
  },
  "orig_nbformat": 4
 },
 "nbformat": 4,
 "nbformat_minor": 2
}
