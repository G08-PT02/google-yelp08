{
 "cells": [
  {
   "cell_type": "code",
   "execution_count": 1,
   "metadata": {},
   "outputs": [],
   "source": [
    "import spacy"
   ]
  },
  {
   "cell_type": "code",
   "execution_count": 5,
   "metadata": {},
   "outputs": [],
   "source": [
    "def extraer_palabras_clave(texto):\n",
    "    # Cargar el modelo en español\n",
    "    nlp = spacy.load(\"es_core_news_sm\")\n",
    "    \n",
    "    # Procesar el texto\n",
    "    doc = nlp(texto)\n",
    "    \n",
    "    # Lista para almacenar las palabras clave\n",
    "    palabras_clave = []\n",
    "    \n",
    "    # Iterar sobre las entidades con etiquetas relevantes\n",
    "    for entity in doc.ents:\n",
    "        if entity.label_ in ['PER', 'ORG', 'LOC']:\n",
    "            palabras_clave.append(entity.text)\n",
    "    \n",
    "    return palabras_clave"
   ]
  },
  {
   "cell_type": "code",
   "execution_count": 7,
   "metadata": {},
   "outputs": [
    {
     "name": "stdout",
     "output_type": "stream",
     "text": [
      "Palabras clave: []\n"
     ]
    }
   ],
   "source": [
    "texto_ejemplo = \"tengo ganas de comer sushi y tomar unaa cerveza.\"\n",
    "palabras_clave = extraer_palabras_clave(texto_ejemplo)\n",
    "print(\"Palabras clave:\", palabras_clave)"
   ]
  }
 ],
 "metadata": {
  "kernelspec": {
   "display_name": "ProyectML",
   "language": "python",
   "name": "python3"
  },
  "language_info": {
   "codemirror_mode": {
    "name": "ipython",
    "version": 3
   },
   "file_extension": ".py",
   "mimetype": "text/x-python",
   "name": "python",
   "nbconvert_exporter": "python",
   "pygments_lexer": "ipython3",
   "version": "3.8.18"
  },
  "orig_nbformat": 4
 },
 "nbformat": 4,
 "nbformat_minor": 2
}
