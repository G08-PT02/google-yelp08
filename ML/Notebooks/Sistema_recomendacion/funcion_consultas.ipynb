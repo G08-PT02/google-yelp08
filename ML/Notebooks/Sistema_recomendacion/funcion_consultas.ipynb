{
 "cells": [
  {
   "cell_type": "code",
   "execution_count": 1,
   "metadata": {},
   "outputs": [],
   "source": [
    "from google.cloud import bigquery\n",
    "import pandas as pd\n",
    "import os"
   ]
  },
  {
   "cell_type": "code",
   "execution_count": 29,
   "metadata": {},
   "outputs": [],
   "source": [
    "def consulta():\n",
    "    os.environ[\"GOOGLE_APPLICATION_CREDENTIALS\"] = \"../ETL/credencial.json\"\n",
    "\n",
    "    client = bigquery.Client()\n",
    "\n",
    "    db = 'restaurant_staging_dataset'\n",
    "    tb_names = 'restaurants_dim'\n",
    "    tb_geo = 'geographical_data_dim'\n",
    "    tb_cat_google ='category_google_dim'\n",
    "    tb_cat_yelp = 'category_yelp_dim'\n",
    "    tb_atr_google = 'attributes_google_dim'\n",
    "    tb_atr_yelp = 'attributes_yelp_dim'\n",
    "\n",
    "    query = f\"\"\"\n",
    "    SELECT\n",
    "            name.name,\n",
    "            geo.latitude,\n",
    "            geo.longitude\n",
    "    FROM\n",
    "    `{db}.{tb_names}` AS name\n",
    "    JOIN\n",
    "    `{db}.{tb_geo}` AS geo\n",
    "    ON\n",
    "    name.business_id = geo.business_id;\n",
    "\n",
    "    \"\"\"\n",
    "\n",
    "    query_job = client.query(query)\n",
    "    results = query_job.result()\n",
    "\n",
    "    rows = []\n",
    "    for row in results:\n",
    "        rows.append(row)\n",
    "\n",
    "    results_df = pd.DataFrame(data=[list(x.values()) for x in rows], columns=list(rows[0].keys()))\n",
    "    return results_df"
   ]
  },
  {
   "cell_type": "code",
   "execution_count": 3,
   "metadata": {},
   "outputs": [
    {
     "data": {
      "text/plain": [
       "\"\\nproject_id = 'pure-hue-399113'\\ndataset_id = 'datos_crudos_google'\\ntable_id = 'cualidades_google_crudo'\\nlimite = 10\\n\""
      ]
     },
     "execution_count": 3,
     "metadata": {},
     "output_type": "execute_result"
    }
   ],
   "source": [
    "'''\n",
    "project_id = 'pure-hue-399113'\n",
    "dataset_id = 'datos_crudos_google'\n",
    "table_id = 'cualidades_google_crudo'\n",
    "limite = 10\n",
    "'''"
   ]
  },
  {
   "cell_type": "code",
   "execution_count": 30,
   "metadata": {},
   "outputs": [],
   "source": [
    "df = consulta()"
   ]
  },
  {
   "cell_type": "code",
   "execution_count": 31,
   "metadata": {},
   "outputs": [
    {
     "data": {
      "text/plain": [
       "53490"
      ]
     },
     "execution_count": 31,
     "metadata": {},
     "output_type": "execute_result"
    }
   ],
   "source": [
    "len(df)"
   ]
  },
  {
   "cell_type": "code",
   "execution_count": 32,
   "metadata": {},
   "outputs": [
    {
     "data": {
      "text/html": [
       "<div>\n",
       "<style scoped>\n",
       "    .dataframe tbody tr th:only-of-type {\n",
       "        vertical-align: middle;\n",
       "    }\n",
       "\n",
       "    .dataframe tbody tr th {\n",
       "        vertical-align: top;\n",
       "    }\n",
       "\n",
       "    .dataframe thead th {\n",
       "        text-align: right;\n",
       "    }\n",
       "</style>\n",
       "<table border=\"1\" class=\"dataframe\">\n",
       "  <thead>\n",
       "    <tr style=\"text-align: right;\">\n",
       "      <th></th>\n",
       "      <th>name</th>\n",
       "      <th>latitude</th>\n",
       "      <th>longitude</th>\n",
       "    </tr>\n",
       "  </thead>\n",
       "  <tbody>\n",
       "    <tr>\n",
       "      <th>0</th>\n",
       "      <td>$</td>\n",
       "      <td>26.348095</td>\n",
       "      <td>-80.084331</td>\n",
       "    </tr>\n",
       "    <tr>\n",
       "      <th>1</th>\n",
       "      <td>.</td>\n",
       "      <td>42.138498</td>\n",
       "      <td>-87.962940</td>\n",
       "    </tr>\n",
       "    <tr>\n",
       "      <th>2</th>\n",
       "      <td>M</td>\n",
       "      <td>40.798193</td>\n",
       "      <td>-74.014895</td>\n",
       "    </tr>\n",
       "    <tr>\n",
       "      <th>3</th>\n",
       "      <td>JW</td>\n",
       "      <td>47.337044</td>\n",
       "      <td>-122.593467</td>\n",
       "    </tr>\n",
       "    <tr>\n",
       "      <th>4</th>\n",
       "      <td>PT</td>\n",
       "      <td>40.712621</td>\n",
       "      <td>-73.962286</td>\n",
       "    </tr>\n",
       "  </tbody>\n",
       "</table>\n",
       "</div>"
      ],
      "text/plain": [
       "  name   latitude   longitude\n",
       "0    $  26.348095  -80.084331\n",
       "1    .  42.138498  -87.962940\n",
       "2    M  40.798193  -74.014895\n",
       "3   JW  47.337044 -122.593467\n",
       "4   PT  40.712621  -73.962286"
      ]
     },
     "execution_count": 32,
     "metadata": {},
     "output_type": "execute_result"
    }
   ],
   "source": [
    "df.head()"
   ]
  }
 ],
 "metadata": {
  "kernelspec": {
   "display_name": "ProyectML",
   "language": "python",
   "name": "python3"
  },
  "language_info": {
   "codemirror_mode": {
    "name": "ipython",
    "version": 3
   },
   "file_extension": ".py",
   "mimetype": "text/x-python",
   "name": "python",
   "nbconvert_exporter": "python",
   "pygments_lexer": "ipython3",
   "version": "3.8.18"
  },
  "orig_nbformat": 4
 },
 "nbformat": 4,
 "nbformat_minor": 2
}
