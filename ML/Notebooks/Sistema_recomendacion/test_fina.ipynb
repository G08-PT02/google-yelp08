{
 "cells": [
  {
   "cell_type": "code",
   "execution_count": 1,
   "metadata": {},
   "outputs": [],
   "source": [
    "from clase_recomendacion import recomendacion\n",
    "import importlib\n",
    "import pandas as pd"
   ]
  },
  {
   "cell_type": "code",
   "execution_count": 2,
   "metadata": {},
   "outputs": [
    {
     "ename": "TypeError",
     "evalue": "reload() argument must be a module",
     "output_type": "error",
     "traceback": [
      "\u001b[1;31m---------------------------------------------------------------------------\u001b[0m",
      "\u001b[1;31mTypeError\u001b[0m                                 Traceback (most recent call last)",
      "\u001b[1;32mc:\\Repositorios\\repositorio-henry\\google-yelp08\\ML\\Notebooks\\Sistema_recomendacion\\test_fina.ipynb Cell 2\u001b[0m line \u001b[0;36m1\n\u001b[1;32m----> <a href='vscode-notebook-cell:/c%3A/Repositorios/repositorio-henry/google-yelp08/ML/Notebooks/Sistema_recomendacion/test_fina.ipynb#W1sZmlsZQ%3D%3D?line=0'>1</a>\u001b[0m recomendacion \u001b[39m=\u001b[39m importlib\u001b[39m.\u001b[39;49mreload(recomendacion)\n",
      "File \u001b[1;32mc:\\Users\\guill\\anaconda3\\envs\\ProyectML\\lib\\importlib\\__init__.py:140\u001b[0m, in \u001b[0;36mreload\u001b[1;34m(module)\u001b[0m\n\u001b[0;32m    134\u001b[0m \u001b[39m\u001b[39m\u001b[39m\"\"\"Reload the module and return it.\u001b[39;00m\n\u001b[0;32m    135\u001b[0m \n\u001b[0;32m    136\u001b[0m \u001b[39mThe module must have been successfully imported before.\u001b[39;00m\n\u001b[0;32m    137\u001b[0m \n\u001b[0;32m    138\u001b[0m \u001b[39m\"\"\"\u001b[39;00m\n\u001b[0;32m    139\u001b[0m \u001b[39mif\u001b[39;00m \u001b[39mnot\u001b[39;00m module \u001b[39mor\u001b[39;00m \u001b[39mnot\u001b[39;00m \u001b[39misinstance\u001b[39m(module, types\u001b[39m.\u001b[39mModuleType):\n\u001b[1;32m--> 140\u001b[0m     \u001b[39mraise\u001b[39;00m \u001b[39mTypeError\u001b[39;00m(\u001b[39m\"\u001b[39m\u001b[39mreload() argument must be a module\u001b[39m\u001b[39m\"\u001b[39m)\n\u001b[0;32m    141\u001b[0m \u001b[39mtry\u001b[39;00m:\n\u001b[0;32m    142\u001b[0m     name \u001b[39m=\u001b[39m module\u001b[39m.\u001b[39m__spec__\u001b[39m.\u001b[39mname\n",
      "\u001b[1;31mTypeError\u001b[0m: reload() argument must be a module"
     ]
    }
   ],
   "source": [
    "recomendacion = importlib.reload(recomendacion)"
   ]
  },
  {
   "cell_type": "code",
   "execution_count": 3,
   "metadata": {},
   "outputs": [
    {
     "name": "stderr",
     "output_type": "stream",
     "text": [
      "c:\\Users\\guill\\anaconda3\\envs\\ProyectML\\lib\\site-packages\\tqdm\\auto.py:21: TqdmWarning: IProgress not found. Please update jupyter and ipywidgets. See https://ipywidgets.readthedocs.io/en/stable/user_install.html\n",
      "  from .autonotebook import tqdm as notebook_tqdm\n"
     ]
    }
   ],
   "source": [
    "recom = recomendacion()"
   ]
  },
  {
   "cell_type": "code",
   "execution_count": 3,
   "metadata": {},
   "outputs": [
    {
     "data": {
      "text/html": [
       "<div>\n",
       "<style scoped>\n",
       "    .dataframe tbody tr th:only-of-type {\n",
       "        vertical-align: middle;\n",
       "    }\n",
       "\n",
       "    .dataframe tbody tr th {\n",
       "        vertical-align: top;\n",
       "    }\n",
       "\n",
       "    .dataframe thead th {\n",
       "        text-align: right;\n",
       "    }\n",
       "</style>\n",
       "<table border=\"1\" class=\"dataframe\">\n",
       "  <thead>\n",
       "    <tr style=\"text-align: right;\">\n",
       "      <th></th>\n",
       "      <th>name</th>\n",
       "      <th>address</th>\n",
       "      <th>gmap_id</th>\n",
       "      <th>description</th>\n",
       "      <th>latitude</th>\n",
       "      <th>longitude</th>\n",
       "      <th>category</th>\n",
       "      <th>price</th>\n",
       "      <th>hours</th>\n",
       "      <th>MISC</th>\n",
       "      <th>url</th>\n",
       "    </tr>\n",
       "  </thead>\n",
       "  <tbody>\n",
       "    <tr>\n",
       "      <th>0</th>\n",
       "      <td>Roux's Roadhouse 73</td>\n",
       "      <td>Roux's Roadhouse 73, 784 WI-73, Nekoosa, WI 54457</td>\n",
       "      <td>0x88008ff5b3c52fd3:0xdbe482cf9fb221db</td>\n",
       "      <td>None</td>\n",
       "      <td>44.306954</td>\n",
       "      <td>-89.845783</td>\n",
       "      <td>['Restaurant']</td>\n",
       "      <td>None</td>\n",
       "      <td>[['Thursday', '12–11PM'], ['Friday', '12PM–12A...</td>\n",
       "      <td>{'Service options': ['Takeout', 'Dine-in', 'De...</td>\n",
       "      <td>https://www.google.com/maps/place//data=!4m2!3...</td>\n",
       "    </tr>\n",
       "    <tr>\n",
       "      <th>1</th>\n",
       "      <td>Rita Supermarket and restaurants #2</td>\n",
       "      <td>Rita Supermarket and restaurants #2, 422 Belmo...</td>\n",
       "      <td>0x89e24fa02483a9ab:0x718d70964f700fd6</td>\n",
       "      <td>None</td>\n",
       "      <td>42.986138</td>\n",
       "      <td>-71.445091</td>\n",
       "      <td>['Restaurant']</td>\n",
       "      <td>None</td>\n",
       "      <td>[['Thursday', '8:30AM–7PM'], ['Friday', '8:30A...</td>\n",
       "      <td>{'Service options': ['Takeout'], 'Popular for'...</td>\n",
       "      <td>https://www.google.com/maps/place//data=!4m2!3...</td>\n",
       "    </tr>\n",
       "    <tr>\n",
       "      <th>2</th>\n",
       "      <td>Mr Scott’s Tavern &amp; Grill</td>\n",
       "      <td>Mr Scott’s Tavern &amp; Grill, W7318 WI-86, Tomaha...</td>\n",
       "      <td>0x4d557136b874c5db:0x34af0bdfbe0c964c</td>\n",
       "      <td>None</td>\n",
       "      <td>45.453699</td>\n",
       "      <td>-89.796499</td>\n",
       "      <td>['Restaurant']</td>\n",
       "      <td>None</td>\n",
       "      <td>[['Thursday', '2–10PM'], ['Friday', '2–10PM'],...</td>\n",
       "      <td>{'Service options': ['Takeout', 'Dine-in', 'De...</td>\n",
       "      <td>https://www.google.com/maps/place//data=!4m2!3...</td>\n",
       "    </tr>\n",
       "    <tr>\n",
       "      <th>3</th>\n",
       "      <td>Chi Ku Pan-Asian Kitchen</td>\n",
       "      <td>Chi Ku Pan-Asian Kitchen, 1732 W 5400 S, Salt ...</td>\n",
       "      <td>0x87528be4d10bcaeb:0x9ef8dd3c99a7a5ad</td>\n",
       "      <td>None</td>\n",
       "      <td>40.653806</td>\n",
       "      <td>-111.939851</td>\n",
       "      <td>['Restaurant']</td>\n",
       "      <td>None</td>\n",
       "      <td>[['Thursday', '11AM–10PM'], ['Friday', '11AM–1...</td>\n",
       "      <td>{'Service options': ['Outdoor seating', 'Deliv...</td>\n",
       "      <td>https://www.google.com/maps/place//data=!4m2!3...</td>\n",
       "    </tr>\n",
       "    <tr>\n",
       "      <th>4</th>\n",
       "      <td>Man Yee Express</td>\n",
       "      <td>Man Yee Express, 121 Loudon Rd, Concord, NH 03301</td>\n",
       "      <td>0x89e26bceb6222f8d:0x4f09e6e878167429</td>\n",
       "      <td>None</td>\n",
       "      <td>43.214048</td>\n",
       "      <td>-71.512284</td>\n",
       "      <td>['Restaurant']</td>\n",
       "      <td>None</td>\n",
       "      <td>[['Thursday', '10AM–9:30PM'], ['Friday', '10AM...</td>\n",
       "      <td>{'Service options': ['Delivery', 'Takeout'], '...</td>\n",
       "      <td>https://www.google.com/maps/place//data=!4m2!3...</td>\n",
       "    </tr>\n",
       "  </tbody>\n",
       "</table>\n",
       "</div>"
      ],
      "text/plain": [
       "                                  name  \\\n",
       "0                  Roux's Roadhouse 73   \n",
       "1  Rita Supermarket and restaurants #2   \n",
       "2            Mr Scott’s Tavern & Grill   \n",
       "3             Chi Ku Pan-Asian Kitchen   \n",
       "4                      Man Yee Express   \n",
       "\n",
       "                                             address  \\\n",
       "0  Roux's Roadhouse 73, 784 WI-73, Nekoosa, WI 54457   \n",
       "1  Rita Supermarket and restaurants #2, 422 Belmo...   \n",
       "2  Mr Scott’s Tavern & Grill, W7318 WI-86, Tomaha...   \n",
       "3  Chi Ku Pan-Asian Kitchen, 1732 W 5400 S, Salt ...   \n",
       "4  Man Yee Express, 121 Loudon Rd, Concord, NH 03301   \n",
       "\n",
       "                                 gmap_id description   latitude   longitude  \\\n",
       "0  0x88008ff5b3c52fd3:0xdbe482cf9fb221db        None  44.306954  -89.845783   \n",
       "1  0x89e24fa02483a9ab:0x718d70964f700fd6        None  42.986138  -71.445091   \n",
       "2  0x4d557136b874c5db:0x34af0bdfbe0c964c        None  45.453699  -89.796499   \n",
       "3  0x87528be4d10bcaeb:0x9ef8dd3c99a7a5ad        None  40.653806 -111.939851   \n",
       "4  0x89e26bceb6222f8d:0x4f09e6e878167429        None  43.214048  -71.512284   \n",
       "\n",
       "         category price                                              hours  \\\n",
       "0  ['Restaurant']  None  [['Thursday', '12–11PM'], ['Friday', '12PM–12A...   \n",
       "1  ['Restaurant']  None  [['Thursday', '8:30AM–7PM'], ['Friday', '8:30A...   \n",
       "2  ['Restaurant']  None  [['Thursday', '2–10PM'], ['Friday', '2–10PM'],...   \n",
       "3  ['Restaurant']  None  [['Thursday', '11AM–10PM'], ['Friday', '11AM–1...   \n",
       "4  ['Restaurant']  None  [['Thursday', '10AM–9:30PM'], ['Friday', '10AM...   \n",
       "\n",
       "                                                MISC  \\\n",
       "0  {'Service options': ['Takeout', 'Dine-in', 'De...   \n",
       "1  {'Service options': ['Takeout'], 'Popular for'...   \n",
       "2  {'Service options': ['Takeout', 'Dine-in', 'De...   \n",
       "3  {'Service options': ['Outdoor seating', 'Deliv...   \n",
       "4  {'Service options': ['Delivery', 'Takeout'], '...   \n",
       "\n",
       "                                                 url  \n",
       "0  https://www.google.com/maps/place//data=!4m2!3...  \n",
       "1  https://www.google.com/maps/place//data=!4m2!3...  \n",
       "2  https://www.google.com/maps/place//data=!4m2!3...  \n",
       "3  https://www.google.com/maps/place//data=!4m2!3...  \n",
       "4  https://www.google.com/maps/place//data=!4m2!3...  "
      ]
     },
     "execution_count": 3,
     "metadata": {},
     "output_type": "execute_result"
    }
   ],
   "source": [
    "df = recom.consulta()\n",
    "df.head()"
   ]
  },
  {
   "cell_type": "code",
   "execution_count": 3,
   "metadata": {},
   "outputs": [
    {
     "data": {
      "text/plain": [
       "['sushi']"
      ]
     },
     "execution_count": 3,
     "metadata": {},
     "output_type": "execute_result"
    }
   ],
   "source": [
    "texto = 'i like sushi'\n",
    "palabras_clave = recom.keywords(texto)\n",
    "palabras_clave"
   ]
  },
  {
   "cell_type": "code",
   "execution_count": 9,
   "metadata": {},
   "outputs": [
    {
     "data": {
      "text/plain": [
       "[22,\n",
       " 53,\n",
       " 115,\n",
       " 136,\n",
       " 160,\n",
       " 192,\n",
       " 204,\n",
       " 206,\n",
       " 263,\n",
       " 307,\n",
       " 381,\n",
       " 568,\n",
       " 629,\n",
       " 743,\n",
       " 744,\n",
       " 757,\n",
       " 797,\n",
       " 820,\n",
       " 840,\n",
       " 935,\n",
       " 974,\n",
       " 1085,\n",
       " 1101,\n",
       " 1234,\n",
       " 1292,\n",
       " 1303,\n",
       " 1360,\n",
       " 1490,\n",
       " 1511,\n",
       " 1517,\n",
       " 1527,\n",
       " 1575,\n",
       " 1645,\n",
       " 1776,\n",
       " 1907,\n",
       " 2034,\n",
       " 2053,\n",
       " 2151,\n",
       " 2285,\n",
       " 2338,\n",
       " 2350,\n",
       " 2427,\n",
       " 2490,\n",
       " 2503,\n",
       " 2510,\n",
       " 2525,\n",
       " 2593,\n",
       " 2599,\n",
       " 2621,\n",
       " 2663,\n",
       " 2689,\n",
       " 2771,\n",
       " 2788,\n",
       " 2801,\n",
       " 2813,\n",
       " 2849,\n",
       " 2874,\n",
       " 2923,\n",
       " 3063,\n",
       " 3271,\n",
       " 3511,\n",
       " 3513,\n",
       " 4587,\n",
       " 4658,\n",
       " 4984,\n",
       " 5685,\n",
       " 5848,\n",
       " 6023,\n",
       " 6703,\n",
       " 7064,\n",
       " 7211,\n",
       " 7319,\n",
       " 7523,\n",
       " 7605,\n",
       " 7660,\n",
       " 7710,\n",
       " 7956,\n",
       " 8647,\n",
       " 9382,\n",
       " 9616,\n",
       " 9787,\n",
       " 10015,\n",
       " 10910,\n",
       " 11459,\n",
       " 12542,\n",
       " 12578,\n",
       " 12596,\n",
       " 12624,\n",
       " 12724,\n",
       " 13188,\n",
       " 13260,\n",
       " 13287,\n",
       " 13573,\n",
       " 13636,\n",
       " 13639,\n",
       " 13912,\n",
       " 14104,\n",
       " 14657,\n",
       " 15092,\n",
       " 15268,\n",
       " 15326,\n",
       " 16180,\n",
       " 16411,\n",
       " 16478,\n",
       " 16652,\n",
       " 17525,\n",
       " 17932,\n",
       " 18276,\n",
       " 18435,\n",
       " 18503,\n",
       " 18511]"
      ]
     },
     "execution_count": 9,
     "metadata": {},
     "output_type": "execute_result"
    }
   ],
   "source": [
    "indices = recom.search(palabras_clave)\n",
    "indices"
   ]
  },
  {
   "cell_type": "code",
   "execution_count": 13,
   "metadata": {},
   "outputs": [
    {
     "ename": "KeyError",
     "evalue": "('name', 'keywords')",
     "output_type": "error",
     "traceback": [
      "\u001b[1;31m---------------------------------------------------------------------------\u001b[0m",
      "\u001b[1;31mKeyError\u001b[0m                                  Traceback (most recent call last)",
      "File \u001b[1;32mc:\\Users\\guill\\anaconda3\\envs\\ProyectML\\lib\\site-packages\\pandas\\core\\indexes\\base.py:3653\u001b[0m, in \u001b[0;36mIndex.get_loc\u001b[1;34m(self, key)\u001b[0m\n\u001b[0;32m   3652\u001b[0m \u001b[39mtry\u001b[39;00m:\n\u001b[1;32m-> 3653\u001b[0m     \u001b[39mreturn\u001b[39;00m \u001b[39mself\u001b[39;49m\u001b[39m.\u001b[39;49m_engine\u001b[39m.\u001b[39;49mget_loc(casted_key)\n\u001b[0;32m   3654\u001b[0m \u001b[39mexcept\u001b[39;00m \u001b[39mKeyError\u001b[39;00m \u001b[39mas\u001b[39;00m err:\n",
      "File \u001b[1;32mc:\\Users\\guill\\anaconda3\\envs\\ProyectML\\lib\\site-packages\\pandas\\_libs\\index.pyx:147\u001b[0m, in \u001b[0;36mpandas._libs.index.IndexEngine.get_loc\u001b[1;34m()\u001b[0m\n",
      "File \u001b[1;32mc:\\Users\\guill\\anaconda3\\envs\\ProyectML\\lib\\site-packages\\pandas\\_libs\\index.pyx:176\u001b[0m, in \u001b[0;36mpandas._libs.index.IndexEngine.get_loc\u001b[1;34m()\u001b[0m\n",
      "File \u001b[1;32mpandas\\_libs\\hashtable_class_helper.pxi:7080\u001b[0m, in \u001b[0;36mpandas._libs.hashtable.PyObjectHashTable.get_item\u001b[1;34m()\u001b[0m\n",
      "File \u001b[1;32mpandas\\_libs\\hashtable_class_helper.pxi:7088\u001b[0m, in \u001b[0;36mpandas._libs.hashtable.PyObjectHashTable.get_item\u001b[1;34m()\u001b[0m\n",
      "\u001b[1;31mKeyError\u001b[0m: ('name', 'keywords')",
      "\nThe above exception was the direct cause of the following exception:\n",
      "\u001b[1;31mKeyError\u001b[0m                                  Traceback (most recent call last)",
      "\u001b[1;32mc:\\Repositorios\\repositorio-henry\\google-yelp08\\ML\\Sistema_recomendacion\\test_fina.ipynb Cell 6\u001b[0m line \u001b[0;36m1\n\u001b[1;32m----> <a href='vscode-notebook-cell:/c%3A/Repositorios/repositorio-henry/google-yelp08/ML/Sistema_recomendacion/test_fina.ipynb#W5sZmlsZQ%3D%3D?line=0'>1</a>\u001b[0m df[\u001b[39m'\u001b[39;49m\u001b[39mname\u001b[39;49m\u001b[39m'\u001b[39;49m,\u001b[39m'\u001b[39;49m\u001b[39mkeywords\u001b[39;49m\u001b[39m'\u001b[39;49m]\u001b[39m.\u001b[39mloc[indices]\n",
      "File \u001b[1;32mc:\\Users\\guill\\anaconda3\\envs\\ProyectML\\lib\\site-packages\\pandas\\core\\frame.py:3761\u001b[0m, in \u001b[0;36mDataFrame.__getitem__\u001b[1;34m(self, key)\u001b[0m\n\u001b[0;32m   3759\u001b[0m \u001b[39mif\u001b[39;00m \u001b[39mself\u001b[39m\u001b[39m.\u001b[39mcolumns\u001b[39m.\u001b[39mnlevels \u001b[39m>\u001b[39m \u001b[39m1\u001b[39m:\n\u001b[0;32m   3760\u001b[0m     \u001b[39mreturn\u001b[39;00m \u001b[39mself\u001b[39m\u001b[39m.\u001b[39m_getitem_multilevel(key)\n\u001b[1;32m-> 3761\u001b[0m indexer \u001b[39m=\u001b[39m \u001b[39mself\u001b[39;49m\u001b[39m.\u001b[39;49mcolumns\u001b[39m.\u001b[39;49mget_loc(key)\n\u001b[0;32m   3762\u001b[0m \u001b[39mif\u001b[39;00m is_integer(indexer):\n\u001b[0;32m   3763\u001b[0m     indexer \u001b[39m=\u001b[39m [indexer]\n",
      "File \u001b[1;32mc:\\Users\\guill\\anaconda3\\envs\\ProyectML\\lib\\site-packages\\pandas\\core\\indexes\\base.py:3655\u001b[0m, in \u001b[0;36mIndex.get_loc\u001b[1;34m(self, key)\u001b[0m\n\u001b[0;32m   3653\u001b[0m     \u001b[39mreturn\u001b[39;00m \u001b[39mself\u001b[39m\u001b[39m.\u001b[39m_engine\u001b[39m.\u001b[39mget_loc(casted_key)\n\u001b[0;32m   3654\u001b[0m \u001b[39mexcept\u001b[39;00m \u001b[39mKeyError\u001b[39;00m \u001b[39mas\u001b[39;00m err:\n\u001b[1;32m-> 3655\u001b[0m     \u001b[39mraise\u001b[39;00m \u001b[39mKeyError\u001b[39;00m(key) \u001b[39mfrom\u001b[39;00m \u001b[39merr\u001b[39;00m\n\u001b[0;32m   3656\u001b[0m \u001b[39mexcept\u001b[39;00m \u001b[39mTypeError\u001b[39;00m:\n\u001b[0;32m   3657\u001b[0m     \u001b[39m# If we have a listlike key, _check_indexing_error will raise\u001b[39;00m\n\u001b[0;32m   3658\u001b[0m     \u001b[39m#  InvalidIndexError. Otherwise we fall through and re-raise\u001b[39;00m\n\u001b[0;32m   3659\u001b[0m     \u001b[39m#  the TypeError.\u001b[39;00m\n\u001b[0;32m   3660\u001b[0m     \u001b[39mself\u001b[39m\u001b[39m.\u001b[39m_check_indexing_error(key)\n",
      "\u001b[1;31mKeyError\u001b[0m: ('name', 'keywords')"
     ]
    }
   ],
   "source": [
    "df['name','keywords'].loc[indices]"
   ]
  },
  {
   "cell_type": "markdown",
   "metadata": {},
   "source": [
    "***"
   ]
  },
  {
   "cell_type": "code",
   "execution_count": 1,
   "metadata": {},
   "outputs": [],
   "source": [
    "from clase_recomendacion import recomendacion"
   ]
  },
  {
   "cell_type": "code",
   "execution_count": 2,
   "metadata": {},
   "outputs": [],
   "source": [
    "recom = recomendacion()"
   ]
  },
  {
   "cell_type": "code",
   "execution_count": 3,
   "metadata": {},
   "outputs": [
    {
     "data": {
      "text/html": [
       "<div>\n",
       "<style scoped>\n",
       "    .dataframe tbody tr th:only-of-type {\n",
       "        vertical-align: middle;\n",
       "    }\n",
       "\n",
       "    .dataframe tbody tr th {\n",
       "        vertical-align: top;\n",
       "    }\n",
       "\n",
       "    .dataframe thead th {\n",
       "        text-align: right;\n",
       "    }\n",
       "</style>\n",
       "<table border=\"1\" class=\"dataframe\">\n",
       "  <thead>\n",
       "    <tr style=\"text-align: right;\">\n",
       "      <th></th>\n",
       "      <th>name</th>\n",
       "    </tr>\n",
       "  </thead>\n",
       "  <tbody>\n",
       "    <tr>\n",
       "      <th>0</th>\n",
       "      <td>Ron's Family Restaurant</td>\n",
       "    </tr>\n",
       "    <tr>\n",
       "      <th>1</th>\n",
       "      <td>Park Ridge Cafe</td>\n",
       "    </tr>\n",
       "    <tr>\n",
       "      <th>2</th>\n",
       "      <td>Papa John's Pizza</td>\n",
       "    </tr>\n",
       "    <tr>\n",
       "      <th>3</th>\n",
       "      <td>Franny's Family Restaurant &amp; Pancake House</td>\n",
       "    </tr>\n",
       "    <tr>\n",
       "      <th>4</th>\n",
       "      <td>Friendship Cafe</td>\n",
       "    </tr>\n",
       "  </tbody>\n",
       "</table>\n",
       "</div>"
      ],
      "text/plain": [
       "                                         name\n",
       "0                     Ron's Family Restaurant\n",
       "1                             Park Ridge Cafe\n",
       "2                           Papa John's Pizza\n",
       "3  Franny's Family Restaurant & Pancake House\n",
       "4                             Friendship Cafe"
      ]
     },
     "execution_count": 3,
     "metadata": {},
     "output_type": "execute_result"
    }
   ],
   "source": [
    "df = recom.main('sushi and salad',(44.3069541, -89.8457834))\n",
    "df"
   ]
  },
  {
   "cell_type": "code",
   "execution_count": 8,
   "metadata": {},
   "outputs": [
    {
     "data": {
      "text/html": [
       "<div>\n",
       "<style scoped>\n",
       "    .dataframe tbody tr th:only-of-type {\n",
       "        vertical-align: middle;\n",
       "    }\n",
       "\n",
       "    .dataframe tbody tr th {\n",
       "        vertical-align: top;\n",
       "    }\n",
       "\n",
       "    .dataframe thead th {\n",
       "        text-align: right;\n",
       "    }\n",
       "</style>\n",
       "<table border=\"1\" class=\"dataframe\">\n",
       "  <thead>\n",
       "    <tr style=\"text-align: right;\">\n",
       "      <th></th>\n",
       "      <th>business_id</th>\n",
       "      <th>name</th>\n",
       "      <th>coord</th>\n",
       "      <th>keywords</th>\n",
       "      <th>embedding</th>\n",
       "    </tr>\n",
       "  </thead>\n",
       "  <tbody>\n",
       "    <tr>\n",
       "      <th>0</th>\n",
       "      <td>0x88d8e21af668300b:0xea043d9812296a1f</td>\n",
       "      <td>$</td>\n",
       "      <td>(26.3480954, -80.0843315)</td>\n",
       "      <td>[american restaurant, good for kids]</td>\n",
       "      <td>[[-0.99531996, -1.1494, -2.63405, -0.592645, 4...</td>\n",
       "    </tr>\n",
       "    <tr>\n",
       "      <th>1</th>\n",
       "      <td>0x880fbbbb91b4b39f:0x2b65f95cb0a57126</td>\n",
       "      <td>.</td>\n",
       "      <td>(42.1384984, -87.9629398)</td>\n",
       "      <td>[mexican restaurant, takeout, delivery, dine-i...</td>\n",
       "      <td>[[-1.15987, -0.23539498, -2.703, -0.27396, 4.7...</td>\n",
       "    </tr>\n",
       "    <tr>\n",
       "      <th>2</th>\n",
       "      <td>0x89c25809c94cf79d:0x2a27a2a91276498f</td>\n",
       "      <td>M</td>\n",
       "      <td>(40.7981928, -74.0148954)</td>\n",
       "      <td>[wheelchair accessible entrance, late-night fo...</td>\n",
       "      <td>[[0.20344333, 1.46922, 0.56538635, -0.24149334...</td>\n",
       "    </tr>\n",
       "    <tr>\n",
       "      <th>3</th>\n",
       "      <td>0x549052beb33efd35:0xaaada7d2d2f2a33e</td>\n",
       "      <td>JW</td>\n",
       "      <td>(47.3370444, -122.5934667)</td>\n",
       "      <td>[american restaurant, delivery]</td>\n",
       "      <td>[[-0.99531996, -1.1494, -2.63405, -0.592645, 4...</td>\n",
       "    </tr>\n",
       "    <tr>\n",
       "      <th>4</th>\n",
       "      <td>0x89c25bdf7f35ecaf:0x214868dca2152cbe</td>\n",
       "      <td>PT</td>\n",
       "      <td>(40.7126207, -73.9622863)</td>\n",
       "      <td>[italian restaurant, delivery, bar onsite, res...</td>\n",
       "      <td>[[-2.58902, -1.02286, -0.30105, -0.675245, 4.8...</td>\n",
       "    </tr>\n",
       "  </tbody>\n",
       "</table>\n",
       "</div>"
      ],
      "text/plain": [
       "                             business_id name                       coord  \\\n",
       "0  0x88d8e21af668300b:0xea043d9812296a1f    $   (26.3480954, -80.0843315)   \n",
       "1  0x880fbbbb91b4b39f:0x2b65f95cb0a57126    .   (42.1384984, -87.9629398)   \n",
       "2  0x89c25809c94cf79d:0x2a27a2a91276498f    M   (40.7981928, -74.0148954)   \n",
       "3  0x549052beb33efd35:0xaaada7d2d2f2a33e   JW  (47.3370444, -122.5934667)   \n",
       "4  0x89c25bdf7f35ecaf:0x214868dca2152cbe   PT   (40.7126207, -73.9622863)   \n",
       "\n",
       "                                            keywords  \\\n",
       "0               [american restaurant, good for kids]   \n",
       "1  [mexican restaurant, takeout, delivery, dine-i...   \n",
       "2  [wheelchair accessible entrance, late-night fo...   \n",
       "3                    [american restaurant, delivery]   \n",
       "4  [italian restaurant, delivery, bar onsite, res...   \n",
       "\n",
       "                                           embedding  \n",
       "0  [[-0.99531996, -1.1494, -2.63405, -0.592645, 4...  \n",
       "1  [[-1.15987, -0.23539498, -2.703, -0.27396, 4.7...  \n",
       "2  [[0.20344333, 1.46922, 0.56538635, -0.24149334...  \n",
       "3  [[-0.99531996, -1.1494, -2.63405, -0.592645, 4...  \n",
       "4  [[-2.58902, -1.02286, -0.30105, -0.675245, 4.8...  "
      ]
     },
     "execution_count": 8,
     "metadata": {},
     "output_type": "execute_result"
    }
   ],
   "source": [
    "temp = pd.read_pickle('../Datasets_ML/Rest_final_ML.pickle')\n",
    "temp.head()"
   ]
  },
  {
   "cell_type": "code",
   "execution_count": 15,
   "metadata": {},
   "outputs": [
    {
     "data": {
      "text/plain": [
       "(2, 300)"
      ]
     },
     "execution_count": 15,
     "metadata": {},
     "output_type": "execute_result"
    }
   ],
   "source": [
    "temp['embedding'][0].shape"
   ]
  }
 ],
 "metadata": {
  "kernelspec": {
   "display_name": "ProyectML",
   "language": "python",
   "name": "python3"
  },
  "language_info": {
   "codemirror_mode": {
    "name": "ipython",
    "version": 3
   },
   "file_extension": ".py",
   "mimetype": "text/x-python",
   "name": "python",
   "nbconvert_exporter": "python",
   "pygments_lexer": "ipython3",
   "version": "3.9.18"
  },
  "orig_nbformat": 4
 },
 "nbformat": 4,
 "nbformat_minor": 2
}
