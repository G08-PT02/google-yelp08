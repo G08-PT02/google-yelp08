{
 "cells": [
  {
   "cell_type": "code",
   "execution_count": 1,
   "metadata": {},
   "outputs": [],
   "source": [
    "import pandas as pd\n",
    "from sklearn.metrics.pairwise import cosine_similarity\n",
    "import numpy as np\n",
    "import pandas as pd\n",
    "import spacy\n",
    "import torch\n",
    "from google.cloud import bigquery\n",
    "import os"
   ]
  },
  {
   "cell_type": "code",
   "execution_count": null,
   "metadata": {},
   "outputs": [],
   "source": [
    "\n",
    "os.environ[\"GOOGLE_APPLICATION_CREDENTIALS\"] = \"../ETL/credencial.json\"\n",
    "\n",
    "client = bigquery.Client()\n",
    "\n",
    "query = f\"\"\"\n",
    "        SELECT *\n",
    "        FROM `pure-hue-399113.restaurant_staging_dataset.restaurants_dim`\n",
    "        \"\"\"\n",
    "        \"\"\"\n",
    "        SELECT tp.*, ts1.*, ts2.*\n",
    "        FROM tabla_principal tp\n",
    "        LEFT JOIN tabla_secundaria1 ts1 ON tp.id = ts1.id_principal\n",
    "        LEFT JOIN tabla_secundaria2 ts2 ON tp.id = ts2.id_principal\n",
    "        WHERE tp.id = tu_id_aqui;\n",
    "        \"\"\"\n",
    "\n",
    "query_job = client.query(query)\n",
    "results = query_job.result()\n",
    "\n",
    "rows = []\n",
    "for row in results:\n",
    "    rows.append(row)\n",
    "\n",
    "results_df = pd.DataFrame(data=[list(x.values()) for x in rows], columns=list(rows[0].keys()))\n",
    "results_df"
   ]
  }
 ],
 "metadata": {
  "kernelspec": {
   "display_name": "ProyectML",
   "language": "python",
   "name": "python3"
  },
  "language_info": {
   "codemirror_mode": {
    "name": "ipython",
    "version": 3
   },
   "file_extension": ".py",
   "mimetype": "text/x-python",
   "name": "python",
   "nbconvert_exporter": "python",
   "pygments_lexer": "ipython3",
   "version": "3.8.18"
  }
 },
 "nbformat": 4,
 "nbformat_minor": 2
}
