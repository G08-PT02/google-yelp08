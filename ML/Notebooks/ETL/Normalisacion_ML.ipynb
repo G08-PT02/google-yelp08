{
 "cells": [
  {
   "cell_type": "code",
   "execution_count": 1,
   "metadata": {},
   "outputs": [],
   "source": [
    "import pandas as pd\n",
    "from sklearn.metrics.pairwise import cosine_similarity\n",
    "import numpy as np\n",
    "import pandas as pd\n",
    "import spacy\n",
    "import torch"
   ]
  },
  {
   "cell_type": "code",
   "execution_count": 11,
   "metadata": {},
   "outputs": [
    {
     "ename": "FileNotFoundError",
     "evalue": "[Errno 2] No such file or directory: '../Datasets/Restaurantes_Google.csv'",
     "output_type": "error",
     "traceback": [
      "\u001b[1;31m---------------------------------------------------------------------------\u001b[0m",
      "\u001b[1;31mFileNotFoundError\u001b[0m                         Traceback (most recent call last)",
      "\u001b[1;32mc:\\Repositorios\\repositorio-henry\\google-yelp08\\ML\\Notebooks\\ETL\\Normalisacion_ML.ipynb Cell 2\u001b[0m line \u001b[0;36m1\n\u001b[1;32m----> <a href='vscode-notebook-cell:/c%3A/Repositorios/repositorio-henry/google-yelp08/ML/Notebooks/ETL/Normalisacion_ML.ipynb#W1sZmlsZQ%3D%3D?line=0'>1</a>\u001b[0m Rest_google \u001b[39m=\u001b[39m pd\u001b[39m.\u001b[39;49mread_csv(\u001b[39m'\u001b[39;49m\u001b[39m../Datasets/Restaurantes_Google.csv\u001b[39;49m\u001b[39m'\u001b[39;49m,delimiter\u001b[39m=\u001b[39;49m\u001b[39m'\u001b[39;49m\u001b[39m,\u001b[39;49m\u001b[39m'\u001b[39;49m)\n\u001b[0;32m      <a href='vscode-notebook-cell:/c%3A/Repositorios/repositorio-henry/google-yelp08/ML/Notebooks/ETL/Normalisacion_ML.ipynb#W1sZmlsZQ%3D%3D?line=1'>2</a>\u001b[0m Rest_google\u001b[39m.\u001b[39mhead()\n",
      "File \u001b[1;32mc:\\Users\\guill\\anaconda3\\envs\\ProyectML\\lib\\site-packages\\pandas\\io\\parsers\\readers.py:912\u001b[0m, in \u001b[0;36mread_csv\u001b[1;34m(filepath_or_buffer, sep, delimiter, header, names, index_col, usecols, dtype, engine, converters, true_values, false_values, skipinitialspace, skiprows, skipfooter, nrows, na_values, keep_default_na, na_filter, verbose, skip_blank_lines, parse_dates, infer_datetime_format, keep_date_col, date_parser, date_format, dayfirst, cache_dates, iterator, chunksize, compression, thousands, decimal, lineterminator, quotechar, quoting, doublequote, escapechar, comment, encoding, encoding_errors, dialect, on_bad_lines, delim_whitespace, low_memory, memory_map, float_precision, storage_options, dtype_backend)\u001b[0m\n\u001b[0;32m    899\u001b[0m kwds_defaults \u001b[39m=\u001b[39m _refine_defaults_read(\n\u001b[0;32m    900\u001b[0m     dialect,\n\u001b[0;32m    901\u001b[0m     delimiter,\n\u001b[1;32m   (...)\u001b[0m\n\u001b[0;32m    908\u001b[0m     dtype_backend\u001b[39m=\u001b[39mdtype_backend,\n\u001b[0;32m    909\u001b[0m )\n\u001b[0;32m    910\u001b[0m kwds\u001b[39m.\u001b[39mupdate(kwds_defaults)\n\u001b[1;32m--> 912\u001b[0m \u001b[39mreturn\u001b[39;00m _read(filepath_or_buffer, kwds)\n",
      "File \u001b[1;32mc:\\Users\\guill\\anaconda3\\envs\\ProyectML\\lib\\site-packages\\pandas\\io\\parsers\\readers.py:577\u001b[0m, in \u001b[0;36m_read\u001b[1;34m(filepath_or_buffer, kwds)\u001b[0m\n\u001b[0;32m    574\u001b[0m _validate_names(kwds\u001b[39m.\u001b[39mget(\u001b[39m\"\u001b[39m\u001b[39mnames\u001b[39m\u001b[39m\"\u001b[39m, \u001b[39mNone\u001b[39;00m))\n\u001b[0;32m    576\u001b[0m \u001b[39m# Create the parser.\u001b[39;00m\n\u001b[1;32m--> 577\u001b[0m parser \u001b[39m=\u001b[39m TextFileReader(filepath_or_buffer, \u001b[39m*\u001b[39;49m\u001b[39m*\u001b[39;49mkwds)\n\u001b[0;32m    579\u001b[0m \u001b[39mif\u001b[39;00m chunksize \u001b[39mor\u001b[39;00m iterator:\n\u001b[0;32m    580\u001b[0m     \u001b[39mreturn\u001b[39;00m parser\n",
      "File \u001b[1;32mc:\\Users\\guill\\anaconda3\\envs\\ProyectML\\lib\\site-packages\\pandas\\io\\parsers\\readers.py:1407\u001b[0m, in \u001b[0;36mTextFileReader.__init__\u001b[1;34m(self, f, engine, **kwds)\u001b[0m\n\u001b[0;32m   1404\u001b[0m     \u001b[39mself\u001b[39m\u001b[39m.\u001b[39moptions[\u001b[39m\"\u001b[39m\u001b[39mhas_index_names\u001b[39m\u001b[39m\"\u001b[39m] \u001b[39m=\u001b[39m kwds[\u001b[39m\"\u001b[39m\u001b[39mhas_index_names\u001b[39m\u001b[39m\"\u001b[39m]\n\u001b[0;32m   1406\u001b[0m \u001b[39mself\u001b[39m\u001b[39m.\u001b[39mhandles: IOHandles \u001b[39m|\u001b[39m \u001b[39mNone\u001b[39;00m \u001b[39m=\u001b[39m \u001b[39mNone\u001b[39;00m\n\u001b[1;32m-> 1407\u001b[0m \u001b[39mself\u001b[39m\u001b[39m.\u001b[39m_engine \u001b[39m=\u001b[39m \u001b[39mself\u001b[39;49m\u001b[39m.\u001b[39;49m_make_engine(f, \u001b[39mself\u001b[39;49m\u001b[39m.\u001b[39;49mengine)\n",
      "File \u001b[1;32mc:\\Users\\guill\\anaconda3\\envs\\ProyectML\\lib\\site-packages\\pandas\\io\\parsers\\readers.py:1661\u001b[0m, in \u001b[0;36mTextFileReader._make_engine\u001b[1;34m(self, f, engine)\u001b[0m\n\u001b[0;32m   1659\u001b[0m     \u001b[39mif\u001b[39;00m \u001b[39m\"\u001b[39m\u001b[39mb\u001b[39m\u001b[39m\"\u001b[39m \u001b[39mnot\u001b[39;00m \u001b[39min\u001b[39;00m mode:\n\u001b[0;32m   1660\u001b[0m         mode \u001b[39m+\u001b[39m\u001b[39m=\u001b[39m \u001b[39m\"\u001b[39m\u001b[39mb\u001b[39m\u001b[39m\"\u001b[39m\n\u001b[1;32m-> 1661\u001b[0m \u001b[39mself\u001b[39m\u001b[39m.\u001b[39mhandles \u001b[39m=\u001b[39m get_handle(\n\u001b[0;32m   1662\u001b[0m     f,\n\u001b[0;32m   1663\u001b[0m     mode,\n\u001b[0;32m   1664\u001b[0m     encoding\u001b[39m=\u001b[39;49m\u001b[39mself\u001b[39;49m\u001b[39m.\u001b[39;49moptions\u001b[39m.\u001b[39;49mget(\u001b[39m\"\u001b[39;49m\u001b[39mencoding\u001b[39;49m\u001b[39m\"\u001b[39;49m, \u001b[39mNone\u001b[39;49;00m),\n\u001b[0;32m   1665\u001b[0m     compression\u001b[39m=\u001b[39;49m\u001b[39mself\u001b[39;49m\u001b[39m.\u001b[39;49moptions\u001b[39m.\u001b[39;49mget(\u001b[39m\"\u001b[39;49m\u001b[39mcompression\u001b[39;49m\u001b[39m\"\u001b[39;49m, \u001b[39mNone\u001b[39;49;00m),\n\u001b[0;32m   1666\u001b[0m     memory_map\u001b[39m=\u001b[39;49m\u001b[39mself\u001b[39;49m\u001b[39m.\u001b[39;49moptions\u001b[39m.\u001b[39;49mget(\u001b[39m\"\u001b[39;49m\u001b[39mmemory_map\u001b[39;49m\u001b[39m\"\u001b[39;49m, \u001b[39mFalse\u001b[39;49;00m),\n\u001b[0;32m   1667\u001b[0m     is_text\u001b[39m=\u001b[39;49mis_text,\n\u001b[0;32m   1668\u001b[0m     errors\u001b[39m=\u001b[39;49m\u001b[39mself\u001b[39;49m\u001b[39m.\u001b[39;49moptions\u001b[39m.\u001b[39;49mget(\u001b[39m\"\u001b[39;49m\u001b[39mencoding_errors\u001b[39;49m\u001b[39m\"\u001b[39;49m, \u001b[39m\"\u001b[39;49m\u001b[39mstrict\u001b[39;49m\u001b[39m\"\u001b[39;49m),\n\u001b[0;32m   1669\u001b[0m     storage_options\u001b[39m=\u001b[39;49m\u001b[39mself\u001b[39;49m\u001b[39m.\u001b[39;49moptions\u001b[39m.\u001b[39;49mget(\u001b[39m\"\u001b[39;49m\u001b[39mstorage_options\u001b[39;49m\u001b[39m\"\u001b[39;49m, \u001b[39mNone\u001b[39;49;00m),\n\u001b[0;32m   1670\u001b[0m )\n\u001b[0;32m   1671\u001b[0m \u001b[39massert\u001b[39;00m \u001b[39mself\u001b[39m\u001b[39m.\u001b[39mhandles \u001b[39mis\u001b[39;00m \u001b[39mnot\u001b[39;00m \u001b[39mNone\u001b[39;00m\n\u001b[0;32m   1672\u001b[0m f \u001b[39m=\u001b[39m \u001b[39mself\u001b[39m\u001b[39m.\u001b[39mhandles\u001b[39m.\u001b[39mhandle\n",
      "File \u001b[1;32mc:\\Users\\guill\\anaconda3\\envs\\ProyectML\\lib\\site-packages\\pandas\\io\\common.py:859\u001b[0m, in \u001b[0;36mget_handle\u001b[1;34m(path_or_buf, mode, encoding, compression, memory_map, is_text, errors, storage_options)\u001b[0m\n\u001b[0;32m    854\u001b[0m \u001b[39melif\u001b[39;00m \u001b[39misinstance\u001b[39m(handle, \u001b[39mstr\u001b[39m):\n\u001b[0;32m    855\u001b[0m     \u001b[39m# Check whether the filename is to be opened in binary mode.\u001b[39;00m\n\u001b[0;32m    856\u001b[0m     \u001b[39m# Binary mode does not support 'encoding' and 'newline'.\u001b[39;00m\n\u001b[0;32m    857\u001b[0m     \u001b[39mif\u001b[39;00m ioargs\u001b[39m.\u001b[39mencoding \u001b[39mand\u001b[39;00m \u001b[39m\"\u001b[39m\u001b[39mb\u001b[39m\u001b[39m\"\u001b[39m \u001b[39mnot\u001b[39;00m \u001b[39min\u001b[39;00m ioargs\u001b[39m.\u001b[39mmode:\n\u001b[0;32m    858\u001b[0m         \u001b[39m# Encoding\u001b[39;00m\n\u001b[1;32m--> 859\u001b[0m         handle \u001b[39m=\u001b[39m \u001b[39mopen\u001b[39;49m(\n\u001b[0;32m    860\u001b[0m             handle,\n\u001b[0;32m    861\u001b[0m             ioargs\u001b[39m.\u001b[39;49mmode,\n\u001b[0;32m    862\u001b[0m             encoding\u001b[39m=\u001b[39;49mioargs\u001b[39m.\u001b[39;49mencoding,\n\u001b[0;32m    863\u001b[0m             errors\u001b[39m=\u001b[39;49merrors,\n\u001b[0;32m    864\u001b[0m             newline\u001b[39m=\u001b[39;49m\u001b[39m\"\u001b[39;49m\u001b[39m\"\u001b[39;49m,\n\u001b[0;32m    865\u001b[0m         )\n\u001b[0;32m    866\u001b[0m     \u001b[39melse\u001b[39;00m:\n\u001b[0;32m    867\u001b[0m         \u001b[39m# Binary mode\u001b[39;00m\n\u001b[0;32m    868\u001b[0m         handle \u001b[39m=\u001b[39m \u001b[39mopen\u001b[39m(handle, ioargs\u001b[39m.\u001b[39mmode)\n",
      "\u001b[1;31mFileNotFoundError\u001b[0m: [Errno 2] No such file or directory: '../Datasets/Restaurantes_Google.csv'"
     ]
    }
   ],
   "source": [
    "Rest_google = pd.read_csv('../Datasets/Restaurantes_Google.csv',delimiter=',')\n",
    "Rest_google.head()"
   ]
  },
  {
   "cell_type": "code",
   "execution_count": 168,
   "metadata": {},
   "outputs": [
    {
     "data": {
      "text/html": [
       "<div>\n",
       "<style scoped>\n",
       "    .dataframe tbody tr th:only-of-type {\n",
       "        vertical-align: middle;\n",
       "    }\n",
       "\n",
       "    .dataframe tbody tr th {\n",
       "        vertical-align: top;\n",
       "    }\n",
       "\n",
       "    .dataframe thead th {\n",
       "        text-align: right;\n",
       "    }\n",
       "</style>\n",
       "<table border=\"1\" class=\"dataframe\">\n",
       "  <thead>\n",
       "    <tr style=\"text-align: right;\">\n",
       "      <th></th>\n",
       "      <th>name</th>\n",
       "      <th>address</th>\n",
       "      <th>latitude</th>\n",
       "      <th>longitude</th>\n",
       "      <th>category</th>\n",
       "      <th>description</th>\n",
       "      <th>MISC</th>\n",
       "    </tr>\n",
       "  </thead>\n",
       "  <tbody>\n",
       "    <tr>\n",
       "      <th>0</th>\n",
       "      <td>Roux's Roadhouse 73</td>\n",
       "      <td>Roux's Roadhouse 73, 784 WI-73, Nekoosa, WI 54457</td>\n",
       "      <td>44.306954</td>\n",
       "      <td>-89.845783</td>\n",
       "      <td>['Restaurant']</td>\n",
       "      <td>NaN</td>\n",
       "      <td>{'Service options': ['Takeout', 'Dine-in', 'De...</td>\n",
       "    </tr>\n",
       "    <tr>\n",
       "      <th>1</th>\n",
       "      <td>Crepes n' Tacos Mexican Grill</td>\n",
       "      <td>Crepes n' Tacos Mexican Grill, suit #5, 5390, ...</td>\n",
       "      <td>36.164633</td>\n",
       "      <td>-115.060780</td>\n",
       "      <td>['Mexican restaurant', 'Crêperie', 'Ice cream ...</td>\n",
       "      <td>NaN</td>\n",
       "      <td>{'Service options': ['Delivery'], 'Amenities':...</td>\n",
       "    </tr>\n",
       "    <tr>\n",
       "      <th>2</th>\n",
       "      <td>The Big Eazy</td>\n",
       "      <td>The Big Eazy, 2053 N Doctor M.L.K. Jr Dr, Milw...</td>\n",
       "      <td>43.057658</td>\n",
       "      <td>-87.914643</td>\n",
       "      <td>['Cajun restaurant', 'Creole restaurant']</td>\n",
       "      <td>NaN</td>\n",
       "      <td>{'Service options': ['Delivery'], 'Amenities':...</td>\n",
       "    </tr>\n",
       "    <tr>\n",
       "      <th>3</th>\n",
       "      <td>Subway</td>\n",
       "      <td>Subway, 250 E Wolf Run, Mukwonago, WI 53149</td>\n",
       "      <td>42.854168</td>\n",
       "      <td>-88.314247</td>\n",
       "      <td>['Sandwich shop', 'Caterer', 'Fast food restau...</td>\n",
       "      <td>Casual counter-serve chain for build-your-own ...</td>\n",
       "      <td>{'Service options': ['Takeout', 'Dine-in'], 'D...</td>\n",
       "    </tr>\n",
       "    <tr>\n",
       "      <th>4</th>\n",
       "      <td>Papa Kelsey's</td>\n",
       "      <td>Papa Kelsey's, 165 E 1400 N, Logan, UT 84341</td>\n",
       "      <td>41.758094</td>\n",
       "      <td>-111.830290</td>\n",
       "      <td>['Pizza restaurant']</td>\n",
       "      <td>Chain eatery serving baked subs, classic pizza...</td>\n",
       "      <td>{'Service options': ['Delivery'], 'Health &amp; sa...</td>\n",
       "    </tr>\n",
       "  </tbody>\n",
       "</table>\n",
       "</div>"
      ],
      "text/plain": [
       "                            name  \\\n",
       "0            Roux's Roadhouse 73   \n",
       "1  Crepes n' Tacos Mexican Grill   \n",
       "2                   The Big Eazy   \n",
       "3                         Subway   \n",
       "4                  Papa Kelsey's   \n",
       "\n",
       "                                             address   latitude   longitude  \\\n",
       "0  Roux's Roadhouse 73, 784 WI-73, Nekoosa, WI 54457  44.306954  -89.845783   \n",
       "1  Crepes n' Tacos Mexican Grill, suit #5, 5390, ...  36.164633 -115.060780   \n",
       "2  The Big Eazy, 2053 N Doctor M.L.K. Jr Dr, Milw...  43.057658  -87.914643   \n",
       "3        Subway, 250 E Wolf Run, Mukwonago, WI 53149  42.854168  -88.314247   \n",
       "4       Papa Kelsey's, 165 E 1400 N, Logan, UT 84341  41.758094 -111.830290   \n",
       "\n",
       "                                            category  \\\n",
       "0                                     ['Restaurant']   \n",
       "1  ['Mexican restaurant', 'Crêperie', 'Ice cream ...   \n",
       "2          ['Cajun restaurant', 'Creole restaurant']   \n",
       "3  ['Sandwich shop', 'Caterer', 'Fast food restau...   \n",
       "4                               ['Pizza restaurant']   \n",
       "\n",
       "                                         description  \\\n",
       "0                                                NaN   \n",
       "1                                                NaN   \n",
       "2                                                NaN   \n",
       "3  Casual counter-serve chain for build-your-own ...   \n",
       "4  Chain eatery serving baked subs, classic pizza...   \n",
       "\n",
       "                                                MISC  \n",
       "0  {'Service options': ['Takeout', 'Dine-in', 'De...  \n",
       "1  {'Service options': ['Delivery'], 'Amenities':...  \n",
       "2  {'Service options': ['Delivery'], 'Amenities':...  \n",
       "3  {'Service options': ['Takeout', 'Dine-in'], 'D...  \n",
       "4  {'Service options': ['Delivery'], 'Health & sa...  "
      ]
     },
     "execution_count": 168,
     "metadata": {},
     "output_type": "execute_result"
    }
   ],
   "source": [
    "Rest_google = Rest_google[['name','address','latitude','longitude','category','description','MISC']]\n",
    "Rest_google.head()"
   ]
  },
  {
   "cell_type": "code",
   "execution_count": 169,
   "metadata": {},
   "outputs": [
    {
     "name": "stdout",
     "output_type": "stream",
     "text": [
      "<class 'pandas.core.frame.DataFrame'>\n",
      "RangeIndex: 3223 entries, 0 to 3222\n",
      "Data columns (total 7 columns):\n",
      " #   Column       Non-Null Count  Dtype  \n",
      "---  ------       --------------  -----  \n",
      " 0   name         3223 non-null   object \n",
      " 1   address      3219 non-null   object \n",
      " 2   latitude     3223 non-null   float64\n",
      " 3   longitude    3223 non-null   float64\n",
      " 4   category     3223 non-null   object \n",
      " 5   description  1061 non-null   object \n",
      " 6   MISC         3207 non-null   object \n",
      "dtypes: float64(2), object(5)\n",
      "memory usage: 176.4+ KB\n"
     ]
    }
   ],
   "source": [
    "Rest_google.info()"
   ]
  },
  {
   "cell_type": "code",
   "execution_count": 170,
   "metadata": {},
   "outputs": [
    {
     "data": {
      "text/plain": [
       "str"
      ]
     },
     "execution_count": 170,
     "metadata": {},
     "output_type": "execute_result"
    }
   ],
   "source": [
    "type(Rest_google['category'][0])"
   ]
  },
  {
   "cell_type": "code",
   "execution_count": 171,
   "metadata": {},
   "outputs": [],
   "source": [
    "def eval_lower(lista):\n",
    "    if lista:\n",
    "        lista = eval(lista)\n",
    "        for index,palabra in enumerate(lista):\n",
    "            lista[index] = palabra.lower()\n",
    "        return lista"
   ]
  },
  {
   "cell_type": "code",
   "execution_count": 172,
   "metadata": {},
   "outputs": [],
   "source": [
    "Rest_google['category'] = Rest_google['category'].apply(eval_lower)"
   ]
  },
  {
   "cell_type": "code",
   "execution_count": 173,
   "metadata": {},
   "outputs": [
    {
     "data": {
      "text/plain": [
       "0                                            [restaurant]\n",
       "1       [mexican restaurant, crêperie, ice cream shop,...\n",
       "2                   [cajun restaurant, creole restaurant]\n",
       "3       [sandwich shop, caterer, fast food restaurant,...\n",
       "4                                      [pizza restaurant]\n",
       "                              ...                        \n",
       "3218    [thai restaurant, takeout restaurant, vegetari...\n",
       "3219               [chinese restaurant, asian restaurant]\n",
       "3220                                 [mexican restaurant]\n",
       "3221                                  [french restaurant]\n",
       "3222    [restaurant, american restaurant, chicken rest...\n",
       "Name: category, Length: 3223, dtype: object"
      ]
     },
     "execution_count": 173,
     "metadata": {},
     "output_type": "execute_result"
    }
   ],
   "source": [
    "Rest_google['category']"
   ]
  },
  {
   "cell_type": "code",
   "execution_count": 174,
   "metadata": {},
   "outputs": [
    {
     "data": {
      "text/plain": [
       "list"
      ]
     },
     "execution_count": 174,
     "metadata": {},
     "output_type": "execute_result"
    }
   ],
   "source": [
    "type(Rest_google['category'][0])"
   ]
  },
  {
   "cell_type": "code",
   "execution_count": 175,
   "metadata": {},
   "outputs": [
    {
     "data": {
      "text/plain": [
       "'{\\'Service options\\': [\\'Takeout\\', \\'Dine-in\\', \\'Delivery\\'], \\'Health & safety\\': [\\'Staff required to disinfect surfaces between visits\\'], \\'Highlights\\': [\\'Great beer selection\\', \\'Great cocktails\\'], \\'Popular for\\': [\\'Lunch\\', \\'Dinner\\', \\'Solo dining\\'], \\'Accessibility\\': [\\'Wheelchair accessible entrance\\'], \\'Offerings\\': [\\'Alcohol\\', \\'Beer\\', \\'Cocktails\\', \\'Coffee\\', \\'Comfort food\\', \\'Happy hour food\\', \\'Hard liquor\\', \"Kids\\' menu\", \\'Quick bite\\', \\'Wine\\'], \\'Amenities\\': [\\'Bar onsite\\', \\'Good for kids\\', \\'High chairs\\', \\'Restroom\\'], \\'Atmosphere\\': [\\'Casual\\', \\'Cozy\\'], \\'Crowd\\': [\\'Groups\\', \\'Tourists\\']}'"
      ]
     },
     "execution_count": 175,
     "metadata": {},
     "output_type": "execute_result"
    }
   ],
   "source": [
    "Rest_google['MISC'][0]"
   ]
  },
  {
   "cell_type": "code",
   "execution_count": 176,
   "metadata": {},
   "outputs": [
    {
     "data": {
      "text/plain": [
       "'{\\'Service options\\': [\\'Takeout\\', \\'Dine-in\\', \\'Delivery\\'], \\'Health & safety\\': [\\'Staff required to disinfect surfaces between visits\\'], \\'Highlights\\': [\\'Great beer selection\\', \\'Great cocktails\\'], \\'Popular for\\': [\\'Lunch\\', \\'Dinner\\', \\'Solo dining\\'], \\'Accessibility\\': [\\'Wheelchair accessible entrance\\'], \\'Offerings\\': [\\'Alcohol\\', \\'Beer\\', \\'Cocktails\\', \\'Coffee\\', \\'Comfort food\\', \\'Happy hour food\\', \\'Hard liquor\\', \"Kids\\' menu\", \\'Quick bite\\', \\'Wine\\'], \\'Amenities\\': [\\'Bar onsite\\', \\'Good for kids\\', \\'High chairs\\', \\'Restroom\\'], \\'Atmosphere\\': [\\'Casual\\', \\'Cozy\\'], \\'Crowd\\': [\\'Groups\\', \\'Tourists\\']}'"
      ]
     },
     "execution_count": 176,
     "metadata": {},
     "output_type": "execute_result"
    }
   ],
   "source": [
    "texto_corregido = Rest_google['MISC'][0].replace(\"\\'\",\"'\")\n",
    "texto_corregido"
   ]
  },
  {
   "cell_type": "code",
   "execution_count": 177,
   "metadata": {},
   "outputs": [
    {
     "data": {
      "text/plain": [
       "{'Service options': ['Takeout', 'Dine-in', 'Delivery'],\n",
       " 'Health & safety': ['Staff required to disinfect surfaces between visits'],\n",
       " 'Highlights': ['Great beer selection', 'Great cocktails'],\n",
       " 'Popular for': ['Lunch', 'Dinner', 'Solo dining'],\n",
       " 'Accessibility': ['Wheelchair accessible entrance'],\n",
       " 'Offerings': ['Alcohol',\n",
       "  'Beer',\n",
       "  'Cocktails',\n",
       "  'Coffee',\n",
       "  'Comfort food',\n",
       "  'Happy hour food',\n",
       "  'Hard liquor',\n",
       "  \"Kids' menu\",\n",
       "  'Quick bite',\n",
       "  'Wine'],\n",
       " 'Amenities': ['Bar onsite', 'Good for kids', 'High chairs', 'Restroom'],\n",
       " 'Atmosphere': ['Casual', 'Cozy'],\n",
       " 'Crowd': ['Groups', 'Tourists']}"
      ]
     },
     "execution_count": 177,
     "metadata": {},
     "output_type": "execute_result"
    }
   ],
   "source": [
    "eval(texto_corregido)"
   ]
  },
  {
   "cell_type": "code",
   "execution_count": 178,
   "metadata": {},
   "outputs": [],
   "source": [
    "Rest_google['coord'] = Rest_google.apply(lambda row: (row['latitude'], row['longitude']), axis=1)\n",
    "Rest_google.drop(['latitude','longitude'],axis=1,inplace=True)"
   ]
  },
  {
   "cell_type": "code",
   "execution_count": 179,
   "metadata": {},
   "outputs": [
    {
     "data": {
      "text/html": [
       "<div>\n",
       "<style scoped>\n",
       "    .dataframe tbody tr th:only-of-type {\n",
       "        vertical-align: middle;\n",
       "    }\n",
       "\n",
       "    .dataframe tbody tr th {\n",
       "        vertical-align: top;\n",
       "    }\n",
       "\n",
       "    .dataframe thead th {\n",
       "        text-align: right;\n",
       "    }\n",
       "</style>\n",
       "<table border=\"1\" class=\"dataframe\">\n",
       "  <thead>\n",
       "    <tr style=\"text-align: right;\">\n",
       "      <th></th>\n",
       "      <th>name</th>\n",
       "      <th>address</th>\n",
       "      <th>category</th>\n",
       "      <th>description</th>\n",
       "      <th>MISC</th>\n",
       "      <th>coord</th>\n",
       "    </tr>\n",
       "  </thead>\n",
       "  <tbody>\n",
       "    <tr>\n",
       "      <th>0</th>\n",
       "      <td>Roux's Roadhouse 73</td>\n",
       "      <td>Roux's Roadhouse 73, 784 WI-73, Nekoosa, WI 54457</td>\n",
       "      <td>[restaurant]</td>\n",
       "      <td>NaN</td>\n",
       "      <td>{'Service options': ['Takeout', 'Dine-in', 'De...</td>\n",
       "      <td>(44.3069541, -89.8457834)</td>\n",
       "    </tr>\n",
       "    <tr>\n",
       "      <th>1</th>\n",
       "      <td>Crepes n' Tacos Mexican Grill</td>\n",
       "      <td>Crepes n' Tacos Mexican Grill, suit #5, 5390, ...</td>\n",
       "      <td>[mexican restaurant, crêperie, ice cream shop,...</td>\n",
       "      <td>NaN</td>\n",
       "      <td>{'Service options': ['Delivery'], 'Amenities':...</td>\n",
       "      <td>(36.1646332, -115.0607804)</td>\n",
       "    </tr>\n",
       "    <tr>\n",
       "      <th>2</th>\n",
       "      <td>The Big Eazy</td>\n",
       "      <td>The Big Eazy, 2053 N Doctor M.L.K. Jr Dr, Milw...</td>\n",
       "      <td>[cajun restaurant, creole restaurant]</td>\n",
       "      <td>NaN</td>\n",
       "      <td>{'Service options': ['Delivery'], 'Amenities':...</td>\n",
       "      <td>(43.0576581, -87.914643)</td>\n",
       "    </tr>\n",
       "    <tr>\n",
       "      <th>3</th>\n",
       "      <td>Subway</td>\n",
       "      <td>Subway, 250 E Wolf Run, Mukwonago, WI 53149</td>\n",
       "      <td>[sandwich shop, caterer, fast food restaurant,...</td>\n",
       "      <td>Casual counter-serve chain for build-your-own ...</td>\n",
       "      <td>{'Service options': ['Takeout', 'Dine-in'], 'D...</td>\n",
       "      <td>(42.8541679, -88.3142471)</td>\n",
       "    </tr>\n",
       "    <tr>\n",
       "      <th>4</th>\n",
       "      <td>Papa Kelsey's</td>\n",
       "      <td>Papa Kelsey's, 165 E 1400 N, Logan, UT 84341</td>\n",
       "      <td>[pizza restaurant]</td>\n",
       "      <td>Chain eatery serving baked subs, classic pizza...</td>\n",
       "      <td>{'Service options': ['Delivery'], 'Health &amp; sa...</td>\n",
       "      <td>(41.7580941, -111.8302904)</td>\n",
       "    </tr>\n",
       "  </tbody>\n",
       "</table>\n",
       "</div>"
      ],
      "text/plain": [
       "                            name  \\\n",
       "0            Roux's Roadhouse 73   \n",
       "1  Crepes n' Tacos Mexican Grill   \n",
       "2                   The Big Eazy   \n",
       "3                         Subway   \n",
       "4                  Papa Kelsey's   \n",
       "\n",
       "                                             address  \\\n",
       "0  Roux's Roadhouse 73, 784 WI-73, Nekoosa, WI 54457   \n",
       "1  Crepes n' Tacos Mexican Grill, suit #5, 5390, ...   \n",
       "2  The Big Eazy, 2053 N Doctor M.L.K. Jr Dr, Milw...   \n",
       "3        Subway, 250 E Wolf Run, Mukwonago, WI 53149   \n",
       "4       Papa Kelsey's, 165 E 1400 N, Logan, UT 84341   \n",
       "\n",
       "                                            category  \\\n",
       "0                                       [restaurant]   \n",
       "1  [mexican restaurant, crêperie, ice cream shop,...   \n",
       "2              [cajun restaurant, creole restaurant]   \n",
       "3  [sandwich shop, caterer, fast food restaurant,...   \n",
       "4                                 [pizza restaurant]   \n",
       "\n",
       "                                         description  \\\n",
       "0                                                NaN   \n",
       "1                                                NaN   \n",
       "2                                                NaN   \n",
       "3  Casual counter-serve chain for build-your-own ...   \n",
       "4  Chain eatery serving baked subs, classic pizza...   \n",
       "\n",
       "                                                MISC  \\\n",
       "0  {'Service options': ['Takeout', 'Dine-in', 'De...   \n",
       "1  {'Service options': ['Delivery'], 'Amenities':...   \n",
       "2  {'Service options': ['Delivery'], 'Amenities':...   \n",
       "3  {'Service options': ['Takeout', 'Dine-in'], 'D...   \n",
       "4  {'Service options': ['Delivery'], 'Health & sa...   \n",
       "\n",
       "                        coord  \n",
       "0   (44.3069541, -89.8457834)  \n",
       "1  (36.1646332, -115.0607804)  \n",
       "2    (43.0576581, -87.914643)  \n",
       "3   (42.8541679, -88.3142471)  \n",
       "4  (41.7580941, -111.8302904)  "
      ]
     },
     "execution_count": 179,
     "metadata": {},
     "output_type": "execute_result"
    }
   ],
   "source": [
    "Rest_google.head()"
   ]
  },
  {
   "cell_type": "code",
   "execution_count": 180,
   "metadata": {},
   "outputs": [
    {
     "data": {
      "text/html": [
       "<div>\n",
       "<style scoped>\n",
       "    .dataframe tbody tr th:only-of-type {\n",
       "        vertical-align: middle;\n",
       "    }\n",
       "\n",
       "    .dataframe tbody tr th {\n",
       "        vertical-align: top;\n",
       "    }\n",
       "\n",
       "    .dataframe thead th {\n",
       "        text-align: right;\n",
       "    }\n",
       "</style>\n",
       "<table border=\"1\" class=\"dataframe\">\n",
       "  <thead>\n",
       "    <tr style=\"text-align: right;\">\n",
       "      <th></th>\n",
       "      <th>name</th>\n",
       "      <th>address</th>\n",
       "      <th>category</th>\n",
       "      <th>description</th>\n",
       "      <th>MISC</th>\n",
       "      <th>coord</th>\n",
       "    </tr>\n",
       "  </thead>\n",
       "  <tbody>\n",
       "    <tr>\n",
       "      <th>0</th>\n",
       "      <td>Roux's Roadhouse 73</td>\n",
       "      <td>Roux's Roadhouse 73, 784 WI-73, Nekoosa, WI 54457</td>\n",
       "      <td>[restaurant]</td>\n",
       "      <td>NaN</td>\n",
       "      <td>{'Service options': ['Takeout', 'Dine-in', 'De...</td>\n",
       "      <td>(44.3069541, -89.8457834)</td>\n",
       "    </tr>\n",
       "    <tr>\n",
       "      <th>1</th>\n",
       "      <td>Crepes n' Tacos Mexican Grill</td>\n",
       "      <td>Crepes n' Tacos Mexican Grill, suit #5, 5390, ...</td>\n",
       "      <td>[mexican restaurant, crêperie, ice cream shop,...</td>\n",
       "      <td>NaN</td>\n",
       "      <td>{'Service options': ['Delivery'], 'Amenities':...</td>\n",
       "      <td>(36.1646332, -115.0607804)</td>\n",
       "    </tr>\n",
       "    <tr>\n",
       "      <th>2</th>\n",
       "      <td>The Big Eazy</td>\n",
       "      <td>The Big Eazy, 2053 N Doctor M.L.K. Jr Dr, Milw...</td>\n",
       "      <td>[cajun restaurant, creole restaurant]</td>\n",
       "      <td>NaN</td>\n",
       "      <td>{'Service options': ['Delivery'], 'Amenities':...</td>\n",
       "      <td>(43.0576581, -87.914643)</td>\n",
       "    </tr>\n",
       "    <tr>\n",
       "      <th>3</th>\n",
       "      <td>Subway</td>\n",
       "      <td>Subway, 250 E Wolf Run, Mukwonago, WI 53149</td>\n",
       "      <td>[sandwich shop, caterer, fast food restaurant,...</td>\n",
       "      <td>Casual counter-serve chain for build-your-own ...</td>\n",
       "      <td>{'Service options': ['Takeout', 'Dine-in'], 'D...</td>\n",
       "      <td>(42.8541679, -88.3142471)</td>\n",
       "    </tr>\n",
       "    <tr>\n",
       "      <th>4</th>\n",
       "      <td>Papa Kelsey's</td>\n",
       "      <td>Papa Kelsey's, 165 E 1400 N, Logan, UT 84341</td>\n",
       "      <td>[pizza restaurant]</td>\n",
       "      <td>Chain eatery serving baked subs, classic pizza...</td>\n",
       "      <td>{'Service options': ['Delivery'], 'Health &amp; sa...</td>\n",
       "      <td>(41.7580941, -111.8302904)</td>\n",
       "    </tr>\n",
       "  </tbody>\n",
       "</table>\n",
       "</div>"
      ],
      "text/plain": [
       "                            name  \\\n",
       "0            Roux's Roadhouse 73   \n",
       "1  Crepes n' Tacos Mexican Grill   \n",
       "2                   The Big Eazy   \n",
       "3                         Subway   \n",
       "4                  Papa Kelsey's   \n",
       "\n",
       "                                             address  \\\n",
       "0  Roux's Roadhouse 73, 784 WI-73, Nekoosa, WI 54457   \n",
       "1  Crepes n' Tacos Mexican Grill, suit #5, 5390, ...   \n",
       "2  The Big Eazy, 2053 N Doctor M.L.K. Jr Dr, Milw...   \n",
       "3        Subway, 250 E Wolf Run, Mukwonago, WI 53149   \n",
       "4       Papa Kelsey's, 165 E 1400 N, Logan, UT 84341   \n",
       "\n",
       "                                            category  \\\n",
       "0                                       [restaurant]   \n",
       "1  [mexican restaurant, crêperie, ice cream shop,...   \n",
       "2              [cajun restaurant, creole restaurant]   \n",
       "3  [sandwich shop, caterer, fast food restaurant,...   \n",
       "4                                 [pizza restaurant]   \n",
       "\n",
       "                                         description  \\\n",
       "0                                                NaN   \n",
       "1                                                NaN   \n",
       "2                                                NaN   \n",
       "3  Casual counter-serve chain for build-your-own ...   \n",
       "4  Chain eatery serving baked subs, classic pizza...   \n",
       "\n",
       "                                                MISC  \\\n",
       "0  {'Service options': ['Takeout', 'Dine-in', 'De...   \n",
       "1  {'Service options': ['Delivery'], 'Amenities':...   \n",
       "2  {'Service options': ['Delivery'], 'Amenities':...   \n",
       "3  {'Service options': ['Takeout', 'Dine-in'], 'D...   \n",
       "4  {'Service options': ['Delivery'], 'Health & sa...   \n",
       "\n",
       "                        coord  \n",
       "0   (44.3069541, -89.8457834)  \n",
       "1  (36.1646332, -115.0607804)  \n",
       "2    (43.0576581, -87.914643)  \n",
       "3   (42.8541679, -88.3142471)  \n",
       "4  (41.7580941, -111.8302904)  "
      ]
     },
     "execution_count": 180,
     "metadata": {},
     "output_type": "execute_result"
    }
   ],
   "source": [
    "Rest_google['MISC'] = Rest_google['MISC'].replace('\\'', \"'\")\n",
    "Rest_google.head()"
   ]
  },
  {
   "cell_type": "code",
   "execution_count": 181,
   "metadata": {},
   "outputs": [],
   "source": [
    "for index,a in enumerate(Rest_google['MISC']):\n",
    "    if isinstance(a,str):\n",
    "        Rest_google['MISC'][index] = eval(Rest_google['MISC'][index])"
   ]
  },
  {
   "cell_type": "code",
   "execution_count": 182,
   "metadata": {},
   "outputs": [
    {
     "data": {
      "text/plain": [
       "['Takeout', 'Dine-in', 'Delivery']"
      ]
     },
     "execution_count": 182,
     "metadata": {},
     "output_type": "execute_result"
    }
   ],
   "source": [
    "Rest_google['MISC'][0]['Service options']"
   ]
  },
  {
   "cell_type": "code",
   "execution_count": 183,
   "metadata": {},
   "outputs": [],
   "source": [
    "def misc(dicc):\n",
    "    if isinstance(dicc,dict):\n",
    "        lista = []\n",
    "        for key in dicc.keys():\n",
    "            for value in dicc[key]:\n",
    "                lista.append(value.lower())\n",
    "        return lista\n",
    "\n",
    "Rest_google['MISC'] = Rest_google['MISC'].apply(misc)"
   ]
  },
  {
   "cell_type": "code",
   "execution_count": 184,
   "metadata": {},
   "outputs": [
    {
     "data": {
      "text/plain": [
       "0       [takeout, dine-in, delivery, staff required to...\n",
       "1                               [delivery, good for kids]\n",
       "2                               [delivery, good for kids]\n",
       "3       [takeout, dine-in, lunch, catering, debit card...\n",
       "4       [delivery, reservations required, fireplace, l...\n",
       "                              ...                        \n",
       "3218    [outdoor seating, curbside pickup, no-contact ...\n",
       "3219    [takeout, delivery, dine-in, mask required, lu...\n",
       "3220    [delivery, takeout, mask required, lunch, dinn...\n",
       "3221                                           [delivery]\n",
       "3222    [takeout, dine-in, reservations required, fire...\n",
       "Name: MISC, Length: 3223, dtype: object"
      ]
     },
     "execution_count": 184,
     "metadata": {},
     "output_type": "execute_result"
    }
   ],
   "source": [
    "Rest_google['MISC']"
   ]
  },
  {
   "cell_type": "code",
   "execution_count": 185,
   "metadata": {},
   "outputs": [],
   "source": [
    "Rest_google['keywords'] = Rest_google['category'] + Rest_google['MISC']"
   ]
  },
  {
   "cell_type": "code",
   "execution_count": 186,
   "metadata": {},
   "outputs": [],
   "source": [
    "Rest_google.drop(['category','MISC','description'],axis=1,inplace=True)"
   ]
  },
  {
   "cell_type": "code",
   "execution_count": 187,
   "metadata": {},
   "outputs": [
    {
     "data": {
      "text/html": [
       "<div>\n",
       "<style scoped>\n",
       "    .dataframe tbody tr th:only-of-type {\n",
       "        vertical-align: middle;\n",
       "    }\n",
       "\n",
       "    .dataframe tbody tr th {\n",
       "        vertical-align: top;\n",
       "    }\n",
       "\n",
       "    .dataframe thead th {\n",
       "        text-align: right;\n",
       "    }\n",
       "</style>\n",
       "<table border=\"1\" class=\"dataframe\">\n",
       "  <thead>\n",
       "    <tr style=\"text-align: right;\">\n",
       "      <th></th>\n",
       "      <th>name</th>\n",
       "      <th>address</th>\n",
       "      <th>coord</th>\n",
       "      <th>keywords</th>\n",
       "    </tr>\n",
       "  </thead>\n",
       "  <tbody>\n",
       "    <tr>\n",
       "      <th>0</th>\n",
       "      <td>Roux's Roadhouse 73</td>\n",
       "      <td>Roux's Roadhouse 73, 784 WI-73, Nekoosa, WI 54457</td>\n",
       "      <td>(44.3069541, -89.8457834)</td>\n",
       "      <td>[restaurant, takeout, dine-in, delivery, staff...</td>\n",
       "    </tr>\n",
       "    <tr>\n",
       "      <th>1</th>\n",
       "      <td>Crepes n' Tacos Mexican Grill</td>\n",
       "      <td>Crepes n' Tacos Mexican Grill, suit #5, 5390, ...</td>\n",
       "      <td>(36.1646332, -115.0607804)</td>\n",
       "      <td>[mexican restaurant, crêperie, ice cream shop,...</td>\n",
       "    </tr>\n",
       "    <tr>\n",
       "      <th>2</th>\n",
       "      <td>The Big Eazy</td>\n",
       "      <td>The Big Eazy, 2053 N Doctor M.L.K. Jr Dr, Milw...</td>\n",
       "      <td>(43.0576581, -87.914643)</td>\n",
       "      <td>[cajun restaurant, creole restaurant, delivery...</td>\n",
       "    </tr>\n",
       "    <tr>\n",
       "      <th>3</th>\n",
       "      <td>Subway</td>\n",
       "      <td>Subway, 250 E Wolf Run, Mukwonago, WI 53149</td>\n",
       "      <td>(42.8541679, -88.3142471)</td>\n",
       "      <td>[sandwich shop, caterer, fast food restaurant,...</td>\n",
       "    </tr>\n",
       "    <tr>\n",
       "      <th>4</th>\n",
       "      <td>Papa Kelsey's</td>\n",
       "      <td>Papa Kelsey's, 165 E 1400 N, Logan, UT 84341</td>\n",
       "      <td>(41.7580941, -111.8302904)</td>\n",
       "      <td>[pizza restaurant, delivery, reservations requ...</td>\n",
       "    </tr>\n",
       "  </tbody>\n",
       "</table>\n",
       "</div>"
      ],
      "text/plain": [
       "                            name  \\\n",
       "0            Roux's Roadhouse 73   \n",
       "1  Crepes n' Tacos Mexican Grill   \n",
       "2                   The Big Eazy   \n",
       "3                         Subway   \n",
       "4                  Papa Kelsey's   \n",
       "\n",
       "                                             address  \\\n",
       "0  Roux's Roadhouse 73, 784 WI-73, Nekoosa, WI 54457   \n",
       "1  Crepes n' Tacos Mexican Grill, suit #5, 5390, ...   \n",
       "2  The Big Eazy, 2053 N Doctor M.L.K. Jr Dr, Milw...   \n",
       "3        Subway, 250 E Wolf Run, Mukwonago, WI 53149   \n",
       "4       Papa Kelsey's, 165 E 1400 N, Logan, UT 84341   \n",
       "\n",
       "                        coord  \\\n",
       "0   (44.3069541, -89.8457834)   \n",
       "1  (36.1646332, -115.0607804)   \n",
       "2    (43.0576581, -87.914643)   \n",
       "3   (42.8541679, -88.3142471)   \n",
       "4  (41.7580941, -111.8302904)   \n",
       "\n",
       "                                            keywords  \n",
       "0  [restaurant, takeout, dine-in, delivery, staff...  \n",
       "1  [mexican restaurant, crêperie, ice cream shop,...  \n",
       "2  [cajun restaurant, creole restaurant, delivery...  \n",
       "3  [sandwich shop, caterer, fast food restaurant,...  \n",
       "4  [pizza restaurant, delivery, reservations requ...  "
      ]
     },
     "execution_count": 187,
     "metadata": {},
     "output_type": "execute_result"
    }
   ],
   "source": [
    "Rest_google.head()"
   ]
  },
  {
   "cell_type": "code",
   "execution_count": 188,
   "metadata": {},
   "outputs": [],
   "source": [
    "Rest_google.to_parquet('../Datasets_ML/Rest_google.parquet')"
   ]
  },
  {
   "cell_type": "markdown",
   "metadata": {},
   "source": [
    "***"
   ]
  },
  {
   "cell_type": "code",
   "execution_count": 189,
   "metadata": {},
   "outputs": [
    {
     "data": {
      "text/html": [
       "<div>\n",
       "<style scoped>\n",
       "    .dataframe tbody tr th:only-of-type {\n",
       "        vertical-align: middle;\n",
       "    }\n",
       "\n",
       "    .dataframe tbody tr th {\n",
       "        vertical-align: top;\n",
       "    }\n",
       "\n",
       "    .dataframe thead th {\n",
       "        text-align: right;\n",
       "    }\n",
       "</style>\n",
       "<table border=\"1\" class=\"dataframe\">\n",
       "  <thead>\n",
       "    <tr style=\"text-align: right;\">\n",
       "      <th></th>\n",
       "      <th>business_id</th>\n",
       "      <th>name</th>\n",
       "      <th>address</th>\n",
       "      <th>city</th>\n",
       "      <th>state</th>\n",
       "      <th>postal_code</th>\n",
       "      <th>latitude</th>\n",
       "      <th>longitude</th>\n",
       "      <th>stars</th>\n",
       "      <th>review_count</th>\n",
       "      <th>is_open</th>\n",
       "      <th>attributes</th>\n",
       "      <th>categories</th>\n",
       "      <th>hours</th>\n",
       "    </tr>\n",
       "  </thead>\n",
       "  <tbody>\n",
       "    <tr>\n",
       "      <th>0</th>\n",
       "      <td>MTSW4McQd7CbVtyjqoe9mw</td>\n",
       "      <td>St Honore Pastries</td>\n",
       "      <td>935 Race St</td>\n",
       "      <td>Philadelphia</td>\n",
       "      <td>CA</td>\n",
       "      <td>19107</td>\n",
       "      <td>39.955505</td>\n",
       "      <td>-75.155564</td>\n",
       "      <td>4.0</td>\n",
       "      <td>80</td>\n",
       "      <td>1</td>\n",
       "      <td>{'RestaurantsDelivery': 'False', 'OutdoorSeati...</td>\n",
       "      <td>Restaurants, Food, Bubble Tea, Coffee &amp; Tea, B...</td>\n",
       "      <td>{'Monday': '7:0-20:0', 'Tuesday': '7:0-20:0', ...</td>\n",
       "    </tr>\n",
       "    <tr>\n",
       "      <th>1</th>\n",
       "      <td>9OG5YkX1g2GReZM0AskizA</td>\n",
       "      <td>Romano's Macaroni Grill</td>\n",
       "      <td>5505 S Virginia St</td>\n",
       "      <td>Reno</td>\n",
       "      <td>AB</td>\n",
       "      <td>89502</td>\n",
       "      <td>39.476117</td>\n",
       "      <td>-119.789339</td>\n",
       "      <td>2.5</td>\n",
       "      <td>339</td>\n",
       "      <td>1</td>\n",
       "      <td>{'RestaurantsGoodForGroups': 'True', 'Restaura...</td>\n",
       "      <td>Restaurants, Italian</td>\n",
       "      <td>{'Monday': '11:0-22:0', 'Tuesday': '11:0-22:0'...</td>\n",
       "    </tr>\n",
       "    <tr>\n",
       "      <th>2</th>\n",
       "      <td>tMkwHmWFUEXrC9ZduonpTg</td>\n",
       "      <td>The Green Pheasant</td>\n",
       "      <td>215 1st Ave S</td>\n",
       "      <td>Nashville</td>\n",
       "      <td>TN</td>\n",
       "      <td>37201</td>\n",
       "      <td>36.159886</td>\n",
       "      <td>-86.773197</td>\n",
       "      <td>4.0</td>\n",
       "      <td>161</td>\n",
       "      <td>0</td>\n",
       "      <td>{'RestaurantsGoodForGroups': 'True', 'HappyHou...</td>\n",
       "      <td>Restaurants, Japanese, Seafood</td>\n",
       "      <td>{'Wednesday': '16:0-22:0', 'Thursday': '16:0-2...</td>\n",
       "    </tr>\n",
       "    <tr>\n",
       "      <th>3</th>\n",
       "      <td>2xVsWBNFwZOxIOdd9Mwnww</td>\n",
       "      <td>Cheeseburger In Paradise</td>\n",
       "      <td>116 N Pottstown Pike</td>\n",
       "      <td>Exton</td>\n",
       "      <td>PA</td>\n",
       "      <td>19341</td>\n",
       "      <td>40.029962</td>\n",
       "      <td>-75.630607</td>\n",
       "      <td>2.5</td>\n",
       "      <td>20</td>\n",
       "      <td>0</td>\n",
       "      <td>{'NoiseLevel': \"u'average'\", 'HasTV': 'True', ...</td>\n",
       "      <td>Restaurants, Burgers</td>\n",
       "      <td>NaN</td>\n",
       "    </tr>\n",
       "    <tr>\n",
       "      <th>4</th>\n",
       "      <td>ljxNT9p0y7YMPx0fcNBGig</td>\n",
       "      <td>Tony's Restaurant &amp; 3rd Street Cafe</td>\n",
       "      <td>312 Piasa St</td>\n",
       "      <td>Alton</td>\n",
       "      <td>IL</td>\n",
       "      <td>62002</td>\n",
       "      <td>38.896563</td>\n",
       "      <td>-90.186203</td>\n",
       "      <td>3.0</td>\n",
       "      <td>94</td>\n",
       "      <td>1</td>\n",
       "      <td>{'RestaurantsReservations': 'True', 'Restauran...</td>\n",
       "      <td>Restaurants, Specialty Food, Steakhouses, Food...</td>\n",
       "      <td>{'Monday': '0:0-0:0', 'Tuesday': '16:0-21:30',...</td>\n",
       "    </tr>\n",
       "  </tbody>\n",
       "</table>\n",
       "</div>"
      ],
      "text/plain": [
       "              business_id                                 name  \\\n",
       "0  MTSW4McQd7CbVtyjqoe9mw                   St Honore Pastries   \n",
       "1  9OG5YkX1g2GReZM0AskizA              Romano's Macaroni Grill   \n",
       "2  tMkwHmWFUEXrC9ZduonpTg                   The Green Pheasant   \n",
       "3  2xVsWBNFwZOxIOdd9Mwnww             Cheeseburger In Paradise   \n",
       "4  ljxNT9p0y7YMPx0fcNBGig  Tony's Restaurant & 3rd Street Cafe   \n",
       "\n",
       "                address          city state postal_code   latitude  \\\n",
       "0           935 Race St  Philadelphia    CA       19107  39.955505   \n",
       "1    5505 S Virginia St          Reno    AB       89502  39.476117   \n",
       "2         215 1st Ave S     Nashville    TN       37201  36.159886   \n",
       "3  116 N Pottstown Pike         Exton    PA       19341  40.029962   \n",
       "4          312 Piasa St         Alton    IL       62002  38.896563   \n",
       "\n",
       "    longitude  stars  review_count  is_open  \\\n",
       "0  -75.155564    4.0            80        1   \n",
       "1 -119.789339    2.5           339        1   \n",
       "2  -86.773197    4.0           161        0   \n",
       "3  -75.630607    2.5            20        0   \n",
       "4  -90.186203    3.0            94        1   \n",
       "\n",
       "                                          attributes  \\\n",
       "0  {'RestaurantsDelivery': 'False', 'OutdoorSeati...   \n",
       "1  {'RestaurantsGoodForGroups': 'True', 'Restaura...   \n",
       "2  {'RestaurantsGoodForGroups': 'True', 'HappyHou...   \n",
       "3  {'NoiseLevel': \"u'average'\", 'HasTV': 'True', ...   \n",
       "4  {'RestaurantsReservations': 'True', 'Restauran...   \n",
       "\n",
       "                                          categories  \\\n",
       "0  Restaurants, Food, Bubble Tea, Coffee & Tea, B...   \n",
       "1                               Restaurants, Italian   \n",
       "2                     Restaurants, Japanese, Seafood   \n",
       "3                               Restaurants, Burgers   \n",
       "4  Restaurants, Specialty Food, Steakhouses, Food...   \n",
       "\n",
       "                                               hours  \n",
       "0  {'Monday': '7:0-20:0', 'Tuesday': '7:0-20:0', ...  \n",
       "1  {'Monday': '11:0-22:0', 'Tuesday': '11:0-22:0'...  \n",
       "2  {'Wednesday': '16:0-22:0', 'Thursday': '16:0-2...  \n",
       "3                                                NaN  \n",
       "4  {'Monday': '0:0-0:0', 'Tuesday': '16:0-21:30',...  "
      ]
     },
     "execution_count": 189,
     "metadata": {},
     "output_type": "execute_result"
    }
   ],
   "source": [
    "Rest_yelp = pd.read_csv('../Datasets/Restaurantes_Yelp.csv',delimiter=',')\n",
    "Rest_yelp.head()"
   ]
  },
  {
   "cell_type": "code",
   "execution_count": 190,
   "metadata": {},
   "outputs": [
    {
     "data": {
      "text/html": [
       "<div>\n",
       "<style scoped>\n",
       "    .dataframe tbody tr th:only-of-type {\n",
       "        vertical-align: middle;\n",
       "    }\n",
       "\n",
       "    .dataframe tbody tr th {\n",
       "        vertical-align: top;\n",
       "    }\n",
       "\n",
       "    .dataframe thead th {\n",
       "        text-align: right;\n",
       "    }\n",
       "</style>\n",
       "<table border=\"1\" class=\"dataframe\">\n",
       "  <thead>\n",
       "    <tr style=\"text-align: right;\">\n",
       "      <th></th>\n",
       "      <th>name</th>\n",
       "      <th>address</th>\n",
       "      <th>latitude</th>\n",
       "      <th>longitude</th>\n",
       "      <th>categories</th>\n",
       "      <th>attributes</th>\n",
       "    </tr>\n",
       "  </thead>\n",
       "  <tbody>\n",
       "    <tr>\n",
       "      <th>0</th>\n",
       "      <td>St Honore Pastries</td>\n",
       "      <td>935 Race St</td>\n",
       "      <td>39.955505</td>\n",
       "      <td>-75.155564</td>\n",
       "      <td>Restaurants, Food, Bubble Tea, Coffee &amp; Tea, B...</td>\n",
       "      <td>{'RestaurantsDelivery': 'False', 'OutdoorSeati...</td>\n",
       "    </tr>\n",
       "    <tr>\n",
       "      <th>1</th>\n",
       "      <td>Romano's Macaroni Grill</td>\n",
       "      <td>5505 S Virginia St</td>\n",
       "      <td>39.476117</td>\n",
       "      <td>-119.789339</td>\n",
       "      <td>Restaurants, Italian</td>\n",
       "      <td>{'RestaurantsGoodForGroups': 'True', 'Restaura...</td>\n",
       "    </tr>\n",
       "    <tr>\n",
       "      <th>2</th>\n",
       "      <td>The Green Pheasant</td>\n",
       "      <td>215 1st Ave S</td>\n",
       "      <td>36.159886</td>\n",
       "      <td>-86.773197</td>\n",
       "      <td>Restaurants, Japanese, Seafood</td>\n",
       "      <td>{'RestaurantsGoodForGroups': 'True', 'HappyHou...</td>\n",
       "    </tr>\n",
       "    <tr>\n",
       "      <th>3</th>\n",
       "      <td>Cheeseburger In Paradise</td>\n",
       "      <td>116 N Pottstown Pike</td>\n",
       "      <td>40.029962</td>\n",
       "      <td>-75.630607</td>\n",
       "      <td>Restaurants, Burgers</td>\n",
       "      <td>{'NoiseLevel': \"u'average'\", 'HasTV': 'True', ...</td>\n",
       "    </tr>\n",
       "    <tr>\n",
       "      <th>4</th>\n",
       "      <td>Tony's Restaurant &amp; 3rd Street Cafe</td>\n",
       "      <td>312 Piasa St</td>\n",
       "      <td>38.896563</td>\n",
       "      <td>-90.186203</td>\n",
       "      <td>Restaurants, Specialty Food, Steakhouses, Food...</td>\n",
       "      <td>{'RestaurantsReservations': 'True', 'Restauran...</td>\n",
       "    </tr>\n",
       "  </tbody>\n",
       "</table>\n",
       "</div>"
      ],
      "text/plain": [
       "                                  name               address   latitude  \\\n",
       "0                   St Honore Pastries           935 Race St  39.955505   \n",
       "1              Romano's Macaroni Grill    5505 S Virginia St  39.476117   \n",
       "2                   The Green Pheasant         215 1st Ave S  36.159886   \n",
       "3             Cheeseburger In Paradise  116 N Pottstown Pike  40.029962   \n",
       "4  Tony's Restaurant & 3rd Street Cafe          312 Piasa St  38.896563   \n",
       "\n",
       "    longitude                                         categories  \\\n",
       "0  -75.155564  Restaurants, Food, Bubble Tea, Coffee & Tea, B...   \n",
       "1 -119.789339                               Restaurants, Italian   \n",
       "2  -86.773197                     Restaurants, Japanese, Seafood   \n",
       "3  -75.630607                               Restaurants, Burgers   \n",
       "4  -90.186203  Restaurants, Specialty Food, Steakhouses, Food...   \n",
       "\n",
       "                                          attributes  \n",
       "0  {'RestaurantsDelivery': 'False', 'OutdoorSeati...  \n",
       "1  {'RestaurantsGoodForGroups': 'True', 'Restaura...  \n",
       "2  {'RestaurantsGoodForGroups': 'True', 'HappyHou...  \n",
       "3  {'NoiseLevel': \"u'average'\", 'HasTV': 'True', ...  \n",
       "4  {'RestaurantsReservations': 'True', 'Restauran...  "
      ]
     },
     "execution_count": 190,
     "metadata": {},
     "output_type": "execute_result"
    }
   ],
   "source": [
    "Rest_yelp = Rest_yelp[['name','address','latitude','longitude','categories','attributes']]\n",
    "Rest_yelp.head()"
   ]
  },
  {
   "cell_type": "code",
   "execution_count": 191,
   "metadata": {},
   "outputs": [],
   "source": [
    "Rest_yelp['coord'] = Rest_yelp.apply(lambda row: (row['latitude'], row['longitude']), axis=1)\n",
    "Rest_yelp.drop(['latitude','longitude'],axis=1,inplace=True)"
   ]
  },
  {
   "cell_type": "code",
   "execution_count": 192,
   "metadata": {},
   "outputs": [
    {
     "data": {
      "text/html": [
       "<div>\n",
       "<style scoped>\n",
       "    .dataframe tbody tr th:only-of-type {\n",
       "        vertical-align: middle;\n",
       "    }\n",
       "\n",
       "    .dataframe tbody tr th {\n",
       "        vertical-align: top;\n",
       "    }\n",
       "\n",
       "    .dataframe thead th {\n",
       "        text-align: right;\n",
       "    }\n",
       "</style>\n",
       "<table border=\"1\" class=\"dataframe\">\n",
       "  <thead>\n",
       "    <tr style=\"text-align: right;\">\n",
       "      <th></th>\n",
       "      <th>name</th>\n",
       "      <th>address</th>\n",
       "      <th>categories</th>\n",
       "      <th>attributes</th>\n",
       "      <th>coord</th>\n",
       "    </tr>\n",
       "  </thead>\n",
       "  <tbody>\n",
       "    <tr>\n",
       "      <th>0</th>\n",
       "      <td>St Honore Pastries</td>\n",
       "      <td>935 Race St</td>\n",
       "      <td>Restaurants, Food, Bubble Tea, Coffee &amp; Tea, B...</td>\n",
       "      <td>{'RestaurantsDelivery': 'False', 'OutdoorSeati...</td>\n",
       "      <td>(39.9555052, -75.1555641)</td>\n",
       "    </tr>\n",
       "    <tr>\n",
       "      <th>1</th>\n",
       "      <td>Romano's Macaroni Grill</td>\n",
       "      <td>5505 S Virginia St</td>\n",
       "      <td>Restaurants, Italian</td>\n",
       "      <td>{'RestaurantsGoodForGroups': 'True', 'Restaura...</td>\n",
       "      <td>(39.4761165, -119.7893392)</td>\n",
       "    </tr>\n",
       "    <tr>\n",
       "      <th>2</th>\n",
       "      <td>The Green Pheasant</td>\n",
       "      <td>215 1st Ave S</td>\n",
       "      <td>Restaurants, Japanese, Seafood</td>\n",
       "      <td>{'RestaurantsGoodForGroups': 'True', 'HappyHou...</td>\n",
       "      <td>(36.1598858, -86.7731974)</td>\n",
       "    </tr>\n",
       "    <tr>\n",
       "      <th>3</th>\n",
       "      <td>Cheeseburger In Paradise</td>\n",
       "      <td>116 N Pottstown Pike</td>\n",
       "      <td>Restaurants, Burgers</td>\n",
       "      <td>{'NoiseLevel': \"u'average'\", 'HasTV': 'True', ...</td>\n",
       "      <td>(40.029962, -75.630607)</td>\n",
       "    </tr>\n",
       "    <tr>\n",
       "      <th>4</th>\n",
       "      <td>Tony's Restaurant &amp; 3rd Street Cafe</td>\n",
       "      <td>312 Piasa St</td>\n",
       "      <td>Restaurants, Specialty Food, Steakhouses, Food...</td>\n",
       "      <td>{'RestaurantsReservations': 'True', 'Restauran...</td>\n",
       "      <td>(38.896563, -90.1862032987)</td>\n",
       "    </tr>\n",
       "  </tbody>\n",
       "</table>\n",
       "</div>"
      ],
      "text/plain": [
       "                                  name               address  \\\n",
       "0                   St Honore Pastries           935 Race St   \n",
       "1              Romano's Macaroni Grill    5505 S Virginia St   \n",
       "2                   The Green Pheasant         215 1st Ave S   \n",
       "3             Cheeseburger In Paradise  116 N Pottstown Pike   \n",
       "4  Tony's Restaurant & 3rd Street Cafe          312 Piasa St   \n",
       "\n",
       "                                          categories  \\\n",
       "0  Restaurants, Food, Bubble Tea, Coffee & Tea, B...   \n",
       "1                               Restaurants, Italian   \n",
       "2                     Restaurants, Japanese, Seafood   \n",
       "3                               Restaurants, Burgers   \n",
       "4  Restaurants, Specialty Food, Steakhouses, Food...   \n",
       "\n",
       "                                          attributes  \\\n",
       "0  {'RestaurantsDelivery': 'False', 'OutdoorSeati...   \n",
       "1  {'RestaurantsGoodForGroups': 'True', 'Restaura...   \n",
       "2  {'RestaurantsGoodForGroups': 'True', 'HappyHou...   \n",
       "3  {'NoiseLevel': \"u'average'\", 'HasTV': 'True', ...   \n",
       "4  {'RestaurantsReservations': 'True', 'Restauran...   \n",
       "\n",
       "                         coord  \n",
       "0    (39.9555052, -75.1555641)  \n",
       "1   (39.4761165, -119.7893392)  \n",
       "2    (36.1598858, -86.7731974)  \n",
       "3      (40.029962, -75.630607)  \n",
       "4  (38.896563, -90.1862032987)  "
      ]
     },
     "execution_count": 192,
     "metadata": {},
     "output_type": "execute_result"
    }
   ],
   "source": [
    "Rest_yelp.head()"
   ]
  },
  {
   "cell_type": "code",
   "execution_count": 193,
   "metadata": {},
   "outputs": [
    {
     "data": {
      "text/plain": [
       "'Restaurants,Food,BubbleTea,Coffee&Tea,Bakeries'"
      ]
     },
     "execution_count": 193,
     "metadata": {},
     "output_type": "execute_result"
    }
   ],
   "source": [
    "Rest_yelp['categories'][0].replace(' ','')"
   ]
  },
  {
   "cell_type": "code",
   "execution_count": 194,
   "metadata": {},
   "outputs": [
    {
     "data": {
      "text/plain": [
       "['restaurants', 'food', 'bubbletea', 'coffee&tea', 'bakeries']"
      ]
     },
     "execution_count": 194,
     "metadata": {},
     "output_type": "execute_result"
    }
   ],
   "source": [
    "Rest_yelp['categories'][0].replace(' ','').lower().split(',')"
   ]
  },
  {
   "cell_type": "code",
   "execution_count": 195,
   "metadata": {},
   "outputs": [],
   "source": [
    "Rest_yelp['categories'] = Rest_yelp['categories'].apply(lambda text : text.replace(' ','').lower().split(','))"
   ]
  },
  {
   "cell_type": "code",
   "execution_count": 196,
   "metadata": {},
   "outputs": [
    {
     "data": {
      "text/html": [
       "<div>\n",
       "<style scoped>\n",
       "    .dataframe tbody tr th:only-of-type {\n",
       "        vertical-align: middle;\n",
       "    }\n",
       "\n",
       "    .dataframe tbody tr th {\n",
       "        vertical-align: top;\n",
       "    }\n",
       "\n",
       "    .dataframe thead th {\n",
       "        text-align: right;\n",
       "    }\n",
       "</style>\n",
       "<table border=\"1\" class=\"dataframe\">\n",
       "  <thead>\n",
       "    <tr style=\"text-align: right;\">\n",
       "      <th></th>\n",
       "      <th>name</th>\n",
       "      <th>address</th>\n",
       "      <th>categories</th>\n",
       "      <th>attributes</th>\n",
       "      <th>coord</th>\n",
       "    </tr>\n",
       "  </thead>\n",
       "  <tbody>\n",
       "    <tr>\n",
       "      <th>0</th>\n",
       "      <td>St Honore Pastries</td>\n",
       "      <td>935 Race St</td>\n",
       "      <td>[restaurants, food, bubbletea, coffee&amp;tea, bak...</td>\n",
       "      <td>{'RestaurantsDelivery': 'False', 'OutdoorSeati...</td>\n",
       "      <td>(39.9555052, -75.1555641)</td>\n",
       "    </tr>\n",
       "    <tr>\n",
       "      <th>1</th>\n",
       "      <td>Romano's Macaroni Grill</td>\n",
       "      <td>5505 S Virginia St</td>\n",
       "      <td>[restaurants, italian]</td>\n",
       "      <td>{'RestaurantsGoodForGroups': 'True', 'Restaura...</td>\n",
       "      <td>(39.4761165, -119.7893392)</td>\n",
       "    </tr>\n",
       "    <tr>\n",
       "      <th>2</th>\n",
       "      <td>The Green Pheasant</td>\n",
       "      <td>215 1st Ave S</td>\n",
       "      <td>[restaurants, japanese, seafood]</td>\n",
       "      <td>{'RestaurantsGoodForGroups': 'True', 'HappyHou...</td>\n",
       "      <td>(36.1598858, -86.7731974)</td>\n",
       "    </tr>\n",
       "    <tr>\n",
       "      <th>3</th>\n",
       "      <td>Cheeseburger In Paradise</td>\n",
       "      <td>116 N Pottstown Pike</td>\n",
       "      <td>[restaurants, burgers]</td>\n",
       "      <td>{'NoiseLevel': \"u'average'\", 'HasTV': 'True', ...</td>\n",
       "      <td>(40.029962, -75.630607)</td>\n",
       "    </tr>\n",
       "    <tr>\n",
       "      <th>4</th>\n",
       "      <td>Tony's Restaurant &amp; 3rd Street Cafe</td>\n",
       "      <td>312 Piasa St</td>\n",
       "      <td>[restaurants, specialtyfood, steakhouses, food...</td>\n",
       "      <td>{'RestaurantsReservations': 'True', 'Restauran...</td>\n",
       "      <td>(38.896563, -90.1862032987)</td>\n",
       "    </tr>\n",
       "  </tbody>\n",
       "</table>\n",
       "</div>"
      ],
      "text/plain": [
       "                                  name               address  \\\n",
       "0                   St Honore Pastries           935 Race St   \n",
       "1              Romano's Macaroni Grill    5505 S Virginia St   \n",
       "2                   The Green Pheasant         215 1st Ave S   \n",
       "3             Cheeseburger In Paradise  116 N Pottstown Pike   \n",
       "4  Tony's Restaurant & 3rd Street Cafe          312 Piasa St   \n",
       "\n",
       "                                          categories  \\\n",
       "0  [restaurants, food, bubbletea, coffee&tea, bak...   \n",
       "1                             [restaurants, italian]   \n",
       "2                   [restaurants, japanese, seafood]   \n",
       "3                             [restaurants, burgers]   \n",
       "4  [restaurants, specialtyfood, steakhouses, food...   \n",
       "\n",
       "                                          attributes  \\\n",
       "0  {'RestaurantsDelivery': 'False', 'OutdoorSeati...   \n",
       "1  {'RestaurantsGoodForGroups': 'True', 'Restaura...   \n",
       "2  {'RestaurantsGoodForGroups': 'True', 'HappyHou...   \n",
       "3  {'NoiseLevel': \"u'average'\", 'HasTV': 'True', ...   \n",
       "4  {'RestaurantsReservations': 'True', 'Restauran...   \n",
       "\n",
       "                         coord  \n",
       "0    (39.9555052, -75.1555641)  \n",
       "1   (39.4761165, -119.7893392)  \n",
       "2    (36.1598858, -86.7731974)  \n",
       "3      (40.029962, -75.630607)  \n",
       "4  (38.896563, -90.1862032987)  "
      ]
     },
     "execution_count": 196,
     "metadata": {},
     "output_type": "execute_result"
    }
   ],
   "source": [
    "Rest_yelp.head()"
   ]
  },
  {
   "cell_type": "code",
   "execution_count": 197,
   "metadata": {},
   "outputs": [
    {
     "data": {
      "text/plain": [
       "str"
      ]
     },
     "execution_count": 197,
     "metadata": {},
     "output_type": "execute_result"
    }
   ],
   "source": [
    "type(Rest_yelp['attributes'][0])"
   ]
  },
  {
   "cell_type": "code",
   "execution_count": 198,
   "metadata": {},
   "outputs": [
    {
     "data": {
      "text/html": [
       "<div>\n",
       "<style scoped>\n",
       "    .dataframe tbody tr th:only-of-type {\n",
       "        vertical-align: middle;\n",
       "    }\n",
       "\n",
       "    .dataframe tbody tr th {\n",
       "        vertical-align: top;\n",
       "    }\n",
       "\n",
       "    .dataframe thead th {\n",
       "        text-align: right;\n",
       "    }\n",
       "</style>\n",
       "<table border=\"1\" class=\"dataframe\">\n",
       "  <thead>\n",
       "    <tr style=\"text-align: right;\">\n",
       "      <th></th>\n",
       "      <th>name</th>\n",
       "      <th>address</th>\n",
       "      <th>categories</th>\n",
       "      <th>attributes</th>\n",
       "      <th>coord</th>\n",
       "    </tr>\n",
       "  </thead>\n",
       "  <tbody>\n",
       "    <tr>\n",
       "      <th>0</th>\n",
       "      <td>St Honore Pastries</td>\n",
       "      <td>935 Race St</td>\n",
       "      <td>[restaurants, food, bubbletea, coffee&amp;tea, bak...</td>\n",
       "      <td>{'RestaurantsDelivery': 'False', 'OutdoorSeati...</td>\n",
       "      <td>(39.9555052, -75.1555641)</td>\n",
       "    </tr>\n",
       "  </tbody>\n",
       "</table>\n",
       "</div>"
      ],
      "text/plain": [
       "                 name      address  \\\n",
       "0  St Honore Pastries  935 Race St   \n",
       "\n",
       "                                          categories  \\\n",
       "0  [restaurants, food, bubbletea, coffee&tea, bak...   \n",
       "\n",
       "                                          attributes  \\\n",
       "0  {'RestaurantsDelivery': 'False', 'OutdoorSeati...   \n",
       "\n",
       "                       coord  \n",
       "0  (39.9555052, -75.1555641)  "
      ]
     },
     "execution_count": 198,
     "metadata": {},
     "output_type": "execute_result"
    }
   ],
   "source": [
    "Rest_yelp['attributes'] = Rest_yelp['attributes'].replace('\\'', \"'\")\n",
    "Rest_yelp.head(1)"
   ]
  },
  {
   "cell_type": "code",
   "execution_count": 199,
   "metadata": {},
   "outputs": [],
   "source": [
    "for index,a in enumerate(Rest_yelp['attributes']):\n",
    "    if isinstance(a,str):\n",
    "        Rest_yelp['attributes'][index] = eval(Rest_yelp['attributes'][index])"
   ]
  },
  {
   "cell_type": "code",
   "execution_count": 200,
   "metadata": {},
   "outputs": [
    {
     "data": {
      "text/plain": [
       "dict_keys(['RestaurantsDelivery', 'OutdoorSeating', 'BusinessAcceptsCreditCards', 'BusinessParking', 'BikeParking', 'RestaurantsPriceRange2', 'RestaurantsTakeOut', 'ByAppointmentOnly', 'WiFi', 'Alcohol', 'Caters'])"
      ]
     },
     "execution_count": 200,
     "metadata": {},
     "output_type": "execute_result"
    }
   ],
   "source": [
    "Rest_yelp['attributes'][0].keys()"
   ]
  },
  {
   "cell_type": "code",
   "execution_count": 201,
   "metadata": {},
   "outputs": [],
   "source": [
    "def keysflag(dicc):\n",
    "    if isinstance(dicc,dict):\n",
    "        lista = []\n",
    "        for key in dicc.keys():\n",
    "            if dicc[key] == 'True':\n",
    "                lista.append(key.lower())\n",
    "        return lista\n",
    "\n",
    "Rest_yelp['attributes'] = Rest_yelp['attributes'].apply(keysflag)"
   ]
  },
  {
   "cell_type": "code",
   "execution_count": 202,
   "metadata": {},
   "outputs": [
    {
     "data": {
      "text/plain": [
       "0                [bikeparking, restaurantstakeout, caters]\n",
       "1        [restaurantsgoodforgroups, restaurantstakeout,...\n",
       "2        [restaurantsgoodforgroups, happyhour, business...\n",
       "3        [hastv, businessacceptscreditcards, outdoorsea...\n",
       "4        [restaurantsreservations, outdoorseating, busi...\n",
       "                               ...                        \n",
       "15300    [restaurantstakeout, caters, hastv, goodforkid...\n",
       "15301    [restaurantstakeout, restaurantsdelivery, busi...\n",
       "15302    [bikeparking, businessacceptscreditcards, rest...\n",
       "15303    [caters, businessacceptscreditcards, hastv, go...\n",
       "15304    [wheelchairaccessible, caters, businessaccepts...\n",
       "Name: attributes, Length: 15305, dtype: object"
      ]
     },
     "execution_count": 202,
     "metadata": {},
     "output_type": "execute_result"
    }
   ],
   "source": [
    "Rest_yelp['attributes']"
   ]
  },
  {
   "cell_type": "code",
   "execution_count": 203,
   "metadata": {},
   "outputs": [],
   "source": [
    "Rest_yelp['keywords'] = Rest_yelp['categories'] + Rest_yelp['attributes']"
   ]
  },
  {
   "cell_type": "code",
   "execution_count": 204,
   "metadata": {},
   "outputs": [],
   "source": [
    "Rest_yelp.drop(['categories','attributes'],axis=1,inplace=True)"
   ]
  },
  {
   "cell_type": "code",
   "execution_count": 205,
   "metadata": {},
   "outputs": [
    {
     "data": {
      "text/html": [
       "<div>\n",
       "<style scoped>\n",
       "    .dataframe tbody tr th:only-of-type {\n",
       "        vertical-align: middle;\n",
       "    }\n",
       "\n",
       "    .dataframe tbody tr th {\n",
       "        vertical-align: top;\n",
       "    }\n",
       "\n",
       "    .dataframe thead th {\n",
       "        text-align: right;\n",
       "    }\n",
       "</style>\n",
       "<table border=\"1\" class=\"dataframe\">\n",
       "  <thead>\n",
       "    <tr style=\"text-align: right;\">\n",
       "      <th></th>\n",
       "      <th>name</th>\n",
       "      <th>address</th>\n",
       "      <th>coord</th>\n",
       "      <th>keywords</th>\n",
       "    </tr>\n",
       "  </thead>\n",
       "  <tbody>\n",
       "    <tr>\n",
       "      <th>0</th>\n",
       "      <td>St Honore Pastries</td>\n",
       "      <td>935 Race St</td>\n",
       "      <td>(39.9555052, -75.1555641)</td>\n",
       "      <td>[restaurants, food, bubbletea, coffee&amp;tea, bak...</td>\n",
       "    </tr>\n",
       "    <tr>\n",
       "      <th>1</th>\n",
       "      <td>Romano's Macaroni Grill</td>\n",
       "      <td>5505 S Virginia St</td>\n",
       "      <td>(39.4761165, -119.7893392)</td>\n",
       "      <td>[restaurants, italian, restaurantsgoodforgroup...</td>\n",
       "    </tr>\n",
       "    <tr>\n",
       "      <th>2</th>\n",
       "      <td>The Green Pheasant</td>\n",
       "      <td>215 1st Ave S</td>\n",
       "      <td>(36.1598858, -86.7731974)</td>\n",
       "      <td>[restaurants, japanese, seafood, restaurantsgo...</td>\n",
       "    </tr>\n",
       "    <tr>\n",
       "      <th>3</th>\n",
       "      <td>Cheeseburger In Paradise</td>\n",
       "      <td>116 N Pottstown Pike</td>\n",
       "      <td>(40.029962, -75.630607)</td>\n",
       "      <td>[restaurants, burgers, hastv, businessacceptsc...</td>\n",
       "    </tr>\n",
       "    <tr>\n",
       "      <th>4</th>\n",
       "      <td>Tony's Restaurant &amp; 3rd Street Cafe</td>\n",
       "      <td>312 Piasa St</td>\n",
       "      <td>(38.896563, -90.1862032987)</td>\n",
       "      <td>[restaurants, specialtyfood, steakhouses, food...</td>\n",
       "    </tr>\n",
       "  </tbody>\n",
       "</table>\n",
       "</div>"
      ],
      "text/plain": [
       "                                  name               address  \\\n",
       "0                   St Honore Pastries           935 Race St   \n",
       "1              Romano's Macaroni Grill    5505 S Virginia St   \n",
       "2                   The Green Pheasant         215 1st Ave S   \n",
       "3             Cheeseburger In Paradise  116 N Pottstown Pike   \n",
       "4  Tony's Restaurant & 3rd Street Cafe          312 Piasa St   \n",
       "\n",
       "                         coord  \\\n",
       "0    (39.9555052, -75.1555641)   \n",
       "1   (39.4761165, -119.7893392)   \n",
       "2    (36.1598858, -86.7731974)   \n",
       "3      (40.029962, -75.630607)   \n",
       "4  (38.896563, -90.1862032987)   \n",
       "\n",
       "                                            keywords  \n",
       "0  [restaurants, food, bubbletea, coffee&tea, bak...  \n",
       "1  [restaurants, italian, restaurantsgoodforgroup...  \n",
       "2  [restaurants, japanese, seafood, restaurantsgo...  \n",
       "3  [restaurants, burgers, hastv, businessacceptsc...  \n",
       "4  [restaurants, specialtyfood, steakhouses, food...  "
      ]
     },
     "execution_count": 205,
     "metadata": {},
     "output_type": "execute_result"
    }
   ],
   "source": [
    "Rest_yelp.head()"
   ]
  },
  {
   "cell_type": "code",
   "execution_count": 206,
   "metadata": {},
   "outputs": [],
   "source": [
    "Rest_yelp.to_parquet('../Datasets_ML/Rest_yelp.parquet')"
   ]
  },
  {
   "cell_type": "markdown",
   "metadata": {},
   "source": [
    "***"
   ]
  },
  {
   "cell_type": "code",
   "execution_count": 207,
   "metadata": {},
   "outputs": [],
   "source": [
    "Rest_total = pd.concat([Rest_google, Rest_yelp], ignore_index=True)"
   ]
  },
  {
   "cell_type": "code",
   "execution_count": 208,
   "metadata": {},
   "outputs": [
    {
     "data": {
      "text/html": [
       "<div>\n",
       "<style scoped>\n",
       "    .dataframe tbody tr th:only-of-type {\n",
       "        vertical-align: middle;\n",
       "    }\n",
       "\n",
       "    .dataframe tbody tr th {\n",
       "        vertical-align: top;\n",
       "    }\n",
       "\n",
       "    .dataframe thead th {\n",
       "        text-align: right;\n",
       "    }\n",
       "</style>\n",
       "<table border=\"1\" class=\"dataframe\">\n",
       "  <thead>\n",
       "    <tr style=\"text-align: right;\">\n",
       "      <th></th>\n",
       "      <th>name</th>\n",
       "      <th>address</th>\n",
       "      <th>coord</th>\n",
       "      <th>keywords</th>\n",
       "    </tr>\n",
       "  </thead>\n",
       "  <tbody>\n",
       "    <tr>\n",
       "      <th>0</th>\n",
       "      <td>Roux's Roadhouse 73</td>\n",
       "      <td>Roux's Roadhouse 73, 784 WI-73, Nekoosa, WI 54457</td>\n",
       "      <td>(44.3069541, -89.8457834)</td>\n",
       "      <td>[restaurant, takeout, dine-in, delivery, staff...</td>\n",
       "    </tr>\n",
       "    <tr>\n",
       "      <th>1</th>\n",
       "      <td>Crepes n' Tacos Mexican Grill</td>\n",
       "      <td>Crepes n' Tacos Mexican Grill, suit #5, 5390, ...</td>\n",
       "      <td>(36.1646332, -115.0607804)</td>\n",
       "      <td>[mexican restaurant, crêperie, ice cream shop,...</td>\n",
       "    </tr>\n",
       "    <tr>\n",
       "      <th>2</th>\n",
       "      <td>The Big Eazy</td>\n",
       "      <td>The Big Eazy, 2053 N Doctor M.L.K. Jr Dr, Milw...</td>\n",
       "      <td>(43.0576581, -87.914643)</td>\n",
       "      <td>[cajun restaurant, creole restaurant, delivery...</td>\n",
       "    </tr>\n",
       "    <tr>\n",
       "      <th>3</th>\n",
       "      <td>Subway</td>\n",
       "      <td>Subway, 250 E Wolf Run, Mukwonago, WI 53149</td>\n",
       "      <td>(42.8541679, -88.3142471)</td>\n",
       "      <td>[sandwich shop, caterer, fast food restaurant,...</td>\n",
       "    </tr>\n",
       "    <tr>\n",
       "      <th>4</th>\n",
       "      <td>Papa Kelsey's</td>\n",
       "      <td>Papa Kelsey's, 165 E 1400 N, Logan, UT 84341</td>\n",
       "      <td>(41.7580941, -111.8302904)</td>\n",
       "      <td>[pizza restaurant, delivery, reservations requ...</td>\n",
       "    </tr>\n",
       "  </tbody>\n",
       "</table>\n",
       "</div>"
      ],
      "text/plain": [
       "                            name  \\\n",
       "0            Roux's Roadhouse 73   \n",
       "1  Crepes n' Tacos Mexican Grill   \n",
       "2                   The Big Eazy   \n",
       "3                         Subway   \n",
       "4                  Papa Kelsey's   \n",
       "\n",
       "                                             address  \\\n",
       "0  Roux's Roadhouse 73, 784 WI-73, Nekoosa, WI 54457   \n",
       "1  Crepes n' Tacos Mexican Grill, suit #5, 5390, ...   \n",
       "2  The Big Eazy, 2053 N Doctor M.L.K. Jr Dr, Milw...   \n",
       "3        Subway, 250 E Wolf Run, Mukwonago, WI 53149   \n",
       "4       Papa Kelsey's, 165 E 1400 N, Logan, UT 84341   \n",
       "\n",
       "                        coord  \\\n",
       "0   (44.3069541, -89.8457834)   \n",
       "1  (36.1646332, -115.0607804)   \n",
       "2    (43.0576581, -87.914643)   \n",
       "3   (42.8541679, -88.3142471)   \n",
       "4  (41.7580941, -111.8302904)   \n",
       "\n",
       "                                            keywords  \n",
       "0  [restaurant, takeout, dine-in, delivery, staff...  \n",
       "1  [mexican restaurant, crêperie, ice cream shop,...  \n",
       "2  [cajun restaurant, creole restaurant, delivery...  \n",
       "3  [sandwich shop, caterer, fast food restaurant,...  \n",
       "4  [pizza restaurant, delivery, reservations requ...  "
      ]
     },
     "execution_count": 208,
     "metadata": {},
     "output_type": "execute_result"
    }
   ],
   "source": [
    "Rest_total.head()"
   ]
  },
  {
   "cell_type": "code",
   "execution_count": 209,
   "metadata": {},
   "outputs": [
    {
     "data": {
      "text/plain": [
       "list"
      ]
     },
     "execution_count": 209,
     "metadata": {},
     "output_type": "execute_result"
    }
   ],
   "source": [
    "type(Rest_total['keywords'][0])"
   ]
  },
  {
   "cell_type": "code",
   "execution_count": 210,
   "metadata": {},
   "outputs": [],
   "source": [
    "Rest_total.to_parquet('../Datasets_ML/Rest_total.parquet')"
   ]
  },
  {
   "cell_type": "markdown",
   "metadata": {},
   "source": [
    "***"
   ]
  },
  {
   "cell_type": "code",
   "execution_count": 2,
   "metadata": {},
   "outputs": [
    {
     "data": {
      "text/html": [
       "<div>\n",
       "<style scoped>\n",
       "    .dataframe tbody tr th:only-of-type {\n",
       "        vertical-align: middle;\n",
       "    }\n",
       "\n",
       "    .dataframe tbody tr th {\n",
       "        vertical-align: top;\n",
       "    }\n",
       "\n",
       "    .dataframe thead th {\n",
       "        text-align: right;\n",
       "    }\n",
       "</style>\n",
       "<table border=\"1\" class=\"dataframe\">\n",
       "  <thead>\n",
       "    <tr style=\"text-align: right;\">\n",
       "      <th></th>\n",
       "      <th>name</th>\n",
       "      <th>address</th>\n",
       "      <th>coord</th>\n",
       "      <th>keywords</th>\n",
       "    </tr>\n",
       "  </thead>\n",
       "  <tbody>\n",
       "    <tr>\n",
       "      <th>0</th>\n",
       "      <td>Roux's Roadhouse 73</td>\n",
       "      <td>Roux's Roadhouse 73, 784 WI-73, Nekoosa, WI 54457</td>\n",
       "      <td>[44.3069541, -89.8457834]</td>\n",
       "      <td>[restaurant, takeout, dine-in, delivery, staff...</td>\n",
       "    </tr>\n",
       "    <tr>\n",
       "      <th>1</th>\n",
       "      <td>Crepes n' Tacos Mexican Grill</td>\n",
       "      <td>Crepes n' Tacos Mexican Grill, suit #5, 5390, ...</td>\n",
       "      <td>[36.1646332, -115.0607804]</td>\n",
       "      <td>[mexican restaurant, crêperie, ice cream shop,...</td>\n",
       "    </tr>\n",
       "    <tr>\n",
       "      <th>2</th>\n",
       "      <td>The Big Eazy</td>\n",
       "      <td>The Big Eazy, 2053 N Doctor M.L.K. Jr Dr, Milw...</td>\n",
       "      <td>[43.0576581, -87.914643]</td>\n",
       "      <td>[cajun restaurant, creole restaurant, delivery...</td>\n",
       "    </tr>\n",
       "    <tr>\n",
       "      <th>3</th>\n",
       "      <td>Subway</td>\n",
       "      <td>Subway, 250 E Wolf Run, Mukwonago, WI 53149</td>\n",
       "      <td>[42.8541679, -88.3142471]</td>\n",
       "      <td>[sandwich shop, caterer, fast food restaurant,...</td>\n",
       "    </tr>\n",
       "    <tr>\n",
       "      <th>4</th>\n",
       "      <td>Papa Kelsey's</td>\n",
       "      <td>Papa Kelsey's, 165 E 1400 N, Logan, UT 84341</td>\n",
       "      <td>[41.7580941, -111.8302904]</td>\n",
       "      <td>[pizza restaurant, delivery, reservations requ...</td>\n",
       "    </tr>\n",
       "  </tbody>\n",
       "</table>\n",
       "</div>"
      ],
      "text/plain": [
       "                            name  \\\n",
       "0            Roux's Roadhouse 73   \n",
       "1  Crepes n' Tacos Mexican Grill   \n",
       "2                   The Big Eazy   \n",
       "3                         Subway   \n",
       "4                  Papa Kelsey's   \n",
       "\n",
       "                                             address  \\\n",
       "0  Roux's Roadhouse 73, 784 WI-73, Nekoosa, WI 54457   \n",
       "1  Crepes n' Tacos Mexican Grill, suit #5, 5390, ...   \n",
       "2  The Big Eazy, 2053 N Doctor M.L.K. Jr Dr, Milw...   \n",
       "3        Subway, 250 E Wolf Run, Mukwonago, WI 53149   \n",
       "4       Papa Kelsey's, 165 E 1400 N, Logan, UT 84341   \n",
       "\n",
       "                        coord  \\\n",
       "0   [44.3069541, -89.8457834]   \n",
       "1  [36.1646332, -115.0607804]   \n",
       "2    [43.0576581, -87.914643]   \n",
       "3   [42.8541679, -88.3142471]   \n",
       "4  [41.7580941, -111.8302904]   \n",
       "\n",
       "                                            keywords  \n",
       "0  [restaurant, takeout, dine-in, delivery, staff...  \n",
       "1  [mexican restaurant, crêperie, ice cream shop,...  \n",
       "2  [cajun restaurant, creole restaurant, delivery...  \n",
       "3  [sandwich shop, caterer, fast food restaurant,...  \n",
       "4  [pizza restaurant, delivery, reservations requ...  "
      ]
     },
     "execution_count": 2,
     "metadata": {},
     "output_type": "execute_result"
    }
   ],
   "source": [
    "df_total = pd.read_parquet('../Datasets_ML/Rest_total.parquet')\n",
    "df_total.head()"
   ]
  },
  {
   "cell_type": "code",
   "execution_count": 3,
   "metadata": {},
   "outputs": [
    {
     "data": {
      "text/plain": [
       "18528"
      ]
     },
     "execution_count": 3,
     "metadata": {},
     "output_type": "execute_result"
    }
   ],
   "source": [
    "len(df_total)"
   ]
  },
  {
   "cell_type": "code",
   "execution_count": 212,
   "metadata": {},
   "outputs": [
    {
     "name": "stdout",
     "output_type": "stream",
     "text": [
      "<class 'pandas.core.frame.DataFrame'>\n",
      "RangeIndex: 18528 entries, 0 to 18527\n",
      "Data columns (total 4 columns):\n",
      " #   Column    Non-Null Count  Dtype \n",
      "---  ------    --------------  ----- \n",
      " 0   name      18528 non-null  object\n",
      " 1   address   18438 non-null  object\n",
      " 2   coord     18528 non-null  object\n",
      " 3   keywords  18335 non-null  object\n",
      "dtypes: object(4)\n",
      "memory usage: 579.1+ KB\n"
     ]
    }
   ],
   "source": [
    "df_total.info()"
   ]
  },
  {
   "cell_type": "code",
   "execution_count": 213,
   "metadata": {},
   "outputs": [
    {
     "name": "stdout",
     "output_type": "stream",
     "text": [
      "Modelo en_core_web_md cargado exitosamente.\n"
     ]
    }
   ],
   "source": [
    "model_name = \"en_core_web_md\"\n",
    "\n",
    "def load_model(model_name): \n",
    "    try:\n",
    "        nlp = spacy.load(model_name)\n",
    "        print(f\"Modelo {model_name} cargado exitosamente.\")\n",
    "        return nlp\n",
    "    except OSError:\n",
    "        print(f\"El modelo {model_name} no está instalado. Descargando e instalando...\")\n",
    "        spacy.cli.download(model_name)\n",
    "        nlp = spacy.load(model_name)\n",
    "        return nlp\n",
    "    \n",
    "nlp_en = load_model(model_name)"
   ]
  },
  {
   "cell_type": "code",
   "execution_count": 214,
   "metadata": {},
   "outputs": [],
   "source": [
    "def df_embedding(lista):\n",
    "    if isinstance(lista, np.ndarray):\n",
    "        # Calcular embeddings solo si la lista es un numpy array\n",
    "        embeddings_lista = np.array([nlp_en(palabra).vector for palabra in lista])\n",
    "\n",
    "        # Si tienes GPU disponible y los embeddings de nlp_en están en GPU, mover los embeddings a GPU\n",
    "        if torch.cuda.is_available() and isinstance(embeddings_lista, torch.Tensor):\n",
    "            embeddings_lista = embeddings_lista.cuda()\n",
    "\n",
    "        return embeddings_lista\n",
    "    else:\n",
    "        return None\n"
   ]
  },
  {
   "cell_type": "code",
   "execution_count": 215,
   "metadata": {},
   "outputs": [],
   "source": [
    "df_total['embedding'] = df_total['keywords'].apply(df_embedding)"
   ]
  },
  {
   "cell_type": "code",
   "execution_count": 216,
   "metadata": {},
   "outputs": [
    {
     "data": {
      "text/html": [
       "<div>\n",
       "<style scoped>\n",
       "    .dataframe tbody tr th:only-of-type {\n",
       "        vertical-align: middle;\n",
       "    }\n",
       "\n",
       "    .dataframe tbody tr th {\n",
       "        vertical-align: top;\n",
       "    }\n",
       "\n",
       "    .dataframe thead th {\n",
       "        text-align: right;\n",
       "    }\n",
       "</style>\n",
       "<table border=\"1\" class=\"dataframe\">\n",
       "  <thead>\n",
       "    <tr style=\"text-align: right;\">\n",
       "      <th></th>\n",
       "      <th>name</th>\n",
       "      <th>address</th>\n",
       "      <th>coord</th>\n",
       "      <th>keywords</th>\n",
       "      <th>embedding</th>\n",
       "    </tr>\n",
       "  </thead>\n",
       "  <tbody>\n",
       "    <tr>\n",
       "      <th>0</th>\n",
       "      <td>Roux's Roadhouse 73</td>\n",
       "      <td>Roux's Roadhouse 73, 784 WI-73, Nekoosa, WI 54457</td>\n",
       "      <td>[44.3069541, -89.8457834]</td>\n",
       "      <td>[restaurant, takeout, dine-in, delivery, staff...</td>\n",
       "      <td>[[0.84636, -1.1249, -2.3415, -0.12289, 3.0118,...</td>\n",
       "    </tr>\n",
       "    <tr>\n",
       "      <th>1</th>\n",
       "      <td>Crepes n' Tacos Mexican Grill</td>\n",
       "      <td>Crepes n' Tacos Mexican Grill, suit #5, 5390, ...</td>\n",
       "      <td>[36.1646332, -115.0607804]</td>\n",
       "      <td>[mexican restaurant, crêperie, ice cream shop,...</td>\n",
       "      <td>[[-1.15987, -0.23539498, -2.703, -0.27396, 4.7...</td>\n",
       "    </tr>\n",
       "    <tr>\n",
       "      <th>2</th>\n",
       "      <td>The Big Eazy</td>\n",
       "      <td>The Big Eazy, 2053 N Doctor M.L.K. Jr Dr, Milw...</td>\n",
       "      <td>[43.0576581, -87.914643]</td>\n",
       "      <td>[cajun restaurant, creole restaurant, delivery...</td>\n",
       "      <td>[[-1.72852, -3.57585, -0.14324999, -0.1046505,...</td>\n",
       "    </tr>\n",
       "    <tr>\n",
       "      <th>3</th>\n",
       "      <td>Subway</td>\n",
       "      <td>Subway, 250 E Wolf Run, Mukwonago, WI 53149</td>\n",
       "      <td>[42.8541679, -88.3142471]</td>\n",
       "      <td>[sandwich shop, caterer, fast food restaurant,...</td>\n",
       "      <td>[[-1.46857, -3.8650498, -1.97485, 2.0822, 1.41...</td>\n",
       "    </tr>\n",
       "    <tr>\n",
       "      <th>4</th>\n",
       "      <td>Papa Kelsey's</td>\n",
       "      <td>Papa Kelsey's, 165 E 1400 N, Logan, UT 84341</td>\n",
       "      <td>[41.7580941, -111.8302904]</td>\n",
       "      <td>[pizza restaurant, delivery, reservations requ...</td>\n",
       "      <td>[[0.32144, -1.7504499, -3.4772, 1.227705, 1.85...</td>\n",
       "    </tr>\n",
       "  </tbody>\n",
       "</table>\n",
       "</div>"
      ],
      "text/plain": [
       "                            name  \\\n",
       "0            Roux's Roadhouse 73   \n",
       "1  Crepes n' Tacos Mexican Grill   \n",
       "2                   The Big Eazy   \n",
       "3                         Subway   \n",
       "4                  Papa Kelsey's   \n",
       "\n",
       "                                             address  \\\n",
       "0  Roux's Roadhouse 73, 784 WI-73, Nekoosa, WI 54457   \n",
       "1  Crepes n' Tacos Mexican Grill, suit #5, 5390, ...   \n",
       "2  The Big Eazy, 2053 N Doctor M.L.K. Jr Dr, Milw...   \n",
       "3        Subway, 250 E Wolf Run, Mukwonago, WI 53149   \n",
       "4       Papa Kelsey's, 165 E 1400 N, Logan, UT 84341   \n",
       "\n",
       "                        coord  \\\n",
       "0   [44.3069541, -89.8457834]   \n",
       "1  [36.1646332, -115.0607804]   \n",
       "2    [43.0576581, -87.914643]   \n",
       "3   [42.8541679, -88.3142471]   \n",
       "4  [41.7580941, -111.8302904]   \n",
       "\n",
       "                                            keywords  \\\n",
       "0  [restaurant, takeout, dine-in, delivery, staff...   \n",
       "1  [mexican restaurant, crêperie, ice cream shop,...   \n",
       "2  [cajun restaurant, creole restaurant, delivery...   \n",
       "3  [sandwich shop, caterer, fast food restaurant,...   \n",
       "4  [pizza restaurant, delivery, reservations requ...   \n",
       "\n",
       "                                           embedding  \n",
       "0  [[0.84636, -1.1249, -2.3415, -0.12289, 3.0118,...  \n",
       "1  [[-1.15987, -0.23539498, -2.703, -0.27396, 4.7...  \n",
       "2  [[-1.72852, -3.57585, -0.14324999, -0.1046505,...  \n",
       "3  [[-1.46857, -3.8650498, -1.97485, 2.0822, 1.41...  \n",
       "4  [[0.32144, -1.7504499, -3.4772, 1.227705, 1.85...  "
      ]
     },
     "execution_count": 216,
     "metadata": {},
     "output_type": "execute_result"
    }
   ],
   "source": [
    "df_total.head()"
   ]
  },
  {
   "cell_type": "code",
   "execution_count": 217,
   "metadata": {},
   "outputs": [],
   "source": [
    "df_total.to_pickle('../Datasets_ML/Rest_final_ML.pickle')"
   ]
  }
 ],
 "metadata": {
  "kernelspec": {
   "display_name": "ProyectML",
   "language": "python",
   "name": "python3"
  },
  "language_info": {
   "codemirror_mode": {
    "name": "ipython",
    "version": 3
   },
   "file_extension": ".py",
   "mimetype": "text/x-python",
   "name": "python",
   "nbconvert_exporter": "python",
   "pygments_lexer": "ipython3",
   "version": "3.8.18"
  },
  "orig_nbformat": 4
 },
 "nbformat": 4,
 "nbformat_minor": 2
}
