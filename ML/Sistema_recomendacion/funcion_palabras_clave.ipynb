{
 "cells": [
  {
   "cell_type": "code",
   "execution_count": 10,
   "metadata": {},
   "outputs": [],
   "source": [
    "import spacy\n",
    "import os"
   ]
  },
  {
   "cell_type": "code",
   "execution_count": 11,
   "metadata": {},
   "outputs": [],
   "source": [
    "model_name = \"en_core_web_sm\""
   ]
  },
  {
   "cell_type": "code",
   "execution_count": 12,
   "metadata": {},
   "outputs": [],
   "source": [
    "def load_model(model_name): \n",
    "    try:\n",
    "        nlp = spacy.load(model_name)\n",
    "        print(f\"Modelo {model_name} cargado exitosamente.\")\n",
    "        return nlp\n",
    "    except OSError:\n",
    "        print(f\"El modelo {model_name} no está instalado. Descargando e instalando...\")\n",
    "        spacy.cli.download(model_name)\n",
    "        nlp = spacy.load(model_name)\n",
    "        return nlp"
   ]
  },
  {
   "cell_type": "code",
   "execution_count": 13,
   "metadata": {},
   "outputs": [
    {
     "name": "stdout",
     "output_type": "stream",
     "text": [
      "Modelo en_core_web_sm cargado exitosamente.\n"
     ]
    }
   ],
   "source": [
    "nlp = load_model(model_name)"
   ]
  },
  {
   "cell_type": "code",
   "execution_count": 7,
   "metadata": {},
   "outputs": [],
   "source": [
    "def obtener_palabras_clave(texto):\n",
    "    # Procesar el texto con spaCy\n",
    "    doc = nlp(texto)\n",
    "\n",
    "    # Extraer sustantivos (nombres) y adjetivos\n",
    "    palabras_clave = [token.text for token in doc if token.pos_ in ['NOUN', 'ADJ']]\n",
    "\n",
    "    return palabras_clave"
   ]
  },
  {
   "cell_type": "code",
   "execution_count": 9,
   "metadata": {},
   "outputs": [
    {
     "name": "stdout",
     "output_type": "stream",
     "text": [
      "Palabras clave en ingles: ['sushi', 'beer']\n"
     ]
    }
   ],
   "source": [
    "# Ejemplo de uso para texto en inglés\n",
    "english_text = \"I like eating sushi and drink beer\"\n",
    "english_keywords = obtener_palabras_clave(english_text)\n",
    "print(\"Palabras clave en ingles:\", english_keywords)"
   ]
  }
 ],
 "metadata": {
  "kernelspec": {
   "display_name": "ProyectML",
   "language": "python",
   "name": "python3"
  },
  "language_info": {
   "codemirror_mode": {
    "name": "ipython",
    "version": 3
   },
   "file_extension": ".py",
   "mimetype": "text/x-python",
   "name": "python",
   "nbconvert_exporter": "python",
   "pygments_lexer": "ipython3",
   "version": "3.8.18"
  },
  "orig_nbformat": 4
 },
 "nbformat": 4,
 "nbformat_minor": 2
}
