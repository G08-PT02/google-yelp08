{
 "cells": [
  {
   "cell_type": "code",
   "execution_count": 6,
   "metadata": {},
   "outputs": [
    {
     "name": "stdout",
     "output_type": "stream",
     "text": [
      "✔ Download and installation successful\n",
      "You can now load the package via spacy.load('en_core_web_sm')\n",
      "✔ Download and installation successful\n",
      "You can now load the package via spacy.load('es_core_news_sm')\n"
     ]
    }
   ],
   "source": [
    "import spacy\n",
    "spacy.cli.download(\"en_core_web_sm\")\n",
    "spacy.cli.download(\"es_core_news_sm\")"
   ]
  },
  {
   "cell_type": "code",
   "execution_count": 11,
   "metadata": {},
   "outputs": [],
   "source": [
    "def obtener_palabras_clave(texto, idioma):\n",
    "    # Cargar el modelo de spaCy según el idioma\n",
    "    if idioma == \"es\":\n",
    "        nlp = spacy.load(\"es_core_news_sm\")\n",
    "    elif idioma == \"en\":\n",
    "        nlp = spacy.load(\"en_core_web_sm\")\n",
    "    else:\n",
    "        raise ValueError(\"Idioma no compatible. Usa 'es' para español o 'en' para inglés.\")\n",
    "\n",
    "    # Procesar el texto con spaCy\n",
    "    doc = nlp(texto)\n",
    "\n",
    "    # Extraer sustantivos (nombres) y adjetivos\n",
    "    palabras_clave = [token.text for token in doc if token.pos_ in ['NOUN', 'ADJ']]\n",
    "\n",
    "    return palabras_clave\n",
    "\n"
   ]
  },
  {
   "cell_type": "code",
   "execution_count": 17,
   "metadata": {},
   "outputs": [
    {
     "name": "stdout",
     "output_type": "stream",
     "text": [
      "Palabras clave en español: ['sushi', 'cerveza']\n",
      "Palabras clave en ingles: ['sushi', 'beer']\n"
     ]
    }
   ],
   "source": [
    "# Ejemplo de uso para texto en español\n",
    "texto_espanol = \"quisiera comer sushi y beber cerveza\"\n",
    "palabras_clave_es = obtener_palabras_clave(texto_espanol, \"es\")\n",
    "print(\"Palabras clave en español:\", palabras_clave_es)\n",
    "\n",
    "# Ejemplo de uso para texto en inglés\n",
    "english_text = \"I like eating sushi and drink beer\"\n",
    "english_keywords = obtener_palabras_clave(english_text, \"en\")\n",
    "print(\"Palabras clave en ingles:\", english_keywords)"
   ]
  }
 ],
 "metadata": {
  "kernelspec": {
   "display_name": "ProyectML",
   "language": "python",
   "name": "python3"
  },
  "language_info": {
   "codemirror_mode": {
    "name": "ipython",
    "version": 3
   },
   "file_extension": ".py",
   "mimetype": "text/x-python",
   "name": "python",
   "nbconvert_exporter": "python",
   "pygments_lexer": "ipython3",
   "version": "3.8.18"
  },
  "orig_nbformat": 4
 },
 "nbformat": 4,
 "nbformat_minor": 2
}
