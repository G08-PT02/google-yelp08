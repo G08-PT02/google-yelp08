{
 "cells": [
  {
   "cell_type": "code",
   "execution_count": 31,
   "metadata": {},
   "outputs": [],
   "source": [
    "import spacy\n",
    "from sklearn.metrics.pairwise import cosine_similarity\n",
    "import numpy as np\n",
    "import pandas as pd\n",
    "import torch\n",
    "from transformers import BertTokenizer, BertModel\n",
    "from sklearn.metrics.pairwise import paired_cosine_distances"
   ]
  },
  {
   "cell_type": "code",
   "execution_count": 7,
   "metadata": {},
   "outputs": [],
   "source": [
    "model_name = \"en_core_web_md\""
   ]
  },
  {
   "cell_type": "code",
   "execution_count": 8,
   "metadata": {},
   "outputs": [],
   "source": [
    "def load_model(model_name): \n",
    "    try:\n",
    "        nlp = spacy.load(model_name)\n",
    "        print(f\"Modelo {model_name} cargado exitosamente.\")\n",
    "        return nlp\n",
    "    except OSError:\n",
    "        print(f\"El modelo {model_name} no está instalado. Descargando e instalando...\")\n",
    "        spacy.cli.download(model_name)\n",
    "        nlp = spacy.load(model_name)\n",
    "        return nlp"
   ]
  },
  {
   "cell_type": "code",
   "execution_count": 9,
   "metadata": {},
   "outputs": [
    {
     "data": {
      "text/html": [
       "<div>\n",
       "<style scoped>\n",
       "    .dataframe tbody tr th:only-of-type {\n",
       "        vertical-align: middle;\n",
       "    }\n",
       "\n",
       "    .dataframe tbody tr th {\n",
       "        vertical-align: top;\n",
       "    }\n",
       "\n",
       "    .dataframe thead th {\n",
       "        text-align: right;\n",
       "    }\n",
       "</style>\n",
       "<table border=\"1\" class=\"dataframe\">\n",
       "  <thead>\n",
       "    <tr style=\"text-align: right;\">\n",
       "      <th></th>\n",
       "      <th>name</th>\n",
       "      <th>address</th>\n",
       "      <th>description</th>\n",
       "      <th>category</th>\n",
       "      <th>MISC</th>\n",
       "      <th>coord</th>\n",
       "    </tr>\n",
       "  </thead>\n",
       "  <tbody>\n",
       "    <tr>\n",
       "      <th>0</th>\n",
       "      <td>Roux's Roadhouse 73</td>\n",
       "      <td>Roux's Roadhouse 73, 784 WI-73, Nekoosa, WI 54457</td>\n",
       "      <td>None</td>\n",
       "      <td>[Restaurant]</td>\n",
       "      <td>{'Accessibility': ['Wheelchair accessible entr...</td>\n",
       "      <td>[44.3069541, -89.8457834]</td>\n",
       "    </tr>\n",
       "    <tr>\n",
       "      <th>1</th>\n",
       "      <td>Crepes n' Tacos Mexican Grill</td>\n",
       "      <td>Crepes n' Tacos Mexican Grill, suit #5, 5390, ...</td>\n",
       "      <td>None</td>\n",
       "      <td>[Mexican restaurant, Crêperie, Ice cream shop,...</td>\n",
       "      <td>{'Accessibility': None, 'Amenities': ['Good fo...</td>\n",
       "      <td>[36.1646332, -115.0607804]</td>\n",
       "    </tr>\n",
       "    <tr>\n",
       "      <th>2</th>\n",
       "      <td>The Big Eazy</td>\n",
       "      <td>The Big Eazy, 2053 N Doctor M.L.K. Jr Dr, Milw...</td>\n",
       "      <td>None</td>\n",
       "      <td>[Cajun restaurant, Creole restaurant]</td>\n",
       "      <td>{'Accessibility': None, 'Amenities': ['Good fo...</td>\n",
       "      <td>[43.0576581, -87.914643]</td>\n",
       "    </tr>\n",
       "    <tr>\n",
       "      <th>3</th>\n",
       "      <td>Subway</td>\n",
       "      <td>Subway, 250 E Wolf Run, Mukwonago, WI 53149</td>\n",
       "      <td>Casual counter-serve chain for build-your-own ...</td>\n",
       "      <td>[Sandwich shop, Caterer, Fast food restaurant,...</td>\n",
       "      <td>{'Accessibility': None, 'Amenities': None, 'At...</td>\n",
       "      <td>[42.8541679, -88.3142471]</td>\n",
       "    </tr>\n",
       "    <tr>\n",
       "      <th>4</th>\n",
       "      <td>Papa Kelsey's</td>\n",
       "      <td>Papa Kelsey's, 165 E 1400 N, Logan, UT 84341</td>\n",
       "      <td>Chain eatery serving baked subs, classic pizza...</td>\n",
       "      <td>[Pizza restaurant]</td>\n",
       "      <td>{'Accessibility': ['Wheelchair accessible entr...</td>\n",
       "      <td>[41.7580941, -111.8302904]</td>\n",
       "    </tr>\n",
       "  </tbody>\n",
       "</table>\n",
       "</div>"
      ],
      "text/plain": [
       "                            name  \\\n",
       "0            Roux's Roadhouse 73   \n",
       "1  Crepes n' Tacos Mexican Grill   \n",
       "2                   The Big Eazy   \n",
       "3                         Subway   \n",
       "4                  Papa Kelsey's   \n",
       "\n",
       "                                             address  \\\n",
       "0  Roux's Roadhouse 73, 784 WI-73, Nekoosa, WI 54457   \n",
       "1  Crepes n' Tacos Mexican Grill, suit #5, 5390, ...   \n",
       "2  The Big Eazy, 2053 N Doctor M.L.K. Jr Dr, Milw...   \n",
       "3        Subway, 250 E Wolf Run, Mukwonago, WI 53149   \n",
       "4       Papa Kelsey's, 165 E 1400 N, Logan, UT 84341   \n",
       "\n",
       "                                         description  \\\n",
       "0                                               None   \n",
       "1                                               None   \n",
       "2                                               None   \n",
       "3  Casual counter-serve chain for build-your-own ...   \n",
       "4  Chain eatery serving baked subs, classic pizza...   \n",
       "\n",
       "                                            category  \\\n",
       "0                                       [Restaurant]   \n",
       "1  [Mexican restaurant, Crêperie, Ice cream shop,...   \n",
       "2              [Cajun restaurant, Creole restaurant]   \n",
       "3  [Sandwich shop, Caterer, Fast food restaurant,...   \n",
       "4                                 [Pizza restaurant]   \n",
       "\n",
       "                                                MISC  \\\n",
       "0  {'Accessibility': ['Wheelchair accessible entr...   \n",
       "1  {'Accessibility': None, 'Amenities': ['Good fo...   \n",
       "2  {'Accessibility': None, 'Amenities': ['Good fo...   \n",
       "3  {'Accessibility': None, 'Amenities': None, 'At...   \n",
       "4  {'Accessibility': ['Wheelchair accessible entr...   \n",
       "\n",
       "                        coord  \n",
       "0   [44.3069541, -89.8457834]  \n",
       "1  [36.1646332, -115.0607804]  \n",
       "2    [43.0576581, -87.914643]  \n",
       "3   [42.8541679, -88.3142471]  \n",
       "4  [41.7580941, -111.8302904]  "
      ]
     },
     "execution_count": 9,
     "metadata": {},
     "output_type": "execute_result"
    }
   ],
   "source": [
    "df = pd.read_parquet('../Datasets_ML/Rest_google.parquet')\n",
    "df.head()"
   ]
  },
  {
   "cell_type": "code",
   "execution_count": 54,
   "metadata": {},
   "outputs": [
    {
     "data": {
      "text/plain": [
       "3223"
      ]
     },
     "execution_count": 54,
     "metadata": {},
     "output_type": "execute_result"
    }
   ],
   "source": [
    "len(df)"
   ]
  },
  {
   "cell_type": "code",
   "execution_count": 10,
   "metadata": {},
   "outputs": [
    {
     "name": "stdout",
     "output_type": "stream",
     "text": [
      "Modelo en_core_web_md cargado exitosamente.\n"
     ]
    }
   ],
   "source": [
    "nlp_en = load_model(model_name)"
   ]
  },
  {
   "cell_type": "markdown",
   "metadata": {},
   "source": [
    "***"
   ]
  },
  {
   "cell_type": "code",
   "execution_count": 11,
   "metadata": {},
   "outputs": [],
   "source": [
    "def buscar_palabras_similares(dataframe, columna, lista_busqueda, umbral_similitud=0.7):\n",
    "    indices = []\n",
    "\n",
    "    for index,lista in enumerate(dataframe[columna]):\n",
    "        for palabra in lista:\n",
    "            similitudes = []\n",
    "            for palabra_busqueda in lista_busqueda:\n",
    "                # Calcular la similitud coseno entre los embeddings de las palabras\n",
    "                embedding_palabra = nlp_en(palabra).vector.reshape(1, -1)\n",
    "                embedding_palabra_busqueda = nlp_en(palabra_busqueda).vector.reshape(1, -1)\n",
    "                similitud = cosine_similarity(embedding_palabra, embedding_palabra_busqueda)[0][0]\n",
    "                similitudes.append(similitud)\n",
    "            \n",
    "            # Si la similitud es mayor que el umbral, agregar la palabra\n",
    "            if max(similitudes) >= umbral_similitud:\n",
    "                indices.append(index)\n",
    "                break\n",
    "    return indices"
   ]
  },
  {
   "cell_type": "code",
   "execution_count": 12,
   "metadata": {},
   "outputs": [
    {
     "name": "stdout",
     "output_type": "stream",
     "text": [
      "indices [513, 1540, 2053, 2055, 1545, 14, 3087, 3089, 1554, 3090, 1556, 22, 23, 1562, 1051, 3098, 2589, 1057, 2593, 2551, 1575, 2599, 3111, 3115, 46, 3120, 3121, 3063, 53, 568, 59, 2620, 1085, 1597, 63, 2621, 578, 3138, 70, 3142, 1101, 3153, 1621, 608, 2146, 3173, 2151, 2663, 1645, 3184, 115, 629, 3191, 2680, 636, 1149, 2172, 2175, 2689, 1155, 3207, 136, 2701, 658, 2194, 148, 150, 671, 160, 2208, 674, 1699, 1704, 170, 1196, 2735, 176, 688, 2743, 2745, 189, 2237, 703, 2753, 2246, 2760, 713, 2761, 204, 206, 2255, 1234, 2771, 1236, 1750, 732, 2781, 734, 735, 2782, 2785, 2788, 743, 744, 746, 2282, 1772, 2284, 2796, 1776, 2289, 2801, 755, 757, 2808, 249, 251, 2813, 2304, 769, 2816, 773, 2823, 776, 2824, 276, 2838, 1303, 2332, 797, 1822, 2337, 2338, 291, 2849, 2350, 1840, 1841, 2352, 307, 820, 1331, 1846, 2874, 317, 831, 320, 839, 840, 846, 1872, 2896, 1362, 2905, 348, 1886, 1888, 2401, 1893, 1384, 2410, 2923, 876, 368, 1907, 2933, 1913, 381, 391, 2441, 1418, 2442, 2956, 911, 1938, 410, 2970, 412, 2462, 927, 2976, 420, 1960, 1963, 1966, 2991, 2480, 2992, 436, 1976, 3000, 2490, 3002, 2496, 1473, 3009, 2502, 2503, 968, 2510, 1490, 2005, 982, 2525, 3038, 3041, 1508, 485, 1511, 488, 1513, 1003, 1517, 2034, 1527, 2041, 2043]\n"
     ]
    }
   ],
   "source": [
    "# Lista de palabras para buscar\n",
    "palabras_busqueda = ['sushi', 'beer','delivery']\n",
    "\n",
    "# Buscar palabras iguales o similares en la columna 'palabras'\n",
    "palabras_similares = buscar_palabras_similares(df, 'category', palabras_busqueda)\n",
    "\n",
    "print(\"indices\", list(set(palabras_similares)))"
   ]
  },
  {
   "cell_type": "code",
   "execution_count": 14,
   "metadata": {},
   "outputs": [
    {
     "data": {
      "text/plain": [
       "217"
      ]
     },
     "execution_count": 14,
     "metadata": {},
     "output_type": "execute_result"
    }
   ],
   "source": [
    "len(list(set(palabras_similares)))"
   ]
  },
  {
   "cell_type": "markdown",
   "metadata": {},
   "source": [
    "***"
   ]
  },
  {
   "cell_type": "markdown",
   "metadata": {},
   "source": [
    "Version de la funcion optimizada"
   ]
  },
  {
   "cell_type": "markdown",
   "metadata": {},
   "source": [
    "Es esta version se busco reducir la cantidad de bucles for para mejorar el desempeño de la funcion."
   ]
  },
  {
   "cell_type": "code",
   "execution_count": 15,
   "metadata": {},
   "outputs": [],
   "source": [
    "def buscar_palabras_similares(dataframe, columna, lista_busqueda, umbral_similitud=0.7):\n",
    "    indices = []\n",
    "\n",
    "    # Calcular embeddings para las palabras de la lista de búsqueda\n",
    "    embeddings_busqueda = np.array([nlp_en(palabra).vector for palabra in lista_busqueda])\n",
    "\n",
    "    for index, palabras_lista in enumerate(dataframe[columna]):\n",
    "        # Calcular embeddings para las palabras de la lista actual\n",
    "        embeddings_lista = np.array([nlp_en(palabra).vector for palabra in palabras_lista])\n",
    "        \n",
    "        # Calcular la similitud coseno entre los embeddings de las palabras de la lista actual y las de búsqueda\n",
    "        similitudes = cosine_similarity(embeddings_lista, embeddings_busqueda).max(axis=1)\n",
    "        \n",
    "        # Si la similitud es mayor que el umbral, agregar el índice\n",
    "        if np.any(similitudes >= umbral_similitud):\n",
    "            indices.append(index)\n",
    "\n",
    "    return indices"
   ]
  },
  {
   "cell_type": "code",
   "execution_count": 16,
   "metadata": {},
   "outputs": [
    {
     "name": "stdout",
     "output_type": "stream",
     "text": [
      "indices [513, 1540, 2053, 2055, 1545, 14, 3087, 3089, 1554, 3090, 1556, 22, 23, 1562, 1051, 3098, 2589, 1057, 2593, 2551, 1575, 2599, 3111, 3115, 46, 3120, 3121, 3063, 53, 568, 59, 2620, 1085, 1597, 63, 2621, 578, 3138, 70, 3142, 1101, 3153, 1621, 608, 2146, 3173, 2151, 2663, 1645, 3184, 115, 629, 3191, 2680, 636, 1149, 2172, 2175, 2689, 1155, 3207, 136, 2701, 658, 2194, 148, 150, 671, 160, 2208, 674, 1699, 1704, 170, 1196, 2735, 176, 688, 2743, 2745, 189, 2237, 703, 2753, 2246, 2760, 713, 2761, 204, 206, 2255, 1234, 2771, 1236, 1750, 732, 2781, 734, 735, 2782, 2785, 2788, 743, 744, 746, 2282, 1772, 2284, 2796, 1776, 2289, 2801, 755, 757, 2808, 249, 251, 2813, 2304, 769, 2816, 773, 2823, 776, 2824, 276, 2838, 1303, 2332, 797, 1822, 2337, 2338, 291, 2849, 2350, 1840, 1841, 2352, 307, 820, 1331, 1846, 2874, 317, 831, 320, 839, 840, 846, 1872, 2896, 1362, 2905, 348, 1886, 1888, 2401, 1893, 1384, 2410, 2923, 876, 368, 1907, 2933, 1913, 381, 391, 2441, 1418, 2442, 2956, 911, 1938, 410, 2970, 412, 2462, 927, 2976, 420, 1960, 1963, 1966, 2991, 2480, 2992, 436, 1976, 3000, 2490, 3002, 2496, 1473, 3009, 2502, 2503, 968, 2510, 1490, 2005, 982, 2525, 3038, 3041, 1508, 485, 1511, 488, 1513, 1003, 1517, 2034, 1527, 2041, 2043]\n"
     ]
    }
   ],
   "source": [
    "# Lista de palabras para buscar\n",
    "palabras_busqueda = ['sushi', 'beer','delivery']\n",
    "\n",
    "# Buscar palabras iguales o similares en la columna 'palabras'\n",
    "palabras_similares = buscar_palabras_similares(df, 'category', palabras_busqueda)\n",
    "\n",
    "print(\"indices\", list(set(palabras_similares)))"
   ]
  },
  {
   "cell_type": "code",
   "execution_count": 17,
   "metadata": {},
   "outputs": [
    {
     "data": {
      "text/plain": [
       "217"
      ]
     },
     "execution_count": 17,
     "metadata": {},
     "output_type": "execute_result"
    }
   ],
   "source": [
    "len(list(set(palabras_similares)))"
   ]
  },
  {
   "cell_type": "markdown",
   "metadata": {},
   "source": [
    "***"
   ]
  },
  {
   "cell_type": "code",
   "execution_count": 32,
   "metadata": {},
   "outputs": [],
   "source": [
    "model_name = \"bert-base-uncased\""
   ]
  },
  {
   "cell_type": "code",
   "execution_count": 33,
   "metadata": {},
   "outputs": [],
   "source": [
    "def load_bert_model(model_name):\n",
    "    tokenizer = BertTokenizer.from_pretrained(model_name)\n",
    "    model = BertModel.from_pretrained(model_name)\n",
    "\n",
    "    # Aseguramos que el modelo se cargue en la GPU si está disponible\n",
    "    if torch.cuda.is_available():\n",
    "        model.to('cuda')\n",
    "\n",
    "    print(f\"Modelo {model_name} cargado exitosamente.\")\n",
    "    return model, tokenizer"
   ]
  },
  {
   "cell_type": "code",
   "execution_count": 34,
   "metadata": {},
   "outputs": [
    {
     "name": "stdout",
     "output_type": "stream",
     "text": [
      "Modelo bert-base-uncased cargado exitosamente.\n"
     ]
    }
   ],
   "source": [
    "bert_model, bert_tokenizer = load_bert_model(model_name)"
   ]
  },
  {
   "cell_type": "code",
   "execution_count": 35,
   "metadata": {},
   "outputs": [],
   "source": [
    "def process_text(text, model, tokenizer):\n",
    "    # Tokenizar y convertir a IDs de tokens\n",
    "    inputs = tokenizer(text, return_tensors=\"pt\")\n",
    "    \n",
    "    # Asegurarse de que los cálculos se realicen en la GPU si está disponible\n",
    "    if torch.cuda.is_available():\n",
    "        inputs = {key: val.to('cuda') for key, val in inputs.items()}\n",
    "    \n",
    "    # Obtener la salida de BERT (representación oculta)\n",
    "    with torch.no_grad():\n",
    "        outputs = model(**inputs)\n",
    "    \n",
    "    # La salida contiene embeddings de palabras y otros detalles, aquí estamos obteniendo solo los embeddings\n",
    "    embeddings = outputs.last_hidden_state\n",
    "    \n",
    "    # Si las operaciones fueron realizadas en la GPU, es necesario mover los embeddings a la CPU para su uso\n",
    "    embeddings = embeddings.cpu().numpy()\n",
    "    \n",
    "    # Colapsar las dimensiones batch_size y sequence_length\n",
    "    embeddings_collapsed = embeddings.mean(axis=1)  # Puedes usar otras estrategias de colapso si es necesario\n",
    "    \n",
    "    return embeddings_collapsed"
   ]
  },
  {
   "cell_type": "code",
   "execution_count": 52,
   "metadata": {},
   "outputs": [],
   "source": [
    "def buscar_palabras_similares(dataframe, columna, lista_busqueda, umbral_similitud=0.75):\n",
    "    indices = []\n",
    "    palabras = []\n",
    "\n",
    "    # Calcular embeddings para las palabras de la lista de búsqueda\n",
    "    embeddings_busqueda = process_text(\" \".join(lista_busqueda), bert_model, bert_tokenizer)\n",
    "\n",
    "    for index, palabras_lista in enumerate(dataframe[columna]):\n",
    "        # Calcular embeddings para las palabras de la lista actual\n",
    "        embeddings_lista = process_text(\" \".join(palabras_lista), bert_model, bert_tokenizer)\n",
    "        \n",
    "        # Calcular la similitud coseno con normalización por la norma euclidiana\n",
    "        similitudes = 1 - paired_cosine_distances(embeddings_lista, embeddings_busqueda)\n",
    "        \n",
    "        # Si la similitud es mayor que el umbral, agregar el índice\n",
    "        if np.any(similitudes >= umbral_similitud):\n",
    "            indices.append(index)\n",
    "            palabras.append(palabras_lista)\n",
    "    return indices,palabras"
   ]
  },
  {
   "cell_type": "code",
   "execution_count": 53,
   "metadata": {},
   "outputs": [
    {
     "name": "stdout",
     "output_type": "stream",
     "text": [
      "indices [2049, 2051, 4, 2053, 2058, 15, 16, 2065, 19, 2068, 2072, 28, 29, 30, 32, 2083, 2085, 2086, 2087, 41, 42, 45, 2094, 47, 2095, 2096, 2100, 53, 66, 69, 2118, 2120, 2121, 74, 75, 76, 2129, 82, 83, 2133, 86, 88, 91, 2140, 93, 2143, 96, 97, 2144, 99, 100, 2145, 102, 2147, 2151, 112, 113, 114, 115, 2168, 122, 2171, 2174, 2175, 2177, 2178, 2180, 134, 135, 136, 2182, 2187, 2188, 141, 142, 2191, 144, 2197, 151, 2200, 153, 2204, 2207, 162, 164, 2213, 166, 2216, 2217, 2219, 2221, 2222, 175, 2224, 179, 2228, 181, 2231, 184, 185, 2235, 189, 194, 195, 2246, 2248, 2249, 203, 2253, 206, 2254, 2256, 209, 210, 215, 217, 2265, 2266, 220, 2268, 2269, 2275, 228, 229, 231, 2280, 233, 2281, 238, 2288, 2292, 251, 252, 253, 254, 2302, 256, 2303, 258, 2307, 2309, 2310, 265, 266, 267, 2314, 269, 2318, 271, 2320, 2322, 277, 2325, 279, 2328, 283, 2331, 2333, 286, 287, 2334, 2338, 2339, 292, 293, 296, 300, 301, 2349, 2350, 2353, 306, 307, 2354, 2355, 2357, 311, 2361, 2367, 322, 2373, 326, 327, 328, 2374, 2378, 2380, 335, 336, 2383, 2388, 343, 345, 2393, 2394, 2395, 349, 350, 351, 2396, 2397, 354, 355, 2399, 2403, 2409, 2413, 2414, 367, 2416, 2422, 376, 2425, 379, 380, 382, 386, 2435, 2436, 390, 391, 392, 2444, 397, 398, 2445, 2446, 401, 2453, 406, 407, 408, 2456, 2457, 2459, 2461, 2463, 416, 2464, 2465, 419, 2471, 2472, 2475, 431, 432, 2482, 2485, 2487, 2491, 444, 2493, 2494, 447, 2495, 2500, 453, 2503, 457, 2506, 460, 461, 462, 2508, 2509, 465, 2510, 2514, 2516, 2517, 481, 2537, 490, 493, 2541, 500, 501, 504, 2553, 2554, 2557, 2558, 2559, 2560, 2561, 514, 517, 518, 2565, 2569, 522, 523, 524, 525, 2570, 2572, 528, 534, 536, 537, 538, 540, 2588, 2589, 2591, 2592, 546, 547, 548, 553, 2601, 2602, 2606, 566, 2615, 568, 569, 2616, 571, 2617, 573, 574, 575, 2620, 577, 2621, 2625, 580, 581, 2627, 2630, 2634, 2636, 2637, 590, 2647, 600, 2648, 2651, 2653, 2655, 2659, 612, 615, 2663, 2668, 621, 2669, 623, 2671, 625, 2676, 629, 630, 2677, 632, 2679, 637, 639, 2688, 2689, 642, 643, 644, 645, 2692, 2693, 648, 2695, 2697, 2698, 2700, 653, 2702, 660, 2709, 2712, 2715, 2717, 673, 2721, 2722, 2723, 677, 2724, 679, 2732, 2734, 2738, 2739, 694, 2742, 2744, 2746, 2747, 2748, 2751, 706, 2755, 708, 712, 715, 716, 2764, 2765, 719, 2766, 2767, 722, 2768, 2773, 727, 2776, 740, 742, 745, 747, 2795, 754, 2803, 757, 2806, 761, 2810, 763, 765, 2815, 2818, 2819, 2825, 778, 2827, 2829, 783, 784, 2834, 2837, 2838, 2839, 2841, 794, 796, 797, 2846, 2847, 2849, 2850, 803, 807, 809, 2857, 2859, 2862, 822, 824, 825, 2873, 2874, 2876, 2877, 832, 2880, 2883, 840, 843, 2892, 848, 2897, 851, 2904, 2906, 2908, 2910, 864, 2912, 2915, 868, 2917, 879, 2931, 885, 2936, 890, 2938, 2939, 2940, 2942, 2943, 2944, 2947, 900, 902, 2950, 908, 910, 913, 2961, 2963, 923, 926, 2977, 2978, 932, 2980, 2981, 2984, 2987, 948, 2996, 950, 951, 952, 2998, 955, 956, 960, 962, 3011, 3012, 3013, 3016, 969, 970, 3018, 972, 973, 3023, 3024, 977, 3026, 3030, 3034, 990, 3039, 992, 3042, 3045, 1000, 1002, 1005, 1006, 1008, 3057, 3060, 1013, 3062, 3063, 3070, 3072, 1028, 3076, 3077, 3078, 1032, 1033, 1037, 1042, 1043, 1044, 3094, 1054, 3102, 3103, 3104, 3106, 1059, 3109, 1062, 1064, 1070, 1072, 1073, 1074, 3125, 1080, 3131, 1084, 3132, 3133, 3134, 3136, 3137, 1090, 3141, 1096, 3148, 1101, 1104, 1105, 3152, 1107, 1108, 3153, 3157, 1111, 3160, 1113, 1117, 3168, 1121, 1122, 3169, 3170, 1127, 3175, 3177, 3178, 1131, 3179, 1135, 1136, 3186, 1140, 1142, 3193, 1146, 3196, 1152, 3201, 1154, 1156, 3205, 1158, 1160, 3208, 1162, 3210, 3211, 3212, 1166, 3213, 3216, 1170, 3220, 1178, 1179, 1183, 1187, 1190, 1191, 1200, 1201, 1203, 1204, 1206, 1211, 1214, 1215, 1220, 1222, 1225, 1227, 1229, 1230, 1242, 1248, 1259, 1265, 1268, 1271, 1273, 1274, 1278, 1282, 1287, 1288, 1289, 1295, 1304, 1305, 1307, 1313, 1314, 1318, 1319, 1326, 1328, 1333, 1340, 1341, 1348, 1349, 1351, 1354, 1358, 1366, 1371, 1373, 1377, 1378, 1382, 1388, 1396, 1397, 1398, 1400, 1407, 1408, 1410, 1414, 1419, 1424, 1428, 1429, 1430, 1431, 1434, 1438, 1439, 1448, 1454, 1455, 1460, 1465, 1468, 1472, 1473, 1476, 1489, 1501, 1502, 1503, 1505, 1507, 1509, 1511, 1512, 1513, 1519, 1520, 1526, 1538, 1540, 1541, 1543, 1548, 1549, 1552, 1555, 1561, 1564, 1571, 1575, 1577, 1578, 1587, 1589, 1599, 1600, 1602, 1605, 1606, 1607, 1608, 1614, 1615, 1622, 1623, 1624, 1634, 1640, 1643, 1645, 1649, 1655, 1656, 1661, 1662, 1666, 1670, 1676, 1678, 1680, 1681, 1682, 1688, 1689, 1696, 1697, 1702, 1703, 1706, 1707, 1709, 1710, 1719, 1725, 1731, 1733, 1734, 1737, 1738, 1741, 1743, 1749, 1752, 1759, 1761, 1766, 1767, 1771, 1773, 1776, 1778, 1787, 1789, 1790, 1792, 1797, 1799, 1803, 1804, 1806, 1808, 1809, 1810, 1812, 1819, 1823, 1825, 1832, 1842, 1848, 1849, 1850, 1851, 1853, 1860, 1862, 1869, 1871, 1874, 1876, 1896, 1901, 1904, 1910, 1917, 1927, 1940, 1944, 1950, 1951, 1952, 1953, 1957, 1964, 1965, 1976, 1977, 1978, 1979, 1985, 1989, 1993, 1994, 1997, 1998, 2000, 2003, 2004, 2009, 2011, 2016, 2027, 2032, 2033, 2037, 2044]\n",
      "indices [array(['Pizza restaurant'], dtype=object), array(['Hot dog restaurant'], dtype=object), array(['Pizza restaurant'], dtype=object), array(['Deli', 'Restaurant'], dtype=object), array(['Pizza restaurant', 'Delivery Restaurant'], dtype=object), array(['Mexican restaurant'], dtype=object), array(['Asian restaurant'], dtype=object), array(['Pizza restaurant', 'Sandwich shop'], dtype=object), array(['Taco restaurant'], dtype=object), array(['Restaurant', 'Pizza restaurant'], dtype=object), array(['Mexican restaurant'], dtype=object), array(['Chinese restaurant'], dtype=object), array(['Ramen restaurant', 'Restaurant'], dtype=object), array(['Mexican restaurant'], dtype=object), array(['Bar', 'Restaurant'], dtype=object), array(['Mexican restaurant'], dtype=object), array(['Mediterranean restaurant'], dtype=object), array(['Hawaiian restaurant'], dtype=object), array(['Mexican restaurant'], dtype=object), array(['Bar', 'Restaurant'], dtype=object), array(['Lounge', 'Bar', 'Restaurant'], dtype=object), array(['Hamburger restaurant'], dtype=object), array(['Chinese restaurant', 'Restaurant'], dtype=object), array(['Mexican restaurant'], dtype=object), array(['Pizza restaurant', 'Restaurant'], dtype=object), array(['Chinese restaurant'], dtype=object), array(['Fast food restaurant'], dtype=object), array(['Japanese restaurant', 'Restaurant'], dtype=object), array(['Mexican restaurant'], dtype=object), array(['Thai restaurant'], dtype=object), array(['Mexican restaurant'], dtype=object), array(['Health food restaurant'], dtype=object), array(['Sushi restaurant'], dtype=object), array(['Pizza restaurant', 'Delivery Restaurant'], dtype=object), array(['Mexican restaurant'], dtype=object), array(['Fast food restaurant'], dtype=object), array(['Sushi restaurant', 'Japanese restaurant', 'Restaurant'],\n",
      "      dtype=object), array(['Pizza restaurant'], dtype=object), array(['Mexican restaurant'], dtype=object), array(['Bar', 'Restaurant'], dtype=object), array(['Pizza restaurant'], dtype=object), array(['Indian restaurant'], dtype=object), array(['Barbecue restaurant', 'Restaurant'], dtype=object), array(['Barbecue restaurant', 'Restaurant'], dtype=object), array(['Asian restaurant'], dtype=object), array(['Japanese restaurant'], dtype=object), array(['Chicken wings restaurant'], dtype=object), array(['Barbecue restaurant', 'Restaurant'], dtype=object), array(['Mexican restaurant'], dtype=object), array(['Chinese restaurant'], dtype=object), array(['Pizza restaurant', 'Pizza delivery'], dtype=object), array(['Japanese restaurant'], dtype=object), array(['Mexican restaurant'], dtype=object), array(['Pizza restaurant'], dtype=object), array(['Sushi restaurant'], dtype=object), array(['Pizza restaurant'], dtype=object), array(['Mexican restaurant'], dtype=object), array(['Vegan restaurant', 'Bakery'], dtype=object), array(['Chinese restaurant'], dtype=object), array(['Fast food restaurant'], dtype=object), array(['Mexican restaurant'], dtype=object), array(['Italian restaurant', 'Pizza restaurant'], dtype=object), array(['Hot dog restaurant'], dtype=object), array(['Chinese restaurant'], dtype=object), array(['Pizza restaurant'], dtype=object), array(['Pizza restaurant', 'Takeout Restaurant', 'Pizza delivery'],\n",
      "      dtype=object), array(['Hamburger restaurant', 'Restaurant'], dtype=object), array(['Soul food restaurant'], dtype=object), array(['Bar', 'Restaurant'], dtype=object), array(['Mexican restaurant'], dtype=object), array(['Fast food restaurant'], dtype=object), array(['Bar', 'Restaurant'], dtype=object), array(['Pizza restaurant'], dtype=object), array(['Mexican restaurant'], dtype=object), array(['Restaurant', 'Caterer'], dtype=object), array(['Pizza restaurant'], dtype=object), array(['Chinese restaurant'], dtype=object), array(['Pizza restaurant'], dtype=object), array(['Mexican restaurant'], dtype=object), array(['Italian restaurant'], dtype=object), array(['Mexican restaurant'], dtype=object), array(['Chinese restaurant'], dtype=object), array(['Pizza restaurant'], dtype=object), array(['Restaurant', 'Juice shop'], dtype=object), array(['Bar', 'Restaurant'], dtype=object), array(['Tea house', 'Restaurant'], dtype=object), array(['Pizza restaurant'], dtype=object), array(['Japanese restaurant', 'Ramen restaurant'], dtype=object), array(['Fine dining restaurant'], dtype=object), array(['Vietnamese restaurant'], dtype=object), array(['Chinese restaurant'], dtype=object), array(['Bar', 'Restaurant'], dtype=object), array(['Seafood restaurant', 'Restaurant'], dtype=object), array(['Asian restaurant'], dtype=object), array(['Pizza restaurant', 'Delivery Restaurant'], dtype=object), array(['Fast food restaurant'], dtype=object), array(['Chicken wings restaurant'], dtype=object), array(['Takeout Restaurant'], dtype=object), array(['Vietnamese restaurant'], dtype=object), array(['Italian restaurant'], dtype=object), array(['Chinese restaurant'], dtype=object), array(['Seafood restaurant', 'Restaurant'], dtype=object), array(['Takeout Restaurant'], dtype=object), array(['Dessert shop', 'Restaurant'], dtype=object), array(['Taco restaurant', 'Restaurant'], dtype=object), array(['Pizza restaurant'], dtype=object), array(['Karaoke bar', 'Restaurant'], dtype=object), array(['Indian restaurant'], dtype=object), array(['Mexican restaurant'], dtype=object), array(['Pizza restaurant', 'Pizza delivery'], dtype=object), array(['Pizza restaurant'], dtype=object), array(['Pizza restaurant', 'Italian restaurant'], dtype=object), array(['Food court', 'Takeout Restaurant'], dtype=object), array(['Asian fusion restaurant'], dtype=object), array(['Fast food restaurant'], dtype=object), array(['Thai restaurant'], dtype=object), array(['Pizza restaurant', 'Delivery Restaurant'], dtype=object), array(['Chinese restaurant'], dtype=object), array(['Pizza restaurant', 'Delivery Restaurant'], dtype=object), array(['Mexican restaurant'], dtype=object), array(['Chinese restaurant'], dtype=object), array(['Grill', 'Restaurant'], dtype=object), array(['Mexican restaurant'], dtype=object), array(['Thai restaurant'], dtype=object), array(['Mexican restaurant'], dtype=object), array(['Mexican restaurant'], dtype=object), array(['Japanese restaurant', 'Restaurant'], dtype=object), array(['Hamburger restaurant'], dtype=object), array(['Pizza restaurant', 'Delivery Restaurant'], dtype=object), array(['Barbecue restaurant', 'Restaurant'], dtype=object), array(['Hawaiian restaurant'], dtype=object), array(['Chinese restaurant'], dtype=object), array(['Hot dog restaurant'], dtype=object), array(['Mexican restaurant'], dtype=object), array(['Hawaiian restaurant'], dtype=object), array(['Pizza restaurant'], dtype=object), array(['Pizza restaurant', 'Delivery Restaurant'], dtype=object), array(['Thai restaurant'], dtype=object), array(['Cafe', 'Bakery', 'Coffee shop', 'Restaurant'], dtype=object), array(['Pizza restaurant'], dtype=object), array(['Chinese restaurant'], dtype=object), array(['Thai restaurant'], dtype=object), array(['Barbecue restaurant'], dtype=object), array(['Pizza restaurant', 'Restaurant'], dtype=object), array(['Restaurant', 'Mexican restaurant'], dtype=object), array(['Asian restaurant'], dtype=object), array(['Health food restaurant'], dtype=object), array(['Mexican restaurant'], dtype=object), array(['Pizza restaurant', 'Hamburger restaurant'], dtype=object), array(['Chinese restaurant'], dtype=object), array(['Greek restaurant'], dtype=object), array(['Food court', 'Takeout Restaurant'], dtype=object), array(['Fast food restaurant'], dtype=object), array(['Sushi restaurant'], dtype=object), array(['Hamburger restaurant'], dtype=object), array(['Italian restaurant', 'Restaurant'], dtype=object), array(['Mexican restaurant'], dtype=object), array(['Fast food restaurant'], dtype=object), array(['Pizza restaurant'], dtype=object), array(['Pizza restaurant'], dtype=object), array(['Italian restaurant'], dtype=object), array(['Seafood market', 'Restaurant'], dtype=object), array(['Chinese restaurant'], dtype=object), array(['Fast food restaurant'], dtype=object), array(['Juice shop', 'Restaurant'], dtype=object), array(['Health food restaurant'], dtype=object), array(['Barbecue restaurant'], dtype=object), array(['Hawaiian restaurant', 'Restaurant'], dtype=object), array(['Restaurant', 'Mexican restaurant'], dtype=object), array(['Sushi restaurant'], dtype=object), array(['Mexican restaurant'], dtype=object), array(['Bistro', 'Bakery', 'Restaurant'], dtype=object), array(['Hamburger restaurant'], dtype=object), array(['Mexican restaurant', 'Restaurant'], dtype=object), array(['Seafood restaurant', 'Mexican restaurant'], dtype=object), array(['Restaurant', 'Pizza restaurant'], dtype=object), array(['Pizza restaurant', 'Italian restaurant'], dtype=object), array(['Brewery', 'Bar', 'Restaurant'], dtype=object), array(['Taco restaurant'], dtype=object), array(['Delivery Restaurant'], dtype=object), array(['Pizza restaurant'], dtype=object), array(['Chinese restaurant'], dtype=object), array(['Chinese restaurant', 'Restaurant'], dtype=object), array(['Pizza restaurant'], dtype=object), array(['Seafood restaurant', 'Restaurant'], dtype=object), array(['Pizza restaurant'], dtype=object), array(['Italian restaurant', 'Bar'], dtype=object), array(['Asian fusion restaurant'], dtype=object), array(['Mexican restaurant'], dtype=object), array(['Chinese restaurant'], dtype=object), array(['Pizza restaurant'], dtype=object), array(['Mexican restaurant', 'Restaurant'], dtype=object), array(['Chinese restaurant'], dtype=object), array(['Mexican restaurant'], dtype=object), array(['Chicken restaurant'], dtype=object), array(['Italian restaurant'], dtype=object), array(['Mexican restaurant'], dtype=object), array(['Seafood restaurant', 'Restaurant'], dtype=object), array(['Sushi takeaway', 'Chinese restaurant'], dtype=object), array(['Chinese restaurant'], dtype=object), array(['Hamburger restaurant'], dtype=object), array(['Mexican restaurant'], dtype=object), array(['Chinese restaurant'], dtype=object), array(['Mexican restaurant', 'Restaurant'], dtype=object), array(['Mexican restaurant', 'Restaurant'], dtype=object), array(['Bar', 'Restaurant'], dtype=object), array(['Pizza restaurant', 'Italian restaurant'], dtype=object), array(['Sushi restaurant', 'Restaurant'], dtype=object), array(['Barbecue restaurant'], dtype=object), array(['Vietnamese restaurant'], dtype=object), array(['Mexican restaurant'], dtype=object), array(['Pizza restaurant'], dtype=object), array(['Barbecue restaurant', 'Bar'], dtype=object), array(['Takeout Restaurant'], dtype=object), array(['Mexican restaurant', 'Restaurant'], dtype=object), array(['Sushi restaurant', 'Asian restaurant'], dtype=object), array(['Mexican restaurant'], dtype=object), array(['Pizza restaurant'], dtype=object), array(['Indian restaurant'], dtype=object), array(['Mexican restaurant'], dtype=object), array(['Mexican restaurant'], dtype=object), array(['Chicken wings restaurant'], dtype=object), array(['Chinese restaurant', 'Restaurant'], dtype=object), array(['Thai restaurant'], dtype=object), array(['Asian restaurant'], dtype=object), array(['Fast food restaurant'], dtype=object), array(['Health food restaurant'], dtype=object), array(['Pizza restaurant', 'Delivery Restaurant'], dtype=object), array(['Fast food restaurant'], dtype=object), array(['Mexican restaurant'], dtype=object), array(['Pizza restaurant', 'Pizza Takeout', 'Restaurant'], dtype=object), array(['Bar', 'Restaurant'], dtype=object), array(['Pizza restaurant'], dtype=object), array(['Japanese restaurant'], dtype=object), array(['Pizza restaurant', 'Pizza Takeout'], dtype=object), array(['Ice cream shop', 'Breakfast restaurant'], dtype=object), array(['Mexican restaurant'], dtype=object), array(['Pizza restaurant', 'Italian restaurant'], dtype=object), array(['Chicken wings restaurant'], dtype=object), array(['Restaurant', 'Caterer'], dtype=object), array(['Pizza restaurant', 'Pizza Takeout'], dtype=object), array(['Mexican restaurant'], dtype=object), array(['Pizza restaurant'], dtype=object), array(['Bowling alley', 'American restaurant', 'Bar'], dtype=object), array(['Italian restaurant'], dtype=object), array(['Pizza restaurant', 'Pizza Takeout'], dtype=object), array(['Mexican restaurant'], dtype=object), array(['Bar', 'Restaurant'], dtype=object), array(['Fast food restaurant'], dtype=object), array(['Chinese restaurant'], dtype=object), array(['Mexican restaurant'], dtype=object), array(['Mexican restaurant', 'Bar'], dtype=object), array(['Mexican restaurant', 'Restaurant'], dtype=object), array(['Chicken restaurant'], dtype=object), array(['Italian restaurant'], dtype=object), array(['Mexican restaurant'], dtype=object), array(['Restaurant', 'Caterer'], dtype=object), array(['Grill', 'Restaurant'], dtype=object), array(['Hawaiian restaurant'], dtype=object), array(['Japanese restaurant', 'Restaurant'], dtype=object), array(['Mexican restaurant'], dtype=object), array(['Pizza restaurant'], dtype=object), array(['Thai restaurant'], dtype=object), array(['Mexican restaurant'], dtype=object), array(['Seafood restaurant', 'Restaurant'], dtype=object), array(['Chinese restaurant'], dtype=object), array(['Indian restaurant', 'Bar', 'Restaurant'], dtype=object), array(['Italian restaurant'], dtype=object), array(['Taco restaurant'], dtype=object), array(['Asian restaurant', 'Restaurant'], dtype=object), array(['Asian restaurant', 'Restaurant'], dtype=object), array(['Chinese restaurant'], dtype=object), array(['Sushi restaurant'], dtype=object), array(['Thai restaurant'], dtype=object), array(['Restaurant', 'Mexican restaurant'], dtype=object), array(['Mexican restaurant'], dtype=object), array(['Chicken restaurant', 'Restaurant'], dtype=object), array(['Chicken restaurant'], dtype=object), array(['Hot dog restaurant'], dtype=object), array(['Pizza restaurant', 'Restaurant'], dtype=object), array(['Pizza restaurant', 'Restaurant'], dtype=object), array(['Pizza restaurant'], dtype=object), array(['Fast food restaurant'], dtype=object), array(['Mediterranean restaurant'], dtype=object), array(['Restaurant', 'Juice shop'], dtype=object), array(['Mediterranean restaurant'], dtype=object), array(['Sports bar', 'Restaurant'], dtype=object), array(['Hamburger restaurant'], dtype=object), array(['Mexican restaurant'], dtype=object), array(['Mexican restaurant'], dtype=object), array(['Pizza restaurant'], dtype=object), array(['Restaurant', 'Beer store', 'Caterer', 'Market'], dtype=object), array(['Chinese restaurant'], dtype=object), array(['Chicken wings restaurant'], dtype=object), array(['Juice shop', 'Restaurant'], dtype=object), array(['Pizza restaurant'], dtype=object), array(['Japanese restaurant'], dtype=object), array(['Mexican restaurant'], dtype=object), array(['Barbecue restaurant'], dtype=object), array(['Restaurant', 'Mexican restaurant'], dtype=object), array(['Pizza restaurant'], dtype=object), array(['Fine dining restaurant', 'Bar'], dtype=object), array(['Mediterranean restaurant'], dtype=object), array(['Crab house', 'Restaurant'], dtype=object), array(['Breakfast restaurant', 'Donut shop'], dtype=object), array(['Hawaiian restaurant'], dtype=object), array(['Chicken restaurant'], dtype=object), array(['Mexican restaurant'], dtype=object), array(['Fine dining restaurant'], dtype=object), array(['Hawaiian restaurant', 'BBQ area'], dtype=object), array(['Taco restaurant'], dtype=object), array(['Pizza restaurant', 'Takeout Restaurant'], dtype=object), array(['Mexican restaurant'], dtype=object), array(['Chinese restaurant'], dtype=object), array(['Vegan restaurant'], dtype=object), array(['Chinese restaurant', 'Restaurant'], dtype=object), array(['Pizza restaurant'], dtype=object), array(['Breakfast restaurant', 'Deli'], dtype=object), array(['Pizza restaurant'], dtype=object), array(['Restaurant', 'Delivery Restaurant'], dtype=object), array(['Sports bar', 'Restaurant'], dtype=object), array(['Pizza restaurant'], dtype=object), array(['Restaurant', 'Delivery Restaurant'], dtype=object), array(['Health food restaurant'], dtype=object), array(['Taco restaurant'], dtype=object), array(['Fast food restaurant'], dtype=object), array(['Japanese restaurant', 'Restaurant'], dtype=object), array(['Japanese restaurant'], dtype=object), array(['Barbecue restaurant'], dtype=object), array(['Pizza restaurant'], dtype=object), array(['Hot dog restaurant'], dtype=object), array(['Delivery Restaurant'], dtype=object), array(['Chinese restaurant'], dtype=object), array(['Pizza restaurant'], dtype=object), array(['Pizza restaurant'], dtype=object), array(['Chinese restaurant'], dtype=object), array(['Coffee shop', 'Restaurant'], dtype=object), array(['Fast food restaurant'], dtype=object), array(['Mexican restaurant'], dtype=object), array(['Ice cream shop', 'Restaurant'], dtype=object), array(['Conveyor belt sushi restaurant', 'Restaurant'], dtype=object), array(['Health food restaurant'], dtype=object), array(['Pizza restaurant'], dtype=object), array(['Chinese restaurant', 'Restaurant'], dtype=object), array(['Health food restaurant'], dtype=object), array(['Chinese restaurant'], dtype=object), array(['Barbecue restaurant'], dtype=object), array(['Pizza restaurant', 'Delivery Restaurant'], dtype=object), array(['Indian restaurant'], dtype=object), array(['Chinese restaurant'], dtype=object), array(['Hamburger restaurant'], dtype=object), array(['Pizza restaurant'], dtype=object), array(['Pizza restaurant'], dtype=object), array(['Asian restaurant'], dtype=object), array(['Fast food restaurant'], dtype=object), array(['Mexican restaurant'], dtype=object), array(['Mexican restaurant'], dtype=object), array(['Italian restaurant'], dtype=object), array(['Asian fusion restaurant'], dtype=object), array(['Pizza restaurant', 'Delivery Restaurant'], dtype=object), array(['Pizza restaurant'], dtype=object), array(['Pizza restaurant'], dtype=object), array(['Health food restaurant'], dtype=object), array(['Chinese restaurant'], dtype=object), array(['Asian fusion restaurant'], dtype=object), array(['Pizza restaurant', 'Delivery Restaurant'], dtype=object), array(['Pizza restaurant'], dtype=object), array(['Chinese restaurant'], dtype=object), array(['Food court', 'Takeout Restaurant'], dtype=object), array(['Ice cream shop', 'Bakery', 'Restaurant'], dtype=object), array(['Chinese restaurant', 'Restaurant'], dtype=object), array(['Mediterranean restaurant'], dtype=object), array(['Restaurant', 'Market'], dtype=object), array(['Pizza restaurant'], dtype=object), array(['Tea house', 'Restaurant'], dtype=object), array(['Hamburger restaurant'], dtype=object), array(['Pizza restaurant', 'Takeout Restaurant'], dtype=object), array(['Chinese restaurant', 'Restaurant'], dtype=object), array(['Pizza restaurant', 'Takeout Restaurant'], dtype=object), array(['Pizza restaurant', 'Takeout Restaurant', 'Pizza delivery'],\n",
      "      dtype=object), array(['Pizza restaurant', 'Delivery Restaurant'], dtype=object), array(['Mexican restaurant', 'Restaurant'], dtype=object), array(['Mexican restaurant'], dtype=object), array(['Soft drinks shop', 'Restaurant'], dtype=object), array(['Barbecue restaurant'], dtype=object), array(['Mexican restaurant'], dtype=object), array(['Italian restaurant', 'Pizza restaurant'], dtype=object), array(['Mexican restaurant'], dtype=object), array(['Sushi restaurant'], dtype=object), array(['Sports bar', 'Restaurant'], dtype=object), array(['Pizza delivery', 'Pizza restaurant'], dtype=object), array(['Health food restaurant'], dtype=object), array(['Chinese restaurant'], dtype=object), array(['Barbecue restaurant', 'Restaurant'], dtype=object), array(['Chinese restaurant'], dtype=object), array(['Pizza delivery', 'Delivery Restaurant'], dtype=object), array(['Italian restaurant'], dtype=object), array(['Health food restaurant'], dtype=object), array(['Pizza restaurant', 'Pizza Takeout'], dtype=object), array(['Mexican restaurant'], dtype=object), array(['Barbecue restaurant'], dtype=object), array(['Grill', 'Restaurant'], dtype=object), array(['Fish & chips restaurant'], dtype=object), array(['Barbecue restaurant', 'Bar'], dtype=object), array(['Delivery Restaurant'], dtype=object), array(['Sushi restaurant', 'Japanese restaurant'], dtype=object), array(['Fast food restaurant'], dtype=object), array(['Pizza restaurant', 'Restaurant'], dtype=object), array(['Health food restaurant'], dtype=object), array(['Thai restaurant'], dtype=object), array(['Thai restaurant'], dtype=object), array(['Italian restaurant'], dtype=object), array(['Italian restaurant', 'Pizza restaurant'], dtype=object), array(['Hamburger restaurant'], dtype=object), array(['Chinese restaurant'], dtype=object), array(['Italian restaurant'], dtype=object), array(['Hamburger restaurant'], dtype=object), array(['Fast food restaurant'], dtype=object), array(['Health food restaurant'], dtype=object), array(['Takeout Restaurant'], dtype=object), array(['Mexican restaurant'], dtype=object), array(['Thai restaurant', 'Restaurant'], dtype=object), array(['Restaurant', 'Caterer'], dtype=object), array(['Steak house', 'Bar', 'Restaurant'], dtype=object), array(['Mexican restaurant'], dtype=object), array(['Hawaiian restaurant', 'Poke bar', 'Sushi takeaway'], dtype=object), array(['Mexican restaurant'], dtype=object), array(['Mexican restaurant'], dtype=object), array(['Vietnamese restaurant'], dtype=object), array(['Pizza restaurant'], dtype=object), array(['Pizza restaurant'], dtype=object), array(['Italian restaurant'], dtype=object), array(['Chinese restaurant'], dtype=object), array(['Chinese restaurant'], dtype=object), array(['Restaurant', 'Donut shop'], dtype=object), array(['Mexican restaurant', 'Restaurant'], dtype=object), array(['Pizza restaurant'], dtype=object), array(['Vietnamese restaurant'], dtype=object), array(['Cajun restaurant', 'Restaurant'], dtype=object), array(['Thai restaurant'], dtype=object), array(['Fast food restaurant'], dtype=object), array(['Chinese restaurant'], dtype=object), array(['Pizza restaurant'], dtype=object), array(['Pizza restaurant'], dtype=object), array(['Soul food restaurant'], dtype=object), array(['Mexican restaurant'], dtype=object), array(['Restaurant', 'Pizza restaurant'], dtype=object), array(['Italian restaurant'], dtype=object), array(['Taco restaurant'], dtype=object), array(['Pizza restaurant'], dtype=object), array(['Pizza restaurant'], dtype=object), array(['Fast food restaurant'], dtype=object), array(['Chinese restaurant'], dtype=object), array(['Mexican restaurant'], dtype=object), array(['Barbecue restaurant'], dtype=object), array(['Fast food restaurant'], dtype=object), array(['Mexican restaurant'], dtype=object), array(['Health food restaurant'], dtype=object), array(['Pizza restaurant'], dtype=object), array(['Pizza restaurant'], dtype=object), array(['Pizza restaurant', 'Delivery Restaurant'], dtype=object), array(['Restaurant', 'Pizza restaurant'], dtype=object), array(['Taco restaurant'], dtype=object), array(['Mexican restaurant'], dtype=object), array(['Bistro', 'Restaurant'], dtype=object), array(['Sushi restaurant', 'Japanese restaurant'], dtype=object), array(['American restaurant', 'Bar'], dtype=object), array(['Mexican restaurant'], dtype=object), array(['Mexican restaurant'], dtype=object), array(['Mexican restaurant'], dtype=object), array(['Soft drinks shop', 'Restaurant'], dtype=object), array(['Mexican restaurant'], dtype=object), array(['Mexican restaurant'], dtype=object), array(['Pizza restaurant'], dtype=object), array(['Chinese restaurant'], dtype=object), array(['Asian fusion restaurant'], dtype=object), array(['Mexican restaurant'], dtype=object), array(['Mexican restaurant'], dtype=object), array(['Hawaiian restaurant'], dtype=object), array(['Pizza restaurant'], dtype=object), array(['Mexican restaurant'], dtype=object), array(['Pizza restaurant'], dtype=object), array(['Health food restaurant'], dtype=object), array(['Pizza restaurant'], dtype=object), array(['Takeout Restaurant'], dtype=object), array(['Fast food restaurant'], dtype=object), array(['Italian restaurant'], dtype=object), array(['Fine dining restaurant'], dtype=object), array(['Pizza restaurant', 'Takeout Restaurant'], dtype=object), array(['Chinese restaurant'], dtype=object), array(['Pizza restaurant'], dtype=object), array(['Pizza restaurant'], dtype=object), array(['Pizza restaurant'], dtype=object), array(['Mexican restaurant'], dtype=object), array(['Pizza restaurant'], dtype=object), array(['Bakery', 'Bagel shop', 'Restaurant'], dtype=object), array(['Bar', 'Restaurant'], dtype=object), array(['Chinese restaurant'], dtype=object), array(['Hot dog restaurant'], dtype=object), array(['Chinese restaurant'], dtype=object), array(['Mexican restaurant'], dtype=object), array(['Asian fusion restaurant'], dtype=object), array(['Mexican restaurant'], dtype=object), array(['Chinese restaurant'], dtype=object), array(['Pizza restaurant'], dtype=object), array(['Cocktail bar', 'Restaurant'], dtype=object), array(['Mexican restaurant'], dtype=object), array(['Mexican restaurant'], dtype=object), array(['Pizza restaurant'], dtype=object), array(['Chinese restaurant'], dtype=object), array(['Hamburger restaurant', 'Restaurant'], dtype=object), array(['Pizza restaurant', 'Takeout Restaurant', 'Pizza delivery'],\n",
      "      dtype=object), array(['Mexican restaurant'], dtype=object), array(['Bakery', 'Delivery Restaurant', 'Restaurant'], dtype=object), array(['Mexican restaurant', 'Restaurant'], dtype=object), array(['Restaurant', 'Ice cream shop'], dtype=object), array(['Chinese restaurant'], dtype=object), array(['American restaurant', 'Bar'], dtype=object), array(['Vietnamese restaurant'], dtype=object), array(['Takeout Restaurant'], dtype=object), array(['Thai restaurant'], dtype=object), array(['Chicken restaurant', 'Sports bar'], dtype=object), array(['Thai restaurant', 'Restaurant'], dtype=object), array(['Chinese restaurant'], dtype=object), array(['Pizza restaurant'], dtype=object), array(['Chinese restaurant'], dtype=object), array(['Mexican restaurant'], dtype=object), array(['Seafood restaurant', 'Steak house'], dtype=object), array(['Japanese restaurant'], dtype=object), array(['Mexican restaurant'], dtype=object), array(['Mexican restaurant'], dtype=object), array(['Restaurant', 'Juice shop'], dtype=object), array(['Hot dog restaurant'], dtype=object), array(['Pizza restaurant', 'Italian restaurant'], dtype=object), array(['Sushi restaurant', 'Restaurant'], dtype=object), array(['Takeout Restaurant'], dtype=object), array(['Pizza restaurant'], dtype=object), array(['Taco restaurant'], dtype=object), array(['Pizza restaurant', 'Delivery Restaurant'], dtype=object), array(['Barbecue restaurant', 'Bar'], dtype=object), array(['Mexican restaurant'], dtype=object), array(['Pizza restaurant'], dtype=object), array(['Japanese restaurant'], dtype=object), array(['Pizza restaurant'], dtype=object), array(['Fast food restaurant'], dtype=object), array(['Thai restaurant'], dtype=object), array(['Pizza restaurant'], dtype=object), array(['Pizza restaurant'], dtype=object), array(['Italian restaurant'], dtype=object), array(['Fast food restaurant'], dtype=object), array(['Pizza restaurant'], dtype=object), array(['Fast food restaurant'], dtype=object), array(['Mexican restaurant'], dtype=object), array(['Mexican restaurant', 'Cafe'], dtype=object), array(['Hamburger restaurant'], dtype=object), array(['Fast food restaurant'], dtype=object), array(['Bagel shop', 'Restaurant'], dtype=object), array(['Japanese restaurant', 'Asian restaurant', 'Sushi restaurant'],\n",
      "      dtype=object), array(['Mexican restaurant'], dtype=object), array(['Fast food restaurant'], dtype=object), array(['Chinese restaurant'], dtype=object), array(['Restaurant', 'Pizza delivery'], dtype=object), array(['Mexican restaurant'], dtype=object), array(['Mexican restaurant'], dtype=object), array(['Fine dining restaurant'], dtype=object), array(['Chinese restaurant'], dtype=object), array(['Pizza restaurant'], dtype=object), array(['Mexican restaurant'], dtype=object), array(['Mexican restaurant'], dtype=object), array(['Chinese restaurant'], dtype=object), array(['Thai restaurant'], dtype=object), array(['Mexican restaurant', 'Restaurant'], dtype=object), array(['Barbecue restaurant', 'Restaurant'], dtype=object), array(['Grocery store', 'Restaurant'], dtype=object), array(['Barbecue restaurant'], dtype=object), array(['Indian restaurant', 'Bakery'], dtype=object), array(['Pizza restaurant', 'Delivery Restaurant'], dtype=object), array(['Chinese restaurant'], dtype=object), array(['Asian restaurant'], dtype=object), array(['Pizza restaurant', 'Italian restaurant'], dtype=object), array(['Taco restaurant'], dtype=object), array(['Mexican restaurant', 'Bakery'], dtype=object), array(['Mexican restaurant'], dtype=object), array(['Pizza restaurant', 'Pizza delivery'], dtype=object), array(['Asian fusion restaurant'], dtype=object), array(['Pizza restaurant', 'Pizza Takeout'], dtype=object), array(['Pizza restaurant'], dtype=object), array(['Pizza restaurant'], dtype=object), array(['Mexican restaurant', 'Restaurant'], dtype=object), array(['Takeout Restaurant', 'Seafood restaurant'], dtype=object), array(['Italian restaurant', 'Restaurant'], dtype=object), array(['Mexican restaurant'], dtype=object), array(['Pizza restaurant'], dtype=object), array(['Indian restaurant'], dtype=object), array(['Italian restaurant'], dtype=object), array(['Italian restaurant'], dtype=object), array(['Greek restaurant'], dtype=object), array(['Pizza restaurant', 'Italian restaurant'], dtype=object), array(['Pizza restaurant', 'Bar', 'Beer store', 'Casino'], dtype=object), array(['Pizza restaurant'], dtype=object), array(['Chinese restaurant', 'Restaurant'], dtype=object), array(['Chinese restaurant'], dtype=object), array(['Pizza restaurant'], dtype=object), array(['Pizza restaurant', 'Restaurant'], dtype=object), array(['Asian restaurant', 'Japanese restaurant'], dtype=object), array(['Mexican restaurant'], dtype=object), array(['Pizza restaurant'], dtype=object), array(['Barbecue restaurant'], dtype=object), array(['Hamburger restaurant'], dtype=object), array(['Pizza restaurant', 'Italian restaurant'], dtype=object), array(['Pizza restaurant', 'Restaurant'], dtype=object), array(['Pizza restaurant', 'Delivery Restaurant'], dtype=object), array(['Sushi restaurant'], dtype=object), array(['Fried chicken takeaway', 'Delivery Restaurant'], dtype=object), array(['Mexican restaurant'], dtype=object), array(['Sushi restaurant'], dtype=object), array(['Delivery Chinese restaurant'], dtype=object), array(['Polynesian restaurant', 'Restaurant'], dtype=object), array(['Mexican restaurant'], dtype=object), array(['Fast food restaurant'], dtype=object), array(['Italian restaurant'], dtype=object), array(['Mexican restaurant'], dtype=object), array(['Pizza restaurant', 'Restaurant'], dtype=object), array(['Chinese restaurant', 'Caterer'], dtype=object), array(['Chinese restaurant'], dtype=object), array(['Pizza restaurant'], dtype=object), array(['Fast food restaurant'], dtype=object), array(['Mexican restaurant'], dtype=object), array(['Thai restaurant'], dtype=object), array(['Seafood restaurant', 'Food'], dtype=object), array(['Pizza restaurant'], dtype=object), array(['Chicken wings restaurant'], dtype=object), array(['Pizza restaurant'], dtype=object), array(['Fine dining restaurant'], dtype=object), array(['Bowling alley', 'Restaurant'], dtype=object), array(['Pizza restaurant'], dtype=object), array(['Mexican restaurant'], dtype=object), array(['Pizza restaurant', 'Italian restaurant'], dtype=object), array(['Pizza restaurant'], dtype=object), array(['Mediterranean restaurant'], dtype=object), array(['Sports bar', 'Restaurant'], dtype=object), array(['Japanese restaurant', 'Restaurant'], dtype=object), array(['Juice shop', 'Restaurant'], dtype=object), array(['Pizza restaurant', 'Pizza Takeout'], dtype=object), array(['Restaurant', 'BBQ area'], dtype=object), array(['Bubble tea store', 'Restaurant'], dtype=object), array(['Bar', 'Restaurant'], dtype=object), array(['Chicken restaurant'], dtype=object), array(['Mexican restaurant'], dtype=object), array(['Seafood restaurant', 'Oyster bar restaurant'], dtype=object), array(['Hawaiian restaurant'], dtype=object), array(['Thai restaurant', 'Restaurant'], dtype=object), array(['Pizza restaurant'], dtype=object), array(['Mexican restaurant'], dtype=object), array(['Ice cream shop', 'Hawaiian restaurant'], dtype=object), array(['Grill', 'Restaurant'], dtype=object), array(['Mexican restaurant'], dtype=object), array(['Mexican restaurant'], dtype=object), array(['Barbecue restaurant', 'Restaurant'], dtype=object), array(['Pizza restaurant'], dtype=object), array(['Hawaiian restaurant', 'Restaurant'], dtype=object), array(['Taco restaurant'], dtype=object), array(['Taco restaurant'], dtype=object), array(['Mexican restaurant'], dtype=object), array(['Taco restaurant'], dtype=object), array(['Sushi restaurant'], dtype=object), array(['Asian restaurant'], dtype=object), array(['Barbecue restaurant', 'Restaurant'], dtype=object), array(['Mexican restaurant', 'Bar'], dtype=object), array(['Japanese restaurant', 'Asian restaurant', 'Sushi restaurant'],\n",
      "      dtype=object), array(['Pizza restaurant'], dtype=object), array(['Cafe', 'Coffee shop', 'Restaurant'], dtype=object), array(['Chicken wings restaurant'], dtype=object), array(['Chicken restaurant'], dtype=object), array(['Bar', 'Restaurant'], dtype=object), array(['Taco restaurant'], dtype=object), array(['Brewery', 'Pizza restaurant'], dtype=object), array(['Mexican restaurant', 'Restaurant'], dtype=object), array(['Mexican restaurant'], dtype=object), array(['Restaurant', 'Pizza restaurant'], dtype=object), array(['Pizza restaurant', 'Takeout Restaurant'], dtype=object), array(['Japanese restaurant'], dtype=object), array(['Mexican restaurant'], dtype=object), array(['Restaurant', 'Delivery Restaurant'], dtype=object), array(['Mexican restaurant'], dtype=object), array(['Vietnamese restaurant'], dtype=object), array(['Mexican restaurant', 'Restaurant'], dtype=object), array(['Pizza restaurant', 'Italian restaurant', 'Pizza delivery'],\n",
      "      dtype=object), array(['Pizza restaurant'], dtype=object), array(['Vegan restaurant'], dtype=object), array(['Juice shop', 'Restaurant'], dtype=object), array(['Pizza restaurant'], dtype=object), array(['Italian restaurant', 'Pizza restaurant'], dtype=object), array(['Mexican restaurant'], dtype=object), array(['Mexican restaurant'], dtype=object), array(['Caterer', 'Restaurant'], dtype=object), array(['Pizza restaurant', 'Pizza delivery'], dtype=object), array(['Asian fusion restaurant', 'Steak house', 'Sushi restaurant'],\n",
      "      dtype=object), array(['Barbecue restaurant'], dtype=object), array(['Hawaiian restaurant', 'Restaurant'], dtype=object), array(['Chinese restaurant'], dtype=object), array(['Pizza restaurant'], dtype=object), array(['American restaurant', 'Bar'], dtype=object), array(['Mexican restaurant'], dtype=object), array(['Chinese restaurant'], dtype=object), array(['Mexican restaurant'], dtype=object), array(['Pizza restaurant', 'Delivery Restaurant'], dtype=object), array(['Mexican restaurant'], dtype=object), array(['Asian fusion restaurant', 'Restaurant'], dtype=object), array(['Asian fusion restaurant', 'Restaurant'], dtype=object), array(['Sushi restaurant'], dtype=object), array(['Pizza restaurant'], dtype=object), array(['Chinese restaurant'], dtype=object), array(['Italian restaurant'], dtype=object), array(['Chinese restaurant', 'Restaurant'], dtype=object), array(['Pizza restaurant'], dtype=object), array(['Mexican restaurant'], dtype=object), array(['Asian restaurant'], dtype=object), array(['Sushi restaurant', 'Japanese restaurant'], dtype=object), array(['Pizza restaurant'], dtype=object), array(['Indian restaurant'], dtype=object), array(['Thai restaurant'], dtype=object), array(['Chinese restaurant'], dtype=object), array(['Pizza restaurant'], dtype=object), array(['Fast food restaurant'], dtype=object), array(['Mexican restaurant'], dtype=object), array(['Barbecue restaurant'], dtype=object), array(['Mexican restaurant'], dtype=object), array(['Pizza restaurant', 'Delivery Restaurant'], dtype=object), array(['Indian restaurant'], dtype=object), array(['Winery', 'Bar', 'Restaurant'], dtype=object), array(['Pizza restaurant'], dtype=object), array(['Italian restaurant', 'Pizza restaurant'], dtype=object), array(['Pizza restaurant', 'Pizza Takeout'], dtype=object), array(['Chicken restaurant'], dtype=object), array(['Barbecue restaurant'], dtype=object), array(['Pizza restaurant', 'Restaurant'], dtype=object), array(['Fast food restaurant'], dtype=object), array(['Pizza restaurant', 'Bakery'], dtype=object), array(['Takeout Restaurant'], dtype=object), array(['Chicken wings restaurant'], dtype=object), array(['Mexican restaurant'], dtype=object), array(['Chinese restaurant'], dtype=object), array(['Mexican restaurant', 'Restaurant'], dtype=object), array(['Mexican restaurant', 'Restaurant'], dtype=object), array(['Mexican restaurant'], dtype=object), array(['Hot dog restaurant'], dtype=object), array(['Pizza restaurant'], dtype=object), array(['Pizza restaurant'], dtype=object), array(['Chinese restaurant', 'Restaurant'], dtype=object), array(['Pizza restaurant'], dtype=object), array(['Hawaiian restaurant'], dtype=object), array(['Greek restaurant'], dtype=object), array(['Restaurant', 'Asian fusion restaurant'], dtype=object), array(['Soup restaurant'], dtype=object), array(['Barbecue restaurant', 'Restaurant'], dtype=object), array(['Chicken wings restaurant'], dtype=object), array(['Chicken wings restaurant'], dtype=object), array(['Pizza restaurant'], dtype=object), array(['Barbecue restaurant', 'Restaurant'], dtype=object), array(['Pizza restaurant'], dtype=object), array(['Pizza restaurant', 'Delivery Restaurant'], dtype=object), array(['Thai restaurant'], dtype=object), array(['Bar', 'Restaurant'], dtype=object), array(['Pizza delivery', 'Chicken restaurant'], dtype=object), array(['Chicken wings restaurant'], dtype=object), array(['Pizza restaurant'], dtype=object), array(['Italian restaurant'], dtype=object), array(['Mexican restaurant'], dtype=object), array(['Ramen restaurant'], dtype=object), array(['Fast food restaurant'], dtype=object), array(['Mexican restaurant'], dtype=object), array(['Juice shop', 'Restaurant'], dtype=object), array(['Chinese restaurant'], dtype=object), array(['Barbecue restaurant'], dtype=object), array(['Sushi restaurant'], dtype=object), array(['Chinese restaurant'], dtype=object), array(['Pizza restaurant', 'Delivery Restaurant'], dtype=object), array(['Chicken restaurant'], dtype=object), array(['Pizza restaurant', 'Restaurant'], dtype=object), array(['Hamburger restaurant'], dtype=object), array(['Sports bar', 'Restaurant'], dtype=object), array(['Mexican restaurant'], dtype=object), array(['Chinese restaurant'], dtype=object), array(['Chinese restaurant'], dtype=object), array(['Fast food restaurant'], dtype=object), array(['Mexican restaurant'], dtype=object), array(['Chicken wings restaurant'], dtype=object), array(['Hamburger restaurant'], dtype=object), array(['Pizza restaurant'], dtype=object), array(['Pizza restaurant'], dtype=object), array(['Japanese restaurant'], dtype=object), array(['Pizza restaurant', 'Restaurant'], dtype=object), array(['Steak house', 'Seafood restaurant'], dtype=object), array(['Italian restaurant', 'Restaurant'], dtype=object), array(['Mexican restaurant'], dtype=object), array(['Chinese restaurant'], dtype=object), array(['Bar', 'Restaurant'], dtype=object), array(['Chinese restaurant'], dtype=object), array(['Barbecue restaurant'], dtype=object), array(['Japanese restaurant'], dtype=object), array(['Barbecue restaurant'], dtype=object), array(['Pizza restaurant'], dtype=object), array(['Pizza restaurant', 'Delivery Restaurant'], dtype=object), array(['Barbecue restaurant'], dtype=object), array(['Pizza restaurant'], dtype=object), array(['Mexican restaurant'], dtype=object), array(['Indian restaurant'], dtype=object), array(['Chinese restaurant'], dtype=object), array(['Chinese restaurant'], dtype=object), array(['Mexican restaurant'], dtype=object), array(['Chinese restaurant'], dtype=object), array(['Bar', 'Restaurant'], dtype=object), array(['Mexican restaurant'], dtype=object), array(['American restaurant', 'Bar'], dtype=object), array(['Chinese restaurant'], dtype=object), array(['Sandwich shop', 'Delivery Restaurant'], dtype=object), array(['Mediterranean restaurant'], dtype=object), array(['American restaurant', 'Bar'], dtype=object), array(['Fast food restaurant'], dtype=object), array(['Indian restaurant'], dtype=object), array(['Barbecue restaurant', 'Bar'], dtype=object), array(['Pizza restaurant'], dtype=object), array(['Bar', 'Restaurant'], dtype=object), array(['Barbecue restaurant'], dtype=object), array(['Sushi restaurant', 'Restaurant'], dtype=object), array(['Ice cream shop', 'Dessert restaurant'], dtype=object), array(['Mexican restaurant'], dtype=object), array(['Chinese restaurant'], dtype=object), array(['Pizza restaurant'], dtype=object), array(['Soul food restaurant'], dtype=object), array(['Mexican restaurant'], dtype=object), array(['Sandwich shop', 'Restaurant'], dtype=object), array(['Chinese restaurant'], dtype=object), array(['Indian restaurant'], dtype=object), array(['Pizza restaurant', 'Restaurant'], dtype=object), array(['Chinese restaurant'], dtype=object), array(['Japanese restaurant'], dtype=object), array(['Pizza restaurant'], dtype=object), array(['Indian restaurant'], dtype=object), array(['Fast food restaurant'], dtype=object), array(['Fine dining restaurant', 'Cafe'], dtype=object), array(['Pizza restaurant', 'Italian restaurant'], dtype=object), array(['Chinese restaurant'], dtype=object), array(['Indian restaurant'], dtype=object), array(['Vegan restaurant'], dtype=object), array(['Coffee shop', 'Restaurant'], dtype=object), array(['Pizza delivery', 'Takeout Restaurant'], dtype=object), array(['Mexican restaurant'], dtype=object), array(['Italian restaurant'], dtype=object), array(['Mexican restaurant'], dtype=object), array(['Seafood restaurant', 'Restaurant'], dtype=object), array(['Chicken wings restaurant'], dtype=object), array(['Italian restaurant', 'Pizza restaurant'], dtype=object), array(['Barbecue restaurant', 'Restaurant'], dtype=object), array(['Caterer', 'Restaurant'], dtype=object), array(['Fast food restaurant'], dtype=object), array(['Pizza restaurant'], dtype=object), array(['Pizza restaurant', 'Delivery Restaurant'], dtype=object), array(['Mexican restaurant'], dtype=object), array(['Hamburger restaurant'], dtype=object), array(['Pizza restaurant', 'Delivery Restaurant'], dtype=object), array(['Chinese restaurant'], dtype=object), array(['Mexican restaurant'], dtype=object), array(['Barbecue restaurant', 'Mobile caterer'], dtype=object), array(['Bistro', 'American restaurant', 'Restaurant'], dtype=object), array(['Mexican restaurant'], dtype=object), array(['Indian restaurant'], dtype=object), array(['Mexican restaurant'], dtype=object)]\n"
     ]
    }
   ],
   "source": [
    "# Lista de palabras para buscar\n",
    "palabras_busqueda = ['sushi', 'beer','delivery']\n",
    "\n",
    "# Buscar palabras iguales o similares en la columna 'palabras'\n",
    "indices,palabras_similares = buscar_palabras_similares(df, 'category', palabras_busqueda)\n",
    "\n",
    "print(\"indices\", list(set(indices)))\n",
    "print(\"indices\", palabras_similares)"
   ]
  },
  {
   "cell_type": "code",
   "execution_count": 44,
   "metadata": {},
   "outputs": [
    {
     "data": {
      "text/plain": [
       "39"
      ]
     },
     "execution_count": 44,
     "metadata": {},
     "output_type": "execute_result"
    }
   ],
   "source": [
    "len(list(set(indices)))"
   ]
  }
 ],
 "metadata": {
  "kernelspec": {
   "display_name": "ProyectML",
   "language": "python",
   "name": "python3"
  },
  "language_info": {
   "codemirror_mode": {
    "name": "ipython",
    "version": 3
   },
   "file_extension": ".py",
   "mimetype": "text/x-python",
   "name": "python",
   "nbconvert_exporter": "python",
   "pygments_lexer": "ipython3",
   "version": "3.8.18"
  },
  "orig_nbformat": 4
 },
 "nbformat": 4,
 "nbformat_minor": 2
}
