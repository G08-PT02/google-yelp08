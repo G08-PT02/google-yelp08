{
 "cells": [
  {
   "cell_type": "code",
   "execution_count": 9,
   "metadata": {},
   "outputs": [
    {
     "name": "stdout",
     "output_type": "stream",
     "text": [
      "✔ Download and installation successful\n",
      "You can now load the package via spacy.load('en_core_web_md')\n"
     ]
    }
   ],
   "source": [
    "import spacy\n",
    "from sklearn.metrics.pairwise import cosine_similarity\n",
    "import numpy as np\n",
    "import pandas as pd\n",
    "spacy.cli.download(\"en_core_web_md\")"
   ]
  },
  {
   "cell_type": "code",
   "execution_count": 10,
   "metadata": {},
   "outputs": [
    {
     "data": {
      "text/html": [
       "<div>\n",
       "<style scoped>\n",
       "    .dataframe tbody tr th:only-of-type {\n",
       "        vertical-align: middle;\n",
       "    }\n",
       "\n",
       "    .dataframe tbody tr th {\n",
       "        vertical-align: top;\n",
       "    }\n",
       "\n",
       "    .dataframe thead th {\n",
       "        text-align: right;\n",
       "    }\n",
       "</style>\n",
       "<table border=\"1\" class=\"dataframe\">\n",
       "  <thead>\n",
       "    <tr style=\"text-align: right;\">\n",
       "      <th></th>\n",
       "      <th>name</th>\n",
       "      <th>address</th>\n",
       "      <th>description</th>\n",
       "      <th>category</th>\n",
       "      <th>MISC</th>\n",
       "      <th>coord</th>\n",
       "    </tr>\n",
       "  </thead>\n",
       "  <tbody>\n",
       "    <tr>\n",
       "      <th>0</th>\n",
       "      <td>Roux's Roadhouse 73</td>\n",
       "      <td>Roux's Roadhouse 73, 784 WI-73, Nekoosa, WI 54457</td>\n",
       "      <td>None</td>\n",
       "      <td>[Restaurant]</td>\n",
       "      <td>{'Accessibility': ['Wheelchair accessible entr...</td>\n",
       "      <td>[44.3069541, -89.8457834]</td>\n",
       "    </tr>\n",
       "    <tr>\n",
       "      <th>1</th>\n",
       "      <td>Crepes n' Tacos Mexican Grill</td>\n",
       "      <td>Crepes n' Tacos Mexican Grill, suit #5, 5390, ...</td>\n",
       "      <td>None</td>\n",
       "      <td>[Mexican restaurant, Crêperie, Ice cream shop,...</td>\n",
       "      <td>{'Accessibility': None, 'Amenities': ['Good fo...</td>\n",
       "      <td>[36.1646332, -115.0607804]</td>\n",
       "    </tr>\n",
       "    <tr>\n",
       "      <th>2</th>\n",
       "      <td>The Big Eazy</td>\n",
       "      <td>The Big Eazy, 2053 N Doctor M.L.K. Jr Dr, Milw...</td>\n",
       "      <td>None</td>\n",
       "      <td>[Cajun restaurant, Creole restaurant]</td>\n",
       "      <td>{'Accessibility': None, 'Amenities': ['Good fo...</td>\n",
       "      <td>[43.0576581, -87.914643]</td>\n",
       "    </tr>\n",
       "    <tr>\n",
       "      <th>3</th>\n",
       "      <td>Subway</td>\n",
       "      <td>Subway, 250 E Wolf Run, Mukwonago, WI 53149</td>\n",
       "      <td>Casual counter-serve chain for build-your-own ...</td>\n",
       "      <td>[Sandwich shop, Caterer, Fast food restaurant,...</td>\n",
       "      <td>{'Accessibility': None, 'Amenities': None, 'At...</td>\n",
       "      <td>[42.8541679, -88.3142471]</td>\n",
       "    </tr>\n",
       "    <tr>\n",
       "      <th>4</th>\n",
       "      <td>Papa Kelsey's</td>\n",
       "      <td>Papa Kelsey's, 165 E 1400 N, Logan, UT 84341</td>\n",
       "      <td>Chain eatery serving baked subs, classic pizza...</td>\n",
       "      <td>[Pizza restaurant]</td>\n",
       "      <td>{'Accessibility': ['Wheelchair accessible entr...</td>\n",
       "      <td>[41.7580941, -111.8302904]</td>\n",
       "    </tr>\n",
       "  </tbody>\n",
       "</table>\n",
       "</div>"
      ],
      "text/plain": [
       "                            name  \\\n",
       "0            Roux's Roadhouse 73   \n",
       "1  Crepes n' Tacos Mexican Grill   \n",
       "2                   The Big Eazy   \n",
       "3                         Subway   \n",
       "4                  Papa Kelsey's   \n",
       "\n",
       "                                             address  \\\n",
       "0  Roux's Roadhouse 73, 784 WI-73, Nekoosa, WI 54457   \n",
       "1  Crepes n' Tacos Mexican Grill, suit #5, 5390, ...   \n",
       "2  The Big Eazy, 2053 N Doctor M.L.K. Jr Dr, Milw...   \n",
       "3        Subway, 250 E Wolf Run, Mukwonago, WI 53149   \n",
       "4       Papa Kelsey's, 165 E 1400 N, Logan, UT 84341   \n",
       "\n",
       "                                         description  \\\n",
       "0                                               None   \n",
       "1                                               None   \n",
       "2                                               None   \n",
       "3  Casual counter-serve chain for build-your-own ...   \n",
       "4  Chain eatery serving baked subs, classic pizza...   \n",
       "\n",
       "                                            category  \\\n",
       "0                                       [Restaurant]   \n",
       "1  [Mexican restaurant, Crêperie, Ice cream shop,...   \n",
       "2              [Cajun restaurant, Creole restaurant]   \n",
       "3  [Sandwich shop, Caterer, Fast food restaurant,...   \n",
       "4                                 [Pizza restaurant]   \n",
       "\n",
       "                                                MISC  \\\n",
       "0  {'Accessibility': ['Wheelchair accessible entr...   \n",
       "1  {'Accessibility': None, 'Amenities': ['Good fo...   \n",
       "2  {'Accessibility': None, 'Amenities': ['Good fo...   \n",
       "3  {'Accessibility': None, 'Amenities': None, 'At...   \n",
       "4  {'Accessibility': ['Wheelchair accessible entr...   \n",
       "\n",
       "                        coord  \n",
       "0   [44.3069541, -89.8457834]  \n",
       "1  [36.1646332, -115.0607804]  \n",
       "2    [43.0576581, -87.914643]  \n",
       "3   [42.8541679, -88.3142471]  \n",
       "4  [41.7580941, -111.8302904]  "
      ]
     },
     "execution_count": 10,
     "metadata": {},
     "output_type": "execute_result"
    }
   ],
   "source": [
    "df = pd.read_parquet('../Datasets_ML/Rest_google.parquet')\n",
    "df.head()"
   ]
  },
  {
   "cell_type": "code",
   "execution_count": 11,
   "metadata": {},
   "outputs": [],
   "source": [
    "nlp_en = spacy.load(\"en_core_web_md\")"
   ]
  },
  {
   "cell_type": "code",
   "execution_count": 12,
   "metadata": {},
   "outputs": [
    {
     "name": "stdout",
     "output_type": "stream",
     "text": [
      "Palabras iguales o similares encontradas: ['Sushi restaurant', 'Sushi takeaway', 'Ramen restaurant', 'Sushi restaurant', 'Sushi restaurant', 'Sushi restaurant', 'Sushi restaurant', 'Sushi restaurant', 'Ramen restaurant', 'Sushi restaurant', 'Sushi takeaway', 'Sushi restaurant', 'Sushi restaurant', 'Teppanyaki restaurant', 'Sushi restaurant', 'Sushi takeaway', 'Sushi restaurant', 'Ramen restaurant', 'Sushi restaurant', 'Sushi restaurant', 'Ramen restaurant', 'Sushi restaurant', 'Sushi restaurant', 'Sushi restaurant', 'Sushi restaurant', 'Ramen restaurant', 'Sushi restaurant', 'Sushi restaurant', 'Sushi restaurant', 'Sushi restaurant', 'Sushi takeaway', 'Sushi restaurant', 'Ramen restaurant', 'Sushi takeaway', 'Sushi restaurant', 'Sushi restaurant', 'Sushi restaurant', 'Sushi restaurant', 'Sushi takeaway', 'Teppanyaki restaurant', 'Sushi restaurant', 'Sushi restaurant', 'Ramen restaurant', 'Sushi restaurant', 'Ramen restaurant', 'Sushi restaurant', 'Sushi restaurant', 'Sushi restaurant', 'Sushi restaurant', 'Sushi restaurant', 'Sushi restaurant', 'Teppanyaki restaurant', 'Sushi restaurant', 'Ramen restaurant', 'Sushi restaurant', 'Sushi restaurant', 'Sushi takeaway', 'Sushi restaurant']\n"
     ]
    }
   ],
   "source": [
    "def buscar_palabras_similares_avanzado_ingles(dataframe, columna, lista_busqueda, umbral_similitud=0.7):\n",
    "    palabras_similares = []\n",
    "\n",
    "    for lista in dataframe[columna]:\n",
    "        for palabra in lista:\n",
    "            similitudes = []\n",
    "            for palabra_busqueda in lista_busqueda:\n",
    "                # Calcular la similitud coseno entre los embeddings de las palabras\n",
    "                embedding_palabra = nlp_en(palabra).vector.reshape(1, -1)\n",
    "                embedding_palabra_busqueda = nlp_en(palabra_busqueda).vector.reshape(1, -1)\n",
    "                similitud = cosine_similarity(embedding_palabra, embedding_palabra_busqueda)[0][0]\n",
    "                similitudes.append(similitud)\n",
    "            \n",
    "            # Si la similitud es mayor que el umbral, agregar la palabra\n",
    "            if max(similitudes) >= umbral_similitud:\n",
    "                palabras_similares.append(palabra)\n",
    "\n",
    "    return palabras_similares\n",
    "\n",
    "# Lista de palabras para buscar\n",
    "palabras_busqueda = ['sushi', 'beer']\n",
    "\n",
    "# Buscar palabras iguales o similares en la columna 'palabras'\n",
    "palabras_similares = buscar_palabras_similares_avanzado_ingles(df, 'category', palabras_busqueda)\n",
    "\n",
    "print(\"Palabras iguales o similares encontradas:\", palabras_similares)"
   ]
  }
 ],
 "metadata": {
  "kernelspec": {
   "display_name": "ProyectML",
   "language": "python",
   "name": "python3"
  },
  "language_info": {
   "codemirror_mode": {
    "name": "ipython",
    "version": 3
   },
   "file_extension": ".py",
   "mimetype": "text/x-python",
   "name": "python",
   "nbconvert_exporter": "python",
   "pygments_lexer": "ipython3",
   "version": "3.8.18"
  },
  "orig_nbformat": 4
 },
 "nbformat": 4,
 "nbformat_minor": 2
}
