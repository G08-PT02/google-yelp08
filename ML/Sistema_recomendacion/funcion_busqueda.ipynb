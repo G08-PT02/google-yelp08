{
 "cells": [
  {
   "cell_type": "code",
   "execution_count": 1,
   "metadata": {},
   "outputs": [
    {
     "name": "stdout",
     "output_type": "stream",
     "text": [
      "✔ Download and installation successful\n",
      "You can now load the package via spacy.load('en_core_web_md')\n"
     ]
    }
   ],
   "source": [
    "import spacy\n",
    "from sklearn.metrics.pairwise import cosine_similarity\n",
    "import numpy as np\n",
    "import pandas as pd\n",
    "spacy.cli.download(\"en_core_web_md\")"
   ]
  },
  {
   "cell_type": "code",
   "execution_count": 2,
   "metadata": {},
   "outputs": [
    {
     "data": {
      "text/html": [
       "<div>\n",
       "<style scoped>\n",
       "    .dataframe tbody tr th:only-of-type {\n",
       "        vertical-align: middle;\n",
       "    }\n",
       "\n",
       "    .dataframe tbody tr th {\n",
       "        vertical-align: top;\n",
       "    }\n",
       "\n",
       "    .dataframe thead th {\n",
       "        text-align: right;\n",
       "    }\n",
       "</style>\n",
       "<table border=\"1\" class=\"dataframe\">\n",
       "  <thead>\n",
       "    <tr style=\"text-align: right;\">\n",
       "      <th></th>\n",
       "      <th>name</th>\n",
       "      <th>address</th>\n",
       "      <th>description</th>\n",
       "      <th>category</th>\n",
       "      <th>MISC</th>\n",
       "      <th>coord</th>\n",
       "    </tr>\n",
       "  </thead>\n",
       "  <tbody>\n",
       "    <tr>\n",
       "      <th>0</th>\n",
       "      <td>Roux's Roadhouse 73</td>\n",
       "      <td>Roux's Roadhouse 73, 784 WI-73, Nekoosa, WI 54457</td>\n",
       "      <td>None</td>\n",
       "      <td>[Restaurant]</td>\n",
       "      <td>{'Accessibility': ['Wheelchair accessible entr...</td>\n",
       "      <td>[44.3069541, -89.8457834]</td>\n",
       "    </tr>\n",
       "    <tr>\n",
       "      <th>1</th>\n",
       "      <td>Crepes n' Tacos Mexican Grill</td>\n",
       "      <td>Crepes n' Tacos Mexican Grill, suit #5, 5390, ...</td>\n",
       "      <td>None</td>\n",
       "      <td>[Mexican restaurant, Crêperie, Ice cream shop,...</td>\n",
       "      <td>{'Accessibility': None, 'Amenities': ['Good fo...</td>\n",
       "      <td>[36.1646332, -115.0607804]</td>\n",
       "    </tr>\n",
       "    <tr>\n",
       "      <th>2</th>\n",
       "      <td>The Big Eazy</td>\n",
       "      <td>The Big Eazy, 2053 N Doctor M.L.K. Jr Dr, Milw...</td>\n",
       "      <td>None</td>\n",
       "      <td>[Cajun restaurant, Creole restaurant]</td>\n",
       "      <td>{'Accessibility': None, 'Amenities': ['Good fo...</td>\n",
       "      <td>[43.0576581, -87.914643]</td>\n",
       "    </tr>\n",
       "    <tr>\n",
       "      <th>3</th>\n",
       "      <td>Subway</td>\n",
       "      <td>Subway, 250 E Wolf Run, Mukwonago, WI 53149</td>\n",
       "      <td>Casual counter-serve chain for build-your-own ...</td>\n",
       "      <td>[Sandwich shop, Caterer, Fast food restaurant,...</td>\n",
       "      <td>{'Accessibility': None, 'Amenities': None, 'At...</td>\n",
       "      <td>[42.8541679, -88.3142471]</td>\n",
       "    </tr>\n",
       "    <tr>\n",
       "      <th>4</th>\n",
       "      <td>Papa Kelsey's</td>\n",
       "      <td>Papa Kelsey's, 165 E 1400 N, Logan, UT 84341</td>\n",
       "      <td>Chain eatery serving baked subs, classic pizza...</td>\n",
       "      <td>[Pizza restaurant]</td>\n",
       "      <td>{'Accessibility': ['Wheelchair accessible entr...</td>\n",
       "      <td>[41.7580941, -111.8302904]</td>\n",
       "    </tr>\n",
       "  </tbody>\n",
       "</table>\n",
       "</div>"
      ],
      "text/plain": [
       "                            name  \\\n",
       "0            Roux's Roadhouse 73   \n",
       "1  Crepes n' Tacos Mexican Grill   \n",
       "2                   The Big Eazy   \n",
       "3                         Subway   \n",
       "4                  Papa Kelsey's   \n",
       "\n",
       "                                             address  \\\n",
       "0  Roux's Roadhouse 73, 784 WI-73, Nekoosa, WI 54457   \n",
       "1  Crepes n' Tacos Mexican Grill, suit #5, 5390, ...   \n",
       "2  The Big Eazy, 2053 N Doctor M.L.K. Jr Dr, Milw...   \n",
       "3        Subway, 250 E Wolf Run, Mukwonago, WI 53149   \n",
       "4       Papa Kelsey's, 165 E 1400 N, Logan, UT 84341   \n",
       "\n",
       "                                         description  \\\n",
       "0                                               None   \n",
       "1                                               None   \n",
       "2                                               None   \n",
       "3  Casual counter-serve chain for build-your-own ...   \n",
       "4  Chain eatery serving baked subs, classic pizza...   \n",
       "\n",
       "                                            category  \\\n",
       "0                                       [Restaurant]   \n",
       "1  [Mexican restaurant, Crêperie, Ice cream shop,...   \n",
       "2              [Cajun restaurant, Creole restaurant]   \n",
       "3  [Sandwich shop, Caterer, Fast food restaurant,...   \n",
       "4                                 [Pizza restaurant]   \n",
       "\n",
       "                                                MISC  \\\n",
       "0  {'Accessibility': ['Wheelchair accessible entr...   \n",
       "1  {'Accessibility': None, 'Amenities': ['Good fo...   \n",
       "2  {'Accessibility': None, 'Amenities': ['Good fo...   \n",
       "3  {'Accessibility': None, 'Amenities': None, 'At...   \n",
       "4  {'Accessibility': ['Wheelchair accessible entr...   \n",
       "\n",
       "                        coord  \n",
       "0   [44.3069541, -89.8457834]  \n",
       "1  [36.1646332, -115.0607804]  \n",
       "2    [43.0576581, -87.914643]  \n",
       "3   [42.8541679, -88.3142471]  \n",
       "4  [41.7580941, -111.8302904]  "
      ]
     },
     "execution_count": 2,
     "metadata": {},
     "output_type": "execute_result"
    }
   ],
   "source": [
    "df = pd.read_parquet('../Datasets_ML/Rest_google.parquet')\n",
    "df.head()"
   ]
  },
  {
   "cell_type": "code",
   "execution_count": 3,
   "metadata": {},
   "outputs": [],
   "source": [
    "nlp_en = spacy.load(\"en_core_web_md\")"
   ]
  },
  {
   "cell_type": "code",
   "execution_count": 9,
   "metadata": {},
   "outputs": [],
   "source": [
    "def buscar_palabras_similares_avanzado_ingles(dataframe, columna, lista_busqueda, umbral_similitud=0.7):\n",
    "    indices = []\n",
    "\n",
    "    for index,lista in enumerate(dataframe[columna]):\n",
    "        for palabra in lista:\n",
    "            similitudes = []\n",
    "            for palabra_busqueda in lista_busqueda:\n",
    "                # Calcular la similitud coseno entre los embeddings de las palabras\n",
    "                embedding_palabra = nlp_en(palabra).vector.reshape(1, -1)\n",
    "                embedding_palabra_busqueda = nlp_en(palabra_busqueda).vector.reshape(1, -1)\n",
    "                similitud = cosine_similarity(embedding_palabra, embedding_palabra_busqueda)[0][0]\n",
    "                similitudes.append(similitud)\n",
    "            \n",
    "            # Si la similitud es mayor que el umbral, agregar la palabra\n",
    "            if max(similitudes) >= umbral_similitud:\n",
    "                indices.append(index)\n",
    "                break\n",
    "    return indices"
   ]
  },
  {
   "cell_type": "code",
   "execution_count": 10,
   "metadata": {},
   "outputs": [
    {
     "name": "stdout",
     "output_type": "stream",
     "text": [
      "Palabras iguales o similares encontradas: [513, 1540, 2053, 2055, 1545, 14, 3087, 3089, 1554, 3090, 1556, 22, 23, 1562, 1051, 3098, 2589, 1057, 2593, 2551, 1575, 2599, 3111, 3115, 46, 3120, 3121, 3063, 53, 568, 59, 2620, 1085, 1597, 63, 2621, 578, 3138, 70, 3142, 1101, 3153, 1621, 608, 2146, 3173, 2151, 2663, 1645, 3184, 115, 629, 3191, 2680, 636, 1149, 2172, 2175, 2689, 1155, 3207, 136, 2701, 658, 2194, 148, 150, 671, 160, 2208, 674, 1699, 1704, 170, 1196, 2735, 176, 688, 2743, 2745, 189, 2237, 703, 2753, 2246, 2760, 713, 2761, 204, 206, 2255, 1234, 2771, 1236, 1750, 732, 2781, 734, 735, 2782, 2785, 2788, 743, 744, 746, 2282, 1772, 2284, 2796, 1776, 2289, 2801, 755, 757, 2808, 249, 251, 2813, 2304, 769, 2816, 773, 2823, 776, 2824, 276, 2838, 1303, 2332, 797, 1822, 2337, 2338, 291, 2849, 2350, 1840, 1841, 2352, 307, 820, 1331, 1846, 2874, 317, 831, 320, 839, 840, 846, 1872, 2896, 1362, 2905, 348, 1886, 1888, 2401, 1893, 1384, 2410, 2923, 876, 368, 1907, 2933, 1913, 381, 391, 2441, 1418, 2442, 2956, 911, 1938, 410, 2970, 412, 2462, 927, 2976, 420, 1960, 1963, 1966, 2991, 2480, 2992, 436, 1976, 3000, 2490, 3002, 2496, 1473, 3009, 2502, 2503, 968, 2510, 1490, 2005, 982, 2525, 3038, 3041, 1508, 485, 1511, 488, 1513, 1003, 1517, 2034, 1527, 2041, 2043]\n"
     ]
    }
   ],
   "source": [
    "# Lista de palabras para buscar\n",
    "palabras_busqueda = ['sushi', 'beer','delivery']\n",
    "\n",
    "# Buscar palabras iguales o similares en la columna 'palabras'\n",
    "palabras_similares = buscar_palabras_similares_avanzado_ingles(df, 'category', palabras_busqueda)\n",
    "\n",
    "print(\"indices\", list(set(palabras_similares)))"
   ]
  }
 ],
 "metadata": {
  "kernelspec": {
   "display_name": "ProyectML",
   "language": "python",
   "name": "python3"
  },
  "language_info": {
   "codemirror_mode": {
    "name": "ipython",
    "version": 3
   },
   "file_extension": ".py",
   "mimetype": "text/x-python",
   "name": "python",
   "nbconvert_exporter": "python",
   "pygments_lexer": "ipython3",
   "version": "3.8.18"
  },
  "orig_nbformat": 4
 },
 "nbformat": 4,
 "nbformat_minor": 2
}
