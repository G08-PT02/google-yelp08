{
 "cells": [
  {
   "cell_type": "code",
   "execution_count": 28,
   "metadata": {},
   "outputs": [
    {
     "name": "stderr",
     "output_type": "stream",
     "text": [
      "[nltk_data] Downloading package punkt to\n",
      "[nltk_data]     C:\\Users\\Guille\\AppData\\Roaming\\nltk_data...\n",
      "[nltk_data]   Package punkt is already up-to-date!\n",
      "[nltk_data] Downloading package stopwords to\n",
      "[nltk_data]     C:\\Users\\Guille\\AppData\\Roaming\\nltk_data...\n",
      "[nltk_data]   Package stopwords is already up-to-date!\n"
     ]
    },
    {
     "data": {
      "text/plain": [
       "True"
      ]
     },
     "execution_count": 28,
     "metadata": {},
     "output_type": "execute_result"
    }
   ],
   "source": [
    "import pandas as pd\n",
    "import numpy as np\n",
    "import nltk\n",
    "from nltk.tokenize import word_tokenize\n",
    "from nltk.corpus import stopwords\n",
    "from sklearn.metrics.pairwise import cosine_similarity\n",
    "import gensim.downloader as api\n",
    "import math\n",
    "nltk.download('punkt')\n",
    "nltk.download('stopwords')"
   ]
  },
  {
   "cell_type": "code",
   "execution_count": 29,
   "metadata": {},
   "outputs": [],
   "source": [
    "# Cargar un modelo de incrustaciones de palabras pre-entrenado (Word2Vec en este caso)\n",
    "word2vec_model = api.load('word2vec-google-news-300')"
   ]
  },
  {
   "cell_type": "code",
   "execution_count": 36,
   "metadata": {},
   "outputs": [
    {
     "data": {
      "text/html": [
       "<div>\n",
       "<style scoped>\n",
       "    .dataframe tbody tr th:only-of-type {\n",
       "        vertical-align: middle;\n",
       "    }\n",
       "\n",
       "    .dataframe tbody tr th {\n",
       "        vertical-align: top;\n",
       "    }\n",
       "\n",
       "    .dataframe thead th {\n",
       "        text-align: right;\n",
       "    }\n",
       "</style>\n",
       "<table border=\"1\" class=\"dataframe\">\n",
       "  <thead>\n",
       "    <tr style=\"text-align: right;\">\n",
       "      <th></th>\n",
       "      <th>name</th>\n",
       "      <th>address</th>\n",
       "      <th>description</th>\n",
       "      <th>category</th>\n",
       "      <th>MISC</th>\n",
       "      <th>coord</th>\n",
       "    </tr>\n",
       "  </thead>\n",
       "  <tbody>\n",
       "    <tr>\n",
       "      <th>0</th>\n",
       "      <td>Roux's Roadhouse 73</td>\n",
       "      <td>Roux's Roadhouse 73, 784 WI-73, Nekoosa, WI 54457</td>\n",
       "      <td>None</td>\n",
       "      <td>[Restaurant]</td>\n",
       "      <td>{'Accessibility': ['Wheelchair accessible entr...</td>\n",
       "      <td>[44.3069541, -89.8457834]</td>\n",
       "    </tr>\n",
       "    <tr>\n",
       "      <th>1</th>\n",
       "      <td>Crepes n' Tacos Mexican Grill</td>\n",
       "      <td>Crepes n' Tacos Mexican Grill, suit #5, 5390, ...</td>\n",
       "      <td>None</td>\n",
       "      <td>[Mexican restaurant, Crêperie, Ice cream shop,...</td>\n",
       "      <td>{'Accessibility': None, 'Amenities': ['Good fo...</td>\n",
       "      <td>[36.1646332, -115.0607804]</td>\n",
       "    </tr>\n",
       "    <tr>\n",
       "      <th>2</th>\n",
       "      <td>The Big Eazy</td>\n",
       "      <td>The Big Eazy, 2053 N Doctor M.L.K. Jr Dr, Milw...</td>\n",
       "      <td>None</td>\n",
       "      <td>[Cajun restaurant, Creole restaurant]</td>\n",
       "      <td>{'Accessibility': None, 'Amenities': ['Good fo...</td>\n",
       "      <td>[43.0576581, -87.914643]</td>\n",
       "    </tr>\n",
       "    <tr>\n",
       "      <th>3</th>\n",
       "      <td>Subway</td>\n",
       "      <td>Subway, 250 E Wolf Run, Mukwonago, WI 53149</td>\n",
       "      <td>Casual counter-serve chain for build-your-own ...</td>\n",
       "      <td>[Sandwich shop, Caterer, Fast food restaurant,...</td>\n",
       "      <td>{'Accessibility': None, 'Amenities': None, 'At...</td>\n",
       "      <td>[42.8541679, -88.3142471]</td>\n",
       "    </tr>\n",
       "    <tr>\n",
       "      <th>4</th>\n",
       "      <td>Papa Kelsey's</td>\n",
       "      <td>Papa Kelsey's, 165 E 1400 N, Logan, UT 84341</td>\n",
       "      <td>Chain eatery serving baked subs, classic pizza...</td>\n",
       "      <td>[Pizza restaurant]</td>\n",
       "      <td>{'Accessibility': ['Wheelchair accessible entr...</td>\n",
       "      <td>[41.7580941, -111.8302904]</td>\n",
       "    </tr>\n",
       "  </tbody>\n",
       "</table>\n",
       "</div>"
      ],
      "text/plain": [
       "                            name  \\\n",
       "0            Roux's Roadhouse 73   \n",
       "1  Crepes n' Tacos Mexican Grill   \n",
       "2                   The Big Eazy   \n",
       "3                         Subway   \n",
       "4                  Papa Kelsey's   \n",
       "\n",
       "                                             address  \\\n",
       "0  Roux's Roadhouse 73, 784 WI-73, Nekoosa, WI 54457   \n",
       "1  Crepes n' Tacos Mexican Grill, suit #5, 5390, ...   \n",
       "2  The Big Eazy, 2053 N Doctor M.L.K. Jr Dr, Milw...   \n",
       "3        Subway, 250 E Wolf Run, Mukwonago, WI 53149   \n",
       "4       Papa Kelsey's, 165 E 1400 N, Logan, UT 84341   \n",
       "\n",
       "                                         description  \\\n",
       "0                                               None   \n",
       "1                                               None   \n",
       "2                                               None   \n",
       "3  Casual counter-serve chain for build-your-own ...   \n",
       "4  Chain eatery serving baked subs, classic pizza...   \n",
       "\n",
       "                                            category  \\\n",
       "0                                       [Restaurant]   \n",
       "1  [Mexican restaurant, Crêperie, Ice cream shop,...   \n",
       "2              [Cajun restaurant, Creole restaurant]   \n",
       "3  [Sandwich shop, Caterer, Fast food restaurant,...   \n",
       "4                                 [Pizza restaurant]   \n",
       "\n",
       "                                                MISC  \\\n",
       "0  {'Accessibility': ['Wheelchair accessible entr...   \n",
       "1  {'Accessibility': None, 'Amenities': ['Good fo...   \n",
       "2  {'Accessibility': None, 'Amenities': ['Good fo...   \n",
       "3  {'Accessibility': None, 'Amenities': None, 'At...   \n",
       "4  {'Accessibility': ['Wheelchair accessible entr...   \n",
       "\n",
       "                        coord  \n",
       "0   [44.3069541, -89.8457834]  \n",
       "1  [36.1646332, -115.0607804]  \n",
       "2    [43.0576581, -87.914643]  \n",
       "3   [42.8541679, -88.3142471]  \n",
       "4  [41.7580941, -111.8302904]  "
      ]
     },
     "execution_count": 36,
     "metadata": {},
     "output_type": "execute_result"
    }
   ],
   "source": [
    "df = pd.read_parquet('./Datasets_ML/Rest_google.parquet')\n",
    "df.head()"
   ]
  },
  {
   "cell_type": "code",
   "execution_count": 39,
   "metadata": {},
   "outputs": [],
   "source": [
    "df.rename(columns={'category': 'categories'}, inplace=True)"
   ]
  },
  {
   "cell_type": "code",
   "execution_count": 31,
   "metadata": {},
   "outputs": [],
   "source": [
    "# Tokenización y limpieza de texto\n",
    "def preprocess_input(input_text):\n",
    "    tokens = word_tokenize(input_text.lower())\n",
    "    stop_words = set(stopwords.words('english'))\n",
    "    tokens = [word for word in tokens if word.isalnum() and word not in stop_words]\n",
    "    return tokens"
   ]
  },
  {
   "cell_type": "code",
   "execution_count": 43,
   "metadata": {},
   "outputs": [
    {
     "data": {
      "text/plain": [
       "['want', 'eat', 'barbecue', 'meat']"
      ]
     },
     "execution_count": 43,
     "metadata": {},
     "output_type": "execute_result"
    }
   ],
   "source": [
    "preprocess_input(\"I want to eat barbecue meat\")"
   ]
  },
  {
   "cell_type": "code",
   "execution_count": 32,
   "metadata": {},
   "outputs": [],
   "source": [
    "def calculate_distance(user_location, restaurant_location):\n",
    "    # Extraer las coordenadas de latitud y longitud del usuario y del restaurante\n",
    "    user_lat, user_lon = user_location\n",
    "    restaurant_lat, restaurant_lon = restaurant_location\n",
    "\n",
    "    # Radio de la Tierra en kilómetros\n",
    "    R = 6371.0\n",
    "\n",
    "    # Convertir latitud y longitud de grados a radianes\n",
    "    user_lat = math.radians(user_lat)\n",
    "    user_lon = math.radians(user_lon)\n",
    "    restaurant_lat = math.radians(restaurant_lat)\n",
    "    restaurant_lon = math.radians(restaurant_lon)\n",
    "\n",
    "    # Diferencia en latitud y longitud\n",
    "    dlon = restaurant_lon - user_lon\n",
    "    dlat = restaurant_lat - user_lat\n",
    "\n",
    "    # Fórmula de Haversine para calcular la distancia\n",
    "    a = math.sin(dlat / 2)**2 + math.cos(user_lat) * math.cos(restaurant_lat) * math.sin(dlon / 2)**2\n",
    "    c = 2 * math.atan2(math.sqrt(a), math.sqrt(1 - a))\n",
    "\n",
    "    # Distancia en kilómetros\n",
    "    distance = R * c\n",
    "\n",
    "    return distance"
   ]
  },
  {
   "cell_type": "code",
   "execution_count": 33,
   "metadata": {},
   "outputs": [],
   "source": [
    "def recommend_restaurants(input_text, df, word2vec_model, user_location):\n",
    "    input_keywords = preprocess_input(input_text)\n",
    "\n",
    "    # Obtener los índices de las palabras que existen en el modelo\n",
    "    existing_word_indices = [word2vec_model.key_to_index[word] for word in input_keywords if word in word2vec_model.key_to_index]\n",
    "\n",
    "    # Obtener los vectores para las palabras que existen\n",
    "    keyword_vectors = [word2vec_model.vectors[index] for index in existing_word_indices]\n",
    "\n",
    "    # Calcular el vector promedio de las palabras clave de entrada\n",
    "    if keyword_vectors:\n",
    "        input_vector = np.mean(keyword_vectors, axis=0)\n",
    "\n",
    "        # Calcular la similitud de coseno entre la entrada y las categorías de los restaurantes\n",
    "        similarities = []\n",
    "        for index, row in df.iterrows():\n",
    "            category_words = [word for word in row['category'] if word in word2vec_model.key_to_index]\n",
    "            if category_words:\n",
    "                category_vector = np.mean([word2vec_model[word] for word in category_words], axis=0)\n",
    "                similarity = cosine_similarity(input_vector.reshape(1, -1), category_vector.reshape(1, -1))[0][0]\n",
    "                similarities.append(similarity)\n",
    "            else:\n",
    "                similarities.append(np.nan)\n",
    "        \n",
    "        # Actualizar la columna de similitud\n",
    "        df['similarity'] = similarities\n",
    "\n",
    "        # Calcular la distancia desde la ubicación del usuario\n",
    "        df['distance'] = df['coord'].apply(lambda x: calculate_distance(user_location, x))\n",
    "\n",
    "        # Ponderar similitud y distancia para obtener una puntuación final\n",
    "        df['score'] = df['similarity'] + 0.5 * (1 - df['distance'])\n",
    "\n",
    "        # Ordenar por puntuación\n",
    "        recommended_restaurants = df.sort_values(by='score', ascending=False).head(5)\n",
    "        return recommended_restaurants[['name', 'category', 'coord']]\n",
    "    else:\n",
    "        return \"No se encontraron palabras clave válidas en la entrada.\"\n",
    "\n"
   ]
  },
  {
   "cell_type": "code",
   "execution_count": 34,
   "metadata": {},
   "outputs": [
    {
     "data": {
      "text/html": [
       "<div>\n",
       "<style scoped>\n",
       "    .dataframe tbody tr th:only-of-type {\n",
       "        vertical-align: middle;\n",
       "    }\n",
       "\n",
       "    .dataframe tbody tr th {\n",
       "        vertical-align: top;\n",
       "    }\n",
       "\n",
       "    .dataframe thead th {\n",
       "        text-align: right;\n",
       "    }\n",
       "</style>\n",
       "<table border=\"1\" class=\"dataframe\">\n",
       "  <thead>\n",
       "    <tr style=\"text-align: right;\">\n",
       "      <th></th>\n",
       "      <th>name</th>\n",
       "      <th>category</th>\n",
       "      <th>coord</th>\n",
       "    </tr>\n",
       "  </thead>\n",
       "  <tbody>\n",
       "    <tr>\n",
       "      <th>0</th>\n",
       "      <td>Roux's Roadhouse 73</td>\n",
       "      <td>[Restaurant]</td>\n",
       "      <td>[44.3069541, -89.8457834]</td>\n",
       "    </tr>\n",
       "    <tr>\n",
       "      <th>641</th>\n",
       "      <td>Subway</td>\n",
       "      <td>[Sandwich shop, Caterer, Fast food restaurant,...</td>\n",
       "      <td>[44.3062594, -89.810468]</td>\n",
       "    </tr>\n",
       "    <tr>\n",
       "      <th>67</th>\n",
       "      <td>Jabberjawz Bar And Dining</td>\n",
       "      <td>[Bar, Bar &amp; grill, Pizza restaurant, Volleybal...</td>\n",
       "      <td>[44.3443605, -89.9069743]</td>\n",
       "    </tr>\n",
       "    <tr>\n",
       "      <th>2263</th>\n",
       "      <td>Baker Street Grill</td>\n",
       "      <td>[Bar &amp; grill, Fine dining restaurant, Restaurant]</td>\n",
       "      <td>[44.3930556, -89.8052778]</td>\n",
       "    </tr>\n",
       "    <tr>\n",
       "      <th>356</th>\n",
       "      <td>Loyal-Phant Market</td>\n",
       "      <td>[Grocery store, Asian grocery store, Asian res...</td>\n",
       "      <td>[44.4077647, -89.7883925]</td>\n",
       "    </tr>\n",
       "  </tbody>\n",
       "</table>\n",
       "</div>"
      ],
      "text/plain": [
       "                           name  \\\n",
       "0           Roux's Roadhouse 73   \n",
       "641                      Subway   \n",
       "67    Jabberjawz Bar And Dining   \n",
       "2263         Baker Street Grill   \n",
       "356          Loyal-Phant Market   \n",
       "\n",
       "                                               category  \\\n",
       "0                                          [Restaurant]   \n",
       "641   [Sandwich shop, Caterer, Fast food restaurant,...   \n",
       "67    [Bar, Bar & grill, Pizza restaurant, Volleybal...   \n",
       "2263  [Bar & grill, Fine dining restaurant, Restaurant]   \n",
       "356   [Grocery store, Asian grocery store, Asian res...   \n",
       "\n",
       "                          coord  \n",
       "0     [44.3069541, -89.8457834]  \n",
       "641    [44.3062594, -89.810468]  \n",
       "67    [44.3443605, -89.9069743]  \n",
       "2263  [44.3930556, -89.8052778]  \n",
       "356   [44.4077647, -89.7883925]  "
      ]
     },
     "execution_count": 34,
     "metadata": {},
     "output_type": "execute_result"
    }
   ],
   "source": [
    "# Ejemplo de cómo llamar a la función\n",
    "input_text = \"I want to eat barbecue meat\"\n",
    "user_location = 'UbicacionUsuario'  # Reemplaza con la ubicación real del usuario\n",
    "recommended_restaurants = recommend_restaurants(input_text, df, word2vec_model, (44.3069541, -89.8457834))\n",
    "recommended_restaurants"
   ]
  },
  {
   "cell_type": "markdown",
   "metadata": {},
   "source": [
    "***"
   ]
  }
 ],
 "metadata": {
  "kernelspec": {
   "display_name": "ProyectML",
   "language": "python",
   "name": "python3"
  },
  "language_info": {
   "codemirror_mode": {
    "name": "ipython",
    "version": 3
   },
   "file_extension": ".py",
   "mimetype": "text/x-python",
   "name": "python",
   "nbconvert_exporter": "python",
   "pygments_lexer": "ipython3",
   "version": "3.8.18"
  },
  "orig_nbformat": 4
 },
 "nbformat": 4,
 "nbformat_minor": 2
}
