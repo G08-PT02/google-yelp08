{
 "cells": [
  {
   "cell_type": "code",
   "execution_count": 6,
   "metadata": {},
   "outputs": [],
   "source": [
<<<<<<< HEAD
    "from clase_recomendacion import recomendacion\n",
    "import importlib\n"
=======
    "from motor_recomendacion import recomendacion"
>>>>>>> 59c822b1b1ccefd9daa16b131ba43ba59500e03b
   ]
  },
  {
   "cell_type": "code",
   "execution_count": 7,
   "metadata": {},
   "outputs": [
    {
     "ename": "TypeError",
     "evalue": "reload() argument must be a module",
     "output_type": "error",
     "traceback": [
      "\u001b[1;31m---------------------------------------------------------------------------\u001b[0m",
      "\u001b[1;31mTypeError\u001b[0m                                 Traceback (most recent call last)",
      "\u001b[1;32mc:\\Repositorios\\repositorio-henry\\google-yelp08\\ML\\Sistema_recomendacion\\test_fina.ipynb Cell 2\u001b[0m line \u001b[0;36m1\n\u001b[1;32m----> <a href='vscode-notebook-cell:/c%3A/Repositorios/repositorio-henry/google-yelp08/ML/Sistema_recomendacion/test_fina.ipynb#X11sZmlsZQ%3D%3D?line=0'>1</a>\u001b[0m recomendacion \u001b[39m=\u001b[39m importlib\u001b[39m.\u001b[39;49mreload(recomendacion)\n",
      "File \u001b[1;32mc:\\Users\\guill\\anaconda3\\envs\\ProyectML\\lib\\importlib\\__init__.py:140\u001b[0m, in \u001b[0;36mreload\u001b[1;34m(module)\u001b[0m\n\u001b[0;32m    134\u001b[0m \u001b[39m\u001b[39m\u001b[39m\"\"\"Reload the module and return it.\u001b[39;00m\n\u001b[0;32m    135\u001b[0m \n\u001b[0;32m    136\u001b[0m \u001b[39mThe module must have been successfully imported before.\u001b[39;00m\n\u001b[0;32m    137\u001b[0m \n\u001b[0;32m    138\u001b[0m \u001b[39m\"\"\"\u001b[39;00m\n\u001b[0;32m    139\u001b[0m \u001b[39mif\u001b[39;00m \u001b[39mnot\u001b[39;00m module \u001b[39mor\u001b[39;00m \u001b[39mnot\u001b[39;00m \u001b[39misinstance\u001b[39m(module, types\u001b[39m.\u001b[39mModuleType):\n\u001b[1;32m--> 140\u001b[0m     \u001b[39mraise\u001b[39;00m \u001b[39mTypeError\u001b[39;00m(\u001b[39m\"\u001b[39m\u001b[39mreload() argument must be a module\u001b[39m\u001b[39m\"\u001b[39m)\n\u001b[0;32m    141\u001b[0m \u001b[39mtry\u001b[39;00m:\n\u001b[0;32m    142\u001b[0m     name \u001b[39m=\u001b[39m module\u001b[39m.\u001b[39m__spec__\u001b[39m.\u001b[39mname\n",
      "\u001b[1;31mTypeError\u001b[0m: reload() argument must be a module"
     ]
    }
   ],
   "source": [
    "recomendacion = importlib.reload(recomendacion)"
   ]
  },
  {
   "cell_type": "code",
   "execution_count": 3,
   "metadata": {},
   "outputs": [],
   "source": [
    "recom = recomendacion()"
   ]
  },
  {
   "cell_type": "code",
   "execution_count": 3,
   "metadata": {},
   "outputs": [
    {
     "data": {
      "text/html": [
       "<div>\n",
       "<style scoped>\n",
       "    .dataframe tbody tr th:only-of-type {\n",
       "        vertical-align: middle;\n",
       "    }\n",
       "\n",
       "    .dataframe tbody tr th {\n",
       "        vertical-align: top;\n",
       "    }\n",
       "\n",
       "    .dataframe thead th {\n",
       "        text-align: right;\n",
       "    }\n",
       "</style>\n",
       "<table border=\"1\" class=\"dataframe\">\n",
       "  <thead>\n",
       "    <tr style=\"text-align: right;\">\n",
       "      <th></th>\n",
       "      <th>name</th>\n",
       "      <th>address</th>\n",
       "      <th>gmap_id</th>\n",
       "      <th>description</th>\n",
       "      <th>latitude</th>\n",
       "      <th>longitude</th>\n",
       "      <th>category</th>\n",
       "      <th>price</th>\n",
       "      <th>hours</th>\n",
       "      <th>MISC</th>\n",
       "      <th>url</th>\n",
       "    </tr>\n",
       "  </thead>\n",
       "  <tbody>\n",
       "    <tr>\n",
       "      <th>0</th>\n",
       "      <td>Roux's Roadhouse 73</td>\n",
       "      <td>Roux's Roadhouse 73, 784 WI-73, Nekoosa, WI 54457</td>\n",
       "      <td>0x88008ff5b3c52fd3:0xdbe482cf9fb221db</td>\n",
       "      <td>None</td>\n",
       "      <td>44.306954</td>\n",
       "      <td>-89.845783</td>\n",
       "      <td>['Restaurant']</td>\n",
       "      <td>None</td>\n",
       "      <td>[['Thursday', '12–11PM'], ['Friday', '12PM–12A...</td>\n",
       "      <td>{'Service options': ['Takeout', 'Dine-in', 'De...</td>\n",
       "      <td>https://www.google.com/maps/place//data=!4m2!3...</td>\n",
       "    </tr>\n",
       "    <tr>\n",
       "      <th>1</th>\n",
       "      <td>Rita Supermarket and restaurants #2</td>\n",
       "      <td>Rita Supermarket and restaurants #2, 422 Belmo...</td>\n",
       "      <td>0x89e24fa02483a9ab:0x718d70964f700fd6</td>\n",
       "      <td>None</td>\n",
       "      <td>42.986138</td>\n",
       "      <td>-71.445091</td>\n",
       "      <td>['Restaurant']</td>\n",
       "      <td>None</td>\n",
       "      <td>[['Thursday', '8:30AM–7PM'], ['Friday', '8:30A...</td>\n",
       "      <td>{'Service options': ['Takeout'], 'Popular for'...</td>\n",
       "      <td>https://www.google.com/maps/place//data=!4m2!3...</td>\n",
       "    </tr>\n",
       "    <tr>\n",
       "      <th>2</th>\n",
       "      <td>Mr Scott’s Tavern &amp; Grill</td>\n",
       "      <td>Mr Scott’s Tavern &amp; Grill, W7318 WI-86, Tomaha...</td>\n",
       "      <td>0x4d557136b874c5db:0x34af0bdfbe0c964c</td>\n",
       "      <td>None</td>\n",
       "      <td>45.453699</td>\n",
       "      <td>-89.796499</td>\n",
       "      <td>['Restaurant']</td>\n",
       "      <td>None</td>\n",
       "      <td>[['Thursday', '2–10PM'], ['Friday', '2–10PM'],...</td>\n",
       "      <td>{'Service options': ['Takeout', 'Dine-in', 'De...</td>\n",
       "      <td>https://www.google.com/maps/place//data=!4m2!3...</td>\n",
       "    </tr>\n",
       "    <tr>\n",
       "      <th>3</th>\n",
       "      <td>Chi Ku Pan-Asian Kitchen</td>\n",
       "      <td>Chi Ku Pan-Asian Kitchen, 1732 W 5400 S, Salt ...</td>\n",
       "      <td>0x87528be4d10bcaeb:0x9ef8dd3c99a7a5ad</td>\n",
       "      <td>None</td>\n",
       "      <td>40.653806</td>\n",
       "      <td>-111.939851</td>\n",
       "      <td>['Restaurant']</td>\n",
       "      <td>None</td>\n",
       "      <td>[['Thursday', '11AM–10PM'], ['Friday', '11AM–1...</td>\n",
       "      <td>{'Service options': ['Outdoor seating', 'Deliv...</td>\n",
       "      <td>https://www.google.com/maps/place//data=!4m2!3...</td>\n",
       "    </tr>\n",
       "    <tr>\n",
       "      <th>4</th>\n",
       "      <td>Man Yee Express</td>\n",
       "      <td>Man Yee Express, 121 Loudon Rd, Concord, NH 03301</td>\n",
       "      <td>0x89e26bceb6222f8d:0x4f09e6e878167429</td>\n",
       "      <td>None</td>\n",
       "      <td>43.214048</td>\n",
       "      <td>-71.512284</td>\n",
       "      <td>['Restaurant']</td>\n",
       "      <td>None</td>\n",
       "      <td>[['Thursday', '10AM–9:30PM'], ['Friday', '10AM...</td>\n",
       "      <td>{'Service options': ['Delivery', 'Takeout'], '...</td>\n",
       "      <td>https://www.google.com/maps/place//data=!4m2!3...</td>\n",
       "    </tr>\n",
       "  </tbody>\n",
       "</table>\n",
       "</div>"
      ],
      "text/plain": [
       "                                  name  \\\n",
       "0                  Roux's Roadhouse 73   \n",
       "1  Rita Supermarket and restaurants #2   \n",
       "2            Mr Scott’s Tavern & Grill   \n",
       "3             Chi Ku Pan-Asian Kitchen   \n",
       "4                      Man Yee Express   \n",
       "\n",
       "                                             address  \\\n",
       "0  Roux's Roadhouse 73, 784 WI-73, Nekoosa, WI 54457   \n",
       "1  Rita Supermarket and restaurants #2, 422 Belmo...   \n",
       "2  Mr Scott’s Tavern & Grill, W7318 WI-86, Tomaha...   \n",
       "3  Chi Ku Pan-Asian Kitchen, 1732 W 5400 S, Salt ...   \n",
       "4  Man Yee Express, 121 Loudon Rd, Concord, NH 03301   \n",
       "\n",
       "                                 gmap_id description   latitude   longitude  \\\n",
       "0  0x88008ff5b3c52fd3:0xdbe482cf9fb221db        None  44.306954  -89.845783   \n",
       "1  0x89e24fa02483a9ab:0x718d70964f700fd6        None  42.986138  -71.445091   \n",
       "2  0x4d557136b874c5db:0x34af0bdfbe0c964c        None  45.453699  -89.796499   \n",
       "3  0x87528be4d10bcaeb:0x9ef8dd3c99a7a5ad        None  40.653806 -111.939851   \n",
       "4  0x89e26bceb6222f8d:0x4f09e6e878167429        None  43.214048  -71.512284   \n",
       "\n",
       "         category price                                              hours  \\\n",
       "0  ['Restaurant']  None  [['Thursday', '12–11PM'], ['Friday', '12PM–12A...   \n",
       "1  ['Restaurant']  None  [['Thursday', '8:30AM–7PM'], ['Friday', '8:30A...   \n",
       "2  ['Restaurant']  None  [['Thursday', '2–10PM'], ['Friday', '2–10PM'],...   \n",
       "3  ['Restaurant']  None  [['Thursday', '11AM–10PM'], ['Friday', '11AM–1...   \n",
       "4  ['Restaurant']  None  [['Thursday', '10AM–9:30PM'], ['Friday', '10AM...   \n",
       "\n",
       "                                                MISC  \\\n",
       "0  {'Service options': ['Takeout', 'Dine-in', 'De...   \n",
       "1  {'Service options': ['Takeout'], 'Popular for'...   \n",
       "2  {'Service options': ['Takeout', 'Dine-in', 'De...   \n",
       "3  {'Service options': ['Outdoor seating', 'Deliv...   \n",
       "4  {'Service options': ['Delivery', 'Takeout'], '...   \n",
       "\n",
       "                                                 url  \n",
       "0  https://www.google.com/maps/place//data=!4m2!3...  \n",
       "1  https://www.google.com/maps/place//data=!4m2!3...  \n",
       "2  https://www.google.com/maps/place//data=!4m2!3...  \n",
       "3  https://www.google.com/maps/place//data=!4m2!3...  \n",
       "4  https://www.google.com/maps/place//data=!4m2!3...  "
      ]
     },
     "execution_count": 3,
     "metadata": {},
     "output_type": "execute_result"
    }
   ],
   "source": [
    "df = recom.consulta()\n",
    "df.head()"
   ]
  },
  {
   "cell_type": "code",
   "execution_count": 3,
   "metadata": {},
   "outputs": [
    {
     "data": {
      "text/plain": [
       "['sushi']"
      ]
     },
     "execution_count": 3,
     "metadata": {},
     "output_type": "execute_result"
    }
   ],
   "source": [
    "texto = 'i like sushi'\n",
    "palabras_clave = recom.keywords(texto)\n",
    "palabras_clave"
   ]
  },
  {
   "cell_type": "code",
   "execution_count": 9,
   "metadata": {},
   "outputs": [
    {
     "data": {
      "text/plain": [
       "[22,\n",
       " 53,\n",
       " 115,\n",
       " 136,\n",
       " 160,\n",
       " 192,\n",
       " 204,\n",
       " 206,\n",
       " 263,\n",
       " 307,\n",
       " 381,\n",
       " 568,\n",
       " 629,\n",
       " 743,\n",
       " 744,\n",
       " 757,\n",
       " 797,\n",
       " 820,\n",
       " 840,\n",
       " 935,\n",
       " 974,\n",
       " 1085,\n",
       " 1101,\n",
       " 1234,\n",
       " 1292,\n",
       " 1303,\n",
       " 1360,\n",
       " 1490,\n",
       " 1511,\n",
       " 1517,\n",
       " 1527,\n",
       " 1575,\n",
       " 1645,\n",
       " 1776,\n",
       " 1907,\n",
       " 2034,\n",
       " 2053,\n",
       " 2151,\n",
       " 2285,\n",
       " 2338,\n",
       " 2350,\n",
       " 2427,\n",
       " 2490,\n",
       " 2503,\n",
       " 2510,\n",
       " 2525,\n",
       " 2593,\n",
       " 2599,\n",
       " 2621,\n",
       " 2663,\n",
       " 2689,\n",
       " 2771,\n",
       " 2788,\n",
       " 2801,\n",
       " 2813,\n",
       " 2849,\n",
       " 2874,\n",
       " 2923,\n",
       " 3063,\n",
       " 3271,\n",
       " 3511,\n",
       " 3513,\n",
       " 4587,\n",
       " 4658,\n",
       " 4984,\n",
       " 5685,\n",
       " 5848,\n",
       " 6023,\n",
       " 6703,\n",
       " 7064,\n",
       " 7211,\n",
       " 7319,\n",
       " 7523,\n",
       " 7605,\n",
       " 7660,\n",
       " 7710,\n",
       " 7956,\n",
       " 8647,\n",
       " 9382,\n",
       " 9616,\n",
       " 9787,\n",
       " 10015,\n",
       " 10910,\n",
       " 11459,\n",
       " 12542,\n",
       " 12578,\n",
       " 12596,\n",
       " 12624,\n",
       " 12724,\n",
       " 13188,\n",
       " 13260,\n",
       " 13287,\n",
       " 13573,\n",
       " 13636,\n",
       " 13639,\n",
       " 13912,\n",
       " 14104,\n",
       " 14657,\n",
       " 15092,\n",
       " 15268,\n",
       " 15326,\n",
       " 16180,\n",
       " 16411,\n",
       " 16478,\n",
       " 16652,\n",
       " 17525,\n",
       " 17932,\n",
       " 18276,\n",
       " 18435,\n",
       " 18503,\n",
       " 18511]"
      ]
     },
     "execution_count": 9,
     "metadata": {},
     "output_type": "execute_result"
    }
   ],
   "source": [
    "indices = recom.search(palabras_clave)\n",
    "indices"
   ]
  },
  {
   "cell_type": "code",
   "execution_count": 13,
   "metadata": {},
   "outputs": [
    {
     "ename": "KeyError",
     "evalue": "('name', 'keywords')",
     "output_type": "error",
     "traceback": [
      "\u001b[1;31m---------------------------------------------------------------------------\u001b[0m",
      "\u001b[1;31mKeyError\u001b[0m                                  Traceback (most recent call last)",
      "File \u001b[1;32mc:\\Users\\guill\\anaconda3\\envs\\ProyectML\\lib\\site-packages\\pandas\\core\\indexes\\base.py:3653\u001b[0m, in \u001b[0;36mIndex.get_loc\u001b[1;34m(self, key)\u001b[0m\n\u001b[0;32m   3652\u001b[0m \u001b[39mtry\u001b[39;00m:\n\u001b[1;32m-> 3653\u001b[0m     \u001b[39mreturn\u001b[39;00m \u001b[39mself\u001b[39;49m\u001b[39m.\u001b[39;49m_engine\u001b[39m.\u001b[39;49mget_loc(casted_key)\n\u001b[0;32m   3654\u001b[0m \u001b[39mexcept\u001b[39;00m \u001b[39mKeyError\u001b[39;00m \u001b[39mas\u001b[39;00m err:\n",
      "File \u001b[1;32mc:\\Users\\guill\\anaconda3\\envs\\ProyectML\\lib\\site-packages\\pandas\\_libs\\index.pyx:147\u001b[0m, in \u001b[0;36mpandas._libs.index.IndexEngine.get_loc\u001b[1;34m()\u001b[0m\n",
      "File \u001b[1;32mc:\\Users\\guill\\anaconda3\\envs\\ProyectML\\lib\\site-packages\\pandas\\_libs\\index.pyx:176\u001b[0m, in \u001b[0;36mpandas._libs.index.IndexEngine.get_loc\u001b[1;34m()\u001b[0m\n",
      "File \u001b[1;32mpandas\\_libs\\hashtable_class_helper.pxi:7080\u001b[0m, in \u001b[0;36mpandas._libs.hashtable.PyObjectHashTable.get_item\u001b[1;34m()\u001b[0m\n",
      "File \u001b[1;32mpandas\\_libs\\hashtable_class_helper.pxi:7088\u001b[0m, in \u001b[0;36mpandas._libs.hashtable.PyObjectHashTable.get_item\u001b[1;34m()\u001b[0m\n",
      "\u001b[1;31mKeyError\u001b[0m: ('name', 'keywords')",
      "\nThe above exception was the direct cause of the following exception:\n",
      "\u001b[1;31mKeyError\u001b[0m                                  Traceback (most recent call last)",
      "\u001b[1;32mc:\\Repositorios\\repositorio-henry\\google-yelp08\\ML\\Sistema_recomendacion\\test_fina.ipynb Cell 6\u001b[0m line \u001b[0;36m1\n\u001b[1;32m----> <a href='vscode-notebook-cell:/c%3A/Repositorios/repositorio-henry/google-yelp08/ML/Sistema_recomendacion/test_fina.ipynb#W5sZmlsZQ%3D%3D?line=0'>1</a>\u001b[0m df[\u001b[39m'\u001b[39;49m\u001b[39mname\u001b[39;49m\u001b[39m'\u001b[39;49m,\u001b[39m'\u001b[39;49m\u001b[39mkeywords\u001b[39;49m\u001b[39m'\u001b[39;49m]\u001b[39m.\u001b[39mloc[indices]\n",
      "File \u001b[1;32mc:\\Users\\guill\\anaconda3\\envs\\ProyectML\\lib\\site-packages\\pandas\\core\\frame.py:3761\u001b[0m, in \u001b[0;36mDataFrame.__getitem__\u001b[1;34m(self, key)\u001b[0m\n\u001b[0;32m   3759\u001b[0m \u001b[39mif\u001b[39;00m \u001b[39mself\u001b[39m\u001b[39m.\u001b[39mcolumns\u001b[39m.\u001b[39mnlevels \u001b[39m>\u001b[39m \u001b[39m1\u001b[39m:\n\u001b[0;32m   3760\u001b[0m     \u001b[39mreturn\u001b[39;00m \u001b[39mself\u001b[39m\u001b[39m.\u001b[39m_getitem_multilevel(key)\n\u001b[1;32m-> 3761\u001b[0m indexer \u001b[39m=\u001b[39m \u001b[39mself\u001b[39;49m\u001b[39m.\u001b[39;49mcolumns\u001b[39m.\u001b[39;49mget_loc(key)\n\u001b[0;32m   3762\u001b[0m \u001b[39mif\u001b[39;00m is_integer(indexer):\n\u001b[0;32m   3763\u001b[0m     indexer \u001b[39m=\u001b[39m [indexer]\n",
      "File \u001b[1;32mc:\\Users\\guill\\anaconda3\\envs\\ProyectML\\lib\\site-packages\\pandas\\core\\indexes\\base.py:3655\u001b[0m, in \u001b[0;36mIndex.get_loc\u001b[1;34m(self, key)\u001b[0m\n\u001b[0;32m   3653\u001b[0m     \u001b[39mreturn\u001b[39;00m \u001b[39mself\u001b[39m\u001b[39m.\u001b[39m_engine\u001b[39m.\u001b[39mget_loc(casted_key)\n\u001b[0;32m   3654\u001b[0m \u001b[39mexcept\u001b[39;00m \u001b[39mKeyError\u001b[39;00m \u001b[39mas\u001b[39;00m err:\n\u001b[1;32m-> 3655\u001b[0m     \u001b[39mraise\u001b[39;00m \u001b[39mKeyError\u001b[39;00m(key) \u001b[39mfrom\u001b[39;00m \u001b[39merr\u001b[39;00m\n\u001b[0;32m   3656\u001b[0m \u001b[39mexcept\u001b[39;00m \u001b[39mTypeError\u001b[39;00m:\n\u001b[0;32m   3657\u001b[0m     \u001b[39m# If we have a listlike key, _check_indexing_error will raise\u001b[39;00m\n\u001b[0;32m   3658\u001b[0m     \u001b[39m#  InvalidIndexError. Otherwise we fall through and re-raise\u001b[39;00m\n\u001b[0;32m   3659\u001b[0m     \u001b[39m#  the TypeError.\u001b[39;00m\n\u001b[0;32m   3660\u001b[0m     \u001b[39mself\u001b[39m\u001b[39m.\u001b[39m_check_indexing_error(key)\n",
      "\u001b[1;31mKeyError\u001b[0m: ('name', 'keywords')"
     ]
    }
   ],
   "source": [
    "df['name','keywords'].loc[indices]"
   ]
  },
  {
   "cell_type": "markdown",
   "metadata": {},
   "source": [
    "***"
   ]
  },
  {
   "cell_type": "code",
<<<<<<< HEAD
   "execution_count": 4,
   "metadata": {},
   "outputs": [
    {
     "data": {
      "text/html": [
       "<div>\n",
       "<style scoped>\n",
       "    .dataframe tbody tr th:only-of-type {\n",
       "        vertical-align: middle;\n",
       "    }\n",
       "\n",
       "    .dataframe tbody tr th {\n",
       "        vertical-align: top;\n",
       "    }\n",
       "\n",
       "    .dataframe thead th {\n",
       "        text-align: right;\n",
       "    }\n",
       "</style>\n",
       "<table border=\"1\" class=\"dataframe\">\n",
       "  <thead>\n",
       "    <tr style=\"text-align: right;\">\n",
       "      <th></th>\n",
       "      <th>name</th>\n",
       "      <th>address</th>\n",
       "      <th>distance</th>\n",
       "    </tr>\n",
       "  </thead>\n",
       "  <tbody>\n",
       "    <tr>\n",
       "      <th>0</th>\n",
       "      <td>Roux's Roadhouse 73</td>\n",
       "      <td>Roux's Roadhouse 73, 784 WI-73, Nekoosa, WI 54457</td>\n",
       "      <td>0.00</td>\n",
       "    </tr>\n",
       "    <tr>\n",
       "      <th>1</th>\n",
       "      <td>Aaron’s Wines &amp; Steins</td>\n",
       "      <td>Aaron’s Wines &amp; Steins, 160 1st St N, Wisconsi...</td>\n",
       "      <td>9.62</td>\n",
       "    </tr>\n",
       "    <tr>\n",
       "      <th>2</th>\n",
       "      <td>Rhody's Middletown Tavern &amp; Grill</td>\n",
       "      <td>Rhody's Middletown Tavern &amp; Grill, 2301 Church...</td>\n",
       "      <td>31.60</td>\n",
       "    </tr>\n",
       "    <tr>\n",
       "      <th>3</th>\n",
       "      <td>Woodbine Inn</td>\n",
       "      <td>Woodbine Inn, N11091 19th Ave, Necedah, WI 54646</td>\n",
       "      <td>32.27</td>\n",
       "    </tr>\n",
       "    <tr>\n",
       "      <th>4</th>\n",
       "      <td>Lavore's On the Hill Ristorante</td>\n",
       "      <td>Lavore's On the Hill Ristorante, 235 N Church ...</td>\n",
       "      <td>39.60</td>\n",
       "    </tr>\n",
       "  </tbody>\n",
       "</table>\n",
       "</div>"
      ],
      "text/plain": [
       "                                name  \\\n",
       "0                Roux's Roadhouse 73   \n",
       "1             Aaron’s Wines & Steins   \n",
       "2  Rhody's Middletown Tavern & Grill   \n",
       "3                       Woodbine Inn   \n",
       "4    Lavore's On the Hill Ristorante   \n",
       "\n",
       "                                             address  distance  \n",
       "0  Roux's Roadhouse 73, 784 WI-73, Nekoosa, WI 54457      0.00  \n",
       "1  Aaron’s Wines & Steins, 160 1st St N, Wisconsi...      9.62  \n",
       "2  Rhody's Middletown Tavern & Grill, 2301 Church...     31.60  \n",
       "3   Woodbine Inn, N11091 19th Ave, Necedah, WI 54646     32.27  \n",
       "4  Lavore's On the Hill Ristorante, 235 N Church ...     39.60  "
      ]
     },
     "execution_count": 4,
     "metadata": {},
     "output_type": "execute_result"
    }
   ],
   "source": [
    "df = recom.main('beer',(44.3069541, -89.8457834))\n",
=======
   "execution_count": 3,
   "metadata": {},
   "outputs": [
    {
     "ename": "ValueError",
     "evalue": "Expected 2D array, got 1D array instead:\narray=[].\nReshape your data either using array.reshape(-1, 1) if your data has a single feature or array.reshape(1, -1) if it contains a single sample.",
     "output_type": "error",
     "traceback": [
      "\u001b[1;31m---------------------------------------------------------------------------\u001b[0m",
      "\u001b[1;31mValueError\u001b[0m                                Traceback (most recent call last)",
      "\u001b[1;32mh:\\Repositorios\\repositorio-henry\\google-yelp08\\ML\\Sistema_recomendacion\\test_fina.ipynb Cell 8\u001b[0m line \u001b[0;36m1\n\u001b[1;32m----> <a href='vscode-notebook-cell:/h%3A/Repositorios/repositorio-henry/google-yelp08/ML/Sistema_recomendacion/test_fina.ipynb#X10sZmlsZQ%3D%3D?line=0'>1</a>\u001b[0m df \u001b[39m=\u001b[39m recom\u001b[39m.\u001b[39;49mmain(\u001b[39m'\u001b[39;49m\u001b[39msushi\u001b[39;49m\u001b[39m'\u001b[39;49m,[\u001b[39m44.3069541\u001b[39;49m, \u001b[39m-\u001b[39;49m\u001b[39m89.8457834\u001b[39;49m])\n\u001b[0;32m      <a href='vscode-notebook-cell:/h%3A/Repositorios/repositorio-henry/google-yelp08/ML/Sistema_recomendacion/test_fina.ipynb#X10sZmlsZQ%3D%3D?line=1'>2</a>\u001b[0m df\n",
      "File \u001b[1;32mh:\\Repositorios\\repositorio-henry\\google-yelp08\\ML\\Sistema_recomendacion\\motor_recomendacion.py:98\u001b[0m, in \u001b[0;36mrecomendacion.main\u001b[1;34m(self, text, coord, limit)\u001b[0m\n\u001b[0;32m     96\u001b[0m \u001b[39mdef\u001b[39;00m \u001b[39mmain\u001b[39m(\u001b[39mself\u001b[39m,text,coord,limit\u001b[39m=\u001b[39m\u001b[39m5\u001b[39m):\n\u001b[0;32m     97\u001b[0m     keywords \u001b[39m=\u001b[39m \u001b[39mself\u001b[39m\u001b[39m.\u001b[39mkeywords(text)\n\u001b[1;32m---> 98\u001b[0m     indices \u001b[39m=\u001b[39m \u001b[39mself\u001b[39;49m\u001b[39m.\u001b[39;49msearch(keywords)\n\u001b[0;32m     99\u001b[0m     df_recom \u001b[39m=\u001b[39m \u001b[39mself\u001b[39m\u001b[39m.\u001b[39mdf\u001b[39m.\u001b[39miloc[indices]\u001b[39m.\u001b[39mreset_index()\n\u001b[0;32m    100\u001b[0m     df_recom[\u001b[39m'\u001b[39m\u001b[39mdistance\u001b[39m\u001b[39m'\u001b[39m] \u001b[39m=\u001b[39m df_recom\u001b[39m.\u001b[39mapply(\u001b[39mlambda\u001b[39;00m row: \u001b[39mself\u001b[39m\u001b[39m.\u001b[39mdistance(coord, row[\u001b[39m'\u001b[39m\u001b[39mcoord\u001b[39m\u001b[39m'\u001b[39m]), axis\u001b[39m=\u001b[39m\u001b[39m1\u001b[39m)\n",
      "File \u001b[1;32mh:\\Repositorios\\repositorio-henry\\google-yelp08\\ML\\Sistema_recomendacion\\motor_recomendacion.py:61\u001b[0m, in \u001b[0;36mrecomendacion.search\u001b[1;34m(self, lista_busqueda, umbral_similitud)\u001b[0m\n\u001b[0;32m     58\u001b[0m \u001b[39mfor\u001b[39;00m index, embedding \u001b[39min\u001b[39;00m \u001b[39menumerate\u001b[39m(\u001b[39mself\u001b[39m\u001b[39m.\u001b[39mdf[\u001b[39m'\u001b[39m\u001b[39membedding\u001b[39m\u001b[39m'\u001b[39m]):\n\u001b[0;32m     59\u001b[0m     \u001b[39mif\u001b[39;00m embedding \u001b[39mis\u001b[39;00m \u001b[39mnot\u001b[39;00m \u001b[39mNone\u001b[39;00m:\n\u001b[0;32m     60\u001b[0m         \u001b[39m# Calcular la similitud coseno solo si el embedding es válido (no es None)\u001b[39;00m\n\u001b[1;32m---> 61\u001b[0m         similitudes \u001b[39m=\u001b[39m cosine_similarity(embedding, embeddings_busqueda)\u001b[39m.\u001b[39mmax(axis\u001b[39m=\u001b[39m\u001b[39m1\u001b[39m)\n\u001b[0;32m     63\u001b[0m         \u001b[39m# Si la similitud es mayor que el umbral, agregar el índice\u001b[39;00m\n\u001b[0;32m     64\u001b[0m         \u001b[39mif\u001b[39;00m np\u001b[39m.\u001b[39many(similitudes \u001b[39m>\u001b[39m\u001b[39m=\u001b[39m umbral_similitud):\n",
      "File \u001b[1;32mc:\\Users\\Guille\\anaconda3\\envs\\ProyectML\\lib\\site-packages\\sklearn\\utils\\_param_validation.py:211\u001b[0m, in \u001b[0;36mvalidate_params.<locals>.decorator.<locals>.wrapper\u001b[1;34m(*args, **kwargs)\u001b[0m\n\u001b[0;32m    205\u001b[0m \u001b[39mtry\u001b[39;00m:\n\u001b[0;32m    206\u001b[0m     \u001b[39mwith\u001b[39;00m config_context(\n\u001b[0;32m    207\u001b[0m         skip_parameter_validation\u001b[39m=\u001b[39m(\n\u001b[0;32m    208\u001b[0m             prefer_skip_nested_validation \u001b[39mor\u001b[39;00m global_skip_validation\n\u001b[0;32m    209\u001b[0m         )\n\u001b[0;32m    210\u001b[0m     ):\n\u001b[1;32m--> 211\u001b[0m         \u001b[39mreturn\u001b[39;00m func(\u001b[39m*\u001b[39;49margs, \u001b[39m*\u001b[39;49m\u001b[39m*\u001b[39;49mkwargs)\n\u001b[0;32m    212\u001b[0m \u001b[39mexcept\u001b[39;00m InvalidParameterError \u001b[39mas\u001b[39;00m e:\n\u001b[0;32m    213\u001b[0m     \u001b[39m# When the function is just a wrapper around an estimator, we allow\u001b[39;00m\n\u001b[0;32m    214\u001b[0m     \u001b[39m# the function to delegate validation to the estimator, but we replace\u001b[39;00m\n\u001b[0;32m    215\u001b[0m     \u001b[39m# the name of the estimator by the name of the function in the error\u001b[39;00m\n\u001b[0;32m    216\u001b[0m     \u001b[39m# message to avoid confusion.\u001b[39;00m\n\u001b[0;32m    217\u001b[0m     msg \u001b[39m=\u001b[39m re\u001b[39m.\u001b[39msub(\n\u001b[0;32m    218\u001b[0m         \u001b[39mr\u001b[39m\u001b[39m\"\u001b[39m\u001b[39mparameter of \u001b[39m\u001b[39m\\\u001b[39m\u001b[39mw+ must be\u001b[39m\u001b[39m\"\u001b[39m,\n\u001b[0;32m    219\u001b[0m         \u001b[39mf\u001b[39m\u001b[39m\"\u001b[39m\u001b[39mparameter of \u001b[39m\u001b[39m{\u001b[39;00mfunc\u001b[39m.\u001b[39m\u001b[39m__qualname__\u001b[39m\u001b[39m}\u001b[39;00m\u001b[39m must be\u001b[39m\u001b[39m\"\u001b[39m,\n\u001b[0;32m    220\u001b[0m         \u001b[39mstr\u001b[39m(e),\n\u001b[0;32m    221\u001b[0m     )\n",
      "File \u001b[1;32mc:\\Users\\Guille\\anaconda3\\envs\\ProyectML\\lib\\site-packages\\sklearn\\metrics\\pairwise.py:1578\u001b[0m, in \u001b[0;36mcosine_similarity\u001b[1;34m(X, Y, dense_output)\u001b[0m\n\u001b[0;32m   1543\u001b[0m \u001b[39m\u001b[39m\u001b[39m\"\"\"Compute cosine similarity between samples in X and Y.\u001b[39;00m\n\u001b[0;32m   1544\u001b[0m \n\u001b[0;32m   1545\u001b[0m \u001b[39mCosine similarity, or the cosine kernel, computes similarity as the\u001b[39;00m\n\u001b[1;32m   (...)\u001b[0m\n\u001b[0;32m   1574\u001b[0m \u001b[39m    Returns the cosine similarity between samples in X and Y.\u001b[39;00m\n\u001b[0;32m   1575\u001b[0m \u001b[39m\"\"\"\u001b[39;00m\n\u001b[0;32m   1576\u001b[0m \u001b[39m# to avoid recursive import\u001b[39;00m\n\u001b[1;32m-> 1578\u001b[0m X, Y \u001b[39m=\u001b[39m check_pairwise_arrays(X, Y)\n\u001b[0;32m   1580\u001b[0m X_normalized \u001b[39m=\u001b[39m normalize(X, copy\u001b[39m=\u001b[39m\u001b[39mTrue\u001b[39;00m)\n\u001b[0;32m   1581\u001b[0m \u001b[39mif\u001b[39;00m X \u001b[39mis\u001b[39;00m Y:\n",
      "File \u001b[1;32mc:\\Users\\Guille\\anaconda3\\envs\\ProyectML\\lib\\site-packages\\sklearn\\metrics\\pairwise.py:173\u001b[0m, in \u001b[0;36mcheck_pairwise_arrays\u001b[1;34m(X, Y, precomputed, dtype, accept_sparse, force_all_finite, copy)\u001b[0m\n\u001b[0;32m    164\u001b[0m \u001b[39melse\u001b[39;00m:\n\u001b[0;32m    165\u001b[0m     X \u001b[39m=\u001b[39m check_array(\n\u001b[0;32m    166\u001b[0m         X,\n\u001b[0;32m    167\u001b[0m         accept_sparse\u001b[39m=\u001b[39maccept_sparse,\n\u001b[1;32m   (...)\u001b[0m\n\u001b[0;32m    171\u001b[0m         estimator\u001b[39m=\u001b[39mestimator,\n\u001b[0;32m    172\u001b[0m     )\n\u001b[1;32m--> 173\u001b[0m     Y \u001b[39m=\u001b[39m check_array(\n\u001b[0;32m    174\u001b[0m         Y,\n\u001b[0;32m    175\u001b[0m         accept_sparse\u001b[39m=\u001b[39;49maccept_sparse,\n\u001b[0;32m    176\u001b[0m         dtype\u001b[39m=\u001b[39;49mdtype,\n\u001b[0;32m    177\u001b[0m         copy\u001b[39m=\u001b[39;49mcopy,\n\u001b[0;32m    178\u001b[0m         force_all_finite\u001b[39m=\u001b[39;49mforce_all_finite,\n\u001b[0;32m    179\u001b[0m         estimator\u001b[39m=\u001b[39;49mestimator,\n\u001b[0;32m    180\u001b[0m     )\n\u001b[0;32m    182\u001b[0m \u001b[39mif\u001b[39;00m precomputed:\n\u001b[0;32m    183\u001b[0m     \u001b[39mif\u001b[39;00m X\u001b[39m.\u001b[39mshape[\u001b[39m1\u001b[39m] \u001b[39m!=\u001b[39m Y\u001b[39m.\u001b[39mshape[\u001b[39m0\u001b[39m]:\n",
      "File \u001b[1;32mc:\\Users\\Guille\\anaconda3\\envs\\ProyectML\\lib\\site-packages\\sklearn\\utils\\validation.py:938\u001b[0m, in \u001b[0;36mcheck_array\u001b[1;34m(array, accept_sparse, accept_large_sparse, dtype, order, copy, force_all_finite, ensure_2d, allow_nd, ensure_min_samples, ensure_min_features, estimator, input_name)\u001b[0m\n\u001b[0;32m    936\u001b[0m     \u001b[39m# If input is 1D raise error\u001b[39;00m\n\u001b[0;32m    937\u001b[0m     \u001b[39mif\u001b[39;00m array\u001b[39m.\u001b[39mndim \u001b[39m==\u001b[39m \u001b[39m1\u001b[39m:\n\u001b[1;32m--> 938\u001b[0m         \u001b[39mraise\u001b[39;00m \u001b[39mValueError\u001b[39;00m(\n\u001b[0;32m    939\u001b[0m             \u001b[39m\"\u001b[39m\u001b[39mExpected 2D array, got 1D array instead:\u001b[39m\u001b[39m\\n\u001b[39;00m\u001b[39marray=\u001b[39m\u001b[39m{}\u001b[39;00m\u001b[39m.\u001b[39m\u001b[39m\\n\u001b[39;00m\u001b[39m\"\u001b[39m\n\u001b[0;32m    940\u001b[0m             \u001b[39m\"\u001b[39m\u001b[39mReshape your data either using array.reshape(-1, 1) if \u001b[39m\u001b[39m\"\u001b[39m\n\u001b[0;32m    941\u001b[0m             \u001b[39m\"\u001b[39m\u001b[39myour data has a single feature or array.reshape(1, -1) \u001b[39m\u001b[39m\"\u001b[39m\n\u001b[0;32m    942\u001b[0m             \u001b[39m\"\u001b[39m\u001b[39mif it contains a single sample.\u001b[39m\u001b[39m\"\u001b[39m\u001b[39m.\u001b[39mformat(array)\n\u001b[0;32m    943\u001b[0m         )\n\u001b[0;32m    945\u001b[0m \u001b[39mif\u001b[39;00m dtype_numeric \u001b[39mand\u001b[39;00m \u001b[39mhasattr\u001b[39m(array\u001b[39m.\u001b[39mdtype, \u001b[39m\"\u001b[39m\u001b[39mkind\u001b[39m\u001b[39m\"\u001b[39m) \u001b[39mand\u001b[39;00m array\u001b[39m.\u001b[39mdtype\u001b[39m.\u001b[39mkind \u001b[39min\u001b[39;00m \u001b[39m\"\u001b[39m\u001b[39mUSV\u001b[39m\u001b[39m\"\u001b[39m:\n\u001b[0;32m    946\u001b[0m     \u001b[39mraise\u001b[39;00m \u001b[39mValueError\u001b[39;00m(\n\u001b[0;32m    947\u001b[0m         \u001b[39m\"\u001b[39m\u001b[39mdtype=\u001b[39m\u001b[39m'\u001b[39m\u001b[39mnumeric\u001b[39m\u001b[39m'\u001b[39m\u001b[39m is not compatible with arrays of bytes/strings.\u001b[39m\u001b[39m\"\u001b[39m\n\u001b[0;32m    948\u001b[0m         \u001b[39m\"\u001b[39m\u001b[39mConvert your data to numeric values explicitly instead.\u001b[39m\u001b[39m\"\u001b[39m\n\u001b[0;32m    949\u001b[0m     )\n",
      "\u001b[1;31mValueError\u001b[0m: Expected 2D array, got 1D array instead:\narray=[].\nReshape your data either using array.reshape(-1, 1) if your data has a single feature or array.reshape(1, -1) if it contains a single sample."
     ]
    }
   ],
   "source": [
    "df = recom.main('sushi',[44.3069541, -89.8457834])\n",
>>>>>>> 59c822b1b1ccefd9daa16b131ba43ba59500e03b
    "df"
   ]
  }
 ],
 "metadata": {
  "kernelspec": {
   "display_name": "ProyectML",
   "language": "python",
   "name": "python3"
  },
  "language_info": {
   "codemirror_mode": {
    "name": "ipython",
    "version": 3
   },
   "file_extension": ".py",
   "mimetype": "text/x-python",
   "name": "python",
   "nbconvert_exporter": "python",
   "pygments_lexer": "ipython3",
   "version": "3.8.18"
  },
  "orig_nbformat": 4
 },
 "nbformat": 4,
 "nbformat_minor": 2
}
