{
 "cells": [
  {
   "cell_type": "code",
   "execution_count": null,
   "metadata": {},
   "outputs": [],
   "source": [
    "import math"
   ]
  },
  {
   "cell_type": "code",
   "execution_count": null,
   "metadata": {},
   "outputs": [],
   "source": [
    "def calculate_distance(user_location, restaurant_location):\n",
    "    # Extraer las coordenadas de latitud y longitud del usuario y del restaurante\n",
    "    user_lat, user_lon = user_location\n",
    "    restaurant_lat, restaurant_lon = restaurant_location\n",
    "\n",
    "    # Radio de la Tierra en kilómetros\n",
    "    R = 6371.0\n",
    "\n",
    "    # Convertir latitud y longitud de grados a radianes\n",
    "    user_lat = math.radians(user_lat)\n",
    "    user_lon = math.radians(user_lon)\n",
    "    restaurant_lat = math.radians(restaurant_lat)\n",
    "    restaurant_lon = math.radians(restaurant_lon)\n",
    "\n",
    "    # Diferencia en latitud y longitud\n",
    "    dlon = restaurant_lon - user_lon\n",
    "    dlat = restaurant_lat - user_lat\n",
    "\n",
    "    # Fórmula de Haversine para calcular la distancia\n",
    "    a = math.sin(dlat / 2)**2 + math.cos(user_lat) * math.cos(restaurant_lat) * math.sin(dlon / 2)**2\n",
    "    c = 2 * math.atan2(math.sqrt(a), math.sqrt(1 - a))\n",
    "\n",
    "    # Distancia en kilómetros\n",
    "    distance = R * c\n",
    "\n",
    "    return distance"
   ]
  }
 ],
 "metadata": {
  "language_info": {
   "name": "python"
  },
  "orig_nbformat": 4
 },
 "nbformat": 4,
 "nbformat_minor": 2
}
