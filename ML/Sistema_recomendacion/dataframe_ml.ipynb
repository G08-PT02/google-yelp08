{
 "cells": [
  {
   "cell_type": "code",
   "execution_count": 2,
   "metadata": {},
   "outputs": [],
   "source": [
    "from sklearn.metrics.pairwise import cosine_similarity\n",
    "import numpy as np\n",
    "import pandas as pd\n",
    "import spacy"
   ]
  },
  {
   "cell_type": "code",
   "execution_count": 3,
   "metadata": {},
   "outputs": [
    {
     "data": {
      "text/html": [
       "<div>\n",
       "<style scoped>\n",
       "    .dataframe tbody tr th:only-of-type {\n",
       "        vertical-align: middle;\n",
       "    }\n",
       "\n",
       "    .dataframe tbody tr th {\n",
       "        vertical-align: top;\n",
       "    }\n",
       "\n",
       "    .dataframe thead th {\n",
       "        text-align: right;\n",
       "    }\n",
       "</style>\n",
       "<table border=\"1\" class=\"dataframe\">\n",
       "  <thead>\n",
       "    <tr style=\"text-align: right;\">\n",
       "      <th></th>\n",
       "      <th>name</th>\n",
       "      <th>address</th>\n",
       "      <th>description</th>\n",
       "      <th>category</th>\n",
       "      <th>MISC</th>\n",
       "      <th>coord</th>\n",
       "    </tr>\n",
       "  </thead>\n",
       "  <tbody>\n",
       "    <tr>\n",
       "      <th>0</th>\n",
       "      <td>Roux's Roadhouse 73</td>\n",
       "      <td>Roux's Roadhouse 73, 784 WI-73, Nekoosa, WI 54457</td>\n",
       "      <td>None</td>\n",
       "      <td>[Restaurant]</td>\n",
       "      <td>{'Accessibility': ['Wheelchair accessible entr...</td>\n",
       "      <td>[44.3069541, -89.8457834]</td>\n",
       "    </tr>\n",
       "    <tr>\n",
       "      <th>1</th>\n",
       "      <td>Crepes n' Tacos Mexican Grill</td>\n",
       "      <td>Crepes n' Tacos Mexican Grill, suit #5, 5390, ...</td>\n",
       "      <td>None</td>\n",
       "      <td>[Mexican restaurant, Crêperie, Ice cream shop,...</td>\n",
       "      <td>{'Accessibility': None, 'Amenities': ['Good fo...</td>\n",
       "      <td>[36.1646332, -115.0607804]</td>\n",
       "    </tr>\n",
       "    <tr>\n",
       "      <th>2</th>\n",
       "      <td>The Big Eazy</td>\n",
       "      <td>The Big Eazy, 2053 N Doctor M.L.K. Jr Dr, Milw...</td>\n",
       "      <td>None</td>\n",
       "      <td>[Cajun restaurant, Creole restaurant]</td>\n",
       "      <td>{'Accessibility': None, 'Amenities': ['Good fo...</td>\n",
       "      <td>[43.0576581, -87.914643]</td>\n",
       "    </tr>\n",
       "    <tr>\n",
       "      <th>3</th>\n",
       "      <td>Subway</td>\n",
       "      <td>Subway, 250 E Wolf Run, Mukwonago, WI 53149</td>\n",
       "      <td>Casual counter-serve chain for build-your-own ...</td>\n",
       "      <td>[Sandwich shop, Caterer, Fast food restaurant,...</td>\n",
       "      <td>{'Accessibility': None, 'Amenities': None, 'At...</td>\n",
       "      <td>[42.8541679, -88.3142471]</td>\n",
       "    </tr>\n",
       "    <tr>\n",
       "      <th>4</th>\n",
       "      <td>Papa Kelsey's</td>\n",
       "      <td>Papa Kelsey's, 165 E 1400 N, Logan, UT 84341</td>\n",
       "      <td>Chain eatery serving baked subs, classic pizza...</td>\n",
       "      <td>[Pizza restaurant]</td>\n",
       "      <td>{'Accessibility': ['Wheelchair accessible entr...</td>\n",
       "      <td>[41.7580941, -111.8302904]</td>\n",
       "    </tr>\n",
       "  </tbody>\n",
       "</table>\n",
       "</div>"
      ],
      "text/plain": [
       "                            name  \\\n",
       "0            Roux's Roadhouse 73   \n",
       "1  Crepes n' Tacos Mexican Grill   \n",
       "2                   The Big Eazy   \n",
       "3                         Subway   \n",
       "4                  Papa Kelsey's   \n",
       "\n",
       "                                             address  \\\n",
       "0  Roux's Roadhouse 73, 784 WI-73, Nekoosa, WI 54457   \n",
       "1  Crepes n' Tacos Mexican Grill, suit #5, 5390, ...   \n",
       "2  The Big Eazy, 2053 N Doctor M.L.K. Jr Dr, Milw...   \n",
       "3        Subway, 250 E Wolf Run, Mukwonago, WI 53149   \n",
       "4       Papa Kelsey's, 165 E 1400 N, Logan, UT 84341   \n",
       "\n",
       "                                         description  \\\n",
       "0                                               None   \n",
       "1                                               None   \n",
       "2                                               None   \n",
       "3  Casual counter-serve chain for build-your-own ...   \n",
       "4  Chain eatery serving baked subs, classic pizza...   \n",
       "\n",
       "                                            category  \\\n",
       "0                                       [Restaurant]   \n",
       "1  [Mexican restaurant, Crêperie, Ice cream shop,...   \n",
       "2              [Cajun restaurant, Creole restaurant]   \n",
       "3  [Sandwich shop, Caterer, Fast food restaurant,...   \n",
       "4                                 [Pizza restaurant]   \n",
       "\n",
       "                                                MISC  \\\n",
       "0  {'Accessibility': ['Wheelchair accessible entr...   \n",
       "1  {'Accessibility': None, 'Amenities': ['Good fo...   \n",
       "2  {'Accessibility': None, 'Amenities': ['Good fo...   \n",
       "3  {'Accessibility': None, 'Amenities': None, 'At...   \n",
       "4  {'Accessibility': ['Wheelchair accessible entr...   \n",
       "\n",
       "                        coord  \n",
       "0   [44.3069541, -89.8457834]  \n",
       "1  [36.1646332, -115.0607804]  \n",
       "2    [43.0576581, -87.914643]  \n",
       "3   [42.8541679, -88.3142471]  \n",
       "4  [41.7580941, -111.8302904]  "
      ]
     },
     "execution_count": 3,
     "metadata": {},
     "output_type": "execute_result"
    }
   ],
   "source": [
    "df_google = pd.read_parquet('../Datasets_ML/Rest_google.parquet')\n",
    "df_google.head()"
   ]
  },
  {
   "cell_type": "code",
   "execution_count": 4,
   "metadata": {},
   "outputs": [
    {
     "data": {
      "text/plain": [
       "['Mexican restaurant',\n",
       " 'Crêperie',\n",
       " 'Ice cream shop',\n",
       " 'Restaurant',\n",
       " 'Taco restaurant']"
      ]
     },
     "execution_count": 4,
     "metadata": {},
     "output_type": "execute_result"
    }
   ],
   "source": [
    "df_yelp = pd.read_parquet('../Datasets_ML/Rest_google.parquet')\n",
    "df_yelp.head()"
   ]
  },
  {
   "cell_type": "code",
   "execution_count": 6,
   "metadata": {},
   "outputs": [
    {
     "name": "stdout",
     "output_type": "stream",
     "text": [
      "Modelo en_core_web_md cargado exitosamente.\n"
     ]
    }
   ],
   "source": [
    "model_name = \"en_core_web_md\"\n",
    "\n",
    "def load_model(model_name): \n",
    "    try:\n",
    "        nlp = spacy.load(model_name)\n",
    "        print(f\"Modelo {model_name} cargado exitosamente.\")\n",
    "        return nlp\n",
    "    except OSError:\n",
    "        print(f\"El modelo {model_name} no está instalado. Descargando e instalando...\")\n",
    "        spacy.cli.download(model_name)\n",
    "        nlp = spacy.load(model_name)\n",
    "        return nlp\n",
    "    \n",
    "nlp_en = load_model(model_name)"
   ]
  },
  {
   "cell_type": "code",
   "execution_count": 7,
   "metadata": {},
   "outputs": [],
   "source": [
    "def df_embedding(lista):\n",
    "    embeddings_lista = np.array([nlp_en(palabra).vector for palabra in lista])\n",
    "    return embeddings_lista"
   ]
  },
  {
   "cell_type": "code",
   "execution_count": 8,
   "metadata": {},
   "outputs": [],
   "source": [
    "df['embedding'] = df['category'].apply(df_embedding)"
   ]
  },
  {
   "cell_type": "code",
   "execution_count": 9,
   "metadata": {},
   "outputs": [
    {
     "data": {
      "text/html": [
       "<div>\n",
       "<style scoped>\n",
       "    .dataframe tbody tr th:only-of-type {\n",
       "        vertical-align: middle;\n",
       "    }\n",
       "\n",
       "    .dataframe tbody tr th {\n",
       "        vertical-align: top;\n",
       "    }\n",
       "\n",
       "    .dataframe thead th {\n",
       "        text-align: right;\n",
       "    }\n",
       "</style>\n",
       "<table border=\"1\" class=\"dataframe\">\n",
       "  <thead>\n",
       "    <tr style=\"text-align: right;\">\n",
       "      <th></th>\n",
       "      <th>name</th>\n",
       "      <th>address</th>\n",
       "      <th>description</th>\n",
       "      <th>category</th>\n",
       "      <th>MISC</th>\n",
       "      <th>coord</th>\n",
       "      <th>embedding</th>\n",
       "    </tr>\n",
       "  </thead>\n",
       "  <tbody>\n",
       "    <tr>\n",
       "      <th>0</th>\n",
       "      <td>Roux's Roadhouse 73</td>\n",
       "      <td>Roux's Roadhouse 73, 784 WI-73, Nekoosa, WI 54457</td>\n",
       "      <td>None</td>\n",
       "      <td>[Restaurant]</td>\n",
       "      <td>{'Accessibility': ['Wheelchair accessible entr...</td>\n",
       "      <td>[44.3069541, -89.8457834]</td>\n",
       "      <td>[[0.9381, -3.22, -0.5307, 0.067435, 2.8444, -2...</td>\n",
       "    </tr>\n",
       "    <tr>\n",
       "      <th>1</th>\n",
       "      <td>Crepes n' Tacos Mexican Grill</td>\n",
       "      <td>Crepes n' Tacos Mexican Grill, suit #5, 5390, ...</td>\n",
       "      <td>None</td>\n",
       "      <td>[Mexican restaurant, Crêperie, Ice cream shop,...</td>\n",
       "      <td>{'Accessibility': None, 'Amenities': ['Good fo...</td>\n",
       "      <td>[36.1646332, -115.0607804]</td>\n",
       "      <td>[[-1.15987, -0.23539498, -2.703, -0.27396, 4.7...</td>\n",
       "    </tr>\n",
       "    <tr>\n",
       "      <th>2</th>\n",
       "      <td>The Big Eazy</td>\n",
       "      <td>The Big Eazy, 2053 N Doctor M.L.K. Jr Dr, Milw...</td>\n",
       "      <td>None</td>\n",
       "      <td>[Cajun restaurant, Creole restaurant]</td>\n",
       "      <td>{'Accessibility': None, 'Amenities': ['Good fo...</td>\n",
       "      <td>[43.0576581, -87.914643]</td>\n",
       "      <td>[[2.21758, -0.13303998, -2.2864, 0.13169, 3.77...</td>\n",
       "    </tr>\n",
       "    <tr>\n",
       "      <th>3</th>\n",
       "      <td>Subway</td>\n",
       "      <td>Subway, 250 E Wolf Run, Mukwonago, WI 53149</td>\n",
       "      <td>Casual counter-serve chain for build-your-own ...</td>\n",
       "      <td>[Sandwich shop, Caterer, Fast food restaurant,...</td>\n",
       "      <td>{'Accessibility': None, 'Amenities': None, 'At...</td>\n",
       "      <td>[42.8541679, -88.3142471]</td>\n",
       "      <td>[[-0.55714995, -3.5712, -2.2666001, 0.8196, 3....</td>\n",
       "    </tr>\n",
       "    <tr>\n",
       "      <th>4</th>\n",
       "      <td>Papa Kelsey's</td>\n",
       "      <td>Papa Kelsey's, 165 E 1400 N, Logan, UT 84341</td>\n",
       "      <td>Chain eatery serving baked subs, classic pizza...</td>\n",
       "      <td>[Pizza restaurant]</td>\n",
       "      <td>{'Accessibility': ['Wheelchair accessible entr...</td>\n",
       "      <td>[41.7580941, -111.8302904]</td>\n",
       "      <td>[[1.34243, -2.23755, -2.9359999, 0.736055, 3.8...</td>\n",
       "    </tr>\n",
       "  </tbody>\n",
       "</table>\n",
       "</div>"
      ],
      "text/plain": [
       "                            name  \\\n",
       "0            Roux's Roadhouse 73   \n",
       "1  Crepes n' Tacos Mexican Grill   \n",
       "2                   The Big Eazy   \n",
       "3                         Subway   \n",
       "4                  Papa Kelsey's   \n",
       "\n",
       "                                             address  \\\n",
       "0  Roux's Roadhouse 73, 784 WI-73, Nekoosa, WI 54457   \n",
       "1  Crepes n' Tacos Mexican Grill, suit #5, 5390, ...   \n",
       "2  The Big Eazy, 2053 N Doctor M.L.K. Jr Dr, Milw...   \n",
       "3        Subway, 250 E Wolf Run, Mukwonago, WI 53149   \n",
       "4       Papa Kelsey's, 165 E 1400 N, Logan, UT 84341   \n",
       "\n",
       "                                         description  \\\n",
       "0                                               None   \n",
       "1                                               None   \n",
       "2                                               None   \n",
       "3  Casual counter-serve chain for build-your-own ...   \n",
       "4  Chain eatery serving baked subs, classic pizza...   \n",
       "\n",
       "                                            category  \\\n",
       "0                                       [Restaurant]   \n",
       "1  [Mexican restaurant, Crêperie, Ice cream shop,...   \n",
       "2              [Cajun restaurant, Creole restaurant]   \n",
       "3  [Sandwich shop, Caterer, Fast food restaurant,...   \n",
       "4                                 [Pizza restaurant]   \n",
       "\n",
       "                                                MISC  \\\n",
       "0  {'Accessibility': ['Wheelchair accessible entr...   \n",
       "1  {'Accessibility': None, 'Amenities': ['Good fo...   \n",
       "2  {'Accessibility': None, 'Amenities': ['Good fo...   \n",
       "3  {'Accessibility': None, 'Amenities': None, 'At...   \n",
       "4  {'Accessibility': ['Wheelchair accessible entr...   \n",
       "\n",
       "                        coord  \\\n",
       "0   [44.3069541, -89.8457834]   \n",
       "1  [36.1646332, -115.0607804]   \n",
       "2    [43.0576581, -87.914643]   \n",
       "3   [42.8541679, -88.3142471]   \n",
       "4  [41.7580941, -111.8302904]   \n",
       "\n",
       "                                           embedding  \n",
       "0  [[0.9381, -3.22, -0.5307, 0.067435, 2.8444, -2...  \n",
       "1  [[-1.15987, -0.23539498, -2.703, -0.27396, 4.7...  \n",
       "2  [[2.21758, -0.13303998, -2.2864, 0.13169, 3.77...  \n",
       "3  [[-0.55714995, -3.5712, -2.2666001, 0.8196, 3....  \n",
       "4  [[1.34243, -2.23755, -2.9359999, 0.736055, 3.8...  "
      ]
     },
     "execution_count": 9,
     "metadata": {},
     "output_type": "execute_result"
    }
   ],
   "source": [
    "df.head()"
   ]
  },
  {
   "cell_type": "code",
   "execution_count": 15,
   "metadata": {},
   "outputs": [
    {
     "data": {
      "text/plain": [
       "array([ 0.21152003, -2.5843165 , -2.1803665 ,  2.2057333 ,  2.0669    ,\n",
       "       -4.247     ,  4.3139    ,  2.0972664 , -1.6210333 ,  4.3946    ,\n",
       "        4.5265336 , -2.1229799 ,  0.37539992,  3.52261   ,  0.9677666 ,\n",
       "       -2.6029665 ,  1.8266667 ,  0.6990301 ,  1.5033168 , -2.5270002 ,\n",
       "        0.16526671,  1.7728066 , -3.2298336 ,  3.8958466 ,  0.29616   ,\n",
       "        0.60355   , -3.6653335 ,  0.71066666,  1.87105   ,  1.54716   ,\n",
       "        2.7654667 , -0.49175   , -3.0101967 ,  0.79626673,  3.9721    ,\n",
       "       -0.04047998,  1.2039533 , -0.38583338, -0.81308   ,  0.4345    ,\n",
       "       -1.1480666 ,  2.0015233 ,  2.1810968 ,  3.7127101 ,  3.46795   ,\n",
       "        1.9299098 , -0.7253    ,  0.25309992,  2.64031   ,  1.2029699 ,\n",
       "        3.2017002 , -1.3279643 ,  2.4067733 ,  2.0607436 ,  1.9353434 ,\n",
       "       -2.2803333 , -0.08730014,  2.6710002 ,  3.4829333 ,  0.3614333 ,\n",
       "        2.1828668 , -1.66919   ,  0.70056325, -1.1698967 ,  0.6067543 ,\n",
       "       -3.404167  , -6.326     , -2.3063    ,  2.2901514 ,  1.8358173 ,\n",
       "       -5.6454663 ,  0.93699676, -0.44319332,  1.26762   ,  1.9775667 ,\n",
       "        2.8419666 , -0.53096664, -2.5021002 ,  4.7249665 , -0.03177333,\n",
       "       -2.2032335 ,  3.9494932 ,  0.50773335, -2.4832    , -3.1292334 ,\n",
       "        0.7740333 ,  5.088267  , -0.23636667, -4.0143332 , -0.8898533 ,\n",
       "       -1.3620334 ,  0.48929533,  0.15963662,  0.2664833 ,  0.37051   ,\n",
       "        2.6252    ,  4.1593995 , -2.07884   ,  2.78698   , -3.8790333 ,\n",
       "        1.7525    , -3.3878334 ,  4.07865   ,  2.1348333 ,  1.6494666 ,\n",
       "       -3.7848332 , -1.7569    ,  1.9820333 ,  1.8871632 , -1.4323136 ,\n",
       "        0.4073266 ,  1.0123805 ,  1.7021667 ,  1.1028233 ,  1.0815333 ,\n",
       "       -2.1616366 ,  0.00764338, -5.996     ,  3.5439968 , -2.7059333 ,\n",
       "       -2.5065    ,  0.4135767 ,  0.6248333 ,  1.0686333 ,  4.1205735 ,\n",
       "        2.3604333 , -2.0238864 , -3.341463  ,  2.6225967 , -1.3117167 ,\n",
       "        1.0492233 ,  0.33045995,  1.8493334 ,  2.2739334 , -3.713733  ,\n",
       "       -0.5640634 ,  1.0033253 , -3.9444666 , -0.73832685,  0.89461   ,\n",
       "       -1.4507002 ,  1.4461733 , -4.870963  , -2.3903334 ,  1.1909267 ,\n",
       "       -1.41355   , -4.053633  ,  0.7490733 , -0.83043337, -0.7396734 ,\n",
       "       -0.07791337,  2.09961   , -4.1269093 ,  0.26049668, -0.39483333,\n",
       "        1.5928001 ,  3.715913  ,  0.47735   ,  2.4768133 , -2.1645935 ,\n",
       "       -0.282353  ,  0.27370024,  1.5183735 , -1.2696534 , -0.44223332,\n",
       "       -2.0460334 , -1.6438433 , -0.22438335, -0.37823   , -0.66670007,\n",
       "       -1.2248508 , -1.8598866 ,  1.8531733 ,  3.8673334 , -3.5464    ,\n",
       "       -3.0363333 ,  4.4104505 , -0.4912    ,  3.0790002 , -1.70262   ,\n",
       "       -3.7174633 , -2.9440334 , -1.6185001 , -3.3075001 , -3.0249336 ,\n",
       "        0.887006  ,  0.24063337, -2.2349067 , -0.14013998,  0.9381334 ,\n",
       "       -2.1744    , -0.5589066 ,  0.98956674,  2.0936334 , -0.36455336,\n",
       "       -0.00899994,  1.2316234 ,  1.9682001 ,  1.7851667 , -2.5351667 ,\n",
       "        3.0313466 ,  0.46591997, -0.7111933 , -1.0197667 ,  0.92467666,\n",
       "        0.79694   , -2.50992   ,  2.0648668 , -0.13898635,  0.5862665 ,\n",
       "        2.9368665 ,  3.2091334 ,  2.021433  ,  3.9148    ,  1.6205333 ,\n",
       "       -0.7922001 ,  2.6160533 , -0.38863334, -3.0036032 , -2.9745998 ,\n",
       "        0.78087664, -4.0074    , -3.3352735 , -0.83430004, -0.14997332,\n",
       "       -3.579303  ,  1.9939584 ,  5.151467  ,  0.02945566,  2.8812666 ,\n",
       "        0.0975    , -0.16942532,  2.5030334 , -2.0461333 ,  1.42617   ,\n",
       "       -0.41622666,  3.3217192 ,  1.98323   ,  1.2149334 ,  3.4376333 ,\n",
       "       -2.28696   , -1.4384233 ,  0.4141234 , -0.99956673,  0.25269994,\n",
       "        2.1912735 , -0.94179994,  2.6109667 , -5.2331667 , -0.7454667 ,\n",
       "       -3.4271667 , -1.6395668 , -1.5603566 ,  0.25569668, -3.2002    ,\n",
       "       -1.2194    , -2.0953033 , -1.6703666 ,  0.5110466 , -0.66443336,\n",
       "        0.25287667,  1.9760666 , -1.8439168 , -3.7482998 ,  1.6965    ,\n",
       "        0.88869995, -0.0296967 , -1.4991666 , -4.73698   ,  3.3172667 ,\n",
       "        2.3765266 , -3.0711975 , -1.0199033 ,  3.0070667 , -1.2251999 ,\n",
       "       -5.2827034 , -2.00797   ,  5.480167  ,  1.0012699 , -3.5923665 ,\n",
       "       -1.0324668 ,  1.03944   , -3.5986032 , -4.7561336 , -2.6232266 ,\n",
       "       -3.2382336 , -2.2812002 , -0.08194999, -2.2235334 ,  1.3260332 ,\n",
       "       -4.192367  , -2.8808334 ,  0.15174668, -1.2375001 , -4.2489333 ,\n",
       "       -2.35874   ,  1.8452    , -2.3212767 ,  0.1305333 ,  1.3456665 ],\n",
       "      dtype=float32)"
      ]
     },
     "execution_count": 15,
     "metadata": {},
     "output_type": "execute_result"
    }
   ],
   "source": [
    "df['embedding'][1][2]"
   ]
  },
  {
   "cell_type": "code",
   "execution_count": 31,
   "metadata": {},
   "outputs": [],
   "source": [
    "def buscar_palabras_similares(dataframe, columna_embbeding, lista_busqueda, umbral_similitud=0.7):\n",
    "    indices = []\n",
    "\n",
    "    # Calcular embeddings para las palabras de la lista de búsqueda\n",
    "    embeddings_busqueda = np.array([nlp_en(palabra).vector for palabra in lista_busqueda])\n",
    "\n",
    "    for index, embbeding in enumerate(dataframe[columna_embbeding]):\n",
    "        # Calcular la similitud coseno entre los embeddings de las palabras de la lista actual y las de búsqueda\n",
    "        similitudes = cosine_similarity(embbeding, embeddings_busqueda).max(axis=1)\n",
    "        # Si la similitud es mayor que el umbral, agregar el índice\n",
    "        if np.any(similitudes >= umbral_similitud):\n",
    "            indices.append(index)\n",
    "\n",
    "    return indices"
   ]
  },
  {
   "cell_type": "code",
   "execution_count": 32,
   "metadata": {},
   "outputs": [
    {
     "name": "stdout",
     "output_type": "stream",
     "text": [
      "indices [2689, 2053, 136, 22, 1303, 797, 160, 2593, 2338, 2849, 1575, 2599, 2350, 307, 820, 53, 3063, 568, 2490, 2874, 1085, 2621, 2503, 840, 2813, 204, 1101, 206, 2510, 1234, 1490, 2771, 2525, 2788, 743, 744, 1511, 2151, 2663, 2923, 1517, 1645, 1776, 2801, 2034, 115, 1907, 629, 757, 1527, 381]\n"
     ]
    }
   ],
   "source": [
    "# Lista de palabras para buscar\n",
    "palabras_busqueda = ['sushi', 'beer']\n",
    "\n",
    "# Buscar palabras iguales o similares en la columna 'palabras'\n",
    "indices = buscar_palabras_similares(df, 'embedding', palabras_busqueda)\n",
    "\n",
    "print(\"indices\", list(set(indices)))"
   ]
  },
  {
   "cell_type": "code",
   "execution_count": 33,
   "metadata": {},
   "outputs": [
    {
     "data": {
      "text/plain": [
       "51"
      ]
     },
     "execution_count": 33,
     "metadata": {},
     "output_type": "execute_result"
    }
   ],
   "source": [
    "len(indices)"
   ]
  },
  {
   "cell_type": "code",
   "execution_count": 34,
   "metadata": {},
   "outputs": [
    {
     "data": {
      "text/plain": [
       "22      [Sushi restaurant, Asian fusion restaurant, Ja...\n",
       "53                         [Ramen restaurant, Restaurant]\n",
       "115                                    [Sushi restaurant]\n",
       "136     [Sushi restaurant, Japanese restaurant, Restau...\n",
       "160     [Restaurant, Asian fusion restaurant, Japanese...\n",
       "204     [Sushi restaurant, Asian restaurant, Japanese ...\n",
       "206                                    [Sushi restaurant]\n",
       "307               [Japanese restaurant, Ramen restaurant]\n",
       "381     [Restaurant, Japanese restaurant, Sushi restau...\n",
       "568                                    [Sushi restaurant]\n",
       "629                                    [Sushi restaurant]\n",
       "743     [Restaurant, Fast food restaurant, Teppanyaki ...\n",
       "744     [Sukiyaki and Shabu Shabu restaurant, Japanese...\n",
       "757                  [Sushi takeaway, Chinese restaurant]\n",
       "797                        [Sushi restaurant, Restaurant]\n",
       "820     [Japanese restaurant, Asian fusion restaurant,...\n",
       "840                  [Sushi restaurant, Asian restaurant]\n",
       "1085    [Japanese restaurant, Ramen restaurant, Sushi ...\n",
       "1101                                   [Sushi restaurant]\n",
       "1234    [Chinese restaurant, Asian restaurant, Sushi r...\n",
       "1303    [Sushi restaurant, Asian restaurant, Japanese ...\n",
       "1490                       [Ramen restaurant, Donut shop]\n",
       "1511                                   [Sushi restaurant]\n",
       "1517    [Japanese restaurant, Asian restaurant, Bar, R...\n",
       "1527    [Sushi restaurant, Asian restaurant, Chinese r...\n",
       "1575              [Sushi restaurant, Japanese restaurant]\n",
       "1645      [Hawaiian restaurant, Poke bar, Sushi takeaway]\n",
       "1776              [Sushi restaurant, Japanese restaurant]\n",
       "1907    [Asian fusion restaurant, Asian restaurant, Ja...\n",
       "2034    [Hawaiian restaurant, Asian restaurant, Fast f...\n",
       "2053                       [Sushi restaurant, Restaurant]\n",
       "2151    [Japanese restaurant, Asian restaurant, Sushi ...\n",
       "2338                                   [Sushi restaurant]\n",
       "2350                                   [Sushi restaurant]\n",
       "2490    [Restaurant, Asian fusion restaurant, Hawaiian...\n",
       "2503                                   [Sushi restaurant]\n",
       "2510    [Japanese restaurant, Asian restaurant, Sushi ...\n",
       "2525    [Asian restaurant, Hot pot restaurant, Japanes...\n",
       "2593    [Sushi restaurant, Chinese restaurant, Japanes...\n",
       "2599    [Ramen restaurant, Japanese restaurant, Korean...\n",
       "2621    [Asian fusion restaurant, Steak house, Sushi r...\n",
       "2663                                   [Sushi restaurant]\n",
       "2689              [Sushi restaurant, Japanese restaurant]\n",
       "2771    [Japanese restaurant, Bar, Restaurant, Sushi r...\n",
       "2788    [Sushi restaurant, Asian restaurant, Japanese ...\n",
       "2801    [Japanese restaurant, Fast food restaurant, Re...\n",
       "2813    [Japanese restaurant, Asian restaurant, Buffet...\n",
       "2849                                   [Ramen restaurant]\n",
       "2874                                   [Sushi restaurant]\n",
       "2923    [Japanese restaurant, Asian restaurant, Restau...\n",
       "3063                       [Sushi restaurant, Restaurant]\n",
       "Name: category, dtype: object"
      ]
     },
     "execution_count": 34,
     "metadata": {},
     "output_type": "execute_result"
    }
   ],
   "source": [
    "df['category'].loc[indices].head(100)"
   ]
  }
 ],
 "metadata": {
  "kernelspec": {
   "display_name": "ProyectML",
   "language": "python",
   "name": "python3"
  },
  "language_info": {
   "codemirror_mode": {
    "name": "ipython",
    "version": 3
   },
   "file_extension": ".py",
   "mimetype": "text/x-python",
   "name": "python",
   "nbconvert_exporter": "python",
   "pygments_lexer": "ipython3",
   "version": "3.8.18"
  },
  "orig_nbformat": 4
 },
 "nbformat": 4,
 "nbformat_minor": 2
}
