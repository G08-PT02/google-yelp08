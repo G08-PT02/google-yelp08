{
 "cells": [
  {
   "cell_type": "code",
   "execution_count": 2,
   "metadata": {},
   "outputs": [
    {
     "name": "stderr",
     "output_type": "stream",
     "text": [
      "c:\\Users\\guill\\anaconda3\\envs\\ProyectML\\lib\\site-packages\\tqdm\\auto.py:21: TqdmWarning: IProgress not found. Please update jupyter and ipywidgets. See https://ipywidgets.readthedocs.io/en/stable/user_install.html\n",
      "  from .autonotebook import tqdm as notebook_tqdm\n"
     ]
    }
   ],
   "source": [
    "import pandas as pd\n",
    "from keybert import KeyBERT"
   ]
  },
  {
   "cell_type": "code",
   "execution_count": 37,
   "metadata": {},
   "outputs": [],
   "source": [
    "text = \"quiero saber de algun restaurante donde sirvan comida italiana\""
   ]
  },
  {
   "cell_type": "code",
   "execution_count": 39,
   "metadata": {},
   "outputs": [],
   "source": [
    "model = KeyBERT(\"distilbert-base-nli-mean-tokens\")"
   ]
  },
  {
   "cell_type": "code",
   "execution_count": 40,
   "metadata": {},
   "outputs": [],
   "source": [
    "keywords = model.extract_keywords(text)"
   ]
  },
  {
   "cell_type": "code",
   "execution_count": 41,
   "metadata": {},
   "outputs": [
    {
     "name": "stdout",
     "output_type": "stream",
     "text": [
      "Palabras clave:\n",
      "('restaurante', 0.7232)\n",
      "('italiana', 0.4631)\n",
      "('donde', 0.4219)\n",
      "('quiero', 0.4027)\n",
      "('saber', 0.3843)\n"
     ]
    }
   ],
   "source": [
    "print(\"Palabras clave:\")\n",
    "for kw in keywords:\n",
    "    print(kw)"
   ]
  },
  {
   "cell_type": "code",
   "execution_count": 42,
   "metadata": {},
   "outputs": [
    {
     "data": {
      "text/html": [
       "<div>\n",
       "<style scoped>\n",
       "    .dataframe tbody tr th:only-of-type {\n",
       "        vertical-align: middle;\n",
       "    }\n",
       "\n",
       "    .dataframe tbody tr th {\n",
       "        vertical-align: top;\n",
       "    }\n",
       "\n",
       "    .dataframe thead th {\n",
       "        text-align: right;\n",
       "    }\n",
       "</style>\n",
       "<table border=\"1\" class=\"dataframe\">\n",
       "  <thead>\n",
       "    <tr style=\"text-align: right;\">\n",
       "      <th></th>\n",
       "      <th>Unnamed: 0</th>\n",
       "      <th>user_id</th>\n",
       "      <th>name_x</th>\n",
       "      <th>text</th>\n",
       "    </tr>\n",
       "  </thead>\n",
       "  <tbody>\n",
       "    <tr>\n",
       "      <th>0</th>\n",
       "      <td>0</td>\n",
       "      <td>104959831058524862747</td>\n",
       "      <td>Samuel Benson</td>\n",
       "      <td>A pretty seamless experience from top to botto...</td>\n",
       "    </tr>\n",
       "    <tr>\n",
       "      <th>1</th>\n",
       "      <td>1</td>\n",
       "      <td>100925653611153628883</td>\n",
       "      <td>Emily Probst</td>\n",
       "      <td>Great food and great service! Being so close t...</td>\n",
       "    </tr>\n",
       "    <tr>\n",
       "      <th>2</th>\n",
       "      <td>2</td>\n",
       "      <td>100496729305505499660</td>\n",
       "      <td>Brianna Dungan</td>\n",
       "      <td>Pleasant location.</td>\n",
       "    </tr>\n",
       "    <tr>\n",
       "      <th>3</th>\n",
       "      <td>3</td>\n",
       "      <td>115619895645642399701</td>\n",
       "      <td>Aaron Tim</td>\n",
       "      <td>Finally a wingstop in Provo</td>\n",
       "    </tr>\n",
       "    <tr>\n",
       "      <th>4</th>\n",
       "      <td>4</td>\n",
       "      <td>115522360097670804488</td>\n",
       "      <td>Heather Ann Bruin</td>\n",
       "      <td>NaN</td>\n",
       "    </tr>\n",
       "  </tbody>\n",
       "</table>\n",
       "</div>"
      ],
      "text/plain": [
       "   Unnamed: 0                user_id             name_x  \\\n",
       "0           0  104959831058524862747      Samuel Benson   \n",
       "1           1  100925653611153628883       Emily Probst   \n",
       "2           2  100496729305505499660     Brianna Dungan   \n",
       "3           3  115619895645642399701          Aaron Tim   \n",
       "4           4  115522360097670804488  Heather Ann Bruin   \n",
       "\n",
       "                                                text  \n",
       "0  A pretty seamless experience from top to botto...  \n",
       "1  Great food and great service! Being so close t...  \n",
       "2                                 Pleasant location.  \n",
       "3                        Finally a wingstop in Provo  \n",
       "4                                                NaN  "
      ]
     },
     "execution_count": 42,
     "metadata": {},
     "output_type": "execute_result"
    }
   ],
   "source": [
    "rest_google_reviews = pd.read_csv(\"../ML/Google_review_test.csv\",delimiter=\",\")\n",
    "rest_google_reviews.head()"
   ]
  },
  {
   "cell_type": "code",
   "execution_count": 47,
   "metadata": {},
   "outputs": [],
   "source": [
    "keywords = model.extract_keywords(rest_google_reviews['text'][1])"
   ]
  },
  {
   "cell_type": "code",
   "execution_count": 48,
   "metadata": {},
   "outputs": [
    {
     "name": "stdout",
     "output_type": "stream",
     "text": [
      "Palabras clave:\n",
      "('crowded', 0.0415)\n",
      "('food', -0.0056)\n",
      "('quickly', -0.0071)\n",
      "('busy', -0.0306)\n",
      "('amazing', -0.0806)\n"
     ]
    }
   ],
   "source": [
    "print(\"Palabras clave:\")\n",
    "for kw in keywords:\n",
    "    print(kw)"
   ]
  },
  {
   "cell_type": "code",
   "execution_count": 9,
   "metadata": {},
   "outputs": [
    {
     "name": "stdout",
     "output_type": "stream",
     "text": [
      "Palabras clave:\n",
      "restautantes: 0.7476\n",
      "donde: 0.6541\n",
      "lista: 0.6428\n",
      "italiana: 0.6362\n",
      "comida: 0.6296\n"
     ]
    }
   ],
   "source": [
    "def extract_keywords(text):\n",
    "    # Inicializa el modelo KeyBERT\n",
    "    model = KeyBERT('distilbert-base-nli-mean-tokens')\n",
    "\n",
    "    # Extrae palabras clave\n",
    "    keywords = model.extract_keywords(text)\n",
    "\n",
    "    return keywords\n",
    "\n",
    "# Texto de ejemplo\n",
    "texto = \"\"\"\n",
    "    quien una lista de restautantes donde ser sirva comida italiana.\n",
    "\"\"\"\n",
    "\n",
    "# Extraer palabras clave\n",
    "keywords = extract_keywords(texto)\n",
    "\n",
    "# Imprimir las palabras clave\n",
    "print(\"Palabras clave:\")\n",
    "for keyword, score in keywords:\n",
    "    print(f\"{keyword}: {score}\")"
   ]
  }
 ],
 "metadata": {
  "kernelspec": {
   "display_name": "ProyectML",
   "language": "python",
   "name": "python3"
  },
  "language_info": {
   "codemirror_mode": {
    "name": "ipython",
    "version": 3
   },
   "file_extension": ".py",
   "mimetype": "text/x-python",
   "name": "python",
   "nbconvert_exporter": "python",
   "pygments_lexer": "ipython3",
   "version": "3.8.18"
  },
  "orig_nbformat": 4
 },
 "nbformat": 4,
 "nbformat_minor": 2
}
