{
 "cells": [
  {
   "cell_type": "code",
   "execution_count": 24,
   "metadata": {},
   "outputs": [
    {
     "name": "stderr",
     "output_type": "stream",
     "text": [
      "[nltk_data] Downloading package wordnet to\n",
      "[nltk_data]     C:\\Users\\Guille\\AppData\\Roaming\\nltk_data...\n",
      "[nltk_data]   Package wordnet is already up-to-date!\n",
      "[nltk_data] Downloading package omw-1.4 to\n",
      "[nltk_data]     C:\\Users\\Guille\\AppData\\Roaming\\nltk_data...\n",
      "[nltk_data]   Package omw-1.4 is already up-to-date!\n"
     ]
    }
   ],
   "source": [
    "import pandas as pd\n",
    "from keybert import KeyBERT\n",
    "import spacy\n",
    "import nltk\n",
    "from nltk.corpus import wordnet\n",
    "nltk.download('wordnet')\n",
    "nltk.download('omw-1.4')\n",
    "from googletrans import Translator"
   ]
  },
  {
   "cell_type": "markdown",
   "metadata": {},
   "source": [
    "***"
   ]
  },
  {
   "cell_type": "markdown",
   "metadata": {},
   "source": [
    "KEYBERT"
   ]
  },
  {
   "cell_type": "code",
   "execution_count": 37,
   "metadata": {},
   "outputs": [],
   "source": [
    "text = \"Quiero saber de restaurantes donde se sirva comida italiana\""
   ]
  },
  {
   "cell_type": "code",
   "execution_count": 38,
   "metadata": {},
   "outputs": [],
   "source": [
    "model = KeyBERT(\"distilbert-base-nli-mean-tokens\")"
   ]
  },
  {
   "cell_type": "code",
   "execution_count": 39,
   "metadata": {},
   "outputs": [],
   "source": [
    "keywords = model.extract_keywords(text)"
   ]
  },
  {
   "cell_type": "code",
   "execution_count": 40,
   "metadata": {},
   "outputs": [
    {
     "name": "stdout",
     "output_type": "stream",
     "text": [
      "Palabras clave:\n",
      "('restaurantes', 0.7031)\n",
      "('italiana', 0.3941)\n",
      "('donde', 0.3419)\n",
      "('quiero', 0.3245)\n",
      "('saber', 0.3198)\n"
     ]
    }
   ],
   "source": [
    "print(\"Palabras clave:\")\n",
    "for kw in keywords:\n",
    "    print(kw)"
   ]
  },
  {
   "cell_type": "markdown",
   "metadata": {},
   "source": [
    "***"
   ]
  },
  {
   "cell_type": "markdown",
   "metadata": {},
   "source": [
    "SPACY"
   ]
  },
  {
   "cell_type": "code",
   "execution_count": 41,
   "metadata": {},
   "outputs": [],
   "source": [
    "nlp = spacy.load(\"es_core_news_sm\")"
   ]
  },
  {
   "cell_type": "code",
   "execution_count": 47,
   "metadata": {},
   "outputs": [],
   "source": [
    "texto = \"en que restaurante sirven comida china\"\n",
    "doc = nlp(texto)"
   ]
  },
  {
   "cell_type": "code",
   "execution_count": 48,
   "metadata": {},
   "outputs": [
    {
     "name": "stdout",
     "output_type": "stream",
     "text": [
      "en ADP\n",
      "que PRON\n",
      "restaurante NOUN\n",
      "sirven VERB\n",
      "comida NOUN\n",
      "china ADJ\n"
     ]
    }
   ],
   "source": [
    "for token in doc:\n",
    "    print(token.text, token.pos_)"
   ]
  },
  {
   "cell_type": "code",
   "execution_count": 49,
   "metadata": {},
   "outputs": [
    {
     "data": {
      "text/plain": [
       "['restaurante', 'comida', 'china']"
      ]
     },
     "execution_count": 49,
     "metadata": {},
     "output_type": "execute_result"
    }
   ],
   "source": [
    "# Extrae palabras clave (sustantivos y adjetivos)\n",
    "palabras_clave = [token.text for token in doc if token.pos_ in ['NOUN', 'ADJ']]\n",
    "palabras_clave"
   ]
  },
  {
   "cell_type": "code",
   "execution_count": 50,
   "metadata": {},
   "outputs": [],
   "source": [
    "for palabra in palabras_clave:\n",
    "    sinonimos = set()\n",
    "    for syn in wordnet.synsets(palabra, lang='spa'):\n",
    "        for lemma in syn.lemmas('spa'):\n",
    "            sinonimos.add(lemma.name())\n",
    "    sinonimos_por_palabra[palabra] = list(sinonimos)"
   ]
  },
  {
   "cell_type": "code",
   "execution_count": 52,
   "metadata": {},
   "outputs": [
    {
     "name": "stdout",
     "output_type": "stream",
     "text": [
      "Palabra clave: restaurantes\n",
      "Sinónimos: \n",
      "\n",
      "Palabra clave: comida\n",
      "Sinónimos: almuerzo, tiffin, merienda, comida, nutriente, producto_alimenticio, alimentación, nutrición, colación, nutrimento, cena, alimento, sustento, refrigerio, dieta\n",
      "\n",
      "Palabra clave: italiana\n",
      "Sinónimos: \n",
      "\n",
      "Palabra clave: restaurante\n",
      "Sinónimos: restaurante\n",
      "\n",
      "Palabra clave: china\n",
      "Sinónimos: China, canto_rodado, Catay, guijarro, República_Popular_China, China_Continental, china, China_roja, RPC, China_Comunista\n",
      "\n"
     ]
    }
   ],
   "source": [
    "# Imprime las palabras clave y sus sinónimos\n",
    "for palabra, sinonimos in sinonimos_por_palabra.items():\n",
    "    print(f\"Palabra clave: {palabra}\")\n",
    "    print(f\"Sinónimos: {', '.join(sinonimos)}\")\n",
    "    print()"
   ]
  }
 ],
 "metadata": {
  "kernelspec": {
   "display_name": "ProyectML",
   "language": "python",
   "name": "python3"
  },
  "language_info": {
   "codemirror_mode": {
    "name": "ipython",
    "version": 3
   },
   "file_extension": ".py",
   "mimetype": "text/x-python",
   "name": "python",
   "nbconvert_exporter": "python",
   "pygments_lexer": "ipython3",
   "version": "3.8.18"
  },
  "orig_nbformat": 4
 },
 "nbformat": 4,
 "nbformat_minor": 2
}
