{
 "cells": [
  {
   "cell_type": "code",
   "execution_count": 9,
   "metadata": {},
   "outputs": [
    {
     "name": "stderr",
     "output_type": "stream",
     "text": [
      "[nltk_data] Error loading es_core_news_sm: Package 'es_core_news_sm'\n",
      "[nltk_data]     not found in index\n",
      "[nltk_data] Downloading package omw-1.4 to\n",
      "[nltk_data]     C:\\Users\\guill\\AppData\\Roaming\\nltk_data...\n",
      "[nltk_data]   Package omw-1.4 is already up-to-date!\n"
     ]
    },
    {
     "data": {
      "text/plain": [
       "True"
      ]
     },
     "execution_count": 9,
     "metadata": {},
     "output_type": "execute_result"
    }
   ],
   "source": [
    "import pandas as pd\n",
    "from keybert import KeyBERT\n",
    "import spacy\n",
    "import nltk\n",
    "from nltk.corpus import wordnet\n",
    "nltk.download('wordnet')\n",
    "nltk.download('omw-1.4')"
   ]
  },
  {
   "cell_type": "markdown",
   "metadata": {},
   "source": [
    "***"
   ]
  },
  {
   "cell_type": "markdown",
   "metadata": {},
   "source": [
    "KEYBERT"
   ]
  },
  {
   "cell_type": "code",
   "execution_count": 4,
   "metadata": {},
   "outputs": [],
   "source": [
    "text = \"Quiero saber de restaurantes donde se sirva comida italiana\""
   ]
  },
  {
   "cell_type": "code",
   "execution_count": 5,
   "metadata": {},
   "outputs": [],
   "source": [
    "model = KeyBERT(\"distilbert-base-nli-mean-tokens\")"
   ]
  },
  {
   "cell_type": "code",
   "execution_count": 6,
   "metadata": {},
   "outputs": [],
   "source": [
    "keywords = model.extract_keywords(text)"
   ]
  },
  {
   "cell_type": "code",
   "execution_count": 7,
   "metadata": {},
   "outputs": [
    {
     "name": "stdout",
     "output_type": "stream",
     "text": [
      "Palabras clave:\n",
      "('restaurantes', 0.7031)\n",
      "('italiana', 0.3941)\n",
      "('donde', 0.3419)\n",
      "('quiero', 0.3245)\n",
      "('saber', 0.3198)\n"
     ]
    }
   ],
   "source": [
    "print(\"Palabras clave:\")\n",
    "for kw in keywords:\n",
    "    print(kw)"
   ]
  },
  {
   "cell_type": "markdown",
   "metadata": {},
   "source": [
    "***"
   ]
  },
  {
   "cell_type": "markdown",
   "metadata": {},
   "source": [
    "SPACY"
   ]
  },
  {
   "cell_type": "code",
   "execution_count": 11,
   "metadata": {},
   "outputs": [
    {
     "name": "stdout",
     "output_type": "stream",
     "text": [
      "\u001b[38;5;2m✔ Download and installation successful\u001b[0m\n",
      "You can now load the package via spacy.load('es_core_news_sm')\n"
     ]
    }
   ],
   "source": [
    "spacy.cli.download(\"es_core_news_sm\")"
   ]
  },
  {
   "cell_type": "code",
   "execution_count": 12,
   "metadata": {},
   "outputs": [],
   "source": [
    "nlp = spacy.load(\"es_core_news_sm\")"
   ]
  },
  {
   "cell_type": "code",
   "execution_count": 13,
   "metadata": {},
   "outputs": [],
   "source": [
    "texto = \"en que restaurante sirven comida china\"\n",
    "doc = nlp(texto)"
   ]
  },
  {
   "cell_type": "code",
   "execution_count": 14,
   "metadata": {},
   "outputs": [
    {
     "name": "stdout",
     "output_type": "stream",
     "text": [
      "en ADP\n",
      "que PRON\n",
      "restaurante NOUN\n",
      "sirven VERB\n",
      "comida NOUN\n",
      "china ADJ\n"
     ]
    }
   ],
   "source": [
    "for token in doc:\n",
    "    print(token.text, token.pos_)"
   ]
  },
  {
   "cell_type": "code",
   "execution_count": 15,
   "metadata": {},
   "outputs": [
    {
     "data": {
      "text/plain": [
       "['restaurante', 'comida', 'china']"
      ]
     },
     "execution_count": 15,
     "metadata": {},
     "output_type": "execute_result"
    }
   ],
   "source": [
    "# Extrae palabras clave (sustantivos y adjetivos)\n",
    "palabras_clave = [token.text for token in doc if token.pos_ in ['NOUN', 'ADJ']]\n",
    "palabras_clave"
   ]
  },
  {
   "cell_type": "code",
   "execution_count": 16,
   "metadata": {},
   "outputs": [],
   "source": [
    "sinonimos_por_palabra = {}"
   ]
  },
  {
   "cell_type": "code",
   "execution_count": 17,
   "metadata": {},
   "outputs": [],
   "source": [
    "for palabra in palabras_clave:\n",
    "    sinonimos = set()\n",
    "    for syn in wordnet.synsets(palabra, lang='spa'):\n",
    "        for lemma in syn.lemmas('spa'):\n",
    "            sinonimos.add(lemma.name())\n",
    "    sinonimos_por_palabra[palabra] = list(sinonimos)"
   ]
  },
  {
   "cell_type": "code",
   "execution_count": 18,
   "metadata": {},
   "outputs": [
    {
     "name": "stdout",
     "output_type": "stream",
     "text": [
      "Palabra clave: restaurante\n",
      "Sinónimos: restaurante\n",
      "\n",
      "Palabra clave: comida\n",
      "Sinónimos: alimento, cena, colación, producto_alimenticio, merienda, nutrición, refrigerio, dieta, tiffin, nutrimento, almuerzo, nutriente, sustento, comida, alimentación\n",
      "\n",
      "Palabra clave: china\n",
      "Sinónimos: República_Popular_China, China_Continental, canto_rodado, Catay, China, China_Comunista, guijarro, RPC, China_roja, china\n",
      "\n"
     ]
    }
   ],
   "source": [
    "# Imprime las palabras clave y sus sinónimos\n",
    "for palabra, sinonimos in sinonimos_por_palabra.items():\n",
    "    print(f\"Palabra clave: {palabra}\")\n",
    "    print(f\"Sinónimos: {', '.join(sinonimos)}\")\n",
    "    print()"
   ]
  }
 ],
 "metadata": {
  "kernelspec": {
   "display_name": "ProyectML",
   "language": "python",
   "name": "python3"
  },
  "language_info": {
   "codemirror_mode": {
    "name": "ipython",
    "version": 3
   },
   "file_extension": ".py",
   "mimetype": "text/x-python",
   "name": "python",
   "nbconvert_exporter": "python",
   "pygments_lexer": "ipython3",
   "version": "3.8.18"
  },
  "orig_nbformat": 4
 },
 "nbformat": 4,
 "nbformat_minor": 2
}
