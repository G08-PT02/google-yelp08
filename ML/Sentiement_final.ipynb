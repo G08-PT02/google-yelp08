{
 "cells": [
  {
   "cell_type": "code",
   "execution_count": 2,
   "metadata": {},
   "outputs": [],
   "source": [
    "import torch\n",
    "import pandas as pd\n",
    "from transformers import BertTokenizer, BertForSequenceClassification\n",
    "from transformers import pipeline"
   ]
  },
  {
   "cell_type": "code",
   "execution_count": 3,
   "metadata": {},
   "outputs": [
    {
     "name": "stdout",
     "output_type": "stream",
     "text": [
      "CUDA disponible: True\n"
     ]
    }
   ],
   "source": [
    "print(\"CUDA disponible:\", torch.cuda.is_available())"
   ]
  },
  {
   "cell_type": "code",
   "execution_count": 4,
   "metadata": {},
   "outputs": [
    {
     "data": {
      "text/html": [
       "<div>\n",
       "<style scoped>\n",
       "    .dataframe tbody tr th:only-of-type {\n",
       "        vertical-align: middle;\n",
       "    }\n",
       "\n",
       "    .dataframe tbody tr th {\n",
       "        vertical-align: top;\n",
       "    }\n",
       "\n",
       "    .dataframe thead th {\n",
       "        text-align: right;\n",
       "    }\n",
       "</style>\n",
       "<table border=\"1\" class=\"dataframe\">\n",
       "  <thead>\n",
       "    <tr style=\"text-align: right;\">\n",
       "      <th></th>\n",
       "      <th>Unnamed: 0</th>\n",
       "      <th>user_id</th>\n",
       "      <th>name_x</th>\n",
       "      <th>text</th>\n",
       "    </tr>\n",
       "  </thead>\n",
       "  <tbody>\n",
       "    <tr>\n",
       "      <th>0</th>\n",
       "      <td>0</td>\n",
       "      <td>104959831058524862747</td>\n",
       "      <td>Samuel Benson</td>\n",
       "      <td>A pretty seamless experience from top to botto...</td>\n",
       "    </tr>\n",
       "    <tr>\n",
       "      <th>1</th>\n",
       "      <td>1</td>\n",
       "      <td>100925653611153628883</td>\n",
       "      <td>Emily Probst</td>\n",
       "      <td>Great food and great service! Being so close t...</td>\n",
       "    </tr>\n",
       "    <tr>\n",
       "      <th>2</th>\n",
       "      <td>2</td>\n",
       "      <td>100496729305505499660</td>\n",
       "      <td>Brianna Dungan</td>\n",
       "      <td>Pleasant location.</td>\n",
       "    </tr>\n",
       "    <tr>\n",
       "      <th>3</th>\n",
       "      <td>3</td>\n",
       "      <td>115619895645642399701</td>\n",
       "      <td>Aaron Tim</td>\n",
       "      <td>Finally a wingstop in Provo</td>\n",
       "    </tr>\n",
       "    <tr>\n",
       "      <th>4</th>\n",
       "      <td>4</td>\n",
       "      <td>115522360097670804488</td>\n",
       "      <td>Heather Ann Bruin</td>\n",
       "      <td>NaN</td>\n",
       "    </tr>\n",
       "  </tbody>\n",
       "</table>\n",
       "</div>"
      ],
      "text/plain": [
       "   Unnamed: 0                user_id             name_x  \\\n",
       "0           0  104959831058524862747      Samuel Benson   \n",
       "1           1  100925653611153628883       Emily Probst   \n",
       "2           2  100496729305505499660     Brianna Dungan   \n",
       "3           3  115619895645642399701          Aaron Tim   \n",
       "4           4  115522360097670804488  Heather Ann Bruin   \n",
       "\n",
       "                                                text  \n",
       "0  A pretty seamless experience from top to botto...  \n",
       "1  Great food and great service! Being so close t...  \n",
       "2                                 Pleasant location.  \n",
       "3                        Finally a wingstop in Provo  \n",
       "4                                                NaN  "
      ]
     },
     "execution_count": 4,
     "metadata": {},
     "output_type": "execute_result"
    }
   ],
   "source": [
    "rest_google_reviews = pd.read_csv(\"../ML/Google_review_test.csv\",delimiter=\",\")\n",
    "rest_google_reviews.head()"
   ]
  },
  {
   "cell_type": "code",
   "execution_count": 8,
   "metadata": {},
   "outputs": [],
   "source": [
    "# Cargar el modelo preentrenado para análisis de sentimientos\n",
    "model_name = \"nlptown/bert-base-multilingual-uncased-sentiment\"\n",
    "tokenizer = BertTokenizer.from_pretrained(model_name)\n",
    "model = BertForSequenceClassification.from_pretrained(model_name)\n",
    "sentiment_analysis = pipeline('sentiment-analysis', model=model, tokenizer=tokenizer, device=0)\n",
    "\n"
   ]
  },
  {
   "cell_type": "code",
   "execution_count": 35,
   "metadata": {},
   "outputs": [
    {
     "data": {
      "text/plain": [
       "str"
      ]
     },
     "execution_count": 35,
     "metadata": {},
     "output_type": "execute_result"
    }
   ],
   "source": [
    "type(rest_google_reviews['text'][1])"
   ]
  },
  {
   "cell_type": "code",
   "execution_count": 47,
   "metadata": {},
   "outputs": [
    {
     "data": {
      "text/plain": [
       "[{'label': '5 stars', 'score': 0.931877851486206}]"
      ]
     },
     "execution_count": 47,
     "metadata": {},
     "output_type": "execute_result"
    }
   ],
   "source": [
    "result = sentiment_analysis('the best thing that has been seen in my life')\n",
    "result"
   ]
  },
  {
   "cell_type": "code",
   "execution_count": 26,
   "metadata": {},
   "outputs": [],
   "source": [
    "# Definir la función para el análisis de sentimientos\n",
    "def analyze_sentiment(text):\n",
    "    if text:\n",
    "        result = sentiment_analysis(text)\n",
    "        positive_score = result[0]['score'].item()\n",
    "        scaled_score = positive_score * 10\n",
    "        return scaled_score\n",
    "    else:\n",
    "        return None"
   ]
  },
  {
   "cell_type": "code",
   "execution_count": 27,
   "metadata": {},
   "outputs": [
    {
     "ename": "SyntaxError",
     "evalue": "invalid syntax (<string>, line 1)",
     "output_type": "error",
     "traceback": [
      "Traceback \u001b[1;36m(most recent call last)\u001b[0m:\n",
      "\u001b[0m  File \u001b[0;32mc:\\Users\\Guille\\anaconda3\\envs\\ProyectML\\lib\\site-packages\\IPython\\core\\interactiveshell.py:3505\u001b[0m in \u001b[0;35mrun_code\u001b[0m\n    exec(code_obj, self.user_global_ns, self.user_ns)\u001b[0m\n",
      "\u001b[0m  Cell \u001b[0;32mIn[27], line 2\u001b[0m\n    rest_google_reviews['Puntuacion_Sentimiento'] = rest_google_reviews['text'].apply(analyze_sentiment)\u001b[0m\n",
      "\u001b[0m  File \u001b[0;32mc:\\Users\\Guille\\anaconda3\\envs\\ProyectML\\lib\\site-packages\\pandas\\core\\series.py:4630\u001b[0m in \u001b[0;35mapply\u001b[0m\n    return SeriesApply(self, func, convert_dtype, args, kwargs).apply()\u001b[0m\n",
      "\u001b[0m  File \u001b[0;32mc:\\Users\\Guille\\anaconda3\\envs\\ProyectML\\lib\\site-packages\\pandas\\core\\apply.py:1025\u001b[0m in \u001b[0;35mapply\u001b[0m\n    return self.apply_standard()\u001b[0m\n",
      "\u001b[0m  File \u001b[0;32mc:\\Users\\Guille\\anaconda3\\envs\\ProyectML\\lib\\site-packages\\pandas\\core\\apply.py:1076\u001b[0m in \u001b[0;35mapply_standard\u001b[0m\n    mapped = lib.map_infer(\u001b[0m\n",
      "\u001b[0m  File \u001b[0;32mpandas\\_libs\\lib.pyx:2834\u001b[0m in \u001b[0;35mpandas._libs.lib.map_infer\u001b[0m\n",
      "\u001b[1;36m  Cell \u001b[1;32mIn[26], line 4\u001b[1;36m in \u001b[1;35manalyze_sentiment\u001b[1;36m\n\u001b[1;33m    text = eval(text)\u001b[1;36m\n",
      "\u001b[1;36m  File \u001b[1;32m<string>:1\u001b[1;36m\u001b[0m\n\u001b[1;33m    A pretty seamless experience from top to bottom. Ordered and paid online without problem, and they had my order as soon as I showed up. The wings were amazing, actually. The Korean ones are especially tasty. The fried corn was overseasoned. Other than that, no complaints.\u001b[0m\n\u001b[1;37m      ^\u001b[0m\n\u001b[1;31mSyntaxError\u001b[0m\u001b[1;31m:\u001b[0m invalid syntax\n"
     ]
    }
   ],
   "source": [
    "# Aplicar la función al DataFrame y almacenar los resultados en una nueva columna\n",
    "rest_google_reviews['Puntuacion_Sentimiento'] = rest_google_reviews['text'].apply(analyze_sentiment)\n",
    "\n",
    "# Mostrar el DataFrame con las puntuaciones de sentimiento\n",
    "print(rest_google_reviews)"
   ]
  }
 ],
 "metadata": {
  "kernelspec": {
   "display_name": "ProyectML",
   "language": "python",
   "name": "python3"
  },
  "language_info": {
   "codemirror_mode": {
    "name": "ipython",
    "version": 3
   },
   "file_extension": ".py",
   "mimetype": "text/x-python",
   "name": "python",
   "nbconvert_exporter": "python",
   "pygments_lexer": "ipython3",
   "version": "3.8.18"
  },
  "orig_nbformat": 4
 },
 "nbformat": 4,
 "nbformat_minor": 2
}
