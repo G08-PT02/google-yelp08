{
 "cells": [
  {
   "cell_type": "code",
   "execution_count": 2,
   "metadata": {},
   "outputs": [
    {
     "name": "stderr",
     "output_type": "stream",
     "text": [
      "[nltk_data] Downloading package punkt to\n",
      "[nltk_data]     C:\\Users\\guill\\AppData\\Roaming\\nltk_data...\n",
      "[nltk_data]   Unzipping tokenizers\\punkt.zip.\n",
      "[nltk_data] Downloading package stopwords to\n",
      "[nltk_data]     C:\\Users\\guill\\AppData\\Roaming\\nltk_data...\n",
      "[nltk_data]   Unzipping corpora\\stopwords.zip.\n"
     ]
    },
    {
     "data": {
      "text/plain": [
       "True"
      ]
     },
     "execution_count": 2,
     "metadata": {},
     "output_type": "execute_result"
    }
   ],
   "source": [
    "import pandas as pd\n",
    "import numpy as np\n",
    "import nltk\n",
    "from nltk.tokenize import word_tokenize\n",
    "from nltk.corpus import stopwords\n",
    "from sklearn.metrics.pairwise import cosine_similarity\n",
    "import gensim.downloader as api\n",
    "import math\n",
    "\n",
    "\n",
    "nltk.download('punkt')\n",
    "nltk.download('stopwords')"
   ]
  },
  {
   "cell_type": "code",
   "execution_count": 3,
   "metadata": {},
   "outputs": [
    {
     "name": "stdout",
     "output_type": "stream",
     "text": [
      "[==================================================] 100.0% 1662.8/1662.8MB downloaded\n"
     ]
    }
   ],
   "source": [
    "# Cargar un modelo de incrustaciones de palabras pre-entrenado (Word2Vec en este caso)\n",
    "word2vec_model = api.load('word2vec-google-news-300')"
   ]
  },
  {
   "cell_type": "code",
   "execution_count": 8,
   "metadata": {},
   "outputs": [],
   "source": [
    "df = pd.read_parquet('./Datasets/Rest_google.parquet')"
   ]
  },
  {
   "cell_type": "code",
   "execution_count": 4,
   "metadata": {},
   "outputs": [],
   "source": [
    "def preprocess_input(input_text):\n",
    "    # Tokenización y limpieza de texto\n",
    "    tokens = word_tokenize(input_text.lower())\n",
    "    stop_words = set(stopwords.words('english'))\n",
    "    tokens = [word for word in tokens if word.isalnum() and word not in stop_words]\n",
    "    return tokens"
   ]
  },
  {
   "cell_type": "code",
   "execution_count": 5,
   "metadata": {},
   "outputs": [],
   "source": [
    "def recommend_restaurants(input_text, df, word2vec_model, user_location):\n",
    "    input_keywords = preprocess_input(input_text)\n",
    "\n",
    "    # Obtener representaciones vectoriales para las palabras clave\n",
    "    keyword_vectors = [word2vec_model[word] for word in input_keywords if word in word2vec_model.vocab]\n",
    "\n",
    "    # Calcular la media de los vectores de palabras clave\n",
    "    if keyword_vectors:\n",
    "        input_vector = np.mean(keyword_vectors, axis=0)\n",
    "        # Calcular la similitud de coseno entre el input y las categorías de los restaurantes\n",
    "        df['similarity'] = df['categorias'].apply(lambda x: cosine_similarity([input_vector], [np.mean([word2vec_model[word] for word in x if word in word2vec_model.vocab], axis=0)])[0][0])\n",
    "\n",
    "        # Calcular la distancia desde la ubicación del usuario\n",
    "        df['distance'] = df['ubicacion'].apply(lambda x: calculate_distance(user_location, x))\n",
    "\n",
    "        # Ponderar similitud y distancia para obtener una puntuación final\n",
    "        df['score'] = df['similarity'] + 0.5 * (1 - df['distance'])\n",
    "\n",
    "        # Ordenar por puntuación\n",
    "        recommended_restaurants = df.sort_values(by='score', ascending=False).head(5)\n",
    "        return recommended_restaurants[['nombre_restaurante', 'categorias', 'ubicacion']]\n",
    "    else:\n",
    "        return \"No se encontraron palabras clave válidas en el input.\""
   ]
  },
  {
   "cell_type": "code",
   "execution_count": 6,
   "metadata": {},
   "outputs": [],
   "source": [
    "def calculate_distance(user_location, restaurant_location):\n",
    "    # Extraer las coordenadas de latitud y longitud del usuario y del restaurante\n",
    "    user_lat, user_lon = user_location\n",
    "    restaurant_lat, restaurant_lon = restaurant_location\n",
    "\n",
    "    # Radio de la Tierra en kilómetros\n",
    "    R = 6371.0\n",
    "\n",
    "    # Convertir latitud y longitud de grados a radianes\n",
    "    user_lat = math.radians(user_lat)\n",
    "    user_lon = math.radians(user_lon)\n",
    "    restaurant_lat = math.radians(restaurant_lat)\n",
    "    restaurant_lon = math.radians(restaurant_lon)\n",
    "\n",
    "    # Diferencia en latitud y longitud\n",
    "    dlon = restaurant_lon - user_lon\n",
    "    dlat = restaurant_lat - user_lat\n",
    "\n",
    "    # Fórmula de Haversine para calcular la distancia\n",
    "    a = math.sin(dlat / 2)**2 + math.cos(user_lat) * math.cos(restaurant_lat) * math.sin(dlon / 2)**2\n",
    "    c = 2 * math.atan2(math.sqrt(a), math.sqrt(1 - a))\n",
    "\n",
    "    # Distancia en kilómetros\n",
    "    distance = R * c\n",
    "\n",
    "    return distance"
   ]
  },
  {
   "cell_type": "code",
   "execution_count": 10,
   "metadata": {},
   "outputs": [
    {
     "data": {
      "text/plain": [
       "['want', 'eat', 'sushi', 'pasta']"
      ]
     },
     "execution_count": 10,
     "metadata": {},
     "output_type": "execute_result"
    }
   ],
   "source": [
    "# Ejemplo de uso\n",
    "input_text = \"I want to eat sushi and pasta\"\n",
    "preprocess_input(input_text)"
   ]
  }
 ],
 "metadata": {
  "kernelspec": {
   "display_name": "ProyectML",
   "language": "python",
   "name": "python3"
  },
  "language_info": {
   "codemirror_mode": {
    "name": "ipython",
    "version": 3
   },
   "file_extension": ".py",
   "mimetype": "text/x-python",
   "name": "python",
   "nbconvert_exporter": "python",
   "pygments_lexer": "ipython3",
   "version": "3.8.18"
  },
  "orig_nbformat": 4
 },
 "nbformat": 4,
 "nbformat_minor": 2
}
