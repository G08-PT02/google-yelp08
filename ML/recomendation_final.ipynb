{
 "cells": [
  {
   "cell_type": "code",
   "execution_count": 11,
   "metadata": {},
   "outputs": [
    {
     "name": "stderr",
     "output_type": "stream",
     "text": [
      "[nltk_data] Downloading package punkt to\n",
      "[nltk_data]     C:\\Users\\guill\\AppData\\Roaming\\nltk_data...\n",
      "[nltk_data]   Package punkt is already up-to-date!\n",
      "[nltk_data] Downloading package stopwords to\n",
      "[nltk_data]     C:\\Users\\guill\\AppData\\Roaming\\nltk_data...\n",
      "[nltk_data]   Package stopwords is already up-to-date!\n"
     ]
    },
    {
     "data": {
      "text/plain": [
       "True"
      ]
     },
     "execution_count": 11,
     "metadata": {},
     "output_type": "execute_result"
    }
   ],
   "source": [
    "import pandas as pd\n",
    "import numpy as np\n",
    "import nltk\n",
    "from nltk.tokenize import word_tokenize\n",
    "from nltk.corpus import stopwords\n",
    "from sklearn.metrics.pairwise import cosine_similarity\n",
    "import gensim.downloader as api\n",
    "import math\n",
    "nltk.download('punkt')\n",
    "nltk.download('stopwords')"
   ]
  },
  {
   "cell_type": "code",
   "execution_count": 12,
   "metadata": {},
   "outputs": [],
   "source": [
    "# Cargar un modelo de incrustaciones de palabras pre-entrenado (Word2Vec en este caso)\n",
    "word2vec_model = api.load('word2vec-google-news-300')"
   ]
  },
  {
   "cell_type": "code",
   "execution_count": 13,
   "metadata": {},
   "outputs": [],
   "source": [
    "df = pd.read_parquet('./Datasets/Rest_google.parquet')"
   ]
  },
  {
   "cell_type": "code",
   "execution_count": 14,
   "metadata": {},
   "outputs": [],
   "source": [
    "def preprocess_input(input_text):\n",
    "    # Tokenización y limpieza de texto\n",
    "    tokens = word_tokenize(input_text.lower())\n",
    "    stop_words = set(stopwords.words('english'))\n",
    "    tokens = [word for word in tokens if word.isalnum() and word not in stop_words]\n",
    "    return tokens"
   ]
  },
  {
   "cell_type": "code",
   "execution_count": 21,
   "metadata": {},
   "outputs": [],
   "source": [
    "def calculate_distance(user_location, restaurant_location):\n",
    "    # Extraer las coordenadas de latitud y longitud del usuario y del restaurante\n",
    "    user_lat, user_lon = user_location\n",
    "    restaurant_lat, restaurant_lon = restaurant_location\n",
    "\n",
    "    # Radio de la Tierra en kilómetros\n",
    "    R = 6371.0\n",
    "\n",
    "    # Convertir latitud y longitud de grados a radianes\n",
    "    user_lat = math.radians(user_lat)\n",
    "    user_lon = math.radians(user_lon)\n",
    "    restaurant_lat = math.radians(restaurant_lat)\n",
    "    restaurant_lon = math.radians(restaurant_lon)\n",
    "\n",
    "    # Diferencia en latitud y longitud\n",
    "    dlon = restaurant_lon - user_lon\n",
    "    dlat = restaurant_lat - user_lat\n",
    "\n",
    "    # Fórmula de Haversine para calcular la distancia\n",
    "    a = math.sin(dlat / 2)**2 + math.cos(user_lat) * math.cos(restaurant_lat) * math.sin(dlon / 2)**2\n",
    "    c = 2 * math.atan2(math.sqrt(a), math.sqrt(1 - a))\n",
    "\n",
    "    # Distancia en kilómetros\n",
    "    distance = R * c\n",
    "\n",
    "    return distance"
   ]
  },
  {
   "cell_type": "code",
   "execution_count": 22,
   "metadata": {},
   "outputs": [],
   "source": [
    "def recommend_restaurants(input_text, df, word2vec_model, user_location):\n",
    "    input_keywords = preprocess_input(input_text)\n",
    "\n",
    "    # Obtener representaciones vectoriales para las palabras clave\n",
    "    keyword_vectors = [word2vec_model[word] for word in input_keywords if word in word2vec_model.vocab]\n",
    "\n",
    "    # Calcular la media de los vectores de palabras clave\n",
    "    if keyword_vectors:\n",
    "        input_vector = np.mean(keyword_vectors, axis=0)\n",
    "        # Calcular la similitud de coseno entre el input y las categorías de los restaurantes\n",
    "        df['similarity'] = df['category'].apply(lambda x: cosine_similarity([input_vector], [np.mean([word2vec_model[word] for word in x if word in word2vec_model.vocab], axis=0)])[0][0])\n",
    "\n",
    "        # Calcular la distancia desde la ubicación del usuario\n",
    "        df['distance'] = df['coord'].apply(lambda x: calculate_distance(user_location, x))\n",
    "\n",
    "        # Ponderar similitud y distancia para obtener una puntuación final\n",
    "        df['score'] = df['similarity'] + 0.5 * (1 - df['distance'])\n",
    "\n",
    "        # Ordenar por puntuación\n",
    "        recommended_restaurants = df.sort_values(by='score', ascending=False).head(5)\n",
    "        return recommended_restaurants[['nombre_restaurante', 'categorias', 'ubicacion']]\n",
    "    else:\n",
    "        return \"No se encontraron palabras clave válidas en el input.\""
   ]
  },
  {
   "cell_type": "code",
   "execution_count": 23,
   "metadata": {},
   "outputs": [
    {
     "ename": "AttributeError",
     "evalue": "The vocab attribute was removed from KeyedVector in Gensim 4.0.0.\nUse KeyedVector's .key_to_index dict, .index_to_key list, and methods .get_vecattr(key, attr) and .set_vecattr(key, attr, new_val) instead.\nSee https://github.com/RaRe-Technologies/gensim/wiki/Migrating-from-Gensim-3.x-to-4",
     "output_type": "error",
     "traceback": [
      "\u001b[1;31m---------------------------------------------------------------------------\u001b[0m",
      "\u001b[1;31mAttributeError\u001b[0m                            Traceback (most recent call last)",
      "\u001b[1;32mc:\\Repositorios\\repositorio-henry\\google-yelp08\\ML\\recomendation_final.ipynb Cell 7\u001b[0m line \u001b[0;36m4\n\u001b[0;32m      <a href='vscode-notebook-cell:/c%3A/Repositorios/repositorio-henry/google-yelp08/ML/recomendation_final.ipynb#W5sZmlsZQ%3D%3D?line=1'>2</a>\u001b[0m input_text \u001b[39m=\u001b[39m \u001b[39m\"\u001b[39m\u001b[39mI want to eat sushi and pasta\u001b[39m\u001b[39m\"\u001b[39m\n\u001b[0;32m      <a href='vscode-notebook-cell:/c%3A/Repositorios/repositorio-henry/google-yelp08/ML/recomendation_final.ipynb#W5sZmlsZQ%3D%3D?line=2'>3</a>\u001b[0m user_location \u001b[39m=\u001b[39m \u001b[39m'\u001b[39m\u001b[39mUserLocation\u001b[39m\u001b[39m'\u001b[39m  \u001b[39m# Reemplaza con la ubicación real del usuario\u001b[39;00m\n\u001b[1;32m----> <a href='vscode-notebook-cell:/c%3A/Repositorios/repositorio-henry/google-yelp08/ML/recomendation_final.ipynb#W5sZmlsZQ%3D%3D?line=3'>4</a>\u001b[0m recommended_restaurants \u001b[39m=\u001b[39m recommend_restaurants(input_text, df, word2vec_model, (\u001b[39m44.3069541\u001b[39;49m, \u001b[39m-\u001b[39;49m\u001b[39m89.8457834\u001b[39;49m))\n\u001b[0;32m      <a href='vscode-notebook-cell:/c%3A/Repositorios/repositorio-henry/google-yelp08/ML/recomendation_final.ipynb#W5sZmlsZQ%3D%3D?line=4'>5</a>\u001b[0m \u001b[39mprint\u001b[39m(recommended_restaurants)\n",
      "\u001b[1;32mc:\\Repositorios\\repositorio-henry\\google-yelp08\\ML\\recomendation_final.ipynb Cell 7\u001b[0m line \u001b[0;36m5\n\u001b[0;32m      <a href='vscode-notebook-cell:/c%3A/Repositorios/repositorio-henry/google-yelp08/ML/recomendation_final.ipynb#W5sZmlsZQ%3D%3D?line=1'>2</a>\u001b[0m input_keywords \u001b[39m=\u001b[39m preprocess_input(input_text)\n\u001b[0;32m      <a href='vscode-notebook-cell:/c%3A/Repositorios/repositorio-henry/google-yelp08/ML/recomendation_final.ipynb#W5sZmlsZQ%3D%3D?line=3'>4</a>\u001b[0m \u001b[39m# Obtener representaciones vectoriales para las palabras clave\u001b[39;00m\n\u001b[1;32m----> <a href='vscode-notebook-cell:/c%3A/Repositorios/repositorio-henry/google-yelp08/ML/recomendation_final.ipynb#W5sZmlsZQ%3D%3D?line=4'>5</a>\u001b[0m keyword_vectors \u001b[39m=\u001b[39m [word2vec_model[word] \u001b[39mfor\u001b[39;00m word \u001b[39min\u001b[39;00m input_keywords \u001b[39mif\u001b[39;00m word \u001b[39min\u001b[39;00m word2vec_model\u001b[39m.\u001b[39mvocab]\n\u001b[0;32m      <a href='vscode-notebook-cell:/c%3A/Repositorios/repositorio-henry/google-yelp08/ML/recomendation_final.ipynb#W5sZmlsZQ%3D%3D?line=6'>7</a>\u001b[0m \u001b[39m# Calcular la media de los vectores de palabras clave\u001b[39;00m\n\u001b[0;32m      <a href='vscode-notebook-cell:/c%3A/Repositorios/repositorio-henry/google-yelp08/ML/recomendation_final.ipynb#W5sZmlsZQ%3D%3D?line=7'>8</a>\u001b[0m \u001b[39mif\u001b[39;00m keyword_vectors:\n",
      "\u001b[1;32mc:\\Repositorios\\repositorio-henry\\google-yelp08\\ML\\recomendation_final.ipynb Cell 7\u001b[0m line \u001b[0;36m5\n\u001b[0;32m      <a href='vscode-notebook-cell:/c%3A/Repositorios/repositorio-henry/google-yelp08/ML/recomendation_final.ipynb#W5sZmlsZQ%3D%3D?line=1'>2</a>\u001b[0m input_keywords \u001b[39m=\u001b[39m preprocess_input(input_text)\n\u001b[0;32m      <a href='vscode-notebook-cell:/c%3A/Repositorios/repositorio-henry/google-yelp08/ML/recomendation_final.ipynb#W5sZmlsZQ%3D%3D?line=3'>4</a>\u001b[0m \u001b[39m# Obtener representaciones vectoriales para las palabras clave\u001b[39;00m\n\u001b[1;32m----> <a href='vscode-notebook-cell:/c%3A/Repositorios/repositorio-henry/google-yelp08/ML/recomendation_final.ipynb#W5sZmlsZQ%3D%3D?line=4'>5</a>\u001b[0m keyword_vectors \u001b[39m=\u001b[39m [word2vec_model[word] \u001b[39mfor\u001b[39;00m word \u001b[39min\u001b[39;00m input_keywords \u001b[39mif\u001b[39;00m word \u001b[39min\u001b[39;00m word2vec_model\u001b[39m.\u001b[39;49mvocab]\n\u001b[0;32m      <a href='vscode-notebook-cell:/c%3A/Repositorios/repositorio-henry/google-yelp08/ML/recomendation_final.ipynb#W5sZmlsZQ%3D%3D?line=6'>7</a>\u001b[0m \u001b[39m# Calcular la media de los vectores de palabras clave\u001b[39;00m\n\u001b[0;32m      <a href='vscode-notebook-cell:/c%3A/Repositorios/repositorio-henry/google-yelp08/ML/recomendation_final.ipynb#W5sZmlsZQ%3D%3D?line=7'>8</a>\u001b[0m \u001b[39mif\u001b[39;00m keyword_vectors:\n",
      "File \u001b[1;32mc:\\Users\\guill\\anaconda3\\envs\\ProyectML\\lib\\site-packages\\gensim\\models\\keyedvectors.py:734\u001b[0m, in \u001b[0;36mKeyedVectors.vocab\u001b[1;34m(self)\u001b[0m\n\u001b[0;32m    732\u001b[0m \u001b[39m@property\u001b[39m\n\u001b[0;32m    733\u001b[0m \u001b[39mdef\u001b[39;00m \u001b[39mvocab\u001b[39m(\u001b[39mself\u001b[39m):\n\u001b[1;32m--> 734\u001b[0m     \u001b[39mraise\u001b[39;00m \u001b[39mAttributeError\u001b[39;00m(\n\u001b[0;32m    735\u001b[0m         \u001b[39m\"\u001b[39m\u001b[39mThe vocab attribute was removed from KeyedVector in Gensim 4.0.0.\u001b[39m\u001b[39m\\n\u001b[39;00m\u001b[39m\"\u001b[39m\n\u001b[0;32m    736\u001b[0m         \u001b[39m\"\u001b[39m\u001b[39mUse KeyedVector\u001b[39m\u001b[39m'\u001b[39m\u001b[39ms .key_to_index dict, .index_to_key list, and methods \u001b[39m\u001b[39m\"\u001b[39m\n\u001b[0;32m    737\u001b[0m         \u001b[39m\"\u001b[39m\u001b[39m.get_vecattr(key, attr) and .set_vecattr(key, attr, new_val) instead.\u001b[39m\u001b[39m\\n\u001b[39;00m\u001b[39m\"\u001b[39m\n\u001b[0;32m    738\u001b[0m         \u001b[39m\"\u001b[39m\u001b[39mSee https://github.com/RaRe-Technologies/gensim/wiki/Migrating-from-Gensim-3.x-to-4\u001b[39m\u001b[39m\"\u001b[39m\n\u001b[0;32m    739\u001b[0m     )\n",
      "\u001b[1;31mAttributeError\u001b[0m: The vocab attribute was removed from KeyedVector in Gensim 4.0.0.\nUse KeyedVector's .key_to_index dict, .index_to_key list, and methods .get_vecattr(key, attr) and .set_vecattr(key, attr, new_val) instead.\nSee https://github.com/RaRe-Technologies/gensim/wiki/Migrating-from-Gensim-3.x-to-4"
     ]
    }
   ],
   "source": [
    "input_text = \"I want to eat sushi and pasta\"\n",
    "user_location = 'UserLocation'  # Reemplaza con la ubicación real del usuario\n",
    "recommended_restaurants = recommend_restaurants(input_text, df, word2vec_model, (44.3069541, -89.8457834))\n",
    "print(recommended_restaurants)"
   ]
  },
  {
   "cell_type": "code",
   "execution_count": null,
   "metadata": {},
   "outputs": [],
   "source": []
  }
 ],
 "metadata": {
  "kernelspec": {
   "display_name": "ProyectML",
   "language": "python",
   "name": "python3"
  },
  "language_info": {
   "codemirror_mode": {
    "name": "ipython",
    "version": 3
   },
   "file_extension": ".py",
   "mimetype": "text/x-python",
   "name": "python",
   "nbconvert_exporter": "python",
   "pygments_lexer": "ipython3",
   "version": "3.8.18"
  },
  "orig_nbformat": 4
 },
 "nbformat": 4,
 "nbformat_minor": 2
}
