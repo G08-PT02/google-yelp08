{
 "cells": [
  {
   "cell_type": "code",
   "execution_count": null,
   "metadata": {},
   "outputs": [],
   "source": [
    "#pip install pickle-mixin\n",
    "#pip install fuzzywuzzy\n",
    "#pip install pyarrow"
   ]
  },
  {
   "cell_type": "code",
   "execution_count": 1,
   "metadata": {},
   "outputs": [
    {
     "name": "stderr",
     "output_type": "stream",
     "text": [
      "/Library/Frameworks/Python.framework/Versions/3.8/lib/python3.8/site-packages/fuzzywuzzy/fuzz.py:11: UserWarning: Using slow pure-python SequenceMatcher. Install python-Levenshtein to remove this warning\n",
      "  warnings.warn('Using slow pure-python SequenceMatcher. Install python-Levenshtein to remove this warning')\n"
     ]
    }
   ],
   "source": [
    "import pandas as pd\n",
    "import os\n",
    "import pickle\n",
    "import json\n",
    "from fuzzywuzzy import fuzz"
   ]
  },
  {
   "cell_type": "markdown",
   "metadata": {},
   "source": [
    "Business: Contiene información del comercio, incluyendo localización, atributos y categorías.\n"
   ]
  },
  {
   "cell_type": "code",
   "execution_count": 7,
   "metadata": {},
   "outputs": [],
   "source": [
    "# Ruta al archivo .pkl que deseas abrir\n",
    "ruta_archivo_pkl = '../PROYECTO_FINAL_EQUIPO/Yelp/business.pkl'\n",
    "\n",
    "# Abrir el archivo .pkl en modo lectura binaria\n",
    "with open(ruta_archivo_pkl, 'rb') as archivo_pkl:\n",
    "    # Cargar el objeto desde el archivo .pkl\n",
    "    business_Yelp = pickle.load(archivo_pkl)\n"
   ]
  },
  {
   "cell_type": "code",
   "execution_count": 8,
   "metadata": {},
   "outputs": [
    {
     "data": {
      "text/plain": [
       "(150346, 28)"
      ]
     },
     "execution_count": 8,
     "metadata": {},
     "output_type": "execute_result"
    }
   ],
   "source": [
    "business_Yelp.shape"
   ]
  },
  {
   "cell_type": "code",
   "execution_count": 9,
   "metadata": {},
   "outputs": [
    {
     "name": "stdout",
     "output_type": "stream",
     "text": [
      "<class 'pandas.core.frame.DataFrame'>\n",
      "Int64Index: 150346 entries, 0 to 150345\n",
      "Data columns (total 28 columns):\n",
      " #   Column        Non-Null Count   Dtype \n",
      "---  ------        --------------   ----- \n",
      " 0   business_id   150346 non-null  object\n",
      " 1   name          150346 non-null  object\n",
      " 2   address       150346 non-null  object\n",
      " 3   city          150346 non-null  object\n",
      " 4   state         150343 non-null  object\n",
      " 5   postal_code   150346 non-null  object\n",
      " 6   latitude      150346 non-null  object\n",
      " 7   longitude     150346 non-null  object\n",
      " 8   stars         150346 non-null  object\n",
      " 9   review_count  150346 non-null  object\n",
      " 10  is_open       150346 non-null  object\n",
      " 11  attributes    136602 non-null  object\n",
      " 12  categories    150243 non-null  object\n",
      " 13  hours         127123 non-null  object\n",
      " 14  business_id   5 non-null       object\n",
      " 15  name          5 non-null       object\n",
      " 16  address       5 non-null       object\n",
      " 17  city          5 non-null       object\n",
      " 18  state         5 non-null       object\n",
      " 19  postal_code   5 non-null       object\n",
      " 20  latitude      5 non-null       object\n",
      " 21  longitude     5 non-null       object\n",
      " 22  stars         5 non-null       object\n",
      " 23  review_count  5 non-null       object\n",
      " 24  is_open       5 non-null       object\n",
      " 25  attributes    5 non-null       object\n",
      " 26  categories    5 non-null       object\n",
      " 27  hours         5 non-null       object\n",
      "dtypes: object(28)\n",
      "memory usage: 33.3+ MB\n"
     ]
    }
   ],
   "source": [
    "business_Yelp.info()"
   ]
  },
  {
   "cell_type": "code",
   "execution_count": 10,
   "metadata": {},
   "outputs": [],
   "source": [
    "#Eliminando Columnas Duplicadas\n",
    "business_Yelp = business_Yelp.loc[:, ~business_Yelp.columns.duplicated()]\n"
   ]
  },
  {
   "cell_type": "code",
   "execution_count": 11,
   "metadata": {},
   "outputs": [
    {
     "data": {
      "text/html": [
       "<div>\n",
       "<style scoped>\n",
       "    .dataframe tbody tr th:only-of-type {\n",
       "        vertical-align: middle;\n",
       "    }\n",
       "\n",
       "    .dataframe tbody tr th {\n",
       "        vertical-align: top;\n",
       "    }\n",
       "\n",
       "    .dataframe thead th {\n",
       "        text-align: right;\n",
       "    }\n",
       "</style>\n",
       "<table border=\"1\" class=\"dataframe\">\n",
       "  <thead>\n",
       "    <tr style=\"text-align: right;\">\n",
       "      <th></th>\n",
       "      <th>business_id</th>\n",
       "      <th>name</th>\n",
       "      <th>address</th>\n",
       "      <th>city</th>\n",
       "      <th>state</th>\n",
       "      <th>postal_code</th>\n",
       "      <th>latitude</th>\n",
       "      <th>longitude</th>\n",
       "      <th>stars</th>\n",
       "      <th>review_count</th>\n",
       "      <th>is_open</th>\n",
       "      <th>attributes</th>\n",
       "      <th>categories</th>\n",
       "      <th>hours</th>\n",
       "    </tr>\n",
       "  </thead>\n",
       "  <tbody>\n",
       "    <tr>\n",
       "      <th>79178</th>\n",
       "      <td>Lpm7-UfV8NUp0GzSIvaULw</td>\n",
       "      <td>Haddonview Apartments</td>\n",
       "      <td>1 MacArthur Blvd</td>\n",
       "      <td>Haddon Township</td>\n",
       "      <td>LA</td>\n",
       "      <td>08108</td>\n",
       "      <td>39.902584</td>\n",
       "      <td>-75.060111</td>\n",
       "      <td>3.0</td>\n",
       "      <td>5</td>\n",
       "      <td>1</td>\n",
       "      <td>None</td>\n",
       "      <td>Home Services, Real Estate, Apartments</td>\n",
       "      <td>{'Monday': '9:0-18:0', 'Tuesday': '9:0-18:0', ...</td>\n",
       "    </tr>\n",
       "    <tr>\n",
       "      <th>136359</th>\n",
       "      <td>u666lzKv1PoWnr2GS_hWbw</td>\n",
       "      <td>Marc’s Moving Services</td>\n",
       "      <td>7901 W White Water</td>\n",
       "      <td>Tampa</td>\n",
       "      <td>CA</td>\n",
       "      <td>33637</td>\n",
       "      <td>28.019117</td>\n",
       "      <td>-82.366249</td>\n",
       "      <td>4.5</td>\n",
       "      <td>5</td>\n",
       "      <td>0</td>\n",
       "      <td>{'BusinessAcceptsCreditCards': 'True', 'ByAppo...</td>\n",
       "      <td>Couriers &amp; Delivery Services, Movers, Home Ser...</td>\n",
       "      <td>{'Monday': '6:0-18:0', 'Tuesday': '6:0-18:0', ...</td>\n",
       "    </tr>\n",
       "  </tbody>\n",
       "</table>\n",
       "</div>"
      ],
      "text/plain": [
       "                   business_id                    name             address  \\\n",
       "79178   Lpm7-UfV8NUp0GzSIvaULw   Haddonview Apartments    1 MacArthur Blvd   \n",
       "136359  u666lzKv1PoWnr2GS_hWbw  Marc’s Moving Services  7901 W White Water   \n",
       "\n",
       "                   city state postal_code   latitude  longitude stars  \\\n",
       "79178   Haddon Township    LA       08108  39.902584 -75.060111   3.0   \n",
       "136359            Tampa    CA       33637  28.019117 -82.366249   4.5   \n",
       "\n",
       "       review_count is_open  \\\n",
       "79178             5       1   \n",
       "136359            5       0   \n",
       "\n",
       "                                               attributes  \\\n",
       "79178                                                None   \n",
       "136359  {'BusinessAcceptsCreditCards': 'True', 'ByAppo...   \n",
       "\n",
       "                                               categories  \\\n",
       "79178              Home Services, Real Estate, Apartments   \n",
       "136359  Couriers & Delivery Services, Movers, Home Ser...   \n",
       "\n",
       "                                                    hours  \n",
       "79178   {'Monday': '9:0-18:0', 'Tuesday': '9:0-18:0', ...  \n",
       "136359  {'Monday': '6:0-18:0', 'Tuesday': '6:0-18:0', ...  "
      ]
     },
     "execution_count": 11,
     "metadata": {},
     "output_type": "execute_result"
    }
   ],
   "source": [
    "business_Yelp.sample(2)"
   ]
  },
  {
   "cell_type": "markdown",
   "metadata": {},
   "source": [
    "Dejar solo los negocios que sean del tipo Restaurantes."
   ]
  },
  {
   "cell_type": "code",
   "execution_count": 12,
   "metadata": {},
   "outputs": [],
   "source": [
    "#Generar una lista de categorías únicas:\n",
    "\n",
    "# Rellena los valores nulos con una cadena vacía\n",
    "business_Yelp['categories'].fillna('', inplace=True)\n",
    "\n",
    "# Dividir la columna \"categories\" en listas de categorías\n",
    "categories_lists = business_Yelp['categories'].str.split(', ')\n",
    "\n",
    "# Unir todas las listas en una única lista\n",
    "all_categories = [category for categories_list in categories_lists for category in categories_list]\n",
    "\n",
    "# Convertir el conjunto de nuevo en una lista si es necesario\n",
    "unique_categories = set(all_categories)\n",
    "unique_categories_list = list(unique_categories)"
   ]
  },
  {
   "cell_type": "code",
   "execution_count": 18,
   "metadata": {},
   "outputs": [],
   "source": [
    "#Con las categorías únicas y nuestra palabra clave, obtendremos similitud de categorías\n",
    "#Para asegurar seleccionar todos los restaurantes\n",
    "keyword = \"restaurant\"\n",
    "\n",
    "# Función para calcular la similitud entre la palabra clave y cada categoría\n",
    "def calcular_similitud(categoria, keyword):\n",
    "    return fuzz.ratio(keyword, categoria)\n",
    "\n",
    "# Calcular la similitud para cada categoría en la lista\n",
    "similitudes = [(categoria, calcular_similitud(categoria, keyword)) for categoria in unique_categories_list]\n",
    "\n",
    "# Filtrar categorías que tienen una similitud mayor que un umbral (por ejemplo, 70)\n",
    "umbral_similitud = 63  # Puedes ajustar este valor según tus necesidades\n",
    "categorias_similares = [categoria for categoria, similitud in similitudes if similitud >= umbral_similitud]"
   ]
  },
  {
   "cell_type": "code",
   "execution_count": 19,
   "metadata": {},
   "outputs": [
    {
     "data": {
      "text/plain": [
       "['Restaurants', 'Pop-Up Restaurants']"
      ]
     },
     "execution_count": 19,
     "metadata": {},
     "output_type": "execute_result"
    }
   ],
   "source": [
    "categorias_similares"
   ]
  },
  {
   "cell_type": "code",
   "execution_count": 20,
   "metadata": {},
   "outputs": [],
   "source": [
    "df_business_Yelp = business_Yelp\n",
    "# Primero, dividimos los valores de 'categories' en listas de strings\n",
    "df_business_Yelp['categories'] = df_business_Yelp['categories'].str.split(',')\n",
    "\n",
    "df_business_Yelp = df_business_Yelp.dropna(subset=['categories'])\n",
    "\n",
    "#Filtrar por categoría \"Restaurantes\"\n",
    "df_business_Yelp = df_business_Yelp[df_business_Yelp['categories'].apply(lambda categories: 'Restaurants' in categories or 'Pop-Up Restaurants' in categories)]\n",
    "\n",
    "# Unir los valores de la lista en categorías en un solo string separado por comas\n",
    "df_business_Yelp['categories'] = df_business_Yelp['categories'].apply(lambda x: ','.join(x))\n",
    "\n",
    "# Recetar el Indice\n",
    "df_business_Yelp.reset_index(inplace=True, drop=True)"
   ]
  },
  {
   "cell_type": "code",
   "execution_count": 21,
   "metadata": {},
   "outputs": [
    {
     "data": {
      "text/plain": [
       "(15305, 14)"
      ]
     },
     "execution_count": 21,
     "metadata": {},
     "output_type": "execute_result"
    }
   ],
   "source": [
    "df_business_Yelp.shape"
   ]
  },
  {
   "cell_type": "code",
   "execution_count": 22,
   "metadata": {},
   "outputs": [
    {
     "data": {
      "text/html": [
       "<div>\n",
       "<style scoped>\n",
       "    .dataframe tbody tr th:only-of-type {\n",
       "        vertical-align: middle;\n",
       "    }\n",
       "\n",
       "    .dataframe tbody tr th {\n",
       "        vertical-align: top;\n",
       "    }\n",
       "\n",
       "    .dataframe thead th {\n",
       "        text-align: right;\n",
       "    }\n",
       "</style>\n",
       "<table border=\"1\" class=\"dataframe\">\n",
       "  <thead>\n",
       "    <tr style=\"text-align: right;\">\n",
       "      <th></th>\n",
       "      <th>business_id</th>\n",
       "      <th>name</th>\n",
       "      <th>address</th>\n",
       "      <th>city</th>\n",
       "      <th>state</th>\n",
       "      <th>postal_code</th>\n",
       "      <th>latitude</th>\n",
       "      <th>longitude</th>\n",
       "      <th>stars</th>\n",
       "      <th>review_count</th>\n",
       "      <th>is_open</th>\n",
       "      <th>attributes</th>\n",
       "      <th>categories</th>\n",
       "      <th>hours</th>\n",
       "    </tr>\n",
       "  </thead>\n",
       "  <tbody>\n",
       "    <tr>\n",
       "      <th>0</th>\n",
       "      <td>MTSW4McQd7CbVtyjqoe9mw</td>\n",
       "      <td>St Honore Pastries</td>\n",
       "      <td>935 Race St</td>\n",
       "      <td>Philadelphia</td>\n",
       "      <td>CA</td>\n",
       "      <td>19107</td>\n",
       "      <td>39.955505</td>\n",
       "      <td>-75.155564</td>\n",
       "      <td>4.0</td>\n",
       "      <td>80</td>\n",
       "      <td>1</td>\n",
       "      <td>{'RestaurantsDelivery': 'False', 'OutdoorSeati...</td>\n",
       "      <td>Restaurants, Food, Bubble Tea, Coffee &amp; Tea, B...</td>\n",
       "      <td>{'Monday': '7:0-20:0', 'Tuesday': '7:0-20:0', ...</td>\n",
       "    </tr>\n",
       "    <tr>\n",
       "      <th>1</th>\n",
       "      <td>9OG5YkX1g2GReZM0AskizA</td>\n",
       "      <td>Romano's Macaroni Grill</td>\n",
       "      <td>5505 S Virginia St</td>\n",
       "      <td>Reno</td>\n",
       "      <td>AB</td>\n",
       "      <td>89502</td>\n",
       "      <td>39.476117</td>\n",
       "      <td>-119.789339</td>\n",
       "      <td>2.5</td>\n",
       "      <td>339</td>\n",
       "      <td>1</td>\n",
       "      <td>{'RestaurantsGoodForGroups': 'True', 'Restaura...</td>\n",
       "      <td>Restaurants, Italian</td>\n",
       "      <td>{'Monday': '11:0-22:0', 'Tuesday': '11:0-22:0'...</td>\n",
       "    </tr>\n",
       "  </tbody>\n",
       "</table>\n",
       "</div>"
      ],
      "text/plain": [
       "              business_id                     name             address  \\\n",
       "0  MTSW4McQd7CbVtyjqoe9mw       St Honore Pastries         935 Race St   \n",
       "1  9OG5YkX1g2GReZM0AskizA  Romano's Macaroni Grill  5505 S Virginia St   \n",
       "\n",
       "           city state postal_code   latitude   longitude stars review_count  \\\n",
       "0  Philadelphia    CA       19107  39.955505  -75.155564   4.0           80   \n",
       "1          Reno    AB       89502  39.476117 -119.789339   2.5          339   \n",
       "\n",
       "  is_open                                         attributes  \\\n",
       "0       1  {'RestaurantsDelivery': 'False', 'OutdoorSeati...   \n",
       "1       1  {'RestaurantsGoodForGroups': 'True', 'Restaura...   \n",
       "\n",
       "                                          categories  \\\n",
       "0  Restaurants, Food, Bubble Tea, Coffee & Tea, B...   \n",
       "1                               Restaurants, Italian   \n",
       "\n",
       "                                               hours  \n",
       "0  {'Monday': '7:0-20:0', 'Tuesday': '7:0-20:0', ...  \n",
       "1  {'Monday': '11:0-22:0', 'Tuesday': '11:0-22:0'...  "
      ]
     },
     "execution_count": 22,
     "metadata": {},
     "output_type": "execute_result"
    }
   ],
   "source": [
    "df_business_Yelp.head(2)"
   ]
  },
  {
   "cell_type": "code",
   "execution_count": 24,
   "metadata": {},
   "outputs": [
    {
     "data": {
      "text/plain": [
       "0"
      ]
     },
     "execution_count": 24,
     "metadata": {},
     "output_type": "execute_result"
    }
   ],
   "source": [
    "#Aunque no hay duplicados, debemos quedarnos con los restaurantes que tengamos reseñas.\n",
    "df_business_Yelp['business_id'].duplicated().sum()"
   ]
  },
  {
   "cell_type": "markdown",
   "metadata": {},
   "source": [
    "## DataSet Review"
   ]
  },
  {
   "cell_type": "code",
   "execution_count": 25,
   "metadata": {},
   "outputs": [],
   "source": [
    "# Ruta de la carpeta de datos de Google Maps\n",
    "yelp_folder = '/Users/alejandrobenjaminnunezguzman/Desktop/PROYECTO_FINAL_EQUIPO/Yelp'\n",
    "\n",
    "# Ruta de la sub-carpeta \"metadata-sitios\"\n",
    "yelp_subfolder = os.path.join(yelp_folder, 'Reviews')"
   ]
  },
  {
   "cell_type": "code",
   "execution_count": 26,
   "metadata": {},
   "outputs": [],
   "source": [
    "reviews = []\n",
    "\n",
    "# Recorrer todos los archivos\n",
    "for archivo in os.listdir(yelp_subfolder):\n",
    "        # Ruta del archivo JSON actual\n",
    "        ruta_archivo = os.path.join(yelp_subfolder, archivo)\n",
    "\n",
    "        # Leer el contenido del archivo\n",
    "        with open(ruta_archivo) as f:\n",
    "            contenido_json = f.readlines()\n",
    "\n",
    "        # Cargar cada objeto JSON por separado\n",
    "        for linea in contenido_json:\n",
    "            try:\n",
    "                data = json.loads(linea)\n",
    "            except json.JSONDecodeError as e:\n",
    "                print(f\"Error al cargar el archivo JSON {ruta_archivo}: {e}\")\n",
    "                continue\n",
    "\n",
    "            reviews.append(data)\n",
    "\n",
    "# Convertir los resultados a un pandas DataFrame\n",
    "df_reviews = pd.DataFrame(reviews)"
   ]
  },
  {
   "cell_type": "code",
   "execution_count": 27,
   "metadata": {},
   "outputs": [
    {
     "data": {
      "text/plain": [
       "(6990280, 9)"
      ]
     },
     "execution_count": 27,
     "metadata": {},
     "output_type": "execute_result"
    }
   ],
   "source": [
    "df_reviews.shape"
   ]
  },
  {
   "cell_type": "markdown",
   "metadata": {},
   "source": [
    "Seleccionamos únicamente reviews de negocios del tipo: Restaurantes"
   ]
  },
  {
   "cell_type": "code",
   "execution_count": 30,
   "metadata": {},
   "outputs": [
    {
     "data": {
      "text/html": [
       "<div>\n",
       "<style scoped>\n",
       "    .dataframe tbody tr th:only-of-type {\n",
       "        vertical-align: middle;\n",
       "    }\n",
       "\n",
       "    .dataframe tbody tr th {\n",
       "        vertical-align: top;\n",
       "    }\n",
       "\n",
       "    .dataframe thead th {\n",
       "        text-align: right;\n",
       "    }\n",
       "</style>\n",
       "<table border=\"1\" class=\"dataframe\">\n",
       "  <thead>\n",
       "    <tr style=\"text-align: right;\">\n",
       "      <th></th>\n",
       "      <th>business_id</th>\n",
       "      <th>name</th>\n",
       "      <th>address</th>\n",
       "      <th>city</th>\n",
       "      <th>state</th>\n",
       "      <th>postal_code</th>\n",
       "      <th>latitude</th>\n",
       "      <th>longitude</th>\n",
       "      <th>stars</th>\n",
       "      <th>review_count</th>\n",
       "      <th>is_open</th>\n",
       "      <th>attributes</th>\n",
       "      <th>categories</th>\n",
       "      <th>hours</th>\n",
       "    </tr>\n",
       "  </thead>\n",
       "  <tbody>\n",
       "    <tr>\n",
       "      <th>10948</th>\n",
       "      <td>3yZqLrzQiM8T00pZVZ43Rw</td>\n",
       "      <td>Yanaki Japanese Restaurant &amp; Asian Cuisine</td>\n",
       "      <td>650 S Vista Ave</td>\n",
       "      <td>Boise</td>\n",
       "      <td>NJ</td>\n",
       "      <td>83705</td>\n",
       "      <td>43.598118</td>\n",
       "      <td>-116.213258</td>\n",
       "      <td>4.5</td>\n",
       "      <td>21</td>\n",
       "      <td>1</td>\n",
       "      <td>{'RestaurantsDelivery': 'True', 'WiFi': 'u'no'...</td>\n",
       "      <td>Restaurants, Japanese, Korean, Asian Fusion</td>\n",
       "      <td>{'Monday': '0:0-0:0', 'Tuesday': '16:30-21:0',...</td>\n",
       "    </tr>\n",
       "    <tr>\n",
       "      <th>4654</th>\n",
       "      <td>5guS25GDbxMEnsw_ZD7umA</td>\n",
       "      <td>Schlotzsky's</td>\n",
       "      <td>3270 E Valencia</td>\n",
       "      <td>Tucson</td>\n",
       "      <td>AB</td>\n",
       "      <td>85706</td>\n",
       "      <td>32.133696</td>\n",
       "      <td>-110.922383</td>\n",
       "      <td>3.0</td>\n",
       "      <td>82</td>\n",
       "      <td>1</td>\n",
       "      <td>{'RestaurantsGoodForGroups': 'True', 'OutdoorS...</td>\n",
       "      <td>Restaurants, Pizza, Burgers, Delis, Caterers, ...</td>\n",
       "      <td>{'Monday': '0:0-0:0', 'Tuesday': '9:0-21:0', '...</td>\n",
       "    </tr>\n",
       "    <tr>\n",
       "      <th>179</th>\n",
       "      <td>SSxXyZFkA8U_DOeWzrrhCA</td>\n",
       "      <td>Starr Diner</td>\n",
       "      <td>785 Starr St</td>\n",
       "      <td>Phoenixville</td>\n",
       "      <td>AB</td>\n",
       "      <td>19460</td>\n",
       "      <td>40.123151</td>\n",
       "      <td>-75.508776</td>\n",
       "      <td>2.0</td>\n",
       "      <td>13</td>\n",
       "      <td>0</td>\n",
       "      <td>{'Alcohol': 'u'none'', 'Caters': 'False', 'Goo...</td>\n",
       "      <td>Restaurants, Diners</td>\n",
       "      <td>None</td>\n",
       "    </tr>\n",
       "  </tbody>\n",
       "</table>\n",
       "</div>"
      ],
      "text/plain": [
       "                  business_id                                        name  \\\n",
       "10948  3yZqLrzQiM8T00pZVZ43Rw  Yanaki Japanese Restaurant & Asian Cuisine   \n",
       "4654   5guS25GDbxMEnsw_ZD7umA                                Schlotzsky's   \n",
       "179    SSxXyZFkA8U_DOeWzrrhCA                                 Starr Diner   \n",
       "\n",
       "               address          city state postal_code   latitude   longitude  \\\n",
       "10948  650 S Vista Ave         Boise    NJ       83705  43.598118 -116.213258   \n",
       "4654   3270 E Valencia        Tucson    AB       85706  32.133696 -110.922383   \n",
       "179       785 Starr St  Phoenixville    AB       19460  40.123151  -75.508776   \n",
       "\n",
       "      stars review_count is_open  \\\n",
       "10948   4.5           21       1   \n",
       "4654    3.0           82       1   \n",
       "179     2.0           13       0   \n",
       "\n",
       "                                              attributes  \\\n",
       "10948  {'RestaurantsDelivery': 'True', 'WiFi': 'u'no'...   \n",
       "4654   {'RestaurantsGoodForGroups': 'True', 'OutdoorS...   \n",
       "179    {'Alcohol': 'u'none'', 'Caters': 'False', 'Goo...   \n",
       "\n",
       "                                              categories  \\\n",
       "10948        Restaurants, Japanese, Korean, Asian Fusion   \n",
       "4654   Restaurants, Pizza, Burgers, Delis, Caterers, ...   \n",
       "179                                  Restaurants, Diners   \n",
       "\n",
       "                                                   hours  \n",
       "10948  {'Monday': '0:0-0:0', 'Tuesday': '16:30-21:0',...  \n",
       "4654   {'Monday': '0:0-0:0', 'Tuesday': '9:0-21:0', '...  \n",
       "179                                                 None  "
      ]
     },
     "execution_count": 30,
     "metadata": {},
     "output_type": "execute_result"
    }
   ],
   "source": [
    "df_business_Yelp.sample(3)"
   ]
  },
  {
   "cell_type": "code",
   "execution_count": 28,
   "metadata": {},
   "outputs": [],
   "source": [
    "# Crear una lista de IDs a partir de df1\n",
    "lista_de_ids = df_business_Yelp['business_id'].tolist()\n",
    "\n",
    "# Filtrar df2 basándose en la lista de IDs de df1\n",
    "df_reviews_r = df_reviews[df_reviews['business_id'].isin(lista_de_ids)]"
   ]
  },
  {
   "cell_type": "code",
   "execution_count": 29,
   "metadata": {},
   "outputs": [
    {
     "data": {
      "text/plain": [
       "(1192401, 9)"
      ]
     },
     "execution_count": 29,
     "metadata": {},
     "output_type": "execute_result"
    }
   ],
   "source": [
    "df_reviews_r.shape"
   ]
  },
  {
   "cell_type": "code",
   "execution_count": 30,
   "metadata": {},
   "outputs": [
    {
     "data": {
      "text/html": [
       "<div>\n",
       "<style scoped>\n",
       "    .dataframe tbody tr th:only-of-type {\n",
       "        vertical-align: middle;\n",
       "    }\n",
       "\n",
       "    .dataframe tbody tr th {\n",
       "        vertical-align: top;\n",
       "    }\n",
       "\n",
       "    .dataframe thead th {\n",
       "        text-align: right;\n",
       "    }\n",
       "</style>\n",
       "<table border=\"1\" class=\"dataframe\">\n",
       "  <thead>\n",
       "    <tr style=\"text-align: right;\">\n",
       "      <th></th>\n",
       "      <th>review_id</th>\n",
       "      <th>user_id</th>\n",
       "      <th>business_id</th>\n",
       "      <th>stars</th>\n",
       "      <th>useful</th>\n",
       "      <th>funny</th>\n",
       "      <th>cool</th>\n",
       "      <th>text</th>\n",
       "      <th>date</th>\n",
       "    </tr>\n",
       "  </thead>\n",
       "  <tbody>\n",
       "    <tr>\n",
       "      <th>2460731</th>\n",
       "      <td>Mwbq1fxD0hz7tcCRcBi-Xw</td>\n",
       "      <td>WlzwuGCMcykTYpTSVUHyBA</td>\n",
       "      <td>jEvoDXtF3xMJsiPPbqGSmw</td>\n",
       "      <td>5.0</td>\n",
       "      <td>3</td>\n",
       "      <td>0</td>\n",
       "      <td>0</td>\n",
       "      <td>Came here yesterday for the first time at arou...</td>\n",
       "      <td>2016-03-11 01:50:24</td>\n",
       "    </tr>\n",
       "    <tr>\n",
       "      <th>3496762</th>\n",
       "      <td>i5G78BiMFr1P3Ezm3RpLOQ</td>\n",
       "      <td>4YOU43D1rXFAkNuoiI-ZZA</td>\n",
       "      <td>ETocc91Bm5-EMPhODTUx_Q</td>\n",
       "      <td>5.0</td>\n",
       "      <td>1</td>\n",
       "      <td>0</td>\n",
       "      <td>1</td>\n",
       "      <td>Absolutely love this place. Amazing food, amaz...</td>\n",
       "      <td>2018-10-04 18:20:59</td>\n",
       "    </tr>\n",
       "  </tbody>\n",
       "</table>\n",
       "</div>"
      ],
      "text/plain": [
       "                      review_id                 user_id  \\\n",
       "2460731  Mwbq1fxD0hz7tcCRcBi-Xw  WlzwuGCMcykTYpTSVUHyBA   \n",
       "3496762  i5G78BiMFr1P3Ezm3RpLOQ  4YOU43D1rXFAkNuoiI-ZZA   \n",
       "\n",
       "                    business_id  stars  useful  funny  cool  \\\n",
       "2460731  jEvoDXtF3xMJsiPPbqGSmw    5.0       3      0     0   \n",
       "3496762  ETocc91Bm5-EMPhODTUx_Q    5.0       1      0     1   \n",
       "\n",
       "                                                      text  \\\n",
       "2460731  Came here yesterday for the first time at arou...   \n",
       "3496762  Absolutely love this place. Amazing food, amaz...   \n",
       "\n",
       "                        date  \n",
       "2460731  2016-03-11 01:50:24  \n",
       "3496762  2018-10-04 18:20:59  "
      ]
     },
     "execution_count": 30,
     "metadata": {},
     "output_type": "execute_result"
    }
   ],
   "source": [
    "df_reviews_r.sample(2)"
   ]
  },
  {
   "cell_type": "markdown",
   "metadata": {},
   "source": [
    "### Corroborar que todos los restaurantes tienen reviews"
   ]
  },
  {
   "cell_type": "code",
   "execution_count": 35,
   "metadata": {},
   "outputs": [
    {
     "data": {
      "text/plain": [
       "(15305, 14)"
      ]
     },
     "execution_count": 35,
     "metadata": {},
     "output_type": "execute_result"
    }
   ],
   "source": [
    "df_business_Yelp.shape"
   ]
  },
  {
   "cell_type": "code",
   "execution_count": 42,
   "metadata": {},
   "outputs": [
    {
     "name": "stdout",
     "output_type": "stream",
     "text": [
      "Todos los ID de restaurantes se encuentran en la lista de reseñas.\n"
     ]
    }
   ],
   "source": [
    "# Obtén una lista de todos los ID de restaurantes únicos en df_business_Yelp\n",
    "restaurant_ids = df_business_Yelp['business_id'].unique()\n",
    "\n",
    "# Verifica si cada ID de restaurante está en la lista de ID de reseñas en df_reviews\n",
    "are_all_restaurant_ids_in_reviews = all(df_reviews_r['business_id'].isin(restaurant_ids))\n",
    "\n",
    "if are_all_restaurant_ids_in_reviews:\n",
    "    print(\"Todos los ID de restaurantes se encuentran en la lista de reseñas.\")\n",
    "else:\n",
    "    print(\"Al menos un ID de restaurante no se encuentra en la lista de reseñas.\")"
   ]
  },
  {
   "cell_type": "code",
   "execution_count": 59,
   "metadata": {},
   "outputs": [],
   "source": [
    "df_business_Yelp.to_csv('Restaurantes_Yelp.csv',index=False)"
   ]
  },
  {
   "cell_type": "code",
   "execution_count": 60,
   "metadata": {},
   "outputs": [],
   "source": [
    "df_reviews_r.to_csv('Restaurantes_Yelp_Reviews.csv',index=False)"
   ]
  },
  {
   "cell_type": "markdown",
   "metadata": {},
   "source": [
    "USER: Data del usuario incluyendo referencias a otros usuarios amigos y a toda la metadata asociada al usuario."
   ]
  },
  {
   "cell_type": "code",
   "execution_count": 45,
   "metadata": {},
   "outputs": [],
   "source": [
    "archivo_parquet = \"../PROYECTO_FINAL_EQUIPO/Yelp/user-001.parquet\"\n",
    "\n",
    "# Abre el archivo Parquet y crea un DataFrame.\n",
    "\n",
    "df_user = pd.read_parquet(archivo_parquet)"
   ]
  },
  {
   "cell_type": "code",
   "execution_count": 46,
   "metadata": {},
   "outputs": [
    {
     "data": {
      "text/plain": [
       "(2105597, 22)"
      ]
     },
     "execution_count": 46,
     "metadata": {},
     "output_type": "execute_result"
    }
   ],
   "source": [
    "df_user.shape"
   ]
  },
  {
   "cell_type": "code",
   "execution_count": 47,
   "metadata": {},
   "outputs": [
    {
     "name": "stdout",
     "output_type": "stream",
     "text": [
      "(117700, 22)\n"
     ]
    }
   ],
   "source": [
    "#Analizar duplicados:\n",
    "duplicados = df_user[df_user['user_id'].duplicated()]\n",
    "print(duplicados.shape)\n",
    "# Ordena los registros duplicados por 'user_id'\n",
    "duplicados_ordenados = duplicados.sort_values(by='user_id')"
   ]
  },
  {
   "cell_type": "code",
   "execution_count": 49,
   "metadata": {},
   "outputs": [
    {
     "data": {
      "text/html": [
       "<div>\n",
       "<style scoped>\n",
       "    .dataframe tbody tr th:only-of-type {\n",
       "        vertical-align: middle;\n",
       "    }\n",
       "\n",
       "    .dataframe tbody tr th {\n",
       "        vertical-align: top;\n",
       "    }\n",
       "\n",
       "    .dataframe thead th {\n",
       "        text-align: right;\n",
       "    }\n",
       "</style>\n",
       "<table border=\"1\" class=\"dataframe\">\n",
       "  <thead>\n",
       "    <tr style=\"text-align: right;\">\n",
       "      <th></th>\n",
       "      <th>user_id</th>\n",
       "      <th>name</th>\n",
       "      <th>review_count</th>\n",
       "      <th>yelping_since</th>\n",
       "      <th>useful</th>\n",
       "      <th>funny</th>\n",
       "      <th>cool</th>\n",
       "      <th>elite</th>\n",
       "      <th>friends</th>\n",
       "      <th>fans</th>\n",
       "      <th>...</th>\n",
       "      <th>compliment_more</th>\n",
       "      <th>compliment_profile</th>\n",
       "      <th>compliment_cute</th>\n",
       "      <th>compliment_list</th>\n",
       "      <th>compliment_note</th>\n",
       "      <th>compliment_plain</th>\n",
       "      <th>compliment_cool</th>\n",
       "      <th>compliment_funny</th>\n",
       "      <th>compliment_writer</th>\n",
       "      <th>compliment_photos</th>\n",
       "    </tr>\n",
       "  </thead>\n",
       "  <tbody>\n",
       "    <tr>\n",
       "      <th>2017202</th>\n",
       "      <td>---2PmXbF47D870stH1jqA</td>\n",
       "      <td>Susan</td>\n",
       "      <td>36</td>\n",
       "      <td>2012-10-24 13:20:46</td>\n",
       "      <td>63</td>\n",
       "      <td>4</td>\n",
       "      <td>36</td>\n",
       "      <td></td>\n",
       "      <td>o9QkuHIyxmqbORF7PeAbuw, Q70zvjAa9aawgW7KsNVGDA...</td>\n",
       "      <td>3</td>\n",
       "      <td>...</td>\n",
       "      <td>0</td>\n",
       "      <td>0</td>\n",
       "      <td>0</td>\n",
       "      <td>0</td>\n",
       "      <td>0</td>\n",
       "      <td>2</td>\n",
       "      <td>0</td>\n",
       "      <td>0</td>\n",
       "      <td>2</td>\n",
       "      <td>0</td>\n",
       "    </tr>\n",
       "    <tr>\n",
       "      <th>2080502</th>\n",
       "      <td>---2PmXbF47D870stH1jqA</td>\n",
       "      <td>Susan</td>\n",
       "      <td>36</td>\n",
       "      <td>2012-10-24 13:20:46</td>\n",
       "      <td>63</td>\n",
       "      <td>4</td>\n",
       "      <td>36</td>\n",
       "      <td></td>\n",
       "      <td>o9QkuHIyxmqbORF7PeAbuw, Q70zvjAa9aawgW7KsNVGDA...</td>\n",
       "      <td>3</td>\n",
       "      <td>...</td>\n",
       "      <td>0</td>\n",
       "      <td>0</td>\n",
       "      <td>0</td>\n",
       "      <td>0</td>\n",
       "      <td>0</td>\n",
       "      <td>2</td>\n",
       "      <td>0</td>\n",
       "      <td>0</td>\n",
       "      <td>2</td>\n",
       "      <td>0</td>\n",
       "    </tr>\n",
       "  </tbody>\n",
       "</table>\n",
       "<p>2 rows × 22 columns</p>\n",
       "</div>"
      ],
      "text/plain": [
       "                        user_id   name  review_count        yelping_since  \\\n",
       "2017202  ---2PmXbF47D870stH1jqA  Susan            36  2012-10-24 13:20:46   \n",
       "2080502  ---2PmXbF47D870stH1jqA  Susan            36  2012-10-24 13:20:46   \n",
       "\n",
       "         useful  funny  cool elite  \\\n",
       "2017202      63      4    36         \n",
       "2080502      63      4    36         \n",
       "\n",
       "                                                   friends  fans  ...  \\\n",
       "2017202  o9QkuHIyxmqbORF7PeAbuw, Q70zvjAa9aawgW7KsNVGDA...     3  ...   \n",
       "2080502  o9QkuHIyxmqbORF7PeAbuw, Q70zvjAa9aawgW7KsNVGDA...     3  ...   \n",
       "\n",
       "         compliment_more  compliment_profile  compliment_cute  \\\n",
       "2017202                0                   0                0   \n",
       "2080502                0                   0                0   \n",
       "\n",
       "         compliment_list  compliment_note  compliment_plain  compliment_cool  \\\n",
       "2017202                0                0                 2                0   \n",
       "2080502                0                0                 2                0   \n",
       "\n",
       "         compliment_funny  compliment_writer  compliment_photos  \n",
       "2017202                 0                  2                  0  \n",
       "2080502                 0                  2                  0  \n",
       "\n",
       "[2 rows x 22 columns]"
      ]
     },
     "execution_count": 49,
     "metadata": {},
     "output_type": "execute_result"
    }
   ],
   "source": [
    "duplicados_ordenados.head(2)"
   ]
  },
  {
   "cell_type": "code",
   "execution_count": 50,
   "metadata": {},
   "outputs": [],
   "source": [
    "#Eliminar duplicados:\n",
    "df_user = df_user.drop_duplicates(subset='user_id') "
   ]
  },
  {
   "cell_type": "markdown",
   "metadata": {},
   "source": [
    "#### Filtrar usuarios que han reseñado restaurantes"
   ]
  },
  {
   "cell_type": "code",
   "execution_count": 51,
   "metadata": {},
   "outputs": [
    {
     "data": {
      "text/plain": [
       "(1987897, 22)"
      ]
     },
     "execution_count": 51,
     "metadata": {},
     "output_type": "execute_result"
    }
   ],
   "source": [
    "#Hay 1,987,897  de usuarios únicos\n",
    "df_user.shape"
   ]
  },
  {
   "cell_type": "code",
   "execution_count": 61,
   "metadata": {},
   "outputs": [
    {
     "data": {
      "text/html": [
       "<div>\n",
       "<style scoped>\n",
       "    .dataframe tbody tr th:only-of-type {\n",
       "        vertical-align: middle;\n",
       "    }\n",
       "\n",
       "    .dataframe tbody tr th {\n",
       "        vertical-align: top;\n",
       "    }\n",
       "\n",
       "    .dataframe thead th {\n",
       "        text-align: right;\n",
       "    }\n",
       "</style>\n",
       "<table border=\"1\" class=\"dataframe\">\n",
       "  <thead>\n",
       "    <tr style=\"text-align: right;\">\n",
       "      <th></th>\n",
       "      <th>user_id</th>\n",
       "      <th>name</th>\n",
       "      <th>review_count</th>\n",
       "      <th>yelping_since</th>\n",
       "      <th>useful</th>\n",
       "      <th>funny</th>\n",
       "      <th>cool</th>\n",
       "      <th>elite</th>\n",
       "      <th>friends</th>\n",
       "      <th>fans</th>\n",
       "      <th>...</th>\n",
       "      <th>compliment_more</th>\n",
       "      <th>compliment_profile</th>\n",
       "      <th>compliment_cute</th>\n",
       "      <th>compliment_list</th>\n",
       "      <th>compliment_note</th>\n",
       "      <th>compliment_plain</th>\n",
       "      <th>compliment_cool</th>\n",
       "      <th>compliment_funny</th>\n",
       "      <th>compliment_writer</th>\n",
       "      <th>compliment_photos</th>\n",
       "    </tr>\n",
       "  </thead>\n",
       "  <tbody>\n",
       "    <tr>\n",
       "      <th>1527957</th>\n",
       "      <td>doCBs1eY8AzG_JfPVUr0IQ</td>\n",
       "      <td>Adam</td>\n",
       "      <td>2</td>\n",
       "      <td>2017-06-03 00:15:02</td>\n",
       "      <td>0</td>\n",
       "      <td>0</td>\n",
       "      <td>0</td>\n",
       "      <td></td>\n",
       "      <td>None</td>\n",
       "      <td>0</td>\n",
       "      <td>...</td>\n",
       "      <td>0</td>\n",
       "      <td>0</td>\n",
       "      <td>0</td>\n",
       "      <td>0</td>\n",
       "      <td>0</td>\n",
       "      <td>0</td>\n",
       "      <td>0</td>\n",
       "      <td>0</td>\n",
       "      <td>0</td>\n",
       "      <td>0</td>\n",
       "    </tr>\n",
       "    <tr>\n",
       "      <th>1209482</th>\n",
       "      <td>VxwIPabJxoasX_N4FD8zVA</td>\n",
       "      <td>Mathew</td>\n",
       "      <td>17</td>\n",
       "      <td>2010-06-20 22:17:35</td>\n",
       "      <td>46</td>\n",
       "      <td>4</td>\n",
       "      <td>4</td>\n",
       "      <td></td>\n",
       "      <td>a4Z8X3ic5P1YDtNzMlxCMg, IFYkRXw4DwrXqPyLptOaAA...</td>\n",
       "      <td>0</td>\n",
       "      <td>...</td>\n",
       "      <td>1</td>\n",
       "      <td>0</td>\n",
       "      <td>0</td>\n",
       "      <td>0</td>\n",
       "      <td>0</td>\n",
       "      <td>0</td>\n",
       "      <td>0</td>\n",
       "      <td>0</td>\n",
       "      <td>0</td>\n",
       "      <td>0</td>\n",
       "    </tr>\n",
       "  </tbody>\n",
       "</table>\n",
       "<p>2 rows × 22 columns</p>\n",
       "</div>"
      ],
      "text/plain": [
       "                        user_id    name  review_count        yelping_since  \\\n",
       "1527957  doCBs1eY8AzG_JfPVUr0IQ    Adam             2  2017-06-03 00:15:02   \n",
       "1209482  VxwIPabJxoasX_N4FD8zVA  Mathew            17  2010-06-20 22:17:35   \n",
       "\n",
       "         useful  funny  cool elite  \\\n",
       "1527957       0      0     0         \n",
       "1209482      46      4     4         \n",
       "\n",
       "                                                   friends  fans  ...  \\\n",
       "1527957                                               None     0  ...   \n",
       "1209482  a4Z8X3ic5P1YDtNzMlxCMg, IFYkRXw4DwrXqPyLptOaAA...     0  ...   \n",
       "\n",
       "         compliment_more  compliment_profile  compliment_cute  \\\n",
       "1527957                0                   0                0   \n",
       "1209482                1                   0                0   \n",
       "\n",
       "         compliment_list  compliment_note  compliment_plain  compliment_cool  \\\n",
       "1527957                0                0                 0                0   \n",
       "1209482                0                0                 0                0   \n",
       "\n",
       "         compliment_funny  compliment_writer  compliment_photos  \n",
       "1527957                 0                  0                  0  \n",
       "1209482                 0                  0                  0  \n",
       "\n",
       "[2 rows x 22 columns]"
      ]
     },
     "execution_count": 61,
     "metadata": {},
     "output_type": "execute_result"
    }
   ],
   "source": [
    "df_user.sample(2)"
   ]
  },
  {
   "cell_type": "code",
   "execution_count": 52,
   "metadata": {},
   "outputs": [],
   "source": [
    "#Ahora filtramos los usuarios únicamente que han echo alguna review\n",
    "# en  los restaurantes. \n",
    "lista_de_id = df_reviews_r['user_id'].tolist()\n",
    "\n",
    "# Filtrar basándose en la lista de IDs que aparecen en Restaurant \n",
    "df_user_review_r = df_user[df_user['user_id'].isin(lista_de_id)]"
   ]
  },
  {
   "cell_type": "code",
   "execution_count": 53,
   "metadata": {},
   "outputs": [
    {
     "data": {
      "text/plain": [
       "(589592, 22)"
      ]
     },
     "execution_count": 53,
     "metadata": {},
     "output_type": "execute_result"
    }
   ],
   "source": [
    "#Nos quedamos con 589,377 usuarios. \n",
    "df_user_review_r.shape"
   ]
  },
  {
   "cell_type": "code",
   "execution_count": 62,
   "metadata": {},
   "outputs": [],
   "source": [
    "df_user_review_r.to_csv('Restaurantes_User_Yelp.csv',index=False)"
   ]
  },
  {
   "cell_type": "markdown",
   "metadata": {},
   "source": [
    "### Tips (consejos) escritos por el usuario. \n",
    "Los tips son más cortas que las reseñas y tienden a dar sugerencias rápidas.\n"
   ]
  },
  {
   "cell_type": "code",
   "execution_count": 54,
   "metadata": {},
   "outputs": [],
   "source": [
    "ruta_archivo_json = \"/Users/alejandrobenjaminnunezguzman/Desktop/PROYECTO_FINAL_EQUIPO/Yelp/tip.json\"\n",
    "\n",
    "lista_objetos_json = []\n",
    "\n",
    "# Abre el archivo JSON y lee línea por línea\n",
    "with open(ruta_archivo_json, \"r\") as archivo_json:\n",
    "    for linea in archivo_json:\n",
    "        try:\n",
    "            # Intenta cargar la línea como un objeto JSON\n",
    "            objeto_json = json.loads(linea)\n",
    "            lista_objetos_json.append(objeto_json)\n",
    "        except json.JSONDecodeError as e:\n",
    "            print(f\"Error al cargar línea: {linea}\")\n",
    "            continue\n",
    "\n",
    "# Crea un DataFrame a partir de la lista de objetos JSON\n",
    "df_tip = pd.DataFrame(lista_objetos_json)"
   ]
  },
  {
   "cell_type": "code",
   "execution_count": 55,
   "metadata": {},
   "outputs": [
    {
     "data": {
      "text/plain": [
       "(908915, 5)"
      ]
     },
     "execution_count": 55,
     "metadata": {},
     "output_type": "execute_result"
    }
   ],
   "source": [
    "df_tip.shape"
   ]
  },
  {
   "cell_type": "code",
   "execution_count": 56,
   "metadata": {},
   "outputs": [
    {
     "data": {
      "text/html": [
       "<div>\n",
       "<style scoped>\n",
       "    .dataframe tbody tr th:only-of-type {\n",
       "        vertical-align: middle;\n",
       "    }\n",
       "\n",
       "    .dataframe tbody tr th {\n",
       "        vertical-align: top;\n",
       "    }\n",
       "\n",
       "    .dataframe thead th {\n",
       "        text-align: right;\n",
       "    }\n",
       "</style>\n",
       "<table border=\"1\" class=\"dataframe\">\n",
       "  <thead>\n",
       "    <tr style=\"text-align: right;\">\n",
       "      <th></th>\n",
       "      <th>user_id</th>\n",
       "      <th>business_id</th>\n",
       "      <th>text</th>\n",
       "      <th>date</th>\n",
       "      <th>compliment_count</th>\n",
       "    </tr>\n",
       "  </thead>\n",
       "  <tbody>\n",
       "    <tr>\n",
       "      <th>0</th>\n",
       "      <td>AGNUgVwnZUey3gcPCJ76iw</td>\n",
       "      <td>3uLgwr0qeCNMjKenHJwPGQ</td>\n",
       "      <td>Avengers time with the ladies.</td>\n",
       "      <td>2012-05-18 02:17:21</td>\n",
       "      <td>0</td>\n",
       "    </tr>\n",
       "    <tr>\n",
       "      <th>1</th>\n",
       "      <td>NBN4MgHP9D3cw--SnauTkA</td>\n",
       "      <td>QoezRbYQncpRqyrLH6Iqjg</td>\n",
       "      <td>They have lots of good deserts and tasty cuban...</td>\n",
       "      <td>2013-02-05 18:35:10</td>\n",
       "      <td>0</td>\n",
       "    </tr>\n",
       "    <tr>\n",
       "      <th>2</th>\n",
       "      <td>-copOvldyKh1qr-vzkDEvw</td>\n",
       "      <td>MYoRNLb5chwjQe3c_k37Gg</td>\n",
       "      <td>It's open even when you think it isn't</td>\n",
       "      <td>2013-08-18 00:56:08</td>\n",
       "      <td>0</td>\n",
       "    </tr>\n",
       "  </tbody>\n",
       "</table>\n",
       "</div>"
      ],
      "text/plain": [
       "                  user_id             business_id  \\\n",
       "0  AGNUgVwnZUey3gcPCJ76iw  3uLgwr0qeCNMjKenHJwPGQ   \n",
       "1  NBN4MgHP9D3cw--SnauTkA  QoezRbYQncpRqyrLH6Iqjg   \n",
       "2  -copOvldyKh1qr-vzkDEvw  MYoRNLb5chwjQe3c_k37Gg   \n",
       "\n",
       "                                                text                 date  \\\n",
       "0                     Avengers time with the ladies.  2012-05-18 02:17:21   \n",
       "1  They have lots of good deserts and tasty cuban...  2013-02-05 18:35:10   \n",
       "2             It's open even when you think it isn't  2013-08-18 00:56:08   \n",
       "\n",
       "   compliment_count  \n",
       "0                 0  \n",
       "1                 0  \n",
       "2                 0  "
      ]
     },
     "execution_count": 56,
     "metadata": {},
     "output_type": "execute_result"
    }
   ],
   "source": [
    "df_tip.head(3)"
   ]
  },
  {
   "cell_type": "code",
   "execution_count": 57,
   "metadata": {},
   "outputs": [],
   "source": [
    "#Ahora filtramos los usuarios que únicamente han dejado tips\n",
    "#en  los restaurantes. \n",
    "df_tip_r = df_tip[df_tip['user_id'].isin(lista_de_id)]"
   ]
  },
  {
   "cell_type": "code",
   "execution_count": 58,
   "metadata": {},
   "outputs": [
    {
     "data": {
      "text/plain": [
       "(640847, 5)"
      ]
     },
     "execution_count": 58,
     "metadata": {},
     "output_type": "execute_result"
    }
   ],
   "source": [
    "#Obtenemos 640,808 tips de diferentes usuarios\n",
    "df_tip_r.shape"
   ]
  },
  {
   "cell_type": "code",
   "execution_count": 63,
   "metadata": {},
   "outputs": [],
   "source": [
    "df_tip_r.to_csv('Restaurantes_Yelp_Tips.csv',index=False)"
   ]
  }
 ],
 "metadata": {
  "kernelspec": {
   "display_name": "Python 3.8.3 64-bit",
   "language": "python",
   "name": "python3"
  },
  "language_info": {
   "codemirror_mode": {
    "name": "ipython",
    "version": 3
   },
   "file_extension": ".py",
   "mimetype": "text/x-python",
   "name": "python",
   "nbconvert_exporter": "python",
   "pygments_lexer": "ipython3",
   "version": "3.8.3"
  },
  "orig_nbformat": 4,
  "vscode": {
   "interpreter": {
    "hash": "aee8b7b246df8f9039afb4144a1f6fd8d2ca17a180786b69acc140d282b71a49"
   }
  }
 },
 "nbformat": 4,
 "nbformat_minor": 2
}
