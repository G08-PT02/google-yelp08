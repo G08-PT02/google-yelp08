{
 "cells": [
  {
   "cell_type": "code",
   "execution_count": 2,
   "metadata": {},
   "outputs": [],
   "source": [
    "#pip install pickle-mixin\n",
    "#pip install fuzzywuzzy\n",
    "#pip install pyarrow"
   ]
  },
  {
   "cell_type": "code",
   "execution_count": 3,
   "metadata": {},
   "outputs": [
    {
     "name": "stderr",
     "output_type": "stream",
     "text": [
      "/Library/Frameworks/Python.framework/Versions/3.8/lib/python3.8/site-packages/fuzzywuzzy/fuzz.py:11: UserWarning: Using slow pure-python SequenceMatcher. Install python-Levenshtein to remove this warning\n",
      "  warnings.warn('Using slow pure-python SequenceMatcher. Install python-Levenshtein to remove this warning')\n"
     ]
    }
   ],
   "source": [
    "import pandas as pd\n",
    "import os\n",
    "import pickle\n",
    "import json\n",
    "from fuzzywuzzy import fuzz"
   ]
  },
  {
   "cell_type": "markdown",
   "metadata": {},
   "source": [
    "Business: Contiene información del comercio, incluyendo localización, atributos y categorías.\n"
   ]
  },
  {
   "cell_type": "code",
   "execution_count": 34,
   "metadata": {},
   "outputs": [],
   "source": [
    "# Ruta al archivo .pkl que deseas abrir\n",
    "ruta_archivo_pkl = '../PROYECTO_FINAL_EQUIPO/Yelp/business.pkl'\n",
    "\n",
    "# Abrir el archivo .pkl en modo lectura binaria\n",
    "with open(ruta_archivo_pkl, 'rb') as archivo_pkl:\n",
    "    # Cargar el objeto desde el archivo .pkl\n",
    "    business_Yelp = pickle.load(archivo_pkl)\n"
   ]
  },
  {
   "cell_type": "code",
   "execution_count": 35,
   "metadata": {},
   "outputs": [
    {
     "data": {
      "text/plain": [
       "(150346, 28)"
      ]
     },
     "execution_count": 35,
     "metadata": {},
     "output_type": "execute_result"
    }
   ],
   "source": [
    "business_Yelp.shape"
   ]
  },
  {
   "cell_type": "code",
   "execution_count": 6,
   "metadata": {},
   "outputs": [
    {
     "name": "stdout",
     "output_type": "stream",
     "text": [
      "<class 'pandas.core.frame.DataFrame'>\n",
      "Int64Index: 150346 entries, 0 to 150345\n",
      "Data columns (total 28 columns):\n",
      " #   Column        Non-Null Count   Dtype \n",
      "---  ------        --------------   ----- \n",
      " 0   business_id   150346 non-null  object\n",
      " 1   name          150346 non-null  object\n",
      " 2   address       150346 non-null  object\n",
      " 3   city          150346 non-null  object\n",
      " 4   state         150343 non-null  object\n",
      " 5   postal_code   150346 non-null  object\n",
      " 6   latitude      150346 non-null  object\n",
      " 7   longitude     150346 non-null  object\n",
      " 8   stars         150346 non-null  object\n",
      " 9   review_count  150346 non-null  object\n",
      " 10  is_open       150346 non-null  object\n",
      " 11  attributes    136602 non-null  object\n",
      " 12  categories    150243 non-null  object\n",
      " 13  hours         127123 non-null  object\n",
      " 14  business_id   5 non-null       object\n",
      " 15  name          5 non-null       object\n",
      " 16  address       5 non-null       object\n",
      " 17  city          5 non-null       object\n",
      " 18  state         5 non-null       object\n",
      " 19  postal_code   5 non-null       object\n",
      " 20  latitude      5 non-null       object\n",
      " 21  longitude     5 non-null       object\n",
      " 22  stars         5 non-null       object\n",
      " 23  review_count  5 non-null       object\n",
      " 24  is_open       5 non-null       object\n",
      " 25  attributes    5 non-null       object\n",
      " 26  categories    5 non-null       object\n",
      " 27  hours         5 non-null       object\n",
      "dtypes: object(28)\n",
      "memory usage: 33.3+ MB\n"
     ]
    }
   ],
   "source": [
    "business_Yelp.info()"
   ]
  },
  {
   "cell_type": "code",
   "execution_count": 36,
   "metadata": {},
   "outputs": [],
   "source": [
    "#Eliminando Columnas Duplicadas\n",
    "business_Yelp = business_Yelp.loc[:, ~business_Yelp.columns.duplicated()]\n"
   ]
  },
  {
   "cell_type": "code",
   "execution_count": 37,
   "metadata": {},
   "outputs": [
    {
     "data": {
      "text/html": [
       "<div>\n",
       "<style scoped>\n",
       "    .dataframe tbody tr th:only-of-type {\n",
       "        vertical-align: middle;\n",
       "    }\n",
       "\n",
       "    .dataframe tbody tr th {\n",
       "        vertical-align: top;\n",
       "    }\n",
       "\n",
       "    .dataframe thead th {\n",
       "        text-align: right;\n",
       "    }\n",
       "</style>\n",
       "<table border=\"1\" class=\"dataframe\">\n",
       "  <thead>\n",
       "    <tr style=\"text-align: right;\">\n",
       "      <th></th>\n",
       "      <th>business_id</th>\n",
       "      <th>name</th>\n",
       "      <th>address</th>\n",
       "      <th>city</th>\n",
       "      <th>state</th>\n",
       "      <th>postal_code</th>\n",
       "      <th>latitude</th>\n",
       "      <th>longitude</th>\n",
       "      <th>stars</th>\n",
       "      <th>review_count</th>\n",
       "      <th>is_open</th>\n",
       "      <th>attributes</th>\n",
       "      <th>categories</th>\n",
       "      <th>hours</th>\n",
       "    </tr>\n",
       "  </thead>\n",
       "  <tbody>\n",
       "    <tr>\n",
       "      <th>21415</th>\n",
       "      <td>gVPEtTnLDLaSGyPHXikmWA</td>\n",
       "      <td>Penn Station East Coast Subs</td>\n",
       "      <td>3824 Hampton Ave</td>\n",
       "      <td>Saint Louis</td>\n",
       "      <td>PA</td>\n",
       "      <td>63109</td>\n",
       "      <td>38.594385</td>\n",
       "      <td>-90.293659</td>\n",
       "      <td>2.5</td>\n",
       "      <td>42</td>\n",
       "      <td>1</td>\n",
       "      <td>{'OutdoorSeating': 'False', 'Caters': 'True', ...</td>\n",
       "      <td>Sandwiches, Fast Food, Restaurants</td>\n",
       "      <td>{'Monday': '0:0-0:0', 'Tuesday': '10:30-22:0',...</td>\n",
       "    </tr>\n",
       "    <tr>\n",
       "      <th>112967</th>\n",
       "      <td>V0dKk_r_LWY63eSumS3hHg</td>\n",
       "      <td>Taste of Greece</td>\n",
       "      <td>709 Dodecanese Blvd</td>\n",
       "      <td>Tarpon Springs</td>\n",
       "      <td>FL</td>\n",
       "      <td>34689</td>\n",
       "      <td>28.155496</td>\n",
       "      <td>-82.760372</td>\n",
       "      <td>4.0</td>\n",
       "      <td>27</td>\n",
       "      <td>1</td>\n",
       "      <td>{'RestaurantsDelivery': 'False', 'RestaurantsP...</td>\n",
       "      <td>Bakeries, Restaurants, Food</td>\n",
       "      <td>None</td>\n",
       "    </tr>\n",
       "    <tr>\n",
       "      <th>32605</th>\n",
       "      <td>iP5pLqJzTUz6ZkVtXzYjHA</td>\n",
       "      <td>Ruby &amp; Rochon, DDS</td>\n",
       "      <td>15 E Arrellaga St, Ste 4</td>\n",
       "      <td>Santa Barbara</td>\n",
       "      <td>TN</td>\n",
       "      <td>93101</td>\n",
       "      <td>34.427799</td>\n",
       "      <td>-119.709221</td>\n",
       "      <td>4.5</td>\n",
       "      <td>27</td>\n",
       "      <td>1</td>\n",
       "      <td>{'ByAppointmentOnly': 'True', 'BusinessAccepts...</td>\n",
       "      <td>Health &amp; Medical, Pediatric Dentists, Dentists</td>\n",
       "      <td>{'Monday': '8:0-17:0', 'Tuesday': '8:0-17:0', ...</td>\n",
       "    </tr>\n",
       "  </tbody>\n",
       "</table>\n",
       "</div>"
      ],
      "text/plain": [
       "                   business_id                          name  \\\n",
       "21415   gVPEtTnLDLaSGyPHXikmWA  Penn Station East Coast Subs   \n",
       "112967  V0dKk_r_LWY63eSumS3hHg               Taste of Greece   \n",
       "32605   iP5pLqJzTUz6ZkVtXzYjHA            Ruby & Rochon, DDS   \n",
       "\n",
       "                         address            city state postal_code   latitude  \\\n",
       "21415           3824 Hampton Ave     Saint Louis    PA       63109  38.594385   \n",
       "112967       709 Dodecanese Blvd  Tarpon Springs    FL       34689  28.155496   \n",
       "32605   15 E Arrellaga St, Ste 4   Santa Barbara    TN       93101  34.427799   \n",
       "\n",
       "         longitude stars review_count is_open  \\\n",
       "21415   -90.293659   2.5           42       1   \n",
       "112967  -82.760372   4.0           27       1   \n",
       "32605  -119.709221   4.5           27       1   \n",
       "\n",
       "                                               attributes  \\\n",
       "21415   {'OutdoorSeating': 'False', 'Caters': 'True', ...   \n",
       "112967  {'RestaurantsDelivery': 'False', 'RestaurantsP...   \n",
       "32605   {'ByAppointmentOnly': 'True', 'BusinessAccepts...   \n",
       "\n",
       "                                            categories  \\\n",
       "21415               Sandwiches, Fast Food, Restaurants   \n",
       "112967                     Bakeries, Restaurants, Food   \n",
       "32605   Health & Medical, Pediatric Dentists, Dentists   \n",
       "\n",
       "                                                    hours  \n",
       "21415   {'Monday': '0:0-0:0', 'Tuesday': '10:30-22:0',...  \n",
       "112967                                               None  \n",
       "32605   {'Monday': '8:0-17:0', 'Tuesday': '8:0-17:0', ...  "
      ]
     },
     "execution_count": 37,
     "metadata": {},
     "output_type": "execute_result"
    }
   ],
   "source": [
    "business_Yelp.sample(3)"
   ]
  },
  {
   "cell_type": "markdown",
   "metadata": {},
   "source": [
    "Dejar solo los negocios que sean del tipo Restaurantes."
   ]
  },
  {
   "cell_type": "code",
   "execution_count": 41,
   "metadata": {},
   "outputs": [],
   "source": [
    "#Generar una lista de categorías únicas:\n",
    "\n",
    "# Rellena los valores nulos con una cadena vacía\n",
    "business_Yelp['categories'].fillna('', inplace=True)\n",
    "\n",
    "# Dividir la columna \"categories\" en listas de categorías\n",
    "categories_lists = business_Yelp['categories'].str.split(', ')\n",
    "\n",
    "# Unir todas las listas en una única lista\n",
    "all_categories = [category for categories_list in categories_lists for category in categories_list]\n",
    "\n",
    "# Convertir el conjunto de nuevo en una lista si es necesario\n",
    "unique_categories = set(all_categories)\n",
    "unique_categories_list = list(unique_categories)"
   ]
  },
  {
   "cell_type": "code",
   "execution_count": 48,
   "metadata": {},
   "outputs": [
    {
     "name": "stdout",
     "output_type": "stream",
     "text": [
      "['Vegetarian', 'Pop-Up Restaurants', 'Restaurant Supplies', 'Restaurants']\n"
     ]
    }
   ],
   "source": [
    "#Con las categorías únicas y nuestra palabra clave, obtendremos similitud de categorías\n",
    "#Para asegurar seleccionar todos los restaurantes\n",
    "keyword = \"restaurant\"\n",
    "\n",
    "# Función para calcular la similitud entre la palabra clave y cada categoría\n",
    "def calcular_similitud(categoria, keyword):\n",
    "    return fuzz.ratio(keyword, categoria)\n",
    "\n",
    "# Calcular la similitud para cada categoría en la lista\n",
    "similitudes = [(categoria, calcular_similitud(categoria, keyword)) for categoria in unique_categories_list]\n",
    "\n",
    "# Filtrar categorías que tienen una similitud mayor que un umbral (por ejemplo, 70)\n",
    "umbral_similitud = 60  # Puedes ajustar este valor según tus necesidades\n",
    "categorias_similares = [categoria for categoria, similitud in similitudes if similitud >= umbral_similitud]\n",
    "\n",
    "# Ahora, categorias_similares contendrá las categorías similares a \"restaurants\"\n",
    "print(categorias_similares"
   ]
  },
  {
   "cell_type": "code",
   "execution_count": 11,
   "metadata": {},
   "outputs": [],
   "source": [
    "df_business_Yelp = business_Yelp\n",
    "# Primero, dividimos los valores de 'categories' en listas de strings\n",
    "df_business_Yelp['categories'] = df_business_Yelp['categories'].str.split(',')\n",
    "\n",
    "df_business_Yelp = df_business_Yelp.dropna(subset=['categories'])\n",
    "\n",
    "#Filtrar por categoría \"Restaurantes\"\n",
    "df_business_Yelp = df_business_Yelp[df_business_Yelp['categories'].apply(lambda categories: 'Restaurants' in categories)]\n",
    "\n",
    "# Unir los valores de la lista en categorías en un solo string separado por comas\n",
    "df_business_Yelp['categories'] = df_business_Yelp['categories'].apply(lambda x: ','.join(x))\n",
    "\n",
    "# Recetar el Indice\n",
    "df_business_Yelp.reset_index(inplace=True, drop=True)"
   ]
  },
  {
   "cell_type": "code",
   "execution_count": 49,
   "metadata": {},
   "outputs": [
    {
     "data": {
      "text/plain": [
       "(15290, 14)"
      ]
     },
     "execution_count": 49,
     "metadata": {},
     "output_type": "execute_result"
    }
   ],
   "source": [
    "df_business_Yelp.shape"
   ]
  },
  {
   "cell_type": "markdown",
   "metadata": {},
   "source": [
    "## DataSet Review"
   ]
  },
  {
   "cell_type": "code",
   "execution_count": 13,
   "metadata": {},
   "outputs": [],
   "source": [
    "# Ruta de la carpeta de datos de Google Maps\n",
    "yelp_folder = '/Users/alejandrobenjaminnunezguzman/Desktop/PROYECTO_FINAL_EQUIPO/Yelp'\n",
    "\n",
    "# Ruta de la subcarpeta \"metadata-sitios\"\n",
    "yelp_subfolder = os.path.join(yelp_folder, 'Reviews')"
   ]
  },
  {
   "cell_type": "code",
   "execution_count": 14,
   "metadata": {},
   "outputs": [],
   "source": [
    "reviews = []\n",
    "\n",
    "# Recorrer todos los archivos\n",
    "for archivo in os.listdir(yelp_subfolder):\n",
    "        # Ruta del archivo JSON actual\n",
    "        ruta_archivo = os.path.join(yelp_subfolder, archivo)\n",
    "\n",
    "        # Leer el contenido del archivo\n",
    "        with open(ruta_archivo) as f:\n",
    "            contenido_json = f.readlines()\n",
    "\n",
    "        # Cargar cada objeto JSON por separado\n",
    "        for linea in contenido_json:\n",
    "            try:\n",
    "                data = json.loads(linea)\n",
    "            except json.JSONDecodeError as e:\n",
    "                print(f\"Error al cargar el archivo JSON {ruta_archivo}: {e}\")\n",
    "                continue\n",
    "\n",
    "            reviews.append(data)\n",
    "\n",
    "# Convertir los resultados a un pandas DataFrame\n",
    "df_reviews = pd.DataFrame(reviews)"
   ]
  },
  {
   "cell_type": "code",
   "execution_count": 15,
   "metadata": {},
   "outputs": [
    {
     "data": {
      "text/plain": [
       "(6990280, 9)"
      ]
     },
     "execution_count": 15,
     "metadata": {},
     "output_type": "execute_result"
    }
   ],
   "source": [
    "df_reviews.shape"
   ]
  },
  {
   "cell_type": "markdown",
   "metadata": {},
   "source": [
    "Seleccionamos únicamente reviews de negocios del tipo: Restaurantes"
   ]
  },
  {
   "cell_type": "code",
   "execution_count": 17,
   "metadata": {},
   "outputs": [
    {
     "data": {
      "text/html": [
       "<div>\n",
       "<style scoped>\n",
       "    .dataframe tbody tr th:only-of-type {\n",
       "        vertical-align: middle;\n",
       "    }\n",
       "\n",
       "    .dataframe tbody tr th {\n",
       "        vertical-align: top;\n",
       "    }\n",
       "\n",
       "    .dataframe thead th {\n",
       "        text-align: right;\n",
       "    }\n",
       "</style>\n",
       "<table border=\"1\" class=\"dataframe\">\n",
       "  <thead>\n",
       "    <tr style=\"text-align: right;\">\n",
       "      <th></th>\n",
       "      <th>business_id</th>\n",
       "      <th>name</th>\n",
       "      <th>address</th>\n",
       "      <th>city</th>\n",
       "      <th>state</th>\n",
       "      <th>postal_code</th>\n",
       "      <th>latitude</th>\n",
       "      <th>longitude</th>\n",
       "      <th>stars</th>\n",
       "      <th>review_count</th>\n",
       "      <th>is_open</th>\n",
       "      <th>attributes</th>\n",
       "      <th>categories</th>\n",
       "      <th>hours</th>\n",
       "    </tr>\n",
       "  </thead>\n",
       "  <tbody>\n",
       "    <tr>\n",
       "      <th>5233</th>\n",
       "      <td>1lwulkAD5htni3rbHW8oeg</td>\n",
       "      <td>Subway</td>\n",
       "      <td>1940 Cliff Dr, Ste B-13</td>\n",
       "      <td>Santa Barbara</td>\n",
       "      <td>PA</td>\n",
       "      <td>93109</td>\n",
       "      <td>34.402151</td>\n",
       "      <td>-119.722548</td>\n",
       "      <td>3.0</td>\n",
       "      <td>11</td>\n",
       "      <td>1</td>\n",
       "      <td>{'RestaurantsPriceRange2': '1', 'RestaurantsGo...</td>\n",
       "      <td>Restaurants, Sandwiches, Salad, Fast Food</td>\n",
       "      <td>{'Monday': '9:0-22:30', 'Tuesday': '9:0-22:30'...</td>\n",
       "    </tr>\n",
       "    <tr>\n",
       "      <th>12298</th>\n",
       "      <td>8VhFYV-IZQuzWteF0qWqyg</td>\n",
       "      <td>Palermo's Pizza</td>\n",
       "      <td>509 S Broad St</td>\n",
       "      <td>Lansdale</td>\n",
       "      <td>TN</td>\n",
       "      <td>19446</td>\n",
       "      <td>40.235272</td>\n",
       "      <td>-75.288871</td>\n",
       "      <td>3.5</td>\n",
       "      <td>48</td>\n",
       "      <td>1</td>\n",
       "      <td>{'NoiseLevel': 'u'average'', 'RestaurantsPrice...</td>\n",
       "      <td>Restaurants, Pizza</td>\n",
       "      <td>None</td>\n",
       "    </tr>\n",
       "    <tr>\n",
       "      <th>11604</th>\n",
       "      <td>e89rn8LPjP5BtMpCewS-TQ</td>\n",
       "      <td>Al Basha</td>\n",
       "      <td>1045 Broad Ripple Ave</td>\n",
       "      <td>Indianapolis</td>\n",
       "      <td>MO</td>\n",
       "      <td>46220</td>\n",
       "      <td>39.869705</td>\n",
       "      <td>-86.140729</td>\n",
       "      <td>4.0</td>\n",
       "      <td>8</td>\n",
       "      <td>0</td>\n",
       "      <td>{'RestaurantsPriceRange2': '1', 'RestaurantsDe...</td>\n",
       "      <td>Restaurants, Mediterranean</td>\n",
       "      <td>None</td>\n",
       "    </tr>\n",
       "  </tbody>\n",
       "</table>\n",
       "</div>"
      ],
      "text/plain": [
       "                  business_id             name                  address  \\\n",
       "5233   1lwulkAD5htni3rbHW8oeg           Subway  1940 Cliff Dr, Ste B-13   \n",
       "12298  8VhFYV-IZQuzWteF0qWqyg  Palermo's Pizza           509 S Broad St   \n",
       "11604  e89rn8LPjP5BtMpCewS-TQ         Al Basha    1045 Broad Ripple Ave   \n",
       "\n",
       "                city state postal_code   latitude   longitude stars  \\\n",
       "5233   Santa Barbara    PA       93109  34.402151 -119.722548   3.0   \n",
       "12298       Lansdale    TN       19446  40.235272  -75.288871   3.5   \n",
       "11604   Indianapolis    MO       46220  39.869705  -86.140729   4.0   \n",
       "\n",
       "      review_count is_open                                         attributes  \\\n",
       "5233            11       1  {'RestaurantsPriceRange2': '1', 'RestaurantsGo...   \n",
       "12298           48       1  {'NoiseLevel': 'u'average'', 'RestaurantsPrice...   \n",
       "11604            8       0  {'RestaurantsPriceRange2': '1', 'RestaurantsDe...   \n",
       "\n",
       "                                      categories  \\\n",
       "5233   Restaurants, Sandwiches, Salad, Fast Food   \n",
       "12298                         Restaurants, Pizza   \n",
       "11604                 Restaurants, Mediterranean   \n",
       "\n",
       "                                                   hours  \n",
       "5233   {'Monday': '9:0-22:30', 'Tuesday': '9:0-22:30'...  \n",
       "12298                                               None  \n",
       "11604                                               None  "
      ]
     },
     "execution_count": 17,
     "metadata": {},
     "output_type": "execute_result"
    }
   ],
   "source": [
    "df_business_Yelp.sample(3)"
   ]
  },
  {
   "cell_type": "code",
   "execution_count": 18,
   "metadata": {},
   "outputs": [],
   "source": [
    "# Crear una lista de IDs a partir de df1\n",
    "lista_de_ids = df_business_Yelp['business_id'].tolist()\n",
    "\n",
    "# Filtrar df2 basándose en la lista de IDs de df1\n",
    "df_reviews_r = df_reviews[df_reviews['business_id'].isin(lista_de_ids)]"
   ]
  },
  {
   "cell_type": "code",
   "execution_count": 19,
   "metadata": {},
   "outputs": [
    {
     "data": {
      "text/plain": [
       "(1191794, 9)"
      ]
     },
     "execution_count": 19,
     "metadata": {},
     "output_type": "execute_result"
    }
   ],
   "source": [
    "df_reviews_r.shape"
   ]
  },
  {
   "cell_type": "markdown",
   "metadata": {},
   "source": [
    "USER: Data del usuario incluyendo referencias a otros usuarios amigos y a toda la metadata asociada al usuario."
   ]
  },
  {
   "cell_type": "code",
   "execution_count": 52,
   "metadata": {},
   "outputs": [],
   "source": [
    "archivo_parquet = \"../PROYECTO_FINAL_EQUIPO/Yelp/user-001.parquet\"\n",
    "\n",
    "# Abre el archivo Parquet y crea un DataFrame.\n",
    "\n",
    "df_user = pd.read_parquet(archivo_parquet)"
   ]
  },
  {
   "cell_type": "code",
   "execution_count": 53,
   "metadata": {},
   "outputs": [
    {
     "data": {
      "text/plain": [
       "(2105597, 22)"
      ]
     },
     "execution_count": 53,
     "metadata": {},
     "output_type": "execute_result"
    }
   ],
   "source": [
    "df_user.shape"
   ]
  },
  {
   "cell_type": "markdown",
   "metadata": {},
   "source": [
    "Filtrar usuarios que han reseñado restaurantes"
   ]
  },
  {
   "cell_type": "code",
   "execution_count": 70,
   "metadata": {},
   "outputs": [
    {
     "name": "stdout",
     "output_type": "stream",
     "text": [
      "(117700, 22)\n"
     ]
    }
   ],
   "source": [
    "#Analizar duplicados:\n",
    "duplicados = df_user[df_user['user_id'].duplicated()]\n",
    "print(duplicados.shape)\n",
    "# Ordena los registros duplicados por 'user_id'\n",
    "duplicados_ordenados = duplicados.sort_values(by='user_id')"
   ]
  },
  {
   "cell_type": "code",
   "execution_count": 72,
   "metadata": {},
   "outputs": [],
   "source": [
    "#Eliminar duplicados:\n",
    "df_user = df_user.drop_duplicates(subset='user_id') "
   ]
  },
  {
   "cell_type": "code",
   "execution_count": 73,
   "metadata": {},
   "outputs": [
    {
     "data": {
      "text/plain": [
       "(1987897, 22)"
      ]
     },
     "execution_count": 73,
     "metadata": {},
     "output_type": "execute_result"
    }
   ],
   "source": [
    "#Hay 1,987,897  de usuarios únicos\n",
    "df_user.shape"
   ]
  },
  {
   "cell_type": "code",
   "execution_count": 76,
   "metadata": {},
   "outputs": [
    {
     "data": {
      "text/html": [
       "<div>\n",
       "<style scoped>\n",
       "    .dataframe tbody tr th:only-of-type {\n",
       "        vertical-align: middle;\n",
       "    }\n",
       "\n",
       "    .dataframe tbody tr th {\n",
       "        vertical-align: top;\n",
       "    }\n",
       "\n",
       "    .dataframe thead th {\n",
       "        text-align: right;\n",
       "    }\n",
       "</style>\n",
       "<table border=\"1\" class=\"dataframe\">\n",
       "  <thead>\n",
       "    <tr style=\"text-align: right;\">\n",
       "      <th></th>\n",
       "      <th>user_id</th>\n",
       "      <th>name</th>\n",
       "      <th>review_count</th>\n",
       "      <th>yelping_since</th>\n",
       "      <th>useful</th>\n",
       "      <th>funny</th>\n",
       "      <th>cool</th>\n",
       "      <th>elite</th>\n",
       "      <th>friends</th>\n",
       "      <th>fans</th>\n",
       "      <th>...</th>\n",
       "      <th>compliment_more</th>\n",
       "      <th>compliment_profile</th>\n",
       "      <th>compliment_cute</th>\n",
       "      <th>compliment_list</th>\n",
       "      <th>compliment_note</th>\n",
       "      <th>compliment_plain</th>\n",
       "      <th>compliment_cool</th>\n",
       "      <th>compliment_funny</th>\n",
       "      <th>compliment_writer</th>\n",
       "      <th>compliment_photos</th>\n",
       "    </tr>\n",
       "  </thead>\n",
       "  <tbody>\n",
       "    <tr>\n",
       "      <th>0</th>\n",
       "      <td>qVc8ODYU5SZjKXVBgXdI7w</td>\n",
       "      <td>Walker</td>\n",
       "      <td>585</td>\n",
       "      <td>2007-01-25 16:47:26</td>\n",
       "      <td>7217</td>\n",
       "      <td>1259</td>\n",
       "      <td>5994</td>\n",
       "      <td>2007</td>\n",
       "      <td>NSCy54eWehBJyZdG2iE84w, pe42u7DcCH2QmI81NX-8qA...</td>\n",
       "      <td>267</td>\n",
       "      <td>...</td>\n",
       "      <td>65</td>\n",
       "      <td>55</td>\n",
       "      <td>56</td>\n",
       "      <td>18</td>\n",
       "      <td>232</td>\n",
       "      <td>844</td>\n",
       "      <td>467</td>\n",
       "      <td>467</td>\n",
       "      <td>239</td>\n",
       "      <td>180</td>\n",
       "    </tr>\n",
       "    <tr>\n",
       "      <th>1</th>\n",
       "      <td>j14WgRoU_-2ZE1aw1dXrJg</td>\n",
       "      <td>Daniel</td>\n",
       "      <td>4333</td>\n",
       "      <td>2009-01-25 04:35:42</td>\n",
       "      <td>43091</td>\n",
       "      <td>13066</td>\n",
       "      <td>27281</td>\n",
       "      <td>2009,2010,2011,2012,2013,2014,2015,2016,2017,2...</td>\n",
       "      <td>ueRPE0CX75ePGMqOFVj6IQ, 52oH4DrRvzzl8wh5UXyU0A...</td>\n",
       "      <td>3138</td>\n",
       "      <td>...</td>\n",
       "      <td>264</td>\n",
       "      <td>184</td>\n",
       "      <td>157</td>\n",
       "      <td>251</td>\n",
       "      <td>1847</td>\n",
       "      <td>7054</td>\n",
       "      <td>3131</td>\n",
       "      <td>3131</td>\n",
       "      <td>1521</td>\n",
       "      <td>1946</td>\n",
       "    </tr>\n",
       "    <tr>\n",
       "      <th>2</th>\n",
       "      <td>2WnXYQFK0hXEoTxPtV2zvg</td>\n",
       "      <td>Steph</td>\n",
       "      <td>665</td>\n",
       "      <td>2008-07-25 10:41:00</td>\n",
       "      <td>2086</td>\n",
       "      <td>1010</td>\n",
       "      <td>1003</td>\n",
       "      <td>2009,2010,2011,2012,2013</td>\n",
       "      <td>LuO3Bn4f3rlhyHIaNfTlnA, j9B4XdHUhDfTKVecyWQgyA...</td>\n",
       "      <td>52</td>\n",
       "      <td>...</td>\n",
       "      <td>13</td>\n",
       "      <td>10</td>\n",
       "      <td>17</td>\n",
       "      <td>3</td>\n",
       "      <td>66</td>\n",
       "      <td>96</td>\n",
       "      <td>119</td>\n",
       "      <td>119</td>\n",
       "      <td>35</td>\n",
       "      <td>18</td>\n",
       "    </tr>\n",
       "    <tr>\n",
       "      <th>3</th>\n",
       "      <td>SZDeASXq7o05mMNLshsdIA</td>\n",
       "      <td>Gwen</td>\n",
       "      <td>224</td>\n",
       "      <td>2005-11-29 04:38:33</td>\n",
       "      <td>512</td>\n",
       "      <td>330</td>\n",
       "      <td>299</td>\n",
       "      <td>2009,2010,2011</td>\n",
       "      <td>enx1vVPnfdNUdPho6PH_wg, 4wOcvMLtU6a9Lslggq74Vg...</td>\n",
       "      <td>28</td>\n",
       "      <td>...</td>\n",
       "      <td>4</td>\n",
       "      <td>1</td>\n",
       "      <td>6</td>\n",
       "      <td>2</td>\n",
       "      <td>12</td>\n",
       "      <td>16</td>\n",
       "      <td>26</td>\n",
       "      <td>26</td>\n",
       "      <td>10</td>\n",
       "      <td>9</td>\n",
       "    </tr>\n",
       "    <tr>\n",
       "      <th>4</th>\n",
       "      <td>hA5lMy-EnncsH4JoR-hFGQ</td>\n",
       "      <td>Karen</td>\n",
       "      <td>79</td>\n",
       "      <td>2007-01-05 19:40:59</td>\n",
       "      <td>29</td>\n",
       "      <td>15</td>\n",
       "      <td>7</td>\n",
       "      <td></td>\n",
       "      <td>PBK4q9KEEBHhFvSXCUirIw, 3FWPpM7KU1gXeOM_ZbYMbA...</td>\n",
       "      <td>1</td>\n",
       "      <td>...</td>\n",
       "      <td>1</td>\n",
       "      <td>0</td>\n",
       "      <td>0</td>\n",
       "      <td>0</td>\n",
       "      <td>1</td>\n",
       "      <td>1</td>\n",
       "      <td>0</td>\n",
       "      <td>0</td>\n",
       "      <td>0</td>\n",
       "      <td>0</td>\n",
       "    </tr>\n",
       "    <tr>\n",
       "      <th>...</th>\n",
       "      <td>...</td>\n",
       "      <td>...</td>\n",
       "      <td>...</td>\n",
       "      <td>...</td>\n",
       "      <td>...</td>\n",
       "      <td>...</td>\n",
       "      <td>...</td>\n",
       "      <td>...</td>\n",
       "      <td>...</td>\n",
       "      <td>...</td>\n",
       "      <td>...</td>\n",
       "      <td>...</td>\n",
       "      <td>...</td>\n",
       "      <td>...</td>\n",
       "      <td>...</td>\n",
       "      <td>...</td>\n",
       "      <td>...</td>\n",
       "      <td>...</td>\n",
       "      <td>...</td>\n",
       "      <td>...</td>\n",
       "      <td>...</td>\n",
       "    </tr>\n",
       "    <tr>\n",
       "      <th>1987892</th>\n",
       "      <td>fB3jbHi3m0L2KgGOxBv6uw</td>\n",
       "      <td>Jerrold</td>\n",
       "      <td>23</td>\n",
       "      <td>2015-01-06 00:31:31</td>\n",
       "      <td>7</td>\n",
       "      <td>0</td>\n",
       "      <td>0</td>\n",
       "      <td></td>\n",
       "      <td>None</td>\n",
       "      <td>0</td>\n",
       "      <td>...</td>\n",
       "      <td>0</td>\n",
       "      <td>0</td>\n",
       "      <td>0</td>\n",
       "      <td>0</td>\n",
       "      <td>0</td>\n",
       "      <td>0</td>\n",
       "      <td>0</td>\n",
       "      <td>0</td>\n",
       "      <td>0</td>\n",
       "      <td>0</td>\n",
       "    </tr>\n",
       "    <tr>\n",
       "      <th>1987893</th>\n",
       "      <td>68czcr4BxJyMQ9cJBm6C7Q</td>\n",
       "      <td>Jane</td>\n",
       "      <td>1</td>\n",
       "      <td>2016-06-14 07:20:52</td>\n",
       "      <td>0</td>\n",
       "      <td>0</td>\n",
       "      <td>0</td>\n",
       "      <td></td>\n",
       "      <td>None</td>\n",
       "      <td>0</td>\n",
       "      <td>...</td>\n",
       "      <td>0</td>\n",
       "      <td>0</td>\n",
       "      <td>0</td>\n",
       "      <td>0</td>\n",
       "      <td>0</td>\n",
       "      <td>0</td>\n",
       "      <td>0</td>\n",
       "      <td>0</td>\n",
       "      <td>0</td>\n",
       "      <td>0</td>\n",
       "    </tr>\n",
       "    <tr>\n",
       "      <th>1987894</th>\n",
       "      <td>1x3KMskYxOuJCjRz70xOqQ</td>\n",
       "      <td>Shomari</td>\n",
       "      <td>4</td>\n",
       "      <td>2017-02-04 15:31:58</td>\n",
       "      <td>1</td>\n",
       "      <td>1</td>\n",
       "      <td>0</td>\n",
       "      <td></td>\n",
       "      <td>None</td>\n",
       "      <td>0</td>\n",
       "      <td>...</td>\n",
       "      <td>0</td>\n",
       "      <td>0</td>\n",
       "      <td>0</td>\n",
       "      <td>0</td>\n",
       "      <td>0</td>\n",
       "      <td>0</td>\n",
       "      <td>0</td>\n",
       "      <td>0</td>\n",
       "      <td>0</td>\n",
       "      <td>0</td>\n",
       "    </tr>\n",
       "    <tr>\n",
       "      <th>1987895</th>\n",
       "      <td>ulfGl4tdbrH05xKzh5lnog</td>\n",
       "      <td>Susanne</td>\n",
       "      <td>2</td>\n",
       "      <td>2011-01-14 00:29:08</td>\n",
       "      <td>0</td>\n",
       "      <td>0</td>\n",
       "      <td>0</td>\n",
       "      <td></td>\n",
       "      <td>None</td>\n",
       "      <td>0</td>\n",
       "      <td>...</td>\n",
       "      <td>0</td>\n",
       "      <td>0</td>\n",
       "      <td>0</td>\n",
       "      <td>0</td>\n",
       "      <td>0</td>\n",
       "      <td>0</td>\n",
       "      <td>0</td>\n",
       "      <td>0</td>\n",
       "      <td>0</td>\n",
       "      <td>0</td>\n",
       "    </tr>\n",
       "    <tr>\n",
       "      <th>1987896</th>\n",
       "      <td>wL5jPrLRVCK_Pmo4lM1zpA</td>\n",
       "      <td>Isa</td>\n",
       "      <td>2</td>\n",
       "      <td>2020-12-19 02:32:39</td>\n",
       "      <td>0</td>\n",
       "      <td>0</td>\n",
       "      <td>0</td>\n",
       "      <td></td>\n",
       "      <td>None</td>\n",
       "      <td>0</td>\n",
       "      <td>...</td>\n",
       "      <td>0</td>\n",
       "      <td>0</td>\n",
       "      <td>0</td>\n",
       "      <td>0</td>\n",
       "      <td>0</td>\n",
       "      <td>0</td>\n",
       "      <td>0</td>\n",
       "      <td>0</td>\n",
       "      <td>0</td>\n",
       "      <td>0</td>\n",
       "    </tr>\n",
       "  </tbody>\n",
       "</table>\n",
       "<p>1987897 rows × 22 columns</p>\n",
       "</div>"
      ],
      "text/plain": [
       "                        user_id     name  review_count        yelping_since  \\\n",
       "0        qVc8ODYU5SZjKXVBgXdI7w   Walker           585  2007-01-25 16:47:26   \n",
       "1        j14WgRoU_-2ZE1aw1dXrJg   Daniel          4333  2009-01-25 04:35:42   \n",
       "2        2WnXYQFK0hXEoTxPtV2zvg    Steph           665  2008-07-25 10:41:00   \n",
       "3        SZDeASXq7o05mMNLshsdIA     Gwen           224  2005-11-29 04:38:33   \n",
       "4        hA5lMy-EnncsH4JoR-hFGQ    Karen            79  2007-01-05 19:40:59   \n",
       "...                         ...      ...           ...                  ...   \n",
       "1987892  fB3jbHi3m0L2KgGOxBv6uw  Jerrold            23  2015-01-06 00:31:31   \n",
       "1987893  68czcr4BxJyMQ9cJBm6C7Q     Jane             1  2016-06-14 07:20:52   \n",
       "1987894  1x3KMskYxOuJCjRz70xOqQ  Shomari             4  2017-02-04 15:31:58   \n",
       "1987895  ulfGl4tdbrH05xKzh5lnog  Susanne             2  2011-01-14 00:29:08   \n",
       "1987896  wL5jPrLRVCK_Pmo4lM1zpA      Isa             2  2020-12-19 02:32:39   \n",
       "\n",
       "         useful  funny   cool  \\\n",
       "0          7217   1259   5994   \n",
       "1         43091  13066  27281   \n",
       "2          2086   1010   1003   \n",
       "3           512    330    299   \n",
       "4            29     15      7   \n",
       "...         ...    ...    ...   \n",
       "1987892       7      0      0   \n",
       "1987893       0      0      0   \n",
       "1987894       1      1      0   \n",
       "1987895       0      0      0   \n",
       "1987896       0      0      0   \n",
       "\n",
       "                                                     elite  \\\n",
       "0                                                     2007   \n",
       "1        2009,2010,2011,2012,2013,2014,2015,2016,2017,2...   \n",
       "2                                 2009,2010,2011,2012,2013   \n",
       "3                                           2009,2010,2011   \n",
       "4                                                            \n",
       "...                                                    ...   \n",
       "1987892                                                      \n",
       "1987893                                                      \n",
       "1987894                                                      \n",
       "1987895                                                      \n",
       "1987896                                                      \n",
       "\n",
       "                                                   friends  fans  ...  \\\n",
       "0        NSCy54eWehBJyZdG2iE84w, pe42u7DcCH2QmI81NX-8qA...   267  ...   \n",
       "1        ueRPE0CX75ePGMqOFVj6IQ, 52oH4DrRvzzl8wh5UXyU0A...  3138  ...   \n",
       "2        LuO3Bn4f3rlhyHIaNfTlnA, j9B4XdHUhDfTKVecyWQgyA...    52  ...   \n",
       "3        enx1vVPnfdNUdPho6PH_wg, 4wOcvMLtU6a9Lslggq74Vg...    28  ...   \n",
       "4        PBK4q9KEEBHhFvSXCUirIw, 3FWPpM7KU1gXeOM_ZbYMbA...     1  ...   \n",
       "...                                                    ...   ...  ...   \n",
       "1987892                                               None     0  ...   \n",
       "1987893                                               None     0  ...   \n",
       "1987894                                               None     0  ...   \n",
       "1987895                                               None     0  ...   \n",
       "1987896                                               None     0  ...   \n",
       "\n",
       "         compliment_more  compliment_profile  compliment_cute  \\\n",
       "0                     65                  55               56   \n",
       "1                    264                 184              157   \n",
       "2                     13                  10               17   \n",
       "3                      4                   1                6   \n",
       "4                      1                   0                0   \n",
       "...                  ...                 ...              ...   \n",
       "1987892                0                   0                0   \n",
       "1987893                0                   0                0   \n",
       "1987894                0                   0                0   \n",
       "1987895                0                   0                0   \n",
       "1987896                0                   0                0   \n",
       "\n",
       "         compliment_list  compliment_note  compliment_plain  compliment_cool  \\\n",
       "0                     18              232               844              467   \n",
       "1                    251             1847              7054             3131   \n",
       "2                      3               66                96              119   \n",
       "3                      2               12                16               26   \n",
       "4                      0                1                 1                0   \n",
       "...                  ...              ...               ...              ...   \n",
       "1987892                0                0                 0                0   \n",
       "1987893                0                0                 0                0   \n",
       "1987894                0                0                 0                0   \n",
       "1987895                0                0                 0                0   \n",
       "1987896                0                0                 0                0   \n",
       "\n",
       "         compliment_funny  compliment_writer  compliment_photos  \n",
       "0                     467                239                180  \n",
       "1                    3131               1521               1946  \n",
       "2                     119                 35                 18  \n",
       "3                      26                 10                  9  \n",
       "4                       0                  0                  0  \n",
       "...                   ...                ...                ...  \n",
       "1987892                 0                  0                  0  \n",
       "1987893                 0                  0                  0  \n",
       "1987894                 0                  0                  0  \n",
       "1987895                 0                  0                  0  \n",
       "1987896                 0                  0                  0  \n",
       "\n",
       "[1987897 rows x 22 columns]"
      ]
     },
     "execution_count": 76,
     "metadata": {},
     "output_type": "execute_result"
    }
   ],
   "source": [
    "df_user"
   ]
  },
  {
   "cell_type": "code",
   "execution_count": 83,
   "metadata": {},
   "outputs": [],
   "source": [
    "#Ahora filtramos los usuarios únicamente que han echo alguna review\n",
    "# en  los restaurantes. \n",
    "lista_de_id = df_reviews_r['user_id'].tolist()\n",
    "\n",
    "# Filtrar basándose en la lista de IDs que aparecen en Restaurant \n",
    "df_user_review_r = df_user[df_user['user_id'].isin(lista_de_id)]"
   ]
  },
  {
   "cell_type": "code",
   "execution_count": 84,
   "metadata": {},
   "outputs": [
    {
     "data": {
      "text/plain": [
       "(589377, 22)"
      ]
     },
     "execution_count": 84,
     "metadata": {},
     "output_type": "execute_result"
    }
   ],
   "source": [
    "#Nos quedamos con 589,377 usuarios. \n",
    "df_user_review_r.shape"
   ]
  },
  {
   "cell_type": "markdown",
   "metadata": {},
   "source": [
    "### Tips (consejos) escritos por el usuario. \n",
    "Los tips son más cortas que las reseñas y tienden a dar sugerencias rápidas.\n"
   ]
  },
  {
   "cell_type": "code",
   "execution_count": 28,
   "metadata": {},
   "outputs": [],
   "source": [
    "ruta_archivo_json = \"/Users/alejandrobenjaminnunezguzman/Desktop/PROYECTO_FINAL_EQUIPO/Yelp/tip.json\"\n",
    "\n",
    "lista_objetos_json = []\n",
    "\n",
    "# Abre el archivo JSON y lee línea por línea\n",
    "with open(ruta_archivo_json, \"r\") as archivo_json:\n",
    "    for linea in archivo_json:\n",
    "        try:\n",
    "            # Intenta cargar la línea como un objeto JSON\n",
    "            objeto_json = json.loads(linea)\n",
    "            lista_objetos_json.append(objeto_json)\n",
    "        except json.JSONDecodeError as e:\n",
    "            print(f\"Error al cargar línea: {linea}\")\n",
    "            continue\n",
    "\n",
    "# Crea un DataFrame a partir de la lista de objetos JSON\n",
    "df_tip = pd.DataFrame(lista_objetos_json)"
   ]
  },
  {
   "cell_type": "code",
   "execution_count": 88,
   "metadata": {},
   "outputs": [
    {
     "data": {
      "text/plain": [
       "(908915, 5)"
      ]
     },
     "execution_count": 88,
     "metadata": {},
     "output_type": "execute_result"
    }
   ],
   "source": [
    "df_tip.shape"
   ]
  },
  {
   "cell_type": "code",
   "execution_count": 90,
   "metadata": {},
   "outputs": [
    {
     "data": {
      "text/html": [
       "<div>\n",
       "<style scoped>\n",
       "    .dataframe tbody tr th:only-of-type {\n",
       "        vertical-align: middle;\n",
       "    }\n",
       "\n",
       "    .dataframe tbody tr th {\n",
       "        vertical-align: top;\n",
       "    }\n",
       "\n",
       "    .dataframe thead th {\n",
       "        text-align: right;\n",
       "    }\n",
       "</style>\n",
       "<table border=\"1\" class=\"dataframe\">\n",
       "  <thead>\n",
       "    <tr style=\"text-align: right;\">\n",
       "      <th></th>\n",
       "      <th>user_id</th>\n",
       "      <th>business_id</th>\n",
       "      <th>text</th>\n",
       "      <th>date</th>\n",
       "      <th>compliment_count</th>\n",
       "    </tr>\n",
       "  </thead>\n",
       "  <tbody>\n",
       "    <tr>\n",
       "      <th>0</th>\n",
       "      <td>AGNUgVwnZUey3gcPCJ76iw</td>\n",
       "      <td>3uLgwr0qeCNMjKenHJwPGQ</td>\n",
       "      <td>Avengers time with the ladies.</td>\n",
       "      <td>2012-05-18 02:17:21</td>\n",
       "      <td>0</td>\n",
       "    </tr>\n",
       "    <tr>\n",
       "      <th>1</th>\n",
       "      <td>NBN4MgHP9D3cw--SnauTkA</td>\n",
       "      <td>QoezRbYQncpRqyrLH6Iqjg</td>\n",
       "      <td>They have lots of good deserts and tasty cuban...</td>\n",
       "      <td>2013-02-05 18:35:10</td>\n",
       "      <td>0</td>\n",
       "    </tr>\n",
       "    <tr>\n",
       "      <th>2</th>\n",
       "      <td>-copOvldyKh1qr-vzkDEvw</td>\n",
       "      <td>MYoRNLb5chwjQe3c_k37Gg</td>\n",
       "      <td>It's open even when you think it isn't</td>\n",
       "      <td>2013-08-18 00:56:08</td>\n",
       "      <td>0</td>\n",
       "    </tr>\n",
       "  </tbody>\n",
       "</table>\n",
       "</div>"
      ],
      "text/plain": [
       "                  user_id             business_id  \\\n",
       "0  AGNUgVwnZUey3gcPCJ76iw  3uLgwr0qeCNMjKenHJwPGQ   \n",
       "1  NBN4MgHP9D3cw--SnauTkA  QoezRbYQncpRqyrLH6Iqjg   \n",
       "2  -copOvldyKh1qr-vzkDEvw  MYoRNLb5chwjQe3c_k37Gg   \n",
       "\n",
       "                                                text                 date  \\\n",
       "0                     Avengers time with the ladies.  2012-05-18 02:17:21   \n",
       "1  They have lots of good deserts and tasty cuban...  2013-02-05 18:35:10   \n",
       "2             It's open even when you think it isn't  2013-08-18 00:56:08   \n",
       "\n",
       "   compliment_count  \n",
       "0                 0  \n",
       "1                 0  \n",
       "2                 0  "
      ]
     },
     "execution_count": 90,
     "metadata": {},
     "output_type": "execute_result"
    }
   ],
   "source": [
    "df_tip.head(3)"
   ]
  },
  {
   "cell_type": "code",
   "execution_count": 91,
   "metadata": {},
   "outputs": [],
   "source": [
    "#Ahora filtramos los usuarios que únicamente han dejado tips\n",
    "#en  los restaurantes. \n",
    "df_tip_r = df_tip[df_tip['user_id'].isin(lista_de_id)]"
   ]
  },
  {
   "cell_type": "code",
   "execution_count": 92,
   "metadata": {},
   "outputs": [
    {
     "data": {
      "text/plain": [
       "(640808, 5)"
      ]
     },
     "execution_count": 92,
     "metadata": {},
     "output_type": "execute_result"
    }
   ],
   "source": [
    "#Obtenemos 640,808 tips de diferentes usuarios\n",
    "df_tip_r.shape"
   ]
  }
 ],
 "metadata": {
  "kernelspec": {
   "display_name": "Python 3.8.3 64-bit",
   "language": "python",
   "name": "python3"
  },
  "language_info": {
   "codemirror_mode": {
    "name": "ipython",
    "version": 3
   },
   "file_extension": ".py",
   "mimetype": "text/x-python",
   "name": "python",
   "nbconvert_exporter": "python",
   "pygments_lexer": "ipython3",
   "version": "3.8.3"
  },
  "orig_nbformat": 4,
  "vscode": {
   "interpreter": {
    "hash": "aee8b7b246df8f9039afb4144a1f6fd8d2ca17a180786b69acc140d282b71a49"
   }
  }
 },
 "nbformat": 4,
 "nbformat_minor": 2
}
