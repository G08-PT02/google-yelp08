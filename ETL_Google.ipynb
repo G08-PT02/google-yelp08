{
 "cells": [
  {
   "cell_type": "code",
   "execution_count": 1,
   "metadata": {},
   "outputs": [],
   "source": [
    "import pandas as pd\n",
    "import json\n",
    "import os # Operaciones relacionadas con el sistema de archivos\n",
    "import datetime"
   ]
  },
  {
   "cell_type": "markdown",
   "metadata": {},
   "source": [
    "### Metadatos"
   ]
  },
  {
   "cell_type": "code",
   "execution_count": 2,
   "metadata": {},
   "outputs": [],
   "source": [
    "# Función para leer y filtrar los archivos JSON\n",
    "def filtrar_archivos_json(directorio, categoria_busqueda):\n",
    "    ''' Esta función, llamada filtrar_archivos_json, se encarga de buscar y filtrar \n",
    "        archivos JSON en un directorio específico en función de una categoría de búsqueda \n",
    "        proporcionada.   '''\n",
    "    resultados = []\n",
    "    for archivo in os.listdir(directorio):\n",
    "            ruta_archivo = os.path.join(directorio, archivo)\n",
    "\n",
    "            # Leer el contenido del archivo JSON\n",
    "            with open(ruta_archivo) as f:\n",
    "                archivo_json = f.readlines()\n",
    "\n",
    "            # Cargar archivo JSON linea por linea\n",
    "            for linea in archivo_json:\n",
    "                data = json.loads(linea)\n",
    "                # Verificar si la categoría buscada está presente en el archivo JSON\n",
    "                categorias = data.get(\"category\", [])\n",
    "                if isinstance(categorias, list) and any(categoria_busqueda.lower() in categoria.lower() for categoria in categorias):\n",
    "                    resultados.append(data)\n",
    "    return resultados\n"
   ]
  },
  {
   "cell_type": "code",
   "execution_count": 87,
   "metadata": {},
   "outputs": [],
   "source": [
    "# Filtrar los archivos JSON para la categoría \"restaurant\"\n",
    "restaurant = filtrar_archivos_json('../PROYECTO_FINAL_EQUIPO/Google/metadata-sitios', \"restaurant\")\n",
    "# Convertir los resultados a un pandas DataFrame\n",
    "df_restaurant = pd.DataFrame(restaurant)"
   ]
  },
  {
   "cell_type": "code",
   "execution_count": 88,
   "metadata": {},
   "outputs": [
    {
     "data": {
      "text/plain": [
       "(121637, 15)"
      ]
     },
     "execution_count": 88,
     "metadata": {},
     "output_type": "execute_result"
    }
   ],
   "source": [
    "df_restaurant.shape"
   ]
  },
  {
   "cell_type": "code",
   "execution_count": 89,
   "metadata": {},
   "outputs": [
    {
     "data": {
      "text/html": [
       "<div>\n",
       "<style scoped>\n",
       "    .dataframe tbody tr th:only-of-type {\n",
       "        vertical-align: middle;\n",
       "    }\n",
       "\n",
       "    .dataframe tbody tr th {\n",
       "        vertical-align: top;\n",
       "    }\n",
       "\n",
       "    .dataframe thead th {\n",
       "        text-align: right;\n",
       "    }\n",
       "</style>\n",
       "<table border=\"1\" class=\"dataframe\">\n",
       "  <thead>\n",
       "    <tr style=\"text-align: right;\">\n",
       "      <th></th>\n",
       "      <th>name</th>\n",
       "      <th>address</th>\n",
       "      <th>gmap_id</th>\n",
       "      <th>description</th>\n",
       "      <th>latitude</th>\n",
       "      <th>longitude</th>\n",
       "      <th>category</th>\n",
       "      <th>avg_rating</th>\n",
       "      <th>num_of_reviews</th>\n",
       "      <th>price</th>\n",
       "      <th>hours</th>\n",
       "      <th>MISC</th>\n",
       "      <th>state</th>\n",
       "      <th>relative_results</th>\n",
       "      <th>url</th>\n",
       "    </tr>\n",
       "  </thead>\n",
       "  <tbody>\n",
       "    <tr>\n",
       "      <th>0</th>\n",
       "      <td>Fresh Off The Truck</td>\n",
       "      <td>Fresh Off The Truck, Mueller Trailer Eatery, 4...</td>\n",
       "      <td>0x8644b5f995211beb:0x489b703481320404</td>\n",
       "      <td>Food truck located at Mueller Trailer Eats, se...</td>\n",
       "      <td>30.296518</td>\n",
       "      <td>-97.707304</td>\n",
       "      <td>[Caterer, Restaurant]</td>\n",
       "      <td>5.0</td>\n",
       "      <td>8</td>\n",
       "      <td>None</td>\n",
       "      <td>None</td>\n",
       "      <td>{'Service options': ['Delivery']}</td>\n",
       "      <td>None</td>\n",
       "      <td>[0x8644b5f3d971856f:0x3e04f8904bf2b2ee, 0x8644...</td>\n",
       "      <td>https://www.google.com/maps/place//data=!4m2!3...</td>\n",
       "    </tr>\n",
       "    <tr>\n",
       "      <th>1</th>\n",
       "      <td>Papa Joe's BBQ Co.</td>\n",
       "      <td>Papa Joe's BBQ Co., 24415 NE 10th Ave, Ridgefi...</td>\n",
       "      <td>0x5495aef37bce66d5:0xfcf97974639cd5dd</td>\n",
       "      <td>None</td>\n",
       "      <td>45.798254</td>\n",
       "      <td>-122.660751</td>\n",
       "      <td>[Restaurant]</td>\n",
       "      <td>4.6</td>\n",
       "      <td>14</td>\n",
       "      <td>None</td>\n",
       "      <td>[[Thursday, 12–7PM], [Friday, 12–7PM], [Saturd...</td>\n",
       "      <td>{'From the business': ['Identifies as women-le...</td>\n",
       "      <td>Permanently closed</td>\n",
       "      <td>[0x5495b2cea4d3a7f7:0xd788b88074f97be6, 0x5495...</td>\n",
       "      <td>https://www.google.com/maps/place//data=!4m2!3...</td>\n",
       "    </tr>\n",
       "    <tr>\n",
       "      <th>2</th>\n",
       "      <td>Eldric's Restaurant</td>\n",
       "      <td>Eldric's Restaurant, 401 W International Airpo...</td>\n",
       "      <td>0x56c89792537f15c7:0xff259d38a6f51288</td>\n",
       "      <td>None</td>\n",
       "      <td>61.173896</td>\n",
       "      <td>-149.891410</td>\n",
       "      <td>[Filipino restaurant]</td>\n",
       "      <td>4.5</td>\n",
       "      <td>98</td>\n",
       "      <td>$</td>\n",
       "      <td>[[Thursday, 11AM–7PM], [Friday, 11AM–7PM], [Sa...</td>\n",
       "      <td>{'Service options': ['Curbside pickup', 'Takeo...</td>\n",
       "      <td>Open ⋅ Closes 7PM</td>\n",
       "      <td>[0x56c897aa943ce3bd:0x6ba11eda584e11bf, 0x56c8...</td>\n",
       "      <td>https://www.google.com/maps/place//data=!4m2!3...</td>\n",
       "    </tr>\n",
       "  </tbody>\n",
       "</table>\n",
       "</div>"
      ],
      "text/plain": [
       "                  name                                            address  \\\n",
       "0  Fresh Off The Truck  Fresh Off The Truck, Mueller Trailer Eatery, 4...   \n",
       "1   Papa Joe's BBQ Co.  Papa Joe's BBQ Co., 24415 NE 10th Ave, Ridgefi...   \n",
       "2  Eldric's Restaurant  Eldric's Restaurant, 401 W International Airpo...   \n",
       "\n",
       "                                 gmap_id  \\\n",
       "0  0x8644b5f995211beb:0x489b703481320404   \n",
       "1  0x5495aef37bce66d5:0xfcf97974639cd5dd   \n",
       "2  0x56c89792537f15c7:0xff259d38a6f51288   \n",
       "\n",
       "                                         description   latitude   longitude  \\\n",
       "0  Food truck located at Mueller Trailer Eats, se...  30.296518  -97.707304   \n",
       "1                                               None  45.798254 -122.660751   \n",
       "2                                               None  61.173896 -149.891410   \n",
       "\n",
       "                category  avg_rating  num_of_reviews price  \\\n",
       "0  [Caterer, Restaurant]         5.0               8  None   \n",
       "1           [Restaurant]         4.6              14  None   \n",
       "2  [Filipino restaurant]         4.5              98     $   \n",
       "\n",
       "                                               hours  \\\n",
       "0                                               None   \n",
       "1  [[Thursday, 12–7PM], [Friday, 12–7PM], [Saturd...   \n",
       "2  [[Thursday, 11AM–7PM], [Friday, 11AM–7PM], [Sa...   \n",
       "\n",
       "                                                MISC               state  \\\n",
       "0                  {'Service options': ['Delivery']}                None   \n",
       "1  {'From the business': ['Identifies as women-le...  Permanently closed   \n",
       "2  {'Service options': ['Curbside pickup', 'Takeo...   Open ⋅ Closes 7PM   \n",
       "\n",
       "                                    relative_results  \\\n",
       "0  [0x8644b5f3d971856f:0x3e04f8904bf2b2ee, 0x8644...   \n",
       "1  [0x5495b2cea4d3a7f7:0xd788b88074f97be6, 0x5495...   \n",
       "2  [0x56c897aa943ce3bd:0x6ba11eda584e11bf, 0x56c8...   \n",
       "\n",
       "                                                 url  \n",
       "0  https://www.google.com/maps/place//data=!4m2!3...  \n",
       "1  https://www.google.com/maps/place//data=!4m2!3...  \n",
       "2  https://www.google.com/maps/place//data=!4m2!3...  "
      ]
     },
     "execution_count": 89,
     "metadata": {},
     "output_type": "execute_result"
    }
   ],
   "source": [
    "df_restaurant.head(3)"
   ]
  },
  {
   "cell_type": "code",
   "execution_count": 90,
   "metadata": {},
   "outputs": [
    {
     "data": {
      "text/plain": [
       "1061"
      ]
     },
     "execution_count": 90,
     "metadata": {},
     "output_type": "execute_result"
    }
   ],
   "source": [
    "#1061 restaurantes duplicados\n",
    "df_restaurant['gmap_id'].duplicated().sum()"
   ]
  },
  {
   "cell_type": "code",
   "execution_count": 91,
   "metadata": {},
   "outputs": [
    {
     "data": {
      "text/html": [
       "<div>\n",
       "<style scoped>\n",
       "    .dataframe tbody tr th:only-of-type {\n",
       "        vertical-align: middle;\n",
       "    }\n",
       "\n",
       "    .dataframe tbody tr th {\n",
       "        vertical-align: top;\n",
       "    }\n",
       "\n",
       "    .dataframe thead th {\n",
       "        text-align: right;\n",
       "    }\n",
       "</style>\n",
       "<table border=\"1\" class=\"dataframe\">\n",
       "  <thead>\n",
       "    <tr style=\"text-align: right;\">\n",
       "      <th></th>\n",
       "      <th>name</th>\n",
       "      <th>address</th>\n",
       "      <th>gmap_id</th>\n",
       "      <th>description</th>\n",
       "      <th>latitude</th>\n",
       "      <th>longitude</th>\n",
       "      <th>category</th>\n",
       "      <th>avg_rating</th>\n",
       "      <th>num_of_reviews</th>\n",
       "      <th>price</th>\n",
       "      <th>hours</th>\n",
       "      <th>MISC</th>\n",
       "      <th>state</th>\n",
       "      <th>relative_results</th>\n",
       "      <th>url</th>\n",
       "    </tr>\n",
       "  </thead>\n",
       "  <tbody>\n",
       "    <tr>\n",
       "      <th>36445</th>\n",
       "      <td>Bar 91</td>\n",
       "      <td>Bar 91, 400 Ave of the Champions, Palm Beach G...</td>\n",
       "      <td>0x146c6711a70d7991:0xe478335f760c8ccc</td>\n",
       "      <td>None</td>\n",
       "      <td>26.828991</td>\n",
       "      <td>-80.141201</td>\n",
       "      <td>[Bar &amp; grill, Bar, Restaurant, Sports bar]</td>\n",
       "      <td>3.9</td>\n",
       "      <td>8</td>\n",
       "      <td>None</td>\n",
       "      <td>[[Wednesday, 6:30AM–9PM], [Thursday, 6:30AM–9P...</td>\n",
       "      <td>{'Service options': ['Outdoor seating', 'Takeo...</td>\n",
       "      <td>Closed ⋅ Opens 6:30AM Thu</td>\n",
       "      <td>[0x88ded52e4b87e21d:0x773ff6613ec82a36, 0x88de...</td>\n",
       "      <td>https://www.google.com/maps/place//data=!4m2!3...</td>\n",
       "    </tr>\n",
       "    <tr>\n",
       "      <th>37506</th>\n",
       "      <td>Bar 91</td>\n",
       "      <td>Bar 91, 400 Ave of the Champions, Palm Beach G...</td>\n",
       "      <td>0x146c6711a70d7991:0xe478335f760c8ccc</td>\n",
       "      <td>None</td>\n",
       "      <td>26.828991</td>\n",
       "      <td>-80.141201</td>\n",
       "      <td>[Bar &amp; grill, Bar, Restaurant, Sports bar]</td>\n",
       "      <td>3.9</td>\n",
       "      <td>8</td>\n",
       "      <td>None</td>\n",
       "      <td>[[Wednesday, 6:30AM–9PM], [Thursday, 6:30AM–9P...</td>\n",
       "      <td>{'Service options': ['Outdoor seating', 'Takeo...</td>\n",
       "      <td>Closed ⋅ Opens 6:30AM Thu</td>\n",
       "      <td>[0x88ded52e4b87e21d:0x773ff6613ec82a36, 0x88de...</td>\n",
       "      <td>https://www.google.com/maps/place//data=!4m2!3...</td>\n",
       "    </tr>\n",
       "  </tbody>\n",
       "</table>\n",
       "</div>"
      ],
      "text/plain": [
       "         name                                            address  \\\n",
       "36445  Bar 91  Bar 91, 400 Ave of the Champions, Palm Beach G...   \n",
       "37506  Bar 91  Bar 91, 400 Ave of the Champions, Palm Beach G...   \n",
       "\n",
       "                                     gmap_id description   latitude  \\\n",
       "36445  0x146c6711a70d7991:0xe478335f760c8ccc        None  26.828991   \n",
       "37506  0x146c6711a70d7991:0xe478335f760c8ccc        None  26.828991   \n",
       "\n",
       "       longitude                                    category  avg_rating  \\\n",
       "36445 -80.141201  [Bar & grill, Bar, Restaurant, Sports bar]         3.9   \n",
       "37506 -80.141201  [Bar & grill, Bar, Restaurant, Sports bar]         3.9   \n",
       "\n",
       "       num_of_reviews price  \\\n",
       "36445               8  None   \n",
       "37506               8  None   \n",
       "\n",
       "                                                   hours  \\\n",
       "36445  [[Wednesday, 6:30AM–9PM], [Thursday, 6:30AM–9P...   \n",
       "37506  [[Wednesday, 6:30AM–9PM], [Thursday, 6:30AM–9P...   \n",
       "\n",
       "                                                    MISC  \\\n",
       "36445  {'Service options': ['Outdoor seating', 'Takeo...   \n",
       "37506  {'Service options': ['Outdoor seating', 'Takeo...   \n",
       "\n",
       "                           state  \\\n",
       "36445  Closed ⋅ Opens 6:30AM Thu   \n",
       "37506  Closed ⋅ Opens 6:30AM Thu   \n",
       "\n",
       "                                        relative_results  \\\n",
       "36445  [0x88ded52e4b87e21d:0x773ff6613ec82a36, 0x88de...   \n",
       "37506  [0x88ded52e4b87e21d:0x773ff6613ec82a36, 0x88de...   \n",
       "\n",
       "                                                     url  \n",
       "36445  https://www.google.com/maps/place//data=!4m2!3...  \n",
       "37506  https://www.google.com/maps/place//data=!4m2!3...  "
      ]
     },
     "execution_count": 91,
     "metadata": {},
     "output_type": "execute_result"
    }
   ],
   "source": [
    "#Revisión de restaurantes duplicados\n",
    "restaurantes_duplicados = df_restaurant[df_restaurant['gmap_id'].duplicated(keep=False)]\n",
    "# Ordena los restaurantes duplicados por gmap_id\n",
    "restaurantes_duplicados_ordenados = restaurantes_duplicados.sort_values(by='gmap_id')\n",
    "restaurantes_duplicados_ordenados.head(2)\n"
   ]
  },
  {
   "cell_type": "code",
   "execution_count": 92,
   "metadata": {},
   "outputs": [],
   "source": [
    "#Eliminar duplicados\n",
    "df_restaurant = df_restaurant.drop_duplicates(subset='gmap_id') "
   ]
  },
  {
   "cell_type": "code",
   "execution_count": 93,
   "metadata": {},
   "outputs": [
    {
     "data": {
      "text/plain": [
       "(120576, 15)"
      ]
     },
     "execution_count": 93,
     "metadata": {},
     "output_type": "execute_result"
    }
   ],
   "source": [
    "#Tenemos 120,575 restaurantes con 15 atributos, de los cuales es necesario cuales tienen\n",
    "#realmente reseñas para los futuros procesos de ML\n",
    "df_restaurant.shape"
   ]
  },
  {
   "cell_type": "markdown",
   "metadata": {},
   "source": [
    "### Reviews-estados\n",
    "\n",
    "Se hace la carga de las Reviews para obtener las que pertenezcan a los restaurantes\n",
    "y así mismo filtrar los restaurantes con Review. "
   ]
  },
  {
   "cell_type": "code",
   "execution_count": 11,
   "metadata": {},
   "outputs": [],
   "source": [
    "ruta_reviews_estados = \"../PROYECTO_FINAL_EQUIPO/Google/reviews-estados/\"\n",
    "rutas_subfolders = [f.path for f in os.scandir(ruta_reviews_estados) if f.is_dir()]"
   ]
  },
  {
   "cell_type": "code",
   "execution_count": 12,
   "metadata": {},
   "outputs": [],
   "source": [
    "def df_json(ruta_folder):\n",
    "    '''Unión de archivos en un DataFrame '''\n",
    "# Inicializa una lista para almacenar los objetos JSON de los archivos\n",
    "    data = []\n",
    "    \n",
    "    # Itera a través de los archivos en la carpeta especificada\n",
    "    for file_name in os.listdir(ruta_folder):\n",
    "        # Construye la ruta completa de cada archivo\n",
    "        file_path = os.path.join(ruta_folder, file_name)\n",
    "        # Abre el archivo en modo lectura ('r')\n",
    "        with open(file_path, 'r') as file:\n",
    "            # Itera a través de las líneas del archivo\n",
    "            for line in file:\n",
    "                # Elimina espacios en blanco al principio y al final de la línea\n",
    "                line = line.strip()\n",
    "                # Intenta cargar la línea como un objeto JSON\n",
    "                json_obj = json.loads(line)\n",
    "                    # Agrega el objeto JSON a la lista de datos\n",
    "                data.append(json_obj)\n",
    "\n",
    "    # Crea un DataFrame de pandas a partir de la lista de datos\n",
    "    df = pd.DataFrame(data)\n",
    "    \n",
    "    # Devuelve el DataFrame resultante\n",
    "    return df"
   ]
  },
  {
   "cell_type": "code",
   "execution_count": 13,
   "metadata": {},
   "outputs": [],
   "source": [
    "def df_json_general(subfolders):\n",
    "    # Inicializa una lista para almacenar DataFrames individuales\n",
    "    df_list = []\n",
    "    \n",
    "    # Itera a través de las subcarpetas especificadas\n",
    "    for subfolder in subfolders:\n",
    "        # Llama a la función read_json_files para procesar los archivos JSON en la subcarpeta\n",
    "        df = df_json(subfolder)\n",
    "        \n",
    "        # Agrega el DataFrame resultante a la lista\n",
    "        df_list.append(df)\n",
    "    \n",
    "    # Devuelve una lista de DataFrames, uno por cada subcarpeta\n",
    "    return df_list"
   ]
  },
  {
   "cell_type": "code",
   "execution_count": 122,
   "metadata": {},
   "outputs": [],
   "source": [
    "\n",
    "lista_df = df_json_general(rutas_subfolders)"
   ]
  },
  {
   "cell_type": "code",
   "execution_count": 123,
   "metadata": {},
   "outputs": [],
   "source": [
    "df_reviews = pd.concat(lista_df, ignore_index=True)"
   ]
  },
  {
   "cell_type": "code",
   "execution_count": 124,
   "metadata": {},
   "outputs": [
    {
     "data": {
      "text/plain": [
       "(8879925, 8)"
      ]
     },
     "execution_count": 124,
     "metadata": {},
     "output_type": "execute_result"
    }
   ],
   "source": [
    "df_reviews.shape"
   ]
  },
  {
   "cell_type": "code",
   "execution_count": 125,
   "metadata": {},
   "outputs": [
    {
     "data": {
      "text/html": [
       "<div>\n",
       "<style scoped>\n",
       "    .dataframe tbody tr th:only-of-type {\n",
       "        vertical-align: middle;\n",
       "    }\n",
       "\n",
       "    .dataframe tbody tr th {\n",
       "        vertical-align: top;\n",
       "    }\n",
       "\n",
       "    .dataframe thead th {\n",
       "        text-align: right;\n",
       "    }\n",
       "</style>\n",
       "<table border=\"1\" class=\"dataframe\">\n",
       "  <thead>\n",
       "    <tr style=\"text-align: right;\">\n",
       "      <th></th>\n",
       "      <th>user_id</th>\n",
       "      <th>name</th>\n",
       "      <th>time</th>\n",
       "      <th>rating</th>\n",
       "      <th>text</th>\n",
       "      <th>pics</th>\n",
       "      <th>resp</th>\n",
       "      <th>gmap_id</th>\n",
       "    </tr>\n",
       "  </thead>\n",
       "  <tbody>\n",
       "    <tr>\n",
       "      <th>6834552</th>\n",
       "      <td>117644209318792895049</td>\n",
       "      <td>Damian Montaño</td>\n",
       "      <td>1484520412090</td>\n",
       "      <td>5</td>\n",
       "      <td>None</td>\n",
       "      <td>None</td>\n",
       "      <td>None</td>\n",
       "      <td>0x89babc3ca5db1f21:0x29a8dbf0efec5c09</td>\n",
       "    </tr>\n",
       "    <tr>\n",
       "      <th>7299069</th>\n",
       "      <td>116736933972425145669</td>\n",
       "      <td>R Matt Branson</td>\n",
       "      <td>1613581748058</td>\n",
       "      <td>3</td>\n",
       "      <td>None</td>\n",
       "      <td>None</td>\n",
       "      <td>None</td>\n",
       "      <td>0x89b2d74f85c287ff:0x40e46d4d45d6bcf1</td>\n",
       "    </tr>\n",
       "    <tr>\n",
       "      <th>4969178</th>\n",
       "      <td>118432990171013081993</td>\n",
       "      <td>Darren Ursua</td>\n",
       "      <td>1554937978043</td>\n",
       "      <td>5</td>\n",
       "      <td>Fusion tacos but great stuff.</td>\n",
       "      <td>None</td>\n",
       "      <td>None</td>\n",
       "      <td>0x80c8c7f42091bb83:0xc023765e6e20deab</td>\n",
       "    </tr>\n",
       "  </tbody>\n",
       "</table>\n",
       "</div>"
      ],
      "text/plain": [
       "                       user_id            name           time  rating  \\\n",
       "6834552  117644209318792895049  Damian Montaño  1484520412090       5   \n",
       "7299069  116736933972425145669  R Matt Branson  1613581748058       3   \n",
       "4969178  118432990171013081993    Darren Ursua  1554937978043       5   \n",
       "\n",
       "                                  text  pics  resp  \\\n",
       "6834552                           None  None  None   \n",
       "7299069                           None  None  None   \n",
       "4969178  Fusion tacos but great stuff.  None  None   \n",
       "\n",
       "                                       gmap_id  \n",
       "6834552  0x89babc3ca5db1f21:0x29a8dbf0efec5c09  \n",
       "7299069  0x89b2d74f85c287ff:0x40e46d4d45d6bcf1  \n",
       "4969178  0x80c8c7f42091bb83:0xc023765e6e20deab  "
      ]
     },
     "execution_count": 125,
     "metadata": {},
     "output_type": "execute_result"
    }
   ],
   "source": [
    "df_reviews.sample(3)"
   ]
  },
  {
   "cell_type": "markdown",
   "metadata": {},
   "source": [
    "#### SELECCIÓN DE RESTAURANTES CON RESEÑAS"
   ]
  },
  {
   "cell_type": "code",
   "execution_count": 126,
   "metadata": {},
   "outputs": [],
   "source": [
    "#Obtenemos los establecimientos que tienen Reviews\n",
    "id_establecimientos_con_reviews = df_reviews[\"gmap_id\"].unique()"
   ]
  },
  {
   "cell_type": "code",
   "execution_count": 127,
   "metadata": {},
   "outputs": [
    {
     "data": {
      "text/plain": [
       "142234"
      ]
     },
     "execution_count": 127,
     "metadata": {},
     "output_type": "execute_result"
    }
   ],
   "source": [
    "#Se tienen 142,234 establecimientos únicos o que tienen una review\n",
    "id_establecimientos_con_reviews.shape[0]"
   ]
  },
  {
   "cell_type": "code",
   "execution_count": 128,
   "metadata": {},
   "outputs": [
    {
     "data": {
      "text/plain": [
       "(120576, 15)"
      ]
     },
     "execution_count": 128,
     "metadata": {},
     "output_type": "execute_result"
    }
   ],
   "source": [
    "df_restaurant.shape"
   ]
  },
  {
   "cell_type": "code",
   "execution_count": 129,
   "metadata": {},
   "outputs": [],
   "source": [
    "#Filtrar los restaurantes que tienen Reviews.\n",
    "df_restaurantes = df_restaurant[df_restaurant[\"gmap_id\"].isin(id_establecimientos_con_reviews)].reset_index(drop=True)"
   ]
  },
  {
   "cell_type": "code",
   "execution_count": 158,
   "metadata": {},
   "outputs": [
    {
     "data": {
      "text/plain": [
       "(3223, 15)"
      ]
     },
     "execution_count": 158,
     "metadata": {},
     "output_type": "execute_result"
    }
   ],
   "source": [
    "df_restaurantes.shape"
   ]
  },
  {
   "cell_type": "code",
   "execution_count": 162,
   "metadata": {},
   "outputs": [],
   "source": [
    "df_restaurantes.to_csv('Restaurantes_Google.csv',index=False)"
   ]
  },
  {
   "cell_type": "markdown",
   "metadata": {},
   "source": [
    "#### Filtrar reseñas de Restaurantes"
   ]
  },
  {
   "cell_type": "code",
   "execution_count": 138,
   "metadata": {},
   "outputs": [],
   "source": [
    "filtro=df_restaurantes['gmap_id'].unique()"
   ]
  },
  {
   "cell_type": "code",
   "execution_count": 140,
   "metadata": {},
   "outputs": [],
   "source": [
    "df_reviews_res = df_reviews[df_reviews[\"gmap_id\"].isin(filtro)]"
   ]
  },
  {
   "cell_type": "code",
   "execution_count": 143,
   "metadata": {},
   "outputs": [
    {
     "data": {
      "text/plain": [
       "(152797, 8)"
      ]
     },
     "execution_count": 143,
     "metadata": {},
     "output_type": "execute_result"
    }
   ],
   "source": [
    "df_reviews_res.shape"
   ]
  },
  {
   "cell_type": "code",
   "execution_count": 163,
   "metadata": {},
   "outputs": [],
   "source": [
    "df_reviews_res.to_csv('Restaurantes_Google_Reviews.csv',index=False)"
   ]
  },
  {
   "cell_type": "markdown",
   "metadata": {},
   "source": [
    "Revision"
   ]
  },
  {
   "cell_type": "code",
   "execution_count": 147,
   "metadata": {},
   "outputs": [
    {
     "data": {
      "text/html": [
       "<div>\n",
       "<style scoped>\n",
       "    .dataframe tbody tr th:only-of-type {\n",
       "        vertical-align: middle;\n",
       "    }\n",
       "\n",
       "    .dataframe tbody tr th {\n",
       "        vertical-align: top;\n",
       "    }\n",
       "\n",
       "    .dataframe thead th {\n",
       "        text-align: right;\n",
       "    }\n",
       "</style>\n",
       "<table border=\"1\" class=\"dataframe\">\n",
       "  <thead>\n",
       "    <tr style=\"text-align: right;\">\n",
       "      <th></th>\n",
       "      <th>user_id</th>\n",
       "      <th>name</th>\n",
       "      <th>time</th>\n",
       "      <th>rating</th>\n",
       "      <th>text</th>\n",
       "      <th>pics</th>\n",
       "      <th>resp</th>\n",
       "      <th>gmap_id</th>\n",
       "    </tr>\n",
       "  </thead>\n",
       "  <tbody>\n",
       "    <tr>\n",
       "      <th>2965873</th>\n",
       "      <td>105099992938275555206</td>\n",
       "      <td>R P</td>\n",
       "      <td>1562330140327</td>\n",
       "      <td>4</td>\n",
       "      <td>None</td>\n",
       "      <td>None</td>\n",
       "      <td>None</td>\n",
       "      <td>0x89e252dad6359927:0xe7c6ebeb64fba4a1</td>\n",
       "    </tr>\n",
       "    <tr>\n",
       "      <th>5379603</th>\n",
       "      <td>108473292045516936214</td>\n",
       "      <td>Or B.</td>\n",
       "      <td>1468092477040</td>\n",
       "      <td>5</td>\n",
       "      <td>None</td>\n",
       "      <td>None</td>\n",
       "      <td>None</td>\n",
       "      <td>0x80c8c0abbf3c0181:0xd5d4d30179b63405</td>\n",
       "    </tr>\n",
       "    <tr>\n",
       "      <th>2210438</th>\n",
       "      <td>104536943205250498382</td>\n",
       "      <td>Donna Wendler</td>\n",
       "      <td>1545620160217</td>\n",
       "      <td>1</td>\n",
       "      <td>Typical Mc D food.</td>\n",
       "      <td>None</td>\n",
       "      <td>None</td>\n",
       "      <td>0x88067b7dc59f6271:0x65b8c8bd7ce4f6da</td>\n",
       "    </tr>\n",
       "  </tbody>\n",
       "</table>\n",
       "</div>"
      ],
      "text/plain": [
       "                       user_id           name           time  rating  \\\n",
       "2965873  105099992938275555206            R P  1562330140327       4   \n",
       "5379603  108473292045516936214          Or B.  1468092477040       5   \n",
       "2210438  104536943205250498382  Donna Wendler  1545620160217       1   \n",
       "\n",
       "                       text  pics  resp                                gmap_id  \n",
       "2965873                None  None  None  0x89e252dad6359927:0xe7c6ebeb64fba4a1  \n",
       "5379603                None  None  None  0x80c8c0abbf3c0181:0xd5d4d30179b63405  \n",
       "2210438  Typical Mc D food.  None  None  0x88067b7dc59f6271:0x65b8c8bd7ce4f6da  "
      ]
     },
     "execution_count": 147,
     "metadata": {},
     "output_type": "execute_result"
    }
   ],
   "source": [
    "df_reviews_res.sample(3)"
   ]
  },
  {
   "cell_type": "code",
   "execution_count": 152,
   "metadata": {},
   "outputs": [
    {
     "data": {
      "text/html": [
       "<div>\n",
       "<style scoped>\n",
       "    .dataframe tbody tr th:only-of-type {\n",
       "        vertical-align: middle;\n",
       "    }\n",
       "\n",
       "    .dataframe tbody tr th {\n",
       "        vertical-align: top;\n",
       "    }\n",
       "\n",
       "    .dataframe thead th {\n",
       "        text-align: right;\n",
       "    }\n",
       "</style>\n",
       "<table border=\"1\" class=\"dataframe\">\n",
       "  <thead>\n",
       "    <tr style=\"text-align: right;\">\n",
       "      <th></th>\n",
       "      <th>name</th>\n",
       "      <th>address</th>\n",
       "      <th>gmap_id</th>\n",
       "      <th>description</th>\n",
       "      <th>latitude</th>\n",
       "      <th>longitude</th>\n",
       "      <th>category</th>\n",
       "      <th>avg_rating</th>\n",
       "      <th>num_of_reviews</th>\n",
       "      <th>price</th>\n",
       "      <th>hours</th>\n",
       "      <th>MISC</th>\n",
       "      <th>state</th>\n",
       "      <th>relative_results</th>\n",
       "      <th>url</th>\n",
       "    </tr>\n",
       "  </thead>\n",
       "  <tbody>\n",
       "    <tr>\n",
       "      <th>704</th>\n",
       "      <td>McDonald's</td>\n",
       "      <td>McDonald's, 111 E Tyranena Park Rd, Lake Mills...</td>\n",
       "      <td>0x88067b7dc59f6271:0x65b8c8bd7ce4f6da</td>\n",
       "      <td>Classic, long-running fast-food chain known fo...</td>\n",
       "      <td>43.090169</td>\n",
       "      <td>-88.908613</td>\n",
       "      <td>[Fast food restaurant, Breakfast restaurant, C...</td>\n",
       "      <td>3.5</td>\n",
       "      <td>598</td>\n",
       "      <td>$</td>\n",
       "      <td>[[Sunday, 4:30AM–11PM], [Monday, 4:30AM–11PM],...</td>\n",
       "      <td>{'Service options': ['Curbside pickup', 'Drive...</td>\n",
       "      <td>Open ⋅ Closes 11PM</td>\n",
       "      <td>[0x88067b7e4fdc361d:0xd4ab8f3c5eb8666a, 0x8806...</td>\n",
       "      <td>https://www.google.com/maps/place//data=!4m2!3...</td>\n",
       "    </tr>\n",
       "  </tbody>\n",
       "</table>\n",
       "</div>"
      ],
      "text/plain": [
       "           name                                            address  \\\n",
       "704  McDonald's  McDonald's, 111 E Tyranena Park Rd, Lake Mills...   \n",
       "\n",
       "                                   gmap_id  \\\n",
       "704  0x88067b7dc59f6271:0x65b8c8bd7ce4f6da   \n",
       "\n",
       "                                           description   latitude  longitude  \\\n",
       "704  Classic, long-running fast-food chain known fo...  43.090169 -88.908613   \n",
       "\n",
       "                                              category  avg_rating  \\\n",
       "704  [Fast food restaurant, Breakfast restaurant, C...         3.5   \n",
       "\n",
       "     num_of_reviews price                                              hours  \\\n",
       "704             598     $  [[Sunday, 4:30AM–11PM], [Monday, 4:30AM–11PM],...   \n",
       "\n",
       "                                                  MISC               state  \\\n",
       "704  {'Service options': ['Curbside pickup', 'Drive...  Open ⋅ Closes 11PM   \n",
       "\n",
       "                                      relative_results  \\\n",
       "704  [0x88067b7e4fdc361d:0xd4ab8f3c5eb8666a, 0x8806...   \n",
       "\n",
       "                                                   url  \n",
       "704  https://www.google.com/maps/place//data=!4m2!3...  "
      ]
     },
     "execution_count": 152,
     "metadata": {},
     "output_type": "execute_result"
    }
   ],
   "source": [
    "df_restaurantes[df_restaurantes['gmap_id']=='0x88067b7dc59f6271:0x65b8c8bd7ce4f6da']"
   ]
  },
  {
   "cell_type": "code",
   "execution_count": 153,
   "metadata": {},
   "outputs": [
    {
     "data": {
      "text/plain": [
       "(458, 8)"
      ]
     },
     "execution_count": 153,
     "metadata": {},
     "output_type": "execute_result"
    }
   ],
   "source": [
    "df_reviews_res[df_reviews_res['gmap_id']=='0x88067b7dc59f6271:0x65b8c8bd7ce4f6da'].shape"
   ]
  },
  {
   "cell_type": "code",
   "execution_count": 154,
   "metadata": {},
   "outputs": [
    {
     "data": {
      "text/html": [
       "<div>\n",
       "<style scoped>\n",
       "    .dataframe tbody tr th:only-of-type {\n",
       "        vertical-align: middle;\n",
       "    }\n",
       "\n",
       "    .dataframe tbody tr th {\n",
       "        vertical-align: top;\n",
       "    }\n",
       "\n",
       "    .dataframe thead th {\n",
       "        text-align: right;\n",
       "    }\n",
       "</style>\n",
       "<table border=\"1\" class=\"dataframe\">\n",
       "  <thead>\n",
       "    <tr style=\"text-align: right;\">\n",
       "      <th></th>\n",
       "      <th>user_id</th>\n",
       "      <th>name</th>\n",
       "      <th>time</th>\n",
       "      <th>rating</th>\n",
       "      <th>text</th>\n",
       "      <th>pics</th>\n",
       "      <th>resp</th>\n",
       "      <th>gmap_id</th>\n",
       "    </tr>\n",
       "  </thead>\n",
       "  <tbody>\n",
       "    <tr>\n",
       "      <th>7019651</th>\n",
       "      <td>111863426724828952386</td>\n",
       "      <td>Christina Tyree</td>\n",
       "      <td>1620952598570</td>\n",
       "      <td>5</td>\n",
       "      <td>None</td>\n",
       "      <td>None</td>\n",
       "      <td>None</td>\n",
       "      <td>0x89b13d433b8fe3ab:0xd2ca0857a62cbf06</td>\n",
       "    </tr>\n",
       "    <tr>\n",
       "      <th>1408184</th>\n",
       "      <td>113049193067944699398</td>\n",
       "      <td>David Stehman</td>\n",
       "      <td>1581205514561</td>\n",
       "      <td>5</td>\n",
       "      <td>Good food enjoy</td>\n",
       "      <td>None</td>\n",
       "      <td>None</td>\n",
       "      <td>0x883a722a5b4b8227:0x948406a7f9f4c469</td>\n",
       "    </tr>\n",
       "  </tbody>\n",
       "</table>\n",
       "</div>"
      ],
      "text/plain": [
       "                       user_id             name           time  rating  \\\n",
       "7019651  111863426724828952386  Christina Tyree  1620952598570       5   \n",
       "1408184  113049193067944699398    David Stehman  1581205514561       5   \n",
       "\n",
       "                    text  pics  resp                                gmap_id  \n",
       "7019651             None  None  None  0x89b13d433b8fe3ab:0xd2ca0857a62cbf06  \n",
       "1408184  Good food enjoy  None  None  0x883a722a5b4b8227:0x948406a7f9f4c469  "
      ]
     },
     "execution_count": 154,
     "metadata": {},
     "output_type": "execute_result"
    }
   ],
   "source": [
    "df_reviews_res.sample(2)"
   ]
  },
  {
   "cell_type": "markdown",
   "metadata": {},
   "source": [
    "''' '''\n"
   ]
  },
  {
   "cell_type": "code",
   "execution_count": 165,
   "metadata": {},
   "outputs": [
    {
     "data": {
      "text/plain": [
       "(152797, 8)"
      ]
     },
     "execution_count": 165,
     "metadata": {},
     "output_type": "execute_result"
    }
   ],
   "source": [
    "df_reviews_res.shape"
   ]
  }
 ],
 "metadata": {
  "kernelspec": {
   "display_name": "Python 3.8.3 64-bit",
   "language": "python",
   "name": "python3"
  },
  "language_info": {
   "codemirror_mode": {
    "name": "ipython",
    "version": 3
   },
   "file_extension": ".py",
   "mimetype": "text/x-python",
   "name": "python",
   "nbconvert_exporter": "python",
   "pygments_lexer": "ipython3",
   "version": "3.8.3"
  },
  "orig_nbformat": 4,
  "vscode": {
   "interpreter": {
    "hash": "aee8b7b246df8f9039afb4144a1f6fd8d2ca17a180786b69acc140d282b71a49"
   }
  }
 },
 "nbformat": 4,
 "nbformat_minor": 2
}
