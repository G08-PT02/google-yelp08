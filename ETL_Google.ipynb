{
 "cells": [
  {
   "cell_type": "code",
   "execution_count": 1,
   "metadata": {},
   "outputs": [],
   "source": [
    "import pandas as pd\n",
    "import json\n",
    "import os # Operaciones relacionadas con el sistema de archivos\n",
    "import datetime"
   ]
  },
  {
   "cell_type": "markdown",
   "metadata": {},
   "source": [
    "### Metadatos"
   ]
  },
  {
   "cell_type": "code",
   "execution_count": 2,
   "metadata": {},
   "outputs": [],
   "source": [
    "# Función para leer y filtrar los archivos JSON\n",
    "def filtrar_archivos_json(directorio, categoria_busqueda):\n",
    "    ''' Esta función, llamada filtrar_archivos_json, se encarga de buscar y filtrar \n",
    "        archivos JSON en un directorio específico en función de una categoría de búsqueda \n",
    "        proporcionada.   '''\n",
    "    resultados = []\n",
    "    for archivo in os.listdir(directorio):\n",
    "            ruta_archivo = os.path.join(directorio, archivo)\n",
    "\n",
    "            # Leer el contenido del archivo JSON\n",
    "            with open(ruta_archivo) as f:\n",
    "                archivo_json = f.readlines()\n",
    "\n",
    "            # Cargar archivo JSON linea por linea\n",
    "            for linea in archivo_json:\n",
    "                data = json.loads(linea)\n",
    "                # Verificar si la categoría buscada está presente en el archivo JSON\n",
    "                categorias = data.get(\"category\", [])\n",
    "                if isinstance(categorias, list) and any(categoria_busqueda.lower() in categoria.lower() for categoria in categorias):\n",
    "                    resultados.append(data)\n",
    "    return resultados\n"
   ]
  },
  {
   "cell_type": "code",
   "execution_count": 3,
   "metadata": {},
   "outputs": [],
   "source": [
    "# Filtrar los archivos JSON para la categoría \"restaurant\"\n",
    "restaurant = filtrar_archivos_json('../PROYECTO_FINAL_EQUIPO/Google/metadata-sitios', \"restaurant\")\n",
    "# Convertir los resultados a un pandas DataFrame\n",
    "df_restaurant = pd.DataFrame(restaurant)"
   ]
  },
  {
   "cell_type": "code",
   "execution_count": 4,
   "metadata": {},
   "outputs": [
    {
     "data": {
      "text/plain": [
       "(121637, 15)"
      ]
     },
     "execution_count": 4,
     "metadata": {},
     "output_type": "execute_result"
    }
   ],
   "source": [
    "df_restaurant.shape"
   ]
  },
  {
   "cell_type": "code",
   "execution_count": 5,
   "metadata": {},
   "outputs": [
    {
     "data": {
      "text/html": [
       "<div>\n",
       "<style scoped>\n",
       "    .dataframe tbody tr th:only-of-type {\n",
       "        vertical-align: middle;\n",
       "    }\n",
       "\n",
       "    .dataframe tbody tr th {\n",
       "        vertical-align: top;\n",
       "    }\n",
       "\n",
       "    .dataframe thead th {\n",
       "        text-align: right;\n",
       "    }\n",
       "</style>\n",
       "<table border=\"1\" class=\"dataframe\">\n",
       "  <thead>\n",
       "    <tr style=\"text-align: right;\">\n",
       "      <th></th>\n",
       "      <th>name</th>\n",
       "      <th>address</th>\n",
       "      <th>gmap_id</th>\n",
       "      <th>description</th>\n",
       "      <th>latitude</th>\n",
       "      <th>longitude</th>\n",
       "      <th>category</th>\n",
       "      <th>avg_rating</th>\n",
       "      <th>num_of_reviews</th>\n",
       "      <th>price</th>\n",
       "      <th>hours</th>\n",
       "      <th>MISC</th>\n",
       "      <th>state</th>\n",
       "      <th>relative_results</th>\n",
       "      <th>url</th>\n",
       "    </tr>\n",
       "  </thead>\n",
       "  <tbody>\n",
       "    <tr>\n",
       "      <th>54705</th>\n",
       "      <td>Smokey Joes Kosher BBQ</td>\n",
       "      <td>Smokey Joes Kosher BBQ, 494 Cedar Ln, Teaneck,...</td>\n",
       "      <td>0x89c2f0a5f0e15573:0xea2514f01b581e68</td>\n",
       "      <td>Airy eatery for wood-fired, pit-smoked, glatt ...</td>\n",
       "      <td>40.889484</td>\n",
       "      <td>-74.023518</td>\n",
       "      <td>[Barbecue restaurant, Kosher restaurant, Mexic...</td>\n",
       "      <td>3.3</td>\n",
       "      <td>38</td>\n",
       "      <td>$$</td>\n",
       "      <td>[[Saturday, Closed], [Sunday, 11:30AM–9:30PM],...</td>\n",
       "      <td>{'Service options': ['Delivery'], 'Planning': ...</td>\n",
       "      <td>Permanently closed</td>\n",
       "      <td>[0x89c2f1a70f55a4bd:0xae64b1ca30df3797, 0x89c2...</td>\n",
       "      <td>https://www.google.com/maps/place//data=!4m2!3...</td>\n",
       "    </tr>\n",
       "    <tr>\n",
       "      <th>53800</th>\n",
       "      <td>El Molina Rojo</td>\n",
       "      <td>El Molina Rojo, 1108 Caldwell Blvd, Nampa, ID ...</td>\n",
       "      <td>0x54ae4dbdb45af14f:0x65714064c2426892</td>\n",
       "      <td>None</td>\n",
       "      <td>43.600058</td>\n",
       "      <td>-116.594451</td>\n",
       "      <td>[Mexican restaurant]</td>\n",
       "      <td>5.0</td>\n",
       "      <td>2</td>\n",
       "      <td>None</td>\n",
       "      <td>None</td>\n",
       "      <td>{'Service options': ['Takeout', 'Dine-in', 'De...</td>\n",
       "      <td>None</td>\n",
       "      <td>None</td>\n",
       "      <td>https://www.google.com/maps/place//data=!4m2!3...</td>\n",
       "    </tr>\n",
       "  </tbody>\n",
       "</table>\n",
       "</div>"
      ],
      "text/plain": [
       "                         name  \\\n",
       "54705  Smokey Joes Kosher BBQ   \n",
       "53800          El Molina Rojo   \n",
       "\n",
       "                                                 address  \\\n",
       "54705  Smokey Joes Kosher BBQ, 494 Cedar Ln, Teaneck,...   \n",
       "53800  El Molina Rojo, 1108 Caldwell Blvd, Nampa, ID ...   \n",
       "\n",
       "                                     gmap_id  \\\n",
       "54705  0x89c2f0a5f0e15573:0xea2514f01b581e68   \n",
       "53800  0x54ae4dbdb45af14f:0x65714064c2426892   \n",
       "\n",
       "                                             description   latitude  \\\n",
       "54705  Airy eatery for wood-fired, pit-smoked, glatt ...  40.889484   \n",
       "53800                                               None  43.600058   \n",
       "\n",
       "        longitude                                           category  \\\n",
       "54705  -74.023518  [Barbecue restaurant, Kosher restaurant, Mexic...   \n",
       "53800 -116.594451                               [Mexican restaurant]   \n",
       "\n",
       "       avg_rating  num_of_reviews price  \\\n",
       "54705         3.3              38    $$   \n",
       "53800         5.0               2  None   \n",
       "\n",
       "                                                   hours  \\\n",
       "54705  [[Saturday, Closed], [Sunday, 11:30AM–9:30PM],...   \n",
       "53800                                               None   \n",
       "\n",
       "                                                    MISC               state  \\\n",
       "54705  {'Service options': ['Delivery'], 'Planning': ...  Permanently closed   \n",
       "53800  {'Service options': ['Takeout', 'Dine-in', 'De...                None   \n",
       "\n",
       "                                        relative_results  \\\n",
       "54705  [0x89c2f1a70f55a4bd:0xae64b1ca30df3797, 0x89c2...   \n",
       "53800                                               None   \n",
       "\n",
       "                                                     url  \n",
       "54705  https://www.google.com/maps/place//data=!4m2!3...  \n",
       "53800  https://www.google.com/maps/place//data=!4m2!3...  "
      ]
     },
     "execution_count": 5,
     "metadata": {},
     "output_type": "execute_result"
    }
   ],
   "source": [
    "df_restaurant.sample(2)"
   ]
  },
  {
   "cell_type": "code",
   "execution_count": 19,
   "metadata": {},
   "outputs": [
    {
     "data": {
      "text/plain": [
       "1061"
      ]
     },
     "execution_count": 19,
     "metadata": {},
     "output_type": "execute_result"
    }
   ],
   "source": [
    "#1061 restaurantes duplicados\n",
    "df_restaurant['gmap_id'].duplicated().sum()"
   ]
  },
  {
   "cell_type": "code",
   "execution_count": 20,
   "metadata": {},
   "outputs": [
    {
     "data": {
      "text/html": [
       "<div>\n",
       "<style scoped>\n",
       "    .dataframe tbody tr th:only-of-type {\n",
       "        vertical-align: middle;\n",
       "    }\n",
       "\n",
       "    .dataframe tbody tr th {\n",
       "        vertical-align: top;\n",
       "    }\n",
       "\n",
       "    .dataframe thead th {\n",
       "        text-align: right;\n",
       "    }\n",
       "</style>\n",
       "<table border=\"1\" class=\"dataframe\">\n",
       "  <thead>\n",
       "    <tr style=\"text-align: right;\">\n",
       "      <th></th>\n",
       "      <th>name</th>\n",
       "      <th>address</th>\n",
       "      <th>gmap_id</th>\n",
       "      <th>description</th>\n",
       "      <th>latitude</th>\n",
       "      <th>longitude</th>\n",
       "      <th>category</th>\n",
       "      <th>avg_rating</th>\n",
       "      <th>num_of_reviews</th>\n",
       "      <th>price</th>\n",
       "      <th>hours</th>\n",
       "      <th>MISC</th>\n",
       "      <th>state</th>\n",
       "      <th>relative_results</th>\n",
       "      <th>url</th>\n",
       "    </tr>\n",
       "  </thead>\n",
       "  <tbody>\n",
       "    <tr>\n",
       "      <th>36445</th>\n",
       "      <td>Bar 91</td>\n",
       "      <td>Bar 91, 400 Ave of the Champions, Palm Beach G...</td>\n",
       "      <td>0x146c6711a70d7991:0xe478335f760c8ccc</td>\n",
       "      <td>None</td>\n",
       "      <td>26.828991</td>\n",
       "      <td>-80.141201</td>\n",
       "      <td>[Bar &amp; grill, Bar, Restaurant, Sports bar]</td>\n",
       "      <td>3.9</td>\n",
       "      <td>8</td>\n",
       "      <td>None</td>\n",
       "      <td>[[Wednesday, 6:30AM–9PM], [Thursday, 6:30AM–9P...</td>\n",
       "      <td>{'Service options': ['Outdoor seating', 'Takeo...</td>\n",
       "      <td>Closed ⋅ Opens 6:30AM Thu</td>\n",
       "      <td>[0x88ded52e4b87e21d:0x773ff6613ec82a36, 0x88de...</td>\n",
       "      <td>https://www.google.com/maps/place//data=!4m2!3...</td>\n",
       "    </tr>\n",
       "    <tr>\n",
       "      <th>37506</th>\n",
       "      <td>Bar 91</td>\n",
       "      <td>Bar 91, 400 Ave of the Champions, Palm Beach G...</td>\n",
       "      <td>0x146c6711a70d7991:0xe478335f760c8ccc</td>\n",
       "      <td>None</td>\n",
       "      <td>26.828991</td>\n",
       "      <td>-80.141201</td>\n",
       "      <td>[Bar &amp; grill, Bar, Restaurant, Sports bar]</td>\n",
       "      <td>3.9</td>\n",
       "      <td>8</td>\n",
       "      <td>None</td>\n",
       "      <td>[[Wednesday, 6:30AM–9PM], [Thursday, 6:30AM–9P...</td>\n",
       "      <td>{'Service options': ['Outdoor seating', 'Takeo...</td>\n",
       "      <td>Closed ⋅ Opens 6:30AM Thu</td>\n",
       "      <td>[0x88ded52e4b87e21d:0x773ff6613ec82a36, 0x88de...</td>\n",
       "      <td>https://www.google.com/maps/place//data=!4m2!3...</td>\n",
       "    </tr>\n",
       "  </tbody>\n",
       "</table>\n",
       "</div>"
      ],
      "text/plain": [
       "         name                                            address  \\\n",
       "36445  Bar 91  Bar 91, 400 Ave of the Champions, Palm Beach G...   \n",
       "37506  Bar 91  Bar 91, 400 Ave of the Champions, Palm Beach G...   \n",
       "\n",
       "                                     gmap_id description   latitude  \\\n",
       "36445  0x146c6711a70d7991:0xe478335f760c8ccc        None  26.828991   \n",
       "37506  0x146c6711a70d7991:0xe478335f760c8ccc        None  26.828991   \n",
       "\n",
       "       longitude                                    category  avg_rating  \\\n",
       "36445 -80.141201  [Bar & grill, Bar, Restaurant, Sports bar]         3.9   \n",
       "37506 -80.141201  [Bar & grill, Bar, Restaurant, Sports bar]         3.9   \n",
       "\n",
       "       num_of_reviews price  \\\n",
       "36445               8  None   \n",
       "37506               8  None   \n",
       "\n",
       "                                                   hours  \\\n",
       "36445  [[Wednesday, 6:30AM–9PM], [Thursday, 6:30AM–9P...   \n",
       "37506  [[Wednesday, 6:30AM–9PM], [Thursday, 6:30AM–9P...   \n",
       "\n",
       "                                                    MISC  \\\n",
       "36445  {'Service options': ['Outdoor seating', 'Takeo...   \n",
       "37506  {'Service options': ['Outdoor seating', 'Takeo...   \n",
       "\n",
       "                           state  \\\n",
       "36445  Closed ⋅ Opens 6:30AM Thu   \n",
       "37506  Closed ⋅ Opens 6:30AM Thu   \n",
       "\n",
       "                                        relative_results  \\\n",
       "36445  [0x88ded52e4b87e21d:0x773ff6613ec82a36, 0x88de...   \n",
       "37506  [0x88ded52e4b87e21d:0x773ff6613ec82a36, 0x88de...   \n",
       "\n",
       "                                                     url  \n",
       "36445  https://www.google.com/maps/place//data=!4m2!3...  \n",
       "37506  https://www.google.com/maps/place//data=!4m2!3...  "
      ]
     },
     "execution_count": 20,
     "metadata": {},
     "output_type": "execute_result"
    }
   ],
   "source": [
    "#Revisión de restaurantes duplicados\n",
    "restaurantes_duplicados = df_restaurant[df_restaurant['gmap_id'].duplicated(keep=False)]\n",
    "# Ordena los restaurantes duplicados por gmap_id\n",
    "restaurantes_duplicados_ordenados = restaurantes_duplicados.sort_values(by='gmap_id')\n",
    "restaurantes_duplicados_ordenados.head(2)\n"
   ]
  },
  {
   "cell_type": "code",
   "execution_count": 21,
   "metadata": {},
   "outputs": [],
   "source": [
    "#Eliminar duplicados\n",
    "df_restaurant = df_restaurant.drop_duplicates(subset='gmap_id') "
   ]
  },
  {
   "cell_type": "code",
   "execution_count": 22,
   "metadata": {},
   "outputs": [
    {
     "data": {
      "text/plain": [
       "(120576, 15)"
      ]
     },
     "execution_count": 22,
     "metadata": {},
     "output_type": "execute_result"
    }
   ],
   "source": [
    "#Finalmente tenemos 120,575 restaurantes con 15 atributos.\n",
    "df_restaurant.shape"
   ]
  },
  {
   "cell_type": "markdown",
   "metadata": {},
   "source": [
    "#### Reviews-estados"
   ]
  },
  {
   "cell_type": "code",
   "execution_count": 87,
   "metadata": {},
   "outputs": [],
   "source": [
    "ruta_reviews_estados = \"../PROYECTO_FINAL_EQUIPO/Google/reviews-estados/\"\n",
    "rutas_subfolders = [f.path for f in os.scandir(ruta_reviews_estados) if f.is_dir()]"
   ]
  },
  {
   "cell_type": "code",
   "execution_count": 88,
   "metadata": {},
   "outputs": [],
   "source": [
    "def df_json(ruta_folder):\n",
    "    '''Unión de archivos en un DataFrame '''\n",
    "# Inicializa una lista para almacenar los objetos JSON de los archivos\n",
    "    data = []\n",
    "    \n",
    "    # Itera a través de los archivos en la carpeta especificada\n",
    "    for file_name in os.listdir(ruta_folder):\n",
    "        # Construye la ruta completa de cada archivo\n",
    "        file_path = os.path.join(ruta_folder, file_name)\n",
    "        # Abre el archivo en modo lectura ('r')\n",
    "        with open(file_path, 'r') as file:\n",
    "            # Itera a través de las líneas del archivo\n",
    "            for line in file:\n",
    "                # Elimina espacios en blanco al principio y al final de la línea\n",
    "                line = line.strip()\n",
    "                # Intenta cargar la línea como un objeto JSON\n",
    "                json_obj = json.loads(line)\n",
    "                    # Agrega el objeto JSON a la lista de datos\n",
    "                data.append(json_obj)\n",
    "\n",
    "    # Crea un DataFrame de pandas a partir de la lista de datos\n",
    "    df = pd.DataFrame(data)\n",
    "    \n",
    "    # Devuelve el DataFrame resultante\n",
    "    return df"
   ]
  },
  {
   "cell_type": "code",
   "execution_count": 89,
   "metadata": {},
   "outputs": [],
   "source": [
    "def df_json_general(subfolders):\n",
    "    # Inicializa una lista para almacenar DataFrames individuales\n",
    "    df_list = []\n",
    "    \n",
    "    # Itera a través de las subcarpetas especificadas\n",
    "    for subfolder in subfolders:\n",
    "        # Llama a la función read_json_files para procesar los archivos JSON en la subcarpeta\n",
    "        df = df_json(subfolder)\n",
    "        \n",
    "        # Agrega el DataFrame resultante a la lista\n",
    "        df_list.append(df)\n",
    "    \n",
    "    # Devuelve una lista de DataFrames, uno por cada subcarpeta\n",
    "    return df_list"
   ]
  },
  {
   "cell_type": "code",
   "execution_count": 90,
   "metadata": {},
   "outputs": [],
   "source": [
    "\n",
    "lista_df = df_json_general(rutas_subfolders)"
   ]
  },
  {
   "cell_type": "code",
   "execution_count": 91,
   "metadata": {},
   "outputs": [],
   "source": [
    "df_reviews_res = pd.concat(lista_df, ignore_index=True)"
   ]
  },
  {
   "cell_type": "code",
   "execution_count": 92,
   "metadata": {},
   "outputs": [
    {
     "data": {
      "text/plain": [
       "(8879925, 8)"
      ]
     },
     "execution_count": 92,
     "metadata": {},
     "output_type": "execute_result"
    }
   ],
   "source": [
    "df_reviews_res.shape"
   ]
  },
  {
   "cell_type": "markdown",
   "metadata": {},
   "source": [
    "Nos quedamos únicamente con las Reviews de Restaurantes. "
   ]
  },
  {
   "cell_type": "code",
   "execution_count": 93,
   "metadata": {},
   "outputs": [],
   "source": [
    "df_Restaurantes_Review = pd.merge(df_reviews_res, df_restaurant, on=[\"gmap_id\"])"
   ]
  },
  {
   "cell_type": "code",
   "execution_count": 94,
   "metadata": {},
   "outputs": [
    {
     "data": {
      "text/plain": [
       "(152797, 22)"
      ]
     },
     "execution_count": 94,
     "metadata": {},
     "output_type": "execute_result"
    }
   ],
   "source": [
    "#Finalmente tenemos 152,797 Reviews entre nuestros restaurantes para Google.\n",
    "\n",
    "df_Restaurantes_Review.shape"
   ]
  },
  {
   "cell_type": "code",
   "execution_count": 95,
   "metadata": {},
   "outputs": [
    {
     "data": {
      "text/html": [
       "<div>\n",
       "<style scoped>\n",
       "    .dataframe tbody tr th:only-of-type {\n",
       "        vertical-align: middle;\n",
       "    }\n",
       "\n",
       "    .dataframe tbody tr th {\n",
       "        vertical-align: top;\n",
       "    }\n",
       "\n",
       "    .dataframe thead th {\n",
       "        text-align: right;\n",
       "    }\n",
       "</style>\n",
       "<table border=\"1\" class=\"dataframe\">\n",
       "  <thead>\n",
       "    <tr style=\"text-align: right;\">\n",
       "      <th></th>\n",
       "      <th>user_id</th>\n",
       "      <th>name_x</th>\n",
       "      <th>time</th>\n",
       "      <th>rating</th>\n",
       "      <th>text</th>\n",
       "      <th>pics</th>\n",
       "      <th>resp</th>\n",
       "      <th>gmap_id</th>\n",
       "      <th>name_y</th>\n",
       "      <th>address</th>\n",
       "      <th>...</th>\n",
       "      <th>longitude</th>\n",
       "      <th>category</th>\n",
       "      <th>avg_rating</th>\n",
       "      <th>num_of_reviews</th>\n",
       "      <th>price</th>\n",
       "      <th>hours</th>\n",
       "      <th>MISC</th>\n",
       "      <th>state</th>\n",
       "      <th>relative_results</th>\n",
       "      <th>url</th>\n",
       "    </tr>\n",
       "  </thead>\n",
       "  <tbody>\n",
       "    <tr>\n",
       "      <th>0</th>\n",
       "      <td>104959831058524862747</td>\n",
       "      <td>Samuel Benson</td>\n",
       "      <td>1630018420109</td>\n",
       "      <td>4</td>\n",
       "      <td>A pretty seamless experience from top to botto...</td>\n",
       "      <td>None</td>\n",
       "      <td>None</td>\n",
       "      <td>0x874d9bf9d1db7c85:0xf1c3706a2b497a3</td>\n",
       "      <td>Wingstop</td>\n",
       "      <td>Wingstop, 2275 N University Pkwy, Provo, UT 84604</td>\n",
       "      <td>...</td>\n",
       "      <td>-111.669659</td>\n",
       "      <td>[Chicken wings restaurant]</td>\n",
       "      <td>4.0</td>\n",
       "      <td>17</td>\n",
       "      <td>None</td>\n",
       "      <td>[[Wednesday, 11AM–12AM], [Thursday, 11AM–12AM]...</td>\n",
       "      <td>{'Service options': ['Delivery', 'Takeout', 'D...</td>\n",
       "      <td>Open ⋅ Closes 12AM</td>\n",
       "      <td>None</td>\n",
       "      <td>https://www.google.com/maps/place//data=!4m2!3...</td>\n",
       "    </tr>\n",
       "    <tr>\n",
       "      <th>1</th>\n",
       "      <td>100925653611153628883</td>\n",
       "      <td>Emily Probst</td>\n",
       "      <td>1629223016683</td>\n",
       "      <td>5</td>\n",
       "      <td>Great food and great service! Being so close t...</td>\n",
       "      <td>None</td>\n",
       "      <td>None</td>\n",
       "      <td>0x874d9bf9d1db7c85:0xf1c3706a2b497a3</td>\n",
       "      <td>Wingstop</td>\n",
       "      <td>Wingstop, 2275 N University Pkwy, Provo, UT 84604</td>\n",
       "      <td>...</td>\n",
       "      <td>-111.669659</td>\n",
       "      <td>[Chicken wings restaurant]</td>\n",
       "      <td>4.0</td>\n",
       "      <td>17</td>\n",
       "      <td>None</td>\n",
       "      <td>[[Wednesday, 11AM–12AM], [Thursday, 11AM–12AM]...</td>\n",
       "      <td>{'Service options': ['Delivery', 'Takeout', 'D...</td>\n",
       "      <td>Open ⋅ Closes 12AM</td>\n",
       "      <td>None</td>\n",
       "      <td>https://www.google.com/maps/place//data=!4m2!3...</td>\n",
       "    </tr>\n",
       "  </tbody>\n",
       "</table>\n",
       "<p>2 rows × 22 columns</p>\n",
       "</div>"
      ],
      "text/plain": [
       "                 user_id         name_x           time  rating  \\\n",
       "0  104959831058524862747  Samuel Benson  1630018420109       4   \n",
       "1  100925653611153628883   Emily Probst  1629223016683       5   \n",
       "\n",
       "                                                text  pics  resp  \\\n",
       "0  A pretty seamless experience from top to botto...  None  None   \n",
       "1  Great food and great service! Being so close t...  None  None   \n",
       "\n",
       "                                gmap_id    name_y  \\\n",
       "0  0x874d9bf9d1db7c85:0xf1c3706a2b497a3  Wingstop   \n",
       "1  0x874d9bf9d1db7c85:0xf1c3706a2b497a3  Wingstop   \n",
       "\n",
       "                                             address  ...   longitude  \\\n",
       "0  Wingstop, 2275 N University Pkwy, Provo, UT 84604  ... -111.669659   \n",
       "1  Wingstop, 2275 N University Pkwy, Provo, UT 84604  ... -111.669659   \n",
       "\n",
       "                     category  avg_rating num_of_reviews  price  \\\n",
       "0  [Chicken wings restaurant]         4.0             17   None   \n",
       "1  [Chicken wings restaurant]         4.0             17   None   \n",
       "\n",
       "                                               hours  \\\n",
       "0  [[Wednesday, 11AM–12AM], [Thursday, 11AM–12AM]...   \n",
       "1  [[Wednesday, 11AM–12AM], [Thursday, 11AM–12AM]...   \n",
       "\n",
       "                                                MISC               state  \\\n",
       "0  {'Service options': ['Delivery', 'Takeout', 'D...  Open ⋅ Closes 12AM   \n",
       "1  {'Service options': ['Delivery', 'Takeout', 'D...  Open ⋅ Closes 12AM   \n",
       "\n",
       "  relative_results                                                url  \n",
       "0             None  https://www.google.com/maps/place//data=!4m2!3...  \n",
       "1             None  https://www.google.com/maps/place//data=!4m2!3...  \n",
       "\n",
       "[2 rows x 22 columns]"
      ]
     },
     "execution_count": 95,
     "metadata": {},
     "output_type": "execute_result"
    }
   ],
   "source": [
    "df_Restaurantes_Review.head(2)"
   ]
  },
  {
   "cell_type": "code",
   "execution_count": 96,
   "metadata": {},
   "outputs": [
    {
     "name": "stdout",
     "output_type": "stream",
     "text": [
      "<class 'pandas.core.frame.DataFrame'>\n",
      "Int64Index: 152797 entries, 0 to 152796\n",
      "Data columns (total 22 columns):\n",
      " #   Column            Non-Null Count   Dtype  \n",
      "---  ------            --------------   -----  \n",
      " 0   user_id           152797 non-null  object \n",
      " 1   name_x            152797 non-null  object \n",
      " 2   time              152797 non-null  int64  \n",
      " 3   rating            152797 non-null  int64  \n",
      " 4   text              95476 non-null   object \n",
      " 5   pics              5970 non-null    object \n",
      " 6   resp              18174 non-null   object \n",
      " 7   gmap_id           152797 non-null  object \n",
      " 8   name_y            152797 non-null  object \n",
      " 9   address           152726 non-null  object \n",
      " 10  description       81106 non-null   object \n",
      " 11  latitude          152797 non-null  float64\n",
      " 12  longitude         152797 non-null  float64\n",
      " 13  category          152797 non-null  object \n",
      " 14  avg_rating        152797 non-null  float64\n",
      " 15  num_of_reviews    152797 non-null  int64  \n",
      " 16  price             109307 non-null  object \n",
      " 17  hours             145846 non-null  object \n",
      " 18  MISC              152403 non-null  object \n",
      " 19  state             146456 non-null  object \n",
      " 20  relative_results  138780 non-null  object \n",
      " 21  url               152797 non-null  object \n",
      "dtypes: float64(3), int64(3), object(16)\n",
      "memory usage: 26.8+ MB\n"
     ]
    }
   ],
   "source": [
    "df_Restaurantes_Review.info()"
   ]
  },
  {
   "cell_type": "markdown",
   "metadata": {},
   "source": [
    "Normalización de columna \"Time\""
   ]
  },
  {
   "cell_type": "code",
   "execution_count": 102,
   "metadata": {},
   "outputs": [],
   "source": [
    "def convertir_a_datetime(timestamp_ms):\n",
    "    fecha_hora = datetime.datetime.fromtimestamp(timestamp_ms / 1000.0)  # Dividir por 1000 para convertir a segundos\n",
    "    return fecha_hora\n",
    "\n",
    "# Aplicar la función a la columna 'time' y guardar el resultado en la misma columna\n",
    "df_Restaurantes_Review['time'] = df_Restaurantes_Review['time'].apply(convertir_a_datetime)\n",
    "\n",
    "# Ordenar el DataFrame por la columna 'time' de menor a mayor\n",
    "inner_merged = df_Restaurantes_Review.sort_values(by='time')"
   ]
  },
  {
   "cell_type": "code",
   "execution_count": 103,
   "metadata": {},
   "outputs": [
    {
     "data": {
      "text/plain": [
       "127049   2005-06-09 19:00:00.000\n",
       "97210    2007-08-27 17:59:02.178\n",
       "93689    2007-10-27 21:16:16.877\n",
       "58463    2007-11-24 09:54:21.134\n",
       "32200    2007-11-24 23:31:04.091\n",
       "                   ...          \n",
       "140      2021-09-05 23:25:25.493\n",
       "50901    2021-09-06 12:26:28.948\n",
       "50891    2021-09-06 12:26:28.948\n",
       "137923   2021-09-06 21:18:30.702\n",
       "137903   2021-09-06 21:18:30.702\n",
       "Name: time, Length: 152797, dtype: datetime64[ns]"
      ]
     },
     "execution_count": 103,
     "metadata": {},
     "output_type": "execute_result"
    }
   ],
   "source": [
    "inner_merged['time']"
   ]
  },
  {
   "cell_type": "code",
   "execution_count": 104,
   "metadata": {},
   "outputs": [
    {
     "data": {
      "text/plain": [
       "(150335, 22)"
      ]
     },
     "execution_count": 104,
     "metadata": {},
     "output_type": "execute_result"
    }
   ],
   "source": [
    "inner_merged[ inner_merged['time']>'2015-11-24'].shape"
   ]
  }
 ],
 "metadata": {
  "kernelspec": {
   "display_name": "Python 3.8.3 64-bit",
   "language": "python",
   "name": "python3"
  },
  "language_info": {
   "codemirror_mode": {
    "name": "ipython",
    "version": 3
   },
   "file_extension": ".py",
   "mimetype": "text/x-python",
   "name": "python",
   "nbconvert_exporter": "python",
   "pygments_lexer": "ipython3",
   "version": "3.8.3"
  },
  "orig_nbformat": 4,
  "vscode": {
   "interpreter": {
    "hash": "aee8b7b246df8f9039afb4144a1f6fd8d2ca17a180786b69acc140d282b71a49"
   }
  }
 },
 "nbformat": 4,
 "nbformat_minor": 2
}
