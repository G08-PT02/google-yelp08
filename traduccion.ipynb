{
 "cells": [
  {
   "cell_type": "code",
   "execution_count": 5,
   "metadata": {},
   "outputs": [
    {
     "name": "stdout",
     "output_type": "stream",
     "text": [
      "Texto original:  Бургер и пържени картофи\n",
      "Texto traducido: Burger and fries\n"
     ]
    }
   ],
   "source": [
    "from googletrans import Translator, LANGUAGES\n",
    "\n",
    "def main():\n",
    "    # Instancia del traductor\n",
    "    translator = Translator()\n",
    "\n",
    "    # Recibir entrada del usuario\n",
    "    text_to_translate = input(\"Introduce el texto que quieres traducir al inglés: \")\n",
    "\n",
    "    # Traducir al inglés\n",
    "    translated_text = translator.translate(text_to_translate, dest='en').text\n",
    "\n",
    "    detected_language = translator.detect(text_to_translate).lang\n",
    "    print(\"Idioma detectado:\", detected_language)\n",
    "\n",
    "\n",
    "    # Mostrar el texto traducido\n",
    "    print(\"Texto original: \", text_to_translate)\n",
    "    print(\"Texto traducido:\", translated_text)\n",
    "\n",
    "if __name__ == '__main__':\n",
    "    main()\n"
   ]
  }
 ],
 "metadata": {
  "kernelspec": {
   "display_name": "Python 3",
   "language": "python",
   "name": "python3"
  },
  "language_info": {
   "codemirror_mode": {
    "name": "ipython",
    "version": 3
   },
   "file_extension": ".py",
   "mimetype": "text/x-python",
   "name": "python",
   "nbconvert_exporter": "python",
   "pygments_lexer": "ipython3",
   "version": "3.11.6"
  },
  "orig_nbformat": 4
 },
 "nbformat": 4,
 "nbformat_minor": 2
}
