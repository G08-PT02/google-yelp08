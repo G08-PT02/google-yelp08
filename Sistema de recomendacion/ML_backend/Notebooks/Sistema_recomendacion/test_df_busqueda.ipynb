{
 "cells": [
  {
   "cell_type": "code",
   "execution_count": 1,
   "metadata": {},
   "outputs": [],
   "source": [
    "from sklearn.metrics.pairwise import cosine_similarity\n",
    "import numpy as np\n",
    "import pandas as pd\n",
    "import spacy"
   ]
  },
  {
   "cell_type": "code",
   "execution_count": 2,
   "metadata": {},
   "outputs": [
    {
     "data": {
      "text/html": [
       "<div>\n",
       "<style scoped>\n",
       "    .dataframe tbody tr th:only-of-type {\n",
       "        vertical-align: middle;\n",
       "    }\n",
       "\n",
       "    .dataframe tbody tr th {\n",
       "        vertical-align: top;\n",
       "    }\n",
       "\n",
       "    .dataframe thead th {\n",
       "        text-align: right;\n",
       "    }\n",
       "</style>\n",
       "<table border=\"1\" class=\"dataframe\">\n",
       "  <thead>\n",
       "    <tr style=\"text-align: right;\">\n",
       "      <th></th>\n",
       "      <th>name</th>\n",
       "      <th>address</th>\n",
       "      <th>coord</th>\n",
       "      <th>keywords</th>\n",
       "      <th>embedding</th>\n",
       "    </tr>\n",
       "  </thead>\n",
       "  <tbody>\n",
       "    <tr>\n",
       "      <th>0</th>\n",
       "      <td>Roux's Roadhouse 73</td>\n",
       "      <td>Roux's Roadhouse 73, 784 WI-73, Nekoosa, WI 54457</td>\n",
       "      <td>[44.3069541, -89.8457834]</td>\n",
       "      <td>[restaurant, takeout, dine-in, delivery, staff...</td>\n",
       "      <td>[[0.84636, -1.1249, -2.3415, -0.12289, 3.0118,...</td>\n",
       "    </tr>\n",
       "    <tr>\n",
       "      <th>1</th>\n",
       "      <td>Crepes n' Tacos Mexican Grill</td>\n",
       "      <td>Crepes n' Tacos Mexican Grill, suit #5, 5390, ...</td>\n",
       "      <td>[36.1646332, -115.0607804]</td>\n",
       "      <td>[mexican restaurant, crêperie, ice cream shop,...</td>\n",
       "      <td>[[-1.15987, -0.23539498, -2.703, -0.27396, 4.7...</td>\n",
       "    </tr>\n",
       "    <tr>\n",
       "      <th>2</th>\n",
       "      <td>The Big Eazy</td>\n",
       "      <td>The Big Eazy, 2053 N Doctor M.L.K. Jr Dr, Milw...</td>\n",
       "      <td>[43.0576581, -87.914643]</td>\n",
       "      <td>[cajun restaurant, creole restaurant, delivery...</td>\n",
       "      <td>[[-1.72852, -3.57585, -0.14324999, -0.1046505,...</td>\n",
       "    </tr>\n",
       "    <tr>\n",
       "      <th>3</th>\n",
       "      <td>Subway</td>\n",
       "      <td>Subway, 250 E Wolf Run, Mukwonago, WI 53149</td>\n",
       "      <td>[42.8541679, -88.3142471]</td>\n",
       "      <td>[sandwich shop, caterer, fast food restaurant,...</td>\n",
       "      <td>[[-1.46857, -3.8650498, -1.97485, 2.0822, 1.41...</td>\n",
       "    </tr>\n",
       "    <tr>\n",
       "      <th>4</th>\n",
       "      <td>Papa Kelsey's</td>\n",
       "      <td>Papa Kelsey's, 165 E 1400 N, Logan, UT 84341</td>\n",
       "      <td>[41.7580941, -111.8302904]</td>\n",
       "      <td>[pizza restaurant, delivery, reservations requ...</td>\n",
       "      <td>[[0.32144, -1.7504499, -3.4772, 1.227705, 1.85...</td>\n",
       "    </tr>\n",
       "  </tbody>\n",
       "</table>\n",
       "</div>"
      ],
      "text/plain": [
       "                            name  \\\n",
       "0            Roux's Roadhouse 73   \n",
       "1  Crepes n' Tacos Mexican Grill   \n",
       "2                   The Big Eazy   \n",
       "3                         Subway   \n",
       "4                  Papa Kelsey's   \n",
       "\n",
       "                                             address  \\\n",
       "0  Roux's Roadhouse 73, 784 WI-73, Nekoosa, WI 54457   \n",
       "1  Crepes n' Tacos Mexican Grill, suit #5, 5390, ...   \n",
       "2  The Big Eazy, 2053 N Doctor M.L.K. Jr Dr, Milw...   \n",
       "3        Subway, 250 E Wolf Run, Mukwonago, WI 53149   \n",
       "4       Papa Kelsey's, 165 E 1400 N, Logan, UT 84341   \n",
       "\n",
       "                        coord  \\\n",
       "0   [44.3069541, -89.8457834]   \n",
       "1  [36.1646332, -115.0607804]   \n",
       "2    [43.0576581, -87.914643]   \n",
       "3   [42.8541679, -88.3142471]   \n",
       "4  [41.7580941, -111.8302904]   \n",
       "\n",
       "                                            keywords  \\\n",
       "0  [restaurant, takeout, dine-in, delivery, staff...   \n",
       "1  [mexican restaurant, crêperie, ice cream shop,...   \n",
       "2  [cajun restaurant, creole restaurant, delivery...   \n",
       "3  [sandwich shop, caterer, fast food restaurant,...   \n",
       "4  [pizza restaurant, delivery, reservations requ...   \n",
       "\n",
       "                                           embedding  \n",
       "0  [[0.84636, -1.1249, -2.3415, -0.12289, 3.0118,...  \n",
       "1  [[-1.15987, -0.23539498, -2.703, -0.27396, 4.7...  \n",
       "2  [[-1.72852, -3.57585, -0.14324999, -0.1046505,...  \n",
       "3  [[-1.46857, -3.8650498, -1.97485, 2.0822, 1.41...  \n",
       "4  [[0.32144, -1.7504499, -3.4772, 1.227705, 1.85...  "
      ]
     },
     "execution_count": 2,
     "metadata": {},
     "output_type": "execute_result"
    }
   ],
   "source": [
    "df = pd.read_pickle('../Datasets_ML/Rest_final_ML.pickle')\n",
    "df.head()"
   ]
  },
  {
   "cell_type": "code",
   "execution_count": 3,
   "metadata": {},
   "outputs": [
    {
     "name": "stderr",
     "output_type": "stream",
     "text": [
      "c:\\Users\\guill\\anaconda3\\envs\\ProyectML\\lib\\site-packages\\tqdm\\auto.py:21: TqdmWarning: IProgress not found. Please update jupyter and ipywidgets. See https://ipywidgets.readthedocs.io/en/stable/user_install.html\n",
      "  from .autonotebook import tqdm as notebook_tqdm\n"
     ]
    },
    {
     "name": "stdout",
     "output_type": "stream",
     "text": [
      "Modelo en_core_web_lg cargado exitosamente.\n"
     ]
    }
   ],
   "source": [
    "model_name = \"en_core_web_lg\"\n",
    "\n",
    "def load_model(model_name): \n",
    "    try:\n",
    "        nlp = spacy.load(model_name)\n",
    "        print(f\"Modelo {model_name} cargado exitosamente.\")\n",
    "        return nlp\n",
    "    except OSError:\n",
    "        print(f\"El modelo {model_name} no está instalado. Descargando e instalando...\")\n",
    "        spacy.cli.download(model_name)\n",
    "        nlp = spacy.load(model_name)\n",
    "        return nlp\n",
    "    \n",
    "nlp_en = load_model(model_name)"
   ]
  },
  {
   "cell_type": "code",
   "execution_count": 4,
   "metadata": {},
   "outputs": [],
   "source": [
    "def buscar_palabras_similares(dataframe, columna_embbeding, lista_busqueda, umbral_similitud=0.7):\n",
    "    indices = []\n",
    "    embeddings_busqueda = np.array([nlp_en(palabra).vector for palabra in lista_busqueda])\n",
    "\n",
    "    for index, embedding in enumerate(dataframe[columna_embbeding]):\n",
    "        if embedding is not None:\n",
    "            # Calcular la similitud coseno solo si el embedding es válido (no es None)\n",
    "            similitudes = cosine_similarity(embedding, embeddings_busqueda).max(axis=1)\n",
    "            \n",
    "            # Si la similitud es mayor que el umbral, agregar el índice\n",
    "            if np.any(similitudes >= umbral_similitud):\n",
    "                indices.append(index)\n",
    "\n",
    "    return indices"
   ]
  },
  {
   "cell_type": "code",
   "execution_count": 5,
   "metadata": {},
   "outputs": [
    {
     "name": "stdout",
     "output_type": "stream",
     "text": [
      "indices [0, 2048, 18435, 2053, 6, 16391, 11, 2060, 16, 2064, 18, 2067, 20, 2069, 22, 8213, 12309, 27, 16411, 2077, 34, 2084, 38, 2088, 6185, 2092, 2093, 2096, 53, 14394, 2109, 2110, 18494, 69, 18502, 2119, 72, 18503, 2124, 77, 78, 2126, 80, 2128, 2130, 2131, 8275, 12364, 86, 18511, 2136, 2139, 2142, 16478, 2144, 16479, 2149, 2150, 2151, 2152, 107, 2156, 2157, 110, 112, 115, 121, 126, 130, 136, 137, 2185, 140, 144, 145, 2195, 4247, 2202, 2203, 2206, 10399, 160, 12448, 164, 2217, 2218, 171, 172, 175, 179, 2231, 12471, 185, 190, 192, 2250, 2251, 204, 206, 214, 216, 221, 2270, 2271, 224, 227, 2281, 2285, 239, 2296, 2300, 254, 2302, 2303, 2305, 12542, 12543, 2308, 263, 2312, 265, 4362, 268, 269, 16652, 2319, 2321, 2323, 2324, 282, 12572, 289, 2338, 12578, 297, 2346, 300, 6445, 2350, 8494, 307, 12596, 311, 2360, 315, 2364, 4413, 318, 12609, 14657, 2374, 327, 2381, 12624, 346, 2404, 2406, 2407, 362, 2415, 4464, 16757, 2425, 2427, 381, 10622, 387, 399, 400, 2447, 2448, 404, 2453, 14741, 14746, 2459, 2462, 8609, 419, 2469, 2470, 424, 425, 426, 2472, 428, 2473, 6574, 435, 12724, 438, 2488, 2490, 445, 446, 2496, 449, 2499, 2503, 456, 457, 2504, 2507, 8647, 2510, 10702, 2513, 2515, 2517, 2522, 2525, 478, 480, 482, 4587, 493, 494, 2541, 2542, 2543, 2547, 502, 16890, 508, 2556, 512, 513, 2563, 518, 521, 522, 4621, 2574, 2575, 2578, 532, 2581, 2582, 2584, 2585, 540, 541, 542, 543, 2590, 545, 2593, 4637, 10785, 2598, 2599, 552, 2604, 12844, 6703, 4658, 2611, 565, 2615, 568, 570, 571, 572, 2619, 2621, 2623, 2624, 10816, 4676, 582, 2631, 584, 585, 591, 2639, 595, 2643, 598, 599, 2648, 2652, 605, 606, 2655, 2657, 610, 2659, 14946, 2663, 616, 618, 6769, 629, 631, 2680, 633, 2689, 646, 2694, 2695, 6792, 12941, 655, 2703, 4752, 2707, 2708, 663, 12951, 10910, 676, 2726, 2728, 2729, 2730, 684, 686, 689, 691, 692, 2740, 694, 695, 15027, 698, 701, 702, 705, 706, 4803, 8900, 709, 2762, 4811, 718, 2769, 2771, 10971, 738, 739, 2787, 2788, 743, 744, 745, 8938, 2796, 749, 750, 2797, 2801, 754, 15092, 757, 759, 761, 762, 2813, 768, 770, 773, 4869, 11018, 779, 4876, 781, 785, 787, 2837, 791, 792, 17177, 794, 2842, 797, 800, 2849, 804, 808, 811, 2860, 9006, 815, 819, 820, 2871, 4921, 2874, 17210, 828, 17213, 840, 2889, 843, 847, 850, 2901, 855, 856, 857, 858, 2903, 13146, 865, 866, 868, 2918, 2920, 2923, 876, 17260, 2929, 2932, 15222, 2935, 4984, 2939, 2940, 2941, 894, 895, 13184, 15228, 17280, 2947, 900, 2948, 13188, 2953, 906, 2962, 916, 7064, 13209, 17307, 13212, 926, 928, 930, 2979, 932, 15268, 935, 2986, 941, 943, 946, 947, 3005, 958, 959, 3007, 961, 15297, 966, 967, 3015, 3016, 3017, 3018, 13260, 974, 977, 17362, 3028, 3029, 17364, 5081, 15326, 991, 3042, 3043, 3044, 13287, 1000, 3059, 3060, 3063, 3067, 5118, 1024, 1025, 17414, 1036, 3088, 1042, 5141, 3095, 3096, 1058, 3108, 15396, 1065, 3113, 1067, 3116, 3117, 7211, 17451, 1073, 3122, 1075, 3123, 13365, 1079, 3127, 3128, 3130, 13367, 1085, 1087, 3135, 1089, 1091, 3141, 17479, 3144, 1098, 1101, 1106, 11346, 3156, 1109, 1114, 3164, 1122, 3172, 3175, 1128, 15463, 17518, 1140, 1141, 17525, 9335, 1144, 3192, 3195, 1156, 3210, 3213, 1167, 1168, 3218, 7319, 1176, 1177, 7320, 7330, 1187, 17571, 9382, 1192, 1202, 17599, 1216, 11459, 17604, 1221, 3271, 5328, 1234, 1238, 1239, 1240, 7385, 17631, 7392, 1258, 1263, 9460, 1272, 1282, 13573, 1289, 13578, 1291, 1292, 1296, 1299, 3349, 1303, 1308, 1311, 5408, 13601, 1321, 1323, 1333, 1335, 5443, 13636, 9543, 13639, 1355, 17743, 1360, 15700, 1370, 7523, 1380, 1390, 3441, 1394, 1404, 1412, 15751, 5514, 1420, 9616, 1426, 15764, 1443, 5541, 1448, 1452, 11697, 1459, 7605, 1462, 3511, 3513, 7609, 1470, 1471, 9669, 3536, 1489, 1490, 13776, 1494, 1503, 1511, 1512, 7660, 1517, 9711, 1523, 1527, 1528, 1536, 5634, 9731, 5644, 17932, 1553, 3601, 9745, 15891, 1557, 13848, 5658, 7710, 1572, 3621, 11812, 1575, 1576, 1589, 5685, 1591, 11833, 9787, 15935, 1603, 1607, 1609, 1610, 3659, 1616, 18006, 11864, 13912, 1634, 1637, 1639, 1642, 1645, 1646, 1647, 1648, 1650, 1658, 1659, 1664, 9864, 1673, 11912, 16013, 3741, 7838, 3743, 5791, 5794, 1701, 1707, 7855, 1714, 1724, 5825, 7875, 3782, 16071, 9929, 5834, 1751, 5848, 1754, 14043, 1759, 1763, 9955, 1766, 1769, 1776, 1778, 3831, 5882, 18171, 1791, 18175, 1795, 16131, 1801, 1802, 7950, 7956, 14104, 14105, 10015, 1827, 10021, 1830, 1832, 1833, 1837, 1843, 1844, 16180, 16191, 18240, 1864, 1867, 1869, 14165, 1880, 8029, 1886, 18276, 1896, 1897, 12141, 1902, 1907, 1908, 1912, 10104, 1915, 1918, 10111, 1922, 16261, 14214, 6023, 1928, 1935, 1936, 1951, 12195, 1971, 1972, 12213, 1980, 1991, 4054, 10200, 2012, 2013, 2017, 2024, 12269, 2034, 2035, 6143]\n"
     ]
    }
   ],
   "source": [
    "# Lista de palabras para buscar\n",
    "palabras_busqueda = ['sushi','beer']\n",
    "\n",
    "# Buscar palabras iguales o similares en la columna 'palabras'\n",
    "indices = buscar_palabras_similares(df, 'embedding', palabras_busqueda)\n",
    "\n",
    "print(\"indices\", list(set(indices)))"
   ]
  },
  {
   "cell_type": "code",
   "execution_count": 6,
   "metadata": {},
   "outputs": [
    {
     "data": {
      "text/plain": [
       "784"
      ]
     },
     "execution_count": 6,
     "metadata": {},
     "output_type": "execute_result"
    }
   ],
   "source": [
    "len(indices)"
   ]
  },
  {
   "cell_type": "code",
   "execution_count": 11,
   "metadata": {},
   "outputs": [
    {
     "data": {
      "text/html": [
       "<div>\n",
       "<style scoped>\n",
       "    .dataframe tbody tr th:only-of-type {\n",
       "        vertical-align: middle;\n",
       "    }\n",
       "\n",
       "    .dataframe tbody tr th {\n",
       "        vertical-align: top;\n",
       "    }\n",
       "\n",
       "    .dataframe thead th {\n",
       "        text-align: right;\n",
       "    }\n",
       "</style>\n",
       "<table border=\"1\" class=\"dataframe\">\n",
       "  <thead>\n",
       "    <tr style=\"text-align: right;\">\n",
       "      <th></th>\n",
       "      <th>index</th>\n",
       "      <th>name</th>\n",
       "      <th>address</th>\n",
       "    </tr>\n",
       "  </thead>\n",
       "  <tbody>\n",
       "    <tr>\n",
       "      <th>0</th>\n",
       "      <td>0</td>\n",
       "      <td>Roux's Roadhouse 73</td>\n",
       "      <td>Roux's Roadhouse 73, 784 WI-73, Nekoosa, WI 54457</td>\n",
       "    </tr>\n",
       "    <tr>\n",
       "      <th>1</th>\n",
       "      <td>6</td>\n",
       "      <td>Centro Botanero La Carreta</td>\n",
       "      <td>Centro Botanero La Carreta, 1657 Main St, Gree...</td>\n",
       "    </tr>\n",
       "    <tr>\n",
       "      <th>2</th>\n",
       "      <td>11</td>\n",
       "      <td>Mr Scott’s Tavern &amp; Grill</td>\n",
       "      <td>Mr Scott’s Tavern &amp; Grill, W7318 WI-86, Tomaha...</td>\n",
       "    </tr>\n",
       "    <tr>\n",
       "      <th>3</th>\n",
       "      <td>16</td>\n",
       "      <td>Valeo's Pizza</td>\n",
       "      <td>Valeo's Pizza, 9755 76th St, Pleasant Prairie,...</td>\n",
       "    </tr>\n",
       "    <tr>\n",
       "      <th>4</th>\n",
       "      <td>18</td>\n",
       "      <td>Ribs and Ribeyes</td>\n",
       "      <td>Ribs and Ribeyes, W7457 County Hwy E, Westfiel...</td>\n",
       "    </tr>\n",
       "    <tr>\n",
       "      <th>...</th>\n",
       "      <td>...</td>\n",
       "      <td>...</td>\n",
       "      <td>...</td>\n",
       "    </tr>\n",
       "    <tr>\n",
       "      <th>779</th>\n",
       "      <td>18435</td>\n",
       "      <td>ICHI Japanese Ramen House</td>\n",
       "      <td>7537 Maple St</td>\n",
       "    </tr>\n",
       "    <tr>\n",
       "      <th>780</th>\n",
       "      <td>18494</td>\n",
       "      <td>Provisions Gourmet Market</td>\n",
       "      <td>11615 Olive Blvd</td>\n",
       "    </tr>\n",
       "    <tr>\n",
       "      <th>781</th>\n",
       "      <td>18502</td>\n",
       "      <td>Angell's Bar &amp; Grill</td>\n",
       "      <td>999 W Main St</td>\n",
       "    </tr>\n",
       "    <tr>\n",
       "      <th>782</th>\n",
       "      <td>18503</td>\n",
       "      <td>Tokiwa Ramen</td>\n",
       "      <td>11978 104 Avenue</td>\n",
       "    </tr>\n",
       "    <tr>\n",
       "      <th>783</th>\n",
       "      <td>18511</td>\n",
       "      <td>Nikka Ramen</td>\n",
       "      <td>5701 Calle Real</td>\n",
       "    </tr>\n",
       "  </tbody>\n",
       "</table>\n",
       "<p>784 rows × 3 columns</p>\n",
       "</div>"
      ],
      "text/plain": [
       "     index                        name  \\\n",
       "0        0         Roux's Roadhouse 73   \n",
       "1        6  Centro Botanero La Carreta   \n",
       "2       11   Mr Scott’s Tavern & Grill   \n",
       "3       16               Valeo's Pizza   \n",
       "4       18            Ribs and Ribeyes   \n",
       "..     ...                         ...   \n",
       "779  18435   ICHI Japanese Ramen House   \n",
       "780  18494   Provisions Gourmet Market   \n",
       "781  18502        Angell's Bar & Grill   \n",
       "782  18503                Tokiwa Ramen   \n",
       "783  18511                 Nikka Ramen   \n",
       "\n",
       "                                               address  \n",
       "0    Roux's Roadhouse 73, 784 WI-73, Nekoosa, WI 54457  \n",
       "1    Centro Botanero La Carreta, 1657 Main St, Gree...  \n",
       "2    Mr Scott’s Tavern & Grill, W7318 WI-86, Tomaha...  \n",
       "3    Valeo's Pizza, 9755 76th St, Pleasant Prairie,...  \n",
       "4    Ribs and Ribeyes, W7457 County Hwy E, Westfiel...  \n",
       "..                                                 ...  \n",
       "779                                      7537 Maple St  \n",
       "780                                   11615 Olive Blvd  \n",
       "781                                      999 W Main St  \n",
       "782                                   11978 104 Avenue  \n",
       "783                                    5701 Calle Real  \n",
       "\n",
       "[784 rows x 3 columns]"
      ]
     },
     "execution_count": 11,
     "metadata": {},
     "output_type": "execute_result"
    }
   ],
   "source": [
    "# Acceder a las filas usando iloc y la lista de índices\n",
    "df[['name','address']].iloc[indices].reset_index()"
   ]
  }
 ],
 "metadata": {
  "kernelspec": {
   "display_name": "ProyectML",
   "language": "python",
   "name": "python3"
  },
  "language_info": {
   "codemirror_mode": {
    "name": "ipython",
    "version": 3
   },
   "file_extension": ".py",
   "mimetype": "text/x-python",
   "name": "python",
   "nbconvert_exporter": "python",
   "pygments_lexer": "ipython3",
   "version": "3.8.18"
  },
  "orig_nbformat": 4
 },
 "nbformat": 4,
 "nbformat_minor": 2
}
