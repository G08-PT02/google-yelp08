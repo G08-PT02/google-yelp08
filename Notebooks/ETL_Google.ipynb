{
 "cells": [
  {
   "cell_type": "code",
   "execution_count": 70,
   "metadata": {},
   "outputs": [],
   "source": [
    "import pandas as pd\n",
    "import json\n",
    "import os # Operaciones relacionadas con el sistema de archivos\n",
    "import datetime"
   ]
  },
  {
   "cell_type": "markdown",
   "metadata": {},
   "source": [
    "### Metadatos"
   ]
  },
  {
   "cell_type": "code",
   "execution_count": 71,
   "metadata": {},
   "outputs": [],
   "source": [
    "# Función para leer y filtrar los archivos JSON\n",
    "def filtrar_archivos_json(directorio, categoria_busqueda):\n",
    "    ''' Esta función, llamada filtrar_archivos_json, se encarga de buscar y filtrar \n",
    "        archivos JSON en un directorio específico en función de una categoría de búsqueda \n",
    "        proporcionada.   '''\n",
    "    resultados = []\n",
    "    for archivo in os.listdir(directorio):\n",
    "            ruta_archivo = os.path.join(directorio, archivo)\n",
    "\n",
    "            # Leer el contenido del archivo JSON\n",
    "            with open(ruta_archivo) as f:\n",
    "                archivo_json = f.readlines()\n",
    "\n",
    "            # Cargar archivo JSON linea por linea\n",
    "            for linea in archivo_json:\n",
    "                data = json.loads(linea)\n",
    "                # Verificar si la categoría buscada está presente en el archivo JSON\n",
    "                categorias = data.get(\"category\", [])\n",
    "                if isinstance(categorias, list) and any(categoria_busqueda.lower() in categoria.lower() for categoria in categorias):\n",
    "                    resultados.append(data)\n",
    "    return resultados\n"
   ]
  },
  {
   "cell_type": "code",
   "execution_count": 72,
   "metadata": {},
   "outputs": [],
   "source": [
    "# Filtrar los archivos JSON para la categoría \"restaurant\"\n",
    "restaurant = filtrar_archivos_json('../PROYECTO_FINAL_EQUIPO/Google/metadata-sitios', \"restaurant\")\n",
    "# Convertir los resultados a un pandas DataFrame\n",
    "df_restaurant = pd.DataFrame(restaurant)"
   ]
  },
  {
   "cell_type": "code",
   "execution_count": 73,
   "metadata": {},
   "outputs": [
    {
     "data": {
      "text/plain": [
       "(121637, 15)"
      ]
     },
     "execution_count": 73,
     "metadata": {},
     "output_type": "execute_result"
    }
   ],
   "source": [
    "df_restaurant.shape"
   ]
  },
  {
   "cell_type": "code",
   "execution_count": 74,
   "metadata": {},
   "outputs": [
    {
     "data": {
      "text/html": [
       "<div>\n",
       "<style scoped>\n",
       "    .dataframe tbody tr th:only-of-type {\n",
       "        vertical-align: middle;\n",
       "    }\n",
       "\n",
       "    .dataframe tbody tr th {\n",
       "        vertical-align: top;\n",
       "    }\n",
       "\n",
       "    .dataframe thead th {\n",
       "        text-align: right;\n",
       "    }\n",
       "</style>\n",
       "<table border=\"1\" class=\"dataframe\">\n",
       "  <thead>\n",
       "    <tr style=\"text-align: right;\">\n",
       "      <th></th>\n",
       "      <th>name</th>\n",
       "      <th>address</th>\n",
       "      <th>gmap_id</th>\n",
       "      <th>description</th>\n",
       "      <th>latitude</th>\n",
       "      <th>longitude</th>\n",
       "      <th>category</th>\n",
       "      <th>avg_rating</th>\n",
       "      <th>num_of_reviews</th>\n",
       "      <th>price</th>\n",
       "      <th>hours</th>\n",
       "      <th>MISC</th>\n",
       "      <th>state</th>\n",
       "      <th>relative_results</th>\n",
       "      <th>url</th>\n",
       "    </tr>\n",
       "  </thead>\n",
       "  <tbody>\n",
       "    <tr>\n",
       "      <th>0</th>\n",
       "      <td>Fresh Off The Truck</td>\n",
       "      <td>Fresh Off The Truck, Mueller Trailer Eatery, 4...</td>\n",
       "      <td>0x8644b5f995211beb:0x489b703481320404</td>\n",
       "      <td>Food truck located at Mueller Trailer Eats, se...</td>\n",
       "      <td>30.296518</td>\n",
       "      <td>-97.707304</td>\n",
       "      <td>[Caterer, Restaurant]</td>\n",
       "      <td>5.0</td>\n",
       "      <td>8</td>\n",
       "      <td>None</td>\n",
       "      <td>None</td>\n",
       "      <td>{'Service options': ['Delivery']}</td>\n",
       "      <td>None</td>\n",
       "      <td>[0x8644b5f3d971856f:0x3e04f8904bf2b2ee, 0x8644...</td>\n",
       "      <td>https://www.google.com/maps/place//data=!4m2!3...</td>\n",
       "    </tr>\n",
       "    <tr>\n",
       "      <th>1</th>\n",
       "      <td>Papa Joe's BBQ Co.</td>\n",
       "      <td>Papa Joe's BBQ Co., 24415 NE 10th Ave, Ridgefi...</td>\n",
       "      <td>0x5495aef37bce66d5:0xfcf97974639cd5dd</td>\n",
       "      <td>None</td>\n",
       "      <td>45.798254</td>\n",
       "      <td>-122.660751</td>\n",
       "      <td>[Restaurant]</td>\n",
       "      <td>4.6</td>\n",
       "      <td>14</td>\n",
       "      <td>None</td>\n",
       "      <td>[[Thursday, 12–7PM], [Friday, 12–7PM], [Saturd...</td>\n",
       "      <td>{'From the business': ['Identifies as women-le...</td>\n",
       "      <td>Permanently closed</td>\n",
       "      <td>[0x5495b2cea4d3a7f7:0xd788b88074f97be6, 0x5495...</td>\n",
       "      <td>https://www.google.com/maps/place//data=!4m2!3...</td>\n",
       "    </tr>\n",
       "  </tbody>\n",
       "</table>\n",
       "</div>"
      ],
      "text/plain": [
       "                  name                                            address  \\\n",
       "0  Fresh Off The Truck  Fresh Off The Truck, Mueller Trailer Eatery, 4...   \n",
       "1   Papa Joe's BBQ Co.  Papa Joe's BBQ Co., 24415 NE 10th Ave, Ridgefi...   \n",
       "\n",
       "                                 gmap_id  \\\n",
       "0  0x8644b5f995211beb:0x489b703481320404   \n",
       "1  0x5495aef37bce66d5:0xfcf97974639cd5dd   \n",
       "\n",
       "                                         description   latitude   longitude  \\\n",
       "0  Food truck located at Mueller Trailer Eats, se...  30.296518  -97.707304   \n",
       "1                                               None  45.798254 -122.660751   \n",
       "\n",
       "                category  avg_rating  num_of_reviews price  \\\n",
       "0  [Caterer, Restaurant]         5.0               8  None   \n",
       "1           [Restaurant]         4.6              14  None   \n",
       "\n",
       "                                               hours  \\\n",
       "0                                               None   \n",
       "1  [[Thursday, 12–7PM], [Friday, 12–7PM], [Saturd...   \n",
       "\n",
       "                                                MISC               state  \\\n",
       "0                  {'Service options': ['Delivery']}                None   \n",
       "1  {'From the business': ['Identifies as women-le...  Permanently closed   \n",
       "\n",
       "                                    relative_results  \\\n",
       "0  [0x8644b5f3d971856f:0x3e04f8904bf2b2ee, 0x8644...   \n",
       "1  [0x5495b2cea4d3a7f7:0xd788b88074f97be6, 0x5495...   \n",
       "\n",
       "                                                 url  \n",
       "0  https://www.google.com/maps/place//data=!4m2!3...  \n",
       "1  https://www.google.com/maps/place//data=!4m2!3...  "
      ]
     },
     "execution_count": 74,
     "metadata": {},
     "output_type": "execute_result"
    }
   ],
   "source": [
    "df_restaurant.head(2)"
   ]
  },
  {
   "cell_type": "code",
   "execution_count": 75,
   "metadata": {},
   "outputs": [
    {
     "data": {
      "text/plain": [
       "1061"
      ]
     },
     "execution_count": 75,
     "metadata": {},
     "output_type": "execute_result"
    }
   ],
   "source": [
    "#1061 restaurantes duplicados\n",
    "df_restaurant['gmap_id'].duplicated().sum()"
   ]
  },
  {
   "cell_type": "code",
   "execution_count": 76,
   "metadata": {},
   "outputs": [
    {
     "data": {
      "text/html": [
       "<div>\n",
       "<style scoped>\n",
       "    .dataframe tbody tr th:only-of-type {\n",
       "        vertical-align: middle;\n",
       "    }\n",
       "\n",
       "    .dataframe tbody tr th {\n",
       "        vertical-align: top;\n",
       "    }\n",
       "\n",
       "    .dataframe thead th {\n",
       "        text-align: right;\n",
       "    }\n",
       "</style>\n",
       "<table border=\"1\" class=\"dataframe\">\n",
       "  <thead>\n",
       "    <tr style=\"text-align: right;\">\n",
       "      <th></th>\n",
       "      <th>name</th>\n",
       "      <th>address</th>\n",
       "      <th>gmap_id</th>\n",
       "      <th>description</th>\n",
       "      <th>latitude</th>\n",
       "      <th>longitude</th>\n",
       "      <th>category</th>\n",
       "      <th>avg_rating</th>\n",
       "      <th>num_of_reviews</th>\n",
       "      <th>price</th>\n",
       "      <th>hours</th>\n",
       "      <th>MISC</th>\n",
       "      <th>state</th>\n",
       "      <th>relative_results</th>\n",
       "      <th>url</th>\n",
       "    </tr>\n",
       "  </thead>\n",
       "  <tbody>\n",
       "    <tr>\n",
       "      <th>36445</th>\n",
       "      <td>Bar 91</td>\n",
       "      <td>Bar 91, 400 Ave of the Champions, Palm Beach G...</td>\n",
       "      <td>0x146c6711a70d7991:0xe478335f760c8ccc</td>\n",
       "      <td>None</td>\n",
       "      <td>26.828991</td>\n",
       "      <td>-80.141201</td>\n",
       "      <td>[Bar &amp; grill, Bar, Restaurant, Sports bar]</td>\n",
       "      <td>3.9</td>\n",
       "      <td>8</td>\n",
       "      <td>None</td>\n",
       "      <td>[[Wednesday, 6:30AM–9PM], [Thursday, 6:30AM–9P...</td>\n",
       "      <td>{'Service options': ['Outdoor seating', 'Takeo...</td>\n",
       "      <td>Closed ⋅ Opens 6:30AM Thu</td>\n",
       "      <td>[0x88ded52e4b87e21d:0x773ff6613ec82a36, 0x88de...</td>\n",
       "      <td>https://www.google.com/maps/place//data=!4m2!3...</td>\n",
       "    </tr>\n",
       "    <tr>\n",
       "      <th>37506</th>\n",
       "      <td>Bar 91</td>\n",
       "      <td>Bar 91, 400 Ave of the Champions, Palm Beach G...</td>\n",
       "      <td>0x146c6711a70d7991:0xe478335f760c8ccc</td>\n",
       "      <td>None</td>\n",
       "      <td>26.828991</td>\n",
       "      <td>-80.141201</td>\n",
       "      <td>[Bar &amp; grill, Bar, Restaurant, Sports bar]</td>\n",
       "      <td>3.9</td>\n",
       "      <td>8</td>\n",
       "      <td>None</td>\n",
       "      <td>[[Wednesday, 6:30AM–9PM], [Thursday, 6:30AM–9P...</td>\n",
       "      <td>{'Service options': ['Outdoor seating', 'Takeo...</td>\n",
       "      <td>Closed ⋅ Opens 6:30AM Thu</td>\n",
       "      <td>[0x88ded52e4b87e21d:0x773ff6613ec82a36, 0x88de...</td>\n",
       "      <td>https://www.google.com/maps/place//data=!4m2!3...</td>\n",
       "    </tr>\n",
       "  </tbody>\n",
       "</table>\n",
       "</div>"
      ],
      "text/plain": [
       "         name                                            address  \\\n",
       "36445  Bar 91  Bar 91, 400 Ave of the Champions, Palm Beach G...   \n",
       "37506  Bar 91  Bar 91, 400 Ave of the Champions, Palm Beach G...   \n",
       "\n",
       "                                     gmap_id description   latitude  \\\n",
       "36445  0x146c6711a70d7991:0xe478335f760c8ccc        None  26.828991   \n",
       "37506  0x146c6711a70d7991:0xe478335f760c8ccc        None  26.828991   \n",
       "\n",
       "       longitude                                    category  avg_rating  \\\n",
       "36445 -80.141201  [Bar & grill, Bar, Restaurant, Sports bar]         3.9   \n",
       "37506 -80.141201  [Bar & grill, Bar, Restaurant, Sports bar]         3.9   \n",
       "\n",
       "       num_of_reviews price  \\\n",
       "36445               8  None   \n",
       "37506               8  None   \n",
       "\n",
       "                                                   hours  \\\n",
       "36445  [[Wednesday, 6:30AM–9PM], [Thursday, 6:30AM–9P...   \n",
       "37506  [[Wednesday, 6:30AM–9PM], [Thursday, 6:30AM–9P...   \n",
       "\n",
       "                                                    MISC  \\\n",
       "36445  {'Service options': ['Outdoor seating', 'Takeo...   \n",
       "37506  {'Service options': ['Outdoor seating', 'Takeo...   \n",
       "\n",
       "                           state  \\\n",
       "36445  Closed ⋅ Opens 6:30AM Thu   \n",
       "37506  Closed ⋅ Opens 6:30AM Thu   \n",
       "\n",
       "                                        relative_results  \\\n",
       "36445  [0x88ded52e4b87e21d:0x773ff6613ec82a36, 0x88de...   \n",
       "37506  [0x88ded52e4b87e21d:0x773ff6613ec82a36, 0x88de...   \n",
       "\n",
       "                                                     url  \n",
       "36445  https://www.google.com/maps/place//data=!4m2!3...  \n",
       "37506  https://www.google.com/maps/place//data=!4m2!3...  "
      ]
     },
     "execution_count": 76,
     "metadata": {},
     "output_type": "execute_result"
    }
   ],
   "source": [
    "#Revisión de restaurantes duplicados\n",
    "restaurantes_duplicados = df_restaurant[df_restaurant['gmap_id'].duplicated(keep=False)]\n",
    "# Ordena los restaurantes duplicados por gmap_id\n",
    "restaurantes_duplicados_ordenados = restaurantes_duplicados.sort_values(by='gmap_id')\n",
    "restaurantes_duplicados_ordenados.head(2)\n"
   ]
  },
  {
   "cell_type": "code",
   "execution_count": 77,
   "metadata": {},
   "outputs": [],
   "source": [
    "#Paso 1: Eliminar duplicados\n",
    "df_restaurant = df_restaurant.drop_duplicates(subset='gmap_id') "
   ]
  },
  {
   "cell_type": "code",
   "execution_count": 78,
   "metadata": {},
   "outputs": [
    {
     "data": {
      "text/plain": [
       "(120576, 15)"
      ]
     },
     "execution_count": 78,
     "metadata": {},
     "output_type": "execute_result"
    }
   ],
   "source": [
    "#Tenemos 120,575 restaurantes con 15 atributos, de los cuales es necesario cuales tienen\n",
    "#realmente reseñas para los futuros procesos de ML\n",
    "df_restaurant.shape"
   ]
  },
  {
   "cell_type": "markdown",
   "metadata": {},
   "source": [
    "### Revisión de algunas columnas a eliminar"
   ]
  },
  {
   "cell_type": "code",
   "execution_count": 79,
   "metadata": {},
   "outputs": [
    {
     "data": {
      "text/plain": [
       "['0x5495b2cea4d3a7f7:0xd788b88074f97be6',\n",
       " '0x5495a8ba9e39a85f:0xfbe5938763a14568',\n",
       " '0x54944d01d969e923:0xf8cc1e24f8aaeb50',\n",
       " '0x54944d27a2b501fd:0xde3ce099feaa6d78',\n",
       " '0x5495a9b18b24d4d7:0x93026337fd559ca3']"
      ]
     },
     "execution_count": 79,
     "metadata": {},
     "output_type": "execute_result"
    }
   ],
   "source": [
    "# relative_results hace referencia de recomendación a otros negocios\n",
    "# pero dado que nos interesa hacer un sistema propio de recomendaciones, lo dejaremos de lado.\n",
    "df_restaurant['relative_results'][1] "
   ]
  },
  {
   "cell_type": "code",
   "execution_count": 80,
   "metadata": {},
   "outputs": [
    {
     "data": {
      "text/html": [
       "<div>\n",
       "<style scoped>\n",
       "    .dataframe tbody tr th:only-of-type {\n",
       "        vertical-align: middle;\n",
       "    }\n",
       "\n",
       "    .dataframe tbody tr th {\n",
       "        vertical-align: top;\n",
       "    }\n",
       "\n",
       "    .dataframe thead th {\n",
       "        text-align: right;\n",
       "    }\n",
       "</style>\n",
       "<table border=\"1\" class=\"dataframe\">\n",
       "  <thead>\n",
       "    <tr style=\"text-align: right;\">\n",
       "      <th></th>\n",
       "      <th>name</th>\n",
       "      <th>address</th>\n",
       "      <th>gmap_id</th>\n",
       "      <th>description</th>\n",
       "      <th>latitude</th>\n",
       "      <th>longitude</th>\n",
       "      <th>category</th>\n",
       "      <th>avg_rating</th>\n",
       "      <th>num_of_reviews</th>\n",
       "      <th>price</th>\n",
       "      <th>hours</th>\n",
       "      <th>MISC</th>\n",
       "      <th>state</th>\n",
       "      <th>relative_results</th>\n",
       "      <th>url</th>\n",
       "    </tr>\n",
       "  </thead>\n",
       "  <tbody>\n",
       "  </tbody>\n",
       "</table>\n",
       "</div>"
      ],
      "text/plain": [
       "Empty DataFrame\n",
       "Columns: [name, address, gmap_id, description, latitude, longitude, category, avg_rating, num_of_reviews, price, hours, MISC, state, relative_results, url]\n",
       "Index: []"
      ]
     },
     "execution_count": 80,
     "metadata": {},
     "output_type": "execute_result"
    }
   ],
   "source": [
    "#Muchos de los datos que 'relative_results' arroja no están en nuestro DF\n",
    "df_restaurant[df_restaurant['gmap_id']== '0x5495b2cea4d3a7f7:0xd788b88074f97be6']"
   ]
  },
  {
   "cell_type": "code",
   "execution_count": 81,
   "metadata": {},
   "outputs": [
    {
     "data": {
      "text/plain": [
       "'Permanently closed'"
      ]
     },
     "execution_count": 81,
     "metadata": {},
     "output_type": "execute_result"
    }
   ],
   "source": [
    "#Nos dice el estado en el que se encuentra el restaurante al momento que se \n",
    "# extrajeron los datos por lo que no es relevante para nuestro análisis\n",
    "df_restaurant['state'][1]"
   ]
  },
  {
   "cell_type": "code",
   "execution_count": 82,
   "metadata": {},
   "outputs": [],
   "source": [
    "df_restaurant.drop(columns='state',inplace=True)\n",
    "df_restaurant.drop(columns='relative_results',inplace=True)"
   ]
  },
  {
   "cell_type": "markdown",
   "metadata": {},
   "source": [
    "### Reviews-estados\n",
    "\n",
    "Se hace la carga de las Reviews para obtener las que pertenezcan a los restaurantes\n",
    "y así mismo filtrar los restaurantes con Review. "
   ]
  },
  {
   "cell_type": "code",
   "execution_count": 217,
   "metadata": {},
   "outputs": [],
   "source": [
    "ruta_reviews_estados = \"../PROYECTO_FINAL_EQUIPO/Google/reviews-estados/\"\n",
    "rutas_subfolders = [f.path for f in os.scandir(ruta_reviews_estados) if f.is_dir()]"
   ]
  },
  {
   "cell_type": "code",
   "execution_count": 218,
   "metadata": {},
   "outputs": [],
   "source": [
    "def df_json(ruta_folder):\n",
    "    '''Unión de archivos en un DataFrame '''\n",
    "# Inicializa una lista para almacenar los objetos JSON de los archivos\n",
    "    data = []\n",
    "    \n",
    "    # Itera a través de los archivos en la carpeta especificada\n",
    "    for file_name in os.listdir(ruta_folder):\n",
    "        # Construye la ruta completa de cada archivo\n",
    "        file_path = os.path.join(ruta_folder, file_name)\n",
    "        # Abre el archivo en modo lectura ('r')\n",
    "        with open(file_path, 'r') as file:\n",
    "            # Itera a través de las líneas del archivo\n",
    "            for line in file:\n",
    "                # Elimina espacios en blanco al principio y al final de la línea\n",
    "                line = line.strip()\n",
    "                # Intenta cargar la línea como un objeto JSON\n",
    "                json_obj = json.loads(line)\n",
    "                    # Agrega el objeto JSON a la lista de datos\n",
    "                data.append(json_obj)\n",
    "\n",
    "    # Crea un DataFrame de pandas a partir de la lista de datos\n",
    "    df = pd.DataFrame(data)\n",
    "    \n",
    "    # Devuelve el DataFrame resultante\n",
    "    return df"
   ]
  },
  {
   "cell_type": "code",
   "execution_count": 219,
   "metadata": {},
   "outputs": [],
   "source": [
    "def df_json_general(subfolders):\n",
    "    # Inicializa una lista para almacenar DataFrames individuales\n",
    "    df_list = []\n",
    "    \n",
    "    # Itera a través de las subcarpetas especificadas\n",
    "    for subfolder in subfolders:\n",
    "        # Llama a la función read_json_files para procesar los archivos JSON en la subcarpeta\n",
    "        df = df_json(subfolder)\n",
    "        \n",
    "        # Agrega el DataFrame resultante a la lista\n",
    "        df_list.append(df)\n",
    "    \n",
    "    # Devuelve una lista de DataFrames, uno por cada subcarpeta\n",
    "    return df_list"
   ]
  },
  {
   "cell_type": "code",
   "execution_count": 185,
   "metadata": {},
   "outputs": [],
   "source": [
    "\n",
    "lista_df = df_json_general(rutas_subfolders)"
   ]
  },
  {
   "cell_type": "code",
   "execution_count": 220,
   "metadata": {},
   "outputs": [],
   "source": [
    "df_reviews = pd.concat(lista_df, ignore_index=True)"
   ]
  },
  {
   "cell_type": "code",
   "execution_count": 221,
   "metadata": {},
   "outputs": [
    {
     "data": {
      "text/plain": [
       "(8879925, 8)"
      ]
     },
     "execution_count": 221,
     "metadata": {},
     "output_type": "execute_result"
    }
   ],
   "source": [
    "df_reviews.shape"
   ]
  },
  {
   "cell_type": "code",
   "execution_count": 223,
   "metadata": {},
   "outputs": [
    {
     "data": {
      "text/html": [
       "<div>\n",
       "<style scoped>\n",
       "    .dataframe tbody tr th:only-of-type {\n",
       "        vertical-align: middle;\n",
       "    }\n",
       "\n",
       "    .dataframe tbody tr th {\n",
       "        vertical-align: top;\n",
       "    }\n",
       "\n",
       "    .dataframe thead th {\n",
       "        text-align: right;\n",
       "    }\n",
       "</style>\n",
       "<table border=\"1\" class=\"dataframe\">\n",
       "  <thead>\n",
       "    <tr style=\"text-align: right;\">\n",
       "      <th></th>\n",
       "      <th>user_id</th>\n",
       "      <th>name</th>\n",
       "      <th>time</th>\n",
       "      <th>rating</th>\n",
       "      <th>text</th>\n",
       "      <th>pics</th>\n",
       "      <th>resp</th>\n",
       "      <th>gmap_id</th>\n",
       "    </tr>\n",
       "  </thead>\n",
       "  <tbody>\n",
       "    <tr>\n",
       "      <th>7200075</th>\n",
       "      <td>103804428393146158238</td>\n",
       "      <td>R E</td>\n",
       "      <td>1499921265455</td>\n",
       "      <td>5</td>\n",
       "      <td>None</td>\n",
       "      <td>None</td>\n",
       "      <td>None</td>\n",
       "      <td>0x89b646f67680bb55:0xe0619a3533b1b66b</td>\n",
       "    </tr>\n",
       "    <tr>\n",
       "      <th>5307450</th>\n",
       "      <td>109958927208261118778</td>\n",
       "      <td>Teresa g Gr.com@ Gmail.com Grace</td>\n",
       "      <td>1573758158921</td>\n",
       "      <td>5</td>\n",
       "      <td>I Placed my EXPERIENCE On Facebook instead of ...</td>\n",
       "      <td>None</td>\n",
       "      <td>{'time': 1575316884978, 'text': 'Thank you for...</td>\n",
       "      <td>0x80c8c7eabedeab3d:0xf8d5353b2ea83ac7</td>\n",
       "    </tr>\n",
       "  </tbody>\n",
       "</table>\n",
       "</div>"
      ],
      "text/plain": [
       "                       user_id                              name  \\\n",
       "7200075  103804428393146158238                               R E   \n",
       "5307450  109958927208261118778  Teresa g Gr.com@ Gmail.com Grace   \n",
       "\n",
       "                  time  rating  \\\n",
       "7200075  1499921265455       5   \n",
       "5307450  1573758158921       5   \n",
       "\n",
       "                                                      text  pics  \\\n",
       "7200075                                               None  None   \n",
       "5307450  I Placed my EXPERIENCE On Facebook instead of ...  None   \n",
       "\n",
       "                                                      resp  \\\n",
       "7200075                                               None   \n",
       "5307450  {'time': 1575316884978, 'text': 'Thank you for...   \n",
       "\n",
       "                                       gmap_id  \n",
       "7200075  0x89b646f67680bb55:0xe0619a3533b1b66b  \n",
       "5307450  0x80c8c7eabedeab3d:0xf8d5353b2ea83ac7  "
      ]
     },
     "execution_count": 223,
     "metadata": {},
     "output_type": "execute_result"
    }
   ],
   "source": [
    "df_reviews.sample(2)"
   ]
  },
  {
   "cell_type": "markdown",
   "metadata": {},
   "source": [
    "#### SELECCIÓN DE RESTAURANTES CON RESEÑAS"
   ]
  },
  {
   "cell_type": "code",
   "execution_count": 224,
   "metadata": {},
   "outputs": [],
   "source": [
    "#Obtenemos los establecimientos que tienen Reviews\n",
    "id_establecimientos_con_reviews = df_reviews[\"gmap_id\"].unique()"
   ]
  },
  {
   "cell_type": "code",
   "execution_count": 225,
   "metadata": {},
   "outputs": [
    {
     "data": {
      "text/plain": [
       "142234"
      ]
     },
     "execution_count": 225,
     "metadata": {},
     "output_type": "execute_result"
    }
   ],
   "source": [
    "#Se tienen 142,234 establecimientos únicos o que tienen una review\n",
    "id_establecimientos_con_reviews.shape[0]"
   ]
  },
  {
   "cell_type": "code",
   "execution_count": 226,
   "metadata": {},
   "outputs": [
    {
     "data": {
      "text/plain": [
       "(120576, 13)"
      ]
     },
     "execution_count": 226,
     "metadata": {},
     "output_type": "execute_result"
    }
   ],
   "source": [
    "df_restaurant.shape"
   ]
  },
  {
   "cell_type": "code",
   "execution_count": 227,
   "metadata": {},
   "outputs": [],
   "source": [
    "#Filtrar los restaurantes que tienen Reviews.\n",
    "df_restaurantes = df_restaurant[df_restaurant[\"gmap_id\"].isin(id_establecimientos_con_reviews)].reset_index(drop=True)"
   ]
  },
  {
   "cell_type": "code",
   "execution_count": 228,
   "metadata": {},
   "outputs": [
    {
     "data": {
      "text/plain": [
       "(3223, 13)"
      ]
     },
     "execution_count": 228,
     "metadata": {},
     "output_type": "execute_result"
    }
   ],
   "source": [
    "df_restaurantes.shape"
   ]
  },
  {
   "cell_type": "markdown",
   "metadata": {},
   "source": [
    "#### Filtrar reseñas de Restaurantes"
   ]
  },
  {
   "cell_type": "code",
   "execution_count": 229,
   "metadata": {},
   "outputs": [],
   "source": [
    "filtro=df_restaurantes['gmap_id'].unique()"
   ]
  },
  {
   "cell_type": "code",
   "execution_count": 230,
   "metadata": {},
   "outputs": [],
   "source": [
    "df_reviews_res = df_reviews[df_reviews[\"gmap_id\"].isin(filtro)].copy()"
   ]
  },
  {
   "cell_type": "code",
   "execution_count": 231,
   "metadata": {},
   "outputs": [
    {
     "data": {
      "text/html": [
       "<div>\n",
       "<style scoped>\n",
       "    .dataframe tbody tr th:only-of-type {\n",
       "        vertical-align: middle;\n",
       "    }\n",
       "\n",
       "    .dataframe tbody tr th {\n",
       "        vertical-align: top;\n",
       "    }\n",
       "\n",
       "    .dataframe thead th {\n",
       "        text-align: right;\n",
       "    }\n",
       "</style>\n",
       "<table border=\"1\" class=\"dataframe\">\n",
       "  <thead>\n",
       "    <tr style=\"text-align: right;\">\n",
       "      <th></th>\n",
       "      <th>user_id</th>\n",
       "      <th>name</th>\n",
       "      <th>time</th>\n",
       "      <th>rating</th>\n",
       "      <th>text</th>\n",
       "      <th>pics</th>\n",
       "      <th>resp</th>\n",
       "      <th>gmap_id</th>\n",
       "    </tr>\n",
       "  </thead>\n",
       "  <tbody>\n",
       "    <tr>\n",
       "      <th>196</th>\n",
       "      <td>104959831058524862747</td>\n",
       "      <td>Samuel Benson</td>\n",
       "      <td>1630018420109</td>\n",
       "      <td>4</td>\n",
       "      <td>A pretty seamless experience from top to botto...</td>\n",
       "      <td>None</td>\n",
       "      <td>None</td>\n",
       "      <td>0x874d9bf9d1db7c85:0xf1c3706a2b497a3</td>\n",
       "    </tr>\n",
       "  </tbody>\n",
       "</table>\n",
       "</div>"
      ],
      "text/plain": [
       "                   user_id           name           time  rating  \\\n",
       "196  104959831058524862747  Samuel Benson  1630018420109       4   \n",
       "\n",
       "                                                  text  pics  resp  \\\n",
       "196  A pretty seamless experience from top to botto...  None  None   \n",
       "\n",
       "                                  gmap_id  \n",
       "196  0x874d9bf9d1db7c85:0xf1c3706a2b497a3  "
      ]
     },
     "execution_count": 231,
     "metadata": {},
     "output_type": "execute_result"
    }
   ],
   "source": [
    "df_reviews_res.head(1)"
   ]
  },
  {
   "cell_type": "code",
   "execution_count": 232,
   "metadata": {},
   "outputs": [],
   "source": [
    "def convertir_a_datetime(timestamp_ms):\n",
    "    fecha_hora = datetime.datetime.fromtimestamp(timestamp_ms / 1000.0)  # Dividir por 1000 para convertir a segundos\n",
    "    return fecha_hora"
   ]
  },
  {
   "cell_type": "code",
   "execution_count": 233,
   "metadata": {},
   "outputs": [],
   "source": [
    "# Aplicar la función a la columna 'time' y guardar el resultado en la misma columna\n",
    "df_reviews_res['time'] = df_reviews_res['time'].apply(convertir_a_datetime)\n",
    "\n",
    "# Ordenar el DataFrame por la columna 'time' de menor a mayor\n",
    "df_reviews_res = df_reviews_res.sort_values(by='time')"
   ]
  },
  {
   "cell_type": "code",
   "execution_count": 234,
   "metadata": {},
   "outputs": [],
   "source": [
    "#Dejar la fecha en formato año/mes/día: \n",
    "df_reviews_res['time'] = pd.to_datetime(df_reviews_res['time']).dt.date"
   ]
  },
  {
   "cell_type": "markdown",
   "metadata": {},
   "source": [
    "### Revisión de las columnas Reviews y Avg_Raiting en el dataframe Restaurantes con los datos de REVIEWS."
   ]
  },
  {
   "cell_type": "code",
   "execution_count": 235,
   "metadata": {},
   "outputs": [],
   "source": [
    "df_rev=pd.DataFrame()\n"
   ]
  },
  {
   "cell_type": "code",
   "execution_count": 246,
   "metadata": {},
   "outputs": [],
   "source": [
    "#Se obtienen la cantidad de Reviews en nuestros restaurantes y el average.\n",
    "# Primero, calcula las columnas \"num_of_reviews\" y \"avg_rating\" en \"RestaurantesReview\".\n",
    "df_rev['gmap_id']=df_reviews_res['gmap_id'].copy()\n",
    "df_rev['num_of_reviews'] = df_reviews_res.groupby('gmap_id')['gmap_id'].transform('count')\n",
    "df_rev['avg_rating'] = df_reviews_res.groupby('gmap_id')['rating'].transform('mean')\n",
    "# Luego, crea un nuevo DataFrame con las columnas que necesitas de \"RestaurantesReview\".\n",
    "df_nuevo = df_rev[['gmap_id', 'num_of_reviews', 'avg_rating']].drop_duplicates()"
   ]
  },
  {
   "cell_type": "code",
   "execution_count": 247,
   "metadata": {},
   "outputs": [
    {
     "data": {
      "text/html": [
       "<div>\n",
       "<style scoped>\n",
       "    .dataframe tbody tr th:only-of-type {\n",
       "        vertical-align: middle;\n",
       "    }\n",
       "\n",
       "    .dataframe tbody tr th {\n",
       "        vertical-align: top;\n",
       "    }\n",
       "\n",
       "    .dataframe thead th {\n",
       "        text-align: right;\n",
       "    }\n",
       "</style>\n",
       "<table border=\"1\" class=\"dataframe\">\n",
       "  <thead>\n",
       "    <tr style=\"text-align: right;\">\n",
       "      <th></th>\n",
       "      <th>gmap_id</th>\n",
       "      <th>num_of_reviews</th>\n",
       "      <th>avg_rating</th>\n",
       "    </tr>\n",
       "  </thead>\n",
       "  <tbody>\n",
       "    <tr>\n",
       "      <th>1379096</th>\n",
       "      <td>0x883a0a071c2a4f15:0x5cb6ef0eb2ef5c95</td>\n",
       "      <td>26.0</td>\n",
       "      <td>4.384615</td>\n",
       "    </tr>\n",
       "    <tr>\n",
       "      <th>2187375</th>\n",
       "      <td>0x880560545f107547:0x86b19d9367d79b6c</td>\n",
       "      <td>754.0</td>\n",
       "      <td>3.591512</td>\n",
       "    </tr>\n",
       "  </tbody>\n",
       "</table>\n",
       "</div>"
      ],
      "text/plain": [
       "                                       gmap_id  num_of_reviews  avg_rating\n",
       "1379096  0x883a0a071c2a4f15:0x5cb6ef0eb2ef5c95            26.0    4.384615\n",
       "2187375  0x880560545f107547:0x86b19d9367d79b6c           754.0    3.591512"
      ]
     },
     "execution_count": 247,
     "metadata": {},
     "output_type": "execute_result"
    }
   ],
   "source": [
    "df_nuevo.sample(2)"
   ]
  },
  {
   "cell_type": "code",
   "execution_count": 256,
   "metadata": {},
   "outputs": [
    {
     "data": {
      "text/html": [
       "<div>\n",
       "<style scoped>\n",
       "    .dataframe tbody tr th:only-of-type {\n",
       "        vertical-align: middle;\n",
       "    }\n",
       "\n",
       "    .dataframe tbody tr th {\n",
       "        vertical-align: top;\n",
       "    }\n",
       "\n",
       "    .dataframe thead th {\n",
       "        text-align: right;\n",
       "    }\n",
       "</style>\n",
       "<table border=\"1\" class=\"dataframe\">\n",
       "  <thead>\n",
       "    <tr style=\"text-align: right;\">\n",
       "      <th></th>\n",
       "      <th>user_id</th>\n",
       "      <th>name</th>\n",
       "      <th>time</th>\n",
       "      <th>rating</th>\n",
       "      <th>text</th>\n",
       "      <th>pics</th>\n",
       "      <th>resp</th>\n",
       "      <th>gmap_id</th>\n",
       "    </tr>\n",
       "  </thead>\n",
       "  <tbody>\n",
       "    <tr>\n",
       "      <th>1372864</th>\n",
       "      <td>105129062216865645402</td>\n",
       "      <td>Jack Storts</td>\n",
       "      <td>2019-03-01</td>\n",
       "      <td>5</td>\n",
       "      <td>Good deals great pizza</td>\n",
       "      <td>None</td>\n",
       "      <td>{'time': 1552487888698, 'text': 'Thank you, Ja...</td>\n",
       "      <td>0x88389151a59be061:0x6d92b1ec86559f1c</td>\n",
       "    </tr>\n",
       "    <tr>\n",
       "      <th>5327236</th>\n",
       "      <td>105818227795390093857</td>\n",
       "      <td>Kenya Johnson</td>\n",
       "      <td>2017-11-21</td>\n",
       "      <td>1</td>\n",
       "      <td>Ummm! Just no.</td>\n",
       "      <td>None</td>\n",
       "      <td>None</td>\n",
       "      <td>0x80c8c22463636d17:0x7822da1f4d521f6f</td>\n",
       "    </tr>\n",
       "  </tbody>\n",
       "</table>\n",
       "</div>"
      ],
      "text/plain": [
       "                       user_id           name        time  rating  \\\n",
       "1372864  105129062216865645402    Jack Storts  2019-03-01       5   \n",
       "5327236  105818227795390093857  Kenya Johnson  2017-11-21       1   \n",
       "\n",
       "                           text  pics  \\\n",
       "1372864  Good deals great pizza  None   \n",
       "5327236          Ummm! Just no.  None   \n",
       "\n",
       "                                                      resp  \\\n",
       "1372864  {'time': 1552487888698, 'text': 'Thank you, Ja...   \n",
       "5327236                                               None   \n",
       "\n",
       "                                       gmap_id  \n",
       "1372864  0x88389151a59be061:0x6d92b1ec86559f1c  \n",
       "5327236  0x80c8c22463636d17:0x7822da1f4d521f6f  "
      ]
     },
     "execution_count": 256,
     "metadata": {},
     "output_type": "execute_result"
    }
   ],
   "source": [
    "df_reviews_res.sample(2)"
   ]
  },
  {
   "cell_type": "markdown",
   "metadata": {},
   "source": [
    "Se puede ver que hay diferencia en el numero de \"reviews\" por consecuencia también en \"avg_rating\" y no se sabe la fecha en que fueron calculados los de \"df_restaurantes\", por lo que no sería correcto simplemente sumarlos y obtener su el promedio en avg_rating.\n",
    "Por lo que se eliminaran. "
   ]
  },
  {
   "cell_type": "code",
   "execution_count": 259,
   "metadata": {},
   "outputs": [
    {
     "data": {
      "text/html": [
       "<div>\n",
       "<style scoped>\n",
       "    .dataframe tbody tr th:only-of-type {\n",
       "        vertical-align: middle;\n",
       "    }\n",
       "\n",
       "    .dataframe tbody tr th {\n",
       "        vertical-align: top;\n",
       "    }\n",
       "\n",
       "    .dataframe thead th {\n",
       "        text-align: right;\n",
       "    }\n",
       "</style>\n",
       "<table border=\"1\" class=\"dataframe\">\n",
       "  <thead>\n",
       "    <tr style=\"text-align: right;\">\n",
       "      <th></th>\n",
       "      <th>name</th>\n",
       "      <th>address</th>\n",
       "      <th>gmap_id</th>\n",
       "      <th>description</th>\n",
       "      <th>latitude</th>\n",
       "      <th>longitude</th>\n",
       "      <th>category</th>\n",
       "      <th>avg_rating</th>\n",
       "      <th>num_of_reviews</th>\n",
       "      <th>price</th>\n",
       "      <th>hours</th>\n",
       "      <th>MISC</th>\n",
       "      <th>url</th>\n",
       "    </tr>\n",
       "  </thead>\n",
       "  <tbody>\n",
       "    <tr>\n",
       "      <th>2929</th>\n",
       "      <td>Distill - A Local Bar</td>\n",
       "      <td>Distill - A Local Bar, 5750 S Decatur Blvd, La...</td>\n",
       "      <td>0x80c8c7c3de7c9ead:0x892a30757ade73a2</td>\n",
       "      <td>None</td>\n",
       "      <td>36.085341</td>\n",
       "      <td>-115.207441</td>\n",
       "      <td>[Bar &amp; grill, Bar, Restaurant]</td>\n",
       "      <td>4.5</td>\n",
       "      <td>101</td>\n",
       "      <td>None</td>\n",
       "      <td>[[Saturday, Open 24 hours], [Sunday, Open 24 h...</td>\n",
       "      <td>{'Service options': ['Curbside pickup', 'Deliv...</td>\n",
       "      <td>https://www.google.com/maps/place//data=!4m2!3...</td>\n",
       "    </tr>\n",
       "  </tbody>\n",
       "</table>\n",
       "</div>"
      ],
      "text/plain": [
       "                       name  \\\n",
       "2929  Distill - A Local Bar   \n",
       "\n",
       "                                                address  \\\n",
       "2929  Distill - A Local Bar, 5750 S Decatur Blvd, La...   \n",
       "\n",
       "                                    gmap_id description   latitude  \\\n",
       "2929  0x80c8c7c3de7c9ead:0x892a30757ade73a2        None  36.085341   \n",
       "\n",
       "       longitude                        category  avg_rating  num_of_reviews  \\\n",
       "2929 -115.207441  [Bar & grill, Bar, Restaurant]         4.5             101   \n",
       "\n",
       "     price                                              hours  \\\n",
       "2929  None  [[Saturday, Open 24 hours], [Sunday, Open 24 h...   \n",
       "\n",
       "                                                   MISC  \\\n",
       "2929  {'Service options': ['Curbside pickup', 'Deliv...   \n",
       "\n",
       "                                                    url  \n",
       "2929  https://www.google.com/maps/place//data=!4m2!3...  "
      ]
     },
     "execution_count": 259,
     "metadata": {},
     "output_type": "execute_result"
    }
   ],
   "source": [
    "#RES avg_rating \"4.5\" & num_of_reviews \"101\" 0x88065334fbf8d89d:0xa8803652886f0bef\t\n",
    "#REV avg_rating \"4.6\" & num_of_reviews \"76.0\" 0x88065334fbf8d89d:0xa8803652886f0bef\t\n",
    "df_restaurantes.sample(1)"
   ]
  },
  {
   "cell_type": "code",
   "execution_count": 260,
   "metadata": {},
   "outputs": [
    {
     "data": {
      "text/html": [
       "<div>\n",
       "<style scoped>\n",
       "    .dataframe tbody tr th:only-of-type {\n",
       "        vertical-align: middle;\n",
       "    }\n",
       "\n",
       "    .dataframe tbody tr th {\n",
       "        vertical-align: top;\n",
       "    }\n",
       "\n",
       "    .dataframe thead th {\n",
       "        text-align: right;\n",
       "    }\n",
       "</style>\n",
       "<table border=\"1\" class=\"dataframe\">\n",
       "  <thead>\n",
       "    <tr style=\"text-align: right;\">\n",
       "      <th></th>\n",
       "      <th>gmap_id</th>\n",
       "      <th>num_of_reviews</th>\n",
       "      <th>avg_rating</th>\n",
       "    </tr>\n",
       "  </thead>\n",
       "  <tbody>\n",
       "    <tr>\n",
       "      <th>5906744</th>\n",
       "      <td>0x80c8c7c3de7c9ead:0x892a30757ade73a2</td>\n",
       "      <td>76.0</td>\n",
       "      <td>4.684211</td>\n",
       "    </tr>\n",
       "  </tbody>\n",
       "</table>\n",
       "</div>"
      ],
      "text/plain": [
       "                                       gmap_id  num_of_reviews  avg_rating\n",
       "5906744  0x80c8c7c3de7c9ead:0x892a30757ade73a2            76.0    4.684211"
      ]
     },
     "execution_count": 260,
     "metadata": {},
     "output_type": "execute_result"
    }
   ],
   "source": [
    "df_nuevo[df_nuevo['gmap_id'] == '0x80c8c7c3de7c9ead:0x892a30757ade73a2']"
   ]
  },
  {
   "cell_type": "code",
   "execution_count": 262,
   "metadata": {},
   "outputs": [],
   "source": [
    "df_restaurantes.drop(columns='num_of_reviews',inplace=True) #Depende del periodo de tiempo y del DS Reviews\n",
    "df_restaurantes.drop(columns='avg_rating',inplace=True) #Depende del periodo de tiempo y del DS Reviews"
   ]
  },
  {
   "cell_type": "code",
   "execution_count": 263,
   "metadata": {},
   "outputs": [
    {
     "data": {
      "text/html": [
       "<div>\n",
       "<style scoped>\n",
       "    .dataframe tbody tr th:only-of-type {\n",
       "        vertical-align: middle;\n",
       "    }\n",
       "\n",
       "    .dataframe tbody tr th {\n",
       "        vertical-align: top;\n",
       "    }\n",
       "\n",
       "    .dataframe thead th {\n",
       "        text-align: right;\n",
       "    }\n",
       "</style>\n",
       "<table border=\"1\" class=\"dataframe\">\n",
       "  <thead>\n",
       "    <tr style=\"text-align: right;\">\n",
       "      <th></th>\n",
       "      <th>name</th>\n",
       "      <th>address</th>\n",
       "      <th>gmap_id</th>\n",
       "      <th>description</th>\n",
       "      <th>latitude</th>\n",
       "      <th>longitude</th>\n",
       "      <th>category</th>\n",
       "      <th>price</th>\n",
       "      <th>hours</th>\n",
       "      <th>MISC</th>\n",
       "      <th>url</th>\n",
       "    </tr>\n",
       "  </thead>\n",
       "  <tbody>\n",
       "    <tr>\n",
       "      <th>0</th>\n",
       "      <td>Roux's Roadhouse 73</td>\n",
       "      <td>Roux's Roadhouse 73, 784 WI-73, Nekoosa, WI 54457</td>\n",
       "      <td>0x88008ff5b3c52fd3:0xdbe482cf9fb221db</td>\n",
       "      <td>None</td>\n",
       "      <td>44.306954</td>\n",
       "      <td>-89.845783</td>\n",
       "      <td>[Restaurant]</td>\n",
       "      <td>None</td>\n",
       "      <td>[[Thursday, 12–11PM], [Friday, 12PM–12AM], [Sa...</td>\n",
       "      <td>{'Service options': ['Takeout', 'Dine-in', 'De...</td>\n",
       "      <td>https://www.google.com/maps/place//data=!4m2!3...</td>\n",
       "    </tr>\n",
       "    <tr>\n",
       "      <th>1</th>\n",
       "      <td>Crepes n' Tacos Mexican Grill</td>\n",
       "      <td>Crepes n' Tacos Mexican Grill, suit #5, 5390, ...</td>\n",
       "      <td>0x80c8db636d525e3b:0x6a51cce4b2dcc350</td>\n",
       "      <td>None</td>\n",
       "      <td>36.164633</td>\n",
       "      <td>-115.060780</td>\n",
       "      <td>[Mexican restaurant, Crêperie, Ice cream shop,...</td>\n",
       "      <td>None</td>\n",
       "      <td>[[Thursday, 9AM–9PM], [Friday, 9AM–9PM], [Satu...</td>\n",
       "      <td>{'Service options': ['Delivery'], 'Amenities':...</td>\n",
       "      <td>https://www.google.com/maps/place//data=!4m2!3...</td>\n",
       "    </tr>\n",
       "  </tbody>\n",
       "</table>\n",
       "</div>"
      ],
      "text/plain": [
       "                            name  \\\n",
       "0            Roux's Roadhouse 73   \n",
       "1  Crepes n' Tacos Mexican Grill   \n",
       "\n",
       "                                             address  \\\n",
       "0  Roux's Roadhouse 73, 784 WI-73, Nekoosa, WI 54457   \n",
       "1  Crepes n' Tacos Mexican Grill, suit #5, 5390, ...   \n",
       "\n",
       "                                 gmap_id description   latitude   longitude  \\\n",
       "0  0x88008ff5b3c52fd3:0xdbe482cf9fb221db        None  44.306954  -89.845783   \n",
       "1  0x80c8db636d525e3b:0x6a51cce4b2dcc350        None  36.164633 -115.060780   \n",
       "\n",
       "                                            category price  \\\n",
       "0                                       [Restaurant]  None   \n",
       "1  [Mexican restaurant, Crêperie, Ice cream shop,...  None   \n",
       "\n",
       "                                               hours  \\\n",
       "0  [[Thursday, 12–11PM], [Friday, 12PM–12AM], [Sa...   \n",
       "1  [[Thursday, 9AM–9PM], [Friday, 9AM–9PM], [Satu...   \n",
       "\n",
       "                                                MISC  \\\n",
       "0  {'Service options': ['Takeout', 'Dine-in', 'De...   \n",
       "1  {'Service options': ['Delivery'], 'Amenities':...   \n",
       "\n",
       "                                                 url  \n",
       "0  https://www.google.com/maps/place//data=!4m2!3...  \n",
       "1  https://www.google.com/maps/place//data=!4m2!3...  "
      ]
     },
     "execution_count": 263,
     "metadata": {},
     "output_type": "execute_result"
    }
   ],
   "source": [
    "df_restaurantes.head(2)"
   ]
  },
  {
   "cell_type": "code",
   "execution_count": 264,
   "metadata": {},
   "outputs": [],
   "source": [
    "df_restaurantes.to_csv('Restaurantes_Google.csv',index=False)"
   ]
  },
  {
   "cell_type": "code",
   "execution_count": 265,
   "metadata": {},
   "outputs": [],
   "source": [
    "df_reviews_res.to_csv('Restaurantes_Google_Reviews.csv',index=False)"
   ]
  },
  {
   "cell_type": "markdown",
   "metadata": {},
   "source": [
    "Revision"
   ]
  },
  {
   "cell_type": "code",
   "execution_count": 266,
   "metadata": {},
   "outputs": [
    {
     "data": {
      "text/html": [
       "<div>\n",
       "<style scoped>\n",
       "    .dataframe tbody tr th:only-of-type {\n",
       "        vertical-align: middle;\n",
       "    }\n",
       "\n",
       "    .dataframe tbody tr th {\n",
       "        vertical-align: top;\n",
       "    }\n",
       "\n",
       "    .dataframe thead th {\n",
       "        text-align: right;\n",
       "    }\n",
       "</style>\n",
       "<table border=\"1\" class=\"dataframe\">\n",
       "  <thead>\n",
       "    <tr style=\"text-align: right;\">\n",
       "      <th></th>\n",
       "      <th>user_id</th>\n",
       "      <th>name</th>\n",
       "      <th>time</th>\n",
       "      <th>rating</th>\n",
       "      <th>text</th>\n",
       "      <th>pics</th>\n",
       "      <th>resp</th>\n",
       "      <th>gmap_id</th>\n",
       "    </tr>\n",
       "  </thead>\n",
       "  <tbody>\n",
       "    <tr>\n",
       "      <th>2893620</th>\n",
       "      <td>113884074810430895487</td>\n",
       "      <td>JC Clark</td>\n",
       "      <td>2017-12-11</td>\n",
       "      <td>5</td>\n",
       "      <td>If you haven't tried their Mac &amp; Cheese yet yo...</td>\n",
       "      <td>None</td>\n",
       "      <td>None</td>\n",
       "      <td>0x89e24f68777466cb:0x305a1ce4b468b584</td>\n",
       "    </tr>\n",
       "    <tr>\n",
       "      <th>2906304</th>\n",
       "      <td>117358624895753554376</td>\n",
       "      <td>Roland Martel</td>\n",
       "      <td>2020-10-25</td>\n",
       "      <td>4</td>\n",
       "      <td>Meal was ok have had better there. Onion soup ...</td>\n",
       "      <td>None</td>\n",
       "      <td>None</td>\n",
       "      <td>0x4cb344da481beb03:0x30c538e43dbf1a23</td>\n",
       "    </tr>\n",
       "    <tr>\n",
       "      <th>2076284</th>\n",
       "      <td>107504813527152601771</td>\n",
       "      <td>Abbey Brake</td>\n",
       "      <td>2018-09-03</td>\n",
       "      <td>4</td>\n",
       "      <td>None</td>\n",
       "      <td>None</td>\n",
       "      <td>None</td>\n",
       "      <td>0x8804251178df2741:0xdd7ce43feba08427</td>\n",
       "    </tr>\n",
       "  </tbody>\n",
       "</table>\n",
       "</div>"
      ],
      "text/plain": [
       "                       user_id           name        time  rating  \\\n",
       "2893620  113884074810430895487       JC Clark  2017-12-11       5   \n",
       "2906304  117358624895753554376  Roland Martel  2020-10-25       4   \n",
       "2076284  107504813527152601771    Abbey Brake  2018-09-03       4   \n",
       "\n",
       "                                                      text  pics  resp  \\\n",
       "2893620  If you haven't tried their Mac & Cheese yet yo...  None  None   \n",
       "2906304  Meal was ok have had better there. Onion soup ...  None  None   \n",
       "2076284                                               None  None  None   \n",
       "\n",
       "                                       gmap_id  \n",
       "2893620  0x89e24f68777466cb:0x305a1ce4b468b584  \n",
       "2906304  0x4cb344da481beb03:0x30c538e43dbf1a23  \n",
       "2076284  0x8804251178df2741:0xdd7ce43feba08427  "
      ]
     },
     "execution_count": 266,
     "metadata": {},
     "output_type": "execute_result"
    }
   ],
   "source": [
    "df_reviews_res.sample(3)"
   ]
  },
  {
   "cell_type": "code",
   "execution_count": 267,
   "metadata": {},
   "outputs": [
    {
     "data": {
      "text/html": [
       "<div>\n",
       "<style scoped>\n",
       "    .dataframe tbody tr th:only-of-type {\n",
       "        vertical-align: middle;\n",
       "    }\n",
       "\n",
       "    .dataframe tbody tr th {\n",
       "        vertical-align: top;\n",
       "    }\n",
       "\n",
       "    .dataframe thead th {\n",
       "        text-align: right;\n",
       "    }\n",
       "</style>\n",
       "<table border=\"1\" class=\"dataframe\">\n",
       "  <thead>\n",
       "    <tr style=\"text-align: right;\">\n",
       "      <th></th>\n",
       "      <th>name</th>\n",
       "      <th>address</th>\n",
       "      <th>gmap_id</th>\n",
       "      <th>description</th>\n",
       "      <th>latitude</th>\n",
       "      <th>longitude</th>\n",
       "      <th>category</th>\n",
       "      <th>price</th>\n",
       "      <th>hours</th>\n",
       "      <th>MISC</th>\n",
       "      <th>url</th>\n",
       "    </tr>\n",
       "  </thead>\n",
       "  <tbody>\n",
       "    <tr>\n",
       "      <th>532</th>\n",
       "      <td>Mr. Mac’s Macaroni and Cheese</td>\n",
       "      <td>Mr. Mac’s Macaroni and Cheese, 497 Hooksett Rd...</td>\n",
       "      <td>0x89e24f68777466cb:0x305a1ce4b468b584</td>\n",
       "      <td>Ample varieties of mac ’n’ cheese including \"t...</td>\n",
       "      <td>43.01404</td>\n",
       "      <td>-71.451466</td>\n",
       "      <td>[American restaurant, Catering food and drink ...</td>\n",
       "      <td>$$</td>\n",
       "      <td>[[Tuesday, 11AM–9PM], [Wednesday, 11AM–9PM], [...</td>\n",
       "      <td>{'Service options': ['Curbside pickup', 'Deliv...</td>\n",
       "      <td>https://www.google.com/maps/place//data=!4m2!3...</td>\n",
       "    </tr>\n",
       "  </tbody>\n",
       "</table>\n",
       "</div>"
      ],
      "text/plain": [
       "                              name  \\\n",
       "532  Mr. Mac’s Macaroni and Cheese   \n",
       "\n",
       "                                               address  \\\n",
       "532  Mr. Mac’s Macaroni and Cheese, 497 Hooksett Rd...   \n",
       "\n",
       "                                   gmap_id  \\\n",
       "532  0x89e24f68777466cb:0x305a1ce4b468b584   \n",
       "\n",
       "                                           description  latitude  longitude  \\\n",
       "532  Ample varieties of mac ’n’ cheese including \"t...  43.01404 -71.451466   \n",
       "\n",
       "                                              category price  \\\n",
       "532  [American restaurant, Catering food and drink ...    $$   \n",
       "\n",
       "                                                 hours  \\\n",
       "532  [[Tuesday, 11AM–9PM], [Wednesday, 11AM–9PM], [...   \n",
       "\n",
       "                                                  MISC  \\\n",
       "532  {'Service options': ['Curbside pickup', 'Deliv...   \n",
       "\n",
       "                                                   url  \n",
       "532  https://www.google.com/maps/place//data=!4m2!3...  "
      ]
     },
     "execution_count": 267,
     "metadata": {},
     "output_type": "execute_result"
    }
   ],
   "source": [
    "df_restaurantes[df_restaurantes['gmap_id']=='0x89e24f68777466cb:0x305a1ce4b468b584']"
   ]
  },
  {
   "cell_type": "code",
   "execution_count": 268,
   "metadata": {},
   "outputs": [
    {
     "data": {
      "text/plain": [
       "(1081, 8)"
      ]
     },
     "execution_count": 268,
     "metadata": {},
     "output_type": "execute_result"
    }
   ],
   "source": [
    "df_reviews_res[df_reviews_res['gmap_id']=='0x89e24f68777466cb:0x305a1ce4b468b584'].shape"
   ]
  },
  {
   "cell_type": "code",
   "execution_count": 269,
   "metadata": {},
   "outputs": [
    {
     "data": {
      "text/html": [
       "<div>\n",
       "<style scoped>\n",
       "    .dataframe tbody tr th:only-of-type {\n",
       "        vertical-align: middle;\n",
       "    }\n",
       "\n",
       "    .dataframe tbody tr th {\n",
       "        vertical-align: top;\n",
       "    }\n",
       "\n",
       "    .dataframe thead th {\n",
       "        text-align: right;\n",
       "    }\n",
       "</style>\n",
       "<table border=\"1\" class=\"dataframe\">\n",
       "  <thead>\n",
       "    <tr style=\"text-align: right;\">\n",
       "      <th></th>\n",
       "      <th>user_id</th>\n",
       "      <th>name</th>\n",
       "      <th>time</th>\n",
       "      <th>rating</th>\n",
       "      <th>text</th>\n",
       "      <th>pics</th>\n",
       "      <th>resp</th>\n",
       "      <th>gmap_id</th>\n",
       "    </tr>\n",
       "  </thead>\n",
       "  <tbody>\n",
       "    <tr>\n",
       "      <th>7049299</th>\n",
       "      <td>103953831837343316659</td>\n",
       "      <td>Arash E</td>\n",
       "      <td>2018-05-13</td>\n",
       "      <td>5</td>\n",
       "      <td>We came here at the hotel's recommendation.  T...</td>\n",
       "      <td>None</td>\n",
       "      <td>None</td>\n",
       "      <td>0x89b5afb3d01303a1:0xe6dd68de1217d0c4</td>\n",
       "    </tr>\n",
       "    <tr>\n",
       "      <th>1428460</th>\n",
       "      <td>103427351158735334681</td>\n",
       "      <td>Mohammad Ayrout</td>\n",
       "      <td>2018-06-02</td>\n",
       "      <td>5</td>\n",
       "      <td>The best authentic Arabic food in Cleveland, I...</td>\n",
       "      <td>None</td>\n",
       "      <td>None</td>\n",
       "      <td>0x8830ee047a73ffff:0x30563f42fe1d958</td>\n",
       "    </tr>\n",
       "  </tbody>\n",
       "</table>\n",
       "</div>"
      ],
      "text/plain": [
       "                       user_id             name        time  rating  \\\n",
       "7049299  103953831837343316659          Arash E  2018-05-13       5   \n",
       "1428460  103427351158735334681  Mohammad Ayrout  2018-06-02       5   \n",
       "\n",
       "                                                      text  pics  resp  \\\n",
       "7049299  We came here at the hotel's recommendation.  T...  None  None   \n",
       "1428460  The best authentic Arabic food in Cleveland, I...  None  None   \n",
       "\n",
       "                                       gmap_id  \n",
       "7049299  0x89b5afb3d01303a1:0xe6dd68de1217d0c4  \n",
       "1428460   0x8830ee047a73ffff:0x30563f42fe1d958  "
      ]
     },
     "execution_count": 269,
     "metadata": {},
     "output_type": "execute_result"
    }
   ],
   "source": [
    "df_reviews_res.sample(2)"
   ]
  },
  {
   "cell_type": "markdown",
   "metadata": {},
   "source": [
    "''' '''\n"
   ]
  },
  {
   "cell_type": "code",
   "execution_count": 270,
   "metadata": {},
   "outputs": [
    {
     "data": {
      "text/plain": [
       "(152797, 8)"
      ]
     },
     "execution_count": 270,
     "metadata": {},
     "output_type": "execute_result"
    }
   ],
   "source": [
    "df_reviews_res.shape"
   ]
  }
 ],
 "metadata": {
  "kernelspec": {
   "display_name": "Python 3.8.3 64-bit",
   "language": "python",
   "name": "python3"
  },
  "language_info": {
   "codemirror_mode": {
    "name": "ipython",
    "version": 3
   },
   "file_extension": ".py",
   "mimetype": "text/x-python",
   "name": "python",
   "nbconvert_exporter": "python",
   "pygments_lexer": "ipython3",
   "version": "3.8.3"
  },
  "orig_nbformat": 4,
  "vscode": {
   "interpreter": {
    "hash": "aee8b7b246df8f9039afb4144a1f6fd8d2ca17a180786b69acc140d282b71a49"
   }
  }
 },
 "nbformat": 4,
 "nbformat_minor": 2
}
