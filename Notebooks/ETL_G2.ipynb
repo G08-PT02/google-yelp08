{
 "cells": [
  {
   "cell_type": "code",
   "execution_count": 1,
   "metadata": {},
   "outputs": [],
   "source": [
    "import pandas as pd\n",
    "import re\n",
    "import ast\n",
    "import matplotlib.pyplot as plt\n",
    "import googlemaps\n",
    "from io import BytesIO\n",
    "import numpy as np"
   ]
  },
  {
   "cell_type": "markdown",
   "metadata": {},
   "source": [
    "##### Se hará una selección mas minuciosa respecto a la categorías de interés así como una obtención de tablas para nuestro modelo relacional."
   ]
  },
  {
   "cell_type": "code",
   "execution_count": null,
   "metadata": {},
   "outputs": [],
   "source": [
    "sitios=pd.read_csv('../google-yelp08/Retaurantes_Datawarehouse.csv')"
   ]
  },
  {
   "cell_type": "code",
   "execution_count": 210,
   "metadata": {},
   "outputs": [],
   "source": [
    "#Este cambio es para la normalización en la tabla dimensional de Restaurantes\n",
    "sitios.rename(columns={'gmap_id': 'business_id'}, inplace=True)"
   ]
  },
  {
   "cell_type": "code",
   "execution_count": 211,
   "metadata": {},
   "outputs": [],
   "source": [
    "sitios.drop(columns=['price','state','relative_results', 'url','avg_rating','num_of_reviews'],inplace=True)\n"
   ]
  },
  {
   "cell_type": "code",
   "execution_count": 236,
   "metadata": {},
   "outputs": [],
   "source": [
    "#Función para categorizar puntualmente.\n",
    "def extract_restaurant_category(row):\n",
    "            matches = re.findall(r\"'([^']*\\brestaurant\\b[^']*)'\", row)\n",
    "            return ', '.join(matches)\n",
    "\n",
    "#Algunos archivos no funcionan con nuestra funcion extract_restaurant_category por lo que hay que hacer una adecuación\n",
    "def convertir_lista_a_cadena(lista):\n",
    "            cadena_formateada = str(lista)\n",
    "            return cadena_formateada"
   ]
  },
  {
   "cell_type": "code",
   "execution_count": null,
   "metadata": {},
   "outputs": [],
   "source": [
    "#Copy=df[['business_id','category']].copy()\n",
    "#Tengo que integrar el ETL completo"
   ]
  },
  {
   "cell_type": "code",
   "execution_count": 231,
   "metadata": {},
   "outputs": [],
   "source": [
    "if type(sitios['category'].iloc[1]) == list:\n",
    "    sitios['category'] = sitios['category'].apply(convertir_lista_a_cadena)"
   ]
  },
  {
   "cell_type": "code",
   "execution_count": 233,
   "metadata": {},
   "outputs": [],
   "source": [
    "sitios['category'] = sitios['category'].apply(extract_restaurant_category)"
   ]
  },
  {
   "cell_type": "code",
   "execution_count": 15,
   "metadata": {},
   "outputs": [
    {
     "data": {
      "text/plain": [
       "(82326, 9)"
      ]
     },
     "execution_count": 15,
     "metadata": {},
     "output_type": "execute_result"
    }
   ],
   "source": [
    "sitios.shape"
   ]
  },
  {
   "cell_type": "code",
   "execution_count": 16,
   "metadata": {},
   "outputs": [],
   "source": [
    "#Con la transformación anterior se eliminar los que tiene únicamente la palabra Restaurant\n",
    "sitios['category']=sitios['category'].replace('','Restaurant')"
   ]
  },
  {
   "cell_type": "code",
   "execution_count": null,
   "metadata": {},
   "outputs": [],
   "source": [
    "#Cómo nos interesan los restaurants que tengan definida su categoría quitamos aquellos que\n",
    "#que están generalizados. \n",
    "\n",
    "sitios = sitios[~sitios['category'].str.strip().str.lower().eq('restaurant')]"
   ]
  },
  {
   "cell_type": "code",
   "execution_count": 20,
   "metadata": {},
   "outputs": [
    {
     "data": {
      "text/plain": [
       "(62860, 9)"
      ]
     },
     "execution_count": 20,
     "metadata": {},
     "output_type": "execute_result"
    }
   ],
   "source": [
    "#Finalmente tenemos 62,850 restaurantes con una categoría definida de interés. \n",
    "sitios.reset_index(drop=True, inplace=True)\n",
    "sitios.shape"
   ]
  },
  {
   "cell_type": "markdown",
   "metadata": {},
   "source": [
    "##### Ahora se hará una selección de categorías, por ende se reducen restaurantes."
   ]
  },
  {
   "cell_type": "code",
   "execution_count": 23,
   "metadata": {},
   "outputs": [],
   "source": [
    "sitios['category'] = sitios['category'].astype(str)"
   ]
  },
  {
   "cell_type": "code",
   "execution_count": 24,
   "metadata": {},
   "outputs": [],
   "source": [
    "sitios = sitios[sitios['category'].str.count(',') == 0]"
   ]
  },
  {
   "cell_type": "markdown",
   "metadata": {},
   "source": [
    "#### Filtraremos por cantidad de restaurantes según la categoría."
   ]
  },
  {
   "cell_type": "code",
   "execution_count": 25,
   "metadata": {},
   "outputs": [],
   "source": [
    "value_counts = sitios['category'].value_counts()"
   ]
  },
  {
   "cell_type": "code",
   "execution_count": 27,
   "metadata": {},
   "outputs": [],
   "source": [
    "#Seleccionamos las categorías que tengan mas de 150 establecimientos en la misma.\n",
    "sitios = sitios[sitios['category'].isin(value_counts[value_counts > 150].index)]"
   ]
  },
  {
   "cell_type": "markdown",
   "metadata": {},
   "source": [
    "#### Realizamos nuestra tabla de categorías.  "
   ]
  },
  {
   "cell_type": "code",
   "execution_count": 29,
   "metadata": {},
   "outputs": [],
   "source": [
    "pivot_df = pd.pivot_table(sitios, index='business_id', columns='category', aggfunc=lambda x: 1, fill_value=0)"
   ]
  },
  {
   "cell_type": "code",
   "execution_count": 30,
   "metadata": {},
   "outputs": [
    {
     "data": {
      "text/html": [
       "<div>\n",
       "<style scoped>\n",
       "    .dataframe tbody tr th:only-of-type {\n",
       "        vertical-align: middle;\n",
       "    }\n",
       "\n",
       "    .dataframe tbody tr th {\n",
       "        vertical-align: top;\n",
       "    }\n",
       "\n",
       "    .dataframe thead tr th {\n",
       "        text-align: left;\n",
       "    }\n",
       "\n",
       "    .dataframe thead tr:last-of-type th {\n",
       "        text-align: right;\n",
       "    }\n",
       "</style>\n",
       "<table border=\"1\" class=\"dataframe\">\n",
       "  <thead>\n",
       "    <tr>\n",
       "      <th></th>\n",
       "      <th colspan=\"10\" halign=\"left\">MISC</th>\n",
       "      <th>...</th>\n",
       "      <th colspan=\"10\" halign=\"left\">name</th>\n",
       "    </tr>\n",
       "    <tr>\n",
       "      <th>category</th>\n",
       "      <th>American restaurant</th>\n",
       "      <th>Asian restaurant</th>\n",
       "      <th>Barbecue restaurant</th>\n",
       "      <th>Breakfast restaurant</th>\n",
       "      <th>Caribbean restaurant</th>\n",
       "      <th>Chicken restaurant</th>\n",
       "      <th>Chicken wings restaurant</th>\n",
       "      <th>Chinese restaurant</th>\n",
       "      <th>Dessert restaurant</th>\n",
       "      <th>Dominican restaurant</th>\n",
       "      <th>...</th>\n",
       "      <th>Peruvian restaurant</th>\n",
       "      <th>Pizza restaurant</th>\n",
       "      <th>Salvadoran restaurant</th>\n",
       "      <th>Seafood restaurant</th>\n",
       "      <th>Soul food restaurant</th>\n",
       "      <th>Sushi restaurant</th>\n",
       "      <th>Taco restaurant</th>\n",
       "      <th>Thai restaurant</th>\n",
       "      <th>Vegan restaurant</th>\n",
       "      <th>Vietnamese restaurant</th>\n",
       "    </tr>\n",
       "    <tr>\n",
       "      <th>business_id</th>\n",
       "      <th></th>\n",
       "      <th></th>\n",
       "      <th></th>\n",
       "      <th></th>\n",
       "      <th></th>\n",
       "      <th></th>\n",
       "      <th></th>\n",
       "      <th></th>\n",
       "      <th></th>\n",
       "      <th></th>\n",
       "      <th></th>\n",
       "      <th></th>\n",
       "      <th></th>\n",
       "      <th></th>\n",
       "      <th></th>\n",
       "      <th></th>\n",
       "      <th></th>\n",
       "      <th></th>\n",
       "      <th></th>\n",
       "      <th></th>\n",
       "      <th></th>\n",
       "    </tr>\n",
       "  </thead>\n",
       "  <tbody>\n",
       "    <tr>\n",
       "      <th>0x146d331735522895:0x7d54db7f15a665c8</th>\n",
       "      <td>0</td>\n",
       "      <td>0</td>\n",
       "      <td>0</td>\n",
       "      <td>0</td>\n",
       "      <td>0</td>\n",
       "      <td>0</td>\n",
       "      <td>0</td>\n",
       "      <td>0</td>\n",
       "      <td>0</td>\n",
       "      <td>0</td>\n",
       "      <td>...</td>\n",
       "      <td>0</td>\n",
       "      <td>0</td>\n",
       "      <td>0</td>\n",
       "      <td>0</td>\n",
       "      <td>0</td>\n",
       "      <td>0</td>\n",
       "      <td>0</td>\n",
       "      <td>0</td>\n",
       "      <td>0</td>\n",
       "      <td>0</td>\n",
       "    </tr>\n",
       "    <tr>\n",
       "      <th>0x152043b86515c22f:0x4055bdbbcc5c8eb2</th>\n",
       "      <td>0</td>\n",
       "      <td>0</td>\n",
       "      <td>0</td>\n",
       "      <td>0</td>\n",
       "      <td>0</td>\n",
       "      <td>0</td>\n",
       "      <td>0</td>\n",
       "      <td>0</td>\n",
       "      <td>0</td>\n",
       "      <td>0</td>\n",
       "      <td>...</td>\n",
       "      <td>0</td>\n",
       "      <td>0</td>\n",
       "      <td>0</td>\n",
       "      <td>0</td>\n",
       "      <td>0</td>\n",
       "      <td>0</td>\n",
       "      <td>0</td>\n",
       "      <td>0</td>\n",
       "      <td>0</td>\n",
       "      <td>0</td>\n",
       "    </tr>\n",
       "    <tr>\n",
       "      <th>0x152e4b4b3151d2db:0xffe17510575c3d38</th>\n",
       "      <td>0</td>\n",
       "      <td>0</td>\n",
       "      <td>0</td>\n",
       "      <td>1</td>\n",
       "      <td>0</td>\n",
       "      <td>0</td>\n",
       "      <td>0</td>\n",
       "      <td>0</td>\n",
       "      <td>0</td>\n",
       "      <td>0</td>\n",
       "      <td>...</td>\n",
       "      <td>0</td>\n",
       "      <td>0</td>\n",
       "      <td>0</td>\n",
       "      <td>0</td>\n",
       "      <td>0</td>\n",
       "      <td>0</td>\n",
       "      <td>0</td>\n",
       "      <td>0</td>\n",
       "      <td>0</td>\n",
       "      <td>0</td>\n",
       "    </tr>\n",
       "    <tr>\n",
       "      <th>0x152f777651683fd3:0xec82a7123a2713e6</th>\n",
       "      <td>0</td>\n",
       "      <td>0</td>\n",
       "      <td>0</td>\n",
       "      <td>0</td>\n",
       "      <td>0</td>\n",
       "      <td>0</td>\n",
       "      <td>0</td>\n",
       "      <td>1</td>\n",
       "      <td>0</td>\n",
       "      <td>0</td>\n",
       "      <td>...</td>\n",
       "      <td>0</td>\n",
       "      <td>0</td>\n",
       "      <td>0</td>\n",
       "      <td>0</td>\n",
       "      <td>0</td>\n",
       "      <td>0</td>\n",
       "      <td>0</td>\n",
       "      <td>0</td>\n",
       "      <td>0</td>\n",
       "      <td>0</td>\n",
       "    </tr>\n",
       "    <tr>\n",
       "      <th>0x40544ecd5a4e9add:0xacd71e5487db57cc</th>\n",
       "      <td>0</td>\n",
       "      <td>0</td>\n",
       "      <td>0</td>\n",
       "      <td>0</td>\n",
       "      <td>0</td>\n",
       "      <td>1</td>\n",
       "      <td>0</td>\n",
       "      <td>0</td>\n",
       "      <td>0</td>\n",
       "      <td>0</td>\n",
       "      <td>...</td>\n",
       "      <td>0</td>\n",
       "      <td>0</td>\n",
       "      <td>0</td>\n",
       "      <td>0</td>\n",
       "      <td>0</td>\n",
       "      <td>0</td>\n",
       "      <td>0</td>\n",
       "      <td>0</td>\n",
       "      <td>0</td>\n",
       "      <td>0</td>\n",
       "    </tr>\n",
       "    <tr>\n",
       "      <th>...</th>\n",
       "      <td>...</td>\n",
       "      <td>...</td>\n",
       "      <td>...</td>\n",
       "      <td>...</td>\n",
       "      <td>...</td>\n",
       "      <td>...</td>\n",
       "      <td>...</td>\n",
       "      <td>...</td>\n",
       "      <td>...</td>\n",
       "      <td>...</td>\n",
       "      <td>...</td>\n",
       "      <td>...</td>\n",
       "      <td>...</td>\n",
       "      <td>...</td>\n",
       "      <td>...</td>\n",
       "      <td>...</td>\n",
       "      <td>...</td>\n",
       "      <td>...</td>\n",
       "      <td>...</td>\n",
       "      <td>...</td>\n",
       "      <td>...</td>\n",
       "    </tr>\n",
       "    <tr>\n",
       "      <th>0x89fb69fef8c2ddd1:0x1c1432dbfb9ae7da</th>\n",
       "      <td>0</td>\n",
       "      <td>0</td>\n",
       "      <td>0</td>\n",
       "      <td>1</td>\n",
       "      <td>0</td>\n",
       "      <td>0</td>\n",
       "      <td>0</td>\n",
       "      <td>0</td>\n",
       "      <td>0</td>\n",
       "      <td>0</td>\n",
       "      <td>...</td>\n",
       "      <td>0</td>\n",
       "      <td>0</td>\n",
       "      <td>0</td>\n",
       "      <td>0</td>\n",
       "      <td>0</td>\n",
       "      <td>0</td>\n",
       "      <td>0</td>\n",
       "      <td>0</td>\n",
       "      <td>0</td>\n",
       "      <td>0</td>\n",
       "    </tr>\n",
       "    <tr>\n",
       "      <th>0x89fb6b26b3fe43ad:0x1c4690cc7e9a6c88</th>\n",
       "      <td>0</td>\n",
       "      <td>0</td>\n",
       "      <td>0</td>\n",
       "      <td>0</td>\n",
       "      <td>0</td>\n",
       "      <td>0</td>\n",
       "      <td>0</td>\n",
       "      <td>0</td>\n",
       "      <td>0</td>\n",
       "      <td>0</td>\n",
       "      <td>...</td>\n",
       "      <td>0</td>\n",
       "      <td>0</td>\n",
       "      <td>0</td>\n",
       "      <td>0</td>\n",
       "      <td>0</td>\n",
       "      <td>0</td>\n",
       "      <td>0</td>\n",
       "      <td>0</td>\n",
       "      <td>0</td>\n",
       "      <td>0</td>\n",
       "    </tr>\n",
       "    <tr>\n",
       "      <th>0x89fb6bd43950da25:0xb7d15f5f892ef4e9</th>\n",
       "      <td>0</td>\n",
       "      <td>0</td>\n",
       "      <td>1</td>\n",
       "      <td>0</td>\n",
       "      <td>0</td>\n",
       "      <td>0</td>\n",
       "      <td>0</td>\n",
       "      <td>0</td>\n",
       "      <td>0</td>\n",
       "      <td>0</td>\n",
       "      <td>...</td>\n",
       "      <td>0</td>\n",
       "      <td>0</td>\n",
       "      <td>0</td>\n",
       "      <td>0</td>\n",
       "      <td>0</td>\n",
       "      <td>0</td>\n",
       "      <td>0</td>\n",
       "      <td>0</td>\n",
       "      <td>0</td>\n",
       "      <td>0</td>\n",
       "    </tr>\n",
       "    <tr>\n",
       "      <th>0x89fca7475d00eec9:0xf3d10fd0df1ec035</th>\n",
       "      <td>1</td>\n",
       "      <td>0</td>\n",
       "      <td>0</td>\n",
       "      <td>0</td>\n",
       "      <td>0</td>\n",
       "      <td>0</td>\n",
       "      <td>0</td>\n",
       "      <td>0</td>\n",
       "      <td>0</td>\n",
       "      <td>0</td>\n",
       "      <td>...</td>\n",
       "      <td>0</td>\n",
       "      <td>0</td>\n",
       "      <td>0</td>\n",
       "      <td>0</td>\n",
       "      <td>0</td>\n",
       "      <td>0</td>\n",
       "      <td>0</td>\n",
       "      <td>0</td>\n",
       "      <td>0</td>\n",
       "      <td>0</td>\n",
       "    </tr>\n",
       "    <tr>\n",
       "      <th>0x89fca75daeb85ee3:0xdb1642638e6c9005</th>\n",
       "      <td>0</td>\n",
       "      <td>0</td>\n",
       "      <td>0</td>\n",
       "      <td>0</td>\n",
       "      <td>0</td>\n",
       "      <td>0</td>\n",
       "      <td>0</td>\n",
       "      <td>0</td>\n",
       "      <td>0</td>\n",
       "      <td>0</td>\n",
       "      <td>...</td>\n",
       "      <td>0</td>\n",
       "      <td>0</td>\n",
       "      <td>0</td>\n",
       "      <td>0</td>\n",
       "      <td>0</td>\n",
       "      <td>0</td>\n",
       "      <td>0</td>\n",
       "      <td>0</td>\n",
       "      <td>0</td>\n",
       "      <td>0</td>\n",
       "    </tr>\n",
       "  </tbody>\n",
       "</table>\n",
       "<p>39301 rows × 252 columns</p>\n",
       "</div>"
      ],
      "text/plain": [
       "                                                     MISC                   \\\n",
       "category                              American restaurant Asian restaurant   \n",
       "business_id                                                                  \n",
       "0x146d331735522895:0x7d54db7f15a665c8                   0                0   \n",
       "0x152043b86515c22f:0x4055bdbbcc5c8eb2                   0                0   \n",
       "0x152e4b4b3151d2db:0xffe17510575c3d38                   0                0   \n",
       "0x152f777651683fd3:0xec82a7123a2713e6                   0                0   \n",
       "0x40544ecd5a4e9add:0xacd71e5487db57cc                   0                0   \n",
       "...                                                   ...              ...   \n",
       "0x89fb69fef8c2ddd1:0x1c1432dbfb9ae7da                   0                0   \n",
       "0x89fb6b26b3fe43ad:0x1c4690cc7e9a6c88                   0                0   \n",
       "0x89fb6bd43950da25:0xb7d15f5f892ef4e9                   0                0   \n",
       "0x89fca7475d00eec9:0xf3d10fd0df1ec035                   1                0   \n",
       "0x89fca75daeb85ee3:0xdb1642638e6c9005                   0                0   \n",
       "\n",
       "                                                           \\\n",
       "category                              Barbecue restaurant   \n",
       "business_id                                                 \n",
       "0x146d331735522895:0x7d54db7f15a665c8                   0   \n",
       "0x152043b86515c22f:0x4055bdbbcc5c8eb2                   0   \n",
       "0x152e4b4b3151d2db:0xffe17510575c3d38                   0   \n",
       "0x152f777651683fd3:0xec82a7123a2713e6                   0   \n",
       "0x40544ecd5a4e9add:0xacd71e5487db57cc                   0   \n",
       "...                                                   ...   \n",
       "0x89fb69fef8c2ddd1:0x1c1432dbfb9ae7da                   0   \n",
       "0x89fb6b26b3fe43ad:0x1c4690cc7e9a6c88                   0   \n",
       "0x89fb6bd43950da25:0xb7d15f5f892ef4e9                   1   \n",
       "0x89fca7475d00eec9:0xf3d10fd0df1ec035                   0   \n",
       "0x89fca75daeb85ee3:0xdb1642638e6c9005                   0   \n",
       "\n",
       "                                                            \\\n",
       "category                              Breakfast restaurant   \n",
       "business_id                                                  \n",
       "0x146d331735522895:0x7d54db7f15a665c8                    0   \n",
       "0x152043b86515c22f:0x4055bdbbcc5c8eb2                    0   \n",
       "0x152e4b4b3151d2db:0xffe17510575c3d38                    1   \n",
       "0x152f777651683fd3:0xec82a7123a2713e6                    0   \n",
       "0x40544ecd5a4e9add:0xacd71e5487db57cc                    0   \n",
       "...                                                    ...   \n",
       "0x89fb69fef8c2ddd1:0x1c1432dbfb9ae7da                    1   \n",
       "0x89fb6b26b3fe43ad:0x1c4690cc7e9a6c88                    0   \n",
       "0x89fb6bd43950da25:0xb7d15f5f892ef4e9                    0   \n",
       "0x89fca7475d00eec9:0xf3d10fd0df1ec035                    0   \n",
       "0x89fca75daeb85ee3:0xdb1642638e6c9005                    0   \n",
       "\n",
       "                                                                               \\\n",
       "category                              Caribbean restaurant Chicken restaurant   \n",
       "business_id                                                                     \n",
       "0x146d331735522895:0x7d54db7f15a665c8                    0                  0   \n",
       "0x152043b86515c22f:0x4055bdbbcc5c8eb2                    0                  0   \n",
       "0x152e4b4b3151d2db:0xffe17510575c3d38                    0                  0   \n",
       "0x152f777651683fd3:0xec82a7123a2713e6                    0                  0   \n",
       "0x40544ecd5a4e9add:0xacd71e5487db57cc                    0                  1   \n",
       "...                                                    ...                ...   \n",
       "0x89fb69fef8c2ddd1:0x1c1432dbfb9ae7da                    0                  0   \n",
       "0x89fb6b26b3fe43ad:0x1c4690cc7e9a6c88                    0                  0   \n",
       "0x89fb6bd43950da25:0xb7d15f5f892ef4e9                    0                  0   \n",
       "0x89fca7475d00eec9:0xf3d10fd0df1ec035                    0                  0   \n",
       "0x89fca75daeb85ee3:0xdb1642638e6c9005                    0                  0   \n",
       "\n",
       "                                                                \\\n",
       "category                              Chicken wings restaurant   \n",
       "business_id                                                      \n",
       "0x146d331735522895:0x7d54db7f15a665c8                        0   \n",
       "0x152043b86515c22f:0x4055bdbbcc5c8eb2                        0   \n",
       "0x152e4b4b3151d2db:0xffe17510575c3d38                        0   \n",
       "0x152f777651683fd3:0xec82a7123a2713e6                        0   \n",
       "0x40544ecd5a4e9add:0xacd71e5487db57cc                        0   \n",
       "...                                                        ...   \n",
       "0x89fb69fef8c2ddd1:0x1c1432dbfb9ae7da                        0   \n",
       "0x89fb6b26b3fe43ad:0x1c4690cc7e9a6c88                        0   \n",
       "0x89fb6bd43950da25:0xb7d15f5f892ef4e9                        0   \n",
       "0x89fca7475d00eec9:0xf3d10fd0df1ec035                        0   \n",
       "0x89fca75daeb85ee3:0xdb1642638e6c9005                        0   \n",
       "\n",
       "                                                                             \\\n",
       "category                              Chinese restaurant Dessert restaurant   \n",
       "business_id                                                                   \n",
       "0x146d331735522895:0x7d54db7f15a665c8                  0                  0   \n",
       "0x152043b86515c22f:0x4055bdbbcc5c8eb2                  0                  0   \n",
       "0x152e4b4b3151d2db:0xffe17510575c3d38                  0                  0   \n",
       "0x152f777651683fd3:0xec82a7123a2713e6                  1                  0   \n",
       "0x40544ecd5a4e9add:0xacd71e5487db57cc                  0                  0   \n",
       "...                                                  ...                ...   \n",
       "0x89fb69fef8c2ddd1:0x1c1432dbfb9ae7da                  0                  0   \n",
       "0x89fb6b26b3fe43ad:0x1c4690cc7e9a6c88                  0                  0   \n",
       "0x89fb6bd43950da25:0xb7d15f5f892ef4e9                  0                  0   \n",
       "0x89fca7475d00eec9:0xf3d10fd0df1ec035                  0                  0   \n",
       "0x89fca75daeb85ee3:0xdb1642638e6c9005                  0                  0   \n",
       "\n",
       "                                                            ...  \\\n",
       "category                              Dominican restaurant  ...   \n",
       "business_id                                                 ...   \n",
       "0x146d331735522895:0x7d54db7f15a665c8                    0  ...   \n",
       "0x152043b86515c22f:0x4055bdbbcc5c8eb2                    0  ...   \n",
       "0x152e4b4b3151d2db:0xffe17510575c3d38                    0  ...   \n",
       "0x152f777651683fd3:0xec82a7123a2713e6                    0  ...   \n",
       "0x40544ecd5a4e9add:0xacd71e5487db57cc                    0  ...   \n",
       "...                                                    ...  ...   \n",
       "0x89fb69fef8c2ddd1:0x1c1432dbfb9ae7da                    0  ...   \n",
       "0x89fb6b26b3fe43ad:0x1c4690cc7e9a6c88                    0  ...   \n",
       "0x89fb6bd43950da25:0xb7d15f5f892ef4e9                    0  ...   \n",
       "0x89fca7475d00eec9:0xf3d10fd0df1ec035                    0  ...   \n",
       "0x89fca75daeb85ee3:0xdb1642638e6c9005                    0  ...   \n",
       "\n",
       "                                                     name                   \\\n",
       "category                              Peruvian restaurant Pizza restaurant   \n",
       "business_id                                                                  \n",
       "0x146d331735522895:0x7d54db7f15a665c8                   0                0   \n",
       "0x152043b86515c22f:0x4055bdbbcc5c8eb2                   0                0   \n",
       "0x152e4b4b3151d2db:0xffe17510575c3d38                   0                0   \n",
       "0x152f777651683fd3:0xec82a7123a2713e6                   0                0   \n",
       "0x40544ecd5a4e9add:0xacd71e5487db57cc                   0                0   \n",
       "...                                                   ...              ...   \n",
       "0x89fb69fef8c2ddd1:0x1c1432dbfb9ae7da                   0                0   \n",
       "0x89fb6b26b3fe43ad:0x1c4690cc7e9a6c88                   0                0   \n",
       "0x89fb6bd43950da25:0xb7d15f5f892ef4e9                   0                0   \n",
       "0x89fca7475d00eec9:0xf3d10fd0df1ec035                   0                0   \n",
       "0x89fca75daeb85ee3:0xdb1642638e6c9005                   0                0   \n",
       "\n",
       "                                                             \\\n",
       "category                              Salvadoran restaurant   \n",
       "business_id                                                   \n",
       "0x146d331735522895:0x7d54db7f15a665c8                     0   \n",
       "0x152043b86515c22f:0x4055bdbbcc5c8eb2                     0   \n",
       "0x152e4b4b3151d2db:0xffe17510575c3d38                     0   \n",
       "0x152f777651683fd3:0xec82a7123a2713e6                     0   \n",
       "0x40544ecd5a4e9add:0xacd71e5487db57cc                     0   \n",
       "...                                                     ...   \n",
       "0x89fb69fef8c2ddd1:0x1c1432dbfb9ae7da                     0   \n",
       "0x89fb6b26b3fe43ad:0x1c4690cc7e9a6c88                     0   \n",
       "0x89fb6bd43950da25:0xb7d15f5f892ef4e9                     0   \n",
       "0x89fca7475d00eec9:0xf3d10fd0df1ec035                     0   \n",
       "0x89fca75daeb85ee3:0xdb1642638e6c9005                     0   \n",
       "\n",
       "                                                                               \\\n",
       "category                              Seafood restaurant Soul food restaurant   \n",
       "business_id                                                                     \n",
       "0x146d331735522895:0x7d54db7f15a665c8                  0                    0   \n",
       "0x152043b86515c22f:0x4055bdbbcc5c8eb2                  0                    0   \n",
       "0x152e4b4b3151d2db:0xffe17510575c3d38                  0                    0   \n",
       "0x152f777651683fd3:0xec82a7123a2713e6                  0                    0   \n",
       "0x40544ecd5a4e9add:0xacd71e5487db57cc                  0                    0   \n",
       "...                                                  ...                  ...   \n",
       "0x89fb69fef8c2ddd1:0x1c1432dbfb9ae7da                  0                    0   \n",
       "0x89fb6b26b3fe43ad:0x1c4690cc7e9a6c88                  0                    0   \n",
       "0x89fb6bd43950da25:0xb7d15f5f892ef4e9                  0                    0   \n",
       "0x89fca7475d00eec9:0xf3d10fd0df1ec035                  0                    0   \n",
       "0x89fca75daeb85ee3:0xdb1642638e6c9005                  0                    0   \n",
       "\n",
       "                                                                        \\\n",
       "category                              Sushi restaurant Taco restaurant   \n",
       "business_id                                                              \n",
       "0x146d331735522895:0x7d54db7f15a665c8                0               0   \n",
       "0x152043b86515c22f:0x4055bdbbcc5c8eb2                0               0   \n",
       "0x152e4b4b3151d2db:0xffe17510575c3d38                0               0   \n",
       "0x152f777651683fd3:0xec82a7123a2713e6                0               0   \n",
       "0x40544ecd5a4e9add:0xacd71e5487db57cc                0               0   \n",
       "...                                                ...             ...   \n",
       "0x89fb69fef8c2ddd1:0x1c1432dbfb9ae7da                0               0   \n",
       "0x89fb6b26b3fe43ad:0x1c4690cc7e9a6c88                0               0   \n",
       "0x89fb6bd43950da25:0xb7d15f5f892ef4e9                0               0   \n",
       "0x89fca7475d00eec9:0xf3d10fd0df1ec035                0               0   \n",
       "0x89fca75daeb85ee3:0xdb1642638e6c9005                0               0   \n",
       "\n",
       "                                                                        \\\n",
       "category                              Thai restaurant Vegan restaurant   \n",
       "business_id                                                              \n",
       "0x146d331735522895:0x7d54db7f15a665c8               0                0   \n",
       "0x152043b86515c22f:0x4055bdbbcc5c8eb2               0                0   \n",
       "0x152e4b4b3151d2db:0xffe17510575c3d38               0                0   \n",
       "0x152f777651683fd3:0xec82a7123a2713e6               0                0   \n",
       "0x40544ecd5a4e9add:0xacd71e5487db57cc               0                0   \n",
       "...                                               ...              ...   \n",
       "0x89fb69fef8c2ddd1:0x1c1432dbfb9ae7da               0                0   \n",
       "0x89fb6b26b3fe43ad:0x1c4690cc7e9a6c88               0                0   \n",
       "0x89fb6bd43950da25:0xb7d15f5f892ef4e9               0                0   \n",
       "0x89fca7475d00eec9:0xf3d10fd0df1ec035               0                0   \n",
       "0x89fca75daeb85ee3:0xdb1642638e6c9005               0                0   \n",
       "\n",
       "                                                             \n",
       "category                              Vietnamese restaurant  \n",
       "business_id                                                  \n",
       "0x146d331735522895:0x7d54db7f15a665c8                     0  \n",
       "0x152043b86515c22f:0x4055bdbbcc5c8eb2                     0  \n",
       "0x152e4b4b3151d2db:0xffe17510575c3d38                     0  \n",
       "0x152f777651683fd3:0xec82a7123a2713e6                     0  \n",
       "0x40544ecd5a4e9add:0xacd71e5487db57cc                     0  \n",
       "...                                                     ...  \n",
       "0x89fb69fef8c2ddd1:0x1c1432dbfb9ae7da                     0  \n",
       "0x89fb6b26b3fe43ad:0x1c4690cc7e9a6c88                     0  \n",
       "0x89fb6bd43950da25:0xb7d15f5f892ef4e9                     0  \n",
       "0x89fca7475d00eec9:0xf3d10fd0df1ec035                     0  \n",
       "0x89fca75daeb85ee3:0xdb1642638e6c9005                     0  \n",
       "\n",
       "[39301 rows x 252 columns]"
      ]
     },
     "execution_count": 30,
     "metadata": {},
     "output_type": "execute_result"
    }
   ],
   "source": [
    "pivot_df"
   ]
  },
  {
   "cell_type": "code",
   "execution_count": 31,
   "metadata": {},
   "outputs": [],
   "source": [
    "pivot_df.reset_index(inplace=True)"
   ]
  },
  {
   "cell_type": "markdown",
   "metadata": {},
   "source": [
    "Los primeras 36 categorías son las que tienen datos arriba de 150 restaurantes."
   ]
  },
  {
   "cell_type": "code",
   "execution_count": 40,
   "metadata": {},
   "outputs": [],
   "source": [
    "primeros_36_valores = value_counts.head(36)"
   ]
  },
  {
   "cell_type": "code",
   "execution_count": 41,
   "metadata": {},
   "outputs": [
    {
     "data": {
      "image/png": "[encoded data removed]",
      "text/plain": [
       "<Figure size 1500x500 with 1 Axes>"
      ]
     },
     "metadata": {},
     "output_type": "display_data"
    }
   ],
   "source": [
    "# Graficar las categorías seleccionadas\n",
    "plt.figure(figsize=(15,5))\n",
    "primeros_36_valores.plot(kind='bar', color='skyblue')\n",
    "plt.title('Categorías con mayor concurrencia')\n",
    "plt.xlabel('Categoría')\n",
    "plt.ylabel('Suma')\n",
    "plt.xticks(rotation=90)\n",
    "plt.show()"
   ]
  },
  {
   "cell_type": "markdown",
   "metadata": {},
   "source": [
    "#### Filtro de  restaurantes dada su categoría. "
   ]
  },
  {
   "cell_type": "code",
   "execution_count": 42,
   "metadata": {},
   "outputs": [],
   "source": [
    "#Estos serán los restaurantes que quedaran al final. \n",
    "Ids=sitios['business_id'].tolist()"
   ]
  },
  {
   "cell_type": "code",
   "execution_count": 44,
   "metadata": {},
   "outputs": [],
   "source": [
    "filtered_df = sitios[sitios['business_id'].isin(Ids)]"
   ]
  },
  {
   "cell_type": "code",
   "execution_count": 45,
   "metadata": {},
   "outputs": [],
   "source": [
    "filtered_df = filtered_df.reset_index(drop=True)\n"
   ]
  },
  {
   "cell_type": "code",
   "execution_count": 47,
   "metadata": {},
   "outputs": [],
   "source": [
    "restautrantes=filtered_df[['business_id','name']].copy()"
   ]
  },
  {
   "cell_type": "code",
   "execution_count": 48,
   "metadata": {},
   "outputs": [
    {
     "data": {
      "text/plain": [
       "(39301, 9)"
      ]
     },
     "execution_count": 48,
     "metadata": {},
     "output_type": "execute_result"
    }
   ],
   "source": [
    "#Finalmente nos quedamos con 39,301 establecimientos que cuentan con reseñas y \n",
    "#categorías de interés. \n",
    "filtered_df.shape"
   ]
  },
  {
   "cell_type": "markdown",
   "metadata": {},
   "source": [
    "#### Geographical Data"
   ]
  },
  {
   "cell_type": "code",
   "execution_count": 54,
   "metadata": {},
   "outputs": [],
   "source": [
    "Datos_Geograficos=filtered_df[['business_id','address','latitude','longitude']].copy()"
   ]
  },
  {
   "cell_type": "code",
   "execution_count": 58,
   "metadata": {},
   "outputs": [
    {
     "data": {
      "text/plain": [
       "30"
      ]
     },
     "execution_count": 58,
     "metadata": {},
     "output_type": "execute_result"
    }
   ],
   "source": [
    "Datos_Geograficos['address'].isna().sum()"
   ]
  },
  {
   "cell_type": "code",
   "execution_count": 59,
   "metadata": {},
   "outputs": [],
   "source": [
    "#Aquí se obtienen los datos geográficos (address,city,state,postal_code) por separado\n",
    "#a partir de \"address\" \n",
    "\n",
    "Datos_Geograficos[\"address\"].fillna(\"Sin dato\", inplace=True)\n",
    "\n",
    "#armo lista con listas para cada columna\n",
    "nombre_local, direccion, ciudad, codigo_postal = [], [], [], []\n",
    "\n",
    "for i in Datos_Geograficos[\"address\"]:\n",
    "    #separo cada string despues de la coma\n",
    "    parts = i.split(',')\n",
    "\n",
    "    if len(parts) >= 4:\n",
    "        nombre_local.append(parts[0].strip()) \n",
    "        direccion.append(parts[1].strip())\n",
    "        ciudad.append(parts[2].strip())\n",
    "        codigo_postal.append(parts[3].strip())\n",
    "    else:\n",
    "        nombre_local.append('')\n",
    "        direccion.append('')\n",
    "        ciudad.append('')\n",
    "        codigo_postal.append('')\n",
    "\n",
    "df_address = pd.DataFrame({'Name': nombre_local, 'Address': direccion, 'City': ciudad, 'Postal Code': codigo_postal})\n",
    "\n",
    "# separo la columna postal code en estado y codigo postal\n",
    "df_address[['Postal Code', 'State']] = df_address['Postal Code'].str.split(n=1, expand=True)\n",
    "\n",
    "# renombro\n",
    "df_address.columns = ['Nombre', 'Direccion', 'city', 'state', 'postal_code']"
   ]
  },
  {
   "cell_type": "code",
   "execution_count": 60,
   "metadata": {},
   "outputs": [],
   "source": [
    "counter = 0\n",
    "for i in df_address:\n",
    "    Datos_Geograficos.insert(counter, i, df_address[i])\n",
    "    counter += 1"
   ]
  },
  {
   "cell_type": "code",
   "execution_count": 61,
   "metadata": {},
   "outputs": [],
   "source": [
    "Datos_Geograficos.drop(columns=['address','Nombre'],inplace=True)"
   ]
  },
  {
   "cell_type": "code",
   "execution_count": 62,
   "metadata": {},
   "outputs": [],
   "source": [
    "Datos_Geograficos.rename(columns={'Direccion': 'address'}, inplace=True)"
   ]
  },
  {
   "cell_type": "code",
   "execution_count": 63,
   "metadata": {},
   "outputs": [
    {
     "data": {
      "text/plain": [
       "1016"
      ]
     },
     "execution_count": 63,
     "metadata": {},
     "output_type": "execute_result"
    }
   ],
   "source": [
    "#Tenemos algunos valores faltantes y otros que se obtuvieron de manera errónea\n",
    "Datos_Geograficos['postal_code'].isna().sum()"
   ]
  },
  {
   "cell_type": "code",
   "execution_count": 64,
   "metadata": {},
   "outputs": [],
   "source": [
    "Datos_Geograficos['postal_code'].fillna('Sin Dato',inplace=True)"
   ]
  },
  {
   "cell_type": "code",
   "execution_count": 65,
   "metadata": {},
   "outputs": [],
   "source": [
    "#Separaremos los restaurantes mal llenados bajo la lógica de que deberían ser números\n",
    "resultados = Datos_Geograficos[-Datos_Geograficos['postal_code'].apply(lambda x: x.isdigit())]"
   ]
  },
  {
   "cell_type": "code",
   "execution_count": 66,
   "metadata": {},
   "outputs": [],
   "source": [
    "resultadosresultados = resultados.reset_index(drop=True)"
   ]
  },
  {
   "cell_type": "markdown",
   "metadata": {},
   "source": [
    "###### Para los que se llenaron de mala manera, usaremos una API de google, a la cual se le pasaran la latitud y longitud."
   ]
  },
  {
   "cell_type": "code",
   "execution_count": 67,
   "metadata": {},
   "outputs": [],
   "source": [
    "# Función para obtener la dirección, ciudad, estado y CP a partir de la latitud y longitud.\n",
    "def obtener_direccion(latitud, longitud):\n",
    "    # Hacer una solicitud de geocodificación inversa.\n",
    "    resultado = gmaps.reverse_geocode((latitud, longitud))\n",
    "    \n",
    "    # Inicializar valores por defecto.\n",
    "    direccion = ''\n",
    "    ciudad = ''\n",
    "    estado = ''\n",
    "    cp = ''\n",
    "    \n",
    "    # Si hay resultados, buscar la información relevante.\n",
    "    if resultado:\n",
    "        primer_resultado = resultado[0]\n",
    "        direccion = primer_resultado.get('formatted_address', '')\n",
    "        for componente in primer_resultado['address_components']:\n",
    "            tipos = componente.get('types', [])\n",
    "            if 'locality' in tipos:\n",
    "                ciudad = componente.get('long_name', '')\n",
    "            elif 'administrative_area_level_1' in tipos:\n",
    "                estado = componente.get('short_name', '')\n",
    "            elif 'postal_code' in tipos:\n",
    "                cp = componente.get('long_name', '')\n",
    "    \n",
    "    return direccion, ciudad, estado, cp"
   ]
  },
  {
   "cell_type": "code",
   "execution_count": 68,
   "metadata": {},
   "outputs": [],
   "source": [
    "# Iterar sobre las filas y actualizar las columnas con los resultados.\n",
    "for index, row in resultados.iterrows():\n",
    "    direccion, ciudad, estado, cp = obtener_direccion(row['latitude'], row['longitude'])\n",
    "    resultados.at[index, 'address'] = direccion\n",
    "    resultados.at[index, 'city'] = ciudad\n",
    "    resultados.at[index, 'state'] = estado\n",
    "    resultados.at[index, 'postal_code'] = cp\n",
    "# Ahora, el DataFrame \"df\" contiene las columnas de dirección, ciudad, estado y CP con la información correspondiente."
   ]
  },
  {
   "cell_type": "code",
   "execution_count": 120,
   "metadata": {},
   "outputs": [
    {
     "data": {
      "text/html": [
       "<div>\n",
       "<style scoped>\n",
       "    .dataframe tbody tr th:only-of-type {\n",
       "        vertical-align: middle;\n",
       "    }\n",
       "\n",
       "    .dataframe tbody tr th {\n",
       "        vertical-align: top;\n",
       "    }\n",
       "\n",
       "    .dataframe thead th {\n",
       "        text-align: right;\n",
       "    }\n",
       "</style>\n",
       "<table border=\"1\" class=\"dataframe\">\n",
       "  <thead>\n",
       "    <tr style=\"text-align: right;\">\n",
       "      <th></th>\n",
       "      <th>address</th>\n",
       "      <th>city</th>\n",
       "      <th>state</th>\n",
       "      <th>postal_code</th>\n",
       "      <th>business_id</th>\n",
       "      <th>latitude</th>\n",
       "      <th>longitude</th>\n",
       "    </tr>\n",
       "  </thead>\n",
       "  <tbody>\n",
       "    <tr>\n",
       "      <th>4895</th>\n",
       "      <td>13369 W Colonial Dr, Winter Garden, FL 34787, USA</td>\n",
       "      <td>Winter Garden</td>\n",
       "      <td>FL</td>\n",
       "      <td>34787</td>\n",
       "      <td>0x88e78391721f7c4d:0x7d299b4c817c5af6</td>\n",
       "      <td>28.551761</td>\n",
       "      <td>-81.580783</td>\n",
       "    </tr>\n",
       "  </tbody>\n",
       "</table>\n",
       "</div>"
      ],
      "text/plain": [
       "                                                address           city state  \\\n",
       "4895  13369 W Colonial Dr, Winter Garden, FL 34787, USA  Winter Garden    FL   \n",
       "\n",
       "     postal_code                            business_id   latitude  longitude  \n",
       "4895       34787  0x88e78391721f7c4d:0x7d299b4c817c5af6  28.551761 -81.580783  "
      ]
     },
     "execution_count": 120,
     "metadata": {},
     "output_type": "execute_result"
    }
   ],
   "source": [
    "resultados[resultados['business_id'] == '0x88e78391721f7c4d:0x7d299b4c817c5af6']"
   ]
  },
  {
   "cell_type": "code",
   "execution_count": null,
   "metadata": {},
   "outputs": [],
   "source": [
    "#Se hace pasa el 'business_id' al indice para poder unirlos.\n",
    "Datos_Geograficos.set_index('business_id', inplace=True)\n",
    "resultados.set_index('business_id', inplace=True)"
   ]
  },
  {
   "cell_type": "code",
   "execution_count": 126,
   "metadata": {},
   "outputs": [],
   "source": [
    "#Se unen los datos nuevos que se han tratado.\n",
    "Datos_Geograficos.update(resultados)"
   ]
  },
  {
   "cell_type": "code",
   "execution_count": 134,
   "metadata": {},
   "outputs": [
    {
     "data": {
      "text/plain": [
       "(39301, 7)"
      ]
     },
     "execution_count": 134,
     "metadata": {},
     "output_type": "execute_result"
    }
   ],
   "source": [
    "Datos_Geograficos.shape"
   ]
  },
  {
   "cell_type": "code",
   "execution_count": 132,
   "metadata": {},
   "outputs": [],
   "source": [
    "Datos_Geograficos.reset_index(inplace=True)"
   ]
  },
  {
   "cell_type": "markdown",
   "metadata": {},
   "source": [
    "### Horarios"
   ]
  },
  {
   "cell_type": "code",
   "execution_count": 279,
   "metadata": {},
   "outputs": [],
   "source": [
    "Horarios=filtered_df[['business_id','hours']].copy()"
   ]
  },
  {
   "cell_type": "code",
   "execution_count": 280,
   "metadata": {},
   "outputs": [
    {
     "data": {
      "text/plain": [
       "(39301, 2)"
      ]
     },
     "execution_count": 280,
     "metadata": {},
     "output_type": "execute_result"
    }
   ],
   "source": [
    "Horarios.shape"
   ]
  },
  {
   "cell_type": "code",
   "execution_count": 281,
   "metadata": {},
   "outputs": [
    {
     "data": {
      "text/plain": [
       "1780"
      ]
     },
     "execution_count": 281,
     "metadata": {},
     "output_type": "execute_result"
    }
   ],
   "source": [
    "Horarios['hours'].isna().sum()"
   ]
  },
  {
   "cell_type": "code",
   "execution_count": 282,
   "metadata": {},
   "outputs": [],
   "source": [
    "Horarios['hours'].fillna(\"[['Thursday', 'Sin Dato'], ['Friday', 'Sin Dato'], ['Saturday', 'Sin Dato'], ['Sunday', 'Sin Dato'], ['Monday', 'Sin Dato'],['Tuesday', 'Sin Dato'], ['Wednesday', 'Sin Dato']]\", inplace=True)"
   ]
  },
  {
   "cell_type": "code",
   "execution_count": 283,
   "metadata": {},
   "outputs": [],
   "source": [
    "dataframes_individuales = []\n",
    "\n",
    "for _, row in Horarios.iterrows():\n",
    "    try:\n",
    "        lista_horarios = ast.literal_eval(row['hours'])\n",
    "        df = pd.DataFrame(lista_horarios, columns=['Dia', 'Horario'])\n",
    "        df['business_id'] = row['business_id']\n",
    "        dataframes_individuales.append(df)\n",
    "    except (ValueError, SyntaxError):\n",
    "        pass  # Ignora las filas con valores NaN o cadenas mal formadas.\n",
    "\n",
    "# Concatena todos los DataFrames individuales en uno solo.\n",
    "tabla_pivot_total = pd.concat(dataframes_individuales)\n",
    "\n",
    "# Pivotea la tabla.\n",
    "Tabla_Horarios = tabla_pivot_total.pivot(index='business_id', columns='Dia', values='Horario')"
   ]
  },
  {
   "cell_type": "code",
   "execution_count": 290,
   "metadata": {},
   "outputs": [],
   "source": [
    "Tabla_Horarios=Tabla_Horarios.reset_index()"
   ]
  },
  {
   "cell_type": "markdown",
   "metadata": {},
   "source": [
    "MISC"
   ]
  },
  {
   "cell_type": "code",
   "execution_count": null,
   "metadata": {},
   "outputs": [],
   "source": [
    "MISC_copy=filtered_df[['business_id','MISC']].copy()"
   ]
  },
  {
   "cell_type": "code",
   "execution_count": null,
   "metadata": {},
   "outputs": [],
   "source": [
    "MISC_copy.isna().sum()"
   ]
  },
  {
   "cell_type": "code",
   "execution_count": null,
   "metadata": {},
   "outputs": [],
   "source": [
    "MISC_copy = MISC_copy.replace('null', np.nan)\n",
    "MISC_copy['MISC'] = MISC_copy['MISC'].fillna('{}')"
   ]
  },
  {
   "cell_type": "code",
   "execution_count": null,
   "metadata": {},
   "outputs": [],
   "source": [
    "MISC_copy['MISC'] = MISC_copy['MISC'].apply(ast.literal_eval)"
   ]
  },
  {
   "cell_type": "code",
   "execution_count": null,
   "metadata": {},
   "outputs": [],
   "source": [
    "df_expanded = pd.json_normalize(MISC_copy['MISC'].tolist())"
   ]
  },
  {
   "cell_type": "code",
   "execution_count": null,
   "metadata": {},
   "outputs": [],
   "source": [
    "MISC_df = pd.concat([MISC_copy.drop('MISC', axis=1), df_expanded], axis=1)\n",
    "MISC_df=MISC_df.set_index('business_id')"
   ]
  },
  {
   "cell_type": "code",
   "execution_count": null,
   "metadata": {},
   "outputs": [],
   "source": [
    "# Función para extraer el texto de una lista de cadenas\n",
    "def extraer_texto(lista):\n",
    "    if isinstance(lista, list):\n",
    "        return ', '.join([item for item in lista if isinstance(item, str)])\n",
    "    return np.NaN\n",
    "MISC_df = MISC_df.applymap(extraer_texto)\n",
    "MISC_df.reset_index(inplace=True)\n",
    "MISC_df.rename(columns={'index': 'business_id'}, inplace=True) "
   ]
  },
  {
   "cell_type": "code",
   "execution_count": null,
   "metadata": {},
   "outputs": [],
   "source": [
    "MISC_df = MISC_df.rename(columns={'From the business': 'From_the_business','Service options':'Service_options','Health & safety':'Health_safety','Popular for':'Popular_for','Dining options':'Dining_options'})"
   ]
  }
 ],
 "metadata": {
  "kernelspec": {
   "display_name": "Python 3.8.3 64-bit",
   "language": "python",
   "name": "python3"
  },
  "language_info": {
   "codemirror_mode": {
    "name": "ipython",
    "version": 3
   },
   "file_extension": ".py",
   "mimetype": "text/x-python",
   "name": "python",
   "nbconvert_exporter": "python",
   "pygments_lexer": "ipython3",
   "version": "3.8.3"
  },
  "orig_nbformat": 4,
  "vscode": {
   "interpreter": {
    "hash": "aee8b7b246df8f9039afb4144a1f6fd8d2ca17a180786b69acc140d282b71a49"
   }
  }
 },
 "nbformat": 4,
 "nbformat_minor": 2
}
