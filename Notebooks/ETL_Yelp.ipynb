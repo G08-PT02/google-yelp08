{
 "cells": [
  {
   "cell_type": "code",
   "execution_count": null,
   "metadata": {},
   "outputs": [],
   "source": [
    "#pip install pickle-mixin\n",
    "#pip install fuzzywuzzy\n",
    "#pip install pyarrow"
   ]
  },
  {
   "cell_type": "code",
   "execution_count": 1,
   "metadata": {},
   "outputs": [
    {
     "name": "stderr",
     "output_type": "stream",
     "text": [
      "/Library/Frameworks/Python.framework/Versions/3.8/lib/python3.8/site-packages/fuzzywuzzy/fuzz.py:11: UserWarning: Using slow pure-python SequenceMatcher. Install python-Levenshtein to remove this warning\n",
      "  warnings.warn('Using slow pure-python SequenceMatcher. Install python-Levenshtein to remove this warning')\n"
     ]
    }
   ],
   "source": [
    "import pandas as pd\n",
    "import os\n",
    "import pickle\n",
    "import json\n",
    "from fuzzywuzzy import fuzz"
   ]
  },
  {
   "cell_type": "markdown",
   "metadata": {},
   "source": [
    "Business: Contiene información del comercio, incluyendo localización, atributos y categorías.\n"
   ]
  },
  {
   "cell_type": "code",
   "execution_count": 11,
   "metadata": {},
   "outputs": [],
   "source": [
    "# Ruta al archivo .pkl que deseas abrir\n",
    "ruta_archivo_pkl = '../PROYECTO_FINAL_EQUIPO/Yelp/business.pkl'\n",
    "\n",
    "# Abrir el archivo .pkl en modo lectura binaria\n",
    "with open(ruta_archivo_pkl, 'rb') as archivo_pkl:\n",
    "    # Cargar el objeto desde el archivo .pkl\n",
    "    business_Yelp = pickle.load(archivo_pkl)\n"
   ]
  },
  {
   "cell_type": "code",
   "execution_count": 12,
   "metadata": {},
   "outputs": [
    {
     "data": {
      "text/plain": [
       "(150346, 28)"
      ]
     },
     "execution_count": 12,
     "metadata": {},
     "output_type": "execute_result"
    }
   ],
   "source": [
    "business_Yelp.shape"
   ]
  },
  {
   "cell_type": "code",
   "execution_count": 13,
   "metadata": {},
   "outputs": [
    {
     "name": "stdout",
     "output_type": "stream",
     "text": [
      "<class 'pandas.core.frame.DataFrame'>\n",
      "Int64Index: 150346 entries, 0 to 150345\n",
      "Data columns (total 28 columns):\n",
      " #   Column        Non-Null Count   Dtype \n",
      "---  ------        --------------   ----- \n",
      " 0   business_id   150346 non-null  object\n",
      " 1   name          150346 non-null  object\n",
      " 2   address       150346 non-null  object\n",
      " 3   city          150346 non-null  object\n",
      " 4   state         150343 non-null  object\n",
      " 5   postal_code   150346 non-null  object\n",
      " 6   latitude      150346 non-null  object\n",
      " 7   longitude     150346 non-null  object\n",
      " 8   stars         150346 non-null  object\n",
      " 9   review_count  150346 non-null  object\n",
      " 10  is_open       150346 non-null  object\n",
      " 11  attributes    136602 non-null  object\n",
      " 12  categories    150243 non-null  object\n",
      " 13  hours         127123 non-null  object\n",
      " 14  business_id   5 non-null       object\n",
      " 15  name          5 non-null       object\n",
      " 16  address       5 non-null       object\n",
      " 17  city          5 non-null       object\n",
      " 18  state         5 non-null       object\n",
      " 19  postal_code   5 non-null       object\n",
      " 20  latitude      5 non-null       object\n",
      " 21  longitude     5 non-null       object\n",
      " 22  stars         5 non-null       object\n",
      " 23  review_count  5 non-null       object\n",
      " 24  is_open       5 non-null       object\n",
      " 25  attributes    5 non-null       object\n",
      " 26  categories    5 non-null       object\n",
      " 27  hours         5 non-null       object\n",
      "dtypes: object(28)\n",
      "memory usage: 33.3+ MB\n"
     ]
    }
   ],
   "source": [
    "business_Yelp.info()"
   ]
  },
  {
   "cell_type": "code",
   "execution_count": 14,
   "metadata": {},
   "outputs": [],
   "source": [
    "#Eliminando Columnas Duplicadas\n",
    "business_Yelp = business_Yelp.loc[:, ~business_Yelp.columns.duplicated()]\n"
   ]
  },
  {
   "cell_type": "code",
   "execution_count": 15,
   "metadata": {},
   "outputs": [
    {
     "data": {
      "text/html": [
       "<div>\n",
       "<style scoped>\n",
       "    .dataframe tbody tr th:only-of-type {\n",
       "        vertical-align: middle;\n",
       "    }\n",
       "\n",
       "    .dataframe tbody tr th {\n",
       "        vertical-align: top;\n",
       "    }\n",
       "\n",
       "    .dataframe thead th {\n",
       "        text-align: right;\n",
       "    }\n",
       "</style>\n",
       "<table border=\"1\" class=\"dataframe\">\n",
       "  <thead>\n",
       "    <tr style=\"text-align: right;\">\n",
       "      <th></th>\n",
       "      <th>business_id</th>\n",
       "      <th>name</th>\n",
       "      <th>address</th>\n",
       "      <th>city</th>\n",
       "      <th>state</th>\n",
       "      <th>postal_code</th>\n",
       "      <th>latitude</th>\n",
       "      <th>longitude</th>\n",
       "      <th>stars</th>\n",
       "      <th>review_count</th>\n",
       "      <th>is_open</th>\n",
       "      <th>attributes</th>\n",
       "      <th>categories</th>\n",
       "      <th>hours</th>\n",
       "    </tr>\n",
       "  </thead>\n",
       "  <tbody>\n",
       "    <tr>\n",
       "      <th>117129</th>\n",
       "      <td>OHs8Aeu5lPM-BBfUqyU7Dw</td>\n",
       "      <td>3 Chefs Restaurant</td>\n",
       "      <td>323 Old York Rd</td>\n",
       "      <td>Jenkintown</td>\n",
       "      <td>CA</td>\n",
       "      <td>19046</td>\n",
       "      <td>40.091773</td>\n",
       "      <td>-75.125167</td>\n",
       "      <td>2.0</td>\n",
       "      <td>7</td>\n",
       "      <td>0</td>\n",
       "      <td>{'Ambience': '{'romantic': False, 'intimate': ...</td>\n",
       "      <td>Sandwiches, Diners, Restaurants</td>\n",
       "      <td>None</td>\n",
       "    </tr>\n",
       "    <tr>\n",
       "      <th>77724</th>\n",
       "      <td>gdH0yhCQaHjBQ6vd0rYiSA</td>\n",
       "      <td>Krispy Krunchy Chicken</td>\n",
       "      <td>1825-33 West Oregon Ave</td>\n",
       "      <td>Philadelphia</td>\n",
       "      <td>PA</td>\n",
       "      <td>19145</td>\n",
       "      <td>39.918163</td>\n",
       "      <td>-75.178955</td>\n",
       "      <td>3.0</td>\n",
       "      <td>5</td>\n",
       "      <td>1</td>\n",
       "      <td>{'RestaurantsTakeOut': 'True', 'RestaurantsDel...</td>\n",
       "      <td>Breakfast &amp; Brunch, Chicken Wings, American (N...</td>\n",
       "      <td>{'Monday': '11:0-21:0', 'Tuesday': '11:0-21:0'...</td>\n",
       "    </tr>\n",
       "  </tbody>\n",
       "</table>\n",
       "</div>"
      ],
      "text/plain": [
       "                   business_id                    name  \\\n",
       "117129  OHs8Aeu5lPM-BBfUqyU7Dw      3 Chefs Restaurant   \n",
       "77724   gdH0yhCQaHjBQ6vd0rYiSA  Krispy Krunchy Chicken   \n",
       "\n",
       "                        address          city state postal_code   latitude  \\\n",
       "117129          323 Old York Rd    Jenkintown    CA       19046  40.091773   \n",
       "77724   1825-33 West Oregon Ave  Philadelphia    PA       19145  39.918163   \n",
       "\n",
       "        longitude stars review_count is_open  \\\n",
       "117129 -75.125167   2.0            7       0   \n",
       "77724  -75.178955   3.0            5       1   \n",
       "\n",
       "                                               attributes  \\\n",
       "117129  {'Ambience': '{'romantic': False, 'intimate': ...   \n",
       "77724   {'RestaurantsTakeOut': 'True', 'RestaurantsDel...   \n",
       "\n",
       "                                               categories  \\\n",
       "117129                    Sandwiches, Diners, Restaurants   \n",
       "77724   Breakfast & Brunch, Chicken Wings, American (N...   \n",
       "\n",
       "                                                    hours  \n",
       "117129                                               None  \n",
       "77724   {'Monday': '11:0-21:0', 'Tuesday': '11:0-21:0'...  "
      ]
     },
     "execution_count": 15,
     "metadata": {},
     "output_type": "execute_result"
    }
   ],
   "source": [
    "business_Yelp.sample(2)"
   ]
  },
  {
   "cell_type": "markdown",
   "metadata": {},
   "source": [
    "### Eliminar columnas que no nos sirven"
   ]
  },
  {
   "cell_type": "code",
   "execution_count": 17,
   "metadata": {},
   "outputs": [],
   "source": [
    "#Esta columna indica si un negocio esta abierto o cerrado en el momento, así que no nos sirve.\n",
    "business_Yelp.drop(columns='is_open',inplace=True)"
   ]
  },
  {
   "cell_type": "code",
   "execution_count": 18,
   "metadata": {},
   "outputs": [],
   "source": [
    "#Bajo el mismo criterio que en Google, no se sabe cuando se tomaron las lecturas de Reviews\n",
    "#por lo que es conveniente imputar estos datos dependiendo el periodo que se trabaje.\n",
    "business_Yelp.drop(columns='review_count',inplace=True)\n",
    "business_Yelp.drop(columns='stars',inplace=True)\n"
   ]
  },
  {
   "cell_type": "markdown",
   "metadata": {},
   "source": [
    "Dejar solo los negocios que sean del tipo Restaurantes."
   ]
  },
  {
   "cell_type": "code",
   "execution_count": 19,
   "metadata": {},
   "outputs": [],
   "source": [
    "#Generar una lista de categorías únicas:\n",
    "\n",
    "# Rellena los valores nulos con una cadena vacía\n",
    "business_Yelp['categories'].fillna('', inplace=True)\n",
    "\n",
    "# Dividir la columna \"categories\" en listas de categorías\n",
    "categories_lists = business_Yelp['categories'].str.split(', ')\n",
    "\n",
    "# Unir todas las listas en una única lista\n",
    "all_categories = [category for categories_list in categories_lists for category in categories_list]\n",
    "\n",
    "# Convertir el conjunto de nuevo en una lista si es necesario\n",
    "unique_categories = set(all_categories)\n",
    "unique_categories_list = list(unique_categories)"
   ]
  },
  {
   "cell_type": "code",
   "execution_count": 20,
   "metadata": {},
   "outputs": [],
   "source": [
    "#Con las categorías únicas y nuestra palabra clave, obtendremos similitud de categorías\n",
    "#Para asegurar seleccionar todos los restaurantes\n",
    "keyword = \"restaurant\"\n",
    "\n",
    "# Función para calcular la similitud entre la palabra clave y cada categoría\n",
    "def calcular_similitud(categoria, keyword):\n",
    "    return fuzz.ratio(keyword, categoria)\n",
    "\n",
    "# Calcular la similitud para cada categoría en la lista\n",
    "similitudes = [(categoria, calcular_similitud(categoria, keyword)) for categoria in unique_categories_list]\n",
    "\n",
    "# Filtrar categorías que tienen una similitud mayor que un umbral (por ejemplo, 70)\n",
    "umbral_similitud = 63  # Puedes ajustar este valor según tus necesidades\n",
    "categorias_similares = [categoria for categoria, similitud in similitudes if similitud >= umbral_similitud]"
   ]
  },
  {
   "cell_type": "code",
   "execution_count": 21,
   "metadata": {},
   "outputs": [
    {
     "data": {
      "text/plain": [
       "['Pop-Up Restaurants', 'Restaurants']"
      ]
     },
     "execution_count": 21,
     "metadata": {},
     "output_type": "execute_result"
    }
   ],
   "source": [
    "categorias_similares"
   ]
  },
  {
   "cell_type": "code",
   "execution_count": 22,
   "metadata": {},
   "outputs": [],
   "source": [
    "df_business_Yelp = business_Yelp\n",
    "# Primero, dividimos los valores de 'categories' en listas de strings\n",
    "df_business_Yelp['categories'] = df_business_Yelp['categories'].str.split(',')\n",
    "\n",
    "df_business_Yelp = df_business_Yelp.dropna(subset=['categories'])\n",
    "\n",
    "#Filtrar por categoría \"Restaurantes\"\n",
    "df_business_Yelp = df_business_Yelp[df_business_Yelp['categories'].apply(lambda categories: 'Restaurants' in categories or 'Pop-Up Restaurants' in categories)]\n",
    "\n",
    "# Unir los valores de la lista en categorías en un solo string separado por comas\n",
    "df_business_Yelp['categories'] = df_business_Yelp['categories'].apply(lambda x: ','.join(x))\n",
    "\n",
    "# Recetar el Indice\n",
    "df_business_Yelp.reset_index(inplace=True, drop=True)"
   ]
  },
  {
   "cell_type": "code",
   "execution_count": 23,
   "metadata": {},
   "outputs": [
    {
     "data": {
      "text/plain": [
       "(15305, 11)"
      ]
     },
     "execution_count": 23,
     "metadata": {},
     "output_type": "execute_result"
    }
   ],
   "source": [
    "df_business_Yelp.shape"
   ]
  },
  {
   "cell_type": "code",
   "execution_count": 24,
   "metadata": {},
   "outputs": [
    {
     "data": {
      "text/html": [
       "<div>\n",
       "<style scoped>\n",
       "    .dataframe tbody tr th:only-of-type {\n",
       "        vertical-align: middle;\n",
       "    }\n",
       "\n",
       "    .dataframe tbody tr th {\n",
       "        vertical-align: top;\n",
       "    }\n",
       "\n",
       "    .dataframe thead th {\n",
       "        text-align: right;\n",
       "    }\n",
       "</style>\n",
       "<table border=\"1\" class=\"dataframe\">\n",
       "  <thead>\n",
       "    <tr style=\"text-align: right;\">\n",
       "      <th></th>\n",
       "      <th>business_id</th>\n",
       "      <th>name</th>\n",
       "      <th>address</th>\n",
       "      <th>city</th>\n",
       "      <th>state</th>\n",
       "      <th>postal_code</th>\n",
       "      <th>latitude</th>\n",
       "      <th>longitude</th>\n",
       "      <th>attributes</th>\n",
       "      <th>categories</th>\n",
       "      <th>hours</th>\n",
       "    </tr>\n",
       "  </thead>\n",
       "  <tbody>\n",
       "    <tr>\n",
       "      <th>0</th>\n",
       "      <td>MTSW4McQd7CbVtyjqoe9mw</td>\n",
       "      <td>St Honore Pastries</td>\n",
       "      <td>935 Race St</td>\n",
       "      <td>Philadelphia</td>\n",
       "      <td>CA</td>\n",
       "      <td>19107</td>\n",
       "      <td>39.955505</td>\n",
       "      <td>-75.155564</td>\n",
       "      <td>{'RestaurantsDelivery': 'False', 'OutdoorSeati...</td>\n",
       "      <td>Restaurants, Food, Bubble Tea, Coffee &amp; Tea, B...</td>\n",
       "      <td>{'Monday': '7:0-20:0', 'Tuesday': '7:0-20:0', ...</td>\n",
       "    </tr>\n",
       "    <tr>\n",
       "      <th>1</th>\n",
       "      <td>9OG5YkX1g2GReZM0AskizA</td>\n",
       "      <td>Romano's Macaroni Grill</td>\n",
       "      <td>5505 S Virginia St</td>\n",
       "      <td>Reno</td>\n",
       "      <td>AB</td>\n",
       "      <td>89502</td>\n",
       "      <td>39.476117</td>\n",
       "      <td>-119.789339</td>\n",
       "      <td>{'RestaurantsGoodForGroups': 'True', 'Restaura...</td>\n",
       "      <td>Restaurants, Italian</td>\n",
       "      <td>{'Monday': '11:0-22:0', 'Tuesday': '11:0-22:0'...</td>\n",
       "    </tr>\n",
       "  </tbody>\n",
       "</table>\n",
       "</div>"
      ],
      "text/plain": [
       "              business_id                     name             address  \\\n",
       "0  MTSW4McQd7CbVtyjqoe9mw       St Honore Pastries         935 Race St   \n",
       "1  9OG5YkX1g2GReZM0AskizA  Romano's Macaroni Grill  5505 S Virginia St   \n",
       "\n",
       "           city state postal_code   latitude   longitude  \\\n",
       "0  Philadelphia    CA       19107  39.955505  -75.155564   \n",
       "1          Reno    AB       89502  39.476117 -119.789339   \n",
       "\n",
       "                                          attributes  \\\n",
       "0  {'RestaurantsDelivery': 'False', 'OutdoorSeati...   \n",
       "1  {'RestaurantsGoodForGroups': 'True', 'Restaura...   \n",
       "\n",
       "                                          categories  \\\n",
       "0  Restaurants, Food, Bubble Tea, Coffee & Tea, B...   \n",
       "1                               Restaurants, Italian   \n",
       "\n",
       "                                               hours  \n",
       "0  {'Monday': '7:0-20:0', 'Tuesday': '7:0-20:0', ...  \n",
       "1  {'Monday': '11:0-22:0', 'Tuesday': '11:0-22:0'...  "
      ]
     },
     "execution_count": 24,
     "metadata": {},
     "output_type": "execute_result"
    }
   ],
   "source": [
    "df_business_Yelp.head(2)"
   ]
  },
  {
   "cell_type": "code",
   "execution_count": 25,
   "metadata": {},
   "outputs": [
    {
     "data": {
      "text/plain": [
       "0"
      ]
     },
     "execution_count": 25,
     "metadata": {},
     "output_type": "execute_result"
    }
   ],
   "source": [
    "#Aunque no hay duplicados, debemos quedarnos con los restaurantes que tengamos reseñas.\n",
    "df_business_Yelp['business_id'].duplicated().sum()"
   ]
  },
  {
   "cell_type": "markdown",
   "metadata": {},
   "source": [
    "## DataSet Review"
   ]
  },
  {
   "cell_type": "code",
   "execution_count": 26,
   "metadata": {},
   "outputs": [],
   "source": [
    "# Ruta de la carpeta de datos de Google Maps\n",
    "yelp_folder = '/Users/alejandrobenjaminnunezguzman/Desktop/PROYECTO_FINAL_EQUIPO/Yelp'\n",
    "\n",
    "# Ruta de la sub-carpeta \"metadata-sitios\"\n",
    "yelp_subfolder = os.path.join(yelp_folder, 'Reviews')"
   ]
  },
  {
   "cell_type": "code",
   "execution_count": 27,
   "metadata": {},
   "outputs": [],
   "source": [
    "reviews = []\n",
    "\n",
    "# Recorrer todos los archivos\n",
    "for archivo in os.listdir(yelp_subfolder):\n",
    "        # Ruta del archivo JSON actual\n",
    "        ruta_archivo = os.path.join(yelp_subfolder, archivo)\n",
    "\n",
    "        # Leer el contenido del archivo\n",
    "        with open(ruta_archivo) as f:\n",
    "            contenido_json = f.readlines()\n",
    "\n",
    "        # Cargar cada objeto JSON por separado\n",
    "        for linea in contenido_json:\n",
    "            try:\n",
    "                data = json.loads(linea)\n",
    "            except json.JSONDecodeError as e:\n",
    "                print(f\"Error al cargar el archivo JSON {ruta_archivo}: {e}\")\n",
    "                continue\n",
    "\n",
    "            reviews.append(data)\n",
    "\n",
    "# Convertir los resultados a un pandas DataFrame\n",
    "df_reviews = pd.DataFrame(reviews)"
   ]
  },
  {
   "cell_type": "code",
   "execution_count": 37,
   "metadata": {},
   "outputs": [
    {
     "data": {
      "text/plain": [
       "(6990280, 9)"
      ]
     },
     "execution_count": 37,
     "metadata": {},
     "output_type": "execute_result"
    }
   ],
   "source": [
    "#Reviews de todos los negocios\n",
    "df_reviews.shape"
   ]
  },
  {
   "cell_type": "markdown",
   "metadata": {},
   "source": [
    "Seleccionamos únicamente reviews de negocios del tipo: Restaurantes"
   ]
  },
  {
   "cell_type": "code",
   "execution_count": 57,
   "metadata": {},
   "outputs": [
    {
     "data": {
      "text/html": [
       "<div>\n",
       "<style scoped>\n",
       "    .dataframe tbody tr th:only-of-type {\n",
       "        vertical-align: middle;\n",
       "    }\n",
       "\n",
       "    .dataframe tbody tr th {\n",
       "        vertical-align: top;\n",
       "    }\n",
       "\n",
       "    .dataframe thead th {\n",
       "        text-align: right;\n",
       "    }\n",
       "</style>\n",
       "<table border=\"1\" class=\"dataframe\">\n",
       "  <thead>\n",
       "    <tr style=\"text-align: right;\">\n",
       "      <th></th>\n",
       "      <th>business_id</th>\n",
       "      <th>name</th>\n",
       "      <th>address</th>\n",
       "      <th>city</th>\n",
       "      <th>state</th>\n",
       "      <th>postal_code</th>\n",
       "      <th>latitude</th>\n",
       "      <th>longitude</th>\n",
       "      <th>attributes</th>\n",
       "      <th>categories</th>\n",
       "      <th>hours</th>\n",
       "    </tr>\n",
       "  </thead>\n",
       "  <tbody>\n",
       "    <tr>\n",
       "      <th>14623</th>\n",
       "      <td>4DPO4PnukaY3mmm4MwP1ZA</td>\n",
       "      <td>Wrapture</td>\n",
       "      <td>City Centre Mall East, 803-10088 102 Ave NW, #29</td>\n",
       "      <td>Edmonton</td>\n",
       "      <td>FL</td>\n",
       "      <td>T5J 2Z1</td>\n",
       "      <td>53.540895</td>\n",
       "      <td>-113.495596</td>\n",
       "      <td>{'RestaurantsAttire': 'u'casual'', 'Alcohol': ...</td>\n",
       "      <td>Restaurants, Sandwiches, Delis</td>\n",
       "      <td>None</td>\n",
       "    </tr>\n",
       "  </tbody>\n",
       "</table>\n",
       "</div>"
      ],
      "text/plain": [
       "                  business_id      name  \\\n",
       "14623  4DPO4PnukaY3mmm4MwP1ZA  Wrapture   \n",
       "\n",
       "                                                address      city state  \\\n",
       "14623  City Centre Mall East, 803-10088 102 Ave NW, #29  Edmonton    FL   \n",
       "\n",
       "      postal_code   latitude   longitude  \\\n",
       "14623     T5J 2Z1  53.540895 -113.495596   \n",
       "\n",
       "                                              attributes  \\\n",
       "14623  {'RestaurantsAttire': 'u'casual'', 'Alcohol': ...   \n",
       "\n",
       "                           categories hours  \n",
       "14623  Restaurants, Sandwiches, Delis  None  "
      ]
     },
     "execution_count": 57,
     "metadata": {},
     "output_type": "execute_result"
    }
   ],
   "source": [
    "df_business_Yelp.sample(1)"
   ]
  },
  {
   "cell_type": "code",
   "execution_count": 58,
   "metadata": {},
   "outputs": [],
   "source": [
    "# Crear una lista de IDs a partir de df1\n",
    "lista_de_ids = df_business_Yelp['business_id'].tolist()\n",
    "\n",
    "# Filtrar df2 basándose en la lista de IDs de df1\n",
    "df_reviews_res = df_reviews[df_reviews['business_id'].isin(lista_de_ids)].copy()"
   ]
  },
  {
   "cell_type": "code",
   "execution_count": 59,
   "metadata": {},
   "outputs": [
    {
     "data": {
      "text/plain": [
       "(1192401, 9)"
      ]
     },
     "execution_count": 59,
     "metadata": {},
     "output_type": "execute_result"
    }
   ],
   "source": [
    "df_reviews_res.shape"
   ]
  },
  {
   "cell_type": "code",
   "execution_count": 60,
   "metadata": {},
   "outputs": [
    {
     "data": {
      "text/html": [
       "<div>\n",
       "<style scoped>\n",
       "    .dataframe tbody tr th:only-of-type {\n",
       "        vertical-align: middle;\n",
       "    }\n",
       "\n",
       "    .dataframe tbody tr th {\n",
       "        vertical-align: top;\n",
       "    }\n",
       "\n",
       "    .dataframe thead th {\n",
       "        text-align: right;\n",
       "    }\n",
       "</style>\n",
       "<table border=\"1\" class=\"dataframe\">\n",
       "  <thead>\n",
       "    <tr style=\"text-align: right;\">\n",
       "      <th></th>\n",
       "      <th>review_id</th>\n",
       "      <th>user_id</th>\n",
       "      <th>business_id</th>\n",
       "      <th>stars</th>\n",
       "      <th>useful</th>\n",
       "      <th>funny</th>\n",
       "      <th>cool</th>\n",
       "      <th>text</th>\n",
       "      <th>date</th>\n",
       "    </tr>\n",
       "  </thead>\n",
       "  <tbody>\n",
       "    <tr>\n",
       "      <th>22</th>\n",
       "      <td>4zTdZMUfD3wCzpf4U432jA</td>\n",
       "      <td>y5tN0fBBzCAXMY9pmctA5w</td>\n",
       "      <td>R2PSCHpF2zt0lOKeZtyfhg</td>\n",
       "      <td>3.0</td>\n",
       "      <td>0</td>\n",
       "      <td>0</td>\n",
       "      <td>0</td>\n",
       "      <td>The price for this buffet was $27.99. dependin...</td>\n",
       "      <td>2020-02-02 05:42:56</td>\n",
       "    </tr>\n",
       "  </tbody>\n",
       "</table>\n",
       "</div>"
      ],
      "text/plain": [
       "                 review_id                 user_id             business_id  \\\n",
       "22  4zTdZMUfD3wCzpf4U432jA  y5tN0fBBzCAXMY9pmctA5w  R2PSCHpF2zt0lOKeZtyfhg   \n",
       "\n",
       "    stars  useful  funny  cool  \\\n",
       "22    3.0       0      0     0   \n",
       "\n",
       "                                                 text                 date  \n",
       "22  The price for this buffet was $27.99. dependin...  2020-02-02 05:42:56  "
      ]
     },
     "execution_count": 60,
     "metadata": {},
     "output_type": "execute_result"
    }
   ],
   "source": [
    "df_reviews_res.head(1)"
   ]
  },
  {
   "cell_type": "code",
   "execution_count": 61,
   "metadata": {},
   "outputs": [],
   "source": [
    "#Dejar la fecha en formato año/mes/día: \n",
    "df_reviews_res['date'] = pd.to_datetime(df_reviews_res['date']).dt.date"
   ]
  },
  {
   "cell_type": "code",
   "execution_count": 63,
   "metadata": {},
   "outputs": [
    {
     "data": {
      "text/html": [
       "<div>\n",
       "<style scoped>\n",
       "    .dataframe tbody tr th:only-of-type {\n",
       "        vertical-align: middle;\n",
       "    }\n",
       "\n",
       "    .dataframe tbody tr th {\n",
       "        vertical-align: top;\n",
       "    }\n",
       "\n",
       "    .dataframe thead th {\n",
       "        text-align: right;\n",
       "    }\n",
       "</style>\n",
       "<table border=\"1\" class=\"dataframe\">\n",
       "  <thead>\n",
       "    <tr style=\"text-align: right;\">\n",
       "      <th></th>\n",
       "      <th>review_id</th>\n",
       "      <th>user_id</th>\n",
       "      <th>business_id</th>\n",
       "      <th>stars</th>\n",
       "      <th>useful</th>\n",
       "      <th>funny</th>\n",
       "      <th>cool</th>\n",
       "      <th>text</th>\n",
       "      <th>date</th>\n",
       "    </tr>\n",
       "  </thead>\n",
       "  <tbody>\n",
       "    <tr>\n",
       "      <th>631947</th>\n",
       "      <td>d7TdwrIJBxHAU9MQ1Dkeew</td>\n",
       "      <td>OYRdd_IBcWaIT9tUfLv0YQ</td>\n",
       "      <td>Bw0cpnfI-Y9QmjWzqS-oFg</td>\n",
       "      <td>5.0</td>\n",
       "      <td>2</td>\n",
       "      <td>0</td>\n",
       "      <td>0</td>\n",
       "      <td>Wonderful food and service. I've been there ar...</td>\n",
       "      <td>2015-10-11</td>\n",
       "    </tr>\n",
       "  </tbody>\n",
       "</table>\n",
       "</div>"
      ],
      "text/plain": [
       "                     review_id                 user_id  \\\n",
       "631947  d7TdwrIJBxHAU9MQ1Dkeew  OYRdd_IBcWaIT9tUfLv0YQ   \n",
       "\n",
       "                   business_id  stars  useful  funny  cool  \\\n",
       "631947  Bw0cpnfI-Y9QmjWzqS-oFg    5.0       2      0     0   \n",
       "\n",
       "                                                     text        date  \n",
       "631947  Wonderful food and service. I've been there ar...  2015-10-11  "
      ]
     },
     "execution_count": 63,
     "metadata": {},
     "output_type": "execute_result"
    }
   ],
   "source": [
    "df_reviews_res.sample(1)"
   ]
  },
  {
   "cell_type": "markdown",
   "metadata": {},
   "source": [
    "### Corroborar que todos los restaurantes tienen reviews"
   ]
  },
  {
   "cell_type": "code",
   "execution_count": 64,
   "metadata": {},
   "outputs": [
    {
     "data": {
      "text/plain": [
       "(15305, 11)"
      ]
     },
     "execution_count": 64,
     "metadata": {},
     "output_type": "execute_result"
    }
   ],
   "source": [
    "df_business_Yelp.shape"
   ]
  },
  {
   "cell_type": "code",
   "execution_count": 65,
   "metadata": {},
   "outputs": [
    {
     "name": "stdout",
     "output_type": "stream",
     "text": [
      "Todos los ID de restaurantes se encuentran en la lista de reseñas.\n"
     ]
    }
   ],
   "source": [
    "# Obtén una lista de todos los ID de restaurantes únicos en df_business_Yelp\n",
    "restaurant_ids = df_business_Yelp['business_id'].unique()\n",
    "\n",
    "# Verifica si cada ID de restaurante está en la lista de ID de reseñas en df_reviews\n",
    "are_all_restaurant_ids_in_reviews = all(df_reviews_res['business_id'].isin(restaurant_ids))\n",
    "\n",
    "if are_all_restaurant_ids_in_reviews:\n",
    "    print(\"Todos los ID de restaurantes se encuentran en la lista de reseñas.\")\n",
    "else:\n",
    "    print(\"Al menos un ID de restaurante no se encuentra en la lista de reseñas.\")"
   ]
  },
  {
   "cell_type": "code",
   "execution_count": 35,
   "metadata": {},
   "outputs": [],
   "source": [
    "df_business_Yelp.to_csv('Restaurantes_Yelp.csv',index=False)"
   ]
  },
  {
   "cell_type": "code",
   "execution_count": 67,
   "metadata": {},
   "outputs": [],
   "source": [
    "df_reviews_res.to_csv('Restaurantes_Yelp_Reviews.csv',index=False)"
   ]
  },
  {
   "cell_type": "markdown",
   "metadata": {},
   "source": [
    "USER: Data del usuario incluyendo referencias a otros usuarios amigos y a toda la metadata asociada al usuario."
   ]
  },
  {
   "cell_type": "code",
   "execution_count": 68,
   "metadata": {},
   "outputs": [],
   "source": [
    "archivo_parquet = \"../PROYECTO_FINAL_EQUIPO/Yelp/user-001.parquet\"\n",
    "\n",
    "# Abre el archivo Parquet y crea un DataFrame.\n",
    "\n",
    "df_user = pd.read_parquet(archivo_parquet)"
   ]
  },
  {
   "cell_type": "code",
   "execution_count": 69,
   "metadata": {},
   "outputs": [
    {
     "data": {
      "text/plain": [
       "(2105597, 22)"
      ]
     },
     "execution_count": 69,
     "metadata": {},
     "output_type": "execute_result"
    }
   ],
   "source": [
    "df_user.shape"
   ]
  },
  {
   "cell_type": "code",
   "execution_count": 70,
   "metadata": {},
   "outputs": [
    {
     "name": "stdout",
     "output_type": "stream",
     "text": [
      "(117700, 22)\n"
     ]
    }
   ],
   "source": [
    "#Analizar duplicados:\n",
    "duplicados = df_user[df_user['user_id'].duplicated()]\n",
    "print(duplicados.shape)\n",
    "# Ordena los registros duplicados por 'user_id'\n",
    "duplicados_ordenados = duplicados.sort_values(by='user_id')"
   ]
  },
  {
   "cell_type": "code",
   "execution_count": 71,
   "metadata": {},
   "outputs": [
    {
     "data": {
      "text/html": [
       "<div>\n",
       "<style scoped>\n",
       "    .dataframe tbody tr th:only-of-type {\n",
       "        vertical-align: middle;\n",
       "    }\n",
       "\n",
       "    .dataframe tbody tr th {\n",
       "        vertical-align: top;\n",
       "    }\n",
       "\n",
       "    .dataframe thead th {\n",
       "        text-align: right;\n",
       "    }\n",
       "</style>\n",
       "<table border=\"1\" class=\"dataframe\">\n",
       "  <thead>\n",
       "    <tr style=\"text-align: right;\">\n",
       "      <th></th>\n",
       "      <th>user_id</th>\n",
       "      <th>name</th>\n",
       "      <th>review_count</th>\n",
       "      <th>yelping_since</th>\n",
       "      <th>useful</th>\n",
       "      <th>funny</th>\n",
       "      <th>cool</th>\n",
       "      <th>elite</th>\n",
       "      <th>friends</th>\n",
       "      <th>fans</th>\n",
       "      <th>...</th>\n",
       "      <th>compliment_more</th>\n",
       "      <th>compliment_profile</th>\n",
       "      <th>compliment_cute</th>\n",
       "      <th>compliment_list</th>\n",
       "      <th>compliment_note</th>\n",
       "      <th>compliment_plain</th>\n",
       "      <th>compliment_cool</th>\n",
       "      <th>compliment_funny</th>\n",
       "      <th>compliment_writer</th>\n",
       "      <th>compliment_photos</th>\n",
       "    </tr>\n",
       "  </thead>\n",
       "  <tbody>\n",
       "    <tr>\n",
       "      <th>2017202</th>\n",
       "      <td>---2PmXbF47D870stH1jqA</td>\n",
       "      <td>Susan</td>\n",
       "      <td>36</td>\n",
       "      <td>2012-10-24 13:20:46</td>\n",
       "      <td>63</td>\n",
       "      <td>4</td>\n",
       "      <td>36</td>\n",
       "      <td></td>\n",
       "      <td>o9QkuHIyxmqbORF7PeAbuw, Q70zvjAa9aawgW7KsNVGDA...</td>\n",
       "      <td>3</td>\n",
       "      <td>...</td>\n",
       "      <td>0</td>\n",
       "      <td>0</td>\n",
       "      <td>0</td>\n",
       "      <td>0</td>\n",
       "      <td>0</td>\n",
       "      <td>2</td>\n",
       "      <td>0</td>\n",
       "      <td>0</td>\n",
       "      <td>2</td>\n",
       "      <td>0</td>\n",
       "    </tr>\n",
       "    <tr>\n",
       "      <th>2080502</th>\n",
       "      <td>---2PmXbF47D870stH1jqA</td>\n",
       "      <td>Susan</td>\n",
       "      <td>36</td>\n",
       "      <td>2012-10-24 13:20:46</td>\n",
       "      <td>63</td>\n",
       "      <td>4</td>\n",
       "      <td>36</td>\n",
       "      <td></td>\n",
       "      <td>o9QkuHIyxmqbORF7PeAbuw, Q70zvjAa9aawgW7KsNVGDA...</td>\n",
       "      <td>3</td>\n",
       "      <td>...</td>\n",
       "      <td>0</td>\n",
       "      <td>0</td>\n",
       "      <td>0</td>\n",
       "      <td>0</td>\n",
       "      <td>0</td>\n",
       "      <td>2</td>\n",
       "      <td>0</td>\n",
       "      <td>0</td>\n",
       "      <td>2</td>\n",
       "      <td>0</td>\n",
       "    </tr>\n",
       "  </tbody>\n",
       "</table>\n",
       "<p>2 rows × 22 columns</p>\n",
       "</div>"
      ],
      "text/plain": [
       "                        user_id   name  review_count        yelping_since  \\\n",
       "2017202  ---2PmXbF47D870stH1jqA  Susan            36  2012-10-24 13:20:46   \n",
       "2080502  ---2PmXbF47D870stH1jqA  Susan            36  2012-10-24 13:20:46   \n",
       "\n",
       "         useful  funny  cool elite  \\\n",
       "2017202      63      4    36         \n",
       "2080502      63      4    36         \n",
       "\n",
       "                                                   friends  fans  ...  \\\n",
       "2017202  o9QkuHIyxmqbORF7PeAbuw, Q70zvjAa9aawgW7KsNVGDA...     3  ...   \n",
       "2080502  o9QkuHIyxmqbORF7PeAbuw, Q70zvjAa9aawgW7KsNVGDA...     3  ...   \n",
       "\n",
       "         compliment_more  compliment_profile  compliment_cute  \\\n",
       "2017202                0                   0                0   \n",
       "2080502                0                   0                0   \n",
       "\n",
       "         compliment_list  compliment_note  compliment_plain  compliment_cool  \\\n",
       "2017202                0                0                 2                0   \n",
       "2080502                0                0                 2                0   \n",
       "\n",
       "         compliment_funny  compliment_writer  compliment_photos  \n",
       "2017202                 0                  2                  0  \n",
       "2080502                 0                  2                  0  \n",
       "\n",
       "[2 rows x 22 columns]"
      ]
     },
     "execution_count": 71,
     "metadata": {},
     "output_type": "execute_result"
    }
   ],
   "source": [
    "duplicados_ordenados.head(2)"
   ]
  },
  {
   "cell_type": "code",
   "execution_count": 72,
   "metadata": {},
   "outputs": [],
   "source": [
    "#Eliminar duplicados:\n",
    "df_user = df_user.drop_duplicates(subset='user_id') "
   ]
  },
  {
   "cell_type": "markdown",
   "metadata": {},
   "source": [
    "#### Filtrar usuarios que han reseñado restaurantes"
   ]
  },
  {
   "cell_type": "code",
   "execution_count": 73,
   "metadata": {},
   "outputs": [
    {
     "data": {
      "text/plain": [
       "(1987897, 22)"
      ]
     },
     "execution_count": 73,
     "metadata": {},
     "output_type": "execute_result"
    }
   ],
   "source": [
    "#Hay 1,987,897  de usuarios únicos\n",
    "df_user.shape"
   ]
  },
  {
   "cell_type": "code",
   "execution_count": 74,
   "metadata": {},
   "outputs": [
    {
     "data": {
      "text/html": [
       "<div>\n",
       "<style scoped>\n",
       "    .dataframe tbody tr th:only-of-type {\n",
       "        vertical-align: middle;\n",
       "    }\n",
       "\n",
       "    .dataframe tbody tr th {\n",
       "        vertical-align: top;\n",
       "    }\n",
       "\n",
       "    .dataframe thead th {\n",
       "        text-align: right;\n",
       "    }\n",
       "</style>\n",
       "<table border=\"1\" class=\"dataframe\">\n",
       "  <thead>\n",
       "    <tr style=\"text-align: right;\">\n",
       "      <th></th>\n",
       "      <th>user_id</th>\n",
       "      <th>name</th>\n",
       "      <th>review_count</th>\n",
       "      <th>yelping_since</th>\n",
       "      <th>useful</th>\n",
       "      <th>funny</th>\n",
       "      <th>cool</th>\n",
       "      <th>elite</th>\n",
       "      <th>friends</th>\n",
       "      <th>fans</th>\n",
       "      <th>...</th>\n",
       "      <th>compliment_more</th>\n",
       "      <th>compliment_profile</th>\n",
       "      <th>compliment_cute</th>\n",
       "      <th>compliment_list</th>\n",
       "      <th>compliment_note</th>\n",
       "      <th>compliment_plain</th>\n",
       "      <th>compliment_cool</th>\n",
       "      <th>compliment_funny</th>\n",
       "      <th>compliment_writer</th>\n",
       "      <th>compliment_photos</th>\n",
       "    </tr>\n",
       "  </thead>\n",
       "  <tbody>\n",
       "    <tr>\n",
       "      <th>605669</th>\n",
       "      <td>8Xzr-qx7D9vazyAkEB1d-Q</td>\n",
       "      <td>Dawn</td>\n",
       "      <td>13</td>\n",
       "      <td>2009-12-09 04:57:18</td>\n",
       "      <td>14</td>\n",
       "      <td>3</td>\n",
       "      <td>6</td>\n",
       "      <td></td>\n",
       "      <td>HrPDIqmVfzztD0z3i31Wcg, jRXr_ynus4PZEofYe_xgMg...</td>\n",
       "      <td>0</td>\n",
       "      <td>...</td>\n",
       "      <td>0</td>\n",
       "      <td>0</td>\n",
       "      <td>0</td>\n",
       "      <td>0</td>\n",
       "      <td>0</td>\n",
       "      <td>0</td>\n",
       "      <td>0</td>\n",
       "      <td>0</td>\n",
       "      <td>0</td>\n",
       "      <td>0</td>\n",
       "    </tr>\n",
       "    <tr>\n",
       "      <th>626967</th>\n",
       "      <td>t_unmRFbvisuSuWW_HFHSw</td>\n",
       "      <td>Tuan</td>\n",
       "      <td>156</td>\n",
       "      <td>2011-01-22 01:45:53</td>\n",
       "      <td>191</td>\n",
       "      <td>31</td>\n",
       "      <td>109</td>\n",
       "      <td>2016,2017,2018,2019,20,20,2021</td>\n",
       "      <td>rWo7TEAHu4wMjNUS3LsXtg, jMsWraiOIPIBmaLSSV8WSQ...</td>\n",
       "      <td>12</td>\n",
       "      <td>...</td>\n",
       "      <td>0</td>\n",
       "      <td>0</td>\n",
       "      <td>0</td>\n",
       "      <td>0</td>\n",
       "      <td>6</td>\n",
       "      <td>14</td>\n",
       "      <td>19</td>\n",
       "      <td>19</td>\n",
       "      <td>0</td>\n",
       "      <td>24</td>\n",
       "    </tr>\n",
       "  </tbody>\n",
       "</table>\n",
       "<p>2 rows × 22 columns</p>\n",
       "</div>"
      ],
      "text/plain": [
       "                       user_id  name  review_count        yelping_since  \\\n",
       "605669  8Xzr-qx7D9vazyAkEB1d-Q  Dawn            13  2009-12-09 04:57:18   \n",
       "626967  t_unmRFbvisuSuWW_HFHSw  Tuan           156  2011-01-22 01:45:53   \n",
       "\n",
       "        useful  funny  cool                           elite  \\\n",
       "605669      14      3     6                                   \n",
       "626967     191     31   109  2016,2017,2018,2019,20,20,2021   \n",
       "\n",
       "                                                  friends  fans  ...  \\\n",
       "605669  HrPDIqmVfzztD0z3i31Wcg, jRXr_ynus4PZEofYe_xgMg...     0  ...   \n",
       "626967  rWo7TEAHu4wMjNUS3LsXtg, jMsWraiOIPIBmaLSSV8WSQ...    12  ...   \n",
       "\n",
       "        compliment_more  compliment_profile  compliment_cute  compliment_list  \\\n",
       "605669                0                   0                0                0   \n",
       "626967                0                   0                0                0   \n",
       "\n",
       "        compliment_note  compliment_plain  compliment_cool  compliment_funny  \\\n",
       "605669                0                 0                0                 0   \n",
       "626967                6                14               19                19   \n",
       "\n",
       "        compliment_writer  compliment_photos  \n",
       "605669                  0                  0  \n",
       "626967                  0                 24  \n",
       "\n",
       "[2 rows x 22 columns]"
      ]
     },
     "execution_count": 74,
     "metadata": {},
     "output_type": "execute_result"
    }
   ],
   "source": [
    "df_user.sample(2)"
   ]
  },
  {
   "cell_type": "code",
   "execution_count": 77,
   "metadata": {},
   "outputs": [],
   "source": [
    "#Ahora filtramos los usuarios únicamente que han echo alguna review\n",
    "# en  los restaurantes. \n",
    "lista_de_id = df_reviews_res['user_id'].tolist()\n",
    "\n",
    "# Filtrar basándose en la lista de IDs que aparecen en Restaurant \n",
    "df_user_review_r = df_user[df_user['user_id'].isin(lista_de_id)].copy()"
   ]
  },
  {
   "cell_type": "code",
   "execution_count": 93,
   "metadata": {},
   "outputs": [],
   "source": [
    "#Dejar la fecha en formato año/mes/día: \n",
    "df_user['yelping_since'] = pd.to_datetime(df_user['yelping_since']).dt.date"
   ]
  },
  {
   "cell_type": "code",
   "execution_count": 95,
   "metadata": {},
   "outputs": [
    {
     "data": {
      "text/plain": [
       "(589592, 22)"
      ]
     },
     "execution_count": 95,
     "metadata": {},
     "output_type": "execute_result"
    }
   ],
   "source": [
    "#Nos quedamos con 589,377 usuarios. \n",
    "df_user_review_r.shape"
   ]
  },
  {
   "cell_type": "code",
   "execution_count": 96,
   "metadata": {},
   "outputs": [],
   "source": [
    "df_user_review_r.to_csv('Restaurantes_User_Yelp.csv',index=False)"
   ]
  },
  {
   "cell_type": "markdown",
   "metadata": {},
   "source": [
    "### Tips (consejos) escritos por el usuario. \n",
    "Los tips son más cortas que las reseñas y tienden a dar sugerencias rápidas.\n"
   ]
  },
  {
   "cell_type": "code",
   "execution_count": 82,
   "metadata": {},
   "outputs": [],
   "source": [
    "ruta_archivo_json = \"/Users/alejandrobenjaminnunezguzman/Desktop/PROYECTO_FINAL_EQUIPO/Yelp/tip.json\"\n",
    "\n",
    "lista_objetos_json = []\n",
    "\n",
    "# Abre el archivo JSON y lee línea por línea\n",
    "with open(ruta_archivo_json, \"r\") as archivo_json:\n",
    "    for linea in archivo_json:\n",
    "        try:\n",
    "            # Intenta cargar la línea como un objeto JSON\n",
    "            objeto_json = json.loads(linea)\n",
    "            lista_objetos_json.append(objeto_json)\n",
    "        except json.JSONDecodeError as e:\n",
    "            print(f\"Error al cargar línea: {linea}\")\n",
    "            continue\n",
    "\n",
    "# Crea un DataFrame a partir de la lista de objetos JSON\n",
    "df_tip = pd.DataFrame(lista_objetos_json)"
   ]
  },
  {
   "cell_type": "code",
   "execution_count": 97,
   "metadata": {},
   "outputs": [
    {
     "data": {
      "text/plain": [
       "(908915, 5)"
      ]
     },
     "execution_count": 97,
     "metadata": {},
     "output_type": "execute_result"
    }
   ],
   "source": [
    "df_tip.shape"
   ]
  },
  {
   "cell_type": "code",
   "execution_count": 105,
   "metadata": {},
   "outputs": [
    {
     "data": {
      "text/html": [
       "<div>\n",
       "<style scoped>\n",
       "    .dataframe tbody tr th:only-of-type {\n",
       "        vertical-align: middle;\n",
       "    }\n",
       "\n",
       "    .dataframe tbody tr th {\n",
       "        vertical-align: top;\n",
       "    }\n",
       "\n",
       "    .dataframe thead th {\n",
       "        text-align: right;\n",
       "    }\n",
       "</style>\n",
       "<table border=\"1\" class=\"dataframe\">\n",
       "  <thead>\n",
       "    <tr style=\"text-align: right;\">\n",
       "      <th></th>\n",
       "      <th>user_id</th>\n",
       "      <th>business_id</th>\n",
       "      <th>text</th>\n",
       "      <th>date</th>\n",
       "      <th>compliment_count</th>\n",
       "    </tr>\n",
       "  </thead>\n",
       "  <tbody>\n",
       "    <tr>\n",
       "      <th>0</th>\n",
       "      <td>AGNUgVwnZUey3gcPCJ76iw</td>\n",
       "      <td>3uLgwr0qeCNMjKenHJwPGQ</td>\n",
       "      <td>Avengers time with the ladies.</td>\n",
       "      <td>2012-05-18 02:17:21</td>\n",
       "      <td>0</td>\n",
       "    </tr>\n",
       "  </tbody>\n",
       "</table>\n",
       "</div>"
      ],
      "text/plain": [
       "                  user_id             business_id  \\\n",
       "0  AGNUgVwnZUey3gcPCJ76iw  3uLgwr0qeCNMjKenHJwPGQ   \n",
       "\n",
       "                             text                 date  compliment_count  \n",
       "0  Avengers time with the ladies.  2012-05-18 02:17:21                 0  "
      ]
     },
     "execution_count": 105,
     "metadata": {},
     "output_type": "execute_result"
    }
   ],
   "source": [
    "df_tip.head(1)"
   ]
  },
  {
   "cell_type": "code",
   "execution_count": 98,
   "metadata": {},
   "outputs": [],
   "source": [
    "#Ahora filtramos los usuarios que únicamente han dejado tips\n",
    "#en  los restaurantes. \n",
    "df_tip_r = df_tip[df_tip['user_id'].isin(lista_de_id)].copy()"
   ]
  },
  {
   "cell_type": "code",
   "execution_count": 102,
   "metadata": {},
   "outputs": [],
   "source": [
    "#Dejar la fecha en formato año/mes/día: \n",
    "df_tip_r['date'] = pd.to_datetime(df_tip_r['date']).dt.date"
   ]
  },
  {
   "cell_type": "code",
   "execution_count": 103,
   "metadata": {},
   "outputs": [
    {
     "data": {
      "text/plain": [
       "(640847, 5)"
      ]
     },
     "execution_count": 103,
     "metadata": {},
     "output_type": "execute_result"
    }
   ],
   "source": [
    "#Obtenemos 640,808 tips de diferentes usuarios\n",
    "df_tip_r.shape"
   ]
  },
  {
   "cell_type": "code",
   "execution_count": 116,
   "metadata": {},
   "outputs": [
    {
     "data": {
      "text/plain": [
       "(640847, 5)"
      ]
     },
     "execution_count": 116,
     "metadata": {},
     "output_type": "execute_result"
    }
   ],
   "source": [
    "df_tip_r.shape"
   ]
  },
  {
   "cell_type": "code",
   "execution_count": 117,
   "metadata": {},
   "outputs": [],
   "source": [
    "df_tip_r.to_csv('Restaurantes_Yelp_Tips.csv',index=False)"
   ]
  }
 ],
 "metadata": {
  "kernelspec": {
   "display_name": "Python 3.8.3 64-bit",
   "language": "python",
   "name": "python3"
  },
  "language_info": {
   "codemirror_mode": {
    "name": "ipython",
    "version": 3
   },
   "file_extension": ".py",
   "mimetype": "text/x-python",
   "name": "python",
   "nbconvert_exporter": "python",
   "pygments_lexer": "ipython3",
   "version": "3.8.3"
  },
  "orig_nbformat": 4,
  "vscode": {
   "interpreter": {
    "hash": "aee8b7b246df8f9039afb4144a1f6fd8d2ca17a180786b69acc140d282b71a49"
   }
  }
 },
 "nbformat": 4,
 "nbformat_minor": 2
}
