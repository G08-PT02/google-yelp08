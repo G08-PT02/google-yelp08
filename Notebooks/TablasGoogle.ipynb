{
 "cells": [
  {
   "cell_type": "code",
   "execution_count": null,
   "metadata": {},
   "outputs": [],
   "source": [
    "#pip install -U googlemaps"
   ]
  },
  {
   "cell_type": "code",
   "execution_count": 3,
   "metadata": {},
   "outputs": [],
   "source": [
    "import pandas as pd\n",
    "import re\n",
    "import googlemaps\n",
    "import numpy as np\n",
    "import ast\n",
    "import datetime"
   ]
  },
  {
   "cell_type": "markdown",
   "metadata": {},
   "source": [
    "# GOOGLE"
   ]
  },
  {
   "cell_type": "code",
   "execution_count": 4,
   "metadata": {},
   "outputs": [],
   "source": [
    "Restaurantes=pd.read_csv('../PROYECTO_EQUIPO/Restaurantes_Google.csv')"
   ]
  },
  {
   "cell_type": "code",
   "execution_count": 5,
   "metadata": {},
   "outputs": [
    {
     "data": {
      "text/html": [
       "<div>\n",
       "<style scoped>\n",
       "    .dataframe tbody tr th:only-of-type {\n",
       "        vertical-align: middle;\n",
       "    }\n",
       "\n",
       "    .dataframe tbody tr th {\n",
       "        vertical-align: top;\n",
       "    }\n",
       "\n",
       "    .dataframe thead th {\n",
       "        text-align: right;\n",
       "    }\n",
       "</style>\n",
       "<table border=\"1\" class=\"dataframe\">\n",
       "  <thead>\n",
       "    <tr style=\"text-align: right;\">\n",
       "      <th></th>\n",
       "      <th>name</th>\n",
       "      <th>address</th>\n",
       "      <th>gmap_id</th>\n",
       "      <th>description</th>\n",
       "      <th>latitude</th>\n",
       "      <th>longitude</th>\n",
       "      <th>category</th>\n",
       "      <th>price</th>\n",
       "      <th>hours</th>\n",
       "      <th>MISC</th>\n",
       "      <th>url</th>\n",
       "    </tr>\n",
       "  </thead>\n",
       "  <tbody>\n",
       "    <tr>\n",
       "      <th>0</th>\n",
       "      <td>Roux's Roadhouse 73</td>\n",
       "      <td>Roux's Roadhouse 73, 784 WI-73, Nekoosa, WI 54457</td>\n",
       "      <td>0x88008ff5b3c52fd3:0xdbe482cf9fb221db</td>\n",
       "      <td>NaN</td>\n",
       "      <td>44.306954</td>\n",
       "      <td>-89.845783</td>\n",
       "      <td>['Restaurant']</td>\n",
       "      <td>NaN</td>\n",
       "      <td>[['Thursday', '12–11PM'], ['Friday', '12PM–12A...</td>\n",
       "      <td>{'Service options': ['Takeout', 'Dine-in', 'De...</td>\n",
       "      <td>https://www.google.com/maps/place//data=!4m2!3...</td>\n",
       "    </tr>\n",
       "  </tbody>\n",
       "</table>\n",
       "</div>"
      ],
      "text/plain": [
       "                  name                                            address  \\\n",
       "0  Roux's Roadhouse 73  Roux's Roadhouse 73, 784 WI-73, Nekoosa, WI 54457   \n",
       "\n",
       "                                 gmap_id description   latitude  longitude  \\\n",
       "0  0x88008ff5b3c52fd3:0xdbe482cf9fb221db         NaN  44.306954 -89.845783   \n",
       "\n",
       "         category price                                              hours  \\\n",
       "0  ['Restaurant']   NaN  [['Thursday', '12–11PM'], ['Friday', '12PM–12A...   \n",
       "\n",
       "                                                MISC  \\\n",
       "0  {'Service options': ['Takeout', 'Dine-in', 'De...   \n",
       "\n",
       "                                                 url  \n",
       "0  https://www.google.com/maps/place//data=!4m2!3...  "
      ]
     },
     "execution_count": 5,
     "metadata": {},
     "output_type": "execute_result"
    }
   ],
   "source": [
    "Restaurantes.head(1)"
   ]
  },
  {
   "cell_type": "markdown",
   "metadata": {},
   "source": [
    "#### Generar Tabla Datos_Geograficos"
   ]
  },
  {
   "cell_type": "code",
   "execution_count": 13,
   "metadata": {},
   "outputs": [],
   "source": [
    "Datos_Geograficos=Restaurantes[['gmap_id','latitude','longitude']].copy()"
   ]
  },
  {
   "cell_type": "code",
   "execution_count": 14,
   "metadata": {},
   "outputs": [],
   "source": [
    "# Define tu clave de API de Google Maps.\n",
    "\n",
    "with open('../PROYECTO_EQUIPO/api.txt', 'r') as archivo:\n",
    "    for linea in archivo:\n",
    "        a = linea  \n",
    "gmaps = googlemaps.Client(key=a)"
   ]
  },
  {
   "cell_type": "code",
   "execution_count": 15,
   "metadata": {},
   "outputs": [],
   "source": [
    "# Función para obtener la dirección, ciudad, estado y CP a partir de la latitud y longitud.\n",
    "def obtener_direccion(latitud, longitud):\n",
    "    # Hacer una solicitud de geocodificación inversa.\n",
    "    resultado = gmaps.reverse_geocode((latitud, longitud))\n",
    "    \n",
    "    # Inicializar valores por defecto.\n",
    "    direccion = ''\n",
    "    ciudad = ''\n",
    "    estado = ''\n",
    "    cp = ''\n",
    "    \n",
    "    # Si hay resultados, buscar la información relevante.\n",
    "    if resultado:\n",
    "        primer_resultado = resultado[0]\n",
    "        direccion = primer_resultado.get('formatted_address', '')\n",
    "        for componente in primer_resultado['address_components']:\n",
    "            tipos = componente.get('types', [])\n",
    "            if 'locality' in tipos:\n",
    "                ciudad = componente.get('long_name', '')\n",
    "            elif 'administrative_area_level_1' in tipos:\n",
    "                estado = componente.get('short_name', '')\n",
    "            elif 'postal_code' in tipos:\n",
    "                cp = componente.get('long_name', '')\n",
    "    \n",
    "    return direccion, ciudad, estado, cp"
   ]
  },
  {
   "cell_type": "code",
   "execution_count": 16,
   "metadata": {},
   "outputs": [],
   "source": [
    "# Crear columnas vacías para almacenar los resultados.\n",
    "Datos_Geograficos.insert(1, 'Direccion', '')\n",
    "Datos_Geograficos.insert(2, 'Ciudad', '')\n",
    "Datos_Geograficos.insert(3, 'Estado', '')\n",
    "Datos_Geograficos.insert(4, 'CP', '')\n",
    "\n",
    "# Iterar sobre las filas y actualizar las columnas con los resultados.\n",
    "for index, row in Datos_Geograficos.iterrows():\n",
    "    direccion, ciudad, estado, cp = obtener_direccion(row['latitude'], row['longitude'])\n",
    "    Datos_Geograficos.at[index, 'Direccion'] = direccion\n",
    "    Datos_Geograficos.at[index, 'Ciudad'] = ciudad\n",
    "    Datos_Geograficos.at[index, 'Estado'] = estado\n",
    "    Datos_Geograficos.at[index, 'CP'] = cp\n",
    "\n",
    "# Ahora, el DataFrame \"df\" contiene las columnas de dirección, ciudad, estado y CP con la información correspondiente."
   ]
  },
  {
   "cell_type": "code",
   "execution_count": 76,
   "metadata": {},
   "outputs": [
    {
     "data": {
      "text/html": [
       "<div>\n",
       "<style scoped>\n",
       "    .dataframe tbody tr th:only-of-type {\n",
       "        vertical-align: middle;\n",
       "    }\n",
       "\n",
       "    .dataframe tbody tr th {\n",
       "        vertical-align: top;\n",
       "    }\n",
       "\n",
       "    .dataframe thead th {\n",
       "        text-align: right;\n",
       "    }\n",
       "</style>\n",
       "<table border=\"1\" class=\"dataframe\">\n",
       "  <thead>\n",
       "    <tr style=\"text-align: right;\">\n",
       "      <th></th>\n",
       "      <th>gmap_id</th>\n",
       "      <th>Direccion</th>\n",
       "      <th>Ciudad</th>\n",
       "      <th>Estado</th>\n",
       "      <th>CP</th>\n",
       "      <th>latitude</th>\n",
       "      <th>longitude</th>\n",
       "    </tr>\n",
       "  </thead>\n",
       "  <tbody>\n",
       "    <tr>\n",
       "      <th>916</th>\n",
       "      <td>0x8805a8a3e680fb01:0x8d543ed5ee91e049</td>\n",
       "      <td>255 W Broadway, Waukesha, WI 53186, USA</td>\n",
       "      <td>Waukesha</td>\n",
       "      <td>WI</td>\n",
       "      <td>53186</td>\n",
       "      <td>43.011254</td>\n",
       "      <td>-88.231085</td>\n",
       "    </tr>\n",
       "  </tbody>\n",
       "</table>\n",
       "</div>"
      ],
      "text/plain": [
       "                                   gmap_id  \\\n",
       "916  0x8805a8a3e680fb01:0x8d543ed5ee91e049   \n",
       "\n",
       "                                   Direccion    Ciudad Estado     CP  \\\n",
       "916  255 W Broadway, Waukesha, WI 53186, USA  Waukesha     WI  53186   \n",
       "\n",
       "      latitude  longitude  \n",
       "916  43.011254 -88.231085  "
      ]
     },
     "execution_count": 76,
     "metadata": {},
     "output_type": "execute_result"
    }
   ],
   "source": [
    "Datos_Geograficos.sample(1)"
   ]
  },
  {
   "cell_type": "code",
   "execution_count": 18,
   "metadata": {},
   "outputs": [],
   "source": [
    "#Tabla Datos_Geográficos\n",
    "Datos_Geograficos.to_csv('Datos_GeograficosG.csv')"
   ]
  },
  {
   "cell_type": "markdown",
   "metadata": {},
   "source": [
    "### Category"
   ]
  },
  {
   "cell_type": "code",
   "execution_count": 41,
   "metadata": {},
   "outputs": [],
   "source": [
    "Category_copy= Restaurantes.copy()"
   ]
  },
  {
   "cell_type": "code",
   "execution_count": 30,
   "metadata": {},
   "outputs": [
    {
     "name": "stderr",
     "output_type": "stream",
     "text": [
      "/var/folders/gg/08x9mdfn43q02625840rv79h0000gn/T/ipykernel_79851/4031128395.py:24: PerformanceWarning: DataFrame is highly fragmented.  This is usually the result of calling `frame.insert` many times, which has poor performance.  Consider joining all columns at once using pd.concat(axis=1) instead. To get a de-fragmented frame, use `newframe = frame.copy()`\n",
      "  df_Category['gmap_id'] = Category_copy['gmap_id'].copy()\n"
     ]
    }
   ],
   "source": [
    "# Supongamos que tienes un DataFrame llamado DF1 con una columna 'category' que contiene los datos en formato de cadena.\n",
    "\n",
    "# Obtén los datos únicos de la columna 'category'\n",
    "categorias_unicas = set()\n",
    "for categoria in Category_copy['category']:\n",
    "    categorias = ast.literal_eval(categoria)  # Convierte la cadena en una lista\n",
    "    categorias_unicas.update(categorias)\n",
    "\n",
    "categorias_unicas = list(categorias_unicas)\n",
    "\n",
    "# Crea un DataFrame vacío con las categorías únicas como columnas\n",
    "df_Category = pd.DataFrame(columns=categorias_unicas)\n",
    "\n",
    "# Itera a través de las filas de DF1 y llena el nuevo DataFrame\n",
    "for index, row in Category_copy.iterrows():\n",
    "    categorias = ast.literal_eval(row['category'])  # Convierte la cadena en una lista\n",
    "    for categoria in categorias:\n",
    "        df_Category.at[index, categoria] = 1\n",
    "\n",
    "# Rellena los valores faltantes con 0\n",
    "df_Category = df_Category.fillna(0)\n",
    "\n",
    "# Agrega la columna 'gmap_id' al nuevo DataFrame\n",
    "df_Category['gmap_id'] = Category_copy['gmap_id'].copy()"
   ]
  },
  {
   "cell_type": "code",
   "execution_count": 80,
   "metadata": {},
   "outputs": [
    {
     "data": {
      "text/html": [
       "<div>\n",
       "<style scoped>\n",
       "    .dataframe tbody tr th:only-of-type {\n",
       "        vertical-align: middle;\n",
       "    }\n",
       "\n",
       "    .dataframe tbody tr th {\n",
       "        vertical-align: top;\n",
       "    }\n",
       "\n",
       "    .dataframe thead th {\n",
       "        text-align: right;\n",
       "    }\n",
       "</style>\n",
       "<table border=\"1\" class=\"dataframe\">\n",
       "  <thead>\n",
       "    <tr style=\"text-align: right;\">\n",
       "      <th></th>\n",
       "      <th>gmap_id</th>\n",
       "      <th>Linens store</th>\n",
       "      <th>Motel</th>\n",
       "      <th>Hunting club</th>\n",
       "      <th>Japanese language instructor</th>\n",
       "      <th>Lounge</th>\n",
       "      <th>Beer hall</th>\n",
       "      <th>Food products supplier</th>\n",
       "      <th>African restaurant</th>\n",
       "      <th>Bar</th>\n",
       "      <th>...</th>\n",
       "      <th>Mediterranean restaurant</th>\n",
       "      <th>Ice supplier</th>\n",
       "      <th>Sports bar</th>\n",
       "      <th>Children's party service</th>\n",
       "      <th>Repair service</th>\n",
       "      <th>Kosher grocery store</th>\n",
       "      <th>Cookie shop</th>\n",
       "      <th>Self-catering accommodation</th>\n",
       "      <th>Breakfast restaurant</th>\n",
       "      <th>Wedding venue</th>\n",
       "    </tr>\n",
       "  </thead>\n",
       "  <tbody>\n",
       "    <tr>\n",
       "      <th>1156</th>\n",
       "      <td>0x89e2ee543296b24b:0x9e796dea707df43c</td>\n",
       "      <td>0</td>\n",
       "      <td>0</td>\n",
       "      <td>0</td>\n",
       "      <td>0</td>\n",
       "      <td>0</td>\n",
       "      <td>0</td>\n",
       "      <td>0</td>\n",
       "      <td>0</td>\n",
       "      <td>0</td>\n",
       "      <td>...</td>\n",
       "      <td>0</td>\n",
       "      <td>0</td>\n",
       "      <td>0</td>\n",
       "      <td>0</td>\n",
       "      <td>0</td>\n",
       "      <td>0</td>\n",
       "      <td>0</td>\n",
       "      <td>0</td>\n",
       "      <td>0</td>\n",
       "      <td>0</td>\n",
       "    </tr>\n",
       "  </tbody>\n",
       "</table>\n",
       "<p>1 rows × 406 columns</p>\n",
       "</div>"
      ],
      "text/plain": [
       "                                    gmap_id  Linens store  Motel  \\\n",
       "1156  0x89e2ee543296b24b:0x9e796dea707df43c             0      0   \n",
       "\n",
       "      Hunting club  Japanese language instructor  Lounge  Beer hall  \\\n",
       "1156             0                             0       0          0   \n",
       "\n",
       "      Food products supplier  African restaurant  Bar  ...  \\\n",
       "1156                       0                   0    0  ...   \n",
       "\n",
       "      Mediterranean restaurant  Ice supplier  Sports bar  \\\n",
       "1156                         0             0           0   \n",
       "\n",
       "      Children's party service  Repair service  Kosher grocery store  \\\n",
       "1156                         0               0                     0   \n",
       "\n",
       "      Cookie shop  Self-catering accommodation  Breakfast restaurant  \\\n",
       "1156            0                            0                     0   \n",
       "\n",
       "      Wedding venue  \n",
       "1156              0  \n",
       "\n",
       "[1 rows x 406 columns]"
      ]
     },
     "execution_count": 80,
     "metadata": {},
     "output_type": "execute_result"
    }
   ],
   "source": [
    "df_Category.sample(1)"
   ]
  },
  {
   "cell_type": "code",
   "execution_count": 22,
   "metadata": {},
   "outputs": [],
   "source": [
    "#Tabla Categorización de Restaurantes\n",
    "df_Category.to_csv('CategorizacionG.csv')"
   ]
  },
  {
   "cell_type": "code",
   "execution_count": 14,
   "metadata": {},
   "outputs": [
    {
     "name": "stdout",
     "output_type": "stream",
     "text": [
      "Las 10 categorías principales son:\n",
      "Restaurant              1550\n",
      "Fast food restaurant     561\n",
      "Takeout Restaurant       496\n",
      "Pizza restaurant         430\n",
      "Sandwich shop            385\n",
      "Caterer                  329\n",
      "American restaurant      284\n",
      "Mexican restaurant       240\n",
      "Delivery Restaurant      177\n",
      "Breakfast restaurant     170\n",
      "Bar                      169\n",
      "Chinese restaurant       162\n",
      "Pizza delivery           147\n",
      "Coffee shop              138\n",
      "Italian restaurant       126\n",
      "Pizza Takeout            125\n",
      "Cafe                     106\n",
      "Bar & grill              105\n",
      "Gas station              103\n",
      "Family restaurant        100\n",
      "dtype: int64\n"
     ]
    }
   ],
   "source": [
    "# Obtiene las 10 categorías principales\n",
    "suma_por_categoria = df_Category.sum()\n",
    "top_10_categorias = suma_por_categoria.nlargest(20)\n",
    "print(\"Las 10 categorías principales son:\")\n",
    "print(top_10_categorias)"
   ]
  },
  {
   "cell_type": "markdown",
   "metadata": {},
   "source": [
    "### Cualidades (MISC)"
   ]
  },
  {
   "cell_type": "code",
   "execution_count": 264,
   "metadata": {},
   "outputs": [],
   "source": [
    "\n",
    "MISC_copia = Restaurantes[['gmap_id','MISC']].copy()"
   ]
  },
  {
   "cell_type": "code",
   "execution_count": 265,
   "metadata": {},
   "outputs": [],
   "source": [
    "MISC_copia['MISC'] = MISC_copia['MISC'].fillna('{}').apply(ast.literal_eval) #Completamos los valores faltantes en esta columna con '{}'"
   ]
  },
  {
   "cell_type": "code",
   "execution_count": 266,
   "metadata": {},
   "outputs": [],
   "source": [
    "#Combierte la columna en una lista de diccionarios y json_normalize pasa los valores a \n",
    "#columnas\n",
    "df_expanded = pd.json_normalize(MISC_copia['MISC'].tolist()) \n",
    "#Combinamos el df original con el nuevo que tiene las columnas separadas\n",
    "MISC_df = pd.concat([MISC_copia.drop('MISC', axis=1), df_expanded], axis=1) "
   ]
  },
  {
   "cell_type": "code",
   "execution_count": 267,
   "metadata": {},
   "outputs": [],
   "source": [
    "MISC_df=MISC_df.set_index('gmap_id')"
   ]
  },
  {
   "cell_type": "code",
   "execution_count": 268,
   "metadata": {},
   "outputs": [],
   "source": [
    "# Función para extraer el texto de una lista de cadenas\n",
    "def extraer_texto(lista):\n",
    "    if isinstance(lista, list):\n",
    "        return ', '.join([item for item in lista if isinstance(item, str)])\n",
    "    return np.NaN\n",
    "\n",
    "# Aplicar la función a todas las celdas del DataFrame usando applymap\n",
    "MISC_df = MISC_df.applymap(extraer_texto)"
   ]
  },
  {
   "cell_type": "code",
   "execution_count": 269,
   "metadata": {},
   "outputs": [
    {
     "data": {
      "text/html": [
       "<div>\n",
       "<style scoped>\n",
       "    .dataframe tbody tr th:only-of-type {\n",
       "        vertical-align: middle;\n",
       "    }\n",
       "\n",
       "    .dataframe tbody tr th {\n",
       "        vertical-align: top;\n",
       "    }\n",
       "\n",
       "    .dataframe thead th {\n",
       "        text-align: right;\n",
       "    }\n",
       "</style>\n",
       "<table border=\"1\" class=\"dataframe\">\n",
       "  <thead>\n",
       "    <tr style=\"text-align: right;\">\n",
       "      <th></th>\n",
       "      <th>Service options</th>\n",
       "      <th>Health &amp; safety</th>\n",
       "      <th>Highlights</th>\n",
       "      <th>Popular for</th>\n",
       "      <th>Accessibility</th>\n",
       "      <th>Offerings</th>\n",
       "      <th>Amenities</th>\n",
       "      <th>Atmosphere</th>\n",
       "      <th>Crowd</th>\n",
       "      <th>Dining options</th>\n",
       "      <th>Payments</th>\n",
       "      <th>Planning</th>\n",
       "      <th>From the business</th>\n",
       "      <th>Health and safety</th>\n",
       "    </tr>\n",
       "    <tr>\n",
       "      <th>gmap_id</th>\n",
       "      <th></th>\n",
       "      <th></th>\n",
       "      <th></th>\n",
       "      <th></th>\n",
       "      <th></th>\n",
       "      <th></th>\n",
       "      <th></th>\n",
       "      <th></th>\n",
       "      <th></th>\n",
       "      <th></th>\n",
       "      <th></th>\n",
       "      <th></th>\n",
       "      <th></th>\n",
       "      <th></th>\n",
       "    </tr>\n",
       "  </thead>\n",
       "  <tbody>\n",
       "    <tr>\n",
       "      <th>0x88008ff5b3c52fd3:0xdbe482cf9fb221db</th>\n",
       "      <td>Takeout, Dine-in, Delivery</td>\n",
       "      <td>Staff required to disinfect surfaces between v...</td>\n",
       "      <td>Great beer selection, Great cocktails</td>\n",
       "      <td>Lunch, Dinner, Solo dining</td>\n",
       "      <td>Wheelchair accessible entrance</td>\n",
       "      <td>Alcohol, Beer, Cocktails, Coffee, Comfort food...</td>\n",
       "      <td>Bar onsite, Good for kids, High chairs, Restroom</td>\n",
       "      <td>Casual, Cozy</td>\n",
       "      <td>Groups, Tourists</td>\n",
       "      <td>NaN</td>\n",
       "      <td>NaN</td>\n",
       "      <td>NaN</td>\n",
       "      <td>NaN</td>\n",
       "      <td>NaN</td>\n",
       "    </tr>\n",
       "  </tbody>\n",
       "</table>\n",
       "</div>"
      ],
      "text/plain": [
       "                                                  Service options  \\\n",
       "gmap_id                                                             \n",
       "0x88008ff5b3c52fd3:0xdbe482cf9fb221db  Takeout, Dine-in, Delivery   \n",
       "\n",
       "                                                                         Health & safety  \\\n",
       "gmap_id                                                                                    \n",
       "0x88008ff5b3c52fd3:0xdbe482cf9fb221db  Staff required to disinfect surfaces between v...   \n",
       "\n",
       "                                                                  Highlights  \\\n",
       "gmap_id                                                                        \n",
       "0x88008ff5b3c52fd3:0xdbe482cf9fb221db  Great beer selection, Great cocktails   \n",
       "\n",
       "                                                      Popular for  \\\n",
       "gmap_id                                                             \n",
       "0x88008ff5b3c52fd3:0xdbe482cf9fb221db  Lunch, Dinner, Solo dining   \n",
       "\n",
       "                                                        Accessibility  \\\n",
       "gmap_id                                                                 \n",
       "0x88008ff5b3c52fd3:0xdbe482cf9fb221db  Wheelchair accessible entrance   \n",
       "\n",
       "                                                                               Offerings  \\\n",
       "gmap_id                                                                                    \n",
       "0x88008ff5b3c52fd3:0xdbe482cf9fb221db  Alcohol, Beer, Cocktails, Coffee, Comfort food...   \n",
       "\n",
       "                                                                              Amenities  \\\n",
       "gmap_id                                                                                   \n",
       "0x88008ff5b3c52fd3:0xdbe482cf9fb221db  Bar onsite, Good for kids, High chairs, Restroom   \n",
       "\n",
       "                                         Atmosphere             Crowd  \\\n",
       "gmap_id                                                                 \n",
       "0x88008ff5b3c52fd3:0xdbe482cf9fb221db  Casual, Cozy  Groups, Tourists   \n",
       "\n",
       "                                      Dining options Payments Planning  \\\n",
       "gmap_id                                                                  \n",
       "0x88008ff5b3c52fd3:0xdbe482cf9fb221db            NaN      NaN      NaN   \n",
       "\n",
       "                                      From the business Health and safety  \n",
       "gmap_id                                                                    \n",
       "0x88008ff5b3c52fd3:0xdbe482cf9fb221db               NaN               NaN  "
      ]
     },
     "execution_count": 269,
     "metadata": {},
     "output_type": "execute_result"
    }
   ],
   "source": [
    "MISC_df.head(1)"
   ]
  },
  {
   "cell_type": "code",
   "execution_count": 252,
   "metadata": {},
   "outputs": [],
   "source": [
    "MISC_df.to_csv('CualidadesG.csv')"
   ]
  },
  {
   "cell_type": "markdown",
   "metadata": {},
   "source": [
    "### Horarios"
   ]
  },
  {
   "cell_type": "code",
   "execution_count": 270,
   "metadata": {},
   "outputs": [],
   "source": [
    "Horarios=Restaurantes[['gmap_id','hours']].copy()"
   ]
  },
  {
   "cell_type": "code",
   "execution_count": 271,
   "metadata": {},
   "outputs": [
    {
     "data": {
      "text/plain": [
       "230"
      ]
     },
     "execution_count": 271,
     "metadata": {},
     "output_type": "execute_result"
    }
   ],
   "source": [
    "Horarios['hours'].isna().sum()"
   ]
  },
  {
   "cell_type": "code",
   "execution_count": 272,
   "metadata": {},
   "outputs": [],
   "source": [
    "Horarios['hours'].fillna(\"[['Thursday', 'Horario no disponible'], ['Friday', 'Horario no disponible'], ['Saturday', 'Horario no disponible'], ['Sunday', 'Horario no disponible'], ['Monday', 'Horario no disponible'],['Tuesday', 'Horario no disponible'], ['Wednesday', 'Horario no disponible']]\", inplace=True)"
   ]
  },
  {
   "cell_type": "code",
   "execution_count": 273,
   "metadata": {},
   "outputs": [],
   "source": [
    "dataframes_individuales = []\n",
    "\n",
    "for _, row in Horarios.iterrows():\n",
    "    try:\n",
    "        lista_horarios = ast.literal_eval(row['hours'])\n",
    "        df = pd.DataFrame(lista_horarios, columns=['Dia', 'Horario'])\n",
    "        df['gmap_id'] = row['gmap_id']\n",
    "        dataframes_individuales.append(df)\n",
    "    except (ValueError, SyntaxError):\n",
    "        pass  # Ignora las filas con valores NaN o cadenas mal formadas.\n",
    "\n",
    "# Concatena todos los DataFrames individuales en uno solo.\n",
    "tabla_pivot_total = pd.concat(dataframes_individuales)\n",
    "\n",
    "# Pivotea la tabla.\n",
    "Tabla_Horarios = tabla_pivot_total.pivot(index='gmap_id', columns='Dia', values='Horario')"
   ]
  },
  {
   "cell_type": "code",
   "execution_count": 274,
   "metadata": {},
   "outputs": [
    {
     "data": {
      "text/html": [
       "<div>\n",
       "<style scoped>\n",
       "    .dataframe tbody tr th:only-of-type {\n",
       "        vertical-align: middle;\n",
       "    }\n",
       "\n",
       "    .dataframe tbody tr th {\n",
       "        vertical-align: top;\n",
       "    }\n",
       "\n",
       "    .dataframe thead th {\n",
       "        text-align: right;\n",
       "    }\n",
       "</style>\n",
       "<table border=\"1\" class=\"dataframe\">\n",
       "  <thead>\n",
       "    <tr style=\"text-align: right;\">\n",
       "      <th>Dia</th>\n",
       "      <th>Friday</th>\n",
       "      <th>Monday</th>\n",
       "      <th>Saturday</th>\n",
       "      <th>Sunday</th>\n",
       "      <th>Thursday</th>\n",
       "      <th>Tuesday</th>\n",
       "      <th>Wednesday</th>\n",
       "    </tr>\n",
       "    <tr>\n",
       "      <th>gmap_id</th>\n",
       "      <th></th>\n",
       "      <th></th>\n",
       "      <th></th>\n",
       "      <th></th>\n",
       "      <th></th>\n",
       "      <th></th>\n",
       "      <th></th>\n",
       "    </tr>\n",
       "  </thead>\n",
       "  <tbody>\n",
       "    <tr>\n",
       "      <th>0x89ba97e95fbe787f:0xd085ed3ba7a2ff3d</th>\n",
       "      <td>11AM–8PM</td>\n",
       "      <td>11AM–8PM</td>\n",
       "      <td>11AM–8PM</td>\n",
       "      <td>Closed</td>\n",
       "      <td>11AM–8PM</td>\n",
       "      <td>11AM–8PM</td>\n",
       "      <td>11AM–8PM</td>\n",
       "    </tr>\n",
       "    <tr>\n",
       "      <th>0x80c8c3d564da353b:0xd67c218f201a72dd</th>\n",
       "      <td>5PM–12AM</td>\n",
       "      <td>5–10PM</td>\n",
       "      <td>5PM–12AM</td>\n",
       "      <td>5–10PM</td>\n",
       "      <td>5–10PM</td>\n",
       "      <td>5–10PM</td>\n",
       "      <td>5–10PM</td>\n",
       "    </tr>\n",
       "  </tbody>\n",
       "</table>\n",
       "</div>"
      ],
      "text/plain": [
       "Dia                                      Friday    Monday  Saturday  Sunday  \\\n",
       "gmap_id                                                                       \n",
       "0x89ba97e95fbe787f:0xd085ed3ba7a2ff3d  11AM–8PM  11AM–8PM  11AM–8PM  Closed   \n",
       "0x80c8c3d564da353b:0xd67c218f201a72dd  5PM–12AM    5–10PM  5PM–12AM  5–10PM   \n",
       "\n",
       "Dia                                    Thursday   Tuesday Wednesday  \n",
       "gmap_id                                                              \n",
       "0x89ba97e95fbe787f:0xd085ed3ba7a2ff3d  11AM–8PM  11AM–8PM  11AM–8PM  \n",
       "0x80c8c3d564da353b:0xd67c218f201a72dd    5–10PM    5–10PM    5–10PM  "
      ]
     },
     "execution_count": 274,
     "metadata": {},
     "output_type": "execute_result"
    }
   ],
   "source": [
    "Tabla_Horarios.sample(2)"
   ]
  },
  {
   "cell_type": "code",
   "execution_count": 275,
   "metadata": {},
   "outputs": [],
   "source": [
    "Tabla_Horarios.to_csv('HorariosG.csv')"
   ]
  },
  {
   "cell_type": "markdown",
   "metadata": {},
   "source": [
    "### RESTAURANTES"
   ]
  },
  {
   "cell_type": "code",
   "execution_count": null,
   "metadata": {},
   "outputs": [],
   "source": [
    "#Dejar la tabla principal de restaurantes"
   ]
  },
  {
   "cell_type": "code",
   "execution_count": 47,
   "metadata": {},
   "outputs": [],
   "source": [
    "Atributos_Restaurantes=Restaurantes[['gmap_id','name','description']].copy()"
   ]
  },
  {
   "cell_type": "code",
   "execution_count": 51,
   "metadata": {},
   "outputs": [
    {
     "data": {
      "text/plain": [
       "(3223, 3)"
      ]
     },
     "execution_count": 51,
     "metadata": {},
     "output_type": "execute_result"
    }
   ],
   "source": [
    "Atributos_Restaurantes.shape"
   ]
  },
  {
   "cell_type": "code",
   "execution_count": 50,
   "metadata": {},
   "outputs": [
    {
     "data": {
      "text/plain": [
       "2162"
      ]
     },
     "execution_count": 50,
     "metadata": {},
     "output_type": "execute_result"
    }
   ],
   "source": [
    "Atributos_Restaurantes['description'].isna().sum()"
   ]
  },
  {
   "cell_type": "code",
   "execution_count": 48,
   "metadata": {},
   "outputs": [
    {
     "data": {
      "text/html": [
       "<div>\n",
       "<style scoped>\n",
       "    .dataframe tbody tr th:only-of-type {\n",
       "        vertical-align: middle;\n",
       "    }\n",
       "\n",
       "    .dataframe tbody tr th {\n",
       "        vertical-align: top;\n",
       "    }\n",
       "\n",
       "    .dataframe thead th {\n",
       "        text-align: right;\n",
       "    }\n",
       "</style>\n",
       "<table border=\"1\" class=\"dataframe\">\n",
       "  <thead>\n",
       "    <tr style=\"text-align: right;\">\n",
       "      <th></th>\n",
       "      <th>gmap_id</th>\n",
       "      <th>name</th>\n",
       "      <th>description</th>\n",
       "    </tr>\n",
       "  </thead>\n",
       "  <tbody>\n",
       "    <tr>\n",
       "      <th>0</th>\n",
       "      <td>0x88008ff5b3c52fd3:0xdbe482cf9fb221db</td>\n",
       "      <td>Roux's Roadhouse 73</td>\n",
       "      <td>NaN</td>\n",
       "    </tr>\n",
       "    <tr>\n",
       "      <th>1</th>\n",
       "      <td>0x80c8db636d525e3b:0x6a51cce4b2dcc350</td>\n",
       "      <td>Crepes n' Tacos Mexican Grill</td>\n",
       "      <td>NaN</td>\n",
       "    </tr>\n",
       "  </tbody>\n",
       "</table>\n",
       "</div>"
      ],
      "text/plain": [
       "                                 gmap_id                           name  \\\n",
       "0  0x88008ff5b3c52fd3:0xdbe482cf9fb221db            Roux's Roadhouse 73   \n",
       "1  0x80c8db636d525e3b:0x6a51cce4b2dcc350  Crepes n' Tacos Mexican Grill   \n",
       "\n",
       "  description  \n",
       "0         NaN  \n",
       "1         NaN  "
      ]
     },
     "execution_count": 48,
     "metadata": {},
     "output_type": "execute_result"
    }
   ],
   "source": [
    "Atributos_Restaurantes.head(2)"
   ]
  },
  {
   "cell_type": "markdown",
   "metadata": {},
   "source": [
    "### Reviews Google"
   ]
  },
  {
   "cell_type": "code",
   "execution_count": 74,
   "metadata": {},
   "outputs": [],
   "source": [
    "ReviewsG=pd.read_csv('../PROYECTO_EQUIPO/Restaurantes_Google_Reviews.csv')"
   ]
  },
  {
   "cell_type": "code",
   "execution_count": 81,
   "metadata": {},
   "outputs": [
    {
     "data": {
      "text/html": [
       "<div>\n",
       "<style scoped>\n",
       "    .dataframe tbody tr th:only-of-type {\n",
       "        vertical-align: middle;\n",
       "    }\n",
       "\n",
       "    .dataframe tbody tr th {\n",
       "        vertical-align: top;\n",
       "    }\n",
       "\n",
       "    .dataframe thead th {\n",
       "        text-align: right;\n",
       "    }\n",
       "</style>\n",
       "<table border=\"1\" class=\"dataframe\">\n",
       "  <thead>\n",
       "    <tr style=\"text-align: right;\">\n",
       "      <th></th>\n",
       "      <th>user_id</th>\n",
       "      <th>name</th>\n",
       "      <th>time</th>\n",
       "      <th>rating</th>\n",
       "      <th>text</th>\n",
       "      <th>pics</th>\n",
       "      <th>resp</th>\n",
       "      <th>gmap_id</th>\n",
       "    </tr>\n",
       "  </thead>\n",
       "  <tbody>\n",
       "    <tr>\n",
       "      <th>0</th>\n",
       "      <td>115209325040226198552</td>\n",
       "      <td>Erika Beck</td>\n",
       "      <td>2005-06-09</td>\n",
       "      <td>4</td>\n",
       "      <td>NaN</td>\n",
       "      <td>NaN</td>\n",
       "      <td>NaN</td>\n",
       "      <td>0x80c8c18a51117251:0xfcb58dd8308dbdfb</td>\n",
       "    </tr>\n",
       "  </tbody>\n",
       "</table>\n",
       "</div>"
      ],
      "text/plain": [
       "                 user_id        name        time  rating text pics resp  \\\n",
       "0  115209325040226198552  Erika Beck  2005-06-09       4  NaN  NaN  NaN   \n",
       "\n",
       "                                 gmap_id  \n",
       "0  0x80c8c18a51117251:0xfcb58dd8308dbdfb  "
      ]
     },
     "execution_count": 81,
     "metadata": {},
     "output_type": "execute_result"
    }
   ],
   "source": [
    "ReviewsG.head(1)"
   ]
  },
  {
   "cell_type": "markdown",
   "metadata": {},
   "source": []
  }
 ],
 "metadata": {
  "kernelspec": {
   "display_name": "Python 3.8.3 64-bit",
   "language": "python",
   "name": "python3"
  },
  "language_info": {
   "codemirror_mode": {
    "name": "ipython",
    "version": 3
   },
   "file_extension": ".py",
   "mimetype": "text/x-python",
   "name": "python",
   "nbconvert_exporter": "python",
   "pygments_lexer": "ipython3",
   "version": "3.8.3"
  },
  "orig_nbformat": 4,
  "vscode": {
   "interpreter": {
    "hash": "aee8b7b246df8f9039afb4144a1f6fd8d2ca17a180786b69acc140d282b71a49"
   }
  }
 },
 "nbformat": 4,
 "nbformat_minor": 2
}
