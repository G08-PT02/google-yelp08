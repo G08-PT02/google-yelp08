{
 "cells": [
  {
   "cell_type": "code",
   "execution_count": null,
   "metadata": {},
   "outputs": [],
   "source": [
    "#pip install unidecode"
   ]
  },
  {
   "cell_type": "code",
   "execution_count": 16,
   "metadata": {},
   "outputs": [],
   "source": [
    "import pandas as pd\n",
    "import ast\n",
    "from unidecode import unidecode"
   ]
  },
  {
   "cell_type": "markdown",
   "metadata": {},
   "source": [
    "# YELP"
   ]
  },
  {
   "cell_type": "code",
   "execution_count": 6,
   "metadata": {},
   "outputs": [],
   "source": [
    "RestaurantesY=pd.read_csv('../PROYECTO_EQUIPO/Restaurantes_Yelp.csv')"
   ]
  },
  {
   "cell_type": "markdown",
   "metadata": {},
   "source": [
    "#### Generar Tabla Datos_Geográficos"
   ]
  },
  {
   "cell_type": "code",
   "execution_count": 7,
   "metadata": {},
   "outputs": [],
   "source": [
    "Datos_Geograficos=RestaurantesY[['business_id','address','city','state','postal_code','latitude','longitude']].copy()"
   ]
  },
  {
   "cell_type": "code",
   "execution_count": 8,
   "metadata": {},
   "outputs": [
    {
     "data": {
      "text/html": [
       "<div>\n",
       "<style scoped>\n",
       "    .dataframe tbody tr th:only-of-type {\n",
       "        vertical-align: middle;\n",
       "    }\n",
       "\n",
       "    .dataframe tbody tr th {\n",
       "        vertical-align: top;\n",
       "    }\n",
       "\n",
       "    .dataframe thead th {\n",
       "        text-align: right;\n",
       "    }\n",
       "</style>\n",
       "<table border=\"1\" class=\"dataframe\">\n",
       "  <thead>\n",
       "    <tr style=\"text-align: right;\">\n",
       "      <th></th>\n",
       "      <th>business_id</th>\n",
       "      <th>address</th>\n",
       "      <th>city</th>\n",
       "      <th>state</th>\n",
       "      <th>postal_code</th>\n",
       "      <th>latitude</th>\n",
       "      <th>longitude</th>\n",
       "    </tr>\n",
       "  </thead>\n",
       "  <tbody>\n",
       "    <tr>\n",
       "      <th>0</th>\n",
       "      <td>MTSW4McQd7CbVtyjqoe9mw</td>\n",
       "      <td>935 Race St</td>\n",
       "      <td>Philadelphia</td>\n",
       "      <td>CA</td>\n",
       "      <td>19107</td>\n",
       "      <td>39.955505</td>\n",
       "      <td>-75.155564</td>\n",
       "    </tr>\n",
       "    <tr>\n",
       "      <th>1</th>\n",
       "      <td>9OG5YkX1g2GReZM0AskizA</td>\n",
       "      <td>5505 S Virginia St</td>\n",
       "      <td>Reno</td>\n",
       "      <td>AB</td>\n",
       "      <td>89502</td>\n",
       "      <td>39.476117</td>\n",
       "      <td>-119.789339</td>\n",
       "    </tr>\n",
       "  </tbody>\n",
       "</table>\n",
       "</div>"
      ],
      "text/plain": [
       "              business_id             address          city state postal_code  \\\n",
       "0  MTSW4McQd7CbVtyjqoe9mw         935 Race St  Philadelphia    CA       19107   \n",
       "1  9OG5YkX1g2GReZM0AskizA  5505 S Virginia St          Reno    AB       89502   \n",
       "\n",
       "    latitude   longitude  \n",
       "0  39.955505  -75.155564  \n",
       "1  39.476117 -119.789339  "
      ]
     },
     "execution_count": 8,
     "metadata": {},
     "output_type": "execute_result"
    }
   ],
   "source": [
    "Datos_Geograficos.head(2)"
   ]
  },
  {
   "cell_type": "code",
   "execution_count": 7,
   "metadata": {},
   "outputs": [],
   "source": [
    "Datos_Geograficos.to_csv('Yelp_Datos_Geograficos.csv')"
   ]
  },
  {
   "cell_type": "markdown",
   "metadata": {},
   "source": [
    "### Category"
   ]
  },
  {
   "cell_type": "code",
   "execution_count": 9,
   "metadata": {},
   "outputs": [],
   "source": [
    "CategoriasYelp=RestaurantesY[['business_id','categories']].copy()"
   ]
  },
  {
   "cell_type": "code",
   "execution_count": 10,
   "metadata": {},
   "outputs": [],
   "source": [
    "#obtengo todas las categorias de la columna categorias\n",
    "\n",
    "lista_categorias = []\n",
    "categorias = []\n",
    "lista_categorias_limpia = []\n",
    "\n",
    "for i in range(0, CategoriasYelp.shape[0]):\n",
    "    string=CategoriasYelp[\"categories\"].iloc[i]\n",
    "    lista_categorias.append(string)\n",
    "\n",
    "for i in range(0,len(lista_categorias)):\n",
    "    #me quedo con los valores limpios de cada row para luego poner 0 o 1 segun corresponda\n",
    "    lista_categorias_limpia.append(lista_categorias[i].split(','))\n",
    "\n",
    "    #hago esto para aplicarle strip y lower\n",
    "    for lista in lista_categorias_limpia:\n",
    "        for string in lista:\n",
    "            string=string.strip().lower()\n",
    "            \n",
    "    #ahora saco cada string para ir obteniendo cada categoria como string\n",
    "    for string in lista_categorias[i].split(','):\n",
    "        categorias.append(string.lower().strip())\n",
    "        \n",
    "#me quedo con un valor unico de cada categoria para que no se repita\n",
    "categorias_unicas = list(set(categorias))\n",
    "len(categorias_unicas) #406 categorias unicas en total\n",
    "\n",
    "#armo un dataframe nuevo categorias para almacenar los business_id\n",
    "df_categorias = pd.DataFrame()\n",
    "df_categorias.insert(0,\"id_restaurante\" ,CategoriasYelp[\"business_id\"])\n",
    "\n",
    "#agrego a cada business id su correspondiente lista de categorias\n",
    "df_categorias.insert(1,\"categorias\" ,lista_categorias_limpia)\n",
    "\n",
    "#esto lo hice con chatgpt: transforma en lower() y aplica strip() a cada string\n",
    "df_categorias[\"categorias\"] = df_categorias[\"categorias\"].apply(lambda x: [s.strip().lower() for s in x])\n",
    "\n",
    "#armo df para almcacenar cada categoria como una columna con valor 0\n",
    "df = pd.DataFrame(0, index=df_categorias.index, columns=categorias_unicas)\n",
    "\n",
    "#concateno al df categorias\n",
    "df_categorias = pd.concat([df_categorias, df], axis=1)\n",
    "\n",
    "#pongo un 1 en la columna correspondiente para ir clasificando cada business id\n",
    "for idx, row in df_categorias.iterrows():\n",
    "    for categoria in row[\"categorias\"]:\n",
    "        if categoria in categorias_unicas:\n",
    "            df_categorias.at[idx, categoria] = 1\n",
    "\n",
    "\n",
    "#elimino esta columna porque ya no sirve\n",
    "df_categorias.drop(columns=[\"categorias\"], inplace=True)"
   ]
  },
  {
   "cell_type": "code",
   "execution_count": 12,
   "metadata": {},
   "outputs": [
    {
     "data": {
      "text/html": [
       "<div>\n",
       "<style scoped>\n",
       "    .dataframe tbody tr th:only-of-type {\n",
       "        vertical-align: middle;\n",
       "    }\n",
       "\n",
       "    .dataframe tbody tr th {\n",
       "        vertical-align: top;\n",
       "    }\n",
       "\n",
       "    .dataframe thead th {\n",
       "        text-align: right;\n",
       "    }\n",
       "</style>\n",
       "<table border=\"1\" class=\"dataframe\">\n",
       "  <thead>\n",
       "    <tr style=\"text-align: right;\">\n",
       "      <th></th>\n",
       "      <th>id_restaurante</th>\n",
       "      <th>poutineries</th>\n",
       "      <th>party &amp; event planning</th>\n",
       "      <th>performing arts</th>\n",
       "      <th>haitian</th>\n",
       "      <th>car wash</th>\n",
       "      <th>teppanyaki</th>\n",
       "      <th>bakeries</th>\n",
       "      <th>falafel</th>\n",
       "      <th>sporting goods</th>\n",
       "      <th>...</th>\n",
       "      <th>salvadoran</th>\n",
       "      <th>home services</th>\n",
       "      <th>pet stores</th>\n",
       "      <th>pasta shops</th>\n",
       "      <th>nightlife</th>\n",
       "      <th>fondue</th>\n",
       "      <th>massage</th>\n",
       "      <th>propane</th>\n",
       "      <th>pancakes</th>\n",
       "      <th>social clubs</th>\n",
       "    </tr>\n",
       "  </thead>\n",
       "  <tbody>\n",
       "    <tr>\n",
       "      <th>7272</th>\n",
       "      <td>i0b_xiKIbExKtF3vqo1Bzw</td>\n",
       "      <td>0</td>\n",
       "      <td>0</td>\n",
       "      <td>0</td>\n",
       "      <td>0</td>\n",
       "      <td>0</td>\n",
       "      <td>0</td>\n",
       "      <td>0</td>\n",
       "      <td>0</td>\n",
       "      <td>0</td>\n",
       "      <td>...</td>\n",
       "      <td>0</td>\n",
       "      <td>0</td>\n",
       "      <td>0</td>\n",
       "      <td>0</td>\n",
       "      <td>0</td>\n",
       "      <td>0</td>\n",
       "      <td>0</td>\n",
       "      <td>0</td>\n",
       "      <td>0</td>\n",
       "      <td>0</td>\n",
       "    </tr>\n",
       "    <tr>\n",
       "      <th>6875</th>\n",
       "      <td>E0bcgGtrqne4MS7wt99SVA</td>\n",
       "      <td>0</td>\n",
       "      <td>0</td>\n",
       "      <td>0</td>\n",
       "      <td>0</td>\n",
       "      <td>0</td>\n",
       "      <td>0</td>\n",
       "      <td>0</td>\n",
       "      <td>0</td>\n",
       "      <td>0</td>\n",
       "      <td>...</td>\n",
       "      <td>0</td>\n",
       "      <td>0</td>\n",
       "      <td>0</td>\n",
       "      <td>0</td>\n",
       "      <td>0</td>\n",
       "      <td>0</td>\n",
       "      <td>0</td>\n",
       "      <td>0</td>\n",
       "      <td>0</td>\n",
       "      <td>0</td>\n",
       "    </tr>\n",
       "  </tbody>\n",
       "</table>\n",
       "<p>2 rows × 407 columns</p>\n",
       "</div>"
      ],
      "text/plain": [
       "              id_restaurante  poutineries  party & event planning  \\\n",
       "7272  i0b_xiKIbExKtF3vqo1Bzw            0                       0   \n",
       "6875  E0bcgGtrqne4MS7wt99SVA            0                       0   \n",
       "\n",
       "      performing arts  haitian  car wash  teppanyaki  bakeries  falafel  \\\n",
       "7272                0        0         0           0         0        0   \n",
       "6875                0        0         0           0         0        0   \n",
       "\n",
       "      sporting goods  ...  salvadoran  home services  pet stores  pasta shops  \\\n",
       "7272               0  ...           0              0           0            0   \n",
       "6875               0  ...           0              0           0            0   \n",
       "\n",
       "      nightlife  fondue  massage  propane  pancakes  social clubs  \n",
       "7272          0       0        0        0         0             0  \n",
       "6875          0       0        0        0         0             0  \n",
       "\n",
       "[2 rows x 407 columns]"
      ]
     },
     "execution_count": 12,
     "metadata": {},
     "output_type": "execute_result"
    }
   ],
   "source": [
    "df_categorias.sample(2)"
   ]
  },
  {
   "cell_type": "code",
   "execution_count": null,
   "metadata": {},
   "outputs": [],
   "source": [
    "#Hacer tabla"
   ]
  },
  {
   "cell_type": "code",
   "execution_count": 13,
   "metadata": {},
   "outputs": [
    {
     "data": {
      "text/plain": [
       "restaurants        15305\n",
       "food                2986\n",
       "pizza               2255\n",
       "sandwiches          1940\n",
       "fast food           1917\n",
       "                   ...  \n",
       "creperies             40\n",
       "waffles               40\n",
       "seafood markets       37\n",
       "active life           37\n",
       "filipino              37\n",
       "Length: 100, dtype: object"
      ]
     },
     "execution_count": 13,
     "metadata": {},
     "output_type": "execute_result"
    }
   ],
   "source": [
    "# Obtiene categorías principales\n",
    "suma_por_categoria = df_categorias.sum()\n",
    "suma_por_categoria.drop('id_restaurante', inplace=True)\n",
    "suma_por_categoria.sort_values(ascending= False).head(100)"
   ]
  },
  {
   "cell_type": "markdown",
   "metadata": {},
   "source": [
    "### Cualidades (attributes) (PONERLE ATENCIÓN A ESTO)"
   ]
  },
  {
   "cell_type": "code",
   "execution_count": 14,
   "metadata": {},
   "outputs": [],
   "source": [
    "df=RestaurantesY[['business_id','attributes']].copy()"
   ]
  },
  {
   "cell_type": "code",
   "execution_count": 17,
   "metadata": {},
   "outputs": [],
   "source": [
    "df['attributes'] = df['attributes'].fillna('{}').apply(ast.literal_eval) #Completamos los valores faltantes en esta columna con '{}'\n",
    "\n",
    "\n",
    "def convert_to_dict(val):\n",
    "    # Transformamos en diccionarios reales los strings que parecen diccionarios\n",
    "    if isinstance(val, str) and val.startswith(\"{\") and val.endswith(\"}\"):\n",
    "        return ast.literal_eval(val)\n",
    "    return val\n",
    "\n",
    "df['attributes'] = df['attributes'].apply(convert_to_dict)"
   ]
  },
  {
   "cell_type": "code",
   "execution_count": 18,
   "metadata": {},
   "outputs": [],
   "source": [
    "df_expanded = pd.json_normalize(df['attributes'].tolist()) #Combierte la columna en una lista de diccionarios y json_normalize pasa los valores a columnas\n",
    "result_df = pd.concat([df.drop('attributes', axis=1), df_expanded], axis=1) #Combinamos el df original con el nuevo que tiene las columnas separadas"
   ]
  },
  {
   "cell_type": "code",
   "execution_count": 48,
   "metadata": {},
   "outputs": [
    {
     "data": {
      "text/html": [
       "<div>\n",
       "<style scoped>\n",
       "    .dataframe tbody tr th:only-of-type {\n",
       "        vertical-align: middle;\n",
       "    }\n",
       "\n",
       "    .dataframe tbody tr th {\n",
       "        vertical-align: top;\n",
       "    }\n",
       "\n",
       "    .dataframe thead th {\n",
       "        text-align: right;\n",
       "    }\n",
       "</style>\n",
       "<table border=\"1\" class=\"dataframe\">\n",
       "  <thead>\n",
       "    <tr style=\"text-align: right;\">\n",
       "      <th></th>\n",
       "      <th>business_id</th>\n",
       "      <th>RestaurantsDelivery</th>\n",
       "      <th>OutdoorSeating</th>\n",
       "      <th>BusinessAcceptsCreditCards</th>\n",
       "      <th>BusinessParking</th>\n",
       "      <th>BikeParking</th>\n",
       "      <th>RestaurantsPriceRange2</th>\n",
       "      <th>RestaurantsTakeOut</th>\n",
       "      <th>ByAppointmentOnly</th>\n",
       "      <th>WiFi</th>\n",
       "      <th>...</th>\n",
       "      <th>CoatCheck</th>\n",
       "      <th>BestNights</th>\n",
       "      <th>Smoking</th>\n",
       "      <th>BYOBCorkage</th>\n",
       "      <th>Corkage</th>\n",
       "      <th>Open24Hours</th>\n",
       "      <th>DietaryRestrictions</th>\n",
       "      <th>AgesAllowed</th>\n",
       "      <th>RestaurantsCounterService</th>\n",
       "      <th>AcceptsInsurance</th>\n",
       "    </tr>\n",
       "  </thead>\n",
       "  <tbody>\n",
       "    <tr>\n",
       "      <th>0</th>\n",
       "      <td>MTSW4McQd7CbVtyjqoe9mw</td>\n",
       "      <td>False</td>\n",
       "      <td>False</td>\n",
       "      <td>False</td>\n",
       "      <td>{'garage': False, 'street': True, 'validated':...</td>\n",
       "      <td>True</td>\n",
       "      <td>1</td>\n",
       "      <td>True</td>\n",
       "      <td>False</td>\n",
       "      <td>u'free'</td>\n",
       "      <td>...</td>\n",
       "      <td>NaN</td>\n",
       "      <td>NaN</td>\n",
       "      <td>NaN</td>\n",
       "      <td>NaN</td>\n",
       "      <td>NaN</td>\n",
       "      <td>NaN</td>\n",
       "      <td>NaN</td>\n",
       "      <td>NaN</td>\n",
       "      <td>NaN</td>\n",
       "      <td>NaN</td>\n",
       "    </tr>\n",
       "    <tr>\n",
       "      <th>1</th>\n",
       "      <td>9OG5YkX1g2GReZM0AskizA</td>\n",
       "      <td>True</td>\n",
       "      <td>True</td>\n",
       "      <td>True</td>\n",
       "      <td>{'garage': False, 'street': False, 'validated'...</td>\n",
       "      <td>True</td>\n",
       "      <td>2</td>\n",
       "      <td>True</td>\n",
       "      <td>NaN</td>\n",
       "      <td>u'free'</td>\n",
       "      <td>...</td>\n",
       "      <td>NaN</td>\n",
       "      <td>NaN</td>\n",
       "      <td>NaN</td>\n",
       "      <td>NaN</td>\n",
       "      <td>NaN</td>\n",
       "      <td>NaN</td>\n",
       "      <td>NaN</td>\n",
       "      <td>NaN</td>\n",
       "      <td>NaN</td>\n",
       "      <td>NaN</td>\n",
       "    </tr>\n",
       "    <tr>\n",
       "      <th>2</th>\n",
       "      <td>tMkwHmWFUEXrC9ZduonpTg</td>\n",
       "      <td>None</td>\n",
       "      <td>False</td>\n",
       "      <td>True</td>\n",
       "      <td>{'garage': True, 'street': False, 'validated':...</td>\n",
       "      <td>False</td>\n",
       "      <td>NaN</td>\n",
       "      <td>None</td>\n",
       "      <td>NaN</td>\n",
       "      <td>u'free'</td>\n",
       "      <td>...</td>\n",
       "      <td>NaN</td>\n",
       "      <td>NaN</td>\n",
       "      <td>NaN</td>\n",
       "      <td>NaN</td>\n",
       "      <td>NaN</td>\n",
       "      <td>NaN</td>\n",
       "      <td>NaN</td>\n",
       "      <td>NaN</td>\n",
       "      <td>NaN</td>\n",
       "      <td>NaN</td>\n",
       "    </tr>\n",
       "    <tr>\n",
       "      <th>3</th>\n",
       "      <td>2xVsWBNFwZOxIOdd9Mwnww</td>\n",
       "      <td>False</td>\n",
       "      <td>True</td>\n",
       "      <td>True</td>\n",
       "      <td>{'garage': False, 'street': False, 'validated'...</td>\n",
       "      <td>NaN</td>\n",
       "      <td>2</td>\n",
       "      <td>True</td>\n",
       "      <td>NaN</td>\n",
       "      <td>u'free'</td>\n",
       "      <td>...</td>\n",
       "      <td>NaN</td>\n",
       "      <td>NaN</td>\n",
       "      <td>NaN</td>\n",
       "      <td>NaN</td>\n",
       "      <td>NaN</td>\n",
       "      <td>NaN</td>\n",
       "      <td>NaN</td>\n",
       "      <td>NaN</td>\n",
       "      <td>NaN</td>\n",
       "      <td>NaN</td>\n",
       "    </tr>\n",
       "    <tr>\n",
       "      <th>4</th>\n",
       "      <td>ljxNT9p0y7YMPx0fcNBGig</td>\n",
       "      <td>False</td>\n",
       "      <td>True</td>\n",
       "      <td>True</td>\n",
       "      <td>{'garage': False, 'street': True, 'validated':...</td>\n",
       "      <td>True</td>\n",
       "      <td>2</td>\n",
       "      <td>True</td>\n",
       "      <td>NaN</td>\n",
       "      <td>'free'</td>\n",
       "      <td>...</td>\n",
       "      <td>NaN</td>\n",
       "      <td>NaN</td>\n",
       "      <td>NaN</td>\n",
       "      <td>NaN</td>\n",
       "      <td>NaN</td>\n",
       "      <td>NaN</td>\n",
       "      <td>NaN</td>\n",
       "      <td>NaN</td>\n",
       "      <td>NaN</td>\n",
       "      <td>NaN</td>\n",
       "    </tr>\n",
       "    <tr>\n",
       "      <th>...</th>\n",
       "      <td>...</td>\n",
       "      <td>...</td>\n",
       "      <td>...</td>\n",
       "      <td>...</td>\n",
       "      <td>...</td>\n",
       "      <td>...</td>\n",
       "      <td>...</td>\n",
       "      <td>...</td>\n",
       "      <td>...</td>\n",
       "      <td>...</td>\n",
       "      <td>...</td>\n",
       "      <td>...</td>\n",
       "      <td>...</td>\n",
       "      <td>...</td>\n",
       "      <td>...</td>\n",
       "      <td>...</td>\n",
       "      <td>...</td>\n",
       "      <td>...</td>\n",
       "      <td>...</td>\n",
       "      <td>...</td>\n",
       "      <td>...</td>\n",
       "    </tr>\n",
       "    <tr>\n",
       "      <th>15300</th>\n",
       "      <td>wVxXRFf10zTTAs11nr4xeA</td>\n",
       "      <td>True</td>\n",
       "      <td>False</td>\n",
       "      <td>True</td>\n",
       "      <td>{'garage': False, 'street': True, 'validated':...</td>\n",
       "      <td>True</td>\n",
       "      <td>2</td>\n",
       "      <td>True</td>\n",
       "      <td>NaN</td>\n",
       "      <td>'no'</td>\n",
       "      <td>...</td>\n",
       "      <td>NaN</td>\n",
       "      <td>NaN</td>\n",
       "      <td>NaN</td>\n",
       "      <td>NaN</td>\n",
       "      <td>NaN</td>\n",
       "      <td>NaN</td>\n",
       "      <td>NaN</td>\n",
       "      <td>NaN</td>\n",
       "      <td>NaN</td>\n",
       "      <td>NaN</td>\n",
       "    </tr>\n",
       "    <tr>\n",
       "      <th>15301</th>\n",
       "      <td>sf_oQ62L8UEnOOLf00nNGA</td>\n",
       "      <td>True</td>\n",
       "      <td>False</td>\n",
       "      <td>True</td>\n",
       "      <td>{'garage': False, 'street': False, 'validated'...</td>\n",
       "      <td>NaN</td>\n",
       "      <td>1</td>\n",
       "      <td>True</td>\n",
       "      <td>NaN</td>\n",
       "      <td>NaN</td>\n",
       "      <td>...</td>\n",
       "      <td>NaN</td>\n",
       "      <td>NaN</td>\n",
       "      <td>NaN</td>\n",
       "      <td>NaN</td>\n",
       "      <td>NaN</td>\n",
       "      <td>NaN</td>\n",
       "      <td>NaN</td>\n",
       "      <td>NaN</td>\n",
       "      <td>NaN</td>\n",
       "      <td>NaN</td>\n",
       "    </tr>\n",
       "    <tr>\n",
       "      <th>15302</th>\n",
       "      <td>l9eLGG9ZKpLJzboZq-9LRQ</td>\n",
       "      <td>True</td>\n",
       "      <td>NaN</td>\n",
       "      <td>True</td>\n",
       "      <td>{'garage': False, 'street': False, 'validated'...</td>\n",
       "      <td>True</td>\n",
       "      <td>1</td>\n",
       "      <td>True</td>\n",
       "      <td>NaN</td>\n",
       "      <td>NaN</td>\n",
       "      <td>...</td>\n",
       "      <td>NaN</td>\n",
       "      <td>NaN</td>\n",
       "      <td>NaN</td>\n",
       "      <td>NaN</td>\n",
       "      <td>NaN</td>\n",
       "      <td>NaN</td>\n",
       "      <td>NaN</td>\n",
       "      <td>NaN</td>\n",
       "      <td>NaN</td>\n",
       "      <td>NaN</td>\n",
       "    </tr>\n",
       "    <tr>\n",
       "      <th>15303</th>\n",
       "      <td>WnT9NIzQgLlILjPT0kEcsQ</td>\n",
       "      <td>True</td>\n",
       "      <td>False</td>\n",
       "      <td>True</td>\n",
       "      <td>{'garage': None, 'street': True, 'validated': ...</td>\n",
       "      <td>True</td>\n",
       "      <td>2</td>\n",
       "      <td>True</td>\n",
       "      <td>NaN</td>\n",
       "      <td>u'free'</td>\n",
       "      <td>...</td>\n",
       "      <td>NaN</td>\n",
       "      <td>NaN</td>\n",
       "      <td>NaN</td>\n",
       "      <td>NaN</td>\n",
       "      <td>NaN</td>\n",
       "      <td>NaN</td>\n",
       "      <td>NaN</td>\n",
       "      <td>NaN</td>\n",
       "      <td>NaN</td>\n",
       "      <td>NaN</td>\n",
       "    </tr>\n",
       "    <tr>\n",
       "      <th>15304</th>\n",
       "      <td>2O2K6SXPWv56amqxCECd4w</td>\n",
       "      <td>False</td>\n",
       "      <td>NaN</td>\n",
       "      <td>True</td>\n",
       "      <td>{'garage': False, 'street': True, 'validated':...</td>\n",
       "      <td>True</td>\n",
       "      <td>1</td>\n",
       "      <td>True</td>\n",
       "      <td>NaN</td>\n",
       "      <td>NaN</td>\n",
       "      <td>...</td>\n",
       "      <td>NaN</td>\n",
       "      <td>NaN</td>\n",
       "      <td>NaN</td>\n",
       "      <td>NaN</td>\n",
       "      <td>NaN</td>\n",
       "      <td>NaN</td>\n",
       "      <td>NaN</td>\n",
       "      <td>NaN</td>\n",
       "      <td>NaN</td>\n",
       "      <td>NaN</td>\n",
       "    </tr>\n",
       "  </tbody>\n",
       "</table>\n",
       "<p>15305 rows × 39 columns</p>\n",
       "</div>"
      ],
      "text/plain": [
       "                  business_id RestaurantsDelivery OutdoorSeating  \\\n",
       "0      MTSW4McQd7CbVtyjqoe9mw               False          False   \n",
       "1      9OG5YkX1g2GReZM0AskizA                True           True   \n",
       "2      tMkwHmWFUEXrC9ZduonpTg                None          False   \n",
       "3      2xVsWBNFwZOxIOdd9Mwnww               False           True   \n",
       "4      ljxNT9p0y7YMPx0fcNBGig               False           True   \n",
       "...                       ...                 ...            ...   \n",
       "15300  wVxXRFf10zTTAs11nr4xeA                True          False   \n",
       "15301  sf_oQ62L8UEnOOLf00nNGA                True          False   \n",
       "15302  l9eLGG9ZKpLJzboZq-9LRQ                True            NaN   \n",
       "15303  WnT9NIzQgLlILjPT0kEcsQ                True          False   \n",
       "15304  2O2K6SXPWv56amqxCECd4w               False            NaN   \n",
       "\n",
       "      BusinessAcceptsCreditCards  \\\n",
       "0                          False   \n",
       "1                           True   \n",
       "2                           True   \n",
       "3                           True   \n",
       "4                           True   \n",
       "...                          ...   \n",
       "15300                       True   \n",
       "15301                       True   \n",
       "15302                       True   \n",
       "15303                       True   \n",
       "15304                       True   \n",
       "\n",
       "                                         BusinessParking BikeParking  \\\n",
       "0      {'garage': False, 'street': True, 'validated':...        True   \n",
       "1      {'garage': False, 'street': False, 'validated'...        True   \n",
       "2      {'garage': True, 'street': False, 'validated':...       False   \n",
       "3      {'garage': False, 'street': False, 'validated'...         NaN   \n",
       "4      {'garage': False, 'street': True, 'validated':...        True   \n",
       "...                                                  ...         ...   \n",
       "15300  {'garage': False, 'street': True, 'validated':...        True   \n",
       "15301  {'garage': False, 'street': False, 'validated'...         NaN   \n",
       "15302  {'garage': False, 'street': False, 'validated'...        True   \n",
       "15303  {'garage': None, 'street': True, 'validated': ...        True   \n",
       "15304  {'garage': False, 'street': True, 'validated':...        True   \n",
       "\n",
       "      RestaurantsPriceRange2 RestaurantsTakeOut ByAppointmentOnly     WiFi  \\\n",
       "0                          1               True             False  u'free'   \n",
       "1                          2               True               NaN  u'free'   \n",
       "2                        NaN               None               NaN  u'free'   \n",
       "3                          2               True               NaN  u'free'   \n",
       "4                          2               True               NaN   'free'   \n",
       "...                      ...                ...               ...      ...   \n",
       "15300                      2               True               NaN     'no'   \n",
       "15301                      1               True               NaN      NaN   \n",
       "15302                      1               True               NaN      NaN   \n",
       "15303                      2               True               NaN  u'free'   \n",
       "15304                      1               True               NaN      NaN   \n",
       "\n",
       "       ... CoatCheck BestNights Smoking BYOBCorkage Corkage Open24Hours  \\\n",
       "0      ...       NaN        NaN     NaN         NaN     NaN         NaN   \n",
       "1      ...       NaN        NaN     NaN         NaN     NaN         NaN   \n",
       "2      ...       NaN        NaN     NaN         NaN     NaN         NaN   \n",
       "3      ...       NaN        NaN     NaN         NaN     NaN         NaN   \n",
       "4      ...       NaN        NaN     NaN         NaN     NaN         NaN   \n",
       "...    ...       ...        ...     ...         ...     ...         ...   \n",
       "15300  ...       NaN        NaN     NaN         NaN     NaN         NaN   \n",
       "15301  ...       NaN        NaN     NaN         NaN     NaN         NaN   \n",
       "15302  ...       NaN        NaN     NaN         NaN     NaN         NaN   \n",
       "15303  ...       NaN        NaN     NaN         NaN     NaN         NaN   \n",
       "15304  ...       NaN        NaN     NaN         NaN     NaN         NaN   \n",
       "\n",
       "      DietaryRestrictions AgesAllowed RestaurantsCounterService  \\\n",
       "0                     NaN         NaN                       NaN   \n",
       "1                     NaN         NaN                       NaN   \n",
       "2                     NaN         NaN                       NaN   \n",
       "3                     NaN         NaN                       NaN   \n",
       "4                     NaN         NaN                       NaN   \n",
       "...                   ...         ...                       ...   \n",
       "15300                 NaN         NaN                       NaN   \n",
       "15301                 NaN         NaN                       NaN   \n",
       "15302                 NaN         NaN                       NaN   \n",
       "15303                 NaN         NaN                       NaN   \n",
       "15304                 NaN         NaN                       NaN   \n",
       "\n",
       "      AcceptsInsurance  \n",
       "0                  NaN  \n",
       "1                  NaN  \n",
       "2                  NaN  \n",
       "3                  NaN  \n",
       "4                  NaN  \n",
       "...                ...  \n",
       "15300              NaN  \n",
       "15301              NaN  \n",
       "15302              NaN  \n",
       "15303              NaN  \n",
       "15304              NaN  \n",
       "\n",
       "[15305 rows x 39 columns]"
      ]
     },
     "execution_count": 48,
     "metadata": {},
     "output_type": "execute_result"
    }
   ],
   "source": [
    "result_df"
   ]
  },
  {
   "cell_type": "code",
   "execution_count": 19,
   "metadata": {},
   "outputs": [
    {
     "data": {
      "text/plain": [
       "Index(['business_id', 'RestaurantsDelivery', 'OutdoorSeating',\n",
       "       'BusinessAcceptsCreditCards', 'BusinessParking', 'BikeParking',\n",
       "       'RestaurantsPriceRange2', 'RestaurantsTakeOut', 'ByAppointmentOnly',\n",
       "       'WiFi', 'Alcohol', 'Caters', 'RestaurantsGoodForGroups',\n",
       "       'RestaurantsAttire', 'NoiseLevel', 'GoodForKids',\n",
       "       'RestaurantsReservations', 'GoodForMeal', 'RestaurantsTableService',\n",
       "       'HappyHour', 'DogsAllowed', 'Ambience', 'HasTV',\n",
       "       'BusinessAcceptsBitcoin', 'WheelchairAccessible', 'BYOB', 'DriveThru',\n",
       "       'GoodForDancing', 'Music', 'CoatCheck', 'BestNights', 'Smoking',\n",
       "       'BYOBCorkage', 'Corkage', 'Open24Hours', 'DietaryRestrictions',\n",
       "       'AgesAllowed', 'RestaurantsCounterService', 'AcceptsInsurance'],\n",
       "      dtype='object')"
      ]
     },
     "execution_count": 19,
     "metadata": {},
     "output_type": "execute_result"
    }
   ],
   "source": [
    "result_df.columns"
   ]
  },
  {
   "cell_type": "markdown",
   "metadata": {},
   "source": [
    "Obtener datos parecidos:\n",
    "['Service options', 'Health & safety', 'Highlights', 'Popular for', 'Offerings', 'Amenities', 'Atmosphere', 'Crowd','Dining options', 'Payments', 'Planning']\n",
    "\n",
    "YELP:\n",
    "RestaurantsDelivery,RestaurantsTakeOut,BusinessAcceptsCreditCards,ByAppointmentOnly,RestaurantsReservations,RestaurantsGoodForGroups"
   ]
  },
  {
   "cell_type": "markdown",
   "metadata": {},
   "source": [
    "Eliminar: RestaurantsCounterService, AcceptsInsurance,"
   ]
  },
  {
   "cell_type": "code",
   "execution_count": 35,
   "metadata": {},
   "outputs": [
    {
     "data": {
      "text/plain": [
       "15290"
      ]
     },
     "execution_count": 35,
     "metadata": {},
     "output_type": "execute_result"
    }
   ],
   "source": [
    "result_df['AgesAllowed'].isna().sum()"
   ]
  },
  {
   "cell_type": "code",
   "execution_count": null,
   "metadata": {},
   "outputs": [],
   "source": [
    "result_df[-result_df['AgesAllowed'].isna()]"
   ]
  },
  {
   "cell_type": "code",
   "execution_count": 47,
   "metadata": {},
   "outputs": [
    {
     "data": {
      "text/plain": [
       "\"u'allages'\""
      ]
     },
     "execution_count": 47,
     "metadata": {},
     "output_type": "execute_result"
    }
   ],
   "source": [
    "result_df['AgesAllowed'].loc[14333]"
   ]
  },
  {
   "cell_type": "code",
   "execution_count": 25,
   "metadata": {},
   "outputs": [
    {
     "data": {
      "text/plain": [
       "(15305, 39)"
      ]
     },
     "execution_count": 25,
     "metadata": {},
     "output_type": "execute_result"
    }
   ],
   "source": [
    "result_df.shape"
   ]
  },
  {
   "cell_type": "code",
   "execution_count": 21,
   "metadata": {},
   "outputs": [
    {
     "data": {
      "text/plain": [
       "array(['False', 'True', 'None', nan], dtype=object)"
      ]
     },
     "execution_count": 21,
     "metadata": {},
     "output_type": "execute_result"
    }
   ],
   "source": [
    "result_df['RestaurantsDelivery'].unique()"
   ]
  },
  {
   "cell_type": "code",
   "execution_count": 38,
   "metadata": {},
   "outputs": [
    {
     "data": {
      "text/plain": [
       "(15305, 39)"
      ]
     },
     "execution_count": 38,
     "metadata": {},
     "output_type": "execute_result"
    }
   ],
   "source": [
    "result_df.shape"
   ]
  },
  {
   "cell_type": "code",
   "execution_count": 37,
   "metadata": {},
   "outputs": [
    {
     "data": {
      "text/plain": [
       "nan"
      ]
     },
     "execution_count": 37,
     "metadata": {},
     "output_type": "execute_result"
    }
   ],
   "source": [
    "result_df['NoiseLevel'][5948]"
   ]
  },
  {
   "cell_type": "code",
   "execution_count": 30,
   "metadata": {},
   "outputs": [
    {
     "data": {
      "text/plain": [
       "array([nan, \"u'average'\", \"u'quiet'\", \"'average'\", \"u'very_loud'\",\n",
       "       \"'quiet'\", 'None', \"u'loud'\", \"'loud'\", \"'very_loud'\"],\n",
       "      dtype=object)"
      ]
     },
     "execution_count": 30,
     "metadata": {},
     "output_type": "execute_result"
    }
   ],
   "source": [
    "result_df['NoiseLevel'].unique()"
   ]
  },
  {
   "cell_type": "code",
   "execution_count": 50,
   "metadata": {},
   "outputs": [],
   "source": [
    "import numpy as np"
   ]
  },
  {
   "cell_type": "code",
   "execution_count": 1,
   "metadata": {},
   "outputs": [],
   "source": [
    "def dicc(row):\n",
    "    #result = json.loads(row)\n",
    "    result = ast.literal_eval(row)\n",
    "    return result"
   ]
  },
  {
   "cell_type": "code",
   "execution_count": 21,
   "metadata": {},
   "outputs": [],
   "source": [
    "#CÓDIFO DE REPOSITORIO MAICO\n",
    "def etl_atributtes(business):\n",
    "    atributtes = pd.json_normalize(data = business['attributes'])\n",
    "    atributtes['BusinessParking'].fillna(\"{'garage': False, 'street': False, 'validated': False, 'lot': False, 'valet': False}\", inplace=True)\n",
    "    atributtes.loc[atributtes['BusinessParking'] == 'None', 'BusinessParking'] = \"{'garage': False, 'street': False, 'validated': False, 'lot': False, 'valet': False}\"\n",
    "\n",
    "    atributtes.loc[atributtes['Ambience'] == 'None', 'Ambience'] = \"{'romantic': False, 'intimate': False, 'classy': False, 'hipster': False, 'touristy': False, 'trendy': False, 'upscale': False, 'casual': False}\"\n",
    "    atributtes['Ambience'] = atributtes['Ambience'].fillna(\"{'romantic': False, 'intimate': False, 'classy': False, 'hipster': False, 'touristy': False, 'trendy': False, 'upscale': False, 'casual': False}\")\n",
    "\n",
    "    garage = pd.json_normalize(atributtes.BusinessParking.apply(dicc))\n",
    "    ambience = pd.json_normalize(atributtes['Ambience'].apply(dicc))\n",
    "\n",
    "    atributtes['garage'] = garage['garage']\n",
    "    atributtes['garage'].fillna(0, inplace=True)\n",
    "\n",
    "    atributtes.drop(['BusinessParking', 'Ambience'], axis=1, inplace=True)\n",
    "\n",
    "    ambience['good_ambience'] = ambience['romantic'] + ambience['intimate'] + ambience['classy'] + ambience['hipster'] + ambience['touristy'] + ambience['trendy'] + ambience['upscale'] + ambience['casual'] + ambience['divey']\n",
    "\n",
    "    ambience.loc[ambience['good_ambience'] > 1, 'good_ambience'] = 1\n",
    "    ambience.fillna(0, inplace=True)\n",
    "    atributtes['good_ambience'] = ambience['good_ambience']\n",
    "\n",
    "    atributtes['RestaurantsTakeOut'].fillna(0, inplace=True)\n",
    "    atributtes['RestaurantsDelivery'].fillna(0, inplace=True)\n",
    "    atributtes['RestaurantsTakeOut'] = atributtes['RestaurantsTakeOut'].map({'True': 1, 'False': 0, 'None': 0})\n",
    "    atributtes['RestaurantsDelivery'] = atributtes['RestaurantsDelivery'].map({'True': 1, 'False': 0, 'None': 0})\n",
    "    atributtes['delivery'] = atributtes['RestaurantsTakeOut'] + atributtes['RestaurantsDelivery']\n",
    "    atributtes['delivery'] = pd.to_numeric(atributtes['delivery'], errors='coerce').fillna(0).astype(int)\n",
    "    atributtes['delivery'] = atributtes['delivery'].replace(to_replace=2, value=1)\n",
    "\n",
    "\n",
    "    atributtes.drop(['RestaurantsTakeOut', 'RestaurantsDelivery'], axis=1, inplace=True)\n",
    "\n",
    "    top20 = atributtes.notna().sum().sort_values(ascending=False).head(20).index.tolist()\n",
    "\n",
    "    atributtes = atributtes[top20]\n",
    "\n",
    "    atributtes.fillna(0, inplace=True)\n",
    "    atributtes.replace('None', 0, inplace=True)\n",
    "    atributtes.replace('False', 0, inplace=True)\n",
    "    atributtes.replace(False, 0, inplace=True)\n",
    "    atributtes.replace('True', 1, inplace=True)\n",
    "\n",
    "    atributtes['WiFi'] = np.where(atributtes['WiFi'] != 0, 1, 0)\n",
    "\n",
    "    atributtes.loc[atributtes['Alcohol'] == \"u'none'\", 'Alcohol'] = 0\n",
    "    atributtes.loc[atributtes['Alcohol'] == \"'none'\", 'Alcohol'] = 0\n",
    "    atributtes.loc[atributtes['Alcohol'] != 0, 'Alcohol'] = 1\n",
    "    atributtes['Alcohol'].unique()\n",
    "\n",
    "    atributtes.loc[atributtes['NoiseLevel'].str.contains('quiet').fillna(False), 'NoiseLevel'] = 1\n",
    "    atributtes.loc[atributtes['NoiseLevel'].str.contains('average').fillna(False), 'NoiseLevel'] = 2\n",
    "    atributtes.loc[atributtes['NoiseLevel'].str.contains('loud').fillna(False), 'NoiseLevel'] = 3\n",
    "    atributtes.loc[atributtes['RestaurantsAttire'] != 0,'RestaurantsAttire'] = 1\n",
    "    atributtes.loc[atributtes['garage'] != 0,'garage'] = 1\n",
    "    atributtes.loc[atributtes['GoodForMeal'] == 0,'GoodForMeal'] = \"{'dessert': False, 'latenight': False, 'lunch': False, 'dinner': False, 'brunch': False, 'breakfast': False}\"\n",
    "    atributtes['GoodForMeal'].fillna(\"{'dessert': False, 'latenight': False, 'lunch': False, 'dinner': False, 'brunch': False, 'breakfast': False}\", inplace=True)\n",
    "    meal_types = pd.json_normalize(atributtes['GoodForMeal'].apply(dicc))\n",
    "    atributtes.drop(['GoodForMeal'], axis=1, inplace=True)\n",
    "    atributtes['meal_diversity'] = meal_types['dessert'] + meal_types['latenight'] + meal_types['lunch'] + meal_types['dinner'] + meal_types['brunch'] + meal_types['breakfast']\n",
    "    atributtes['meal_diversity'].fillna(0, inplace=True)\n",
    "    atributtes['business_id'] = business['business_id']\n",
    "    return atributtes"
   ]
  },
  {
   "cell_type": "code",
   "execution_count": 49,
   "metadata": {},
   "outputs": [
    {
     "data": {
      "text/html": [
       "<div>\n",
       "<style scoped>\n",
       "    .dataframe tbody tr th:only-of-type {\n",
       "        vertical-align: middle;\n",
       "    }\n",
       "\n",
       "    .dataframe tbody tr th {\n",
       "        vertical-align: top;\n",
       "    }\n",
       "\n",
       "    .dataframe thead th {\n",
       "        text-align: right;\n",
       "    }\n",
       "</style>\n",
       "<table border=\"1\" class=\"dataframe\">\n",
       "  <thead>\n",
       "    <tr style=\"text-align: right;\">\n",
       "      <th></th>\n",
       "      <th>delivery</th>\n",
       "      <th>good_ambience</th>\n",
       "      <th>garage</th>\n",
       "      <th>BusinessAcceptsCreditCards</th>\n",
       "      <th>RestaurantsPriceRange2</th>\n",
       "      <th>OutdoorSeating</th>\n",
       "      <th>RestaurantsReservations</th>\n",
       "      <th>RestaurantsGoodForGroups</th>\n",
       "      <th>GoodForKids</th>\n",
       "      <th>HasTV</th>\n",
       "      <th>...</th>\n",
       "      <th>Alcohol</th>\n",
       "      <th>WiFi</th>\n",
       "      <th>NoiseLevel</th>\n",
       "      <th>BikeParking</th>\n",
       "      <th>Caters</th>\n",
       "      <th>RestaurantsTableService</th>\n",
       "      <th>WheelchairAccessible</th>\n",
       "      <th>HappyHour</th>\n",
       "      <th>meal_diversity</th>\n",
       "      <th>business_id</th>\n",
       "    </tr>\n",
       "  </thead>\n",
       "  <tbody>\n",
       "    <tr>\n",
       "      <th>0</th>\n",
       "      <td>1</td>\n",
       "      <td>0</td>\n",
       "      <td>0</td>\n",
       "      <td>0</td>\n",
       "      <td>1</td>\n",
       "      <td>0</td>\n",
       "      <td>0</td>\n",
       "      <td>0</td>\n",
       "      <td>0</td>\n",
       "      <td>0</td>\n",
       "      <td>...</td>\n",
       "      <td>0</td>\n",
       "      <td>1</td>\n",
       "      <td>0</td>\n",
       "      <td>1</td>\n",
       "      <td>1</td>\n",
       "      <td>0</td>\n",
       "      <td>0</td>\n",
       "      <td>0</td>\n",
       "      <td>0</td>\n",
       "      <td>MTSW4McQd7CbVtyjqoe9mw</td>\n",
       "    </tr>\n",
       "    <tr>\n",
       "      <th>1</th>\n",
       "      <td>1</td>\n",
       "      <td>0</td>\n",
       "      <td>0</td>\n",
       "      <td>1</td>\n",
       "      <td>2</td>\n",
       "      <td>1</td>\n",
       "      <td>1</td>\n",
       "      <td>1</td>\n",
       "      <td>1</td>\n",
       "      <td>1</td>\n",
       "      <td>...</td>\n",
       "      <td>1</td>\n",
       "      <td>1</td>\n",
       "      <td>2</td>\n",
       "      <td>1</td>\n",
       "      <td>1</td>\n",
       "      <td>1</td>\n",
       "      <td>0</td>\n",
       "      <td>1</td>\n",
       "      <td>0</td>\n",
       "      <td>9OG5YkX1g2GReZM0AskizA</td>\n",
       "    </tr>\n",
       "    <tr>\n",
       "      <th>2</th>\n",
       "      <td>0</td>\n",
       "      <td>1</td>\n",
       "      <td>1</td>\n",
       "      <td>1</td>\n",
       "      <td>0</td>\n",
       "      <td>0</td>\n",
       "      <td>1</td>\n",
       "      <td>1</td>\n",
       "      <td>0</td>\n",
       "      <td>0</td>\n",
       "      <td>...</td>\n",
       "      <td>1</td>\n",
       "      <td>1</td>\n",
       "      <td>2</td>\n",
       "      <td>0</td>\n",
       "      <td>1</td>\n",
       "      <td>1</td>\n",
       "      <td>1</td>\n",
       "      <td>1</td>\n",
       "      <td>0</td>\n",
       "      <td>tMkwHmWFUEXrC9ZduonpTg</td>\n",
       "    </tr>\n",
       "    <tr>\n",
       "      <th>3</th>\n",
       "      <td>1</td>\n",
       "      <td>0</td>\n",
       "      <td>0</td>\n",
       "      <td>1</td>\n",
       "      <td>2</td>\n",
       "      <td>1</td>\n",
       "      <td>0</td>\n",
       "      <td>1</td>\n",
       "      <td>1</td>\n",
       "      <td>1</td>\n",
       "      <td>...</td>\n",
       "      <td>1</td>\n",
       "      <td>1</td>\n",
       "      <td>2</td>\n",
       "      <td>0</td>\n",
       "      <td>0</td>\n",
       "      <td>0</td>\n",
       "      <td>0</td>\n",
       "      <td>1</td>\n",
       "      <td>0</td>\n",
       "      <td>2xVsWBNFwZOxIOdd9Mwnww</td>\n",
       "    </tr>\n",
       "    <tr>\n",
       "      <th>4</th>\n",
       "      <td>1</td>\n",
       "      <td>1</td>\n",
       "      <td>0</td>\n",
       "      <td>1</td>\n",
       "      <td>2</td>\n",
       "      <td>1</td>\n",
       "      <td>1</td>\n",
       "      <td>1</td>\n",
       "      <td>1</td>\n",
       "      <td>1</td>\n",
       "      <td>...</td>\n",
       "      <td>1</td>\n",
       "      <td>1</td>\n",
       "      <td>2</td>\n",
       "      <td>1</td>\n",
       "      <td>1</td>\n",
       "      <td>1</td>\n",
       "      <td>1</td>\n",
       "      <td>1</td>\n",
       "      <td>1</td>\n",
       "      <td>ljxNT9p0y7YMPx0fcNBGig</td>\n",
       "    </tr>\n",
       "    <tr>\n",
       "      <th>...</th>\n",
       "      <td>...</td>\n",
       "      <td>...</td>\n",
       "      <td>...</td>\n",
       "      <td>...</td>\n",
       "      <td>...</td>\n",
       "      <td>...</td>\n",
       "      <td>...</td>\n",
       "      <td>...</td>\n",
       "      <td>...</td>\n",
       "      <td>...</td>\n",
       "      <td>...</td>\n",
       "      <td>...</td>\n",
       "      <td>...</td>\n",
       "      <td>...</td>\n",
       "      <td>...</td>\n",
       "      <td>...</td>\n",
       "      <td>...</td>\n",
       "      <td>...</td>\n",
       "      <td>...</td>\n",
       "      <td>...</td>\n",
       "      <td>...</td>\n",
       "    </tr>\n",
       "    <tr>\n",
       "      <th>15300</th>\n",
       "      <td>1</td>\n",
       "      <td>0</td>\n",
       "      <td>0</td>\n",
       "      <td>1</td>\n",
       "      <td>2</td>\n",
       "      <td>0</td>\n",
       "      <td>0</td>\n",
       "      <td>0</td>\n",
       "      <td>1</td>\n",
       "      <td>1</td>\n",
       "      <td>...</td>\n",
       "      <td>0</td>\n",
       "      <td>1</td>\n",
       "      <td>2</td>\n",
       "      <td>1</td>\n",
       "      <td>1</td>\n",
       "      <td>0</td>\n",
       "      <td>0</td>\n",
       "      <td>0</td>\n",
       "      <td>2</td>\n",
       "      <td>wVxXRFf10zTTAs11nr4xeA</td>\n",
       "    </tr>\n",
       "    <tr>\n",
       "      <th>15301</th>\n",
       "      <td>1</td>\n",
       "      <td>0</td>\n",
       "      <td>0</td>\n",
       "      <td>1</td>\n",
       "      <td>1</td>\n",
       "      <td>0</td>\n",
       "      <td>0</td>\n",
       "      <td>0</td>\n",
       "      <td>0</td>\n",
       "      <td>0</td>\n",
       "      <td>...</td>\n",
       "      <td>0</td>\n",
       "      <td>0</td>\n",
       "      <td>0</td>\n",
       "      <td>0</td>\n",
       "      <td>0</td>\n",
       "      <td>0</td>\n",
       "      <td>0</td>\n",
       "      <td>0</td>\n",
       "      <td>0</td>\n",
       "      <td>sf_oQ62L8UEnOOLf00nNGA</td>\n",
       "    </tr>\n",
       "    <tr>\n",
       "      <th>15302</th>\n",
       "      <td>1</td>\n",
       "      <td>0</td>\n",
       "      <td>0</td>\n",
       "      <td>1</td>\n",
       "      <td>1</td>\n",
       "      <td>0</td>\n",
       "      <td>0</td>\n",
       "      <td>0</td>\n",
       "      <td>0</td>\n",
       "      <td>0</td>\n",
       "      <td>...</td>\n",
       "      <td>0</td>\n",
       "      <td>0</td>\n",
       "      <td>0</td>\n",
       "      <td>1</td>\n",
       "      <td>1</td>\n",
       "      <td>0</td>\n",
       "      <td>0</td>\n",
       "      <td>0</td>\n",
       "      <td>0</td>\n",
       "      <td>l9eLGG9ZKpLJzboZq-9LRQ</td>\n",
       "    </tr>\n",
       "    <tr>\n",
       "      <th>15303</th>\n",
       "      <td>1</td>\n",
       "      <td>0</td>\n",
       "      <td>0</td>\n",
       "      <td>1</td>\n",
       "      <td>2</td>\n",
       "      <td>0</td>\n",
       "      <td>0</td>\n",
       "      <td>1</td>\n",
       "      <td>1</td>\n",
       "      <td>1</td>\n",
       "      <td>...</td>\n",
       "      <td>0</td>\n",
       "      <td>1</td>\n",
       "      <td>0</td>\n",
       "      <td>1</td>\n",
       "      <td>1</td>\n",
       "      <td>1</td>\n",
       "      <td>0</td>\n",
       "      <td>0</td>\n",
       "      <td>0</td>\n",
       "      <td>WnT9NIzQgLlILjPT0kEcsQ</td>\n",
       "    </tr>\n",
       "    <tr>\n",
       "      <th>15304</th>\n",
       "      <td>1</td>\n",
       "      <td>0</td>\n",
       "      <td>0</td>\n",
       "      <td>1</td>\n",
       "      <td>1</td>\n",
       "      <td>0</td>\n",
       "      <td>0</td>\n",
       "      <td>0</td>\n",
       "      <td>0</td>\n",
       "      <td>0</td>\n",
       "      <td>...</td>\n",
       "      <td>0</td>\n",
       "      <td>0</td>\n",
       "      <td>0</td>\n",
       "      <td>1</td>\n",
       "      <td>1</td>\n",
       "      <td>0</td>\n",
       "      <td>1</td>\n",
       "      <td>0</td>\n",
       "      <td>0</td>\n",
       "      <td>2O2K6SXPWv56amqxCECd4w</td>\n",
       "    </tr>\n",
       "  </tbody>\n",
       "</table>\n",
       "<p>15305 rows × 21 columns</p>\n",
       "</div>"
      ],
      "text/plain": [
       "       delivery  good_ambience garage  BusinessAcceptsCreditCards  \\\n",
       "0             1              0      0                           0   \n",
       "1             1              0      0                           1   \n",
       "2             0              1      1                           1   \n",
       "3             1              0      0                           1   \n",
       "4             1              1      0                           1   \n",
       "...         ...            ...    ...                         ...   \n",
       "15300         1              0      0                           1   \n",
       "15301         1              0      0                           1   \n",
       "15302         1              0      0                           1   \n",
       "15303         1              0      0                           1   \n",
       "15304         1              0      0                           1   \n",
       "\n",
       "      RestaurantsPriceRange2  OutdoorSeating  RestaurantsReservations  \\\n",
       "0                          1               0                        0   \n",
       "1                          2               1                        1   \n",
       "2                          0               0                        1   \n",
       "3                          2               1                        0   \n",
       "4                          2               1                        1   \n",
       "...                      ...             ...                      ...   \n",
       "15300                      2               0                        0   \n",
       "15301                      1               0                        0   \n",
       "15302                      1               0                        0   \n",
       "15303                      2               0                        0   \n",
       "15304                      1               0                        0   \n",
       "\n",
       "       RestaurantsGoodForGroups  GoodForKids  HasTV  ... Alcohol WiFi  \\\n",
       "0                             0            0      0  ...       0    1   \n",
       "1                             1            1      1  ...       1    1   \n",
       "2                             1            0      0  ...       1    1   \n",
       "3                             1            1      1  ...       1    1   \n",
       "4                             1            1      1  ...       1    1   \n",
       "...                         ...          ...    ...  ...     ...  ...   \n",
       "15300                         0            1      1  ...       0    1   \n",
       "15301                         0            0      0  ...       0    0   \n",
       "15302                         0            0      0  ...       0    0   \n",
       "15303                         1            1      1  ...       0    1   \n",
       "15304                         0            0      0  ...       0    0   \n",
       "\n",
       "       NoiseLevel BikeParking  Caters  RestaurantsTableService  \\\n",
       "0               0           1       1                        0   \n",
       "1               2           1       1                        1   \n",
       "2               2           0       1                        1   \n",
       "3               2           0       0                        0   \n",
       "4               2           1       1                        1   \n",
       "...           ...         ...     ...                      ...   \n",
       "15300           2           1       1                        0   \n",
       "15301           0           0       0                        0   \n",
       "15302           0           1       1                        0   \n",
       "15303           0           1       1                        1   \n",
       "15304           0           1       1                        0   \n",
       "\n",
       "       WheelchairAccessible  HappyHour  meal_diversity             business_id  \n",
       "0                         0          0               0  MTSW4McQd7CbVtyjqoe9mw  \n",
       "1                         0          1               0  9OG5YkX1g2GReZM0AskizA  \n",
       "2                         1          1               0  tMkwHmWFUEXrC9ZduonpTg  \n",
       "3                         0          1               0  2xVsWBNFwZOxIOdd9Mwnww  \n",
       "4                         1          1               1  ljxNT9p0y7YMPx0fcNBGig  \n",
       "...                     ...        ...             ...                     ...  \n",
       "15300                     0          0               2  wVxXRFf10zTTAs11nr4xeA  \n",
       "15301                     0          0               0  sf_oQ62L8UEnOOLf00nNGA  \n",
       "15302                     0          0               0  l9eLGG9ZKpLJzboZq-9LRQ  \n",
       "15303                     0          0               0  WnT9NIzQgLlILjPT0kEcsQ  \n",
       "15304                     1          0               0  2O2K6SXPWv56amqxCECd4w  \n",
       "\n",
       "[15305 rows x 21 columns]"
      ]
     },
     "execution_count": 49,
     "metadata": {},
     "output_type": "execute_result"
    }
   ],
   "source": [
    "etl_atributtes(df)"
   ]
  },
  {
   "cell_type": "code",
   "execution_count": 129,
   "metadata": {},
   "outputs": [
    {
     "data": {
      "text/plain": [
       "(15305, 39)"
      ]
     },
     "execution_count": 129,
     "metadata": {},
     "output_type": "execute_result"
    }
   ],
   "source": [
    "result_df.shape"
   ]
  },
  {
   "cell_type": "markdown",
   "metadata": {},
   "source": [
    "Alcohol', 'Caters', 'RestaurantsGoodForGroups',\n",
    "       'RestaurantsAttire', 'NoiseLevel', 'GoodForKids',\n",
    "       'RestaurantsReservations', 'GoodForMeal', 'RestaurantsTableService',\n",
    "       'HappyHour', 'DogsAllowed', 'Ambience', 'HasTV',\n",
    "       'BusinessAcceptsBitcoin', 'WheelchairAccessible', 'BYOB', 'DriveThru',\n",
    "       'GoodForDancing', 'Music',"
   ]
  },
  {
   "cell_type": "code",
   "execution_count": 144,
   "metadata": {},
   "outputs": [
    {
     "data": {
      "text/plain": [
       "array([\"u'none'\", \"'full_bar'\", \"u'full_bar'\", \"'beer_and_wine'\", nan,\n",
       "       \"u'beer_and_wine'\", \"'none'\", 'None'], dtype=object)"
      ]
     },
     "execution_count": 144,
     "metadata": {},
     "output_type": "execute_result"
    }
   ],
   "source": [
    "#Revisar WiFi\tBusinessParking\n",
    "result_df['Alcohol'].unique()"
   ]
  },
  {
   "cell_type": "code",
   "execution_count": 149,
   "metadata": {},
   "outputs": [
    {
     "data": {
      "text/plain": [
       "array([\"u'free'\", \"'free'\", \"'no'\", nan, \"u'no'\", 'None', \"'paid'\",\n",
       "       \"u'paid'\"], dtype=object)"
      ]
     },
     "execution_count": 149,
     "metadata": {},
     "output_type": "execute_result"
    }
   ],
   "source": [
    "result_df['WiFi'].unique()"
   ]
  },
  {
   "cell_type": "code",
   "execution_count": 148,
   "metadata": {},
   "outputs": [
    {
     "data": {
      "text/plain": [
       "array([nan, 'True', 'False', 'None'], dtype=object)"
      ]
     },
     "execution_count": 148,
     "metadata": {},
     "output_type": "execute_result"
    }
   ],
   "source": [
    "result_df['RestaurantsGoodForGroups'].unique()"
   ]
  },
  {
   "cell_type": "code",
   "execution_count": 116,
   "metadata": {},
   "outputs": [
    {
     "data": {
      "text/plain": [
       "Index(['RestaurantsDelivery', 'OutdoorSeating', 'BusinessAcceptsCreditCards',\n",
       "       'BusinessParking', 'BikeParking', 'RestaurantsPriceRange2',\n",
       "       'RestaurantsTakeOut', 'ByAppointmentOnly', 'WiFi', 'Alcohol', 'Caters',\n",
       "       'RestaurantsGoodForGroups', 'RestaurantsAttire', 'NoiseLevel',\n",
       "       'GoodForKids', 'RestaurantsReservations', 'GoodForMeal',\n",
       "       'RestaurantsTableService', 'HappyHour', 'DogsAllowed', 'Ambience',\n",
       "       'HasTV', 'BusinessAcceptsBitcoin', 'WheelchairAccessible', 'BYOB',\n",
       "       'DriveThru', 'GoodForDancing', 'Music', 'CoatCheck', 'BestNights',\n",
       "       'Smoking', 'BYOBCorkage', 'Corkage', 'Open24Hours',\n",
       "       'DietaryRestrictions', 'AgesAllowed', 'RestaurantsCounterService',\n",
       "       'AcceptsInsurance'],\n",
       "      dtype='object')"
      ]
     },
     "execution_count": 116,
     "metadata": {},
     "output_type": "execute_result"
    }
   ],
   "source": [
    "result_df.columns"
   ]
  },
  {
   "cell_type": "code",
   "execution_count": 117,
   "metadata": {},
   "outputs": [
    {
     "data": {
      "text/plain": [
       "\"{'dessert': False, 'latenight': False, 'lunch': False, 'dinner': True, 'brunch': False, 'breakfast': False}\""
      ]
     },
     "execution_count": 117,
     "metadata": {},
     "output_type": "execute_result"
    }
   ],
   "source": [
    "result_df['GoodForMeal'][4]"
   ]
  },
  {
   "cell_type": "markdown",
   "metadata": {},
   "source": [
    "### Horarios"
   ]
  },
  {
   "cell_type": "code",
   "execution_count": 232,
   "metadata": {},
   "outputs": [],
   "source": [
    "Horarios=RestaurantesY[['business_id','hours']].copy()"
   ]
  },
  {
   "cell_type": "code",
   "execution_count": 227,
   "metadata": {},
   "outputs": [
    {
     "data": {
      "text/plain": [
       "2743"
      ]
     },
     "execution_count": 227,
     "metadata": {},
     "output_type": "execute_result"
    }
   ],
   "source": [
    "Horarios['hours'].isna().sum()"
   ]
  },
  {
   "cell_type": "code",
   "execution_count": 229,
   "metadata": {},
   "outputs": [],
   "source": [
    "Horarios['hours'].fillna(\"{'Monday': 'Sin info', 'Tuesday': 'Sin info', 'Wednesday': 'Sin info', 'Thursday': 'Sin info', 'Friday': 'Sin info', 'Saturday': 'Sin info', 'Sunday': 'Sin info'}\", inplace=True)"
   ]
  },
  {
   "cell_type": "code",
   "execution_count": 204,
   "metadata": {},
   "outputs": [],
   "source": [
    "import numpy as np"
   ]
  },
  {
   "cell_type": "code",
   "execution_count": 230,
   "metadata": {},
   "outputs": [],
   "source": [
    "dataframes_individuales = []\n",
    "\n",
    "for _, row in Horarios.iterrows():\n",
    "    try:\n",
    "        lista_horarios = ast.literal_eval(row['hours'])\n",
    "        df = pd.DataFrame(list(lista_horarios.items()), columns=['Dia', 'Horario'])\n",
    "        df['business_id'] = row['business_id']\n",
    "        #df.replace('NaN', np.nan, inplace=True)\n",
    "        dataframes_individuales.append(df)\n",
    "    except (ValueError, SyntaxError):\n",
    "        pass  # Ignora las filas con valores NaN o cadenas mal formadas.\n",
    "\n",
    "# Concatena todos los DataFrames individuales en uno solo.\n",
    "tabla_pivot_total = pd.concat(dataframes_individuales)\n",
    "\n",
    "# Pivotea la tabla.\n",
    "Tabla_Horarios = tabla_pivot_total.pivot(index='business_id', columns='Dia', values='Horario')"
   ]
  },
  {
   "cell_type": "code",
   "execution_count": 241,
   "metadata": {},
   "outputs": [],
   "source": [
    "Tabla_Horarios.replace(np.nan, 'Sin info', inplace=True)"
   ]
  },
  {
   "cell_type": "code",
   "execution_count": 253,
   "metadata": {},
   "outputs": [
    {
     "data": {
      "text/html": [
       "<div>\n",
       "<style scoped>\n",
       "    .dataframe tbody tr th:only-of-type {\n",
       "        vertical-align: middle;\n",
       "    }\n",
       "\n",
       "    .dataframe tbody tr th {\n",
       "        vertical-align: top;\n",
       "    }\n",
       "\n",
       "    .dataframe thead th {\n",
       "        text-align: right;\n",
       "    }\n",
       "</style>\n",
       "<table border=\"1\" class=\"dataframe\">\n",
       "  <thead>\n",
       "    <tr style=\"text-align: right;\">\n",
       "      <th>Dia</th>\n",
       "      <th>Friday</th>\n",
       "      <th>Monday</th>\n",
       "      <th>Saturday</th>\n",
       "      <th>Sunday</th>\n",
       "      <th>Thursday</th>\n",
       "      <th>Tuesday</th>\n",
       "      <th>Wednesday</th>\n",
       "    </tr>\n",
       "    <tr>\n",
       "      <th>business_id</th>\n",
       "      <th></th>\n",
       "      <th></th>\n",
       "      <th></th>\n",
       "      <th></th>\n",
       "      <th></th>\n",
       "      <th></th>\n",
       "      <th></th>\n",
       "    </tr>\n",
       "  </thead>\n",
       "  <tbody>\n",
       "    <tr>\n",
       "      <th>w4nHq_elJwPpI4iZ6ro3JQ</th>\n",
       "      <td>8:0-18:0</td>\n",
       "      <td>Cerrado</td>\n",
       "      <td>8:0-18:0</td>\n",
       "      <td>9:0-16:0</td>\n",
       "      <td>8:0-18:0</td>\n",
       "      <td>Sin info</td>\n",
       "      <td>8:0-18:0</td>\n",
       "    </tr>\n",
       "    <tr>\n",
       "      <th>7aDtfwkv9mZnb4wtlbjBMQ</th>\n",
       "      <td>17:0-22:0</td>\n",
       "      <td>17:0-21:0</td>\n",
       "      <td>17:0-22:0</td>\n",
       "      <td>Sin info</td>\n",
       "      <td>17:0-21:0</td>\n",
       "      <td>17:0-21:0</td>\n",
       "      <td>17:0-21:0</td>\n",
       "    </tr>\n",
       "  </tbody>\n",
       "</table>\n",
       "</div>"
      ],
      "text/plain": [
       "Dia                        Friday     Monday   Saturday    Sunday   Thursday  \\\n",
       "business_id                                                                    \n",
       "w4nHq_elJwPpI4iZ6ro3JQ   8:0-18:0    Cerrado   8:0-18:0  9:0-16:0   8:0-18:0   \n",
       "7aDtfwkv9mZnb4wtlbjBMQ  17:0-22:0  17:0-21:0  17:0-22:0  Sin info  17:0-21:0   \n",
       "\n",
       "Dia                       Tuesday  Wednesday  \n",
       "business_id                                   \n",
       "w4nHq_elJwPpI4iZ6ro3JQ   Sin info   8:0-18:0  \n",
       "7aDtfwkv9mZnb4wtlbjBMQ  17:0-21:0  17:0-21:0  "
      ]
     },
     "execution_count": 253,
     "metadata": {},
     "output_type": "execute_result"
    }
   ],
   "source": [
    "Tabla_Horarios.sample(2)"
   ]
  },
  {
   "cell_type": "code",
   "execution_count": 247,
   "metadata": {},
   "outputs": [],
   "source": [
    "# Se asume que cuando hay un '0:0-0:0' es porque pueda estar cerrado.\n",
    "Tabla_Horarios.replace('0:0-0:0', 'Cerrado', inplace=True)"
   ]
  },
  {
   "cell_type": "code",
   "execution_count": 254,
   "metadata": {},
   "outputs": [],
   "source": [
    "Tabla_Horarios.to_csv('Yelp_Horarios.csv')"
   ]
  },
  {
   "cell_type": "markdown",
   "metadata": {},
   "source": [
    "### Restaurantes"
   ]
  },
  {
   "cell_type": "markdown",
   "metadata": {},
   "source": [
    "Borrar probablemente"
   ]
  },
  {
   "cell_type": "code",
   "execution_count": 256,
   "metadata": {},
   "outputs": [],
   "source": [
    "Restaurantes_Yelp=RestaurantesY[['business_id','name']].copy()"
   ]
  },
  {
   "cell_type": "code",
   "execution_count": 260,
   "metadata": {},
   "outputs": [
    {
     "data": {
      "text/html": [
       "<div>\n",
       "<style scoped>\n",
       "    .dataframe tbody tr th:only-of-type {\n",
       "        vertical-align: middle;\n",
       "    }\n",
       "\n",
       "    .dataframe tbody tr th {\n",
       "        vertical-align: top;\n",
       "    }\n",
       "\n",
       "    .dataframe thead th {\n",
       "        text-align: right;\n",
       "    }\n",
       "</style>\n",
       "<table border=\"1\" class=\"dataframe\">\n",
       "  <thead>\n",
       "    <tr style=\"text-align: right;\">\n",
       "      <th></th>\n",
       "      <th>business_id</th>\n",
       "      <th>name</th>\n",
       "    </tr>\n",
       "  </thead>\n",
       "  <tbody>\n",
       "    <tr>\n",
       "      <th>5029</th>\n",
       "      <td>Nl8lPfJalOiX9rJiibD8jw</td>\n",
       "      <td>Westampton Family Diner</td>\n",
       "    </tr>\n",
       "  </tbody>\n",
       "</table>\n",
       "</div>"
      ],
      "text/plain": [
       "                 business_id                     name\n",
       "5029  Nl8lPfJalOiX9rJiibD8jw  Westampton Family Diner"
      ]
     },
     "execution_count": 260,
     "metadata": {},
     "output_type": "execute_result"
    }
   ],
   "source": [
    "Restaurantes_Yelp.sample(1)"
   ]
  },
  {
   "cell_type": "markdown",
   "metadata": {},
   "source": [
    "### Otras Tablas"
   ]
  },
  {
   "cell_type": "code",
   "execution_count": 341,
   "metadata": {},
   "outputs": [],
   "source": [
    "A=pd.read_csv('../PROYECTO_EQUIPO/Restaurantes_Yelp_Reviews.csv')"
   ]
  },
  {
   "cell_type": "code",
   "execution_count": 342,
   "metadata": {},
   "outputs": [
    {
     "data": {
      "text/html": [
       "<div>\n",
       "<style scoped>\n",
       "    .dataframe tbody tr th:only-of-type {\n",
       "        vertical-align: middle;\n",
       "    }\n",
       "\n",
       "    .dataframe tbody tr th {\n",
       "        vertical-align: top;\n",
       "    }\n",
       "\n",
       "    .dataframe thead th {\n",
       "        text-align: right;\n",
       "    }\n",
       "</style>\n",
       "<table border=\"1\" class=\"dataframe\">\n",
       "  <thead>\n",
       "    <tr style=\"text-align: right;\">\n",
       "      <th></th>\n",
       "      <th>review_id</th>\n",
       "      <th>user_id</th>\n",
       "      <th>business_id</th>\n",
       "      <th>stars</th>\n",
       "      <th>useful</th>\n",
       "      <th>funny</th>\n",
       "      <th>cool</th>\n",
       "      <th>text</th>\n",
       "      <th>date</th>\n",
       "    </tr>\n",
       "  </thead>\n",
       "  <tbody>\n",
       "    <tr>\n",
       "      <th>738667</th>\n",
       "      <td>OgKTQE_qCCMGsuB-oqp3Kg</td>\n",
       "      <td>_t2pN38M6ATZCLtRnfalRA</td>\n",
       "      <td>2Ugp3An60FEIQM2FN92AsA</td>\n",
       "      <td>5.0</td>\n",
       "      <td>0</td>\n",
       "      <td>0</td>\n",
       "      <td>0</td>\n",
       "      <td>What a surprise! Was starving and happened upo...</td>\n",
       "      <td>2017-01-31</td>\n",
       "    </tr>\n",
       "    <tr>\n",
       "      <th>779145</th>\n",
       "      <td>IMnC8CxA6MyzYr9ikSXT2w</td>\n",
       "      <td>2Ttdml12syjb782j9lIxuw</td>\n",
       "      <td>rH8dKfQZOdpL_i9VaNWQdw</td>\n",
       "      <td>5.0</td>\n",
       "      <td>1</td>\n",
       "      <td>0</td>\n",
       "      <td>0</td>\n",
       "      <td>I love that I can mix n match sliders....the c...</td>\n",
       "      <td>2016-05-19</td>\n",
       "    </tr>\n",
       "  </tbody>\n",
       "</table>\n",
       "</div>"
      ],
      "text/plain": [
       "                     review_id                 user_id  \\\n",
       "738667  OgKTQE_qCCMGsuB-oqp3Kg  _t2pN38M6ATZCLtRnfalRA   \n",
       "779145  IMnC8CxA6MyzYr9ikSXT2w  2Ttdml12syjb782j9lIxuw   \n",
       "\n",
       "                   business_id  stars  useful  funny  cool  \\\n",
       "738667  2Ugp3An60FEIQM2FN92AsA    5.0       0      0     0   \n",
       "779145  rH8dKfQZOdpL_i9VaNWQdw    5.0       1      0     0   \n",
       "\n",
       "                                                     text        date  \n",
       "738667  What a surprise! Was starving and happened upo...  2017-01-31  \n",
       "779145  I love that I can mix n match sliders....the c...  2016-05-19  "
      ]
     },
     "execution_count": 342,
     "metadata": {},
     "output_type": "execute_result"
    }
   ],
   "source": [
    "A.sample(2)"
   ]
  },
  {
   "cell_type": "code",
   "execution_count": 343,
   "metadata": {},
   "outputs": [],
   "source": [
    "B=pd.read_csv('../PROYECTO_EQUIPO/Restaurantes_Yelp_Tips.csv')"
   ]
  },
  {
   "cell_type": "code",
   "execution_count": 344,
   "metadata": {},
   "outputs": [
    {
     "data": {
      "text/html": [
       "<div>\n",
       "<style scoped>\n",
       "    .dataframe tbody tr th:only-of-type {\n",
       "        vertical-align: middle;\n",
       "    }\n",
       "\n",
       "    .dataframe tbody tr th {\n",
       "        vertical-align: top;\n",
       "    }\n",
       "\n",
       "    .dataframe thead th {\n",
       "        text-align: right;\n",
       "    }\n",
       "</style>\n",
       "<table border=\"1\" class=\"dataframe\">\n",
       "  <thead>\n",
       "    <tr style=\"text-align: right;\">\n",
       "      <th></th>\n",
       "      <th>user_id</th>\n",
       "      <th>business_id</th>\n",
       "      <th>text</th>\n",
       "      <th>date</th>\n",
       "      <th>compliment_count</th>\n",
       "    </tr>\n",
       "  </thead>\n",
       "  <tbody>\n",
       "    <tr>\n",
       "      <th>181667</th>\n",
       "      <td>7Ju_RQfW5vEo1ExxauUQMg</td>\n",
       "      <td>eT1nr9nFklcUg8hefYcQJA</td>\n",
       "      <td>Sage tea is not to be missed.  Everything on t...</td>\n",
       "      <td>2012-05-16</td>\n",
       "      <td>0</td>\n",
       "    </tr>\n",
       "    <tr>\n",
       "      <th>388158</th>\n",
       "      <td>W-hT988aIrWxmYxbR6CT4Q</td>\n",
       "      <td>NDIiNcJZpdoQpXGXl7IA2Q</td>\n",
       "      <td>They have an amazing jalapeño margarita. The f...</td>\n",
       "      <td>2015-05-06</td>\n",
       "      <td>0</td>\n",
       "    </tr>\n",
       "  </tbody>\n",
       "</table>\n",
       "</div>"
      ],
      "text/plain": [
       "                       user_id             business_id  \\\n",
       "181667  7Ju_RQfW5vEo1ExxauUQMg  eT1nr9nFklcUg8hefYcQJA   \n",
       "388158  W-hT988aIrWxmYxbR6CT4Q  NDIiNcJZpdoQpXGXl7IA2Q   \n",
       "\n",
       "                                                     text        date  \\\n",
       "181667  Sage tea is not to be missed.  Everything on t...  2012-05-16   \n",
       "388158  They have an amazing jalapeño margarita. The f...  2015-05-06   \n",
       "\n",
       "        compliment_count  \n",
       "181667                 0  \n",
       "388158                 0  "
      ]
     },
     "execution_count": 344,
     "metadata": {},
     "output_type": "execute_result"
    }
   ],
   "source": [
    "B.sample(2)"
   ]
  },
  {
   "cell_type": "code",
   "execution_count": 345,
   "metadata": {},
   "outputs": [],
   "source": [
    "C=pd.read_csv('../PROYECTO_EQUIPO/Restaurantes_User_Yelp.csv')"
   ]
  },
  {
   "cell_type": "code",
   "execution_count": 348,
   "metadata": {},
   "outputs": [
    {
     "data": {
      "text/html": [
       "<div>\n",
       "<style scoped>\n",
       "    .dataframe tbody tr th:only-of-type {\n",
       "        vertical-align: middle;\n",
       "    }\n",
       "\n",
       "    .dataframe tbody tr th {\n",
       "        vertical-align: top;\n",
       "    }\n",
       "\n",
       "    .dataframe thead th {\n",
       "        text-align: right;\n",
       "    }\n",
       "</style>\n",
       "<table border=\"1\" class=\"dataframe\">\n",
       "  <thead>\n",
       "    <tr style=\"text-align: right;\">\n",
       "      <th></th>\n",
       "      <th>user_id</th>\n",
       "      <th>name</th>\n",
       "      <th>review_count</th>\n",
       "      <th>yelping_since</th>\n",
       "      <th>useful</th>\n",
       "      <th>funny</th>\n",
       "      <th>cool</th>\n",
       "      <th>elite</th>\n",
       "      <th>friends</th>\n",
       "      <th>fans</th>\n",
       "      <th>...</th>\n",
       "      <th>compliment_more</th>\n",
       "      <th>compliment_profile</th>\n",
       "      <th>compliment_cute</th>\n",
       "      <th>compliment_list</th>\n",
       "      <th>compliment_note</th>\n",
       "      <th>compliment_plain</th>\n",
       "      <th>compliment_cool</th>\n",
       "      <th>compliment_funny</th>\n",
       "      <th>compliment_writer</th>\n",
       "      <th>compliment_photos</th>\n",
       "    </tr>\n",
       "  </thead>\n",
       "  <tbody>\n",
       "    <tr>\n",
       "      <th>83777</th>\n",
       "      <td>6bYg1vNuBTXlwXA-dDnLkg</td>\n",
       "      <td>Sammie</td>\n",
       "      <td>21</td>\n",
       "      <td>2014-07-09</td>\n",
       "      <td>11</td>\n",
       "      <td>0</td>\n",
       "      <td>0</td>\n",
       "      <td>NaN</td>\n",
       "      <td>YeFtMRfNCWuOMHMeybqPXw</td>\n",
       "      <td>1</td>\n",
       "      <td>...</td>\n",
       "      <td>0</td>\n",
       "      <td>0</td>\n",
       "      <td>0</td>\n",
       "      <td>0</td>\n",
       "      <td>0</td>\n",
       "      <td>0</td>\n",
       "      <td>0</td>\n",
       "      <td>0</td>\n",
       "      <td>0</td>\n",
       "      <td>0</td>\n",
       "    </tr>\n",
       "    <tr>\n",
       "      <th>313414</th>\n",
       "      <td>gIPJlEtqqvQKmi8pwT-mzw</td>\n",
       "      <td>Laura</td>\n",
       "      <td>16</td>\n",
       "      <td>2013-03-18</td>\n",
       "      <td>8</td>\n",
       "      <td>1</td>\n",
       "      <td>2</td>\n",
       "      <td>NaN</td>\n",
       "      <td>HRMHEVgdt3-xEZi8ewLQfA</td>\n",
       "      <td>0</td>\n",
       "      <td>...</td>\n",
       "      <td>0</td>\n",
       "      <td>0</td>\n",
       "      <td>0</td>\n",
       "      <td>0</td>\n",
       "      <td>0</td>\n",
       "      <td>0</td>\n",
       "      <td>0</td>\n",
       "      <td>0</td>\n",
       "      <td>0</td>\n",
       "      <td>0</td>\n",
       "    </tr>\n",
       "  </tbody>\n",
       "</table>\n",
       "<p>2 rows × 22 columns</p>\n",
       "</div>"
      ],
      "text/plain": [
       "                       user_id    name  review_count yelping_since  useful  \\\n",
       "83777   6bYg1vNuBTXlwXA-dDnLkg  Sammie            21    2014-07-09      11   \n",
       "313414  gIPJlEtqqvQKmi8pwT-mzw   Laura            16    2013-03-18       8   \n",
       "\n",
       "        funny  cool elite                 friends  fans  ...  compliment_more  \\\n",
       "83777       0     0   NaN  YeFtMRfNCWuOMHMeybqPXw     1  ...                0   \n",
       "313414      1     2   NaN  HRMHEVgdt3-xEZi8ewLQfA     0  ...                0   \n",
       "\n",
       "        compliment_profile  compliment_cute  compliment_list  compliment_note  \\\n",
       "83777                    0                0                0                0   \n",
       "313414                   0                0                0                0   \n",
       "\n",
       "        compliment_plain  compliment_cool  compliment_funny  \\\n",
       "83777                  0                0                 0   \n",
       "313414                 0                0                 0   \n",
       "\n",
       "        compliment_writer  compliment_photos  \n",
       "83777                   0                  0  \n",
       "313414                  0                  0  \n",
       "\n",
       "[2 rows x 22 columns]"
      ]
     },
     "execution_count": 348,
     "metadata": {},
     "output_type": "execute_result"
    }
   ],
   "source": [
    "C.sample(2)"
   ]
  },
  {
   "cell_type": "markdown",
   "metadata": {},
   "source": [
    "### REVISAR CUANTOS RESTAURANTES DE GOOGLE ENCONTRAMOS EN YELP"
   ]
  },
  {
   "cell_type": "markdown",
   "metadata": {},
   "source": [
    "### Juntar los restaurantes "
   ]
  },
  {
   "cell_type": "code",
   "execution_count": 377,
   "metadata": {},
   "outputs": [],
   "source": [
    "Restaurantes_G=pd.read_csv('../PROYECTO_EQUIPO/Restaurantes_Google.csv')"
   ]
  },
  {
   "cell_type": "code",
   "execution_count": 378,
   "metadata": {},
   "outputs": [],
   "source": [
    "Restaurantes_Google=Restaurantes_G[['gmap_id','name','latitude','longitude']].copy()"
   ]
  },
  {
   "cell_type": "code",
   "execution_count": 379,
   "metadata": {},
   "outputs": [
    {
     "data": {
      "text/plain": [
       "(3223, 11)"
      ]
     },
     "execution_count": 379,
     "metadata": {},
     "output_type": "execute_result"
    }
   ],
   "source": [
    "Restaurantes_G.shape"
   ]
  },
  {
   "cell_type": "code",
   "execution_count": 380,
   "metadata": {},
   "outputs": [],
   "source": [
    "RestaurantesYelpC=RestaurantesY[['business_id','name','latitude','longitude']].copy()"
   ]
  },
  {
   "cell_type": "code",
   "execution_count": 381,
   "metadata": {},
   "outputs": [],
   "source": [
    "# Supongamos que tienes los DataFrames Restaurantes_Google y RestaurantesYelpC\n",
    "\n",
    "# Normalización y limpieza de nombres\n",
    "Restaurantes_Google['name'] = Restaurantes_Google['name'].str.lower().apply(unidecode)\n",
    "RestaurantesYelpC['name'] = RestaurantesYelpC['name'].str.lower().apply(unidecode)"
   ]
  },
  {
   "cell_type": "code",
   "execution_count": 382,
   "metadata": {},
   "outputs": [
    {
     "data": {
      "text/html": [
       "<div>\n",
       "<style scoped>\n",
       "    .dataframe tbody tr th:only-of-type {\n",
       "        vertical-align: middle;\n",
       "    }\n",
       "\n",
       "    .dataframe tbody tr th {\n",
       "        vertical-align: top;\n",
       "    }\n",
       "\n",
       "    .dataframe thead th {\n",
       "        text-align: right;\n",
       "    }\n",
       "</style>\n",
       "<table border=\"1\" class=\"dataframe\">\n",
       "  <thead>\n",
       "    <tr style=\"text-align: right;\">\n",
       "      <th></th>\n",
       "      <th>gmap_id</th>\n",
       "      <th>name</th>\n",
       "      <th>latitude</th>\n",
       "      <th>longitude</th>\n",
       "    </tr>\n",
       "  </thead>\n",
       "  <tbody>\n",
       "    <tr>\n",
       "      <th>375</th>\n",
       "      <td>0x8803aa0a9fb8fbfb:0xe71990029b83660c</td>\n",
       "      <td>subway</td>\n",
       "      <td>44.326872</td>\n",
       "      <td>-88.168373</td>\n",
       "    </tr>\n",
       "  </tbody>\n",
       "</table>\n",
       "</div>"
      ],
      "text/plain": [
       "                                   gmap_id    name   latitude  longitude\n",
       "375  0x8803aa0a9fb8fbfb:0xe71990029b83660c  subway  44.326872 -88.168373"
      ]
     },
     "execution_count": 382,
     "metadata": {},
     "output_type": "execute_result"
    }
   ],
   "source": [
    "Restaurantes_Google.sample(1)"
   ]
  },
  {
   "cell_type": "code",
   "execution_count": 383,
   "metadata": {},
   "outputs": [
    {
     "data": {
      "text/html": [
       "<div>\n",
       "<style scoped>\n",
       "    .dataframe tbody tr th:only-of-type {\n",
       "        vertical-align: middle;\n",
       "    }\n",
       "\n",
       "    .dataframe tbody tr th {\n",
       "        vertical-align: top;\n",
       "    }\n",
       "\n",
       "    .dataframe thead th {\n",
       "        text-align: right;\n",
       "    }\n",
       "</style>\n",
       "<table border=\"1\" class=\"dataframe\">\n",
       "  <thead>\n",
       "    <tr style=\"text-align: right;\">\n",
       "      <th></th>\n",
       "      <th>business_id</th>\n",
       "      <th>name</th>\n",
       "      <th>latitude</th>\n",
       "      <th>longitude</th>\n",
       "    </tr>\n",
       "  </thead>\n",
       "  <tbody>\n",
       "    <tr>\n",
       "      <th>10029</th>\n",
       "      <td>E2iT9ujoMDPm4NgcIBjTtQ</td>\n",
       "      <td>little caesar's pizza</td>\n",
       "      <td>38.69223</td>\n",
       "      <td>-90.393356</td>\n",
       "    </tr>\n",
       "  </tbody>\n",
       "</table>\n",
       "</div>"
      ],
      "text/plain": [
       "                  business_id                   name  latitude  longitude\n",
       "10029  E2iT9ujoMDPm4NgcIBjTtQ  little caesar's pizza  38.69223 -90.393356"
      ]
     },
     "execution_count": 383,
     "metadata": {},
     "output_type": "execute_result"
    }
   ],
   "source": [
    "RestaurantesYelpC.sample(1)"
   ]
  },
  {
   "cell_type": "code",
   "execution_count": 389,
   "metadata": {},
   "outputs": [],
   "source": [
    "# Merge para obtener los restaurantes comunes por 'name_normalized', 'latitude' y 'longitude'\n",
    "restaurantes_comunes = pd.merge(Restaurantes_Google, RestaurantesYelpC, on=['name','latitude','longitude'], how='inner')"
   ]
  },
  {
   "cell_type": "code",
   "execution_count": 390,
   "metadata": {},
   "outputs": [
    {
     "data": {
      "text/html": [
       "<div>\n",
       "<style scoped>\n",
       "    .dataframe tbody tr th:only-of-type {\n",
       "        vertical-align: middle;\n",
       "    }\n",
       "\n",
       "    .dataframe tbody tr th {\n",
       "        vertical-align: top;\n",
       "    }\n",
       "\n",
       "    .dataframe thead th {\n",
       "        text-align: right;\n",
       "    }\n",
       "</style>\n",
       "<table border=\"1\" class=\"dataframe\">\n",
       "  <thead>\n",
       "    <tr style=\"text-align: right;\">\n",
       "      <th></th>\n",
       "      <th>gmap_id</th>\n",
       "      <th>name</th>\n",
       "      <th>latitude</th>\n",
       "      <th>longitude</th>\n",
       "      <th>business_id</th>\n",
       "    </tr>\n",
       "  </thead>\n",
       "  <tbody>\n",
       "    <tr>\n",
       "      <th>0</th>\n",
       "      <td>0x80993f359f5361a3:0xf4b5055a79239dbf</td>\n",
       "      <td>399 sushi</td>\n",
       "      <td>39.466836</td>\n",
       "      <td>-119.784719</td>\n",
       "      <td>qQpgF5fGMTulUUtjzlsnwg</td>\n",
       "    </tr>\n",
       "  </tbody>\n",
       "</table>\n",
       "</div>"
      ],
      "text/plain": [
       "                                 gmap_id       name   latitude   longitude  \\\n",
       "0  0x80993f359f5361a3:0xf4b5055a79239dbf  399 sushi  39.466836 -119.784719   \n",
       "\n",
       "              business_id  \n",
       "0  qQpgF5fGMTulUUtjzlsnwg  "
      ]
     },
     "execution_count": 390,
     "metadata": {},
     "output_type": "execute_result"
    }
   ],
   "source": [
    "restaurantes_comunes"
   ]
  }
 ],
 "metadata": {
  "kernelspec": {
   "display_name": "Python 3.8.3 64-bit",
   "language": "python",
   "name": "python3"
  },
  "language_info": {
   "codemirror_mode": {
    "name": "ipython",
    "version": 3
   },
   "file_extension": ".py",
   "mimetype": "text/x-python",
   "name": "python",
   "nbconvert_exporter": "python",
   "pygments_lexer": "ipython3",
   "version": "3.8.3"
  },
  "orig_nbformat": 4,
  "vscode": {
   "interpreter": {
    "hash": "aee8b7b246df8f9039afb4144a1f6fd8d2ca17a180786b69acc140d282b71a49"
   }
  }
 },
 "nbformat": 4,
 "nbformat_minor": 2
}
