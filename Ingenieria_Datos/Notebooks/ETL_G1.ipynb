{
 "cells": [
  {
   "cell_type": "code",
   "execution_count": 1,
   "metadata": {},
   "outputs": [],
   "source": [
    "import pandas as pd\n",
    "import json\n",
    "import os # Operaciones relacionadas con el sistema de archivos\n",
    "import datetime\n",
    "import re"
   ]
  },
  {
   "cell_type": "markdown",
   "metadata": {},
   "source": [
    "ETL preliminar en local para la comprensión de los datos."
   ]
  },
  {
   "cell_type": "markdown",
   "metadata": {},
   "source": [
    "### Metadatos Google"
   ]
  },
  {
   "cell_type": "code",
   "execution_count": 2,
   "metadata": {},
   "outputs": [],
   "source": [
    "# Función para leer y filtrar los archivos JSON\n",
    "def filtrar_archivos_json(directorio, categoria_busqueda):\n",
    "    ''' Esta función, llamada filtrar_archivos_json, se encarga de buscar y filtrar \n",
    "        archivos JSON en un directorio específico en función de una categoría de búsqueda \n",
    "        proporcionada.   '''\n",
    "    resultados = []\n",
    "    for archivo in os.listdir(directorio):\n",
    "            ruta_archivo = os.path.join(directorio, archivo)\n",
    "\n",
    "            # Leer el contenido del archivo JSON\n",
    "            with open(ruta_archivo) as f:\n",
    "                archivo_json = f.readlines()\n",
    "\n",
    "            # Cargar archivo JSON linea por linea\n",
    "            for linea in archivo_json:\n",
    "                data = json.loads(linea)\n",
    "                # Verificar si la categoría buscada está presente en el archivo JSON\n",
    "                categorias = data.get(\"category\", [])\n",
    "                if isinstance(categorias, list) and any(categoria_busqueda.lower() in categoria.lower() for categoria in categorias):\n",
    "                    resultados.append(data)\n",
    "    return resultados"
   ]
  },
  {
   "cell_type": "code",
   "execution_count": 4,
   "metadata": {},
   "outputs": [],
   "source": [
    "# Filtrar los archivos JSON para la categoría \"restaurant\"\n",
    "restaurant = filtrar_archivos_json('../PROYECTO_FINAL_EQUIPO/Google/metadata-sitios', \"restaurant\")"
   ]
  },
  {
   "cell_type": "code",
   "execution_count": 5,
   "metadata": {},
   "outputs": [],
   "source": [
    "# Convertir los resultados a un pandas DataFrame\n",
    "df_restaurant = pd.DataFrame(restaurant)"
   ]
  },
  {
   "cell_type": "code",
   "execution_count": 7,
   "metadata": {},
   "outputs": [
    {
     "data": {
      "text/plain": [
       "(181724, 15)"
      ]
     },
     "execution_count": 7,
     "metadata": {},
     "output_type": "execute_result"
    }
   ],
   "source": [
    "#Se tienen 181724 establecimientos que son restaurantes.\n",
    "df_restaurant.shape"
   ]
  },
  {
   "cell_type": "code",
   "execution_count": 8,
   "metadata": {},
   "outputs": [
    {
     "data": {
      "text/plain": [
       "1061"
      ]
     },
     "execution_count": 8,
     "metadata": {},
     "output_type": "execute_result"
    }
   ],
   "source": [
    "#1061 restaurantes duplicados\n",
    "df_restaurant['gmap_id'].duplicated().sum()"
   ]
  },
  {
   "cell_type": "code",
   "execution_count": 18,
   "metadata": {},
   "outputs": [
    {
     "data": {
      "text/html": [
       "<div>\n",
       "<style scoped>\n",
       "    .dataframe tbody tr th:only-of-type {\n",
       "        vertical-align: middle;\n",
       "    }\n",
       "\n",
       "    .dataframe tbody tr th {\n",
       "        vertical-align: top;\n",
       "    }\n",
       "\n",
       "    .dataframe thead th {\n",
       "        text-align: right;\n",
       "    }\n",
       "</style>\n",
       "<table border=\"1\" class=\"dataframe\">\n",
       "  <thead>\n",
       "    <tr style=\"text-align: right;\">\n",
       "      <th></th>\n",
       "      <th>name</th>\n",
       "      <th>address</th>\n",
       "      <th>gmap_id</th>\n",
       "      <th>description</th>\n",
       "      <th>latitude</th>\n",
       "      <th>longitude</th>\n",
       "      <th>category</th>\n",
       "      <th>avg_rating</th>\n",
       "      <th>num_of_reviews</th>\n",
       "      <th>price</th>\n",
       "      <th>hours</th>\n",
       "      <th>MISC</th>\n",
       "      <th>state</th>\n",
       "      <th>relative_results</th>\n",
       "      <th>url</th>\n",
       "    </tr>\n",
       "  </thead>\n",
       "  <tbody>\n",
       "    <tr>\n",
       "      <th>63908</th>\n",
       "      <td>Bar 91</td>\n",
       "      <td>Bar 91, 400 Ave of the Champions, Palm Beach G...</td>\n",
       "      <td>0x146c6711a70d7991:0xe478335f760c8ccc</td>\n",
       "      <td>None</td>\n",
       "      <td>26.828991</td>\n",
       "      <td>-80.141201</td>\n",
       "      <td>[Bar &amp; grill, Bar, Restaurant, Sports bar]</td>\n",
       "      <td>3.9</td>\n",
       "      <td>8</td>\n",
       "      <td>None</td>\n",
       "      <td>[[Wednesday, 6:30AM–9PM], [Thursday, 6:30AM–9P...</td>\n",
       "      <td>{'Service options': ['Outdoor seating', 'Takeo...</td>\n",
       "      <td>Closed ⋅ Opens 6:30AM Thu</td>\n",
       "      <td>[0x88ded52e4b87e21d:0x773ff6613ec82a36, 0x88de...</td>\n",
       "      <td>https://www.google.com/maps/place//data=!4m2!3...</td>\n",
       "    </tr>\n",
       "    <tr>\n",
       "      <th>64969</th>\n",
       "      <td>Bar 91</td>\n",
       "      <td>Bar 91, 400 Ave of the Champions, Palm Beach G...</td>\n",
       "      <td>0x146c6711a70d7991:0xe478335f760c8ccc</td>\n",
       "      <td>None</td>\n",
       "      <td>26.828991</td>\n",
       "      <td>-80.141201</td>\n",
       "      <td>[Bar &amp; grill, Bar, Restaurant, Sports bar]</td>\n",
       "      <td>3.9</td>\n",
       "      <td>8</td>\n",
       "      <td>None</td>\n",
       "      <td>[[Wednesday, 6:30AM–9PM], [Thursday, 6:30AM–9P...</td>\n",
       "      <td>{'Service options': ['Outdoor seating', 'Takeo...</td>\n",
       "      <td>Closed ⋅ Opens 6:30AM Thu</td>\n",
       "      <td>[0x88ded52e4b87e21d:0x773ff6613ec82a36, 0x88de...</td>\n",
       "      <td>https://www.google.com/maps/place//data=!4m2!3...</td>\n",
       "    </tr>\n",
       "  </tbody>\n",
       "</table>\n",
       "</div>"
      ],
      "text/plain": [
       "         name                                            address  \\\n",
       "63908  Bar 91  Bar 91, 400 Ave of the Champions, Palm Beach G...   \n",
       "64969  Bar 91  Bar 91, 400 Ave of the Champions, Palm Beach G...   \n",
       "\n",
       "                                     gmap_id description   latitude  \\\n",
       "63908  0x146c6711a70d7991:0xe478335f760c8ccc        None  26.828991   \n",
       "64969  0x146c6711a70d7991:0xe478335f760c8ccc        None  26.828991   \n",
       "\n",
       "       longitude                                    category  avg_rating  \\\n",
       "63908 -80.141201  [Bar & grill, Bar, Restaurant, Sports bar]         3.9   \n",
       "64969 -80.141201  [Bar & grill, Bar, Restaurant, Sports bar]         3.9   \n",
       "\n",
       "       num_of_reviews price  \\\n",
       "63908               8  None   \n",
       "64969               8  None   \n",
       "\n",
       "                                                   hours  \\\n",
       "63908  [[Wednesday, 6:30AM–9PM], [Thursday, 6:30AM–9P...   \n",
       "64969  [[Wednesday, 6:30AM–9PM], [Thursday, 6:30AM–9P...   \n",
       "\n",
       "                                                    MISC  \\\n",
       "63908  {'Service options': ['Outdoor seating', 'Takeo...   \n",
       "64969  {'Service options': ['Outdoor seating', 'Takeo...   \n",
       "\n",
       "                           state  \\\n",
       "63908  Closed ⋅ Opens 6:30AM Thu   \n",
       "64969  Closed ⋅ Opens 6:30AM Thu   \n",
       "\n",
       "                                        relative_results  \\\n",
       "63908  [0x88ded52e4b87e21d:0x773ff6613ec82a36, 0x88de...   \n",
       "64969  [0x88ded52e4b87e21d:0x773ff6613ec82a36, 0x88de...   \n",
       "\n",
       "                                                     url  \n",
       "63908  https://www.google.com/maps/place//data=!4m2!3...  \n",
       "64969  https://www.google.com/maps/place//data=!4m2!3...  "
      ]
     },
     "execution_count": 18,
     "metadata": {},
     "output_type": "execute_result"
    }
   ],
   "source": [
    "#Revisión de restaurantes duplicados\n",
    "restaurantes_duplicados = df_restaurant[df_restaurant['gmap_id'].duplicated(keep=False)]\n",
    "# Ordena los restaurantes duplicados por gmap_id\n",
    "restaurantes_duplicados_ordenados = restaurantes_duplicados.sort_values(by='gmap_id')\n",
    "restaurantes_duplicados_ordenados.head(2)\n"
   ]
  },
  {
   "cell_type": "code",
   "execution_count": 9,
   "metadata": {},
   "outputs": [],
   "source": [
    "#Paso 1: Eliminar duplicados\n",
    "df_restaurant.drop_duplicates(subset='gmap_id',inplace=True) "
   ]
  },
  {
   "cell_type": "code",
   "execution_count": 10,
   "metadata": {},
   "outputs": [
    {
     "data": {
      "text/plain": [
       "(180663, 15)"
      ]
     },
     "execution_count": 10,
     "metadata": {},
     "output_type": "execute_result"
    }
   ],
   "source": [
    "#Tenemos 180,663 establecimientos con 15 atributos, de los cuales es necesario cuales tienen\n",
    "#realmente reseñas para los futuros análisis.\n",
    "df_restaurant.shape"
   ]
  },
  {
   "cell_type": "markdown",
   "metadata": {},
   "source": [
    "### Revisión de algunas columnas a eliminar"
   ]
  },
  {
   "cell_type": "code",
   "execution_count": 154,
   "metadata": {},
   "outputs": [
    {
     "data": {
      "text/plain": [
       "['0x5495b2cea4d3a7f7:0xd788b88074f97be6',\n",
       " '0x5495a8ba9e39a85f:0xfbe5938763a14568',\n",
       " '0x54944d01d969e923:0xf8cc1e24f8aaeb50',\n",
       " '0x54944d27a2b501fd:0xde3ce099feaa6d78',\n",
       " '0x5495a9b18b24d4d7:0x93026337fd559ca3']"
      ]
     },
     "execution_count": 154,
     "metadata": {},
     "output_type": "execute_result"
    }
   ],
   "source": [
    "# relative_results hace referencia de recomendación a otros negocios\n",
    "# pero dado que nos interesa hacer un sistema propio de recomendaciones, lo dejaremos de lado.\n",
    "df_restaurant['relative_results'][1] "
   ]
  },
  {
   "cell_type": "code",
   "execution_count": 155,
   "metadata": {},
   "outputs": [
    {
     "data": {
      "text/html": [
       "<div>\n",
       "<style scoped>\n",
       "    .dataframe tbody tr th:only-of-type {\n",
       "        vertical-align: middle;\n",
       "    }\n",
       "\n",
       "    .dataframe tbody tr th {\n",
       "        vertical-align: top;\n",
       "    }\n",
       "\n",
       "    .dataframe thead th {\n",
       "        text-align: right;\n",
       "    }\n",
       "</style>\n",
       "<table border=\"1\" class=\"dataframe\">\n",
       "  <thead>\n",
       "    <tr style=\"text-align: right;\">\n",
       "      <th></th>\n",
       "      <th>name</th>\n",
       "      <th>address</th>\n",
       "      <th>gmap_id</th>\n",
       "      <th>description</th>\n",
       "      <th>latitude</th>\n",
       "      <th>longitude</th>\n",
       "      <th>category</th>\n",
       "      <th>avg_rating</th>\n",
       "      <th>num_of_reviews</th>\n",
       "      <th>price</th>\n",
       "      <th>hours</th>\n",
       "      <th>MISC</th>\n",
       "      <th>state</th>\n",
       "      <th>relative_results</th>\n",
       "      <th>url</th>\n",
       "    </tr>\n",
       "  </thead>\n",
       "  <tbody>\n",
       "  </tbody>\n",
       "</table>\n",
       "</div>"
      ],
      "text/plain": [
       "Empty DataFrame\n",
       "Columns: [name, address, gmap_id, description, latitude, longitude, category, avg_rating, num_of_reviews, price, hours, MISC, state, relative_results, url]\n",
       "Index: []"
      ]
     },
     "execution_count": 155,
     "metadata": {},
     "output_type": "execute_result"
    }
   ],
   "source": [
    "#Muchos de los datos que 'relative_results' arroja no están en nuestro DF\n",
    "df_restaurant[df_restaurant['gmap_id']== '0x5495b2cea4d3a7f7:0xd788b88074f97be6']"
   ]
  },
  {
   "cell_type": "code",
   "execution_count": 156,
   "metadata": {},
   "outputs": [
    {
     "data": {
      "text/plain": [
       "'Permanently closed'"
      ]
     },
     "execution_count": 156,
     "metadata": {},
     "output_type": "execute_result"
    }
   ],
   "source": [
    "#Nos dice el estado en el que se encuentra el restaurante al momento que se \n",
    "# extrajeron los datos por lo que no es relevante para nuestro análisis\n",
    "df_restaurant['state'][1]"
   ]
  },
  {
   "cell_type": "markdown",
   "metadata": {},
   "source": [
    "### Reviews-estados\n",
    "\n",
    "Se hace la carga de las Reviews para obtener las que pertenezcan a los restaurantes y eliminar los restaurantes que no tengan Reviews. "
   ]
  },
  {
   "cell_type": "code",
   "execution_count": null,
   "metadata": {},
   "outputs": [],
   "source": [
    "ruta_reviews_estados = \"../PROYECTO_FINAL_EQUIPO/Google/reviews-estados/\"\n",
    "rutas_subfolders = [f.path for f in os.scandir(ruta_reviews_estados) if f.is_dir()]"
   ]
  },
  {
   "cell_type": "code",
   "execution_count": null,
   "metadata": {},
   "outputs": [],
   "source": [
    "def df_json(ruta_folder):\n",
    "    '''Unión de archivos en un DataFrame '''\n",
    "# Inicializa una lista para almacenar los objetos JSON de los archivos\n",
    "    data = []\n",
    "    \n",
    "    # Itera a través de los archivos en la carpeta especificada\n",
    "    for file_name in os.listdir(ruta_folder):\n",
    "        # Construye la ruta completa de cada archivo\n",
    "        file_path = os.path.join(ruta_folder, file_name)\n",
    "        # Abre el archivo en modo lectura ('r')\n",
    "        with open(file_path, 'r') as file:\n",
    "            # Itera a través de las líneas del archivo\n",
    "            for line in file:\n",
    "                # Elimina espacios en blanco al principio y al final de la línea\n",
    "                line = line.strip()\n",
    "                # Intenta cargar la línea como un objeto JSON\n",
    "                json_obj = json.loads(line)\n",
    "                    # Agrega el objeto JSON a la lista de datos\n",
    "                data.append(json_obj)\n",
    "\n",
    "    # Crea un DataFrame de pandas a partir de la lista de datos\n",
    "    df = pd.DataFrame(data)\n",
    "    \n",
    "    # Devuelve el DataFrame resultante\n",
    "    return df"
   ]
  },
  {
   "cell_type": "code",
   "execution_count": null,
   "metadata": {},
   "outputs": [],
   "source": [
    "def df_json_general(subfolders):\n",
    "    # Inicializa una lista para almacenar DataFrames individuales\n",
    "    df_list = []\n",
    "    \n",
    "    # Itera a través de las subcarpetas especificadas\n",
    "    for subfolder in subfolders:\n",
    "        # Llama a la función read_json_files para procesar los archivos JSON en la subcarpeta\n",
    "        df = df_json(subfolder)\n",
    "        \n",
    "        # Agrega el DataFrame resultante a la lista\n",
    "        df_list.append(df)\n",
    "    \n",
    "    # Devuelve una lista de DataFrames, uno por cada subcarpeta\n",
    "    return df_list"
   ]
  },
  {
   "cell_type": "code",
   "execution_count": null,
   "metadata": {},
   "outputs": [],
   "source": [
    "lista_df = df_json_general(rutas_subfolders)\n",
    "dfreviews = pd.concat(lista_df, ignore_index=True)"
   ]
  },
  {
   "cell_type": "code",
   "execution_count": 35,
   "metadata": {},
   "outputs": [
    {
     "data": {
      "text/plain": [
       "(80624057, 8)"
      ]
     },
     "execution_count": 35,
     "metadata": {},
     "output_type": "execute_result"
    }
   ],
   "source": [
    "#80624057 rows × 8 columns\n",
    "dfreviews.shape"
   ]
  },
  {
   "cell_type": "code",
   "execution_count": null,
   "metadata": {},
   "outputs": [],
   "source": [
    "#Transformación del dato tiempo.\n",
    "def convertir_a_datetime(timestamp_ms):\n",
    "    fecha_hora = datetime.datetime.fromtimestamp(timestamp_ms / 1000.0)  # Dividir por 1000 para convertir a segundos\n",
    "    return fecha_hora"
   ]
  },
  {
   "cell_type": "code",
   "execution_count": 36,
   "metadata": {},
   "outputs": [],
   "source": [
    "dfreviews['time'] = dfreviews['time'].apply(convertir_a_datetime)\n"
   ]
  },
  {
   "cell_type": "code",
   "execution_count": 39,
   "metadata": {},
   "outputs": [],
   "source": [
    "dfreviews['time'] = pd.to_datetime(dfreviews['time'], format='%Y-%m-%d', errors='coerce')"
   ]
  },
  {
   "cell_type": "markdown",
   "metadata": {},
   "source": [
    "#### SELECCIÓN DE RESTAURANTES CON RESEÑAS"
   ]
  },
  {
   "cell_type": "code",
   "execution_count": 22,
   "metadata": {},
   "outputs": [],
   "source": [
    "#Obtenemos los establecimientos que tienen Reviews\n",
    "id_establecimientos_con_reviews = dfreviews[\"gmap_id\"].unique()"
   ]
  },
  {
   "cell_type": "code",
   "execution_count": 23,
   "metadata": {},
   "outputs": [
    {
     "data": {
      "text/plain": [
       "1178143"
      ]
     },
     "execution_count": 23,
     "metadata": {},
     "output_type": "execute_result"
    }
   ],
   "source": [
    "#Se tienen 1,178,143 establecimientos únicos o que tienen una review.\n",
    "id_establecimientos_con_reviews.shape[0]"
   ]
  },
  {
   "cell_type": "code",
   "execution_count": 25,
   "metadata": {},
   "outputs": [],
   "source": [
    "#Filtrar los restaurantes que tienen Reviews.\n",
    "df_restaurantes = df_restaurant[df_restaurant[\"gmap_id\"].isin(id_establecimientos_con_reviews)].reset_index(drop=True)"
   ]
  },
  {
   "cell_type": "code",
   "execution_count": 47,
   "metadata": {},
   "outputs": [
    {
     "data": {
      "text/plain": [
       "(84326, 15)"
      ]
     },
     "execution_count": 47,
     "metadata": {},
     "output_type": "execute_result"
    }
   ],
   "source": [
    "#Finalmente tenemos 84,326 restaurantes con reseñas. \n",
    "df_restaurantes.shape"
   ]
  },
  {
   "cell_type": "markdown",
   "metadata": {},
   "source": [
    "#### Filtrar reseñas de Restaurantes"
   ]
  },
  {
   "cell_type": "code",
   "execution_count": 27,
   "metadata": {},
   "outputs": [],
   "source": [
    "#Restaurantes únicos\n",
    "filtro=df_restaurantes['gmap_id'].unique()"
   ]
  },
  {
   "cell_type": "code",
   "execution_count": 30,
   "metadata": {},
   "outputs": [],
   "source": [
    "#Reseñas de restaurantes únicos\n",
    "dfreviews = dfreviews[dfreviews[\"gmap_id\"].isin(filtro)]"
   ]
  },
  {
   "cell_type": "code",
   "execution_count": 31,
   "metadata": {},
   "outputs": [
    {
     "data": {
      "text/plain": [
       "(4709086, 8)"
      ]
     },
     "execution_count": 31,
     "metadata": {},
     "output_type": "execute_result"
    }
   ],
   "source": [
    "#Obtenemos 4,709,086 de reseñas para los #84,326 restaurantes\n",
    "dfreviews.shape"
   ]
  },
  {
   "cell_type": "markdown",
   "metadata": {},
   "source": [
    "#### Pequeña limpieza de la columna texto para su posterior uso. "
   ]
  },
  {
   "cell_type": "code",
   "execution_count": 55,
   "metadata": {},
   "outputs": [],
   "source": [
    "dfreviews['text']=dfreviews['text'].fillna('')"
   ]
  },
  {
   "cell_type": "code",
   "execution_count": 57,
   "metadata": {},
   "outputs": [],
   "source": [
    "def limpiar_texto(texto):\n",
    "    if isinstance(texto, str):  # Verifica si el valor es una cadena de texto\n",
    "        # Utiliza una expresión regular para eliminar caracteres especiales y números\n",
    "        texto_limpio = re.sub(r'[^a-zA-Z\\s]', '', texto)\n",
    "        return texto_limpio\n",
    "    else:\n",
    "        return texto  # Devuelve el valor original si no es una cadena de texto"
   ]
  },
  {
   "cell_type": "code",
   "execution_count": 58,
   "metadata": {},
   "outputs": [],
   "source": [
    "dfreviews['text'] = dfreviews['text'].apply(limpiar_texto)"
   ]
  },
  {
   "cell_type": "code",
   "execution_count": 65,
   "metadata": {},
   "outputs": [
    {
     "data": {
      "text/html": [
       "<div>\n",
       "<style scoped>\n",
       "    .dataframe tbody tr th:only-of-type {\n",
       "        vertical-align: middle;\n",
       "    }\n",
       "\n",
       "    .dataframe tbody tr th {\n",
       "        vertical-align: top;\n",
       "    }\n",
       "\n",
       "    .dataframe thead th {\n",
       "        text-align: right;\n",
       "    }\n",
       "</style>\n",
       "<table border=\"1\" class=\"dataframe\">\n",
       "  <thead>\n",
       "    <tr style=\"text-align: right;\">\n",
       "      <th></th>\n",
       "      <th>user_id</th>\n",
       "      <th>name</th>\n",
       "      <th>time</th>\n",
       "      <th>rating</th>\n",
       "      <th>text</th>\n",
       "      <th>business_id</th>\n",
       "    </tr>\n",
       "  </thead>\n",
       "  <tbody>\n",
       "    <tr>\n",
       "      <th>1692040</th>\n",
       "      <td>102762323164773988805</td>\n",
       "      <td>Chris Petetsen</td>\n",
       "      <td>2021-03-01</td>\n",
       "      <td>5</td>\n",
       "      <td>Very friendly people</td>\n",
       "      <td>0x88530dbbd6d510f7:0xbf3bfe826a5897ca</td>\n",
       "    </tr>\n",
       "  </tbody>\n",
       "</table>\n",
       "</div>"
      ],
      "text/plain": [
       "                       user_id            name        time  rating  \\\n",
       "1692040  102762323164773988805  Chris Petetsen  2021-03-01       5   \n",
       "\n",
       "                         text                            business_id  \n",
       "1692040  Very friendly people  0x88530dbbd6d510f7:0xbf3bfe826a5897ca  "
      ]
     },
     "execution_count": 65,
     "metadata": {},
     "output_type": "execute_result"
    }
   ],
   "source": [
    "dfreviews[dfreviews['user_id']== '102762323164773988805']"
   ]
  },
  {
   "cell_type": "code",
   "execution_count": 59,
   "metadata": {},
   "outputs": [],
   "source": [
    "#Aún es necesario tener criterios más estrictos para la selección de datos \n",
    "# a analizar.\n",
    "dfreviews.to_csv('Reviews_Datawarahouse.csv',index=False)"
   ]
  }
 ],
 "metadata": {
  "kernelspec": {
   "display_name": "Python 3.8.3 64-bit",
   "language": "python",
   "name": "python3"
  },
  "language_info": {
   "codemirror_mode": {
    "name": "ipython",
    "version": 3
   },
   "file_extension": ".py",
   "mimetype": "text/x-python",
   "name": "python",
   "nbconvert_exporter": "python",
   "pygments_lexer": "ipython3",
   "version": "3.8.3"
  },
  "orig_nbformat": 4,
  "vscode": {
   "interpreter": {
    "hash": "aee8b7b246df8f9039afb4144a1f6fd8d2ca17a180786b69acc140d282b71a49"
   }
  }
 },
 "nbformat": 4,
 "nbformat_minor": 2
}
